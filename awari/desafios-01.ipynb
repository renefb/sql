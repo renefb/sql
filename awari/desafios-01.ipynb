{
    "metadata": {
        "kernelspec": {
            "name": "SQL",
            "display_name": "SQL",
            "language": "sql"
        },
        "language_info": {
            "name": "sql",
            "version": ""
        }
    },
    "nbformat_minor": 2,
    "nbformat": 4,
    "cells": [
        {
            "cell_type": "markdown",
            "source": [
                "# Desafios de SQL 1\n",
                "\n",
                "<sup>1</sup> Todos os desafios usam como base o dataset disponibilizado pela Olist no [Kaggle](https://www.kaggle.com/olistbr/brazilian-ecommerce/).\n",
                "\n",
                "<sup>2</sup> O dataset foi carregado num banco de dados Azure SQL Server, conforme descrito na [apresentação](.\\README.md).\n",
                "\n",
                "<sup>3</sup> Quando não houver prejuízos à interpretação dos resultados, as consultas serão limitadas a um número específico de linhas (geralmente as 20 primeiras)."
            ],
            "metadata": {
                "azdata_cell_guid": "44a8cedd-f4f1-4905-a1dd-294c2f5a88f1"
            },
            "attachments": {}
        },
        {
            "cell_type": "markdown",
            "source": [
                "<hr>\n",
                "<br>\n",
                "  \n",
                "\n",
                "### **1**. Selecione os dados da tabela de pagamentos onde só apareçam os tipos de pagamento “VOUCHER” e “BOLETO”:"
            ],
            "metadata": {
                "azdata_cell_guid": "436bcce5-9714-4a03-9d05-8c88d48ecd4b"
            },
            "attachments": {}
        },
        {
            "cell_type": "code",
            "source": [
                "SELECT TOP 20 * \r\n",
                "FROM olist.order_payments\r\n",
                "WHERE payment_type IN ('voucher', 'boleto');"
            ],
            "metadata": {
                "azdata_cell_guid": "3952433e-4927-4e72-81ce-a3f3e0866fff",
                "tags": []
            },
            "outputs": [
                {
                    "output_type": "display_data",
                    "data": {
                        "text/html": "(20 rows affected)"
                    },
                    "metadata": {}
                },
                {
                    "output_type": "display_data",
                    "data": {
                        "text/html": "Total execution time: 00:00:00.158"
                    },
                    "metadata": {}
                },
                {
                    "output_type": "execute_result",
                    "execution_count": 1,
                    "data": {
                        "application/vnd.dataresource+json": {
                            "schema": {
                                "fields": [
                                    {
                                        "name": "order_id"
                                    },
                                    {
                                        "name": "payment_sequential"
                                    },
                                    {
                                        "name": "payment_type"
                                    },
                                    {
                                        "name": "payment_installments"
                                    },
                                    {
                                        "name": "payment_value"
                                    }
                                ]
                            },
                            "data": [
                                {
                                    "0": "0573b5e23cbd798006520e1d5b4c6714",
                                    "1": "1",
                                    "2": "boleto",
                                    "3": "1",
                                    "4": "51,95"
                                },
                                {
                                    "0": "8cd68144cdb62dc0d60848cf8616d2a4",
                                    "1": "1",
                                    "2": "boleto",
                                    "3": "1",
                                    "4": "330,66"
                                },
                                {
                                    "0": "5cfd514482e22bc992e7693f0e3e8df7",
                                    "1": "2",
                                    "2": "voucher",
                                    "3": "1",
                                    "4": "45,17"
                                },
                                {
                                    "0": "b69b9260e79a0da00e15f48de1bd2524",
                                    "1": "1",
                                    "2": "boleto",
                                    "3": "1",
                                    "4": "283,34"
                                },
                                {
                                    "0": "00d8d65b666158b633f96054d31af43b",
                                    "1": "1",
                                    "2": "boleto",
                                    "3": "1",
                                    "4": "130,88"
                                },
                                {
                                    "0": "32b1d8f3789a57f1f752e20ac7404b4c",
                                    "1": "1",
                                    "2": "boleto",
                                    "3": "1",
                                    "4": "56,60"
                                },
                                {
                                    "0": "56c3277583e16009c925fdf116df420f",
                                    "1": "1",
                                    "2": "boleto",
                                    "3": "1",
                                    "4": "31,38"
                                },
                                {
                                    "0": "1ffb3c1929b16d9c1aec1958e11b3e9b",
                                    "1": "1",
                                    "2": "boleto",
                                    "3": "1",
                                    "4": "166,04"
                                },
                                {
                                    "0": "95442deb81a5d91c97c0df96b431634a",
                                    "1": "1",
                                    "2": "boleto",
                                    "3": "1",
                                    "4": "368,98"
                                },
                                {
                                    "0": "10d9871bed9fb8d0887d3b9022edd1ff",
                                    "1": "1",
                                    "2": "boleto",
                                    "3": "1",
                                    "4": "84,14"
                                },
                                {
                                    "0": "fc662bafa52d2ef16078f6f6141009d6",
                                    "1": "1",
                                    "2": "boleto",
                                    "3": "1",
                                    "4": "90,05"
                                },
                                {
                                    "0": "55e2d723733c45033e71cb4d44690234",
                                    "1": "1",
                                    "2": "boleto",
                                    "3": "1",
                                    "4": "89,63"
                                },
                                {
                                    "0": "947e9c6bfd83a06953c420ef92d3da6e",
                                    "1": "1",
                                    "2": "voucher",
                                    "3": "1",
                                    "4": "69,46"
                                },
                                {
                                    "0": "e3e9e3295f4e1512167c232a0aaae8a5",
                                    "1": "1",
                                    "2": "voucher",
                                    "3": "1",
                                    "4": "50,80"
                                },
                                {
                                    "0": "4cb51127f19f7254b320efe1718477dd",
                                    "1": "1",
                                    "2": "boleto",
                                    "3": "1",
                                    "4": "77,10"
                                },
                                {
                                    "0": "3689194c14ad4e2e7361ebd1df0e77b0",
                                    "1": "2",
                                    "2": "voucher",
                                    "3": "1",
                                    "4": "57,53"
                                },
                                {
                                    "0": "96de2b7f7f3c401fbee3eef068376da6",
                                    "1": "1",
                                    "2": "boleto",
                                    "3": "1",
                                    "4": "32,15"
                                },
                                {
                                    "0": "21b8b46679ea6482cbf911d960490048",
                                    "1": "2",
                                    "2": "voucher",
                                    "3": "1",
                                    "4": "43,12"
                                },
                                {
                                    "0": "f49cd89d6dad6dd5759ecf15dfe4bb19",
                                    "1": "1",
                                    "2": "boleto",
                                    "3": "1",
                                    "4": "47,00"
                                },
                                {
                                    "0": "ea9184ad433a404df1d72fa0a8764232",
                                    "1": "4",
                                    "2": "voucher",
                                    "3": "1",
                                    "4": "22,49"
                                }
                            ]
                        },
                        "text/html": "<table><tr><th>order_id</th><th>payment_sequential</th><th>payment_type</th><th>payment_installments</th><th>payment_value</th></tr><tr><td>0573b5e23cbd798006520e1d5b4c6714</td><td>1</td><td>boleto</td><td>1</td><td>51,95</td></tr><tr><td>8cd68144cdb62dc0d60848cf8616d2a4</td><td>1</td><td>boleto</td><td>1</td><td>330,66</td></tr><tr><td>5cfd514482e22bc992e7693f0e3e8df7</td><td>2</td><td>voucher</td><td>1</td><td>45,17</td></tr><tr><td>b69b9260e79a0da00e15f48de1bd2524</td><td>1</td><td>boleto</td><td>1</td><td>283,34</td></tr><tr><td>00d8d65b666158b633f96054d31af43b</td><td>1</td><td>boleto</td><td>1</td><td>130,88</td></tr><tr><td>32b1d8f3789a57f1f752e20ac7404b4c</td><td>1</td><td>boleto</td><td>1</td><td>56,60</td></tr><tr><td>56c3277583e16009c925fdf116df420f</td><td>1</td><td>boleto</td><td>1</td><td>31,38</td></tr><tr><td>1ffb3c1929b16d9c1aec1958e11b3e9b</td><td>1</td><td>boleto</td><td>1</td><td>166,04</td></tr><tr><td>95442deb81a5d91c97c0df96b431634a</td><td>1</td><td>boleto</td><td>1</td><td>368,98</td></tr><tr><td>10d9871bed9fb8d0887d3b9022edd1ff</td><td>1</td><td>boleto</td><td>1</td><td>84,14</td></tr><tr><td>fc662bafa52d2ef16078f6f6141009d6</td><td>1</td><td>boleto</td><td>1</td><td>90,05</td></tr><tr><td>55e2d723733c45033e71cb4d44690234</td><td>1</td><td>boleto</td><td>1</td><td>89,63</td></tr><tr><td>947e9c6bfd83a06953c420ef92d3da6e</td><td>1</td><td>voucher</td><td>1</td><td>69,46</td></tr><tr><td>e3e9e3295f4e1512167c232a0aaae8a5</td><td>1</td><td>voucher</td><td>1</td><td>50,80</td></tr><tr><td>4cb51127f19f7254b320efe1718477dd</td><td>1</td><td>boleto</td><td>1</td><td>77,10</td></tr><tr><td>3689194c14ad4e2e7361ebd1df0e77b0</td><td>2</td><td>voucher</td><td>1</td><td>57,53</td></tr><tr><td>96de2b7f7f3c401fbee3eef068376da6</td><td>1</td><td>boleto</td><td>1</td><td>32,15</td></tr><tr><td>21b8b46679ea6482cbf911d960490048</td><td>2</td><td>voucher</td><td>1</td><td>43,12</td></tr><tr><td>f49cd89d6dad6dd5759ecf15dfe4bb19</td><td>1</td><td>boleto</td><td>1</td><td>47,00</td></tr><tr><td>ea9184ad433a404df1d72fa0a8764232</td><td>4</td><td>voucher</td><td>1</td><td>22,49</td></tr></table>"
                    },
                    "metadata": {}
                }
            ],
            "execution_count": 1
        },
        {
            "cell_type": "markdown",
            "source": [
                "<br>\n",
                "<hr>\n",
                "<br>  \n",
                "\n",
                "### **2**. Retorne os campos da tabela de produtos e calcule o volume de vendas de cada produto em um novo campo:"
            ],
            "metadata": {
                "azdata_cell_guid": "d7c6dc09-e2d1-41ac-bf83-a6f05713ccaa"
            },
            "attachments": {}
        },
        {
            "cell_type": "code",
            "source": [
                "WITH q (product_id, product_qty_sold) AS\r\n",
                "(\r\n",
                "    SELECT \r\n",
                "        product_id\r\n",
                "        ,COUNT(order_id) AS product_qty_sold\r\n",
                "    FROM [olist].[order_items]\r\n",
                "    GROUP BY product_id\r\n",
                ")\r\n",
                "SELECT \r\n",
                "    TOP 20\r\n",
                "     p.product_id\r\n",
                "    ,p.product_category_name\r\n",
                "    ,p.product_name_length\r\n",
                "    ,'...' AS [...]  -- omiti algumas colunas por simplicidade\r\n",
                "    ,q.product_qty_sold\r\n",
                "FROM olist.products AS p\r\n",
                "INNER JOIN q ON (q.product_id = p.product_id)\r\n",
                "ORDER BY q.product_qty_sold DESC"
            ],
            "metadata": {
                "azdata_cell_guid": "440fbe8d-4c18-4f5b-9e86-fba6e6ec3f7d"
            },
            "outputs": [
                {
                    "output_type": "display_data",
                    "data": {
                        "text/html": "(20 rows affected)"
                    },
                    "metadata": {}
                },
                {
                    "output_type": "display_data",
                    "data": {
                        "text/html": "Total execution time: 00:00:01.006"
                    },
                    "metadata": {}
                },
                {
                    "output_type": "execute_result",
                    "metadata": {},
                    "execution_count": 6,
                    "data": {
                        "application/vnd.dataresource+json": {
                            "schema": {
                                "fields": [
                                    {
                                        "name": "product_id"
                                    },
                                    {
                                        "name": "product_category_name"
                                    },
                                    {
                                        "name": "product_name_length"
                                    },
                                    {
                                        "name": "..."
                                    },
                                    {
                                        "name": "product_qty_sold"
                                    }
                                ]
                            },
                            "data": [
                                {
                                    "0": "aca2eb7d00ea1a7b8ebd4e68314663af",
                                    "1": "moveis_decoracao",
                                    "2": "44",
                                    "3": "...",
                                    "4": "527"
                                },
                                {
                                    "0": "99a4788cb24856965c36a24e339b6058",
                                    "1": "cama_mesa_banho",
                                    "2": "54",
                                    "3": "...",
                                    "4": "488"
                                },
                                {
                                    "0": "422879e10f46682990de24d770e7f83d",
                                    "1": "ferramentas_jardim",
                                    "2": "56",
                                    "3": "...",
                                    "4": "484"
                                },
                                {
                                    "0": "389d119b48cf3043d311335e499d9c6b",
                                    "1": "ferramentas_jardim",
                                    "2": "59",
                                    "3": "...",
                                    "4": "392"
                                },
                                {
                                    "0": "368c6c730842d78016ad823897a372db",
                                    "1": "ferramentas_jardim",
                                    "2": "57",
                                    "3": "...",
                                    "4": "388"
                                },
                                {
                                    "0": "53759a2ecddad2bb87a079a1f1519f73",
                                    "1": "ferramentas_jardim",
                                    "2": "58",
                                    "3": "...",
                                    "4": "373"
                                },
                                {
                                    "0": "d1c427060a0f73f6b889a5c7c61f2ac4",
                                    "1": "informatica_acessorios",
                                    "2": "59",
                                    "3": "...",
                                    "4": "343"
                                },
                                {
                                    "0": "53b36df67ebb7c41585e8d54d6772e08",
                                    "1": "relogios_presentes",
                                    "2": "33",
                                    "3": "...",
                                    "4": "323"
                                },
                                {
                                    "0": "154e7e31ebfa092203795c972e5804a6",
                                    "1": "beleza_saude",
                                    "2": "48",
                                    "3": "...",
                                    "4": "281"
                                },
                                {
                                    "0": "3dd2a17168ec895c781a9191c1e95ad7",
                                    "1": "informatica_acessorios",
                                    "2": "48",
                                    "3": "...",
                                    "4": "274"
                                },
                                {
                                    "0": "2b4609f8948be18874494203496bc318",
                                    "1": "beleza_saude",
                                    "2": "59",
                                    "3": "...",
                                    "4": "260"
                                },
                                {
                                    "0": "7c1bd920dbdf22470b68bde975dd3ccf",
                                    "1": "beleza_saude",
                                    "2": "59",
                                    "3": "...",
                                    "4": "231"
                                },
                                {
                                    "0": "a62e25e09e05e6faf31d90c6ec1aa3d1",
                                    "1": "relogios_presentes",
                                    "2": "58",
                                    "3": "...",
                                    "4": "226"
                                },
                                {
                                    "0": "5a848e4ab52fd5445cdc07aab1c40e48",
                                    "1": "NULL",
                                    "2": "NULL",
                                    "3": "...",
                                    "4": "197"
                                },
                                {
                                    "0": "bb50f2e236e5eea0100680137654686c",
                                    "1": "beleza_saude",
                                    "2": "60",
                                    "3": "...",
                                    "4": "195"
                                },
                                {
                                    "0": "e0d64dcfaa3b6db5c54ca298ae101d05",
                                    "1": "relogios_presentes",
                                    "2": "35",
                                    "3": "...",
                                    "4": "194"
                                },
                                {
                                    "0": "e53e557d5a159f5aa2c5e995dfdf244b",
                                    "1": "informatica_acessorios",
                                    "2": "33",
                                    "3": "...",
                                    "4": "183"
                                },
                                {
                                    "0": "42a2c92a0979a949ca4ea89ec5c7b934",
                                    "1": "utilidades_domesticas",
                                    "2": "41",
                                    "3": "...",
                                    "4": "183"
                                },
                                {
                                    "0": "b532349fe46b38fbc7bb3914c1bdae07",
                                    "1": "moveis_decoracao",
                                    "2": "49",
                                    "3": "...",
                                    "4": "169"
                                },
                                {
                                    "0": "35afc973633aaeb6b877ff57b2793310",
                                    "1": "casa_conforto",
                                    "2": "56",
                                    "3": "...",
                                    "4": "165"
                                }
                            ]
                        },
                        "text/html": [
                            "<table>",
                            "<tr><th>product_id</th><th>product_category_name</th><th>product_name_length</th><th>...</th><th>product_qty_sold</th></tr>",
                            "<tr><td>aca2eb7d00ea1a7b8ebd4e68314663af</td><td>moveis_decoracao</td><td>44</td><td>...</td><td>527</td></tr>",
                            "<tr><td>99a4788cb24856965c36a24e339b6058</td><td>cama_mesa_banho</td><td>54</td><td>...</td><td>488</td></tr>",
                            "<tr><td>422879e10f46682990de24d770e7f83d</td><td>ferramentas_jardim</td><td>56</td><td>...</td><td>484</td></tr>",
                            "<tr><td>389d119b48cf3043d311335e499d9c6b</td><td>ferramentas_jardim</td><td>59</td><td>...</td><td>392</td></tr>",
                            "<tr><td>368c6c730842d78016ad823897a372db</td><td>ferramentas_jardim</td><td>57</td><td>...</td><td>388</td></tr>",
                            "<tr><td>53759a2ecddad2bb87a079a1f1519f73</td><td>ferramentas_jardim</td><td>58</td><td>...</td><td>373</td></tr>",
                            "<tr><td>d1c427060a0f73f6b889a5c7c61f2ac4</td><td>informatica_acessorios</td><td>59</td><td>...</td><td>343</td></tr>",
                            "<tr><td>53b36df67ebb7c41585e8d54d6772e08</td><td>relogios_presentes</td><td>33</td><td>...</td><td>323</td></tr>",
                            "<tr><td>154e7e31ebfa092203795c972e5804a6</td><td>beleza_saude</td><td>48</td><td>...</td><td>281</td></tr>",
                            "<tr><td>3dd2a17168ec895c781a9191c1e95ad7</td><td>informatica_acessorios</td><td>48</td><td>...</td><td>274</td></tr>",
                            "<tr><td>2b4609f8948be18874494203496bc318</td><td>beleza_saude</td><td>59</td><td>...</td><td>260</td></tr>",
                            "<tr><td>7c1bd920dbdf22470b68bde975dd3ccf</td><td>beleza_saude</td><td>59</td><td>...</td><td>231</td></tr>",
                            "<tr><td>a62e25e09e05e6faf31d90c6ec1aa3d1</td><td>relogios_presentes</td><td>58</td><td>...</td><td>226</td></tr>",
                            "<tr><td>5a848e4ab52fd5445cdc07aab1c40e48</td><td>NULL</td><td>NULL</td><td>...</td><td>197</td></tr>",
                            "<tr><td>bb50f2e236e5eea0100680137654686c</td><td>beleza_saude</td><td>60</td><td>...</td><td>195</td></tr>",
                            "<tr><td>e0d64dcfaa3b6db5c54ca298ae101d05</td><td>relogios_presentes</td><td>35</td><td>...</td><td>194</td></tr>",
                            "<tr><td>e53e557d5a159f5aa2c5e995dfdf244b</td><td>informatica_acessorios</td><td>33</td><td>...</td><td>183</td></tr>",
                            "<tr><td>42a2c92a0979a949ca4ea89ec5c7b934</td><td>utilidades_domesticas</td><td>41</td><td>...</td><td>183</td></tr>",
                            "<tr><td>b532349fe46b38fbc7bb3914c1bdae07</td><td>moveis_decoracao</td><td>49</td><td>...</td><td>169</td></tr>",
                            "<tr><td>35afc973633aaeb6b877ff57b2793310</td><td>casa_conforto</td><td>56</td><td>...</td><td>165</td></tr>",
                            "</table>"
                        ]
                    }
                }
            ],
            "execution_count": 6
        },
        {
            "cell_type": "markdown",
            "source": [
                "<br>\r\n",
                "<hr>\r\n",
                "<br>\r\n",
                "\r\n",
                "### **3**. Retorne somente os reviews que não tem comentários:"
            ],
            "metadata": {
                "azdata_cell_guid": "f7e1b489-d667-49dd-9426-26637d2324fa"
            }
        },
        {
            "cell_type": "code",
            "source": [
                "SELECT TOP 20 * \r\n",
                "FROM olist.order_reviews\r\n",
                "WHERE review_comment_title IS NULL AND review_comment_message IS NULL"
            ],
            "metadata": {
                "azdata_cell_guid": "a310f7f5-3a72-45e7-acdc-eda07deeb0ba"
            },
            "outputs": [
                {
                    "output_type": "display_data",
                    "data": {
                        "text/html": "(20 rows affected)"
                    },
                    "metadata": {}
                },
                {
                    "output_type": "display_data",
                    "data": {
                        "text/html": "Total execution time: 00:00:00.269"
                    },
                    "metadata": {}
                },
                {
                    "output_type": "execute_result",
                    "metadata": {},
                    "execution_count": 10,
                    "data": {
                        "application/vnd.dataresource+json": {
                            "schema": {
                                "fields": [
                                    {
                                        "name": "review_id"
                                    },
                                    {
                                        "name": "order_id"
                                    },
                                    {
                                        "name": "review_score"
                                    },
                                    {
                                        "name": "review_comment_title"
                                    },
                                    {
                                        "name": "review_comment_message"
                                    },
                                    {
                                        "name": "review_creation"
                                    },
                                    {
                                        "name": "review_answer_timestamp"
                                    }
                                ]
                            },
                            "data": [
                                {
                                    "0": "7bc2406110b926393aa56f80a40eba40",
                                    "1": "73fc7af87114b39712e6da79b0a377eb",
                                    "2": "4",
                                    "3": "NULL",
                                    "4": "NULL",
                                    "5": "2018-01-18 00:00:00.0000000",
                                    "6": "2018-01-18 21:46:59.0000000"
                                },
                                {
                                    "0": "80e641a11e56f04c1ad469d5645fdfde",
                                    "1": "a548910a1c6147796b98fdf73dbeba33",
                                    "2": "5",
                                    "3": "NULL",
                                    "4": "NULL",
                                    "5": "2018-03-10 00:00:00.0000000",
                                    "6": "2018-03-11 03:05:13.0000000"
                                },
                                {
                                    "0": "228ce5500dc1d8e020d8d1322874b6f0",
                                    "1": "f9e4b658b201a9f2ecdecbb34bed034b",
                                    "2": "5",
                                    "3": "NULL",
                                    "4": "NULL",
                                    "5": "2018-02-17 00:00:00.0000000",
                                    "6": "2018-02-18 14:36:24.0000000"
                                },
                                {
                                    "0": "15197aa66ff4d0650b5434f1b46cda19",
                                    "1": "b18dcdf73be66366873cd26c5724d1dc",
                                    "2": "1",
                                    "3": "NULL",
                                    "4": "NULL",
                                    "5": "2018-04-13 00:00:00.0000000",
                                    "6": "2018-04-16 00:39:37.0000000"
                                },
                                {
                                    "0": "07f9bee5d1b850860defd761afa7ff16",
                                    "1": "e48aa0d2dcec3a2e87348811bcfdf22b",
                                    "2": "5",
                                    "3": "NULL",
                                    "4": "NULL",
                                    "5": "2017-07-16 00:00:00.0000000",
                                    "6": "2017-07-18 19:30:34.0000000"
                                },
                                {
                                    "0": "7c6400515c67679fbee952a7525281ef",
                                    "1": "c31a859e34e3adac22f376954e19b39d",
                                    "2": "5",
                                    "3": "NULL",
                                    "4": "NULL",
                                    "5": "2018-08-14 00:00:00.0000000",
                                    "6": "2018-08-14 21:36:06.0000000"
                                },
                                {
                                    "0": "a3f6f7f6f433de0aefbb97da197c554c",
                                    "1": "9c214ac970e84273583ab523dfafd09b",
                                    "2": "5",
                                    "3": "NULL",
                                    "4": "NULL",
                                    "5": "2017-05-17 00:00:00.0000000",
                                    "6": "2017-05-18 12:05:37.0000000"
                                },
                                {
                                    "0": "c9cfd2d5ab5911836ababae136c3a10c",
                                    "1": "cdf9aa68e72324eeb25c7de974696ee2",
                                    "2": "5",
                                    "3": "NULL",
                                    "4": "NULL",
                                    "5": "2017-12-23 00:00:00.0000000",
                                    "6": "2017-12-26 14:36:03.0000000"
                                },
                                {
                                    "0": "96052551d87e5f62e6c9f6974ec392e9",
                                    "1": "3d374c9e46530bb5ed4a7648915306a6",
                                    "2": "5",
                                    "3": "NULL",
                                    "4": "NULL",
                                    "5": "2017-12-19 00:00:00.0000000",
                                    "6": "2017-12-20 10:25:22.0000000"
                                },
                                {
                                    "0": "23f75a37effc35d9a915b4e1ad483793",
                                    "1": "2eaf8e099d871cd5c22b83b5ea8f6e0e",
                                    "2": "4",
                                    "3": "NULL",
                                    "4": "NULL",
                                    "5": "2018-03-28 00:00:00.0000000",
                                    "6": "2018-03-30 15:10:55.0000000"
                                },
                                {
                                    "0": "9a0abbb668bafb95a6d2b05db43284c4",
                                    "1": "d7bd0e4afdf94846eb73642b4e3e75c3",
                                    "2": "3",
                                    "3": "NULL",
                                    "4": "NULL",
                                    "5": "2017-04-30 00:00:00.0000000",
                                    "6": "2017-05-03 00:02:22.0000000"
                                },
                                {
                                    "0": "8e15a274d95600fa14f8be64e37a0e67",
                                    "1": "ff1581e08b3011021e7c7de592ddc81e",
                                    "2": "5",
                                    "3": "NULL",
                                    "4": "NULL",
                                    "5": "2018-03-24 00:00:00.0000000",
                                    "6": "2018-03-26 15:58:32.0000000"
                                },
                                {
                                    "0": "fdbdb2629a7cde0f66657acc92084e7f",
                                    "1": "70a752414a13d09cc1f2b437b914b28e",
                                    "2": "3",
                                    "3": "NULL",
                                    "4": "NULL",
                                    "5": "2017-09-29 00:00:00.0000000",
                                    "6": "2017-10-02 01:12:49.0000000"
                                },
                                {
                                    "0": "a2ff510ca4e059c3fefc7a7866571f6f",
                                    "1": "a9953b2f0b1665ac7586cc5a6ac8f58c",
                                    "2": "4",
                                    "3": "NULL",
                                    "4": "NULL",
                                    "5": "2017-10-06 00:00:00.0000000",
                                    "6": "2017-10-08 22:36:05.0000000"
                                },
                                {
                                    "0": "80c70bc263881ba6525f6cee1d94ac87",
                                    "1": "ae168dfba236919411fe08f336fefa44",
                                    "2": "5",
                                    "3": "NULL",
                                    "4": "NULL",
                                    "5": "2018-03-17 00:00:00.0000000",
                                    "6": "2018-04-04 19:41:11.0000000"
                                },
                                {
                                    "0": "7bcb3c758c67f23638262c731493e848",
                                    "1": "7c9956750739a47dba7a6928ba2f0245",
                                    "2": "5",
                                    "3": "NULL",
                                    "4": "NULL",
                                    "5": "2017-09-09 00:00:00.0000000",
                                    "6": "2017-10-17 02:25:47.0000000"
                                },
                                {
                                    "0": "66e4430c5bc6b7e3773886bf1c14d912",
                                    "1": "84cec4f65c7a4f2f54c294a30224a594",
                                    "2": "5",
                                    "3": "NULL",
                                    "4": "NULL",
                                    "5": "2017-06-23 00:00:00.0000000",
                                    "6": "2017-06-27 00:52:02.0000000"
                                },
                                {
                                    "0": "bf566b3910c328733baf7fca7d2be041",
                                    "1": "a59a15e4b6085c752d338431dc68d464",
                                    "2": "4",
                                    "3": "NULL",
                                    "4": "NULL",
                                    "5": "2017-11-01 00:00:00.0000000",
                                    "6": "2017-11-01 20:25:30.0000000"
                                },
                                {
                                    "0": "540e7bbb2d06cfb7f85f3a88ba7ac97f",
                                    "1": "cf73e2cb1f4a9480ed70c154da3d954a",
                                    "2": "5",
                                    "3": "NULL",
                                    "4": "NULL",
                                    "5": "2018-01-18 00:00:00.0000000",
                                    "6": "2018-01-18 19:12:30.0000000"
                                },
                                {
                                    "0": "6a18a4001ae7fd911b3b9fb13686d105",
                                    "1": "8ba3f3a9292fbc22a8b7dff752bbcd37",
                                    "2": "5",
                                    "3": "NULL",
                                    "4": "NULL",
                                    "5": "2017-07-19 00:00:00.0000000",
                                    "6": "2017-07-20 10:38:48.0000000"
                                }
                            ]
                        },
                        "text/html": [
                            "<table>",
                            "<tr><th>review_id</th><th>order_id</th><th>review_score</th><th>review_comment_title</th><th>review_comment_message</th><th>review_creation</th><th>review_answer_timestamp</th></tr>",
                            "<tr><td>7bc2406110b926393aa56f80a40eba40</td><td>73fc7af87114b39712e6da79b0a377eb</td><td>4</td><td>NULL</td><td>NULL</td><td>2018-01-18 00:00:00.0000000</td><td>2018-01-18 21:46:59.0000000</td></tr>",
                            "<tr><td>80e641a11e56f04c1ad469d5645fdfde</td><td>a548910a1c6147796b98fdf73dbeba33</td><td>5</td><td>NULL</td><td>NULL</td><td>2018-03-10 00:00:00.0000000</td><td>2018-03-11 03:05:13.0000000</td></tr>",
                            "<tr><td>228ce5500dc1d8e020d8d1322874b6f0</td><td>f9e4b658b201a9f2ecdecbb34bed034b</td><td>5</td><td>NULL</td><td>NULL</td><td>2018-02-17 00:00:00.0000000</td><td>2018-02-18 14:36:24.0000000</td></tr>",
                            "<tr><td>15197aa66ff4d0650b5434f1b46cda19</td><td>b18dcdf73be66366873cd26c5724d1dc</td><td>1</td><td>NULL</td><td>NULL</td><td>2018-04-13 00:00:00.0000000</td><td>2018-04-16 00:39:37.0000000</td></tr>",
                            "<tr><td>07f9bee5d1b850860defd761afa7ff16</td><td>e48aa0d2dcec3a2e87348811bcfdf22b</td><td>5</td><td>NULL</td><td>NULL</td><td>2017-07-16 00:00:00.0000000</td><td>2017-07-18 19:30:34.0000000</td></tr>",
                            "<tr><td>7c6400515c67679fbee952a7525281ef</td><td>c31a859e34e3adac22f376954e19b39d</td><td>5</td><td>NULL</td><td>NULL</td><td>2018-08-14 00:00:00.0000000</td><td>2018-08-14 21:36:06.0000000</td></tr>",
                            "<tr><td>a3f6f7f6f433de0aefbb97da197c554c</td><td>9c214ac970e84273583ab523dfafd09b</td><td>5</td><td>NULL</td><td>NULL</td><td>2017-05-17 00:00:00.0000000</td><td>2017-05-18 12:05:37.0000000</td></tr>",
                            "<tr><td>c9cfd2d5ab5911836ababae136c3a10c</td><td>cdf9aa68e72324eeb25c7de974696ee2</td><td>5</td><td>NULL</td><td>NULL</td><td>2017-12-23 00:00:00.0000000</td><td>2017-12-26 14:36:03.0000000</td></tr>",
                            "<tr><td>96052551d87e5f62e6c9f6974ec392e9</td><td>3d374c9e46530bb5ed4a7648915306a6</td><td>5</td><td>NULL</td><td>NULL</td><td>2017-12-19 00:00:00.0000000</td><td>2017-12-20 10:25:22.0000000</td></tr>",
                            "<tr><td>23f75a37effc35d9a915b4e1ad483793</td><td>2eaf8e099d871cd5c22b83b5ea8f6e0e</td><td>4</td><td>NULL</td><td>NULL</td><td>2018-03-28 00:00:00.0000000</td><td>2018-03-30 15:10:55.0000000</td></tr>",
                            "<tr><td>9a0abbb668bafb95a6d2b05db43284c4</td><td>d7bd0e4afdf94846eb73642b4e3e75c3</td><td>3</td><td>NULL</td><td>NULL</td><td>2017-04-30 00:00:00.0000000</td><td>2017-05-03 00:02:22.0000000</td></tr>",
                            "<tr><td>8e15a274d95600fa14f8be64e37a0e67</td><td>ff1581e08b3011021e7c7de592ddc81e</td><td>5</td><td>NULL</td><td>NULL</td><td>2018-03-24 00:00:00.0000000</td><td>2018-03-26 15:58:32.0000000</td></tr>",
                            "<tr><td>fdbdb2629a7cde0f66657acc92084e7f</td><td>70a752414a13d09cc1f2b437b914b28e</td><td>3</td><td>NULL</td><td>NULL</td><td>2017-09-29 00:00:00.0000000</td><td>2017-10-02 01:12:49.0000000</td></tr>",
                            "<tr><td>a2ff510ca4e059c3fefc7a7866571f6f</td><td>a9953b2f0b1665ac7586cc5a6ac8f58c</td><td>4</td><td>NULL</td><td>NULL</td><td>2017-10-06 00:00:00.0000000</td><td>2017-10-08 22:36:05.0000000</td></tr>",
                            "<tr><td>80c70bc263881ba6525f6cee1d94ac87</td><td>ae168dfba236919411fe08f336fefa44</td><td>5</td><td>NULL</td><td>NULL</td><td>2018-03-17 00:00:00.0000000</td><td>2018-04-04 19:41:11.0000000</td></tr>",
                            "<tr><td>7bcb3c758c67f23638262c731493e848</td><td>7c9956750739a47dba7a6928ba2f0245</td><td>5</td><td>NULL</td><td>NULL</td><td>2017-09-09 00:00:00.0000000</td><td>2017-10-17 02:25:47.0000000</td></tr>",
                            "<tr><td>66e4430c5bc6b7e3773886bf1c14d912</td><td>84cec4f65c7a4f2f54c294a30224a594</td><td>5</td><td>NULL</td><td>NULL</td><td>2017-06-23 00:00:00.0000000</td><td>2017-06-27 00:52:02.0000000</td></tr>",
                            "<tr><td>bf566b3910c328733baf7fca7d2be041</td><td>a59a15e4b6085c752d338431dc68d464</td><td>4</td><td>NULL</td><td>NULL</td><td>2017-11-01 00:00:00.0000000</td><td>2017-11-01 20:25:30.0000000</td></tr>",
                            "<tr><td>540e7bbb2d06cfb7f85f3a88ba7ac97f</td><td>cf73e2cb1f4a9480ed70c154da3d954a</td><td>5</td><td>NULL</td><td>NULL</td><td>2018-01-18 00:00:00.0000000</td><td>2018-01-18 19:12:30.0000000</td></tr>",
                            "<tr><td>6a18a4001ae7fd911b3b9fb13686d105</td><td>8ba3f3a9292fbc22a8b7dff752bbcd37</td><td>5</td><td>NULL</td><td>NULL</td><td>2017-07-19 00:00:00.0000000</td><td>2017-07-20 10:38:48.0000000</td></tr>",
                            "</table>"
                        ]
                    }
                }
            ],
            "execution_count": 10
        },
        {
            "cell_type": "markdown",
            "source": [
                "<br>\r\n",
                "<hr>\r\n",
                "<br>\r\n",
                "\r\n",
                "### **4**. Retorne pedidos que foram feitos somente no ano de 2017:"
            ],
            "metadata": {
                "azdata_cell_guid": "05fdb6c7-c83e-4ae0-8e13-aaeeaf41b02d"
            }
        },
        {
            "cell_type": "code",
            "source": [
                "\r\n",
                "WITH \r\n",
                "head AS  /* retorna os primeiros pedidos de 2017 */\r\n",
                "(\r\n",
                "    SELECT TOP 9 * \r\n",
                "    FROM olist.orders\r\n",
                "    WHERE YEAR(order_purchase_timestamp) = 2017\r\n",
                "    ORDER BY order_purchase_timestamp ASC\r\n",
                "), \r\n",
                "tail AS  /* retorna os último pedidos de 2017 */\r\n",
                "(\r\n",
                "    SELECT TOP 9 * \r\n",
                "    FROM olist.orders\r\n",
                "    WHERE YEAR(order_purchase_timestamp) = 2017\r\n",
                "    ORDER BY order_purchase_timestamp DESC\r\n",
                ")\r\n",
                "SELECT * FROM head\r\n",
                "UNION  /* utilizando placeholders para representar os registros intermediários */\r\n",
                "SELECT '...', '...', '...', DATETIMEFROMPARTS(2017, 6, 30, 23, 59, 59, 0), DATETIMEFROMPARTS(2017, 6, 30, 23, 59, 59, 0), DATETIMEFROMPARTS(2017, 6, 30, 23, 59, 59, 0), DATETIMEFROMPARTS(2017, 6, 30, 23, 59, 59, 0), DATETIMEFROMPARTS(2017, 6, 30, 23, 59, 59, 0)\r\n",
                "UNION\r\n",
                "SELECT '...', '...', '...', DATETIMEFROMPARTS(2017, 7, 1, 0, 0, 0, 0), DATETIMEFROMPARTS(2017, 7, 1, 0, 0, 0, 0), DATETIMEFROMPARTS(2017, 7, 1, 0, 0, 0, 0), DATETIMEFROMPARTS(2017, 7, 1, 0, 0, 0, 0), DATETIMEFROMPARTS(2017, 7, 1, 0, 0, 0, 0)\r\n",
                "UNION\r\n",
                "SELECT * FROM tail ORDER BY order_purchase_timestamp ASC"
            ],
            "metadata": {
                "azdata_cell_guid": "fecf8488-bd5a-449d-b1e2-b5b6f4fb7b40",
                "tags": []
            },
            "outputs": [
                {
                    "output_type": "display_data",
                    "data": {
                        "text/html": "(20 rows affected)"
                    },
                    "metadata": {}
                },
                {
                    "output_type": "display_data",
                    "data": {
                        "text/html": "Total execution time: 00:00:00.615"
                    },
                    "metadata": {}
                },
                {
                    "output_type": "execute_result",
                    "metadata": {},
                    "execution_count": 22,
                    "data": {
                        "application/vnd.dataresource+json": {
                            "schema": {
                                "fields": [
                                    {
                                        "name": "order_id"
                                    },
                                    {
                                        "name": "customer_id"
                                    },
                                    {
                                        "name": "order_status"
                                    },
                                    {
                                        "name": "order_purchase_timestamp"
                                    },
                                    {
                                        "name": "order_approved_at"
                                    },
                                    {
                                        "name": "order_delivered_carrier_at"
                                    },
                                    {
                                        "name": "order_delivered_customer_date"
                                    },
                                    {
                                        "name": "order_estimated_delivery_date"
                                    }
                                ]
                            },
                            "data": [
                                {
                                    "0": "ec7a019261fce44180373d45b442d78f",
                                    "1": "c24fc5f9a446b4d8262041b9c64de772",
                                    "2": "delivered",
                                    "3": "2017-01-05 11:56:06.0000000",
                                    "4": "2017-01-05 12:10:17.0000000",
                                    "5": "2017-01-06 12:43:41.0000000",
                                    "6": "2017-01-11 13:14:05.0000000",
                                    "7": "2017-02-01 00:00:00.0000000"
                                },
                                {
                                    "0": "b95a0a8bd30aece4e94e81f0591249d8",
                                    "1": "ff3c6d35b4927c9b965aa6a68dcf56e4",
                                    "2": "delivered",
                                    "3": "2017-01-05 12:01:20.0000000",
                                    "4": "2017-01-07 03:35:37.0000000",
                                    "5": "2017-01-11 16:22:53.0000000",
                                    "6": "2017-01-17 15:38:58.0000000",
                                    "7": "2017-02-13 00:00:00.0000000"
                                },
                                {
                                    "0": "38bcb524e1c38c2c1b60600a80fc8999",
                                    "1": "d2c63ad286e3ca9dd69218008d61ff81",
                                    "2": "delivered",
                                    "3": "2017-01-05 12:06:36.0000000",
                                    "4": "2017-01-07 03:45:22.0000000",
                                    "5": "2017-01-11 15:35:54.0000000",
                                    "6": "2017-01-16 16:05:22.0000000",
                                    "7": "2017-02-13 00:00:00.0000000"
                                },
                                {
                                    "0": "7a18a504c1a4b32d883e68de2e1a7db0",
                                    "1": "e6bee29442c761ff0dfb9a4414922a5c",
                                    "2": "delivered",
                                    "3": "2017-01-05 12:09:08.0000000",
                                    "4": "2017-01-07 03:44:08.0000000",
                                    "5": "2017-01-11 15:35:53.0000000",
                                    "6": "2017-01-16 15:43:29.0000000",
                                    "7": "2017-02-13 00:00:00.0000000"
                                },
                                {
                                    "0": "6acecf438369055d9243e121045cca74",
                                    "1": "42d857e22f61f10476f0cda1aacc018a",
                                    "2": "delivered",
                                    "3": "2017-01-05 12:11:23.0000000",
                                    "4": "2017-01-07 03:44:07.0000000",
                                    "5": "2017-01-11 16:22:53.0000000",
                                    "6": "2017-01-17 16:06:30.0000000",
                                    "7": "2017-02-13 00:00:00.0000000"
                                },
                                {
                                    "0": "34bf4feda1e203af64692d97c6950c39",
                                    "1": "64b56cb1662271f54a81d96a28741487",
                                    "2": "delivered",
                                    "3": "2017-01-05 12:14:58.0000000",
                                    "4": "2017-01-07 03:35:24.0000000",
                                    "5": "2017-01-11 16:09:04.0000000",
                                    "6": "2017-01-16 16:13:55.0000000",
                                    "7": "2017-02-01 00:00:00.0000000"
                                },
                                {
                                    "0": "40599d3d28b75746952ded75566637b9",
                                    "1": "efdf4a7c78d7c364046efb69035d1d4f",
                                    "2": "delivered",
                                    "3": "2017-01-05 13:01:48.0000000",
                                    "4": "2017-01-07 03:45:49.0000000",
                                    "5": "2017-01-11 16:08:53.0000000",
                                    "6": "2017-01-16 15:43:21.0000000",
                                    "7": "2017-02-13 00:00:00.0000000"
                                },
                                {
                                    "0": "ce86fa5a5108884726a2244bcae51ae6",
                                    "1": "8fa33a3159dfc303b8aeccf859b9bee5",
                                    "2": "delivered",
                                    "3": "2017-01-05 13:29:03.0000000",
                                    "4": "2017-01-07 03:45:23.0000000",
                                    "5": "2017-01-11 15:35:54.0000000",
                                    "6": "2017-01-16 16:05:21.0000000",
                                    "7": "2017-02-01 00:00:00.0000000"
                                },
                                {
                                    "0": "7004296aa0256632eaddc171edaf727f",
                                    "1": "3a7856f2a103364d279de7f72e18b7c4",
                                    "2": "delivered",
                                    "3": "2017-01-05 13:31:22.0000000",
                                    "4": "2017-01-07 03:44:29.0000000",
                                    "5": "2017-01-11 15:35:53.0000000",
                                    "6": "2017-01-16 16:05:21.0000000",
                                    "7": "2017-02-01 00:00:00.0000000"
                                },
                                {
                                    "0": "...",
                                    "1": "...",
                                    "2": "...",
                                    "3": "2017-06-30 23:59:59.0000000",
                                    "4": "2017-06-30 23:59:59.0000000",
                                    "5": "2017-06-30 23:59:59.0000000",
                                    "6": "2017-06-30 23:59:59.0000000",
                                    "7": "2017-06-30 23:59:59.0000000"
                                },
                                {
                                    "0": "...",
                                    "1": "...",
                                    "2": "...",
                                    "3": "2017-07-01 00:00:00.0000000",
                                    "4": "2017-07-01 00:00:00.0000000",
                                    "5": "2017-07-01 00:00:00.0000000",
                                    "6": "2017-07-01 00:00:00.0000000",
                                    "7": "2017-07-01 00:00:00.0000000"
                                },
                                {
                                    "0": "35298b52820bdcc64b7bf71ccc28a36c",
                                    "1": "52496ddf0025f7b0ec3cb640a97990f8",
                                    "2": "delivered",
                                    "3": "2017-12-31 19:28:24.0000000",
                                    "4": "2017-12-31 19:46:47.0000000",
                                    "5": "2018-01-03 17:34:11.0000000",
                                    "6": "2018-01-09 19:38:13.0000000",
                                    "7": "2018-02-09 00:00:00.0000000"
                                },
                                {
                                    "0": "f813be1cdc38407e8e55a3ff18509b8d",
                                    "1": "58aad244991735b54dffc6781d3a508d",
                                    "2": "delivered",
                                    "3": "2017-12-31 19:38:28.0000000",
                                    "4": "2017-12-31 19:46:51.0000000",
                                    "5": "2018-01-22 19:12:44.0000000",
                                    "6": "2018-03-12 23:28:34.0000000",
                                    "7": "2018-02-05 00:00:00.0000000"
                                },
                                {
                                    "0": "0c355e13567802628373895daf5f0a61",
                                    "1": "3e3cb27f0d01f9763177c6de2d4bf139",
                                    "2": "delivered",
                                    "3": "2017-12-31 20:17:14.0000000",
                                    "4": "2017-12-31 20:27:40.0000000",
                                    "5": "2018-01-11 14:34:20.0000000",
                                    "6": "2018-01-15 18:17:44.0000000",
                                    "7": "2018-01-31 00:00:00.0000000"
                                },
                                {
                                    "0": "136f44c4aee8436faeb4d831e83344ef",
                                    "1": "ce3fd019ee6c37bef63731c9aa9ae70e",
                                    "2": "delivered",
                                    "3": "2017-12-31 21:03:13.0000000",
                                    "4": "2017-12-31 21:15:19.0000000",
                                    "5": "2018-01-02 16:44:46.0000000",
                                    "6": "2018-01-16 20:53:26.0000000",
                                    "7": "2018-02-05 00:00:00.0000000"
                                },
                                {
                                    "0": "60d98124c3228470422ecadff6550e3c",
                                    "1": "98a1a1e41310f70974831b79bf01e4e6",
                                    "2": "delivered",
                                    "3": "2017-12-31 21:10:02.0000000",
                                    "4": "2017-12-31 21:26:47.0000000",
                                    "5": "2018-01-02 15:08:20.0000000",
                                    "6": "2018-01-05 18:51:54.0000000",
                                    "7": "2018-01-18 00:00:00.0000000"
                                },
                                {
                                    "0": "43e38490d21c8c490334f75c5a7c2861",
                                    "1": "2f368064b4e6646a7784a46b03b4bcbc",
                                    "2": "delivered",
                                    "3": "2017-12-31 21:17:54.0000000",
                                    "4": "2017-12-31 21:27:24.0000000",
                                    "5": "2018-01-02 20:17:58.0000000",
                                    "6": "2018-01-05 17:59:20.0000000",
                                    "7": "2018-02-01 00:00:00.0000000"
                                },
                                {
                                    "0": "18f39cbc016f34a22c870ef03cba5641",
                                    "1": "92566e623b70efba98063150b200cba4",
                                    "2": "delivered",
                                    "3": "2017-12-31 22:14:53.0000000",
                                    "4": "2017-12-31 22:26:35.0000000",
                                    "5": "2018-01-02 18:35:39.0000000",
                                    "6": "2018-01-22 22:57:47.0000000",
                                    "7": "2018-01-31 00:00:00.0000000"
                                },
                                {
                                    "0": "8acda261d8c76b3206d9cb5279d0a18a",
                                    "1": "dc3daad47c0792f3bd4366246a7955dc",
                                    "2": "delivered",
                                    "3": "2017-12-31 23:24:10.0000000",
                                    "4": "2017-12-31 23:32:40.0000000",
                                    "5": "2018-01-04 11:15:57.0000000",
                                    "6": "2018-01-23 22:37:13.0000000",
                                    "7": "2018-02-08 00:00:00.0000000"
                                },
                                {
                                    "0": "070a76f4c338fe3cda93745a22e51270",
                                    "1": "de4f592a5c6155b2fe6f87b30aaeec9c",
                                    "2": "delivered",
                                    "3": "2017-12-31 23:29:31.0000000",
                                    "4": "2018-01-01 23:26:52.0000000",
                                    "5": "2018-01-02 19:28:35.0000000",
                                    "6": "2018-01-10 19:27:29.0000000",
                                    "7": "2018-02-02 00:00:00.0000000"
                                }
                            ]
                        },
                        "text/html": [
                            "<table>",
                            "<tr><th>order_id</th><th>customer_id</th><th>order_status</th><th>order_purchase_timestamp</th><th>order_approved_at</th><th>order_delivered_carrier_at</th><th>order_delivered_customer_date</th><th>order_estimated_delivery_date</th></tr>",
                            "<tr><td>ec7a019261fce44180373d45b442d78f</td><td>c24fc5f9a446b4d8262041b9c64de772</td><td>delivered</td><td>2017-01-05 11:56:06.0000000</td><td>2017-01-05 12:10:17.0000000</td><td>2017-01-06 12:43:41.0000000</td><td>2017-01-11 13:14:05.0000000</td><td>2017-02-01 00:00:00.0000000</td></tr>",
                            "<tr><td>b95a0a8bd30aece4e94e81f0591249d8</td><td>ff3c6d35b4927c9b965aa6a68dcf56e4</td><td>delivered</td><td>2017-01-05 12:01:20.0000000</td><td>2017-01-07 03:35:37.0000000</td><td>2017-01-11 16:22:53.0000000</td><td>2017-01-17 15:38:58.0000000</td><td>2017-02-13 00:00:00.0000000</td></tr>",
                            "<tr><td>38bcb524e1c38c2c1b60600a80fc8999</td><td>d2c63ad286e3ca9dd69218008d61ff81</td><td>delivered</td><td>2017-01-05 12:06:36.0000000</td><td>2017-01-07 03:45:22.0000000</td><td>2017-01-11 15:35:54.0000000</td><td>2017-01-16 16:05:22.0000000</td><td>2017-02-13 00:00:00.0000000</td></tr>",
                            "<tr><td>7a18a504c1a4b32d883e68de2e1a7db0</td><td>e6bee29442c761ff0dfb9a4414922a5c</td><td>delivered</td><td>2017-01-05 12:09:08.0000000</td><td>2017-01-07 03:44:08.0000000</td><td>2017-01-11 15:35:53.0000000</td><td>2017-01-16 15:43:29.0000000</td><td>2017-02-13 00:00:00.0000000</td></tr>",
                            "<tr><td>6acecf438369055d9243e121045cca74</td><td>42d857e22f61f10476f0cda1aacc018a</td><td>delivered</td><td>2017-01-05 12:11:23.0000000</td><td>2017-01-07 03:44:07.0000000</td><td>2017-01-11 16:22:53.0000000</td><td>2017-01-17 16:06:30.0000000</td><td>2017-02-13 00:00:00.0000000</td></tr>",
                            "<tr><td>34bf4feda1e203af64692d97c6950c39</td><td>64b56cb1662271f54a81d96a28741487</td><td>delivered</td><td>2017-01-05 12:14:58.0000000</td><td>2017-01-07 03:35:24.0000000</td><td>2017-01-11 16:09:04.0000000</td><td>2017-01-16 16:13:55.0000000</td><td>2017-02-01 00:00:00.0000000</td></tr>",
                            "<tr><td>40599d3d28b75746952ded75566637b9</td><td>efdf4a7c78d7c364046efb69035d1d4f</td><td>delivered</td><td>2017-01-05 13:01:48.0000000</td><td>2017-01-07 03:45:49.0000000</td><td>2017-01-11 16:08:53.0000000</td><td>2017-01-16 15:43:21.0000000</td><td>2017-02-13 00:00:00.0000000</td></tr>",
                            "<tr><td>ce86fa5a5108884726a2244bcae51ae6</td><td>8fa33a3159dfc303b8aeccf859b9bee5</td><td>delivered</td><td>2017-01-05 13:29:03.0000000</td><td>2017-01-07 03:45:23.0000000</td><td>2017-01-11 15:35:54.0000000</td><td>2017-01-16 16:05:21.0000000</td><td>2017-02-01 00:00:00.0000000</td></tr>",
                            "<tr><td>7004296aa0256632eaddc171edaf727f</td><td>3a7856f2a103364d279de7f72e18b7c4</td><td>delivered</td><td>2017-01-05 13:31:22.0000000</td><td>2017-01-07 03:44:29.0000000</td><td>2017-01-11 15:35:53.0000000</td><td>2017-01-16 16:05:21.0000000</td><td>2017-02-01 00:00:00.0000000</td></tr>",
                            "<tr><td>...</td><td>...</td><td>...</td><td>2017-06-30 23:59:59.0000000</td><td>2017-06-30 23:59:59.0000000</td><td>2017-06-30 23:59:59.0000000</td><td>2017-06-30 23:59:59.0000000</td><td>2017-06-30 23:59:59.0000000</td></tr>",
                            "<tr><td>...</td><td>...</td><td>...</td><td>2017-07-01 00:00:00.0000000</td><td>2017-07-01 00:00:00.0000000</td><td>2017-07-01 00:00:00.0000000</td><td>2017-07-01 00:00:00.0000000</td><td>2017-07-01 00:00:00.0000000</td></tr>",
                            "<tr><td>35298b52820bdcc64b7bf71ccc28a36c</td><td>52496ddf0025f7b0ec3cb640a97990f8</td><td>delivered</td><td>2017-12-31 19:28:24.0000000</td><td>2017-12-31 19:46:47.0000000</td><td>2018-01-03 17:34:11.0000000</td><td>2018-01-09 19:38:13.0000000</td><td>2018-02-09 00:00:00.0000000</td></tr>",
                            "<tr><td>f813be1cdc38407e8e55a3ff18509b8d</td><td>58aad244991735b54dffc6781d3a508d</td><td>delivered</td><td>2017-12-31 19:38:28.0000000</td><td>2017-12-31 19:46:51.0000000</td><td>2018-01-22 19:12:44.0000000</td><td>2018-03-12 23:28:34.0000000</td><td>2018-02-05 00:00:00.0000000</td></tr>",
                            "<tr><td>0c355e13567802628373895daf5f0a61</td><td>3e3cb27f0d01f9763177c6de2d4bf139</td><td>delivered</td><td>2017-12-31 20:17:14.0000000</td><td>2017-12-31 20:27:40.0000000</td><td>2018-01-11 14:34:20.0000000</td><td>2018-01-15 18:17:44.0000000</td><td>2018-01-31 00:00:00.0000000</td></tr>",
                            "<tr><td>136f44c4aee8436faeb4d831e83344ef</td><td>ce3fd019ee6c37bef63731c9aa9ae70e</td><td>delivered</td><td>2017-12-31 21:03:13.0000000</td><td>2017-12-31 21:15:19.0000000</td><td>2018-01-02 16:44:46.0000000</td><td>2018-01-16 20:53:26.0000000</td><td>2018-02-05 00:00:00.0000000</td></tr>",
                            "<tr><td>60d98124c3228470422ecadff6550e3c</td><td>98a1a1e41310f70974831b79bf01e4e6</td><td>delivered</td><td>2017-12-31 21:10:02.0000000</td><td>2017-12-31 21:26:47.0000000</td><td>2018-01-02 15:08:20.0000000</td><td>2018-01-05 18:51:54.0000000</td><td>2018-01-18 00:00:00.0000000</td></tr>",
                            "<tr><td>43e38490d21c8c490334f75c5a7c2861</td><td>2f368064b4e6646a7784a46b03b4bcbc</td><td>delivered</td><td>2017-12-31 21:17:54.0000000</td><td>2017-12-31 21:27:24.0000000</td><td>2018-01-02 20:17:58.0000000</td><td>2018-01-05 17:59:20.0000000</td><td>2018-02-01 00:00:00.0000000</td></tr>",
                            "<tr><td>18f39cbc016f34a22c870ef03cba5641</td><td>92566e623b70efba98063150b200cba4</td><td>delivered</td><td>2017-12-31 22:14:53.0000000</td><td>2017-12-31 22:26:35.0000000</td><td>2018-01-02 18:35:39.0000000</td><td>2018-01-22 22:57:47.0000000</td><td>2018-01-31 00:00:00.0000000</td></tr>",
                            "<tr><td>8acda261d8c76b3206d9cb5279d0a18a</td><td>dc3daad47c0792f3bd4366246a7955dc</td><td>delivered</td><td>2017-12-31 23:24:10.0000000</td><td>2017-12-31 23:32:40.0000000</td><td>2018-01-04 11:15:57.0000000</td><td>2018-01-23 22:37:13.0000000</td><td>2018-02-08 00:00:00.0000000</td></tr>",
                            "<tr><td>070a76f4c338fe3cda93745a22e51270</td><td>de4f592a5c6155b2fe6f87b30aaeec9c</td><td>delivered</td><td>2017-12-31 23:29:31.0000000</td><td>2018-01-01 23:26:52.0000000</td><td>2018-01-02 19:28:35.0000000</td><td>2018-01-10 19:27:29.0000000</td><td>2018-02-02 00:00:00.0000000</td></tr>",
                            "</table>"
                        ]
                    }
                }
            ],
            "execution_count": 22
        },
        {
            "cell_type": "markdown",
            "source": [
                "<br>\r\n",
                "<hr>\r\n",
                "<br>\r\n",
                "\r\n",
                "### **5**. Identifique os clientes do estado de SP que não residam na cidade de São Paulo:"
            ],
            "metadata": {
                "azdata_cell_guid": "c017e75e-7ad2-482b-ab75-75033b09dffc"
            }
        },
        {
            "cell_type": "code",
            "source": [
                "SELECT DISTINCT TOP 20 \r\n",
                "     customer_unique_id\r\n",
                "    ,customer_state\r\n",
                "    ,customer_city\r\n",
                "FROM olist.customers\r\n",
                "WHERE customer_state = 'SP' AND LOWER(customer_city) NOT LIKE 's%o%paulo'"
            ],
            "metadata": {
                "azdata_cell_guid": "3990445f-49a2-4312-be03-b08ef0f36253"
            },
            "outputs": [
                {
                    "output_type": "display_data",
                    "data": {
                        "text/html": "(20 rows affected)"
                    },
                    "metadata": {}
                },
                {
                    "output_type": "display_data",
                    "data": {
                        "text/html": "Total execution time: 00:00:00.161"
                    },
                    "metadata": {}
                },
                {
                    "output_type": "execute_result",
                    "metadata": {},
                    "execution_count": 27,
                    "data": {
                        "application/vnd.dataresource+json": {
                            "schema": {
                                "fields": [
                                    {
                                        "name": "customer_unique_id"
                                    },
                                    {
                                        "name": "customer_state"
                                    },
                                    {
                                        "name": "customer_city"
                                    }
                                ]
                            },
                            "data": [
                                {
                                    "0": "248ffe10d632bebe4f7267f1f44844c9",
                                    "1": "SP",
                                    "2": "osasco"
                                },
                                {
                                    "0": "104bdb7e6a6cdceaa88c3ea5fa6b2b93",
                                    "1": "SP",
                                    "2": "valinhos"
                                },
                                {
                                    "0": "fa30145b07cad8e972bea351a65216f4",
                                    "1": "SP",
                                    "2": "campinas"
                                },
                                {
                                    "0": "1bc9b2dad6aefbfbc011508e34c8adfc",
                                    "1": "SP",
                                    "2": "jacarei"
                                },
                                {
                                    "0": "cee6fa72fb403ef9554b41581108084b",
                                    "1": "SP",
                                    "2": "piracaia"
                                },
                                {
                                    "0": "61f5df1a634167ff48d76d79d21226de",
                                    "1": "SP",
                                    "2": "ibiuna"
                                },
                                {
                                    "0": "533b3a42bf5005c302539e093b445d3d",
                                    "1": "SP",
                                    "2": "campinas"
                                },
                                {
                                    "0": "490c854539b21598cfbbac518ca25788",
                                    "1": "SP",
                                    "2": "sao jose dos campos"
                                },
                                {
                                    "0": "688bb6776d5f885e4b46d4c4bac240c2",
                                    "1": "SP",
                                    "2": "santo andre"
                                },
                                {
                                    "0": "392c8818b71b14227a7c701e7d54a3a1",
                                    "1": "SP",
                                    "2": "pirassununga"
                                },
                                {
                                    "0": "b6d2145b6b5de5dcc494c151af5fdce9",
                                    "1": "SP",
                                    "2": "guaruja"
                                },
                                {
                                    "0": "ba7ae7b528a2b8359ff63e3014da964c",
                                    "1": "SP",
                                    "2": "cotia"
                                },
                                {
                                    "0": "c6b7dcd3718d1ad87f069d32a8566ce2",
                                    "1": "SP",
                                    "2": "campos do jordao"
                                },
                                {
                                    "0": "dbedaa0402e0dfa8b90fb9557424c5fc",
                                    "1": "SP",
                                    "2": "jacarei"
                                },
                                {
                                    "0": "934c19eeef04da89928f995df85cf3f8",
                                    "1": "SP",
                                    "2": "itupeva"
                                },
                                {
                                    "0": "6cd042e0832c40d2eebf82b2521a8487",
                                    "1": "SP",
                                    "2": "aguai"
                                },
                                {
                                    "0": "4c41d73f1d29f1cd1e725ec445a82f23",
                                    "1": "SP",
                                    "2": "biritiba-mirim"
                                },
                                {
                                    "0": "660e4e077b40d477e2ffdb2da6349b79",
                                    "1": "SP",
                                    "2": "sao manuel"
                                },
                                {
                                    "0": "539b6ae3b5f2999db7e44c8d4dc2069f",
                                    "1": "SP",
                                    "2": "jundiai"
                                },
                                {
                                    "0": "c209709f857255c80d07a0be8c630b0d",
                                    "1": "SP",
                                    "2": "sao bernardo do campo"
                                }
                            ]
                        },
                        "text/html": [
                            "<table>",
                            "<tr><th>customer_unique_id</th><th>customer_state</th><th>customer_city</th></tr>",
                            "<tr><td>248ffe10d632bebe4f7267f1f44844c9</td><td>SP</td><td>osasco</td></tr>",
                            "<tr><td>104bdb7e6a6cdceaa88c3ea5fa6b2b93</td><td>SP</td><td>valinhos</td></tr>",
                            "<tr><td>fa30145b07cad8e972bea351a65216f4</td><td>SP</td><td>campinas</td></tr>",
                            "<tr><td>1bc9b2dad6aefbfbc011508e34c8adfc</td><td>SP</td><td>jacarei</td></tr>",
                            "<tr><td>cee6fa72fb403ef9554b41581108084b</td><td>SP</td><td>piracaia</td></tr>",
                            "<tr><td>61f5df1a634167ff48d76d79d21226de</td><td>SP</td><td>ibiuna</td></tr>",
                            "<tr><td>533b3a42bf5005c302539e093b445d3d</td><td>SP</td><td>campinas</td></tr>",
                            "<tr><td>490c854539b21598cfbbac518ca25788</td><td>SP</td><td>sao jose dos campos</td></tr>",
                            "<tr><td>688bb6776d5f885e4b46d4c4bac240c2</td><td>SP</td><td>santo andre</td></tr>",
                            "<tr><td>392c8818b71b14227a7c701e7d54a3a1</td><td>SP</td><td>pirassununga</td></tr>",
                            "<tr><td>b6d2145b6b5de5dcc494c151af5fdce9</td><td>SP</td><td>guaruja</td></tr>",
                            "<tr><td>ba7ae7b528a2b8359ff63e3014da964c</td><td>SP</td><td>cotia</td></tr>",
                            "<tr><td>c6b7dcd3718d1ad87f069d32a8566ce2</td><td>SP</td><td>campos do jordao</td></tr>",
                            "<tr><td>dbedaa0402e0dfa8b90fb9557424c5fc</td><td>SP</td><td>jacarei</td></tr>",
                            "<tr><td>934c19eeef04da89928f995df85cf3f8</td><td>SP</td><td>itupeva</td></tr>",
                            "<tr><td>6cd042e0832c40d2eebf82b2521a8487</td><td>SP</td><td>aguai</td></tr>",
                            "<tr><td>4c41d73f1d29f1cd1e725ec445a82f23</td><td>SP</td><td>biritiba-mirim</td></tr>",
                            "<tr><td>660e4e077b40d477e2ffdb2da6349b79</td><td>SP</td><td>sao manuel</td></tr>",
                            "<tr><td>539b6ae3b5f2999db7e44c8d4dc2069f</td><td>SP</td><td>jundiai</td></tr>",
                            "<tr><td>c209709f857255c80d07a0be8c630b0d</td><td>SP</td><td>sao bernardo do campo</td></tr>",
                            "</table>"
                        ]
                    }
                }
            ],
            "execution_count": 27
        }
    ]
}