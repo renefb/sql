{
    "metadata": {
        "kernelspec": {
            "name": "SQL",
            "display_name": "SQL",
            "language": "sql"
        },
        "language_info": {
            "name": "sql",
            "version": ""
        },
        "extensions": {
            "azuredatastudio": {
                "version": 1,
                "views": []
            }
        }
    },
    "nbformat_minor": 2,
    "nbformat": 4,
    "cells": [
        {
            "cell_type": "markdown",
            "source": [
                "# **Notebook 05**\n",
                "\n",
                "Todos os scripts usam a sintaxe T-SQL.\n",
                "\n",
                "Os resultados da consultas foram limitados a um número específico de linhas, para facilitar a visualização do notebook\n",
                "\n",
                "  \n",
                "\n",
                "* * *"
            ],
            "metadata": {
                "azdata_cell_guid": "232eb465-96fe-45f3-9532-c0634acaf76b"
            },
            "attachments": {}
        },
        {
            "cell_type": "markdown",
            "source": [
                "## **Desafio**\n",
                "\n",
                "### Com uma única query, retorne o volume total de pedidos, o volume de pedidos entregues, o volume de pedidos entregues dentro do prazo previsto e o volume de pedidos que não foram entregues no prazo.\n",
                "\n",
                "- ### Agrupe os resultados por ano e mês.\n",
                "- ### Ordene os resultado por ano e mês (em formato numérico) ascendente, volume total descendente e volume dentro do prazo ascendente.\n",
                "- ### Filtre os meses que têm um volume de entrega fora do prazo menor do que 100."
            ],
            "metadata": {
                "azdata_cell_guid": "2373511d-71b8-4b33-9f23-e7a711ca492d"
            },
            "attachments": {}
        },
        {
            "cell_type": "markdown",
            "source": [
                "<br>\r\n",
                "A consulta abaixo oferece uma maneira mais direta de se obter o resultado solicitado:"
            ],
            "metadata": {
                "azdata_cell_guid": "c88aa603-6fa7-4d87-a3b1-8ce9025ccf29"
            },
            "attachments": {}
        },
        {
            "cell_type": "code",
            "source": [
                "SELECT \r\n",
                "     YEAR(order_purchase_timestamp) AS ano\r\n",
                "    ,MONTH(order_purchase_timestamp) AS mes\r\n",
                "    ,COUNT(order_id) AS total_pedidos\r\n",
                "    ,COUNT(order_delivered_customer_date) AS total_pedidos_entregues\r\n",
                "    ,SUM(IIF(order_delivered_customer_date <= order_estimated_delivery_date, 1, 0)) AS pedidos_entregues_no_prazo\r\n",
                "    ,SUM(IIF(order_delivered_customer_date > order_estimated_delivery_date, 1, 0)) AS pedidos_entregues_fora_do_prazo\r\n",
                "    ,IIF(\r\n",
                "        (COUNT(order_delivered_customer_date) = \r\n",
                "           SUM(IIF(order_delivered_customer_date <= order_estimated_delivery_date, 1, 0)) + SUM(IIF(order_delivered_customer_date > order_estimated_delivery_date, 1, 0))\r\n",
                "        ), CAST(1 AS BIT), CAST(0 AS BIT)) AS total_entregas_confere\r\n",
                "FROM olist_orders\r\n",
                "GROUP BY YEAR(order_purchase_timestamp), MONTH(order_purchase_timestamp)\r\n",
                "HAVING SUM(IIF(order_delivered_customer_date > order_estimated_delivery_date, 1, 0)) < 100\r\n",
                "ORDER BY ano ASC, mes ASC, total_pedidos DESC, pedidos_entregues_no_prazo ASC;"
            ],
            "metadata": {
                "azdata_cell_guid": "56a74423-a0c0-4f58-8195-3fec25ff6f4c",
                "tags": []
            },
            "outputs": [
                {
                    "output_type": "display_data",
                    "data": {
                        "text/html": "Warning: Null value is eliminated by an aggregate or other SET operation."
                    },
                    "metadata": {}
                },
                {
                    "output_type": "display_data",
                    "data": {
                        "text/html": "(8 rows affected)"
                    },
                    "metadata": {}
                },
                {
                    "output_type": "display_data",
                    "data": {
                        "text/html": "Total execution time: 00:00:01.045"
                    },
                    "metadata": {}
                },
                {
                    "output_type": "execute_result",
                    "metadata": {},
                    "execution_count": 17,
                    "data": {
                        "application/vnd.dataresource+json": {
                            "schema": {
                                "fields": [
                                    {
                                        "name": "ano"
                                    },
                                    {
                                        "name": "mes"
                                    },
                                    {
                                        "name": "total_pedidos"
                                    },
                                    {
                                        "name": "total_pedidos_entregues"
                                    },
                                    {
                                        "name": "pedidos_entregues_no_prazo"
                                    },
                                    {
                                        "name": "pedidos_entregues_fora_do_prazo"
                                    },
                                    {
                                        "name": "total_entregas_confere"
                                    }
                                ]
                            },
                            "data": [
                                {
                                    "0": "2016",
                                    "1": "9",
                                    "2": "4",
                                    "3": "1",
                                    "4": "0",
                                    "5": "1",
                                    "6": "1"
                                },
                                {
                                    "0": "2016",
                                    "1": "10",
                                    "2": "317",
                                    "3": "270",
                                    "4": "267",
                                    "5": "3",
                                    "6": "1"
                                },
                                {
                                    "0": "2016",
                                    "1": "12",
                                    "2": "1",
                                    "3": "1",
                                    "4": "1",
                                    "5": "0",
                                    "6": "1"
                                },
                                {
                                    "0": "2017",
                                    "1": "1",
                                    "2": "790",
                                    "3": "750",
                                    "4": "727",
                                    "5": "23",
                                    "6": "1"
                                },
                                {
                                    "0": "2017",
                                    "1": "2",
                                    "2": "1735",
                                    "3": "1653",
                                    "4": "1600",
                                    "5": "53",
                                    "6": "1"
                                },
                                {
                                    "0": "2018",
                                    "1": "6",
                                    "2": "6167",
                                    "3": "6096",
                                    "4": "6013",
                                    "5": "83",
                                    "6": "1"
                                },
                                {
                                    "0": "2018",
                                    "1": "9",
                                    "2": "16",
                                    "3": "0",
                                    "4": "0",
                                    "5": "0",
                                    "6": "1"
                                },
                                {
                                    "0": "2018",
                                    "1": "10",
                                    "2": "4",
                                    "3": "0",
                                    "4": "0",
                                    "5": "0",
                                    "6": "1"
                                }
                            ]
                        },
                        "text/html": [
                            "<table>",
                            "<tr><th>ano</th><th>mes</th><th>total_pedidos</th><th>total_pedidos_entregues</th><th>pedidos_entregues_no_prazo</th><th>pedidos_entregues_fora_do_prazo</th><th>total_entregas_confere</th></tr>",
                            "<tr><td>2016</td><td>9</td><td>4</td><td>1</td><td>0</td><td>1</td><td>1</td></tr>",
                            "<tr><td>2016</td><td>10</td><td>317</td><td>270</td><td>267</td><td>3</td><td>1</td></tr>",
                            "<tr><td>2016</td><td>12</td><td>1</td><td>1</td><td>1</td><td>0</td><td>1</td></tr>",
                            "<tr><td>2017</td><td>1</td><td>790</td><td>750</td><td>727</td><td>23</td><td>1</td></tr>",
                            "<tr><td>2017</td><td>2</td><td>1735</td><td>1653</td><td>1600</td><td>53</td><td>1</td></tr>",
                            "<tr><td>2018</td><td>6</td><td>6167</td><td>6096</td><td>6013</td><td>83</td><td>1</td></tr>",
                            "<tr><td>2018</td><td>9</td><td>16</td><td>0</td><td>0</td><td>0</td><td>1</td></tr>",
                            "<tr><td>2018</td><td>10</td><td>4</td><td>0</td><td>0</td><td>0</td><td>1</td></tr>",
                            "</table>"
                        ]
                    }
                }
            ],
            "execution_count": 17
        },
        {
            "cell_type": "markdown",
            "source": [
                "<br>\r\n",
                "Embora mais concisa, a query acima mistura funções e agregações nas cláusulas GROUP BY (linha 13) e HAVING (linha 14) em vez de se referirem aos alias das colunas correspondentes `ano`, `mes` e `pedidos_entregues_fora_do_prazo` - pois a ordem de execução da implementação do SQL exige que GROUP BY e HAVING sejam executados antes do SELECT, onde os alias foram definidos. Neste sentido, poderíamos melhorar um pouco a legibilidade refatorando a consulta utilizando subqueries:"
            ],
            "metadata": {
                "azdata_cell_guid": "de847706-74c4-495a-9b69-08ab8355889d"
            },
            "attachments": {}
        },
        {
            "cell_type": "code",
            "source": [
                "SELECT \r\n",
                "     c.ano\r\n",
                "    ,c.mes \r\n",
                "    ,COUNT(c.order_id) AS total_pedidos\r\n",
                "    ,COUNT(c.order_delivered_customer_date) AS total_pedidos_entregues\r\n",
                "    ,SUM(c.pedido_entregue_no_prazo) AS pedidos_entregues_no_prazo\r\n",
                "    ,SUM(c.pedido_entregue_fora_do_prazo) AS pedidos_entregues_fora_do_prazo\r\n",
                "    ,IIF(\r\n",
                "            (COUNT(c.order_delivered_customer_date) = SUM(c.pedido_entregue_no_prazo) + SUM(c.pedido_entregue_fora_do_prazo)), \r\n",
                "            CAST(1 AS BIT), CAST(0 AS BIT)) AS total_entregas_confere\r\n",
                "FROM (\r\n",
                "    SELECT \r\n",
                "        order_id\r\n",
                "        ,order_delivered_customer_date\r\n",
                "        ,YEAR(order_purchase_timestamp) AS ano\r\n",
                "        ,MONTH(order_purchase_timestamp) AS mes\r\n",
                "        ,IIF(order_delivered_customer_date <= order_estimated_delivery_date, 1, 0) AS pedido_entregue_no_prazo\r\n",
                "        ,IIF(order_delivered_customer_date > order_estimated_delivery_date, 1, 0) AS pedido_entregue_fora_do_prazo\r\n",
                "    FROM olist_orders\r\n",
                ") AS c\r\n",
                "GROUP BY c.ano, c.mes\r\n",
                "HAVING SUM(c.pedido_entregue_fora_do_prazo) < 100\r\n",
                "ORDER BY ano ASC, mes ASC, total_pedidos DESC, pedidos_entregues_no_prazo ASC;"
            ],
            "metadata": {
                "azdata_cell_guid": "d2b45f6b-fa94-4603-b3c6-2180495a4a5e"
            },
            "outputs": [
                {
                    "output_type": "display_data",
                    "data": {
                        "text/html": "Warning: Null value is eliminated by an aggregate or other SET operation."
                    },
                    "metadata": {}
                },
                {
                    "output_type": "display_data",
                    "data": {
                        "text/html": "(8 rows affected)"
                    },
                    "metadata": {}
                },
                {
                    "output_type": "display_data",
                    "data": {
                        "text/html": "Total execution time: 00:00:00.527"
                    },
                    "metadata": {}
                },
                {
                    "output_type": "execute_result",
                    "metadata": {},
                    "execution_count": 22,
                    "data": {
                        "application/vnd.dataresource+json": {
                            "schema": {
                                "fields": [
                                    {
                                        "name": "ano"
                                    },
                                    {
                                        "name": "mes"
                                    },
                                    {
                                        "name": "total_pedidos"
                                    },
                                    {
                                        "name": "total_pedidos_entregues"
                                    },
                                    {
                                        "name": "pedidos_entregues_no_prazo"
                                    },
                                    {
                                        "name": "pedidos_entregues_fora_do_prazo"
                                    },
                                    {
                                        "name": "total_entregas_confere"
                                    }
                                ]
                            },
                            "data": [
                                {
                                    "0": "2016",
                                    "1": "9",
                                    "2": "4",
                                    "3": "1",
                                    "4": "0",
                                    "5": "1",
                                    "6": "1"
                                },
                                {
                                    "0": "2016",
                                    "1": "10",
                                    "2": "317",
                                    "3": "270",
                                    "4": "267",
                                    "5": "3",
                                    "6": "1"
                                },
                                {
                                    "0": "2016",
                                    "1": "12",
                                    "2": "1",
                                    "3": "1",
                                    "4": "1",
                                    "5": "0",
                                    "6": "1"
                                },
                                {
                                    "0": "2017",
                                    "1": "1",
                                    "2": "790",
                                    "3": "750",
                                    "4": "727",
                                    "5": "23",
                                    "6": "1"
                                },
                                {
                                    "0": "2017",
                                    "1": "2",
                                    "2": "1735",
                                    "3": "1653",
                                    "4": "1600",
                                    "5": "53",
                                    "6": "1"
                                },
                                {
                                    "0": "2018",
                                    "1": "6",
                                    "2": "6167",
                                    "3": "6096",
                                    "4": "6013",
                                    "5": "83",
                                    "6": "1"
                                },
                                {
                                    "0": "2018",
                                    "1": "9",
                                    "2": "16",
                                    "3": "0",
                                    "4": "0",
                                    "5": "0",
                                    "6": "1"
                                },
                                {
                                    "0": "2018",
                                    "1": "10",
                                    "2": "4",
                                    "3": "0",
                                    "4": "0",
                                    "5": "0",
                                    "6": "1"
                                }
                            ]
                        },
                        "text/html": [
                            "<table>",
                            "<tr><th>ano</th><th>mes</th><th>total_pedidos</th><th>total_pedidos_entregues</th><th>pedidos_entregues_no_prazo</th><th>pedidos_entregues_fora_do_prazo</th><th>total_entregas_confere</th></tr>",
                            "<tr><td>2016</td><td>9</td><td>4</td><td>1</td><td>0</td><td>1</td><td>1</td></tr>",
                            "<tr><td>2016</td><td>10</td><td>317</td><td>270</td><td>267</td><td>3</td><td>1</td></tr>",
                            "<tr><td>2016</td><td>12</td><td>1</td><td>1</td><td>1</td><td>0</td><td>1</td></tr>",
                            "<tr><td>2017</td><td>1</td><td>790</td><td>750</td><td>727</td><td>23</td><td>1</td></tr>",
                            "<tr><td>2017</td><td>2</td><td>1735</td><td>1653</td><td>1600</td><td>53</td><td>1</td></tr>",
                            "<tr><td>2018</td><td>6</td><td>6167</td><td>6096</td><td>6013</td><td>83</td><td>1</td></tr>",
                            "<tr><td>2018</td><td>9</td><td>16</td><td>0</td><td>0</td><td>0</td><td>1</td></tr>",
                            "<tr><td>2018</td><td>10</td><td>4</td><td>0</td><td>0</td><td>0</td><td>1</td></tr>",
                            "</table>"
                        ]
                    }
                }
            ],
            "execution_count": 22
        },
        {
            "cell_type": "markdown",
            "source": [
                "<br>\r\n",
                "Uma outra forma de se chegar ao mesmo resultado seria com a utilização de Common Table Expressions (CTEs):"
            ],
            "metadata": {
                "azdata_cell_guid": "6af2dac9-7559-4113-9073-1aec96d3c44c"
            }
        },
        {
            "cell_type": "code",
            "source": [
                "WITH cte_desafio (ano, mes, order_id, order_delivered_customer_date, order_estimated_delivery_date, pedido_entregue_no_prazo, pedido_entregue_fora_do_prazo)\r\n",
                "AS (\r\n",
                "    SELECT \r\n",
                "         YEAR(order_purchase_timestamp) AS ano\r\n",
                "        ,MONTH(order_purchase_timestamp) AS mes\r\n",
                "        ,order_id\r\n",
                "        ,order_delivered_customer_date\r\n",
                "        ,order_estimated_delivery_date\r\n",
                "        ,IIF(order_delivered_customer_date <= order_estimated_delivery_date, 1, 0) AS pedido_entregue_no_prazo\r\n",
                "        ,IIF(order_delivered_customer_date > order_estimated_delivery_date, 1, 0) AS pedido_entregue_fora_do_prazo\r\n",
                "    FROM olist_orders\r\n",
                ")\r\n",
                "SELECT \r\n",
                "    ano\r\n",
                "    ,mes \r\n",
                "    ,COUNT(order_id) AS total_pedidos\r\n",
                "    ,COUNT(order_delivered_customer_date) AS total_pedidos_entregues\r\n",
                "    ,SUM(pedido_entregue_no_prazo) AS pedidos_entregues_no_prazo\r\n",
                "    ,SUM(pedido_entregue_fora_do_prazo) AS pedidos_entregues_fora_do_prazo\r\n",
                "    ,IIF(\r\n",
                "        (COUNT(order_delivered_customer_date) = \r\n",
                "           SUM(pedido_entregue_no_prazo) + SUM(pedido_entregue_fora_do_prazo)\r\n",
                "        ), CAST(1 AS BIT), CAST(0 AS BIT)) AS total_entregas_confere\r\n",
                "FROM cte_desafio\r\n",
                "GROUP BY ano, mes\r\n",
                "HAVING SUM(pedido_entregue_fora_do_prazo) < 100\r\n",
                "ORDER BY ano ASC, mes ASC, total_pedidos DESC, pedidos_entregues_no_prazo ASC;"
            ],
            "metadata": {
                "azdata_cell_guid": "94a1ef66-5b7a-4e62-92f0-fc648fad7adc",
                "tags": []
            },
            "outputs": [
                {
                    "output_type": "display_data",
                    "data": {
                        "text/html": "Warning: Null value is eliminated by an aggregate or other SET operation."
                    },
                    "metadata": {}
                },
                {
                    "output_type": "display_data",
                    "data": {
                        "text/html": "(8 rows affected)"
                    },
                    "metadata": {}
                },
                {
                    "output_type": "display_data",
                    "data": {
                        "text/html": "Total execution time: 00:00:00.268"
                    },
                    "metadata": {}
                },
                {
                    "output_type": "execute_result",
                    "metadata": {},
                    "execution_count": 23,
                    "data": {
                        "application/vnd.dataresource+json": {
                            "schema": {
                                "fields": [
                                    {
                                        "name": "ano"
                                    },
                                    {
                                        "name": "mes"
                                    },
                                    {
                                        "name": "total_pedidos"
                                    },
                                    {
                                        "name": "total_pedidos_entregues"
                                    },
                                    {
                                        "name": "pedidos_entregues_no_prazo"
                                    },
                                    {
                                        "name": "pedidos_entregues_fora_do_prazo"
                                    },
                                    {
                                        "name": "total_entregas_confere"
                                    }
                                ]
                            },
                            "data": [
                                {
                                    "0": "2016",
                                    "1": "9",
                                    "2": "4",
                                    "3": "1",
                                    "4": "0",
                                    "5": "1",
                                    "6": "1"
                                },
                                {
                                    "0": "2016",
                                    "1": "10",
                                    "2": "317",
                                    "3": "270",
                                    "4": "267",
                                    "5": "3",
                                    "6": "1"
                                },
                                {
                                    "0": "2016",
                                    "1": "12",
                                    "2": "1",
                                    "3": "1",
                                    "4": "1",
                                    "5": "0",
                                    "6": "1"
                                },
                                {
                                    "0": "2017",
                                    "1": "1",
                                    "2": "790",
                                    "3": "750",
                                    "4": "727",
                                    "5": "23",
                                    "6": "1"
                                },
                                {
                                    "0": "2017",
                                    "1": "2",
                                    "2": "1735",
                                    "3": "1653",
                                    "4": "1600",
                                    "5": "53",
                                    "6": "1"
                                },
                                {
                                    "0": "2018",
                                    "1": "6",
                                    "2": "6167",
                                    "3": "6096",
                                    "4": "6013",
                                    "5": "83",
                                    "6": "1"
                                },
                                {
                                    "0": "2018",
                                    "1": "9",
                                    "2": "16",
                                    "3": "0",
                                    "4": "0",
                                    "5": "0",
                                    "6": "1"
                                },
                                {
                                    "0": "2018",
                                    "1": "10",
                                    "2": "4",
                                    "3": "0",
                                    "4": "0",
                                    "5": "0",
                                    "6": "1"
                                }
                            ]
                        },
                        "text/html": [
                            "<table>",
                            "<tr><th>ano</th><th>mes</th><th>total_pedidos</th><th>total_pedidos_entregues</th><th>pedidos_entregues_no_prazo</th><th>pedidos_entregues_fora_do_prazo</th><th>total_entregas_confere</th></tr>",
                            "<tr><td>2016</td><td>9</td><td>4</td><td>1</td><td>0</td><td>1</td><td>1</td></tr>",
                            "<tr><td>2016</td><td>10</td><td>317</td><td>270</td><td>267</td><td>3</td><td>1</td></tr>",
                            "<tr><td>2016</td><td>12</td><td>1</td><td>1</td><td>1</td><td>0</td><td>1</td></tr>",
                            "<tr><td>2017</td><td>1</td><td>790</td><td>750</td><td>727</td><td>23</td><td>1</td></tr>",
                            "<tr><td>2017</td><td>2</td><td>1735</td><td>1653</td><td>1600</td><td>53</td><td>1</td></tr>",
                            "<tr><td>2018</td><td>6</td><td>6167</td><td>6096</td><td>6013</td><td>83</td><td>1</td></tr>",
                            "<tr><td>2018</td><td>9</td><td>16</td><td>0</td><td>0</td><td>0</td><td>1</td></tr>",
                            "<tr><td>2018</td><td>10</td><td>4</td><td>0</td><td>0</td><td>0</td><td>1</td></tr>",
                            "</table>"
                        ]
                    }
                }
            ],
            "execution_count": 23
        },
        {
            "cell_type": "markdown",
            "source": [
                "<br>\r\n",
                "<hr>\r\n",
                "<br>"
            ],
            "metadata": {
                "azdata_cell_guid": "8f8a99d4-e935-4679-bd8c-f21fdc380fdd"
            }
        },
        {
            "cell_type": "markdown",
            "source": [
                "## **Exercícios**"
            ],
            "metadata": {
                "azdata_cell_guid": "00858074-0305-4789-976a-b9bd75cd53b5"
            },
            "attachments": {}
        },
        {
            "cell_type": "markdown",
            "source": [
                "1. **Crie uma query que retorne os valores distintos de cidade existentes na tabela de clientes:**"
            ],
            "metadata": {
                "azdata_cell_guid": "79611faf-a54b-411d-a469-9ca7af44aad6"
            },
            "attachments": {}
        },
        {
            "cell_type": "code",
            "source": [
                "-- Obs: a query a seguir \r\n",
                "-- (1) retorna as colunas listadas no SELECT, \r\n",
                "-- (2) ordena pelo critério do ORDER BY, \r\n",
                "-- (3) remove as duplicatas apontadas pelo DISTINCT e \r\n",
                "-- (4) limita o resultado à quantidade indicada pelo operador TOP\r\n",
                "SELECT \r\n",
                "    DISTINCT TOP(20)    UPPER(customer_city) AS cidade, \r\n",
                "                        customer_state AS estado\r\n",
                "FROM dbo.olist_customers\r\n",
                "ORDER BY cidade, estado;"
            ],
            "metadata": {
                "azdata_cell_guid": "1fb608b3-5b3b-4400-a64c-2126d8b78f86",
                "tags": [
                    "hide_input"
                ]
            },
            "outputs": [
                {
                    "output_type": "display_data",
                    "data": {
                        "text/html": "(20 rows affected)"
                    },
                    "metadata": {}
                },
                {
                    "output_type": "display_data",
                    "data": {
                        "text/html": "Total execution time: 00:00:01.171"
                    },
                    "metadata": {}
                },
                {
                    "output_type": "execute_result",
                    "execution_count": 14,
                    "data": {
                        "application/vnd.dataresource+json": {
                            "schema": {
                                "fields": [
                                    {
                                        "name": "cidade"
                                    },
                                    {
                                        "name": "estado"
                                    }
                                ]
                            },
                            "data": [
                                {
                                    "0": "ABADIA DOS DOURADOS",
                                    "1": "MG"
                                },
                                {
                                    "0": "ABADIANIA",
                                    "1": "GO"
                                },
                                {
                                    "0": "ABAETE",
                                    "1": "MG"
                                },
                                {
                                    "0": "ABAETETUBA",
                                    "1": "PA"
                                },
                                {
                                    "0": "ABAIARA",
                                    "1": "CE"
                                },
                                {
                                    "0": "ABAIRA",
                                    "1": "BA"
                                },
                                {
                                    "0": "ABARE",
                                    "1": "BA"
                                },
                                {
                                    "0": "ABATIA",
                                    "1": "PR"
                                },
                                {
                                    "0": "ABDON BATISTA",
                                    "1": "SC"
                                },
                                {
                                    "0": "ABELARDO LUZ",
                                    "1": "SC"
                                },
                                {
                                    "0": "ABRANTES",
                                    "1": "BA"
                                },
                                {
                                    "0": "ABRE CAMPO",
                                    "1": "MG"
                                },
                                {
                                    "0": "ABREU E LIMA",
                                    "1": "PE"
                                },
                                {
                                    "0": "ACAIACA",
                                    "1": "MG"
                                },
                                {
                                    "0": "ACAILANDIA",
                                    "1": "MA"
                                },
                                {
                                    "0": "ACAJUTIBA",
                                    "1": "BA"
                                },
                                {
                                    "0": "ACARAU",
                                    "1": "CE"
                                },
                                {
                                    "0": "ACARI",
                                    "1": "RN"
                                },
                                {
                                    "0": "ACEGUA",
                                    "1": "RS"
                                },
                                {
                                    "0": "ACOPIARA",
                                    "1": "CE"
                                }
                            ]
                        },
                        "text/html": "<table><tr><th>cidade</th><th>estado</th></tr><tr><td>ABADIA DOS DOURADOS</td><td>MG</td></tr><tr><td>ABADIANIA</td><td>GO</td></tr><tr><td>ABAETE</td><td>MG</td></tr><tr><td>ABAETETUBA</td><td>PA</td></tr><tr><td>ABAIARA</td><td>CE</td></tr><tr><td>ABAIRA</td><td>BA</td></tr><tr><td>ABARE</td><td>BA</td></tr><tr><td>ABATIA</td><td>PR</td></tr><tr><td>ABDON BATISTA</td><td>SC</td></tr><tr><td>ABELARDO LUZ</td><td>SC</td></tr><tr><td>ABRANTES</td><td>BA</td></tr><tr><td>ABRE CAMPO</td><td>MG</td></tr><tr><td>ABREU E LIMA</td><td>PE</td></tr><tr><td>ACAIACA</td><td>MG</td></tr><tr><td>ACAILANDIA</td><td>MA</td></tr><tr><td>ACAJUTIBA</td><td>BA</td></tr><tr><td>ACARAU</td><td>CE</td></tr><tr><td>ACARI</td><td>RN</td></tr><tr><td>ACEGUA</td><td>RS</td></tr><tr><td>ACOPIARA</td><td>CE</td></tr></table>"
                    },
                    "metadata": {}
                }
            ],
            "execution_count": 14
        }
    ]
}