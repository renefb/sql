{
    "metadata": {
        "kernelspec": {
            "name": "SQL",
            "display_name": "SQL",
            "language": "sql"
        },
        "language_info": {
            "name": "sql",
            "version": ""
        }
    },
    "nbformat_minor": 2,
    "nbformat": 4,
    "cells": [
        {
            "cell_type": "markdown",
            "source": [
                "# Desafios de SQL 3\n",
                "\n",
                "1 Todos os desafios usam como base o dataset disponibilizado pela Olist no [Kaggle](https://www.kaggle.com/olistbr/brazilian-ecommerce/).\n",
                "\n",
                "2 O dataset foi carregado num banco de dados Azure SQL Server, conforme descrito na apresentação.\n",
                "\n",
                "3 Quando não houver prejuízos à interpretação dos resultados, as consultas serão limitadas a um número específico de linhas (geralmente as 20 primeiras)."
            ],
            "metadata": {
                "azdata_cell_guid": "44a8cedd-f4f1-4905-a1dd-294c2f5a88f1"
            },
            "attachments": {}
        },
        {
            "cell_type": "markdown",
            "source": [
                "* * *\n",
                "\n",
                "  \n",
                "\n",
                "### **1**. Crie uma tabela analítica de todos os itens que foram vendidos, mostrando somente pedidos interestaduais. Queremos saber quantos dias os fornecedores demoram para postar o produto, se o produto chegou ou não no prazo:"
            ],
            "metadata": {
                "azdata_cell_guid": "436bcce5-9714-4a03-9d05-8c88d48ecd4b"
            },
            "attachments": {}
        },
        {
            "cell_type": "code",
            "source": [
                "SELECT TOP 20\r\n",
                "     s.seller_id\r\n",
                "    ,s.seller_state\r\n",
                "    ,c.customer_state AS customers_state\r\n",
                "    ,AVG(DATEDIFF(DAY, order_approved_at, COALESCE(order_delivered_carrier_at, CURRENT_TIMESTAMP))) AS avg_days_to_post\r\n",
                "    ,COUNT(*) AS total_interstate_orders\r\n",
                "    ,SUM(IIF(DATEDIFF(DAY, order_estimated_delivery_date, COALESCE(order_delivered_customer_date, CURRENT_TIMESTAMP)) > 0, 1, 0)) AS total_interstate_deliveries_delayed\r\n",
                "    ,FORMAT(AVG(IIF(DATEDIFF(DAY, order_estimated_delivery_date, COALESCE(order_delivered_customer_date, CURRENT_TIMESTAMP)) > 0, 100.0, 0.0)), 'N') AS percent_interstate_deliveries_delayed\r\n",
                "FROM olist.orders AS o\r\n",
                "INNER JOIN olist.order_items AS oi ON (o.order_id = oi.order_id)\r\n",
                "INNER JOIN olist.sellers AS s ON (oi.seller_id = s.seller_id)\r\n",
                "INNER JOIN olist.customers AS c ON (o.customer_id = c.customer_id)\r\n",
                "WHERE c.customer_state <> s.seller_state\r\n",
                "GROUP BY s.seller_id, s.seller_state, c.customer_state\r\n",
                "ORDER BY s.seller_id, c.customer_state"
            ],
            "metadata": {
                "azdata_cell_guid": "3952433e-4927-4e72-81ce-a3f3e0866fff",
                "tags": [
                    "hide_input"
                ]
            },
            "outputs": [
                {
                    "output_type": "display_data",
                    "data": {
                        "text/html": "(20 rows affected)"
                    },
                    "metadata": {}
                },
                {
                    "output_type": "display_data",
                    "data": {
                        "text/html": "Total execution time: 00:00:07.953"
                    },
                    "metadata": {}
                },
                {
                    "output_type": "execute_result",
                    "metadata": {},
                    "execution_count": 10,
                    "data": {
                        "application/vnd.dataresource+json": {
                            "schema": {
                                "fields": [
                                    {
                                        "name": "seller_id"
                                    },
                                    {
                                        "name": "seller_state"
                                    },
                                    {
                                        "name": "customers_state"
                                    },
                                    {
                                        "name": "avg_days_to_post"
                                    },
                                    {
                                        "name": "total_interstate_orders"
                                    },
                                    {
                                        "name": "total_interstate_deliveries_delayed"
                                    },
                                    {
                                        "name": "percent_interstate_deliveries_delayed"
                                    }
                                ]
                            },
                            "data": [
                                {
                                    "0": "0015a82c2db000af6aaaf3ae2ecb0532",
                                    "1": "SP",
                                    "2": "MG",
                                    "3": "3",
                                    "4": "2",
                                    "5": "0",
                                    "6": "0.00"
                                },
                                {
                                    "0": "0015a82c2db000af6aaaf3ae2ecb0532",
                                    "1": "SP",
                                    "2": "PR",
                                    "3": "2",
                                    "4": "1",
                                    "5": "0",
                                    "6": "0.00"
                                },
                                {
                                    "0": "001cca7ae9ae17fb1caed9dfb1094831",
                                    "1": "ES",
                                    "2": "BA",
                                    "3": "2",
                                    "4": "21",
                                    "5": "0",
                                    "6": "0.00"
                                },
                                {
                                    "0": "001cca7ae9ae17fb1caed9dfb1094831",
                                    "1": "ES",
                                    "2": "CE",
                                    "3": "1",
                                    "4": "3",
                                    "5": "0",
                                    "6": "0.00"
                                },
                                {
                                    "0": "001cca7ae9ae17fb1caed9dfb1094831",
                                    "1": "ES",
                                    "2": "DF",
                                    "3": "2",
                                    "4": "1",
                                    "5": "0",
                                    "6": "0.00"
                                },
                                {
                                    "0": "001cca7ae9ae17fb1caed9dfb1094831",
                                    "1": "ES",
                                    "2": "GO",
                                    "3": "0",
                                    "4": "1",
                                    "5": "0",
                                    "6": "0.00"
                                },
                                {
                                    "0": "001cca7ae9ae17fb1caed9dfb1094831",
                                    "1": "ES",
                                    "2": "MG",
                                    "3": "2",
                                    "4": "36",
                                    "5": "0",
                                    "6": "0.00"
                                },
                                {
                                    "0": "001cca7ae9ae17fb1caed9dfb1094831",
                                    "1": "ES",
                                    "2": "MT",
                                    "3": "1",
                                    "4": "6",
                                    "5": "0",
                                    "6": "0.00"
                                },
                                {
                                    "0": "001cca7ae9ae17fb1caed9dfb1094831",
                                    "1": "ES",
                                    "2": "PA",
                                    "3": "1",
                                    "4": "1",
                                    "5": "1",
                                    "6": "100.00"
                                },
                                {
                                    "0": "001cca7ae9ae17fb1caed9dfb1094831",
                                    "1": "ES",
                                    "2": "PE",
                                    "3": "1",
                                    "4": "3",
                                    "5": "0",
                                    "6": "0.00"
                                },
                                {
                                    "0": "001cca7ae9ae17fb1caed9dfb1094831",
                                    "1": "ES",
                                    "2": "PI",
                                    "3": "1",
                                    "4": "1",
                                    "5": "0",
                                    "6": "0.00"
                                },
                                {
                                    "0": "001cca7ae9ae17fb1caed9dfb1094831",
                                    "1": "ES",
                                    "2": "PR",
                                    "3": "2",
                                    "4": "11",
                                    "5": "0",
                                    "6": "0.00"
                                },
                                {
                                    "0": "001cca7ae9ae17fb1caed9dfb1094831",
                                    "1": "ES",
                                    "2": "RJ",
                                    "3": "1",
                                    "4": "49",
                                    "5": "5",
                                    "6": "10.20"
                                },
                                {
                                    "0": "001cca7ae9ae17fb1caed9dfb1094831",
                                    "1": "ES",
                                    "2": "RO",
                                    "3": "2",
                                    "4": "1",
                                    "5": "0",
                                    "6": "0.00"
                                },
                                {
                                    "0": "001cca7ae9ae17fb1caed9dfb1094831",
                                    "1": "ES",
                                    "2": "RS",
                                    "3": "2",
                                    "4": "16",
                                    "5": "2",
                                    "6": "12.50"
                                },
                                {
                                    "0": "001cca7ae9ae17fb1caed9dfb1094831",
                                    "1": "ES",
                                    "2": "SC",
                                    "3": "3",
                                    "4": "11",
                                    "5": "1",
                                    "6": "9.09"
                                },
                                {
                                    "0": "001cca7ae9ae17fb1caed9dfb1094831",
                                    "1": "ES",
                                    "2": "SE",
                                    "3": "4",
                                    "4": "1",
                                    "5": "1",
                                    "6": "100.00"
                                },
                                {
                                    "0": "001cca7ae9ae17fb1caed9dfb1094831",
                                    "1": "ES",
                                    "2": "SP",
                                    "3": "1",
                                    "4": "67",
                                    "5": "6",
                                    "6": "8.96"
                                },
                                {
                                    "0": "001cca7ae9ae17fb1caed9dfb1094831",
                                    "1": "ES",
                                    "2": "TO",
                                    "3": "1",
                                    "4": "4",
                                    "5": "0",
                                    "6": "0.00"
                                },
                                {
                                    "0": "001e6ad469a905060d959994f1b41e4f",
                                    "1": "RJ",
                                    "2": "SP",
                                    "3": "1222",
                                    "4": "1",
                                    "5": "1",
                                    "6": "100.00"
                                }
                            ]
                        },
                        "text/html": [
                            "<table>",
                            "<tr><th>seller_id</th><th>seller_state</th><th>customers_state</th><th>avg_days_to_post</th><th>total_interstate_orders</th><th>total_interstate_deliveries_delayed</th><th>percent_interstate_deliveries_delayed</th></tr>",
                            "<tr><td>0015a82c2db000af6aaaf3ae2ecb0532</td><td>SP</td><td>MG</td><td>3</td><td>2</td><td>0</td><td>0.00</td></tr>",
                            "<tr><td>0015a82c2db000af6aaaf3ae2ecb0532</td><td>SP</td><td>PR</td><td>2</td><td>1</td><td>0</td><td>0.00</td></tr>",
                            "<tr><td>001cca7ae9ae17fb1caed9dfb1094831</td><td>ES</td><td>BA</td><td>2</td><td>21</td><td>0</td><td>0.00</td></tr>",
                            "<tr><td>001cca7ae9ae17fb1caed9dfb1094831</td><td>ES</td><td>CE</td><td>1</td><td>3</td><td>0</td><td>0.00</td></tr>",
                            "<tr><td>001cca7ae9ae17fb1caed9dfb1094831</td><td>ES</td><td>DF</td><td>2</td><td>1</td><td>0</td><td>0.00</td></tr>",
                            "<tr><td>001cca7ae9ae17fb1caed9dfb1094831</td><td>ES</td><td>GO</td><td>0</td><td>1</td><td>0</td><td>0.00</td></tr>",
                            "<tr><td>001cca7ae9ae17fb1caed9dfb1094831</td><td>ES</td><td>MG</td><td>2</td><td>36</td><td>0</td><td>0.00</td></tr>",
                            "<tr><td>001cca7ae9ae17fb1caed9dfb1094831</td><td>ES</td><td>MT</td><td>1</td><td>6</td><td>0</td><td>0.00</td></tr>",
                            "<tr><td>001cca7ae9ae17fb1caed9dfb1094831</td><td>ES</td><td>PA</td><td>1</td><td>1</td><td>1</td><td>100.00</td></tr>",
                            "<tr><td>001cca7ae9ae17fb1caed9dfb1094831</td><td>ES</td><td>PE</td><td>1</td><td>3</td><td>0</td><td>0.00</td></tr>",
                            "<tr><td>001cca7ae9ae17fb1caed9dfb1094831</td><td>ES</td><td>PI</td><td>1</td><td>1</td><td>0</td><td>0.00</td></tr>",
                            "<tr><td>001cca7ae9ae17fb1caed9dfb1094831</td><td>ES</td><td>PR</td><td>2</td><td>11</td><td>0</td><td>0.00</td></tr>",
                            "<tr><td>001cca7ae9ae17fb1caed9dfb1094831</td><td>ES</td><td>RJ</td><td>1</td><td>49</td><td>5</td><td>10.20</td></tr>",
                            "<tr><td>001cca7ae9ae17fb1caed9dfb1094831</td><td>ES</td><td>RO</td><td>2</td><td>1</td><td>0</td><td>0.00</td></tr>",
                            "<tr><td>001cca7ae9ae17fb1caed9dfb1094831</td><td>ES</td><td>RS</td><td>2</td><td>16</td><td>2</td><td>12.50</td></tr>",
                            "<tr><td>001cca7ae9ae17fb1caed9dfb1094831</td><td>ES</td><td>SC</td><td>3</td><td>11</td><td>1</td><td>9.09</td></tr>",
                            "<tr><td>001cca7ae9ae17fb1caed9dfb1094831</td><td>ES</td><td>SE</td><td>4</td><td>1</td><td>1</td><td>100.00</td></tr>",
                            "<tr><td>001cca7ae9ae17fb1caed9dfb1094831</td><td>ES</td><td>SP</td><td>1</td><td>67</td><td>6</td><td>8.96</td></tr>",
                            "<tr><td>001cca7ae9ae17fb1caed9dfb1094831</td><td>ES</td><td>TO</td><td>1</td><td>4</td><td>0</td><td>0.00</td></tr>",
                            "<tr><td>001e6ad469a905060d959994f1b41e4f</td><td>RJ</td><td>SP</td><td>1222</td><td>1</td><td>1</td><td>100.00</td></tr>",
                            "</table>"
                        ]
                    }
                }
            ],
            "execution_count": 10
        },
        {
            "cell_type": "markdown",
            "source": [
                "<br>\n",
                "<hr>\n",
                "<br>  \n",
                "\n",
                "### **2**. Exiba todos os pagamentos do cliente, com suas datas de aprovação, valor da compra e o valor total que o cliente já gastou em todas as suas compras, mostrando somente os clientes onde o valor da compra é diferente do valor total já gasto:"
            ],
            "metadata": {
                "azdata_cell_guid": "d7c6dc09-e2d1-41ac-bf83-a6f05713ccaa"
            },
            "attachments": {}
        },
        {
            "cell_type": "code",
            "source": [
                ""
            ],
            "metadata": {
                "azdata_cell_guid": "440fbe8d-4c18-4f5b-9e86-fba6e6ec3f7d"
            },
            "outputs": [
                {
                    "output_type": "display_data",
                    "data": {
                        "text/html": "(5 rows affected)"
                    },
                    "metadata": {}
                },
                {
                    "output_type": "display_data",
                    "data": {
                        "text/html": "Total execution time: 00:00:05.067"
                    },
                    "metadata": {}
                },
                {
                    "output_type": "execute_result",
                    "execution_count": 24,
                    "data": {
                        "application/vnd.dataresource+json": {
                            "schema": {
                                "fields": [
                                    {
                                        "name": "customer_id"
                                    },
                                    {
                                        "name": "total_orders_value"
                                    },
                                    {
                                        "name": "qty_orders"
                                    },
                                    {
                                        "name": "avg_orders_value"
                                    }
                                ]
                            },
                            "data": [
                                {
                                    "0": "1617b1357756262bfa56ab541c47bc16",
                                    "1": "13664,08",
                                    "2": "1",
                                    "3": "13664,080000"
                                },
                                {
                                    "0": "ec5b2ba62e574342386871631fafd3fc",
                                    "1": "7274,88",
                                    "2": "1",
                                    "3": "7274,880000"
                                },
                                {
                                    "0": "c6e2731c5b391845f6800c97401a43a9",
                                    "1": "6929,31",
                                    "2": "1",
                                    "3": "6929,310000"
                                },
                                {
                                    "0": "f48d464a0baaea338cb25f816991ab1f",
                                    "1": "6922,21",
                                    "2": "1",
                                    "3": "6922,210000"
                                },
                                {
                                    "0": "3fd6777bbce08a352fddd04e4a7cc8f6",
                                    "1": "6726,66",
                                    "2": "1",
                                    "3": "6726,660000"
                                }
                            ]
                        },
                        "text/html": "<table><tr><th>customer_id</th><th>total_orders_value</th><th>qty_orders</th><th>avg_orders_value</th></tr><tr><td>1617b1357756262bfa56ab541c47bc16</td><td>13664,08</td><td>1</td><td>13664,080000</td></tr><tr><td>ec5b2ba62e574342386871631fafd3fc</td><td>7274,88</td><td>1</td><td>7274,880000</td></tr><tr><td>c6e2731c5b391845f6800c97401a43a9</td><td>6929,31</td><td>1</td><td>6929,310000</td></tr><tr><td>f48d464a0baaea338cb25f816991ab1f</td><td>6922,21</td><td>1</td><td>6922,210000</td></tr><tr><td>3fd6777bbce08a352fddd04e4a7cc8f6</td><td>6726,66</td><td>1</td><td>6726,660000</td></tr></table>"
                    },
                    "metadata": {}
                }
            ],
            "execution_count": 24
        },
        {
            "cell_type": "markdown",
            "source": [
                "<br>\r\n",
                "<hr>\r\n",
                "<br>\r\n",
                "\r\n",
                "### **3**. Retorne as categorias válidas, suas somas totais dos valores de vendas, um ranqueamento de maior valor para menor valor junto com o somatório acumulado dos valores pela mesma regra do ranqueamento:"
            ],
            "metadata": {
                "azdata_cell_guid": "f7e1b489-d667-49dd-9426-26637d2324fa"
            }
        },
        {
            "cell_type": "code",
            "source": [
                ""
            ],
            "metadata": {
                "azdata_cell_guid": "a310f7f5-3a72-45e7-acdc-eda07deeb0ba",
                "tags": []
            },
            "outputs": [
                {
                    "output_type": "display_data",
                    "data": {
                        "text/html": "(40 rows affected)"
                    },
                    "metadata": {}
                },
                {
                    "output_type": "display_data",
                    "data": {
                        "text/html": "Total execution time: 00:00:10.163"
                    },
                    "metadata": {}
                },
                {
                    "output_type": "execute_result",
                    "execution_count": 11,
                    "data": {
                        "application/vnd.dataresource+json": {
                            "schema": {
                                "fields": [
                                    {
                                        "name": "product_category_name"
                                    },
                                    {
                                        "name": "seller_id"
                                    },
                                    {
                                        "name": "total_orders_value"
                                    }
                                ]
                            },
                            "data": [
                                {
                                    "0": "agro_industria_e_comercio",
                                    "1": "e59aa562b9f8076dd550fcddf0e73491",
                                    "2": "40730,28"
                                },
                                {
                                    "0": "agro_industria_e_comercio",
                                    "1": "f08a5b9dd6767129688d001acafc21e5",
                                    "2": "38203,91"
                                },
                                {
                                    "0": "agro_industria_e_comercio",
                                    "1": "6bd69102ab48df500790a8cecfc285c2",
                                    "2": "8359,02"
                                },
                                {
                                    "0": "agro_industria_e_comercio",
                                    "1": "2528744c5ef5d955adc318720a94d2e7",
                                    "2": "6508,70"
                                },
                                {
                                    "0": "agro_industria_e_comercio",
                                    "1": "31ae0774c17fabd06ff707cc5bde005f",
                                    "2": "5690,23"
                                },
                                {
                                    "0": "agro_industria_e_comercio",
                                    "1": "6481e96574816ead57975da2c0f6d80d",
                                    "2": "2837,23"
                                },
                                {
                                    "0": "agro_industria_e_comercio",
                                    "1": "cfd7ddab722b902f7ac5b5f3ba6d723d",
                                    "2": "2268,88"
                                },
                                {
                                    "0": "agro_industria_e_comercio",
                                    "1": "d17f467e4bf608a510c20d82f4ba3b6b",
                                    "2": "2253,82"
                                },
                                {
                                    "0": "agro_industria_e_comercio",
                                    "1": "397c4d0c005b6f41f90098ac724e28cb",
                                    "2": "1978,18"
                                },
                                {
                                    "0": "agro_industria_e_comercio",
                                    "1": "a420f60ff1aa9acc80d0e42959f2b313",
                                    "2": "1269,50"
                                },
                                {
                                    "0": "agro_industria_e_comercio",
                                    "1": "269cff2d3c8d205c11f37a52402ea93b",
                                    "2": "1249,58"
                                },
                                {
                                    "0": "agro_industria_e_comercio",
                                    "1": "4e922959ae960d389249c378d1c939f5",
                                    "2": "1024,89"
                                },
                                {
                                    "0": "alimentos",
                                    "1": "cbd996ad3c1b7dc71fd0e5f5df9087e2",
                                    "2": "8404,78"
                                },
                                {
                                    "0": "alimentos",
                                    "1": "d13e50eaa47b4cbe9eb81465865d8cfc",
                                    "2": "5934,42"
                                },
                                {
                                    "0": "alimentos",
                                    "1": "16090f2ca825584b5a147ab24aa30c86",
                                    "2": "5155,77"
                                },
                                {
                                    "0": "alimentos",
                                    "1": "8d79c8a04e42d722a75097ce5cbcf2ef",
                                    "2": "4006,96"
                                },
                                {
                                    "0": "alimentos",
                                    "1": "e9779976487b77c6d4ac45f75ec7afe9",
                                    "2": "2940,22"
                                },
                                {
                                    "0": "alimentos",
                                    "1": "9b013e03b2ab786505a1d3b5c0756754",
                                    "2": "2744,09"
                                },
                                {
                                    "0": "alimentos",
                                    "1": "a5a1bfcf728ab0e19182959cf0771ee4",
                                    "2": "1926,52"
                                },
                                {
                                    "0": "alimentos",
                                    "1": "da03c298e3999e9d828591fc2179d109",
                                    "2": "1157,68"
                                },
                                {
                                    "0": "alimentos_bebidas",
                                    "1": "a3dd39f583bc80bd8c5901c95878921e",
                                    "2": "6164,08"
                                },
                                {
                                    "0": "alimentos_bebidas",
                                    "1": "282f23a9769b2690c5dda22e316f9941",
                                    "2": "3487,66"
                                },
                                {
                                    "0": "alimentos_bebidas",
                                    "1": "5011f0d93373a4c5753adf58ca77af8d",
                                    "2": "2858,31"
                                },
                                {
                                    "0": "alimentos_bebidas",
                                    "1": "e9779976487b77c6d4ac45f75ec7afe9",
                                    "2": "1882,87"
                                },
                                {
                                    "0": "alimentos_bebidas",
                                    "1": "bbaff50f3b708fda865918715276cd87",
                                    "2": "1409,71"
                                },
                                {
                                    "0": "alimentos_bebidas",
                                    "1": "3a3e46d10f74d8a6ca76e2b538f106a0",
                                    "2": "1344,66"
                                },
                                {
                                    "0": "alimentos_bebidas",
                                    "1": "751bdc4d83a466c7206cd42e8f426b03",
                                    "2": "1297,73"
                                },
                                {
                                    "0": "alimentos_bebidas",
                                    "1": "9a03a4e9eb0b947652fae4f6121a3f5e",
                                    "2": "1011,15"
                                },
                                {
                                    "0": "artes",
                                    "1": "c31eff8334d6b3047ed34bebd4d62c36",
                                    "2": "13405,89"
                                },
                                {
                                    "0": "artes",
                                    "1": "ee27a8f15b1dded4d213a468ba4eb391",
                                    "2": "6726,66"
                                },
                                {
                                    "0": "artes",
                                    "1": "a0e19590a0923cdd0614ea9427713ced",
                                    "2": "2129,62"
                                },
                                {
                                    "0": "artes",
                                    "1": "955fee9216a65b617aa5c0531780ce60",
                                    "2": "1067,70"
                                },
                                {
                                    "0": "artigos_de_festas",
                                    "1": "6bbcb8924baf70b7fe2fe2097e8cd407",
                                    "2": "2460,93"
                                },
                                {
                                    "0": "artigos_de_festas",
                                    "1": "dbb9b48c841a0e39e21f98e1a6b2ec3e",
                                    "2": "1106,63"
                                },
                                {
                                    "0": "artigos_de_natal",
                                    "1": "0d85bbda9889ce1f7e63778d24f346eb",
                                    "2": "7646,12"
                                },
                                {
                                    "0": "artigos_de_natal",
                                    "1": "d93919c944be9cff128f6c9cb899eacb",
                                    "2": "3435,67"
                                },
                                {
                                    "0": "artigos_de_natal",
                                    "1": "113e3a788b935f48aad63e1c41dac1bd",
                                    "2": "2273,61"
                                },
                                {
                                    "0": "artigos_de_natal",
                                    "1": "4e326052e5dbba8adcd512f3450a307e",
                                    "2": "1539,32"
                                },
                                {
                                    "0": "artigos_de_natal",
                                    "1": "b9a03475e6447e631b6799ec8274800f",
                                    "2": "1408,07"
                                },
                                {
                                    "0": "audio",
                                    "1": "7d13fca15225358621be4086e1eb0964",
                                    "2": "20610,09"
                                }
                            ]
                        },
                        "text/html": "<table><tr><th>product_category_name</th><th>seller_id</th><th>total_orders_value</th></tr><tr><td>agro_industria_e_comercio</td><td>e59aa562b9f8076dd550fcddf0e73491</td><td>40730,28</td></tr><tr><td>agro_industria_e_comercio</td><td>f08a5b9dd6767129688d001acafc21e5</td><td>38203,91</td></tr><tr><td>agro_industria_e_comercio</td><td>6bd69102ab48df500790a8cecfc285c2</td><td>8359,02</td></tr><tr><td>agro_industria_e_comercio</td><td>2528744c5ef5d955adc318720a94d2e7</td><td>6508,70</td></tr><tr><td>agro_industria_e_comercio</td><td>31ae0774c17fabd06ff707cc5bde005f</td><td>5690,23</td></tr><tr><td>agro_industria_e_comercio</td><td>6481e96574816ead57975da2c0f6d80d</td><td>2837,23</td></tr><tr><td>agro_industria_e_comercio</td><td>cfd7ddab722b902f7ac5b5f3ba6d723d</td><td>2268,88</td></tr><tr><td>agro_industria_e_comercio</td><td>d17f467e4bf608a510c20d82f4ba3b6b</td><td>2253,82</td></tr><tr><td>agro_industria_e_comercio</td><td>397c4d0c005b6f41f90098ac724e28cb</td><td>1978,18</td></tr><tr><td>agro_industria_e_comercio</td><td>a420f60ff1aa9acc80d0e42959f2b313</td><td>1269,50</td></tr><tr><td>agro_industria_e_comercio</td><td>269cff2d3c8d205c11f37a52402ea93b</td><td>1249,58</td></tr><tr><td>agro_industria_e_comercio</td><td>4e922959ae960d389249c378d1c939f5</td><td>1024,89</td></tr><tr><td>alimentos</td><td>cbd996ad3c1b7dc71fd0e5f5df9087e2</td><td>8404,78</td></tr><tr><td>alimentos</td><td>d13e50eaa47b4cbe9eb81465865d8cfc</td><td>5934,42</td></tr><tr><td>alimentos</td><td>16090f2ca825584b5a147ab24aa30c86</td><td>5155,77</td></tr><tr><td>alimentos</td><td>8d79c8a04e42d722a75097ce5cbcf2ef</td><td>4006,96</td></tr><tr><td>alimentos</td><td>e9779976487b77c6d4ac45f75ec7afe9</td><td>2940,22</td></tr><tr><td>alimentos</td><td>9b013e03b2ab786505a1d3b5c0756754</td><td>2744,09</td></tr><tr><td>alimentos</td><td>a5a1bfcf728ab0e19182959cf0771ee4</td><td>1926,52</td></tr><tr><td>alimentos</td><td>da03c298e3999e9d828591fc2179d109</td><td>1157,68</td></tr><tr><td>alimentos_bebidas</td><td>a3dd39f583bc80bd8c5901c95878921e</td><td>6164,08</td></tr><tr><td>alimentos_bebidas</td><td>282f23a9769b2690c5dda22e316f9941</td><td>3487,66</td></tr><tr><td>alimentos_bebidas</td><td>5011f0d93373a4c5753adf58ca77af8d</td><td>2858,31</td></tr><tr><td>alimentos_bebidas</td><td>e9779976487b77c6d4ac45f75ec7afe9</td><td>1882,87</td></tr><tr><td>alimentos_bebidas</td><td>bbaff50f3b708fda865918715276cd87</td><td>1409,71</td></tr><tr><td>alimentos_bebidas</td><td>3a3e46d10f74d8a6ca76e2b538f106a0</td><td>1344,66</td></tr><tr><td>alimentos_bebidas</td><td>751bdc4d83a466c7206cd42e8f426b03</td><td>1297,73</td></tr><tr><td>alimentos_bebidas</td><td>9a03a4e9eb0b947652fae4f6121a3f5e</td><td>1011,15</td></tr><tr><td>artes</td><td>c31eff8334d6b3047ed34bebd4d62c36</td><td>13405,89</td></tr><tr><td>artes</td><td>ee27a8f15b1dded4d213a468ba4eb391</td><td>6726,66</td></tr><tr><td>artes</td><td>a0e19590a0923cdd0614ea9427713ced</td><td>2129,62</td></tr><tr><td>artes</td><td>955fee9216a65b617aa5c0531780ce60</td><td>1067,70</td></tr><tr><td>artigos_de_festas</td><td>6bbcb8924baf70b7fe2fe2097e8cd407</td><td>2460,93</td></tr><tr><td>artigos_de_festas</td><td>dbb9b48c841a0e39e21f98e1a6b2ec3e</td><td>1106,63</td></tr><tr><td>artigos_de_natal</td><td>0d85bbda9889ce1f7e63778d24f346eb</td><td>7646,12</td></tr><tr><td>artigos_de_natal</td><td>d93919c944be9cff128f6c9cb899eacb</td><td>3435,67</td></tr><tr><td>artigos_de_natal</td><td>113e3a788b935f48aad63e1c41dac1bd</td><td>2273,61</td></tr><tr><td>artigos_de_natal</td><td>4e326052e5dbba8adcd512f3450a307e</td><td>1539,32</td></tr><tr><td>artigos_de_natal</td><td>b9a03475e6447e631b6799ec8274800f</td><td>1408,07</td></tr><tr><td>audio</td><td>7d13fca15225358621be4086e1eb0964</td><td>20610,09</td></tr></table>"
                    },
                    "metadata": {}
                }
            ],
            "execution_count": 11
        }
    ]
}