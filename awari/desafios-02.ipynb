{
    "metadata": {
        "kernelspec": {
            "name": "SQL",
            "display_name": "SQL",
            "language": "sql"
        },
        "language_info": {
            "name": "sql",
            "version": ""
        }
    },
    "nbformat_minor": 2,
    "nbformat": 4,
    "cells": [
        {
            "cell_type": "markdown",
            "source": [
                "# Desafios de SQL 2\n",
                "\n",
                "1 Todos os desafios usam como base o dataset disponibilizado pela Olist no [Kaggle](https://www.kaggle.com/olistbr/brazilian-ecommerce/).\n",
                "\n",
                "2 O dataset foi carregado num banco de dados Azure SQL Server, conforme descrito na [apresentação]().\n",
                "\n",
                "3 Quando não houver prejuízos à interpretação dos resultados, as consultas serão limitadas a um número específico de linhas (geralmente as 20 primeiras)."
            ],
            "metadata": {
                "azdata_cell_guid": "44a8cedd-f4f1-4905-a1dd-294c2f5a88f1"
            },
            "attachments": {}
        },
        {
            "cell_type": "markdown",
            "source": [
                "* * *\n",
                "\n",
                "  \n",
                "\n",
                "### **1**. Retorne a quantidade de itens vendidos em cada categoria por Estado em que o cliente se encontra, mostrando somente categorias que tenham vendido uma quantidade de items acima de 1000:"
            ],
            "metadata": {
                "azdata_cell_guid": "436bcce5-9714-4a03-9d05-8c88d48ecd4b"
            },
            "attachments": {}
        },
        {
            "cell_type": "code",
            "source": [
                "SELECT TOP 20\r\n",
                "     c.customer_state\r\n",
                "    ,p.product_category_name\r\n",
                "    ,COUNT(*) AS qty_sold\r\n",
                "FROM olist.orders AS O\r\n",
                "INNER JOIN olist.customers AS c ON (o.customer_id = c.customer_id)\r\n",
                "INNER JOIN olist.order_items AS oi ON (o.order_id = oi.order_id)\r\n",
                "INNER JOIN olist.products AS p ON (oi.product_id = p.product_id)\r\n",
                "GROUP BY c.customer_state, p.product_category_name\r\n",
                "HAVING COUNT(*) > 1000"
            ],
            "metadata": {
                "azdata_cell_guid": "3952433e-4927-4e72-81ce-a3f3e0866fff",
                "tags": []
            },
            "outputs": [
                {
                    "output_type": "display_data",
                    "data": {
                        "text/html": "(20 rows affected)"
                    },
                    "metadata": {}
                },
                {
                    "output_type": "display_data",
                    "data": {
                        "text/html": "Total execution time: 00:00:06.675"
                    },
                    "metadata": {}
                },
                {
                    "output_type": "execute_result",
                    "execution_count": 9,
                    "data": {
                        "application/vnd.dataresource+json": {
                            "schema": {
                                "fields": [
                                    {
                                        "name": "customer_state"
                                    },
                                    {
                                        "name": "product_category_name"
                                    },
                                    {
                                        "name": "qty_sold"
                                    }
                                ]
                            },
                            "data": [
                                {
                                    "0": "SP",
                                    "1": "automotivo",
                                    "2": "1746"
                                },
                                {
                                    "0": "SP",
                                    "1": "bebes",
                                    "2": "1276"
                                },
                                {
                                    "0": "MG",
                                    "1": "beleza_saude",
                                    "2": "1086"
                                },
                                {
                                    "0": "RJ",
                                    "1": "beleza_saude",
                                    "2": "1064"
                                },
                                {
                                    "0": "SP",
                                    "1": "beleza_saude",
                                    "2": "4204"
                                },
                                {
                                    "0": "SP",
                                    "1": "brinquedos",
                                    "2": "1712"
                                },
                                {
                                    "0": "MG",
                                    "1": "cama_mesa_banho",
                                    "2": "1331"
                                },
                                {
                                    "0": "RJ",
                                    "1": "cama_mesa_banho",
                                    "2": "1644"
                                },
                                {
                                    "0": "SP",
                                    "1": "cama_mesa_banho",
                                    "2": "5235"
                                },
                                {
                                    "0": "SP",
                                    "1": "cool_stuff",
                                    "2": "1363"
                                },
                                {
                                    "0": "SP",
                                    "1": "eletronicos",
                                    "2": "1004"
                                },
                                {
                                    "0": "RJ",
                                    "1": "esporte_lazer",
                                    "2": "1041"
                                },
                                {
                                    "0": "SP",
                                    "1": "esporte_lazer",
                                    "2": "3667"
                                },
                                {
                                    "0": "SP",
                                    "1": "ferramentas_jardim",
                                    "2": "1559"
                                },
                                {
                                    "0": "RJ",
                                    "1": "informatica_acessorios",
                                    "2": "1002"
                                },
                                {
                                    "0": "SP",
                                    "1": "informatica_acessorios",
                                    "2": "3170"
                                },
                                {
                                    "0": "RJ",
                                    "1": "moveis_decoracao",
                                    "2": "1090"
                                },
                                {
                                    "0": "SP",
                                    "1": "moveis_decoracao",
                                    "2": "3531"
                                },
                                {
                                    "0": "SP",
                                    "1": "papelaria",
                                    "2": "1064"
                                },
                                {
                                    "0": "SP",
                                    "1": "perfumaria",
                                    "2": "1477"
                                }
                            ]
                        },
                        "text/html": "<table><tr><th>customer_state</th><th>product_category_name</th><th>qty_sold</th></tr><tr><td>SP</td><td>automotivo</td><td>1746</td></tr><tr><td>SP</td><td>bebes</td><td>1276</td></tr><tr><td>MG</td><td>beleza_saude</td><td>1086</td></tr><tr><td>RJ</td><td>beleza_saude</td><td>1064</td></tr><tr><td>SP</td><td>beleza_saude</td><td>4204</td></tr><tr><td>SP</td><td>brinquedos</td><td>1712</td></tr><tr><td>MG</td><td>cama_mesa_banho</td><td>1331</td></tr><tr><td>RJ</td><td>cama_mesa_banho</td><td>1644</td></tr><tr><td>SP</td><td>cama_mesa_banho</td><td>5235</td></tr><tr><td>SP</td><td>cool_stuff</td><td>1363</td></tr><tr><td>SP</td><td>eletronicos</td><td>1004</td></tr><tr><td>RJ</td><td>esporte_lazer</td><td>1041</td></tr><tr><td>SP</td><td>esporte_lazer</td><td>3667</td></tr><tr><td>SP</td><td>ferramentas_jardim</td><td>1559</td></tr><tr><td>RJ</td><td>informatica_acessorios</td><td>1002</td></tr><tr><td>SP</td><td>informatica_acessorios</td><td>3170</td></tr><tr><td>RJ</td><td>moveis_decoracao</td><td>1090</td></tr><tr><td>SP</td><td>moveis_decoracao</td><td>3531</td></tr><tr><td>SP</td><td>papelaria</td><td>1064</td></tr><tr><td>SP</td><td>perfumaria</td><td>1477</td></tr></table>"
                    },
                    "metadata": {}
                }
            ],
            "execution_count": 9
        },
        {
            "cell_type": "markdown",
            "source": [
                "<br>\n",
                "<hr>\n",
                "<br>  \n",
                "\n",
                "### **2**. Exiba os 5 clientes (customer_id) que gastaram mais dinheiro em compras, qual foi o valor total de todas as compras deles, quantidade de compras, e valor médio gasto por compras. Ordene os mesmos por ordem decrescente pela média do valor de compra:"
            ],
            "metadata": {
                "azdata_cell_guid": "d7c6dc09-e2d1-41ac-bf83-a6f05713ccaa"
            },
            "attachments": {}
        },
        {
            "cell_type": "code",
            "source": [
                "SELECT TOP 5\r\n",
                "     c.customer_id\r\n",
                "    ,SUM(p.payment_value) AS total_orders_value\r\n",
                "    ,COUNT(*) AS qty_orders\r\n",
                "    ,AVG(p.payment_value) AS avg_orders_value\r\n",
                "FROM olist.orders AS o \r\n",
                "INNER JOIN olist.customers AS c ON (o.customer_id = c.customer_id)\r\n",
                "INNER JOIN olist.order_payments AS p ON (o.order_id = p.order_id)\r\n",
                "GROUP BY c.customer_id\r\n",
                "ORDER BY AVG(p.payment_value) DESC"
            ],
            "metadata": {
                "azdata_cell_guid": "440fbe8d-4c18-4f5b-9e86-fba6e6ec3f7d"
            },
            "outputs": [
                {
                    "output_type": "display_data",
                    "data": {
                        "text/html": "(5 rows affected)"
                    },
                    "metadata": {}
                },
                {
                    "output_type": "display_data",
                    "data": {
                        "text/html": "Total execution time: 00:00:05.067"
                    },
                    "metadata": {}
                },
                {
                    "output_type": "execute_result",
                    "execution_count": 24,
                    "data": {
                        "application/vnd.dataresource+json": {
                            "schema": {
                                "fields": [
                                    {
                                        "name": "customer_id"
                                    },
                                    {
                                        "name": "total_orders_value"
                                    },
                                    {
                                        "name": "qty_orders"
                                    },
                                    {
                                        "name": "avg_orders_value"
                                    }
                                ]
                            },
                            "data": [
                                {
                                    "0": "1617b1357756262bfa56ab541c47bc16",
                                    "1": "13664,08",
                                    "2": "1",
                                    "3": "13664,080000"
                                },
                                {
                                    "0": "ec5b2ba62e574342386871631fafd3fc",
                                    "1": "7274,88",
                                    "2": "1",
                                    "3": "7274,880000"
                                },
                                {
                                    "0": "c6e2731c5b391845f6800c97401a43a9",
                                    "1": "6929,31",
                                    "2": "1",
                                    "3": "6929,310000"
                                },
                                {
                                    "0": "f48d464a0baaea338cb25f816991ab1f",
                                    "1": "6922,21",
                                    "2": "1",
                                    "3": "6922,210000"
                                },
                                {
                                    "0": "3fd6777bbce08a352fddd04e4a7cc8f6",
                                    "1": "6726,66",
                                    "2": "1",
                                    "3": "6726,660000"
                                }
                            ]
                        },
                        "text/html": "<table><tr><th>customer_id</th><th>total_orders_value</th><th>qty_orders</th><th>avg_orders_value</th></tr><tr><td>1617b1357756262bfa56ab541c47bc16</td><td>13664,08</td><td>1</td><td>13664,080000</td></tr><tr><td>ec5b2ba62e574342386871631fafd3fc</td><td>7274,88</td><td>1</td><td>7274,880000</td></tr><tr><td>c6e2731c5b391845f6800c97401a43a9</td><td>6929,31</td><td>1</td><td>6929,310000</td></tr><tr><td>f48d464a0baaea338cb25f816991ab1f</td><td>6922,21</td><td>1</td><td>6922,210000</td></tr><tr><td>3fd6777bbce08a352fddd04e4a7cc8f6</td><td>6726,66</td><td>1</td><td>6726,660000</td></tr></table>"
                    },
                    "metadata": {}
                }
            ],
            "execution_count": 24
        },
        {
            "cell_type": "markdown",
            "source": [
                "<br>\r\n",
                "<hr>\r\n",
                "<br>\r\n",
                "\r\n",
                "### **3**. Exiba o valor vendido total de cada vendedor (seller_id) em cada uma das categorias de produtos, somente retornando os vendedores que nesse somatório e agrupamento venderam mais de $1000. Desejamos ver a categoria do produto e os vendedores. Para cada uma dessas categorias, mostre seus valores de venda de forma decrescente.:"
            ],
            "metadata": {
                "azdata_cell_guid": "f7e1b489-d667-49dd-9426-26637d2324fa"
            }
        },
        {
            "cell_type": "code",
            "source": [
                "SELECT TOP 40 \r\n",
                "     p.product_category_name\r\n",
                "    ,s.seller_id\r\n",
                "    ,SUM(pay.payment_value) AS total_orders_value\r\n",
                "FROM olist.orders AS o\r\n",
                "INNER JOIN olist.order_items AS oi ON (oi.order_id = o.order_id) \r\n",
                "INNER JOIN olist.order_payments AS pay ON (pay.order_id = o.order_id)\r\n",
                "INNER JOIN olist.products AS p ON (oi.product_id = p.product_id)\r\n",
                "INNER JOIN olist.sellers AS s ON (oi.seller_id = s.seller_id)\r\n",
                "WHERE p.product_category_name IS NOT NULL\r\n",
                "GROUP BY p.product_category_name, s.seller_id\r\n",
                "HAVING SUM(pay.payment_value) > 1000\r\n",
                "ORDER BY p.product_category_name ASC, SUM(pay.payment_value) DESC"
            ],
            "metadata": {
                "azdata_cell_guid": "a310f7f5-3a72-45e7-acdc-eda07deeb0ba",
                "tags": []
            },
            "outputs": [
                {
                    "output_type": "display_data",
                    "data": {
                        "text/html": "(40 rows affected)"
                    },
                    "metadata": {}
                },
                {
                    "output_type": "display_data",
                    "data": {
                        "text/html": "Total execution time: 00:00:10.163"
                    },
                    "metadata": {}
                },
                {
                    "output_type": "execute_result",
                    "metadata": {},
                    "execution_count": 11,
                    "data": {
                        "application/vnd.dataresource+json": {
                            "schema": {
                                "fields": [
                                    {
                                        "name": "product_category_name"
                                    },
                                    {
                                        "name": "seller_id"
                                    },
                                    {
                                        "name": "total_orders_value"
                                    }
                                ]
                            },
                            "data": [
                                {
                                    "0": "agro_industria_e_comercio",
                                    "1": "e59aa562b9f8076dd550fcddf0e73491",
                                    "2": "40730,28"
                                },
                                {
                                    "0": "agro_industria_e_comercio",
                                    "1": "f08a5b9dd6767129688d001acafc21e5",
                                    "2": "38203,91"
                                },
                                {
                                    "0": "agro_industria_e_comercio",
                                    "1": "6bd69102ab48df500790a8cecfc285c2",
                                    "2": "8359,02"
                                },
                                {
                                    "0": "agro_industria_e_comercio",
                                    "1": "2528744c5ef5d955adc318720a94d2e7",
                                    "2": "6508,70"
                                },
                                {
                                    "0": "agro_industria_e_comercio",
                                    "1": "31ae0774c17fabd06ff707cc5bde005f",
                                    "2": "5690,23"
                                },
                                {
                                    "0": "agro_industria_e_comercio",
                                    "1": "6481e96574816ead57975da2c0f6d80d",
                                    "2": "2837,23"
                                },
                                {
                                    "0": "agro_industria_e_comercio",
                                    "1": "cfd7ddab722b902f7ac5b5f3ba6d723d",
                                    "2": "2268,88"
                                },
                                {
                                    "0": "agro_industria_e_comercio",
                                    "1": "d17f467e4bf608a510c20d82f4ba3b6b",
                                    "2": "2253,82"
                                },
                                {
                                    "0": "agro_industria_e_comercio",
                                    "1": "397c4d0c005b6f41f90098ac724e28cb",
                                    "2": "1978,18"
                                },
                                {
                                    "0": "agro_industria_e_comercio",
                                    "1": "a420f60ff1aa9acc80d0e42959f2b313",
                                    "2": "1269,50"
                                },
                                {
                                    "0": "agro_industria_e_comercio",
                                    "1": "269cff2d3c8d205c11f37a52402ea93b",
                                    "2": "1249,58"
                                },
                                {
                                    "0": "agro_industria_e_comercio",
                                    "1": "4e922959ae960d389249c378d1c939f5",
                                    "2": "1024,89"
                                },
                                {
                                    "0": "alimentos",
                                    "1": "cbd996ad3c1b7dc71fd0e5f5df9087e2",
                                    "2": "8404,78"
                                },
                                {
                                    "0": "alimentos",
                                    "1": "d13e50eaa47b4cbe9eb81465865d8cfc",
                                    "2": "5934,42"
                                },
                                {
                                    "0": "alimentos",
                                    "1": "16090f2ca825584b5a147ab24aa30c86",
                                    "2": "5155,77"
                                },
                                {
                                    "0": "alimentos",
                                    "1": "8d79c8a04e42d722a75097ce5cbcf2ef",
                                    "2": "4006,96"
                                },
                                {
                                    "0": "alimentos",
                                    "1": "e9779976487b77c6d4ac45f75ec7afe9",
                                    "2": "2940,22"
                                },
                                {
                                    "0": "alimentos",
                                    "1": "9b013e03b2ab786505a1d3b5c0756754",
                                    "2": "2744,09"
                                },
                                {
                                    "0": "alimentos",
                                    "1": "a5a1bfcf728ab0e19182959cf0771ee4",
                                    "2": "1926,52"
                                },
                                {
                                    "0": "alimentos",
                                    "1": "da03c298e3999e9d828591fc2179d109",
                                    "2": "1157,68"
                                },
                                {
                                    "0": "alimentos_bebidas",
                                    "1": "a3dd39f583bc80bd8c5901c95878921e",
                                    "2": "6164,08"
                                },
                                {
                                    "0": "alimentos_bebidas",
                                    "1": "282f23a9769b2690c5dda22e316f9941",
                                    "2": "3487,66"
                                },
                                {
                                    "0": "alimentos_bebidas",
                                    "1": "5011f0d93373a4c5753adf58ca77af8d",
                                    "2": "2858,31"
                                },
                                {
                                    "0": "alimentos_bebidas",
                                    "1": "e9779976487b77c6d4ac45f75ec7afe9",
                                    "2": "1882,87"
                                },
                                {
                                    "0": "alimentos_bebidas",
                                    "1": "bbaff50f3b708fda865918715276cd87",
                                    "2": "1409,71"
                                },
                                {
                                    "0": "alimentos_bebidas",
                                    "1": "3a3e46d10f74d8a6ca76e2b538f106a0",
                                    "2": "1344,66"
                                },
                                {
                                    "0": "alimentos_bebidas",
                                    "1": "751bdc4d83a466c7206cd42e8f426b03",
                                    "2": "1297,73"
                                },
                                {
                                    "0": "alimentos_bebidas",
                                    "1": "9a03a4e9eb0b947652fae4f6121a3f5e",
                                    "2": "1011,15"
                                },
                                {
                                    "0": "artes",
                                    "1": "c31eff8334d6b3047ed34bebd4d62c36",
                                    "2": "13405,89"
                                },
                                {
                                    "0": "artes",
                                    "1": "ee27a8f15b1dded4d213a468ba4eb391",
                                    "2": "6726,66"
                                },
                                {
                                    "0": "artes",
                                    "1": "a0e19590a0923cdd0614ea9427713ced",
                                    "2": "2129,62"
                                },
                                {
                                    "0": "artes",
                                    "1": "955fee9216a65b617aa5c0531780ce60",
                                    "2": "1067,70"
                                },
                                {
                                    "0": "artigos_de_festas",
                                    "1": "6bbcb8924baf70b7fe2fe2097e8cd407",
                                    "2": "2460,93"
                                },
                                {
                                    "0": "artigos_de_festas",
                                    "1": "dbb9b48c841a0e39e21f98e1a6b2ec3e",
                                    "2": "1106,63"
                                },
                                {
                                    "0": "artigos_de_natal",
                                    "1": "0d85bbda9889ce1f7e63778d24f346eb",
                                    "2": "7646,12"
                                },
                                {
                                    "0": "artigos_de_natal",
                                    "1": "d93919c944be9cff128f6c9cb899eacb",
                                    "2": "3435,67"
                                },
                                {
                                    "0": "artigos_de_natal",
                                    "1": "113e3a788b935f48aad63e1c41dac1bd",
                                    "2": "2273,61"
                                },
                                {
                                    "0": "artigos_de_natal",
                                    "1": "4e326052e5dbba8adcd512f3450a307e",
                                    "2": "1539,32"
                                },
                                {
                                    "0": "artigos_de_natal",
                                    "1": "b9a03475e6447e631b6799ec8274800f",
                                    "2": "1408,07"
                                },
                                {
                                    "0": "audio",
                                    "1": "7d13fca15225358621be4086e1eb0964",
                                    "2": "20610,09"
                                }
                            ]
                        },
                        "text/html": [
                            "<table>",
                            "<tr><th>product_category_name</th><th>seller_id</th><th>total_orders_value</th></tr>",
                            "<tr><td>agro_industria_e_comercio</td><td>e59aa562b9f8076dd550fcddf0e73491</td><td>40730,28</td></tr>",
                            "<tr><td>agro_industria_e_comercio</td><td>f08a5b9dd6767129688d001acafc21e5</td><td>38203,91</td></tr>",
                            "<tr><td>agro_industria_e_comercio</td><td>6bd69102ab48df500790a8cecfc285c2</td><td>8359,02</td></tr>",
                            "<tr><td>agro_industria_e_comercio</td><td>2528744c5ef5d955adc318720a94d2e7</td><td>6508,70</td></tr>",
                            "<tr><td>agro_industria_e_comercio</td><td>31ae0774c17fabd06ff707cc5bde005f</td><td>5690,23</td></tr>",
                            "<tr><td>agro_industria_e_comercio</td><td>6481e96574816ead57975da2c0f6d80d</td><td>2837,23</td></tr>",
                            "<tr><td>agro_industria_e_comercio</td><td>cfd7ddab722b902f7ac5b5f3ba6d723d</td><td>2268,88</td></tr>",
                            "<tr><td>agro_industria_e_comercio</td><td>d17f467e4bf608a510c20d82f4ba3b6b</td><td>2253,82</td></tr>",
                            "<tr><td>agro_industria_e_comercio</td><td>397c4d0c005b6f41f90098ac724e28cb</td><td>1978,18</td></tr>",
                            "<tr><td>agro_industria_e_comercio</td><td>a420f60ff1aa9acc80d0e42959f2b313</td><td>1269,50</td></tr>",
                            "<tr><td>agro_industria_e_comercio</td><td>269cff2d3c8d205c11f37a52402ea93b</td><td>1249,58</td></tr>",
                            "<tr><td>agro_industria_e_comercio</td><td>4e922959ae960d389249c378d1c939f5</td><td>1024,89</td></tr>",
                            "<tr><td>alimentos</td><td>cbd996ad3c1b7dc71fd0e5f5df9087e2</td><td>8404,78</td></tr>",
                            "<tr><td>alimentos</td><td>d13e50eaa47b4cbe9eb81465865d8cfc</td><td>5934,42</td></tr>",
                            "<tr><td>alimentos</td><td>16090f2ca825584b5a147ab24aa30c86</td><td>5155,77</td></tr>",
                            "<tr><td>alimentos</td><td>8d79c8a04e42d722a75097ce5cbcf2ef</td><td>4006,96</td></tr>",
                            "<tr><td>alimentos</td><td>e9779976487b77c6d4ac45f75ec7afe9</td><td>2940,22</td></tr>",
                            "<tr><td>alimentos</td><td>9b013e03b2ab786505a1d3b5c0756754</td><td>2744,09</td></tr>",
                            "<tr><td>alimentos</td><td>a5a1bfcf728ab0e19182959cf0771ee4</td><td>1926,52</td></tr>",
                            "<tr><td>alimentos</td><td>da03c298e3999e9d828591fc2179d109</td><td>1157,68</td></tr>",
                            "<tr><td>alimentos_bebidas</td><td>a3dd39f583bc80bd8c5901c95878921e</td><td>6164,08</td></tr>",
                            "<tr><td>alimentos_bebidas</td><td>282f23a9769b2690c5dda22e316f9941</td><td>3487,66</td></tr>",
                            "<tr><td>alimentos_bebidas</td><td>5011f0d93373a4c5753adf58ca77af8d</td><td>2858,31</td></tr>",
                            "<tr><td>alimentos_bebidas</td><td>e9779976487b77c6d4ac45f75ec7afe9</td><td>1882,87</td></tr>",
                            "<tr><td>alimentos_bebidas</td><td>bbaff50f3b708fda865918715276cd87</td><td>1409,71</td></tr>",
                            "<tr><td>alimentos_bebidas</td><td>3a3e46d10f74d8a6ca76e2b538f106a0</td><td>1344,66</td></tr>",
                            "<tr><td>alimentos_bebidas</td><td>751bdc4d83a466c7206cd42e8f426b03</td><td>1297,73</td></tr>",
                            "<tr><td>alimentos_bebidas</td><td>9a03a4e9eb0b947652fae4f6121a3f5e</td><td>1011,15</td></tr>",
                            "<tr><td>artes</td><td>c31eff8334d6b3047ed34bebd4d62c36</td><td>13405,89</td></tr>",
                            "<tr><td>artes</td><td>ee27a8f15b1dded4d213a468ba4eb391</td><td>6726,66</td></tr>",
                            "<tr><td>artes</td><td>a0e19590a0923cdd0614ea9427713ced</td><td>2129,62</td></tr>",
                            "<tr><td>artes</td><td>955fee9216a65b617aa5c0531780ce60</td><td>1067,70</td></tr>",
                            "<tr><td>artigos_de_festas</td><td>6bbcb8924baf70b7fe2fe2097e8cd407</td><td>2460,93</td></tr>",
                            "<tr><td>artigos_de_festas</td><td>dbb9b48c841a0e39e21f98e1a6b2ec3e</td><td>1106,63</td></tr>",
                            "<tr><td>artigos_de_natal</td><td>0d85bbda9889ce1f7e63778d24f346eb</td><td>7646,12</td></tr>",
                            "<tr><td>artigos_de_natal</td><td>d93919c944be9cff128f6c9cb899eacb</td><td>3435,67</td></tr>",
                            "<tr><td>artigos_de_natal</td><td>113e3a788b935f48aad63e1c41dac1bd</td><td>2273,61</td></tr>",
                            "<tr><td>artigos_de_natal</td><td>4e326052e5dbba8adcd512f3450a307e</td><td>1539,32</td></tr>",
                            "<tr><td>artigos_de_natal</td><td>b9a03475e6447e631b6799ec8274800f</td><td>1408,07</td></tr>",
                            "<tr><td>audio</td><td>7d13fca15225358621be4086e1eb0964</td><td>20610,09</td></tr>",
                            "</table>"
                        ]
                    }
                }
            ],
            "execution_count": 11
        }
    ]
}