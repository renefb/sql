{
    "metadata": {
        "kernelspec": {
            "name": "SQL",
            "display_name": "SQL",
            "language": "sql"
        },
        "language_info": {
            "name": "sql",
            "version": ""
        }
    },
    "nbformat_minor": 2,
    "nbformat": 4,
    "cells": [
        {
            "cell_type": "markdown",
            "source": [
                "# Desafios de SQL 2\n",
                "\n",
                "1 Todos os desafios usam como base o dataset disponibilizado pela Olist no [Kaggle](https://www.kaggle.com/olistbr/brazilian-ecommerce/).\n",
                "\n",
                "2 O dataset foi carregado num banco de dados Azure SQL Server, conforme descrito na [apresentação]().\n",
                "\n",
                "3 Quando não houver prejuízos à interpretação dos resultados, as consultas serão limitadas a um número específico de linhas (geralmente as 20 primeiras)."
            ],
            "metadata": {
                "azdata_cell_guid": "44a8cedd-f4f1-4905-a1dd-294c2f5a88f1"
            },
            "attachments": {}
        },
        {
            "cell_type": "markdown",
            "source": [
                "* * *\n",
                "\n",
                "  \n",
                "\n",
                "### **1**. Retorne a quantidade de itens vendidos em cada categoria por Estado em que o cliente se encontra, mostrando somente categorias que tenham vendido uma quantidade de items acima de 1000:"
            ],
            "metadata": {
                "azdata_cell_guid": "436bcce5-9714-4a03-9d05-8c88d48ecd4b"
            },
            "attachments": {}
        },
        {
            "cell_type": "code",
            "source": [
                "SELECT TOP 20\r\n",
                "     c.customer_state\r\n",
                "    ,p.product_category_name\r\n",
                "    ,COUNT(*) AS qty_sold\r\n",
                "FROM olist.orders AS O\r\n",
                "INNER JOIN olist.customers AS c ON (o.customer_id = c.customer_id)\r\n",
                "INNER JOIN olist.order_items AS oi ON (o.order_id = oi.order_id)\r\n",
                "INNER JOIN olist.products AS p ON (oi.product_id = p.product_id)\r\n",
                "GROUP BY c.customer_state, p.product_category_name\r\n",
                "HAVING COUNT(*) > 1000"
            ],
            "metadata": {
                "azdata_cell_guid": "3952433e-4927-4e72-81ce-a3f3e0866fff",
                "tags": []
            },
            "outputs": [
                {
                    "output_type": "display_data",
                    "data": {
                        "text/html": "(20 rows affected)"
                    },
                    "metadata": {}
                },
                {
                    "output_type": "display_data",
                    "data": {
                        "text/html": "Total execution time: 00:00:06.675"
                    },
                    "metadata": {}
                },
                {
                    "output_type": "execute_result",
                    "execution_count": 9,
                    "data": {
                        "application/vnd.dataresource+json": {
                            "schema": {
                                "fields": [
                                    {
                                        "name": "customer_state"
                                    },
                                    {
                                        "name": "product_category_name"
                                    },
                                    {
                                        "name": "qty_sold"
                                    }
                                ]
                            },
                            "data": [
                                {
                                    "0": "SP",
                                    "1": "automotivo",
                                    "2": "1746"
                                },
                                {
                                    "0": "SP",
                                    "1": "bebes",
                                    "2": "1276"
                                },
                                {
                                    "0": "MG",
                                    "1": "beleza_saude",
                                    "2": "1086"
                                },
                                {
                                    "0": "RJ",
                                    "1": "beleza_saude",
                                    "2": "1064"
                                },
                                {
                                    "0": "SP",
                                    "1": "beleza_saude",
                                    "2": "4204"
                                },
                                {
                                    "0": "SP",
                                    "1": "brinquedos",
                                    "2": "1712"
                                },
                                {
                                    "0": "MG",
                                    "1": "cama_mesa_banho",
                                    "2": "1331"
                                },
                                {
                                    "0": "RJ",
                                    "1": "cama_mesa_banho",
                                    "2": "1644"
                                },
                                {
                                    "0": "SP",
                                    "1": "cama_mesa_banho",
                                    "2": "5235"
                                },
                                {
                                    "0": "SP",
                                    "1": "cool_stuff",
                                    "2": "1363"
                                },
                                {
                                    "0": "SP",
                                    "1": "eletronicos",
                                    "2": "1004"
                                },
                                {
                                    "0": "RJ",
                                    "1": "esporte_lazer",
                                    "2": "1041"
                                },
                                {
                                    "0": "SP",
                                    "1": "esporte_lazer",
                                    "2": "3667"
                                },
                                {
                                    "0": "SP",
                                    "1": "ferramentas_jardim",
                                    "2": "1559"
                                },
                                {
                                    "0": "RJ",
                                    "1": "informatica_acessorios",
                                    "2": "1002"
                                },
                                {
                                    "0": "SP",
                                    "1": "informatica_acessorios",
                                    "2": "3170"
                                },
                                {
                                    "0": "RJ",
                                    "1": "moveis_decoracao",
                                    "2": "1090"
                                },
                                {
                                    "0": "SP",
                                    "1": "moveis_decoracao",
                                    "2": "3531"
                                },
                                {
                                    "0": "SP",
                                    "1": "papelaria",
                                    "2": "1064"
                                },
                                {
                                    "0": "SP",
                                    "1": "perfumaria",
                                    "2": "1477"
                                }
                            ]
                        },
                        "text/html": "<table><tr><th>customer_state</th><th>product_category_name</th><th>qty_sold</th></tr><tr><td>SP</td><td>automotivo</td><td>1746</td></tr><tr><td>SP</td><td>bebes</td><td>1276</td></tr><tr><td>MG</td><td>beleza_saude</td><td>1086</td></tr><tr><td>RJ</td><td>beleza_saude</td><td>1064</td></tr><tr><td>SP</td><td>beleza_saude</td><td>4204</td></tr><tr><td>SP</td><td>brinquedos</td><td>1712</td></tr><tr><td>MG</td><td>cama_mesa_banho</td><td>1331</td></tr><tr><td>RJ</td><td>cama_mesa_banho</td><td>1644</td></tr><tr><td>SP</td><td>cama_mesa_banho</td><td>5235</td></tr><tr><td>SP</td><td>cool_stuff</td><td>1363</td></tr><tr><td>SP</td><td>eletronicos</td><td>1004</td></tr><tr><td>RJ</td><td>esporte_lazer</td><td>1041</td></tr><tr><td>SP</td><td>esporte_lazer</td><td>3667</td></tr><tr><td>SP</td><td>ferramentas_jardim</td><td>1559</td></tr><tr><td>RJ</td><td>informatica_acessorios</td><td>1002</td></tr><tr><td>SP</td><td>informatica_acessorios</td><td>3170</td></tr><tr><td>RJ</td><td>moveis_decoracao</td><td>1090</td></tr><tr><td>SP</td><td>moveis_decoracao</td><td>3531</td></tr><tr><td>SP</td><td>papelaria</td><td>1064</td></tr><tr><td>SP</td><td>perfumaria</td><td>1477</td></tr></table>"
                    },
                    "metadata": {}
                }
            ],
            "execution_count": 9
        },
        {
            "cell_type": "markdown",
            "source": [
                "<br>\n",
                "<hr>\n",
                "<br>  \n",
                "\n",
                "### **2**. Exiba os 5 clientes (customer_id) que gastaram mais dinheiro em compras, qual foi o valor total de todas as compras deles, quantidade de compras, e valor médio gasto por compras. Ordene os mesmos por ordem decrescente pela média do valor de compra:"
            ],
            "metadata": {
                "azdata_cell_guid": "d7c6dc09-e2d1-41ac-bf83-a6f05713ccaa"
            },
            "attachments": {}
        },
        {
            "cell_type": "code",
            "source": [
                "SELECT TOP 5\r\n",
                "     c.customer_id\r\n",
                "    ,SUM(p.payment_value) AS total_orders_value\r\n",
                "    ,COUNT(*) AS qty_orders\r\n",
                "    ,AVG(p.payment_value) AS avg_orders_value\r\n",
                "FROM olist.orders AS o \r\n",
                "INNER JOIN olist.customers AS c ON (o.customer_id = c.customer_id)\r\n",
                "INNER JOIN olist.order_payments AS p ON (o.order_id = p.order_id)\r\n",
                "GROUP BY c.customer_id\r\n",
                "ORDER BY AVG(p.payment_value) DESC"
            ],
            "metadata": {
                "azdata_cell_guid": "440fbe8d-4c18-4f5b-9e86-fba6e6ec3f7d"
            },
            "outputs": [
                {
                    "output_type": "display_data",
                    "data": {
                        "text/html": "(5 rows affected)"
                    },
                    "metadata": {}
                },
                {
                    "output_type": "display_data",
                    "data": {
                        "text/html": "Total execution time: 00:00:05.067"
                    },
                    "metadata": {}
                },
                {
                    "output_type": "execute_result",
                    "execution_count": 24,
                    "data": {
                        "application/vnd.dataresource+json": {
                            "schema": {
                                "fields": [
                                    {
                                        "name": "customer_id"
                                    },
                                    {
                                        "name": "total_orders_value"
                                    },
                                    {
                                        "name": "qty_orders"
                                    },
                                    {
                                        "name": "avg_orders_value"
                                    }
                                ]
                            },
                            "data": [
                                {
                                    "0": "1617b1357756262bfa56ab541c47bc16",
                                    "1": "13664,08",
                                    "2": "1",
                                    "3": "13664,080000"
                                },
                                {
                                    "0": "ec5b2ba62e574342386871631fafd3fc",
                                    "1": "7274,88",
                                    "2": "1",
                                    "3": "7274,880000"
                                },
                                {
                                    "0": "c6e2731c5b391845f6800c97401a43a9",
                                    "1": "6929,31",
                                    "2": "1",
                                    "3": "6929,310000"
                                },
                                {
                                    "0": "f48d464a0baaea338cb25f816991ab1f",
                                    "1": "6922,21",
                                    "2": "1",
                                    "3": "6922,210000"
                                },
                                {
                                    "0": "3fd6777bbce08a352fddd04e4a7cc8f6",
                                    "1": "6726,66",
                                    "2": "1",
                                    "3": "6726,660000"
                                }
                            ]
                        },
                        "text/html": "<table><tr><th>customer_id</th><th>total_orders_value</th><th>qty_orders</th><th>avg_orders_value</th></tr><tr><td>1617b1357756262bfa56ab541c47bc16</td><td>13664,08</td><td>1</td><td>13664,080000</td></tr><tr><td>ec5b2ba62e574342386871631fafd3fc</td><td>7274,88</td><td>1</td><td>7274,880000</td></tr><tr><td>c6e2731c5b391845f6800c97401a43a9</td><td>6929,31</td><td>1</td><td>6929,310000</td></tr><tr><td>f48d464a0baaea338cb25f816991ab1f</td><td>6922,21</td><td>1</td><td>6922,210000</td></tr><tr><td>3fd6777bbce08a352fddd04e4a7cc8f6</td><td>6726,66</td><td>1</td><td>6726,660000</td></tr></table>"
                    },
                    "metadata": {}
                }
            ],
            "execution_count": 24
        },
        {
            "cell_type": "markdown",
            "source": [
                "<br>\r\n",
                "<hr>\r\n",
                "<br>\r\n",
                "\r\n",
                "### **3**. Exiba o valor vendido total de cada vendedor (seller_id) em cada uma das categorias de produtos, somente retornando os vendedores que nesse somatório e agrupamento venderam mais de $1000. Desejamos ver a categoria do produto e os vendedores. Para cada uma dessas categorias, mostre seus valores de venda de forma decrescente.:"
            ],
            "metadata": {
                "azdata_cell_guid": "f7e1b489-d667-49dd-9426-26637d2324fa"
            }
        },
        {
            "cell_type": "code",
            "source": [
                "SELECT TOP 20 \r\n",
                "     p.product_category_name\r\n",
                "    ,s.seller_id\r\n",
                "    ,SUM(pay.payment_value) AS total_orders_value\r\n",
                "FROM olist.orders AS o\r\n",
                "INNER JOIN olist.order_items AS oi ON (oi.order_id = o.order_id) \r\n",
                "INNER JOIN olist.order_payments AS pay ON (pay.order_id = o.order_id)\r\n",
                "INNER JOIN olist.products AS p ON (oi.product_id = p.product_id)\r\n",
                "INNER JOIN olist.sellers AS s ON (oi.seller_id = s.seller_id)\r\n",
                "GROUP BY p.product_category_name, s.seller_id\r\n",
                "HAVING SUM(pay.payment_value) > 1000\r\n",
                "ORDER BY SUM(pay.payment_value) DESC"
            ],
            "metadata": {
                "azdata_cell_guid": "a310f7f5-3a72-45e7-acdc-eda07deeb0ba",
                "tags": []
            },
            "outputs": [
                {
                    "output_type": "display_data",
                    "data": {
                        "text/html": "(20 rows affected)"
                    },
                    "metadata": {}
                },
                {
                    "output_type": "display_data",
                    "data": {
                        "text/html": "Total execution time: 00:00:10.509"
                    },
                    "metadata": {}
                },
                {
                    "output_type": "execute_result",
                    "metadata": {},
                    "execution_count": 7,
                    "data": {
                        "application/vnd.dataresource+json": {
                            "schema": {
                                "fields": [
                                    {
                                        "name": "product_category_name"
                                    },
                                    {
                                        "name": "seller_id"
                                    },
                                    {
                                        "name": "total_orders_value"
                                    }
                                ]
                            },
                            "data": [
                                {
                                    "0": "moveis_escritorio",
                                    "1": "7c67e1448b00f6e969d365cea6b010ab",
                                    "2": "470183,77"
                                },
                                {
                                    "0": "moveis_decoracao",
                                    "1": "1025f0e2d44d7041d6cf58b6550e0bfa",
                                    "2": "271141,31"
                                },
                                {
                                    "0": "ferramentas_jardim",
                                    "1": "1f50f920176fa81dab994f9023523100",
                                    "2": "268294,53"
                                },
                                {
                                    "0": "cama_mesa_banho",
                                    "1": "da8622b14eb17ae2831f4ac5b9dab84a",
                                    "2": "257626,80"
                                },
                                {
                                    "0": "cama_mesa_banho",
                                    "1": "4a3ca9315b744ce9f8e9374361493884",
                                    "2": "244914,11"
                                },
                                {
                                    "0": "relogios_presentes",
                                    "1": "4869f7a5dfa277a7dca6462dcf3b52b2",
                                    "2": "231830,07"
                                },
                                {
                                    "0": "relogios_presentes",
                                    "1": "fa1c13f2614d7b5c4749cbc52fecda94",
                                    "2": "204097,61"
                                },
                                {
                                    "0": "pcs",
                                    "1": "53243585a1d6dc2643021fd1853d8905",
                                    "2": "187923,81"
                                },
                                {
                                    "0": "relogios_presentes",
                                    "1": "7e93a43ef30c4f03f38b393420bc753a",
                                    "2": "177595,49"
                                },
                                {
                                    "0": "cool_stuff",
                                    "1": "7a67c85e85bb2ce8582c35f2203ad736",
                                    "2": "159847,71"
                                },
                                {
                                    "0": "informatica_acessorios",
                                    "1": "25c5c91f63607446a97b143d2d535d31",
                                    "2": "157373,92"
                                },
                                {
                                    "0": "relogios_presentes",
                                    "1": "6560211a19b47992c3666cc44a7e94c0",
                                    "2": "148665,40"
                                },
                                {
                                    "0": "telefonia_fixa",
                                    "1": "b37c4c02bda3161a7546a4e6d222d5b2",
                                    "2": "145128,64"
                                },
                                {
                                    "0": "papelaria",
                                    "1": "3d871de0142ce09b7081e2b9d1733cb1",
                                    "2": "108333,26"
                                },
                                {
                                    "0": "relogios_presentes",
                                    "1": "7d13fca15225358621be4086e1eb0964",
                                    "2": "102717,47"
                                },
                                {
                                    "0": "telefonia",
                                    "1": "53243585a1d6dc2643021fd1853d8905",
                                    "2": "96979,27"
                                },
                                {
                                    "0": "brinquedos",
                                    "1": "46dc3b2cc0980fb8ec44634e21d2718e",
                                    "2": "95156,04"
                                },
                                {
                                    "0": "automotivo",
                                    "1": "8581055ce74af1daba164fdbd55a40de",
                                    "2": "94322,49"
                                },
                                {
                                    "0": "beleza_saude",
                                    "1": "cc419e0650a3c5ba77189a1882b7556a",
                                    "2": "86783,75"
                                },
                                {
                                    "0": "beleza_saude",
                                    "1": "edb1ef5e36e0c8cd84eb3c9b003e486d",
                                    "2": "86381,32"
                                }
                            ]
                        },
                        "text/html": [
                            "<table>",
                            "<tr><th>product_category_name</th><th>seller_id</th><th>total_orders_value</th></tr>",
                            "<tr><td>moveis_escritorio</td><td>7c67e1448b00f6e969d365cea6b010ab</td><td>470183,77</td></tr>",
                            "<tr><td>moveis_decoracao</td><td>1025f0e2d44d7041d6cf58b6550e0bfa</td><td>271141,31</td></tr>",
                            "<tr><td>ferramentas_jardim</td><td>1f50f920176fa81dab994f9023523100</td><td>268294,53</td></tr>",
                            "<tr><td>cama_mesa_banho</td><td>da8622b14eb17ae2831f4ac5b9dab84a</td><td>257626,80</td></tr>",
                            "<tr><td>cama_mesa_banho</td><td>4a3ca9315b744ce9f8e9374361493884</td><td>244914,11</td></tr>",
                            "<tr><td>relogios_presentes</td><td>4869f7a5dfa277a7dca6462dcf3b52b2</td><td>231830,07</td></tr>",
                            "<tr><td>relogios_presentes</td><td>fa1c13f2614d7b5c4749cbc52fecda94</td><td>204097,61</td></tr>",
                            "<tr><td>pcs</td><td>53243585a1d6dc2643021fd1853d8905</td><td>187923,81</td></tr>",
                            "<tr><td>relogios_presentes</td><td>7e93a43ef30c4f03f38b393420bc753a</td><td>177595,49</td></tr>",
                            "<tr><td>cool_stuff</td><td>7a67c85e85bb2ce8582c35f2203ad736</td><td>159847,71</td></tr>",
                            "<tr><td>informatica_acessorios</td><td>25c5c91f63607446a97b143d2d535d31</td><td>157373,92</td></tr>",
                            "<tr><td>relogios_presentes</td><td>6560211a19b47992c3666cc44a7e94c0</td><td>148665,40</td></tr>",
                            "<tr><td>telefonia_fixa</td><td>b37c4c02bda3161a7546a4e6d222d5b2</td><td>145128,64</td></tr>",
                            "<tr><td>papelaria</td><td>3d871de0142ce09b7081e2b9d1733cb1</td><td>108333,26</td></tr>",
                            "<tr><td>relogios_presentes</td><td>7d13fca15225358621be4086e1eb0964</td><td>102717,47</td></tr>",
                            "<tr><td>telefonia</td><td>53243585a1d6dc2643021fd1853d8905</td><td>96979,27</td></tr>",
                            "<tr><td>brinquedos</td><td>46dc3b2cc0980fb8ec44634e21d2718e</td><td>95156,04</td></tr>",
                            "<tr><td>automotivo</td><td>8581055ce74af1daba164fdbd55a40de</td><td>94322,49</td></tr>",
                            "<tr><td>beleza_saude</td><td>cc419e0650a3c5ba77189a1882b7556a</td><td>86783,75</td></tr>",
                            "<tr><td>beleza_saude</td><td>edb1ef5e36e0c8cd84eb3c9b003e486d</td><td>86381,32</td></tr>",
                            "</table>"
                        ]
                    }
                }
            ],
            "execution_count": 7
        }
    ]
}