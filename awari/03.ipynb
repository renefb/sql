{
    "metadata": {
        "kernelspec": {
            "name": "SQL",
            "display_name": "SQL",
            "language": "sql"
        },
        "language_info": {
            "name": "sql",
            "version": ""
        },
        "extensions": {
            "azuredatastudio": {
                "version": 1,
                "views": []
            }
        }
    },
    "nbformat_minor": 2,
    "nbformat": 4,
    "cells": [
        {
            "cell_type": "markdown",
            "source": [
                "# **Notebook 03**\n",
                "\n",
                "Todos os scripts usam a sintaxe T-SQL.\n",
                "\n",
                "Os resultados da consultas foram limitados a um número específico de linhas, para facilitar a visualização do notebook\n",
                "\n",
                "<br>\n",
                "\n",
                "* * *"
            ],
            "metadata": {
                "azdata_cell_guid": "232eb465-96fe-45f3-9532-c0634acaf76b"
            },
            "attachments": {}
        },
        {
            "cell_type": "markdown",
            "source": [
                "## **Desafio**\n",
                "\n",
                "### O desafio consiste em atualizar os nomes de categorias de produto para uma versão de melhor leitura (Ex: moveis\\_decoracao \\> Movéis e Decoração) nos registros da tabela _olist\\_products_ que têm altura maior ou igual a 20cm e cujo tamanho do nome esteja entre 10 e 200 caracteres."
            ],
            "metadata": {
                "azdata_cell_guid": "2373511d-71b8-4b33-9f23-e7a711ca492d"
            },
            "attachments": {}
        },
        {
            "cell_type": "markdown",
            "source": [
                "Primeiro, vamos identificar os nomes distintos dos produtos que atendem ao critério da consulta (altura maior ou igual a 20cm e nome entre 10 e 200 caracteres):"
            ],
            "metadata": {
                "azdata_cell_guid": "c88aa603-6fa7-4d87-a3b1-8ce9025ccf29"
            },
            "attachments": {}
        },
        {
            "cell_type": "code",
            "source": [
                "SELECT \r\n",
                "    DISTINCT(product_category_name) \r\n",
                "FROM olist_products\r\n",
                "WHERE \r\n",
                "    product_height_cm >= 20 \r\n",
                "    AND product_name_length BETWEEN 10 and 200;"
            ],
            "metadata": {
                "azdata_cell_guid": "94a1ef66-5b7a-4e62-92f0-fc648fad7adc",
                "tags": []
            },
            "outputs": [
                {
                    "output_type": "display_data",
                    "data": {
                        "text/html": "(71 rows affected)"
                    },
                    "metadata": {}
                },
                {
                    "output_type": "display_data",
                    "data": {
                        "text/html": "Total execution time: 00:00:00.208"
                    },
                    "metadata": {}
                },
                {
                    "output_type": "execute_result",
                    "execution_count": 35,
                    "data": {
                        "application/vnd.dataresource+json": {
                            "schema": {
                                "fields": [
                                    {
                                        "name": "product_category_name"
                                    }
                                ]
                            },
                            "data": [
                                {
                                    "0": "casa_conforto_2"
                                },
                                {
                                    "0": "perfumaria"
                                },
                                {
                                    "0": "pcs"
                                },
                                {
                                    "0": "fashion_calcados"
                                },
                                {
                                    "0": "artigos_de_natal"
                                },
                                {
                                    "0": "bebidas"
                                },
                                {
                                    "0": "construcao_ferramentas_jardim"
                                },
                                {
                                    "0": "construcao_ferramentas_seguranca"
                                },
                                {
                                    "0": "telefonia"
                                },
                                {
                                    "0": "automotivo"
                                },
                                {
                                    "0": "flores"
                                },
                                {
                                    "0": "industria_comercio_e_negocios"
                                },
                                {
                                    "0": "fashion_bolsas_e_acessorios"
                                },
                                {
                                    "0": "beleza_saude"
                                },
                                {
                                    "0": "telefonia_fixa"
                                },
                                {
                                    "0": "alimentos_bebidas"
                                },
                                {
                                    "0": "dvds_blu_ray"
                                },
                                {
                                    "0": "artes"
                                },
                                {
                                    "0": "eletronicos"
                                },
                                {
                                    "0": "moveis_sala"
                                },
                                {
                                    "0": "brinquedos"
                                },
                                {
                                    "0": "sinalizacao_e_seguranca"
                                },
                                {
                                    "0": "utilidades_domesticas"
                                },
                                {
                                    "0": "fashion_roupa_feminina"
                                },
                                {
                                    "0": "fashion_roupa_infanto_juvenil"
                                },
                                {
                                    "0": "agro_industria_e_comercio"
                                },
                                {
                                    "0": "cine_foto"
                                },
                                {
                                    "0": "livros_tecnicos"
                                },
                                {
                                    "0": "fashion_esporte"
                                },
                                {
                                    "0": "construcao_ferramentas_iluminacao"
                                },
                                {
                                    "0": "moveis_quarto"
                                },
                                {
                                    "0": "portateis_casa_forno_e_cafe"
                                },
                                {
                                    "0": "eletrodomesticos_2"
                                },
                                {
                                    "0": "livros_interesse_geral"
                                },
                                {
                                    "0": "pc_gamer"
                                },
                                {
                                    "0": "relogios_presentes"
                                },
                                {
                                    "0": "portateis_cozinha_e_preparadores_de_alimentos"
                                },
                                {
                                    "0": "audio"
                                },
                                {
                                    "0": "alimentos"
                                },
                                {
                                    "0": "construcao_ferramentas_ferramentas"
                                },
                                {
                                    "0": "climatizacao"
                                },
                                {
                                    "0": "pet_shop"
                                },
                                {
                                    "0": "artes_e_artesanato"
                                },
                                {
                                    "0": "esporte_lazer"
                                },
                                {
                                    "0": "la_cuisine"
                                },
                                {
                                    "0": "informatica_acessorios"
                                },
                                {
                                    "0": "consoles_games"
                                },
                                {
                                    "0": "fashion_roupa_masculina"
                                },
                                {
                                    "0": "moveis_colchao_e_estofado"
                                },
                                {
                                    "0": "fraldas_higiene"
                                },
                                {
                                    "0": "artigos_de_festas"
                                },
                                {
                                    "0": "tablets_impressao_imagem"
                                },
                                {
                                    "0": "ferramentas_jardim"
                                },
                                {
                                    "0": "market_place"
                                },
                                {
                                    "0": "seguros_e_servicos"
                                },
                                {
                                    "0": "moveis_escritorio"
                                },
                                {
                                    "0": "cama_mesa_banho"
                                },
                                {
                                    "0": "malas_acessorios"
                                },
                                {
                                    "0": "bebes"
                                },
                                {
                                    "0": "eletroportateis"
                                },
                                {
                                    "0": "construcao_ferramentas_construcao"
                                },
                                {
                                    "0": "fashion_underwear_e_moda_praia"
                                },
                                {
                                    "0": "papelaria"
                                },
                                {
                                    "0": "moveis_decoracao"
                                },
                                {
                                    "0": "cool_stuff"
                                },
                                {
                                    "0": "eletrodomesticos"
                                },
                                {
                                    "0": "musica"
                                },
                                {
                                    "0": "instrumentos_musicais"
                                },
                                {
                                    "0": "moveis_cozinha_area_de_servico_jantar_e_jardim"
                                },
                                {
                                    "0": "casa_conforto"
                                },
                                {
                                    "0": "casa_construcao"
                                }
                            ]
                        },
                        "text/html": "<table><tr><th>product_category_name</th></tr><tr><td>casa_conforto_2</td></tr><tr><td>perfumaria</td></tr><tr><td>pcs</td></tr><tr><td>fashion_calcados</td></tr><tr><td>artigos_de_natal</td></tr><tr><td>bebidas</td></tr><tr><td>construcao_ferramentas_jardim</td></tr><tr><td>construcao_ferramentas_seguranca</td></tr><tr><td>telefonia</td></tr><tr><td>automotivo</td></tr><tr><td>flores</td></tr><tr><td>industria_comercio_e_negocios</td></tr><tr><td>fashion_bolsas_e_acessorios</td></tr><tr><td>beleza_saude</td></tr><tr><td>telefonia_fixa</td></tr><tr><td>alimentos_bebidas</td></tr><tr><td>dvds_blu_ray</td></tr><tr><td>artes</td></tr><tr><td>eletronicos</td></tr><tr><td>moveis_sala</td></tr><tr><td>brinquedos</td></tr><tr><td>sinalizacao_e_seguranca</td></tr><tr><td>utilidades_domesticas</td></tr><tr><td>fashion_roupa_feminina</td></tr><tr><td>fashion_roupa_infanto_juvenil</td></tr><tr><td>agro_industria_e_comercio</td></tr><tr><td>cine_foto</td></tr><tr><td>livros_tecnicos</td></tr><tr><td>fashion_esporte</td></tr><tr><td>construcao_ferramentas_iluminacao</td></tr><tr><td>moveis_quarto</td></tr><tr><td>portateis_casa_forno_e_cafe</td></tr><tr><td>eletrodomesticos_2</td></tr><tr><td>livros_interesse_geral</td></tr><tr><td>pc_gamer</td></tr><tr><td>relogios_presentes</td></tr><tr><td>portateis_cozinha_e_preparadores_de_alimentos</td></tr><tr><td>audio</td></tr><tr><td>alimentos</td></tr><tr><td>construcao_ferramentas_ferramentas</td></tr><tr><td>climatizacao</td></tr><tr><td>pet_shop</td></tr><tr><td>artes_e_artesanato</td></tr><tr><td>esporte_lazer</td></tr><tr><td>la_cuisine</td></tr><tr><td>informatica_acessorios</td></tr><tr><td>consoles_games</td></tr><tr><td>fashion_roupa_masculina</td></tr><tr><td>moveis_colchao_e_estofado</td></tr><tr><td>fraldas_higiene</td></tr><tr><td>artigos_de_festas</td></tr><tr><td>tablets_impressao_imagem</td></tr><tr><td>ferramentas_jardim</td></tr><tr><td>market_place</td></tr><tr><td>seguros_e_servicos</td></tr><tr><td>moveis_escritorio</td></tr><tr><td>cama_mesa_banho</td></tr><tr><td>malas_acessorios</td></tr><tr><td>bebes</td></tr><tr><td>eletroportateis</td></tr><tr><td>construcao_ferramentas_construcao</td></tr><tr><td>fashion_underwear_e_moda_praia</td></tr><tr><td>papelaria</td></tr><tr><td>moveis_decoracao</td></tr><tr><td>cool_stuff</td></tr><tr><td>eletrodomesticos</td></tr><tr><td>musica</td></tr><tr><td>instrumentos_musicais</td></tr><tr><td>moveis_cozinha_area_de_servico_jantar_e_jardim</td></tr><tr><td>casa_conforto</td></tr><tr><td>casa_construcao</td></tr></table>"
                    },
                    "metadata": {}
                }
            ],
            "execution_count": 35
        },
        {
            "cell_type": "markdown",
            "source": [
                "Pela tabela acima, existem 71 categorias únicas que correspondem aos produtos que atendem aos critérios da consulta, sem qualquer padrão de nomenclatura que nos permita alcançar o resultado esperado com uma manipulação simples de texto. Assim, a melhor estratégia parece ser a de criarmos uma tabela que mapeie os nomes atuais das categorias e suas versões \"melhoradas\":"
            ],
            "metadata": {
                "azdata_cell_guid": "b910fde7-7a98-462d-bf80-cd4e0b494a2c"
            },
            "attachments": {}
        },
        {
            "cell_type": "code",
            "source": [
                "CREATE TABLE #map_product_category_names (\r\n",
                "    ugly_name NVARCHAR(255),\r\n",
                "    pretty_name NVARCHAR(255)\r\n",
                ");\r\n",
                "\r\n",
                "INSERT INTO #map_product_category_names (ugly_name, pretty_name)\r\n",
                "VALUES  \r\n",
                "    ('casa_conforto_2', 'Casa e Conforto 2'),   ('perfumaria', 'Perfumaria'),\r\n",
                "    ('pcs', 'PCs'),     ('fashion_calcados', 'Fashion / Calçados'),     ('artigos_de_natal', 'Artigos de Natal'),\r\n",
                "    ('bebidas', 'Bebidas'),     ('construcao_ferramentas_jardim', 'Construção e Ferramentas / Jardim'),     \r\n",
                "    ('construcao_ferramentas_seguranca', 'Consturção e Ferramentas / Segurança'),   ('telefonia', 'Telefonia'),     \r\n",
                "    ('automotivo', 'Automotivo'),       ('flores', 'Flores'),   \r\n",
                "    ('industria_comercio_e_negocios', 'Indústria, Comércio e Negócios'),    \r\n",
                "    ('fashion_bolsas_e_acessorios', 'Fashion / Bolsas e Acessórios'),   ('beleza_saude', 'Beleza e Saúde'),\r\n",
                "    ('telefonia_fixa', 'Telefonia Fixa'),   ('alimentos_bebidas', 'Alimentos e Bebidas'),   \r\n",
                "    ('dvds_blu_ray', 'DVDs e Blu Rays'),    ('artes', 'Artes'), ('eletronicos', 'Eletrônicos'), \r\n",
                "    ('moveis_sala', 'Móveis / Sala'),   ('brinquedos', 'Brinquedos'),   \r\n",
                "    ('sinalizacao_e_seguranca', 'Sinalização e Segurança'), ('utilidades_domesticas', 'Utilidades Domésticas'),\r\n",
                "    ('fashion_roupa_feminina', 'Fashion / Roupa Feminina'), \r\n",
                "    ('fashion_roupa_infanto_juvenil', 'Fasion / Roupa Infantojuvenil'), \r\n",
                "    ('agro_industria_e_comercio', 'Agro, Indústria e Comércio'),    ('cine_foto', 'Cine e Foto'),   \r\n",
                "    ('livros_tecnicos', 'Livros Técnicos'), ('fashion_esporte', 'Fashio / Esportes'),\r\n",
                "    ('construcao_ferramentas_iluminacao', 'Construção e Ferramentas / Iluminação'), ('moveis_quarto', 'Móveis / Quarto'),   \r\n",
                "    ('portateis_casa_forno_e_cafe', 'Portáteis / Casa / Forno e Café'), ('eletrodomesticos_2', 'Eletrodomésticos 2'),   \r\n",
                "    ('livros_interesse_geral', 'Livros de Interesse Geral'),    ('pc_gamer', 'PC Gamer'),\r\n",
                "    ('relogios_presentes', 'Relógios e Presentes'),     \r\n",
                "    ('portateis_cozinha_e_preparadores_de_alimentos', 'Portáteis / Cozinha e Preparadores de Alimentos'),   \r\n",
                "    ('audio', 'Áudio'), ('alimentos', 'Alimentos'), \r\n",
                "    ('construcao_ferramentas_ferramentas', 'Construção e Ferramentas / Ferramentas'),\r\n",
                "    ('climatizacao', 'Climatização'),   ('pet_shop', 'Pet Shop'),   ('artes_e_artesanato', 'Artes e Artesanato'),\r\n",
                "    ('esporte_lazer', 'Esporte e Lazer'),   ('la_cuisine', 'La Cuisine'),   ('informatica_acessorios', 'Informática e Acessórios'),\r\n",
                "    ('consoles_games', 'Consoles e Games'), ('fashion_roupa_masculina', 'Fashion / Roupa Masculina'),\r\n",
                "    ('moveis_colchao_e_estofado', 'Móveis / Colchão e Estofado'),   ('fraldas_higiene', 'Fraldas e Higiene'),\r\n",
                "    ('artigos_de_festas', 'Artigos de Festa'),  ('tablets_impressao_imagem', 'Tablets, Impressão e Imagem'),\r\n",
                "    ('ferramentas_jardim', 'Ferramentas / Jardim'), ('market_place', 'Marketplace'),\r\n",
                "    ('seguros_e_servicos', 'Seguros e Serviços'),   ('moveis_escritorio', 'Móveis / Escritório'),\r\n",
                "    ('cama_mesa_banho', 'Cama, Mesa e Banho'),  ('malas_acessorios', 'Malas e Acessórios'),\r\n",
                "    ('bebes', 'Bebês'), ('eletroportateis', 'Eletroportáteis'), \r\n",
                "    ('construcao_ferramentas_construcao', 'Construção e Ferramentas / Construção'),\r\n",
                "    ('fashion_underwear_e_moda_praia', 'Fashion / Underwear e Moda Praia'),\r\n",
                "    ('papelaria', 'Papelaria'), ('moveis_decoracao', 'Móveis / Decoração'), ('cool_stuff', 'Cool Stuff'),\r\n",
                "    ('eletrodomesticos', 'Eletrodomésticos'),   ('musica', 'Música'),\r\n",
                "    ('instrumentos_musicais', 'Instrumentos Musicais'),\r\n",
                "    ('moveis_cozinha_area_de_servico_jantar_e_jardim', 'Móveis / Cozinha, Área de Serviço, Jantar e Jardim'),\r\n",
                "    ('casa_conforto', 'Casa e Conforto'),   ('casa_construcao', 'Casa e Construção')    "
            ],
            "metadata": {
                "azdata_cell_guid": "c8a1b867-22ec-4632-8a92-d21ba4c766d7"
            },
            "outputs": [
                {
                    "output_type": "display_data",
                    "data": {
                        "text/html": "(71 rows affected)"
                    },
                    "metadata": {}
                },
                {
                    "output_type": "display_data",
                    "data": {
                        "text/html": "Total execution time: 00:00:00.168"
                    },
                    "metadata": {}
                }
            ],
            "execution_count": 36
        },
        {
            "cell_type": "markdown",
            "source": [
                "Por fim, adicionamos uma coluna à tabela de produtos que vai armazenar a versão reescrita do nome da categoria de cada produto:"
            ],
            "metadata": {
                "azdata_cell_guid": "3d4721aa-a9ea-41a1-bee4-d33f98f9d6e6"
            },
            "attachments": {}
        },
        {
            "cell_type": "code",
            "source": [
                "ALTER TABLE olist_products ADD new_product_category_name NVARCHAR(255);"
            ],
            "metadata": {
                "azdata_cell_guid": "2f31f6be-1971-4b4c-947c-5b0a689f0947"
            },
            "outputs": [
                {
                    "output_type": "display_data",
                    "data": {
                        "text/html": "Commands completed successfully."
                    },
                    "metadata": {}
                },
                {
                    "output_type": "display_data",
                    "data": {
                        "text/html": "Total execution time: 00:00:00.144"
                    },
                    "metadata": {}
                }
            ],
            "execution_count": 50
        },
        {
            "cell_type": "markdown",
            "source": [
                "E, finalmente, preenchemos a coluna com as categorias reescritas:"
            ],
            "metadata": {
                "azdata_cell_guid": "b86b2f20-9ae0-419f-9014-a00a6386a97c"
            },
            "attachments": {}
        },
        {
            "cell_type": "code",
            "source": [
                "UPDATE olist_products\r\n",
                "SET new_product_category_name = (SELECT pretty_name FROM #map_product_category_names WHERE ugly_name = olist_products.product_category_name)\r\n",
                "WHERE EXISTS (SELECT pretty_name FROM #map_product_category_names WHERE ugly_name = olist_products.product_category_name)"
            ],
            "metadata": {
                "azdata_cell_guid": "4b8fb9b2-6101-4efa-b04f-4c69900cb580"
            },
            "outputs": [
                {
                    "output_type": "display_data",
                    "data": {
                        "text/html": "(32309 rows affected)"
                    },
                    "metadata": {}
                },
                {
                    "output_type": "display_data",
                    "data": {
                        "text/html": "Total execution time: 00:00:25.317"
                    },
                    "metadata": {}
                }
            ],
            "execution_count": 51
        },
        {
            "cell_type": "markdown",
            "source": [
                "Feitas estas alterações, podemos retonar uma amostra dos registros que atendem aos critérios da consulta para conferir que o resultado final é o esperado:"
            ],
            "metadata": {
                "azdata_cell_guid": "2877f5c8-b3b8-4808-9c4e-82808ec83741"
            },
            "attachments": {}
        },
        {
            "cell_type": "code",
            "source": [
                "SELECT TOP(20)\r\n",
                "    product_id\r\n",
                "    , product_category_name\r\n",
                "    , new_product_category_name\r\n",
                "    , product_height_cm\r\n",
                "    , product_name_length\r\n",
                "FROM olist_products\r\n",
                "WHERE \r\n",
                "    product_height_cm >= 20 \r\n",
                "    AND product_name_length BETWEEN 10 and 200;"
            ],
            "metadata": {
                "azdata_cell_guid": "0efd9d20-3582-496c-9c0d-355b71b51260"
            },
            "outputs": [
                {
                    "output_type": "display_data",
                    "data": {
                        "text/html": "(20 rows affected)"
                    },
                    "metadata": {}
                },
                {
                    "output_type": "display_data",
                    "data": {
                        "text/html": "Total execution time: 00:00:00.210"
                    },
                    "metadata": {}
                },
                {
                    "output_type": "execute_result",
                    "execution_count": 55,
                    "data": {
                        "application/vnd.dataresource+json": {
                            "schema": {
                                "fields": [
                                    {
                                        "name": "product_id"
                                    },
                                    {
                                        "name": "product_category_name"
                                    },
                                    {
                                        "name": "new_product_category_name"
                                    },
                                    {
                                        "name": "product_height_cm"
                                    },
                                    {
                                        "name": "product_name_length"
                                    }
                                ]
                            },
                            "data": [
                                {
                                    "0": "732bd381ad09e530fe0a5f457d81becb",
                                    "1": "cool_stuff",
                                    "2": "Cool Stuff",
                                    "3": "24",
                                    "4": "56"
                                },
                                {
                                    "0": "1c1890ba1779090cd54008a3c3302921",
                                    "1": "moveis_decoracao",
                                    "2": "Móveis / Decoração",
                                    "3": "24",
                                    "4": "27"
                                },
                                {
                                    "0": "f6574524b07d5bb753bab6f35abe2d06",
                                    "1": "malas_acessorios",
                                    "2": "Malas e Acessórios",
                                    "3": "25",
                                    "4": "52"
                                },
                                {
                                    "0": "051b9ff13dd55c0a6655a15ff296f80d",
                                    "1": "esporte_lazer",
                                    "2": "Esporte e Lazer",
                                    "3": "23",
                                    "4": "50"
                                },
                                {
                                    "0": "1eba879220bd0981a0e2fbab499ed4e1",
                                    "1": "moveis_escritorio",
                                    "2": "Móveis / Escritório",
                                    "3": "51",
                                    "4": "57"
                                },
                                {
                                    "0": "5370b82a213393979691c98074265584",
                                    "1": "bebes",
                                    "2": "Bebês",
                                    "3": "30",
                                    "4": "52"
                                },
                                {
                                    "0": "e6af694343b45b56304ad91974a110b9",
                                    "1": "utilidades_domesticas",
                                    "2": "Utilidades Domésticas",
                                    "3": "20",
                                    "4": "37"
                                },
                                {
                                    "0": "680874c570dad71c0a2844cfbf417054",
                                    "1": "moveis_decoracao",
                                    "2": "Móveis / Decoração",
                                    "3": "25",
                                    "4": "47"
                                },
                                {
                                    "0": "7a8dac4aaa16bc642e4df33adcf03303",
                                    "1": "cool_stuff",
                                    "2": "Cool Stuff",
                                    "3": "40",
                                    "4": "38"
                                },
                                {
                                    "0": "83b9bc6aae6f527ff6aafb9e01d6cbf3",
                                    "1": "brinquedos",
                                    "2": "Brinquedos",
                                    "3": "32",
                                    "4": "20"
                                },
                                {
                                    "0": "5f504b3a1c75b73d6151be81eb05bdc9",
                                    "1": "cool_stuff",
                                    "2": "Cool Stuff",
                                    "3": "40",
                                    "4": "38"
                                },
                                {
                                    "0": "c5d8079278e912d7e3b6beb48ecb56e8",
                                    "1": "beleza_saude",
                                    "2": "Beleza e Saúde",
                                    "3": "28",
                                    "4": "60"
                                },
                                {
                                    "0": "5eaa343860dc445b3fd43d1b682809fd",
                                    "1": "esporte_lazer",
                                    "2": "Esporte e Lazer",
                                    "3": "30",
                                    "4": "53"
                                },
                                {
                                    "0": "4c8056caed5757810b9a68b83c3759e6",
                                    "1": "malas_acessorios",
                                    "2": "Malas e Acessórios",
                                    "3": "40",
                                    "4": "53"
                                },
                                {
                                    "0": "fdeb34a9f03fea7c3937dd62d1d0287e",
                                    "1": "cool_stuff",
                                    "2": "Cool Stuff",
                                    "3": "20",
                                    "4": "58"
                                },
                                {
                                    "0": "1065dbb6b0bf03daaedab1236979e296",
                                    "1": "papelaria",
                                    "2": "Papelaria",
                                    "3": "40",
                                    "4": "49"
                                },
                                {
                                    "0": "f8f6fd145cc00519283cf3100477b2b3",
                                    "1": "esporte_lazer",
                                    "2": "Esporte e Lazer",
                                    "3": "20",
                                    "4": "47"
                                },
                                {
                                    "0": "1e5428c428e0f783acd6e3d94ba4ee2a",
                                    "1": "pcs",
                                    "2": "PCs",
                                    "3": "50",
                                    "4": "55"
                                },
                                {
                                    "0": "d0389f20b3d11de54e1e4561df147683",
                                    "1": "casa_construcao",
                                    "2": "Casa e Construção",
                                    "3": "25",
                                    "4": "55"
                                },
                                {
                                    "0": "575c38b4c88fc7b35ef22fc8312bfe1b",
                                    "1": "cool_stuff",
                                    "2": "Cool Stuff",
                                    "3": "20",
                                    "4": "57"
                                }
                            ]
                        },
                        "text/html": "<table><tr><th>product_id</th><th>product_category_name</th><th>new_product_category_name</th><th>product_height_cm</th><th>product_name_length</th></tr><tr><td>732bd381ad09e530fe0a5f457d81becb</td><td>cool_stuff</td><td>Cool Stuff</td><td>24</td><td>56</td></tr><tr><td>1c1890ba1779090cd54008a3c3302921</td><td>moveis_decoracao</td><td>Móveis / Decoração</td><td>24</td><td>27</td></tr><tr><td>f6574524b07d5bb753bab6f35abe2d06</td><td>malas_acessorios</td><td>Malas e Acessórios</td><td>25</td><td>52</td></tr><tr><td>051b9ff13dd55c0a6655a15ff296f80d</td><td>esporte_lazer</td><td>Esporte e Lazer</td><td>23</td><td>50</td></tr><tr><td>1eba879220bd0981a0e2fbab499ed4e1</td><td>moveis_escritorio</td><td>Móveis / Escritório</td><td>51</td><td>57</td></tr><tr><td>5370b82a213393979691c98074265584</td><td>bebes</td><td>Bebês</td><td>30</td><td>52</td></tr><tr><td>e6af694343b45b56304ad91974a110b9</td><td>utilidades_domesticas</td><td>Utilidades Domésticas</td><td>20</td><td>37</td></tr><tr><td>680874c570dad71c0a2844cfbf417054</td><td>moveis_decoracao</td><td>Móveis / Decoração</td><td>25</td><td>47</td></tr><tr><td>7a8dac4aaa16bc642e4df33adcf03303</td><td>cool_stuff</td><td>Cool Stuff</td><td>40</td><td>38</td></tr><tr><td>83b9bc6aae6f527ff6aafb9e01d6cbf3</td><td>brinquedos</td><td>Brinquedos</td><td>32</td><td>20</td></tr><tr><td>5f504b3a1c75b73d6151be81eb05bdc9</td><td>cool_stuff</td><td>Cool Stuff</td><td>40</td><td>38</td></tr><tr><td>c5d8079278e912d7e3b6beb48ecb56e8</td><td>beleza_saude</td><td>Beleza e Saúde</td><td>28</td><td>60</td></tr><tr><td>5eaa343860dc445b3fd43d1b682809fd</td><td>esporte_lazer</td><td>Esporte e Lazer</td><td>30</td><td>53</td></tr><tr><td>4c8056caed5757810b9a68b83c3759e6</td><td>malas_acessorios</td><td>Malas e Acessórios</td><td>40</td><td>53</td></tr><tr><td>fdeb34a9f03fea7c3937dd62d1d0287e</td><td>cool_stuff</td><td>Cool Stuff</td><td>20</td><td>58</td></tr><tr><td>1065dbb6b0bf03daaedab1236979e296</td><td>papelaria</td><td>Papelaria</td><td>40</td><td>49</td></tr><tr><td>f8f6fd145cc00519283cf3100477b2b3</td><td>esporte_lazer</td><td>Esporte e Lazer</td><td>20</td><td>47</td></tr><tr><td>1e5428c428e0f783acd6e3d94ba4ee2a</td><td>pcs</td><td>PCs</td><td>50</td><td>55</td></tr><tr><td>d0389f20b3d11de54e1e4561df147683</td><td>casa_construcao</td><td>Casa e Construção</td><td>25</td><td>55</td></tr><tr><td>575c38b4c88fc7b35ef22fc8312bfe1b</td><td>cool_stuff</td><td>Cool Stuff</td><td>20</td><td>57</td></tr></table>"
                    },
                    "metadata": {}
                }
            ],
            "execution_count": 55
        },
        {
            "cell_type": "markdown",
            "source": [
                "<br>\r\n",
                "<hr>\r\n",
                "<br>"
            ],
            "metadata": {
                "azdata_cell_guid": "8f8a99d4-e935-4679-bd8c-f21fdc380fdd"
            }
        },
        {
            "cell_type": "markdown",
            "source": [
                "## **Exercícios**"
            ],
            "metadata": {
                "azdata_cell_guid": "00858074-0305-4789-976a-b9bd75cd53b5"
            },
            "attachments": {}
        },
        {
            "cell_type": "markdown",
            "source": [
                "1. **Crie uma query que retorne os valores distintos de cidade existentes na tabela de clientes:**"
            ],
            "metadata": {
                "azdata_cell_guid": "79611faf-a54b-411d-a469-9ca7af44aad6"
            },
            "attachments": {}
        },
        {
            "cell_type": "code",
            "source": [
                "-- Obs: a query a seguir \r\n",
                "-- (1) retorna as colunas listadas no SELECT, \r\n",
                "-- (2) ordena pelo critério do ORDER BY, \r\n",
                "-- (3) remove as duplicatas apontadas pelo DISTINCT e \r\n",
                "-- (4) limita o resultado à quantidade indicada pelo operador TOP\r\n",
                "SELECT \r\n",
                "    DISTINCT TOP(20)    UPPER(customer_city) AS cidade, \r\n",
                "                        customer_state AS estado\r\n",
                "FROM dbo.olist_customers\r\n",
                "ORDER BY cidade, estado;"
            ],
            "metadata": {
                "azdata_cell_guid": "1fb608b3-5b3b-4400-a64c-2126d8b78f86",
                "tags": [
                    "hide_input"
                ]
            },
            "outputs": [
                {
                    "output_type": "display_data",
                    "data": {
                        "text/html": "(20 rows affected)"
                    },
                    "metadata": {}
                },
                {
                    "output_type": "display_data",
                    "data": {
                        "text/html": "Total execution time: 00:00:01.171"
                    },
                    "metadata": {}
                },
                {
                    "output_type": "execute_result",
                    "execution_count": 14,
                    "data": {
                        "application/vnd.dataresource+json": {
                            "schema": {
                                "fields": [
                                    {
                                        "name": "cidade"
                                    },
                                    {
                                        "name": "estado"
                                    }
                                ]
                            },
                            "data": [
                                {
                                    "0": "ABADIA DOS DOURADOS",
                                    "1": "MG"
                                },
                                {
                                    "0": "ABADIANIA",
                                    "1": "GO"
                                },
                                {
                                    "0": "ABAETE",
                                    "1": "MG"
                                },
                                {
                                    "0": "ABAETETUBA",
                                    "1": "PA"
                                },
                                {
                                    "0": "ABAIARA",
                                    "1": "CE"
                                },
                                {
                                    "0": "ABAIRA",
                                    "1": "BA"
                                },
                                {
                                    "0": "ABARE",
                                    "1": "BA"
                                },
                                {
                                    "0": "ABATIA",
                                    "1": "PR"
                                },
                                {
                                    "0": "ABDON BATISTA",
                                    "1": "SC"
                                },
                                {
                                    "0": "ABELARDO LUZ",
                                    "1": "SC"
                                },
                                {
                                    "0": "ABRANTES",
                                    "1": "BA"
                                },
                                {
                                    "0": "ABRE CAMPO",
                                    "1": "MG"
                                },
                                {
                                    "0": "ABREU E LIMA",
                                    "1": "PE"
                                },
                                {
                                    "0": "ACAIACA",
                                    "1": "MG"
                                },
                                {
                                    "0": "ACAILANDIA",
                                    "1": "MA"
                                },
                                {
                                    "0": "ACAJUTIBA",
                                    "1": "BA"
                                },
                                {
                                    "0": "ACARAU",
                                    "1": "CE"
                                },
                                {
                                    "0": "ACARI",
                                    "1": "RN"
                                },
                                {
                                    "0": "ACEGUA",
                                    "1": "RS"
                                },
                                {
                                    "0": "ACOPIARA",
                                    "1": "CE"
                                }
                            ]
                        },
                        "text/html": "<table><tr><th>cidade</th><th>estado</th></tr><tr><td>ABADIA DOS DOURADOS</td><td>MG</td></tr><tr><td>ABADIANIA</td><td>GO</td></tr><tr><td>ABAETE</td><td>MG</td></tr><tr><td>ABAETETUBA</td><td>PA</td></tr><tr><td>ABAIARA</td><td>CE</td></tr><tr><td>ABAIRA</td><td>BA</td></tr><tr><td>ABARE</td><td>BA</td></tr><tr><td>ABATIA</td><td>PR</td></tr><tr><td>ABDON BATISTA</td><td>SC</td></tr><tr><td>ABELARDO LUZ</td><td>SC</td></tr><tr><td>ABRANTES</td><td>BA</td></tr><tr><td>ABRE CAMPO</td><td>MG</td></tr><tr><td>ABREU E LIMA</td><td>PE</td></tr><tr><td>ACAIACA</td><td>MG</td></tr><tr><td>ACAILANDIA</td><td>MA</td></tr><tr><td>ACAJUTIBA</td><td>BA</td></tr><tr><td>ACARAU</td><td>CE</td></tr><tr><td>ACARI</td><td>RN</td></tr><tr><td>ACEGUA</td><td>RS</td></tr><tr><td>ACOPIARA</td><td>CE</td></tr></table>"
                    },
                    "metadata": {}
                }
            ],
            "execution_count": 14
        },
        {
            "cell_type": "markdown",
            "source": [
                "2. **Crie uma query que retorne os valores distintos de cidade e estado, para os estados de São Paulo, Minas Gerais e Rio de Janeiro da tabela de clientes:**"
            ],
            "metadata": {
                "azdata_cell_guid": "3dc6c2c2-26c5-483f-8f7c-f2ad87f35a5d"
            },
            "attachments": {}
        },
        {
            "cell_type": "code",
            "source": [
                "-- A query é praticamente a mesma do item anterior, com o acréscimento da cláusula WHERE\r\n",
                "SELECT \r\n",
                "    DISTINCT TOP(20)    UPPER(customer_city) AS cidade, \r\n",
                "                        customer_state AS estado\r\n",
                "FROM dbo.olist_customers\r\n",
                "WHERE customer_state IN ('SP', 'MG', 'RJ')\r\n",
                "ORDER BY cidade, estado;"
            ],
            "metadata": {
                "azdata_cell_guid": "4c58f993-23cc-4383-bf4c-c07cace09a1c"
            },
            "outputs": [
                {
                    "output_type": "display_data",
                    "data": {
                        "text/html": "(20 rows affected)"
                    },
                    "metadata": {}
                },
                {
                    "output_type": "display_data",
                    "data": {
                        "text/html": "Total execution time: 00:00:00.841"
                    },
                    "metadata": {}
                },
                {
                    "output_type": "execute_result",
                    "execution_count": 16,
                    "data": {
                        "application/vnd.dataresource+json": {
                            "schema": {
                                "fields": [
                                    {
                                        "name": "cidade"
                                    },
                                    {
                                        "name": "estado"
                                    }
                                ]
                            },
                            "data": [
                                {
                                    "0": "ABADIA DOS DOURADOS",
                                    "1": "MG"
                                },
                                {
                                    "0": "ABAETE",
                                    "1": "MG"
                                },
                                {
                                    "0": "ABRE CAMPO",
                                    "1": "MG"
                                },
                                {
                                    "0": "ACAIACA",
                                    "1": "MG"
                                },
                                {
                                    "0": "ACUCENA",
                                    "1": "MG"
                                },
                                {
                                    "0": "ADAMANTINA",
                                    "1": "SP"
                                },
                                {
                                    "0": "ADOLFO",
                                    "1": "SP"
                                },
                                {
                                    "0": "AGISSE",
                                    "1": "SP"
                                },
                                {
                                    "0": "AGUA COMPRIDA",
                                    "1": "MG"
                                },
                                {
                                    "0": "AGUAI",
                                    "1": "SP"
                                },
                                {
                                    "0": "AGUAS DA PRATA",
                                    "1": "SP"
                                },
                                {
                                    "0": "AGUAS DE LINDOIA",
                                    "1": "SP"
                                },
                                {
                                    "0": "AGUAS DE SANTA BARBARA",
                                    "1": "SP"
                                },
                                {
                                    "0": "AGUAS DE SAO PEDRO",
                                    "1": "SP"
                                },
                                {
                                    "0": "AGUAS FORMOSAS",
                                    "1": "MG"
                                },
                                {
                                    "0": "AGUAS VERMELHAS",
                                    "1": "MG"
                                },
                                {
                                    "0": "AGUDOS",
                                    "1": "SP"
                                },
                                {
                                    "0": "AIMORES",
                                    "1": "MG"
                                },
                                {
                                    "0": "AIURUOCA",
                                    "1": "MG"
                                },
                                {
                                    "0": "AJAPI",
                                    "1": "SP"
                                }
                            ]
                        },
                        "text/html": "<table><tr><th>cidade</th><th>estado</th></tr><tr><td>ABADIA DOS DOURADOS</td><td>MG</td></tr><tr><td>ABAETE</td><td>MG</td></tr><tr><td>ABRE CAMPO</td><td>MG</td></tr><tr><td>ACAIACA</td><td>MG</td></tr><tr><td>ACUCENA</td><td>MG</td></tr><tr><td>ADAMANTINA</td><td>SP</td></tr><tr><td>ADOLFO</td><td>SP</td></tr><tr><td>AGISSE</td><td>SP</td></tr><tr><td>AGUA COMPRIDA</td><td>MG</td></tr><tr><td>AGUAI</td><td>SP</td></tr><tr><td>AGUAS DA PRATA</td><td>SP</td></tr><tr><td>AGUAS DE LINDOIA</td><td>SP</td></tr><tr><td>AGUAS DE SANTA BARBARA</td><td>SP</td></tr><tr><td>AGUAS DE SAO PEDRO</td><td>SP</td></tr><tr><td>AGUAS FORMOSAS</td><td>MG</td></tr><tr><td>AGUAS VERMELHAS</td><td>MG</td></tr><tr><td>AGUDOS</td><td>SP</td></tr><tr><td>AIMORES</td><td>MG</td></tr><tr><td>AIURUOCA</td><td>MG</td></tr><tr><td>AJAPI</td><td>SP</td></tr></table>"
                    },
                    "metadata": {}
                }
            ],
            "execution_count": 16
        },
        {
            "cell_type": "markdown",
            "source": [
                "3. **Crie uma ou mais queries que retornem o preço, o frete, a data limite para envio e o identificador do pedido para os registros que têm o preço entre 50,00 e 250,00 e que têm, ao mesmo tempo, a data de envio limite maior do que 08 de Fevereiro de 2018. Utilize a tabela _olist\\_order\\_items:_**"
            ],
            "metadata": {
                "azdata_cell_guid": "715d0cc9-5d89-4f59-ba84-6cb725d402ae"
            },
            "attachments": {}
        },
        {
            "cell_type": "code",
            "source": [
                "SELECT TOP(30)\r\n",
                "\torder_id AS id_pedido\r\n",
                "\t, price AS preco\r\n",
                "    , freight_value AS frete\r\n",
                "    , shipping_limit_date AS data_limite_envio\r\n",
                "FROM olist_order_items\r\n",
                "WHERE \r\n",
                "\tprice BETWEEN 50 AND 250\r\n",
                "    AND CONVERT(DATE, shipping_limit_date) > CONVERT(DATE, '2018-02-08')\r\n",
                "ORDER BY data_limite_envio ASC, preco ASC;"
            ],
            "metadata": {
                "azdata_cell_guid": "97a02fab-eb58-4439-b02e-89d6f71cf3cd"
            },
            "outputs": [
                {
                    "output_type": "display_data",
                    "data": {
                        "text/html": "(30 rows affected)"
                    },
                    "metadata": {}
                },
                {
                    "output_type": "display_data",
                    "data": {
                        "text/html": "Total execution time: 00:00:00.995"
                    },
                    "metadata": {}
                },
                {
                    "output_type": "execute_result",
                    "execution_count": 41,
                    "data": {
                        "application/vnd.dataresource+json": {
                            "schema": {
                                "fields": [
                                    {
                                        "name": "id_pedido"
                                    },
                                    {
                                        "name": "preco"
                                    },
                                    {
                                        "name": "frete"
                                    },
                                    {
                                        "name": "data_limite_envio"
                                    }
                                ]
                            },
                            "data": [
                                {
                                    "0": "83f0c4c6b1a3c31214ca8266dc888258",
                                    "1": "79.97",
                                    "2": "10.86",
                                    "3": "2018-02-09 00:18:24.0000000"
                                },
                                {
                                    "0": "83f0c4c6b1a3c31214ca8266dc888258",
                                    "1": "79.97",
                                    "2": "10.86",
                                    "3": "2018-02-09 00:18:24.0000000"
                                },
                                {
                                    "0": "83f0c4c6b1a3c31214ca8266dc888258",
                                    "1": "79.97",
                                    "2": "10.86",
                                    "3": "2018-02-09 00:18:24.0000000"
                                },
                                {
                                    "0": "83f0c4c6b1a3c31214ca8266dc888258",
                                    "1": "79.99",
                                    "2": "28.96",
                                    "3": "2018-02-09 00:18:24.0000000"
                                },
                                {
                                    "0": "83f0c4c6b1a3c31214ca8266dc888258",
                                    "1": "79.99",
                                    "2": "28.96",
                                    "3": "2018-02-09 00:18:24.0000000"
                                },
                                {
                                    "0": "83f0c4c6b1a3c31214ca8266dc888258",
                                    "1": "79.99",
                                    "2": "28.96",
                                    "3": "2018-02-09 00:18:24.0000000"
                                },
                                {
                                    "0": "83f0c4c6b1a3c31214ca8266dc888258",
                                    "1": "79.99",
                                    "2": "28.96",
                                    "3": "2018-02-09 00:18:24.0000000"
                                },
                                {
                                    "0": "b237e3e48b008b3ee341df062216e47d",
                                    "1": "59.00",
                                    "2": "12.75",
                                    "3": "2018-02-09 00:30:36.0000000"
                                },
                                {
                                    "0": "b237e3e48b008b3ee341df062216e47d",
                                    "1": "59.00",
                                    "2": "12.75",
                                    "3": "2018-02-09 00:30:36.0000000"
                                },
                                {
                                    "0": "6916bfc2979a20759a964f5addee58d3",
                                    "1": "139.99",
                                    "2": "28.34",
                                    "3": "2018-02-09 00:31:46.0000000"
                                },
                                {
                                    "0": "090c8122737bb94ca7fcbbf412be42d0",
                                    "1": "119.90",
                                    "2": "14.59",
                                    "3": "2018-02-09 00:50:44.0000000"
                                },
                                {
                                    "0": "4c5db134eb6b1acaccc406e82f34b09f",
                                    "1": "116.60",
                                    "2": "38.66",
                                    "3": "2018-02-09 01:19:23.0000000"
                                },
                                {
                                    "0": "3c2cc795eaa5a2e2781b13d50f54ce11",
                                    "1": "60.99",
                                    "2": "33.32",
                                    "3": "2018-02-09 01:35:24.0000000"
                                },
                                {
                                    "0": "a8c403407745aac434946d5058faa6a6",
                                    "1": "83.25",
                                    "2": "27.56",
                                    "3": "2018-02-09 02:29:44.0000000"
                                },
                                {
                                    "0": "a8c403407745aac434946d5058faa6a6",
                                    "1": "115.50",
                                    "2": "13.78",
                                    "3": "2018-02-09 02:29:44.0000000"
                                },
                                {
                                    "0": "a8c403407745aac434946d5058faa6a6",
                                    "1": "201.40",
                                    "2": "1.38",
                                    "3": "2018-02-09 02:29:44.0000000"
                                },
                                {
                                    "0": "09a38776c4e31230864f867821174daa",
                                    "1": "84.89",
                                    "2": "15.34",
                                    "3": "2018-02-09 02:53:13.0000000"
                                },
                                {
                                    "0": "e3814831894acaf0ee4561b4a610b580",
                                    "1": "180.00",
                                    "2": "12.76",
                                    "3": "2018-02-09 02:53:46.0000000"
                                },
                                {
                                    "0": "e3814831894acaf0ee4561b4a610b580",
                                    "1": "180.00",
                                    "2": "12.76",
                                    "3": "2018-02-09 02:53:46.0000000"
                                },
                                {
                                    "0": "e533ab0dcf6735763fd458fda9868cea",
                                    "1": "182.00",
                                    "2": "18.52",
                                    "3": "2018-02-09 02:53:51.0000000"
                                },
                                {
                                    "0": "c85289fdb95c9cf1cdd688af14513e33",
                                    "1": "84.89",
                                    "2": "12.09",
                                    "3": "2018-02-09 02:53:57.0000000"
                                },
                                {
                                    "0": "36c0722e0453446bb2f1880e2da3bc7c",
                                    "1": "125.00",
                                    "2": "18.12",
                                    "3": "2018-02-09 02:54:01.0000000"
                                },
                                {
                                    "0": "876b3ca0fca7f369345f61f3f526a5c4",
                                    "1": "129.90",
                                    "2": "18.80",
                                    "3": "2018-02-09 02:54:30.0000000"
                                },
                                {
                                    "0": "42783d2d598dff8ebd48b70e401ca0d6",
                                    "1": "79.99",
                                    "2": "12.90",
                                    "3": "2018-02-09 02:56:36.0000000"
                                },
                                {
                                    "0": "ec3d016217751432b67659200ab0da7d",
                                    "1": "112.00",
                                    "2": "15.53",
                                    "3": "2018-02-09 04:35:27.0000000"
                                },
                                {
                                    "0": "0ee7b1f086c44cbf2dc1efbdaa69bc19",
                                    "1": "86.90",
                                    "2": "21.10",
                                    "3": "2018-02-09 04:50:21.0000000"
                                },
                                {
                                    "0": "f0ef9b99abb2937dd8698615e6c2f909",
                                    "1": "79.00",
                                    "2": "42.58",
                                    "3": "2018-02-09 06:48:29.0000000"
                                },
                                {
                                    "0": "b42b605ed9b590d3c82600285db879e9",
                                    "1": "130.00",
                                    "2": "20.15",
                                    "3": "2018-02-09 07:28:50.0000000"
                                },
                                {
                                    "0": "d37f1c9ea5fc235b81a0f3051d57b30b",
                                    "1": "139.90",
                                    "2": "17.23",
                                    "3": "2018-02-09 07:30:21.0000000"
                                },
                                {
                                    "0": "299b7bf26c8ebb5296830db0f1b2e662",
                                    "1": "109.90",
                                    "2": "12.47",
                                    "3": "2018-02-09 08:10:25.0000000"
                                }
                            ]
                        },
                        "text/html": "<table><tr><th>id_pedido</th><th>preco</th><th>frete</th><th>data_limite_envio</th></tr><tr><td>83f0c4c6b1a3c31214ca8266dc888258</td><td>79.97</td><td>10.86</td><td>2018-02-09 00:18:24.0000000</td></tr><tr><td>83f0c4c6b1a3c31214ca8266dc888258</td><td>79.97</td><td>10.86</td><td>2018-02-09 00:18:24.0000000</td></tr><tr><td>83f0c4c6b1a3c31214ca8266dc888258</td><td>79.97</td><td>10.86</td><td>2018-02-09 00:18:24.0000000</td></tr><tr><td>83f0c4c6b1a3c31214ca8266dc888258</td><td>79.99</td><td>28.96</td><td>2018-02-09 00:18:24.0000000</td></tr><tr><td>83f0c4c6b1a3c31214ca8266dc888258</td><td>79.99</td><td>28.96</td><td>2018-02-09 00:18:24.0000000</td></tr><tr><td>83f0c4c6b1a3c31214ca8266dc888258</td><td>79.99</td><td>28.96</td><td>2018-02-09 00:18:24.0000000</td></tr><tr><td>83f0c4c6b1a3c31214ca8266dc888258</td><td>79.99</td><td>28.96</td><td>2018-02-09 00:18:24.0000000</td></tr><tr><td>b237e3e48b008b3ee341df062216e47d</td><td>59.00</td><td>12.75</td><td>2018-02-09 00:30:36.0000000</td></tr><tr><td>b237e3e48b008b3ee341df062216e47d</td><td>59.00</td><td>12.75</td><td>2018-02-09 00:30:36.0000000</td></tr><tr><td>6916bfc2979a20759a964f5addee58d3</td><td>139.99</td><td>28.34</td><td>2018-02-09 00:31:46.0000000</td></tr><tr><td>090c8122737bb94ca7fcbbf412be42d0</td><td>119.90</td><td>14.59</td><td>2018-02-09 00:50:44.0000000</td></tr><tr><td>4c5db134eb6b1acaccc406e82f34b09f</td><td>116.60</td><td>38.66</td><td>2018-02-09 01:19:23.0000000</td></tr><tr><td>3c2cc795eaa5a2e2781b13d50f54ce11</td><td>60.99</td><td>33.32</td><td>2018-02-09 01:35:24.0000000</td></tr><tr><td>a8c403407745aac434946d5058faa6a6</td><td>83.25</td><td>27.56</td><td>2018-02-09 02:29:44.0000000</td></tr><tr><td>a8c403407745aac434946d5058faa6a6</td><td>115.50</td><td>13.78</td><td>2018-02-09 02:29:44.0000000</td></tr><tr><td>a8c403407745aac434946d5058faa6a6</td><td>201.40</td><td>1.38</td><td>2018-02-09 02:29:44.0000000</td></tr><tr><td>09a38776c4e31230864f867821174daa</td><td>84.89</td><td>15.34</td><td>2018-02-09 02:53:13.0000000</td></tr><tr><td>e3814831894acaf0ee4561b4a610b580</td><td>180.00</td><td>12.76</td><td>2018-02-09 02:53:46.0000000</td></tr><tr><td>e3814831894acaf0ee4561b4a610b580</td><td>180.00</td><td>12.76</td><td>2018-02-09 02:53:46.0000000</td></tr><tr><td>e533ab0dcf6735763fd458fda9868cea</td><td>182.00</td><td>18.52</td><td>2018-02-09 02:53:51.0000000</td></tr><tr><td>c85289fdb95c9cf1cdd688af14513e33</td><td>84.89</td><td>12.09</td><td>2018-02-09 02:53:57.0000000</td></tr><tr><td>36c0722e0453446bb2f1880e2da3bc7c</td><td>125.00</td><td>18.12</td><td>2018-02-09 02:54:01.0000000</td></tr><tr><td>876b3ca0fca7f369345f61f3f526a5c4</td><td>129.90</td><td>18.80</td><td>2018-02-09 02:54:30.0000000</td></tr><tr><td>42783d2d598dff8ebd48b70e401ca0d6</td><td>79.99</td><td>12.90</td><td>2018-02-09 02:56:36.0000000</td></tr><tr><td>ec3d016217751432b67659200ab0da7d</td><td>112.00</td><td>15.53</td><td>2018-02-09 04:35:27.0000000</td></tr><tr><td>0ee7b1f086c44cbf2dc1efbdaa69bc19</td><td>86.90</td><td>21.10</td><td>2018-02-09 04:50:21.0000000</td></tr><tr><td>f0ef9b99abb2937dd8698615e6c2f909</td><td>79.00</td><td>42.58</td><td>2018-02-09 06:48:29.0000000</td></tr><tr><td>b42b605ed9b590d3c82600285db879e9</td><td>130.00</td><td>20.15</td><td>2018-02-09 07:28:50.0000000</td></tr><tr><td>d37f1c9ea5fc235b81a0f3051d57b30b</td><td>139.90</td><td>17.23</td><td>2018-02-09 07:30:21.0000000</td></tr><tr><td>299b7bf26c8ebb5296830db0f1b2e662</td><td>109.90</td><td>12.47</td><td>2018-02-09 08:10:25.0000000</td></tr></table>"
                    },
                    "metadata": {}
                }
            ],
            "execution_count": 41
        },
        {
            "cell_type": "markdown",
            "source": [
                "4. **Crie uma ou mais queries que retornem o preço, o frete, a data limite para envio e o identificador do pedido para os registros que têm o preço do frete inferior a 149,00 ou que têm um preço entre 250,00 e 500,00. Utilize a tabela *olist_order_items_dataset*:**"
            ],
            "metadata": {
                "azdata_cell_guid": "c0385ae6-1c75-482f-91f8-210b549c27b2"
            }
        },
        {
            "cell_type": "code",
            "source": [
                "SELECT TOP(30)\r\n",
                "\torder_id AS identificador_pedido\r\n",
                "\t, price AS preco\r\n",
                "    , freight_value AS frete\r\n",
                "    , shipping_limit_date AS data_limite_envio\r\n",
                "FROM olist_order_items\r\n",
                "WHERE \r\n",
                "\tfreight_value < 149\r\n",
                "    OR price BETWEEN 250 AND 500\r\n",
                "ORDER BY data_limite_envio ASC, preco ASC, frete ASC;"
            ],
            "metadata": {
                "azdata_cell_guid": "21948d7d-381c-4f4a-a05a-0548f07f4a3a"
            },
            "outputs": [
                {
                    "output_type": "display_data",
                    "data": {
                        "text/html": "(30 rows affected)"
                    },
                    "metadata": {}
                },
                {
                    "output_type": "display_data",
                    "data": {
                        "text/html": "Total execution time: 00:00:12.831"
                    },
                    "metadata": {}
                },
                {
                    "output_type": "execute_result",
                    "execution_count": 42,
                    "data": {
                        "application/vnd.dataresource+json": {
                            "schema": {
                                "fields": [
                                    {
                                        "name": "identificador_pedido"
                                    },
                                    {
                                        "name": "preco"
                                    },
                                    {
                                        "name": "frete"
                                    },
                                    {
                                        "name": "data_limite_envio"
                                    }
                                ]
                            },
                            "data": [
                                {
                                    "0": "e5fa5a7210941f7d56d0208e4e071d35",
                                    "1": "59.50",
                                    "2": "15.56",
                                    "3": "2016-09-19 00:15:34.0000000"
                                },
                                {
                                    "0": "bfbd0f9bdef84302105ad712db648a6c",
                                    "1": "44.99",
                                    "2": "2.83",
                                    "3": "2016-09-19 23:11:33.0000000"
                                },
                                {
                                    "0": "bfbd0f9bdef84302105ad712db648a6c",
                                    "1": "44.99",
                                    "2": "2.83",
                                    "3": "2016-09-19 23:11:33.0000000"
                                },
                                {
                                    "0": "bfbd0f9bdef84302105ad712db648a6c",
                                    "1": "44.99",
                                    "2": "2.83",
                                    "3": "2016-09-19 23:11:33.0000000"
                                },
                                {
                                    "0": "cd3b8574c82b42fc8129f6d502690c3e",
                                    "1": "29.99",
                                    "2": "10.96",
                                    "3": "2016-10-08 10:34:01.0000000"
                                },
                                {
                                    "0": "c3d9e402b6a0fbe2a5f7fc5b41117c38",
                                    "1": "189.00",
                                    "2": "48.45",
                                    "3": "2016-10-08 10:45:33.0000000"
                                },
                                {
                                    "0": "c4b41c36dd589e901f6879f25a74ec1d",
                                    "1": "9.90",
                                    "2": "8.72",
                                    "3": "2016-10-08 13:26:12.0000000"
                                },
                                {
                                    "0": "36989eb07a0de2d3d3129eea35553875",
                                    "1": "23.90",
                                    "2": "26.82",
                                    "3": "2016-10-08 13:46:32.0000000"
                                },
                                {
                                    "0": "36989eb07a0de2d3d3129eea35553875",
                                    "1": "23.90",
                                    "2": "26.82",
                                    "3": "2016-10-08 13:46:32.0000000"
                                },
                                {
                                    "0": "63638a6806d67773f3adba8534553fff",
                                    "1": "67.90",
                                    "2": "18.98",
                                    "3": "2016-10-08 13:47:45.0000000"
                                },
                                {
                                    "0": "4d66b3a9d12facad48a3b23cc9fe7898",
                                    "1": "89.90",
                                    "2": "17.51",
                                    "3": "2016-10-08 14:09:08.0000000"
                                },
                                {
                                    "0": "22613579f7d11cc59c4347526fc3c79e",
                                    "1": "379.90",
                                    "2": "18.22",
                                    "3": "2016-10-08 14:27:50.0000000"
                                },
                                {
                                    "0": "7033745709b7cf1bac7d2533663592de",
                                    "1": "93.90",
                                    "2": "17.61",
                                    "3": "2016-10-08 14:46:49.0000000"
                                },
                                {
                                    "0": "fbbc9a4fa88f1ccd651790df665b3e57",
                                    "1": "99.90",
                                    "2": "19.53",
                                    "3": "2016-10-09 02:45:17.0000000"
                                },
                                {
                                    "0": "a6475bb7a50387e3c665534e15bd40ac",
                                    "1": "599.00",
                                    "2": "60.41",
                                    "3": "2016-10-09 02:46:18.0000000"
                                },
                                {
                                    "0": "dd359d3c294458c6d642b2eea9212bf5",
                                    "1": "164.00",
                                    "2": "13.20",
                                    "3": "2016-10-09 03:08:28.0000000"
                                },
                                {
                                    "0": "5cc475c7c03290048eb2e742cd64cb5e",
                                    "1": "71.00",
                                    "2": "11.69",
                                    "3": "2016-10-09 03:10:31.0000000"
                                },
                                {
                                    "0": "5cb8558cbb7c0c2f00f43468579d3e3c",
                                    "1": "22.37",
                                    "2": "17.78",
                                    "3": "2016-10-09 03:10:59.0000000"
                                },
                                {
                                    "0": "5b1376fe61863fe3508011db309e35fe",
                                    "1": "149.90",
                                    "2": "27.38",
                                    "3": "2016-10-09 03:11:34.0000000"
                                },
                                {
                                    "0": "bcbc0973414b1dd97555e6f8e9713cfa",
                                    "1": "79.90",
                                    "2": "15.91",
                                    "3": "2016-10-09 03:45:42.0000000"
                                },
                                {
                                    "0": "bcbc0973414b1dd97555e6f8e9713cfa",
                                    "1": "79.90",
                                    "2": "15.91",
                                    "3": "2016-10-09 03:45:42.0000000"
                                },
                                {
                                    "0": "bcbc0973414b1dd97555e6f8e9713cfa",
                                    "1": "79.90",
                                    "2": "15.91",
                                    "3": "2016-10-09 03:45:42.0000000"
                                },
                                {
                                    "0": "bcbc0973414b1dd97555e6f8e9713cfa",
                                    "1": "79.90",
                                    "2": "15.91",
                                    "3": "2016-10-09 03:45:42.0000000"
                                },
                                {
                                    "0": "51725d3e4bdfc97e28b40543310da8a3",
                                    "1": "59.90",
                                    "2": "14.87",
                                    "3": "2016-10-09 17:06:52.0000000"
                                },
                                {
                                    "0": "51725d3e4bdfc97e28b40543310da8a3",
                                    "1": "59.90",
                                    "2": "14.87",
                                    "3": "2016-10-09 17:06:52.0000000"
                                },
                                {
                                    "0": "cbbb524a0e1646aa6cf7a3c0bbe517ad",
                                    "1": "75.00",
                                    "2": "20.58",
                                    "3": "2016-10-10 02:46:24.0000000"
                                },
                                {
                                    "0": "98750f114ae6088d04ea0d3cfe3f137f",
                                    "1": "10.00",
                                    "2": "14.52",
                                    "3": "2016-10-10 03:07:51.0000000"
                                },
                                {
                                    "0": "d1eb8e4e276a4eea13a5c462c0765e60",
                                    "1": "19.99",
                                    "2": "20.80",
                                    "3": "2016-10-10 03:10:34.0000000"
                                },
                                {
                                    "0": "92b44b87f1f7670b8911c5f0e642435e",
                                    "1": "149.99",
                                    "2": "11.66",
                                    "3": "2016-10-10 07:45:48.0000000"
                                },
                                {
                                    "0": "80606b26965c5ed21e85a085e0667b63",
                                    "1": "148.00",
                                    "2": "30.11",
                                    "3": "2016-10-10 07:46:47.0000000"
                                }
                            ]
                        },
                        "text/html": "<table><tr><th>identificador_pedido</th><th>preco</th><th>frete</th><th>data_limite_envio</th></tr><tr><td>e5fa5a7210941f7d56d0208e4e071d35</td><td>59.50</td><td>15.56</td><td>2016-09-19 00:15:34.0000000</td></tr><tr><td>bfbd0f9bdef84302105ad712db648a6c</td><td>44.99</td><td>2.83</td><td>2016-09-19 23:11:33.0000000</td></tr><tr><td>bfbd0f9bdef84302105ad712db648a6c</td><td>44.99</td><td>2.83</td><td>2016-09-19 23:11:33.0000000</td></tr><tr><td>bfbd0f9bdef84302105ad712db648a6c</td><td>44.99</td><td>2.83</td><td>2016-09-19 23:11:33.0000000</td></tr><tr><td>cd3b8574c82b42fc8129f6d502690c3e</td><td>29.99</td><td>10.96</td><td>2016-10-08 10:34:01.0000000</td></tr><tr><td>c3d9e402b6a0fbe2a5f7fc5b41117c38</td><td>189.00</td><td>48.45</td><td>2016-10-08 10:45:33.0000000</td></tr><tr><td>c4b41c36dd589e901f6879f25a74ec1d</td><td>9.90</td><td>8.72</td><td>2016-10-08 13:26:12.0000000</td></tr><tr><td>36989eb07a0de2d3d3129eea35553875</td><td>23.90</td><td>26.82</td><td>2016-10-08 13:46:32.0000000</td></tr><tr><td>36989eb07a0de2d3d3129eea35553875</td><td>23.90</td><td>26.82</td><td>2016-10-08 13:46:32.0000000</td></tr><tr><td>63638a6806d67773f3adba8534553fff</td><td>67.90</td><td>18.98</td><td>2016-10-08 13:47:45.0000000</td></tr><tr><td>4d66b3a9d12facad48a3b23cc9fe7898</td><td>89.90</td><td>17.51</td><td>2016-10-08 14:09:08.0000000</td></tr><tr><td>22613579f7d11cc59c4347526fc3c79e</td><td>379.90</td><td>18.22</td><td>2016-10-08 14:27:50.0000000</td></tr><tr><td>7033745709b7cf1bac7d2533663592de</td><td>93.90</td><td>17.61</td><td>2016-10-08 14:46:49.0000000</td></tr><tr><td>fbbc9a4fa88f1ccd651790df665b3e57</td><td>99.90</td><td>19.53</td><td>2016-10-09 02:45:17.0000000</td></tr><tr><td>a6475bb7a50387e3c665534e15bd40ac</td><td>599.00</td><td>60.41</td><td>2016-10-09 02:46:18.0000000</td></tr><tr><td>dd359d3c294458c6d642b2eea9212bf5</td><td>164.00</td><td>13.20</td><td>2016-10-09 03:08:28.0000000</td></tr><tr><td>5cc475c7c03290048eb2e742cd64cb5e</td><td>71.00</td><td>11.69</td><td>2016-10-09 03:10:31.0000000</td></tr><tr><td>5cb8558cbb7c0c2f00f43468579d3e3c</td><td>22.37</td><td>17.78</td><td>2016-10-09 03:10:59.0000000</td></tr><tr><td>5b1376fe61863fe3508011db309e35fe</td><td>149.90</td><td>27.38</td><td>2016-10-09 03:11:34.0000000</td></tr><tr><td>bcbc0973414b1dd97555e6f8e9713cfa</td><td>79.90</td><td>15.91</td><td>2016-10-09 03:45:42.0000000</td></tr><tr><td>bcbc0973414b1dd97555e6f8e9713cfa</td><td>79.90</td><td>15.91</td><td>2016-10-09 03:45:42.0000000</td></tr><tr><td>bcbc0973414b1dd97555e6f8e9713cfa</td><td>79.90</td><td>15.91</td><td>2016-10-09 03:45:42.0000000</td></tr><tr><td>bcbc0973414b1dd97555e6f8e9713cfa</td><td>79.90</td><td>15.91</td><td>2016-10-09 03:45:42.0000000</td></tr><tr><td>51725d3e4bdfc97e28b40543310da8a3</td><td>59.90</td><td>14.87</td><td>2016-10-09 17:06:52.0000000</td></tr><tr><td>51725d3e4bdfc97e28b40543310da8a3</td><td>59.90</td><td>14.87</td><td>2016-10-09 17:06:52.0000000</td></tr><tr><td>cbbb524a0e1646aa6cf7a3c0bbe517ad</td><td>75.00</td><td>20.58</td><td>2016-10-10 02:46:24.0000000</td></tr><tr><td>98750f114ae6088d04ea0d3cfe3f137f</td><td>10.00</td><td>14.52</td><td>2016-10-10 03:07:51.0000000</td></tr><tr><td>d1eb8e4e276a4eea13a5c462c0765e60</td><td>19.99</td><td>20.80</td><td>2016-10-10 03:10:34.0000000</td></tr><tr><td>92b44b87f1f7670b8911c5f0e642435e</td><td>149.99</td><td>11.66</td><td>2016-10-10 07:45:48.0000000</td></tr><tr><td>80606b26965c5ed21e85a085e0667b63</td><td>148.00</td><td>30.11</td><td>2016-10-10 07:46:47.0000000</td></tr></table>"
                    },
                    "metadata": {}
                }
            ],
            "execution_count": 42
        },
        {
            "cell_type": "markdown",
            "source": [
                "5. **Crie uma query em SQL que retorne todos os tipos de pagamento. Utilize a tabela *olist_order_payments_dataset*:**"
            ],
            "metadata": {
                "azdata_cell_guid": "b2852a8c-4846-45db-bc32-aa3dd04c9ac8"
            }
        },
        {
            "cell_type": "code",
            "source": [
                "SELECT DISTINCT payment_type AS tipo_pagamento \r\n",
                "FROM olist_order_payments;"
            ],
            "metadata": {
                "azdata_cell_guid": "6470d347-0338-4c82-b38f-78955141badb"
            },
            "outputs": [
                {
                    "output_type": "display_data",
                    "data": {
                        "text/html": "(5 rows affected)"
                    },
                    "metadata": {}
                },
                {
                    "output_type": "display_data",
                    "data": {
                        "text/html": "Total execution time: 00:00:04.624"
                    },
                    "metadata": {}
                },
                {
                    "output_type": "execute_result",
                    "execution_count": 43,
                    "data": {
                        "application/vnd.dataresource+json": {
                            "schema": {
                                "fields": [
                                    {
                                        "name": "tipo_pagamento"
                                    }
                                ]
                            },
                            "data": [
                                {
                                    "0": "credit_card"
                                },
                                {
                                    "0": "not_defined"
                                },
                                {
                                    "0": "debit_card"
                                },
                                {
                                    "0": "boleto"
                                },
                                {
                                    "0": "voucher"
                                }
                            ]
                        },
                        "text/html": "<table><tr><th>tipo_pagamento</th></tr><tr><td>credit_card</td></tr><tr><td>not_defined</td></tr><tr><td>debit_card</td></tr><tr><td>boleto</td></tr><tr><td>voucher</td></tr></table>"
                    },
                    "metadata": {}
                }
            ],
            "execution_count": 43
        },
        {
            "cell_type": "markdown",
            "source": [
                "6. **Crie uma query que retorne o tipo e o valor do pagamento para as compras que foram parceladas de 12 a 24 vezes e que tiveram um valor superior a 245,99. Utilize a tabela *olist_order_payments_dataset*:**"
            ],
            "metadata": {
                "azdata_cell_guid": "58dabd76-ee08-4b1e-98a6-e8ef7a2af6ce"
            }
        },
        {
            "cell_type": "code",
            "source": [
                "SELECT TOP(20)\r\n",
                "\torder_id AS id_pedido\r\n",
                "\t, payment_type AS tipo_pagamento\r\n",
                "    , payment_value AS valor_pagamento\r\n",
                "    , payment_installments AS qtd_parcelas\r\n",
                "FROM olist_order_payments \r\n",
                "WHERE \r\n",
                "\tpayment_installments between 12 and 24\r\n",
                "    AND payment_value > 245.99\r\n",
                "ORDER BY qtd_parcelas DESC;"
            ],
            "metadata": {
                "azdata_cell_guid": "9fa8c841-2b25-4697-b011-e33a03b38cec"
            },
            "outputs": [
                {
                    "output_type": "display_data",
                    "data": {
                        "text/html": "(20 rows affected)"
                    },
                    "metadata": {}
                },
                {
                    "output_type": "display_data",
                    "data": {
                        "text/html": "Total execution time: 00:00:00.459"
                    },
                    "metadata": {}
                },
                {
                    "output_type": "execute_result",
                    "execution_count": 45,
                    "data": {
                        "application/vnd.dataresource+json": {
                            "schema": {
                                "fields": [
                                    {
                                        "name": "id_pedido"
                                    },
                                    {
                                        "name": "tipo_pagamento"
                                    },
                                    {
                                        "name": "valor_pagamento"
                                    },
                                    {
                                        "name": "qtd_parcelas"
                                    }
                                ]
                            },
                            "data": [
                                {
                                    "0": "70b7e94ea46d3e8b5bc12a50186edaf0",
                                    "1": "credit_card",
                                    "2": "274.84",
                                    "3": "24"
                                },
                                {
                                    "0": "859f516f2fc3f95772e63c5757ab0d5b",
                                    "1": "credit_card",
                                    "2": "609.56",
                                    "3": "24"
                                },
                                {
                                    "0": "ff36cbc44b8f228e0449c92ef089c843",
                                    "1": "credit_card",
                                    "2": "756.49",
                                    "3": "24"
                                },
                                {
                                    "0": "2b7dbe9be72b8f9733844c31055c0825",
                                    "1": "credit_card",
                                    "2": "345.39",
                                    "3": "24"
                                },
                                {
                                    "0": "6ae2e8b8fac02522481d2a2f4ca4412c",
                                    "1": "credit_card",
                                    "2": "433.43",
                                    "3": "24"
                                },
                                {
                                    "0": "90f864fe19d11549fa01eb81c4dd87e3",
                                    "1": "credit_card",
                                    "2": "588.58",
                                    "3": "24"
                                },
                                {
                                    "0": "84d2098c97827c6327ed4d7be95e1fc8",
                                    "1": "credit_card",
                                    "2": "286.78",
                                    "3": "24"
                                },
                                {
                                    "0": "ffb18bf111fa70edf316eb0390427986",
                                    "1": "credit_card",
                                    "2": "617.24",
                                    "3": "24"
                                },
                                {
                                    "0": "63dbe0c8e63e5f1b4deec09d4f044a7f",
                                    "1": "credit_card",
                                    "2": "771.69",
                                    "3": "24"
                                },
                                {
                                    "0": "fcbb6af360b31b05460c2c8e524588c0",
                                    "1": "credit_card",
                                    "2": "1194.38",
                                    "3": "24"
                                },
                                {
                                    "0": "ef71772d55431467890fda2f45c7bdde",
                                    "1": "credit_card",
                                    "2": "629.64",
                                    "3": "24"
                                },
                                {
                                    "0": "d8d5cc8b2d42cce90b7ea35e5691a7b1",
                                    "1": "credit_card",
                                    "2": "599.18",
                                    "3": "24"
                                },
                                {
                                    "0": "1800f4a4362310d7eb38281634f6dfd1",
                                    "1": "credit_card",
                                    "2": "325.37",
                                    "3": "24"
                                },
                                {
                                    "0": "61450e6c8f56d52e46a198e57df7d731",
                                    "1": "credit_card",
                                    "2": "252.09",
                                    "3": "24"
                                },
                                {
                                    "0": "d74fca7ee2ce7587c45eefb0fea95ed8",
                                    "1": "credit_card",
                                    "2": "1099.00",
                                    "3": "24"
                                },
                                {
                                    "0": "f60ce04ff8060152c83c7c97e246d6a8",
                                    "1": "credit_card",
                                    "2": "1440.10",
                                    "3": "24"
                                },
                                {
                                    "0": "e02d61b42452cc6737650331d8bc8ad7",
                                    "1": "credit_card",
                                    "2": "515.70",
                                    "3": "24"
                                },
                                {
                                    "0": "bc2c82b0ef78d2252b6176d1972db7c9",
                                    "1": "credit_card",
                                    "2": "303.02",
                                    "3": "21"
                                },
                                {
                                    "0": "9d4ff04268ad793e7cac36f6224d44dc",
                                    "1": "credit_card",
                                    "2": "811.32",
                                    "3": "20"
                                },
                                {
                                    "0": "70b742795bc441e94a44a084b6d9ce7a",
                                    "1": "credit_card",
                                    "2": "578.82",
                                    "3": "20"
                                }
                            ]
                        },
                        "text/html": "<table><tr><th>id_pedido</th><th>tipo_pagamento</th><th>valor_pagamento</th><th>qtd_parcelas</th></tr><tr><td>70b7e94ea46d3e8b5bc12a50186edaf0</td><td>credit_card</td><td>274.84</td><td>24</td></tr><tr><td>859f516f2fc3f95772e63c5757ab0d5b</td><td>credit_card</td><td>609.56</td><td>24</td></tr><tr><td>ff36cbc44b8f228e0449c92ef089c843</td><td>credit_card</td><td>756.49</td><td>24</td></tr><tr><td>2b7dbe9be72b8f9733844c31055c0825</td><td>credit_card</td><td>345.39</td><td>24</td></tr><tr><td>6ae2e8b8fac02522481d2a2f4ca4412c</td><td>credit_card</td><td>433.43</td><td>24</td></tr><tr><td>90f864fe19d11549fa01eb81c4dd87e3</td><td>credit_card</td><td>588.58</td><td>24</td></tr><tr><td>84d2098c97827c6327ed4d7be95e1fc8</td><td>credit_card</td><td>286.78</td><td>24</td></tr><tr><td>ffb18bf111fa70edf316eb0390427986</td><td>credit_card</td><td>617.24</td><td>24</td></tr><tr><td>63dbe0c8e63e5f1b4deec09d4f044a7f</td><td>credit_card</td><td>771.69</td><td>24</td></tr><tr><td>fcbb6af360b31b05460c2c8e524588c0</td><td>credit_card</td><td>1194.38</td><td>24</td></tr><tr><td>ef71772d55431467890fda2f45c7bdde</td><td>credit_card</td><td>629.64</td><td>24</td></tr><tr><td>d8d5cc8b2d42cce90b7ea35e5691a7b1</td><td>credit_card</td><td>599.18</td><td>24</td></tr><tr><td>1800f4a4362310d7eb38281634f6dfd1</td><td>credit_card</td><td>325.37</td><td>24</td></tr><tr><td>61450e6c8f56d52e46a198e57df7d731</td><td>credit_card</td><td>252.09</td><td>24</td></tr><tr><td>d74fca7ee2ce7587c45eefb0fea95ed8</td><td>credit_card</td><td>1099.00</td><td>24</td></tr><tr><td>f60ce04ff8060152c83c7c97e246d6a8</td><td>credit_card</td><td>1440.10</td><td>24</td></tr><tr><td>e02d61b42452cc6737650331d8bc8ad7</td><td>credit_card</td><td>515.70</td><td>24</td></tr><tr><td>bc2c82b0ef78d2252b6176d1972db7c9</td><td>credit_card</td><td>303.02</td><td>21</td></tr><tr><td>9d4ff04268ad793e7cac36f6224d44dc</td><td>credit_card</td><td>811.32</td><td>20</td></tr><tr><td>70b742795bc441e94a44a084b6d9ce7a</td><td>credit_card</td><td>578.82</td><td>20</td></tr></table>"
                    },
                    "metadata": {}
                }
            ],
            "execution_count": 45
        },
        {
            "cell_type": "markdown",
            "source": [
                "7. **Crie uma query em SQL que retorne todas as pontuações de avaliação. Utilize a tabela *olist_order_reviews_dataset*:**"
            ],
            "metadata": {
                "azdata_cell_guid": "49bb404d-925b-4464-9a96-d3298cd2c9e8"
            },
            "attachments": {}
        },
        {
            "cell_type": "code",
            "source": [
                "SELECT TOP(20)\r\n",
                "\torder_id AS id_pedido\r\n",
                "    , review_score AS score_avaliacao \r\n",
                "from olist_order_reviews;\r\n",
                "-- aqui talvez fizesse mais sentido uma consulta que contasse a quantidade de avaliações por nota, como:\r\n",
                "-- SELECT review_score AS score_avaliacao, COUNT() AS quantidade FROM olist_order_reviews GROUP BY review_score;"
            ],
            "metadata": {
                "azdata_cell_guid": "1c3695f2-0956-4311-9fac-dbe22c7db224"
            },
            "outputs": [
                {
                    "output_type": "display_data",
                    "data": {
                        "text/html": "(20 rows affected)"
                    },
                    "metadata": {}
                },
                {
                    "output_type": "display_data",
                    "data": {
                        "text/html": "Total execution time: 00:00:00.152"
                    },
                    "metadata": {}
                },
                {
                    "output_type": "execute_result",
                    "execution_count": 47,
                    "data": {
                        "application/vnd.dataresource+json": {
                            "schema": {
                                "fields": [
                                    {
                                        "name": "id_pedido"
                                    },
                                    {
                                        "name": "score_avaliacao"
                                    }
                                ]
                            },
                            "data": [
                                {
                                    "0": "73fc7af87114b39712e6da79b0a377eb",
                                    "1": "4"
                                },
                                {
                                    "0": "a548910a1c6147796b98fdf73dbeba33",
                                    "1": "5"
                                },
                                {
                                    "0": "f9e4b658b201a9f2ecdecbb34bed034b",
                                    "1": "5"
                                },
                                {
                                    "0": "658677c97b385a9be170737859d3511b",
                                    "1": "5"
                                },
                                {
                                    "0": "8e6bfb81e283fa7e4f11123a3fb894f1",
                                    "1": "5"
                                },
                                {
                                    "0": "b18dcdf73be66366873cd26c5724d1dc",
                                    "1": "1"
                                },
                                {
                                    "0": "e48aa0d2dcec3a2e87348811bcfdf22b",
                                    "1": "5"
                                },
                                {
                                    "0": "c31a859e34e3adac22f376954e19b39d",
                                    "1": "5"
                                },
                                {
                                    "0": "9c214ac970e84273583ab523dfafd09b",
                                    "1": "5"
                                },
                                {
                                    "0": "b9bf720beb4ab3728760088589c62129",
                                    "1": "4"
                                },
                                {
                                    "0": "cdf9aa68e72324eeb25c7de974696ee2",
                                    "1": "5"
                                },
                                {
                                    "0": "3d374c9e46530bb5ed4a7648915306a6",
                                    "1": "5"
                                },
                                {
                                    "0": "9d6f15f95d01e79bd1349cc208361f09",
                                    "1": "4"
                                },
                                {
                                    "0": "2eaf8e099d871cd5c22b83b5ea8f6e0e",
                                    "1": "4"
                                },
                                {
                                    "0": "d7bd0e4afdf94846eb73642b4e3e75c3",
                                    "1": "3"
                                },
                                {
                                    "0": "e51478e7e277a83743b6f9991dbfa3fb",
                                    "1": "5"
                                },
                                {
                                    "0": "0dacf04c5ad59fd5a0cc1faa07c34e39",
                                    "1": "2"
                                },
                                {
                                    "0": "ff1581e08b3011021e7c7de592ddc81e",
                                    "1": "5"
                                },
                                {
                                    "0": "70a752414a13d09cc1f2b437b914b28e",
                                    "1": "3"
                                },
                                {
                                    "0": "583174fbe37d3d5f0d6661be3aad1786",
                                    "1": "1"
                                }
                            ]
                        },
                        "text/html": "<table><tr><th>id_pedido</th><th>score_avaliacao</th></tr><tr><td>73fc7af87114b39712e6da79b0a377eb</td><td>4</td></tr><tr><td>a548910a1c6147796b98fdf73dbeba33</td><td>5</td></tr><tr><td>f9e4b658b201a9f2ecdecbb34bed034b</td><td>5</td></tr><tr><td>658677c97b385a9be170737859d3511b</td><td>5</td></tr><tr><td>8e6bfb81e283fa7e4f11123a3fb894f1</td><td>5</td></tr><tr><td>b18dcdf73be66366873cd26c5724d1dc</td><td>1</td></tr><tr><td>e48aa0d2dcec3a2e87348811bcfdf22b</td><td>5</td></tr><tr><td>c31a859e34e3adac22f376954e19b39d</td><td>5</td></tr><tr><td>9c214ac970e84273583ab523dfafd09b</td><td>5</td></tr><tr><td>b9bf720beb4ab3728760088589c62129</td><td>4</td></tr><tr><td>cdf9aa68e72324eeb25c7de974696ee2</td><td>5</td></tr><tr><td>3d374c9e46530bb5ed4a7648915306a6</td><td>5</td></tr><tr><td>9d6f15f95d01e79bd1349cc208361f09</td><td>4</td></tr><tr><td>2eaf8e099d871cd5c22b83b5ea8f6e0e</td><td>4</td></tr><tr><td>d7bd0e4afdf94846eb73642b4e3e75c3</td><td>3</td></tr><tr><td>e51478e7e277a83743b6f9991dbfa3fb</td><td>5</td></tr><tr><td>0dacf04c5ad59fd5a0cc1faa07c34e39</td><td>2</td></tr><tr><td>ff1581e08b3011021e7c7de592ddc81e</td><td>5</td></tr><tr><td>70a752414a13d09cc1f2b437b914b28e</td><td>3</td></tr><tr><td>583174fbe37d3d5f0d6661be3aad1786</td><td>1</td></tr></table>"
                    },
                    "metadata": {}
                }
            ],
            "execution_count": 47
        },
        {
            "cell_type": "markdown",
            "source": [
                "8. **Crie uma query em SQL que retorne todos os status de pedidos. Utilize a tabela *olist_orders_dataset*:**"
            ],
            "metadata": {
                "azdata_cell_guid": "9ff228ad-d93d-4e66-8628-244c308e48e0"
            }
        },
        {
            "cell_type": "code",
            "source": [
                "SELECT top(20)\r\n",
                "\torder_id AS id_pedido\r\n",
                "    , order_status AS status_pedido \r\n",
                "FROM olist_orders;"
            ],
            "metadata": {
                "azdata_cell_guid": "ba3f1829-f0b6-48bd-98f9-0912b4451690"
            },
            "outputs": [
                {
                    "output_type": "display_data",
                    "data": {
                        "text/html": "(20 rows affected)"
                    },
                    "metadata": {}
                },
                {
                    "output_type": "display_data",
                    "data": {
                        "text/html": "Total execution time: 00:00:00.203"
                    },
                    "metadata": {}
                },
                {
                    "output_type": "execute_result",
                    "execution_count": 49,
                    "data": {
                        "application/vnd.dataresource+json": {
                            "schema": {
                                "fields": [
                                    {
                                        "name": "id_pedido"
                                    },
                                    {
                                        "name": "status_pedido"
                                    }
                                ]
                            },
                            "data": [
                                {
                                    "0": "e481f51cbdc54678b7cc49136f2d6af7",
                                    "1": "delivered"
                                },
                                {
                                    "0": "53cdb2fc8bc7dce0b6741e2150273451",
                                    "1": "delivered"
                                },
                                {
                                    "0": "47770eb9100c2d0c44946d9cf07ec65d",
                                    "1": "delivered"
                                },
                                {
                                    "0": "949d5b44dbf5de918fe9c16f97b45f8a",
                                    "1": "delivered"
                                },
                                {
                                    "0": "ad21c59c0840e6cb83a9ceb5573f8159",
                                    "1": "delivered"
                                },
                                {
                                    "0": "a4591c265e18cb1dcee52889e2d8acc3",
                                    "1": "delivered"
                                },
                                {
                                    "0": "136cce7faa42fdb2cefd53fdc79a6098",
                                    "1": "invoiced"
                                },
                                {
                                    "0": "6514b8ad8028c9f2cc2374ded245783f",
                                    "1": "delivered"
                                },
                                {
                                    "0": "76c6e866289321a7c93b82b54852dc33",
                                    "1": "delivered"
                                },
                                {
                                    "0": "e69bfb5eb88e0ed6a785585b27e16dbf",
                                    "1": "delivered"
                                },
                                {
                                    "0": "e6ce16cb79ec1d90b1da9085a6118aeb",
                                    "1": "delivered"
                                },
                                {
                                    "0": "34513ce0c4fab462a55830c0989c7edb",
                                    "1": "delivered"
                                },
                                {
                                    "0": "82566a660a982b15fb86e904c8d32918",
                                    "1": "delivered"
                                },
                                {
                                    "0": "5ff96c15d0b717ac6ad1f3d77225a350",
                                    "1": "delivered"
                                },
                                {
                                    "0": "432aaf21d85167c2c86ec9448c4e42cc",
                                    "1": "delivered"
                                },
                                {
                                    "0": "dcb36b511fcac050b97cd5c05de84dc3",
                                    "1": "delivered"
                                },
                                {
                                    "0": "403b97836b0c04a622354cf531062e5f",
                                    "1": "delivered"
                                },
                                {
                                    "0": "116f0b09343b49556bbad5f35bee0cdf",
                                    "1": "delivered"
                                },
                                {
                                    "0": "85ce859fd6dc634de8d2f1e290444043",
                                    "1": "delivered"
                                },
                                {
                                    "0": "83018ec114eee8641c97e08f7b4e926f",
                                    "1": "delivered"
                                }
                            ]
                        },
                        "text/html": "<table><tr><th>id_pedido</th><th>status_pedido</th></tr><tr><td>e481f51cbdc54678b7cc49136f2d6af7</td><td>delivered</td></tr><tr><td>53cdb2fc8bc7dce0b6741e2150273451</td><td>delivered</td></tr><tr><td>47770eb9100c2d0c44946d9cf07ec65d</td><td>delivered</td></tr><tr><td>949d5b44dbf5de918fe9c16f97b45f8a</td><td>delivered</td></tr><tr><td>ad21c59c0840e6cb83a9ceb5573f8159</td><td>delivered</td></tr><tr><td>a4591c265e18cb1dcee52889e2d8acc3</td><td>delivered</td></tr><tr><td>136cce7faa42fdb2cefd53fdc79a6098</td><td>invoiced</td></tr><tr><td>6514b8ad8028c9f2cc2374ded245783f</td><td>delivered</td></tr><tr><td>76c6e866289321a7c93b82b54852dc33</td><td>delivered</td></tr><tr><td>e69bfb5eb88e0ed6a785585b27e16dbf</td><td>delivered</td></tr><tr><td>e6ce16cb79ec1d90b1da9085a6118aeb</td><td>delivered</td></tr><tr><td>34513ce0c4fab462a55830c0989c7edb</td><td>delivered</td></tr><tr><td>82566a660a982b15fb86e904c8d32918</td><td>delivered</td></tr><tr><td>5ff96c15d0b717ac6ad1f3d77225a350</td><td>delivered</td></tr><tr><td>432aaf21d85167c2c86ec9448c4e42cc</td><td>delivered</td></tr><tr><td>dcb36b511fcac050b97cd5c05de84dc3</td><td>delivered</td></tr><tr><td>403b97836b0c04a622354cf531062e5f</td><td>delivered</td></tr><tr><td>116f0b09343b49556bbad5f35bee0cdf</td><td>delivered</td></tr><tr><td>85ce859fd6dc634de8d2f1e290444043</td><td>delivered</td></tr><tr><td>83018ec114eee8641c97e08f7b4e926f</td><td>delivered</td></tr></table>"
                    },
                    "metadata": {}
                }
            ],
            "execution_count": 49
        },
        {
            "cell_type": "markdown",
            "source": [
                "9. **Crie uma query que delete os registros dos pedidos que tenham o status igual a *unavailable* e que têm data de aprovação igual ou anterior a 10 de Outubro de 2017. Utilize a tabela *olist_orders_dataset*:**"
            ],
            "metadata": {
                "azdata_cell_guid": "74f56ae0-e831-4222-9c96-aaffe6ee2f3e"
            }
        },
        {
            "cell_type": "code",
            "source": [
                "DELETE from olist_orders\r\n",
                "WHERE order_id IN (\r\n",
                "  SELECT order_id \r\n",
                "  FROM olist_orders \r\n",
                "  WHERE order_status = 'unavailable' AND CONVERT(DATE, order_approved_at) <= CONVERT(DATE, '2017-10-10')\r\n",
                ");"
            ],
            "metadata": {
                "azdata_cell_guid": "d9dc8258-9966-424a-b75a-8bd39685b351"
            },
            "outputs": [
                {
                    "output_type": "display_data",
                    "data": {
                        "text/html": "(294 rows affected)"
                    },
                    "metadata": {}
                },
                {
                    "output_type": "display_data",
                    "data": {
                        "text/html": "Total execution time: 00:00:04.909"
                    },
                    "metadata": {}
                }
            ],
            "execution_count": 50
        }
    ]
}