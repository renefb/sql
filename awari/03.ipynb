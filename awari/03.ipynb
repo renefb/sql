{
    "metadata": {
        "kernelspec": {
            "name": "SQL",
            "display_name": "SQL",
            "language": "sql"
        },
        "language_info": {
            "name": "sql",
            "version": ""
        },
        "extensions": {
            "azuredatastudio": {
                "version": 1,
                "views": []
            }
        }
    },
    "nbformat_minor": 2,
    "nbformat": 4,
    "cells": [
        {
            "cell_type": "markdown",
            "source": [
                "Todos os scripts usam a sintaxe T-SQL."
            ],
            "metadata": {
                "azdata_cell_guid": "00858074-0305-4789-976a-b9bd75cd53b5"
            }
        },
        {
            "cell_type": "markdown",
            "source": [
                "1. Crie uma query que retorne os valores distintos de cidade existentes na tabela de clientes:"
            ],
            "metadata": {
                "azdata_cell_guid": "79611faf-a54b-411d-a469-9ca7af44aad6"
            }
        },
        {
            "cell_type": "code",
            "source": [
                "-- Cidades em Estados diferentes podem ter o mesmo nome\r\n",
                "SELECT \r\n",
                "    DISTINCT CONCAT(UPPER(customer_city), ' / ', customer_state) AS cidade_estado\r\n",
                "FROM dbo.olist_customers\r\n",
                "ORDER BY cidade_estado;"
            ],
            "metadata": {
                "azdata_cell_guid": "1fb608b3-5b3b-4400-a64c-2126d8b78f86"
            },
            "outputs": [
                {
                    "output_type": "display_data",
                    "data": {
                        "text/html": "(4310 rows affected)"
                    },
                    "metadata": {}
                },
                {
                    "output_type": "display_data",
                    "data": {
                        "text/html": "Total execution time: 00:00:01.053"
                    },
                    "metadata": {}
                },
                {
                    "output_type": "execute_result",
                    "metadata": {},
                    "execution_count": 6,
                    "data": {
                        "application/vnd.dataresource+json": {
                            "schema": {
                                "fields": [
                                    {
                                        "name": "cidade_estado"
                                    }
                                ]
                            },
                            "data": [
                                {
                                    "0": "ABADIA DOS DOURADOS / MG"
                                },
                                {
                                    "0": "ABADIANIA / GO"
                                },
                                {
                                    "0": "ABAETE / MG"
                                },
                                {
                                    "0": "ABAETETUBA / PA"
                                },
                                {
                                    "0": "ABAIARA / CE"
                                },
                                {
                                    "0": "ABAIRA / BA"
                                },
                                {
                                    "0": "ABARE / BA"
                                },
                                {
                                    "0": "ABATIA / PR"
                                },
                                {
                                    "0": "ABDON BATISTA / SC"
                                },
                                {
                                    "0": "ABELARDO LUZ / SC"
                                },
                                {
                                    "0": "ABRANTES / BA"
                                },
                                {
                                    "0": "ABRE CAMPO / MG"
                                },
                                {
                                    "0": "ABREU E LIMA / PE"
                                },
                                {
                                    "0": "ACAIACA / MG"
                                },
                                {
                                    "0": "ACAILANDIA / MA"
                                },
                                {
                                    "0": "ACAJUTIBA / BA"
                                },
                                {
                                    "0": "ACARAU / CE"
                                },
                                {
                                    "0": "ACARI / RN"
                                },
                                {
                                    "0": "ACEGUA / RS"
                                },
                                {
                                    "0": "ACOPIARA / CE"
                                },
                                {
                                    "0": "ACREUNA / GO"
                                },
                                {
                                    "0": "ACU / RN"
                                },
                                {
                                    "0": "ACUCENA / MG"
                                },
                                {
                                    "0": "ADAMANTINA / SP"
                                },
                                {
                                    "0": "ADHEMAR DE BARROS / PR"
                                },
                                {
                                    "0": "ADOLFO / SP"
                                },
                                {
                                    "0": "ADRIANOPOLIS / PR"
                                },
                                {
                                    "0": "ADUSTINA / BA"
                                },
                                {
                                    "0": "AFOGADOS DA INGAZEIRA / PE"
                                },
                                {
                                    "0": "AFONSO CLAUDIO / ES"
                                },
                                {
                                    "0": "AFRANIO / PE"
                                },
                                {
                                    "0": "AGISSE / SP"
                                },
                                {
                                    "0": "AGRESTINA / PE"
                                },
                                {
                                    "0": "AGROLANDIA / SC"
                                },
                                {
                                    "0": "AGRONOMICA / SC"
                                },
                                {
                                    "0": "AGUA BOA / MT"
                                },
                                {
                                    "0": "AGUA BRANCA / AL"
                                },
                                {
                                    "0": "AGUA BRANCA / PB"
                                },
                                {
                                    "0": "AGUA BRANCA / PI"
                                },
                                {
                                    "0": "AGUA CLARA / MS"
                                },
                                {
                                    "0": "AGUA COMPRIDA / MG"
                                },
                                {
                                    "0": "AGUA DOCE / SC"
                                },
                                {
                                    "0": "AGUA DOCE DO NORTE / ES"
                                },
                                {
                                    "0": "AGUA FRIA DE GOIAS / GO"
                                },
                                {
                                    "0": "AGUA LIMPA / GO"
                                },
                                {
                                    "0": "AGUA NOVA / RN"
                                },
                                {
                                    "0": "AGUA PRETA / PE"
                                },
                                {
                                    "0": "AGUA SANTA / RS"
                                },
                                {
                                    "0": "AGUAI / SP"
                                },
                                {
                                    "0": "AGUAS BELAS / PE"
                                },
                                {
                                    "0": "AGUAS CLARAS / RS"
                                },
                                {
                                    "0": "AGUAS DA PRATA / SP"
                                },
                                {
                                    "0": "AGUAS DE LINDOIA / SP"
                                },
                                {
                                    "0": "AGUAS DE SANTA BARBARA / SP"
                                },
                                {
                                    "0": "AGUAS DE SAO PEDRO / SP"
                                },
                                {
                                    "0": "AGUAS FORMOSAS / MG"
                                },
                                {
                                    "0": "AGUAS FRIAS / SC"
                                },
                                {
                                    "0": "AGUAS LINDAS DE GOIAS / GO"
                                },
                                {
                                    "0": "AGUAS MORNAS / SC"
                                },
                                {
                                    "0": "AGUAS VERMELHAS / MG"
                                },
                                {
                                    "0": "AGUDO / RS"
                                },
                                {
                                    "0": "AGUDOS / SP"
                                },
                                {
                                    "0": "AGUIA BRANCA / ES"
                                },
                                {
                                    "0": "AIMORES / MG"
                                },
                                {
                                    "0": "AIUABA / CE"
                                },
                                {
                                    "0": "AIURUOCA / MG"
                                },
                                {
                                    "0": "AJAPI / SP"
                                },
                                {
                                    "0": "AJURICABA / RS"
                                },
                                {
                                    "0": "ALAGOA / MG"
                                },
                                {
                                    "0": "ALAGOA GRANDE / PB"
                                },
                                {
                                    "0": "ALAGOA NOVA / PB"
                                },
                                {
                                    "0": "ALAGOINHA / PB"
                                },
                                {
                                    "0": "ALAGOINHAS / BA"
                                },
                                {
                                    "0": "ALAMBARI / SP"
                                },
                                {
                                    "0": "ALCANTARA / MA"
                                },
                                {
                                    "0": "ALCINOPOLIS / MS"
                                },
                                {
                                    "0": "ALCOBACA / BA"
                                },
                                {
                                    "0": "ALEGRE / ES"
                                },
                                {
                                    "0": "ALEGRETE / RS"
                                },
                                {
                                    "0": "ALEGRETE DO PIAUI / PI"
                                },
                                {
                                    "0": "ALEGRIA / RS"
                                },
                                {
                                    "0": "ALEM PARAIBA / MG"
                                },
                                {
                                    "0": "ALEXANDRA / PR"
                                },
                                {
                                    "0": "ALEXANDRIA / RN"
                                },
                                {
                                    "0": "ALEXANDRITA / MG"
                                },
                                {
                                    "0": "ALEXANIA / GO"
                                },
                                {
                                    "0": "ALFENAS / MG"
                                },
                                {
                                    "0": "ALFREDO CHAVES / ES"
                                },
                                {
                                    "0": "ALFREDO MARCONDES / SP"
                                },
                                {
                                    "0": "ALFREDO VASCONCELOS / MG"
                                },
                                {
                                    "0": "ALFREDO WAGNER / SC"
                                },
                                {
                                    "0": "ALHANDRA / PB"
                                },
                                {
                                    "0": "ALIANCA / PE"
                                },
                                {
                                    "0": "ALIANCA DO TOCANTINS / TO"
                                },
                                {
                                    "0": "ALMAS / TO"
                                },
                                {
                                    "0": "ALMENARA / MG"
                                },
                                {
                                    "0": "ALMINO AFONSO / RN"
                                },
                                {
                                    "0": "ALMIRANTE TAMANDARE / PR"
                                },
                                {
                                    "0": "ALMIRANTE TAMANDARE DO SUL / RS"
                                },
                                {
                                    "0": "ALPERCATA / MG"
                                },
                                {
                                    "0": "ALPESTRE / RS"
                                },
                                {
                                    "0": "ALPINOPOLIS / MG"
                                },
                                {
                                    "0": "ALTA FLORESTA / MT"
                                },
                                {
                                    "0": "ALTA FLORESTA D'OESTE / RO"
                                },
                                {
                                    "0": "ALTAMIRA / PA"
                                },
                                {
                                    "0": "ALTAMIRA DO PARANA / PR"
                                },
                                {
                                    "0": "ALTANEIRA / CE"
                                },
                                {
                                    "0": "ALTEROSA / MG"
                                },
                                {
                                    "0": "ALTINHO / PE"
                                },
                                {
                                    "0": "ALTINOPOLIS / SP"
                                },
                                {
                                    "0": "ALTO ALEGRE / PR"
                                },
                                {
                                    "0": "ALTO ALEGRE / RS"
                                },
                                {
                                    "0": "ALTO ALEGRE DO IGUACU / PR"
                                },
                                {
                                    "0": "ALTO ALEGRE DO MARANHAO / MA"
                                },
                                {
                                    "0": "ALTO ALEGRE DO PINDARE / MA"
                                },
                                {
                                    "0": "ALTO ARAGUAIA / MT"
                                },
                                {
                                    "0": "ALTO BELA VISTA / SC"
                                },
                                {
                                    "0": "ALTO BOA VISTA / MT"
                                },
                                {
                                    "0": "ALTO CAPARAO / MG"
                                },
                                {
                                    "0": "ALTO DO RODRIGUES / RN"
                                },
                                {
                                    "0": "ALTO GARCAS / MT"
                                },
                                {
                                    "0": "ALTO HORIZONTE / GO"
                                },
                                {
                                    "0": "ALTO JEQUITIBA / MG"
                                },
                                {
                                    "0": "ALTO PARAISO / PR"
                                },
                                {
                                    "0": "ALTO PARAISO / RO"
                                },
                                {
                                    "0": "ALTO PARAISO DE GOIAS / GO"
                                },
                                {
                                    "0": "ALTO PARANA / PR"
                                },
                                {
                                    "0": "ALTO PARNAIBA / MA"
                                },
                                {
                                    "0": "ALTO PIQUIRI / PR"
                                },
                                {
                                    "0": "ALTO RIO DOCE / MG"
                                },
                                {
                                    "0": "ALTO RIO NOVO / ES"
                                },
                                {
                                    "0": "ALTO SANTO / CE"
                                },
                                {
                                    "0": "ALTO SAO JOAO / PR"
                                },
                                {
                                    "0": "ALTO TAQUARI / MT"
                                },
                                {
                                    "0": "ALTONIA / PR"
                                },
                                {
                                    "0": "ALTOS / PI"
                                },
                                {
                                    "0": "ALUMINIO / SP"
                                },
                                {
                                    "0": "ALVARENGA / MG"
                                },
                                {
                                    "0": "ALVARES FLORENCE / SP"
                                },
                                {
                                    "0": "ALVARES MACHADO / SP"
                                },
                                {
                                    "0": "ALVARO DE CARVALHO / SP"
                                },
                                {
                                    "0": "ALVINOPOLIS / MG"
                                },
                                {
                                    "0": "ALVORADA / RS"
                                },
                                {
                                    "0": "ALVORADA / TO"
                                },
                                {
                                    "0": "ALVORADA DO GURGUEIA / PI"
                                },
                                {
                                    "0": "ALVORADA DO NORTE / GO"
                                },
                                {
                                    "0": "ALVORADA D'OESTE / RO"
                                },
                                {
                                    "0": "AMAMBAI / MS"
                                },
                                {
                                    "0": "AMANARI / CE"
                                },
                                {
                                    "0": "AMAPA DO MARANHAO / MA"
                                },
                                {
                                    "0": "AMAPORA / PR"
                                },
                                {
                                    "0": "AMARAJI / PE"
                                },
                                {
                                    "0": "AMARANTE / PI"
                                },
                                {
                                    "0": "AMARGOSA / BA"
                                },
                                {
                                    "0": "AMELIA RODRIGUES / BA"
                                },
                                {
                                    "0": "AMERICA DOURADA / BA"
                                },
                                {
                                    "0": "AMERICANA / SP"
                                },
                                {
                                    "0": "AMERICANO DO BRASIL / GO"
                                },
                                {
                                    "0": "AMERICO BRASILIENSE / SP"
                                },
                                {
                                    "0": "AMERICO DE CAMPOS / SP"
                                },
                                {
                                    "0": "AMETISTA DO SUL / RS"
                                },
                                {
                                    "0": "AMONTADA / CE"
                                },
                                {
                                    "0": "AMPARO / SP"
                                },
                                {
                                    "0": "AMPARO DA SERRA / MG"
                                },
                                {
                                    "0": "AMPERE / PR"
                                },
                                {
                                    "0": "ANADIA / AL"
                                },
                                {
                                    "0": "ANAGE / BA"
                                },
                                {
                                    "0": "ANALANDIA / SP"
                                },
                                {
                                    "0": "ANANAS / TO"
                                },
                                {
                                    "0": "ANANINDEUA / PA"
                                },
                                {
                                    "0": "ANAPOLIS / GO"
                                },
                                {
                                    "0": "ANASTACIO / MS"
                                },
                                {
                                    "0": "ANAURILANDIA / MS"
                                },
                                {
                                    "0": "ANCHIETA / ES"
                                },
                                {
                                    "0": "ANCHIETA / SC"
                                },
                                {
                                    "0": "ANDARAI / BA"
                                },
                                {
                                    "0": "ANDIRA / PR"
                                },
                                {
                                    "0": "ANDORINHA / BA"
                                },
                                {
                                    "0": "ANDRADAS / MG"
                                },
                                {
                                    "0": "ANDRADINA / SP"
                                },
                                {
                                    "0": "ANDRE DA ROCHA / RS"
                                },
                                {
                                    "0": "ANDRELANDIA / MG"
                                },
                                {
                                    "0": "ANDREQUICE / MG"
                                },
                                {
                                    "0": "ANGATUBA / SP"
                                },
                                {
                                    "0": "ANGELICA / MS"
                                },
                                {
                                    "0": "ANGELINA / SC"
                                },
                                {
                                    "0": "ANGELO FRECHIANI / ES"
                                },
                                {
                                    "0": "ANGICAL / BA"
                                },
                                {
                                    "0": "ANGICAL DO PIAUI / PI"
                                },
                                {
                                    "0": "ANGICOS / RN"
                                },
                                {
                                    "0": "ANGRA DOS REIS / RJ"
                                },
                                {
                                    "0": "ANGUERA / BA"
                                },
                                {
                                    "0": "ANGULO / PR"
                                },
                                {
                                    "0": "ANGUSTURA / MG"
                                },
                                {
                                    "0": "ANHANDUI / MS"
                                },
                                {
                                    "0": "ANHEMBI / SP"
                                },
                                {
                                    "0": "ANHUMAS / SP"
                                },
                                {
                                    "0": "ANICUNS / GO"
                                },
                                {
                                    "0": "ANITA GARIBALDI / SC"
                                },
                                {
                                    "0": "ANITAPOLIS / SC"
                                },
                                {
                                    "0": "ANTA / RJ"
                                },
                                {
                                    "0": "ANTA GORDA / RS"
                                },
                                {
                                    "0": "ANTONINA / PR"
                                },
                                {
                                    "0": "ANTONINA DO NORTE / CE"
                                },
                                {
                                    "0": "ANTONIO CARDOSO / BA"
                                },
                                {
                                    "0": "ANTONIO CARLOS / MG"
                                },
                                {
                                    "0": "ANTONIO CARLOS / SC"
                                },
                                {
                                    "0": "ANTONIO GONCALVES / BA"
                                },
                                {
                                    "0": "ANTONIO MARTINS / RN"
                                },
                                {
                                    "0": "ANTONIO PEREIRA / MG"
                                },
                                {
                                    "0": "ANTONIO PRADO / RS"
                                },
                                {
                                    "0": "ANTONIO PRADO DE MINAS / MG"
                                },
                                {
                                    "0": "ANTUNES / MG"
                                },
                                {
                                    "0": "APARECIDA / SP"
                                },
                                {
                                    "0": "APARECIDA DE GOIANIA / GO"
                                },
                                {
                                    "0": "APARECIDA DE MONTE ALTO / SP"
                                },
                                {
                                    "0": "APARECIDA DE SAO MANUEL / SP"
                                },
                                {
                                    "0": "APARECIDA DO RIO NEGRO / TO"
                                },
                                {
                                    "0": "APARECIDA DO TABOADO / MS"
                                },
                                {
                                    "0": "APARECIDA D'OESTE / SP"
                                },
                                {
                                    "0": "APERIBE / RJ"
                                },
                                {
                                    "0": "APIACA / ES"
                                },
                                {
                                    "0": "APIACAS / MT"
                                },
                                {
                                    "0": "APIAI / SP"
                                },
                                {
                                    "0": "APIUNA / SC"
                                },
                                {
                                    "0": "APODI / RN"
                                },
                                {
                                    "0": "APORA / BA"
                                },
                                {
                                    "0": "APORE / GO"
                                },
                                {
                                    "0": "APUAREMA / BA"
                                },
                                {
                                    "0": "APUCARANA / PR"
                                },
                                {
                                    "0": "APUIARES / CE"
                                },
                                {
                                    "0": "AQUIDABA / SE"
                                },
                                {
                                    "0": "AQUIDAUANA / MS"
                                },
                                {
                                    "0": "AQUIRAZ / CE"
                                },
                                {
                                    "0": "ARACAJU / SE"
                                },
                                {
                                    "0": "ARACARIGUAMA / SP"
                                },
                                {
                                    "0": "ARACATI / CE"
                                },
                                {
                                    "0": "ARACATU / BA"
                                },
                                {
                                    "0": "ARACATUBA / SP"
                                },
                                {
                                    "0": "ARACE / ES"
                                },
                                {
                                    "0": "ARACI / BA"
                                },
                                {
                                    "0": "ARACITABA / MG"
                                },
                                {
                                    "0": "ARACOIABA / CE"
                                },
                                {
                                    "0": "ARACOIABA / PE"
                                },
                                {
                                    "0": "ARACOIABA DA SERRA / SP"
                                },
                                {
                                    "0": "ARACRUZ / ES"
                                },
                                {
                                    "0": "ARACUAI / MG"
                                },
                                {
                                    "0": "ARAGARCAS / GO"
                                },
                                {
                                    "0": "ARAGOIANIA / GO"
                                },
                                {
                                    "0": "ARAGUACU / TO"
                                },
                                {
                                    "0": "ARAGUAIA / ES"
                                },
                                {
                                    "0": "ARAGUAINA / TO"
                                },
                                {
                                    "0": "ARAGUANA / MA"
                                },
                                {
                                    "0": "ARAGUAPAZ / GO"
                                },
                                {
                                    "0": "ARAGUARI / MG"
                                },
                                {
                                    "0": "ARAGUATINS / TO"
                                },
                                {
                                    "0": "ARAMARI / BA"
                                },
                                {
                                    "0": "ARAME / MA"
                                },
                                {
                                    "0": "ARAMINA / SP"
                                },
                                {
                                    "0": "ARANDU / SP"
                                },
                                {
                                    "0": "ARANTINA / MG"
                                },
                                {
                                    "0": "ARAPEI / SP"
                                },
                                {
                                    "0": "ARAPIRACA / AL"
                                },
                                {
                                    "0": "ARAPOEMA / TO"
                                },
                                {
                                    "0": "ARAPONGA / MG"
                                },
                                {
                                    "0": "ARAPONGAS / PR"
                                },
                                {
                                    "0": "ARAPORA / MG"
                                },
                                {
                                    "0": "ARAPOTI / PR"
                                },
                                {
                                    "0": "ARAPUA / MG"
                                },
                                {
                                    "0": "ARAPUTANGA / MT"
                                },
                                {
                                    "0": "ARAQUARI / SC"
                                },
                                {
                                    "0": "ARARA / PB"
                                },
                                {
                                    "0": "ARARANGUA / SC"
                                },
                                {
                                    "0": "ARARAQUARA / SP"
                                },
                                {
                                    "0": "ARARAS / SP"
                                },
                                {
                                    "0": "ARARI / MA"
                                },
                                {
                                    "0": "ARARICA / RS"
                                },
                                {
                                    "0": "ARARIPE / CE"
                                },
                                {
                                    "0": "ARARIPINA / PE"
                                },
                                {
                                    "0": "ARARUAMA / RJ"
                                },
                                {
                                    "0": "ARARUNA / PB"
                                },
                                {
                                    "0": "ARARUNA / PR"
                                },
                                {
                                    "0": "ARATACA / BA"
                                },
                                {
                                    "0": "ARATIBA / RS"
                                },
                                {
                                    "0": "ARATUBA / CE"
                                },
                                {
                                    "0": "ARAUCARIA / PR"
                                },
                                {
                                    "0": "ARAUJOS / MG"
                                },
                                {
                                    "0": "ARAXA / MG"
                                },
                                {
                                    "0": "ARCEBURGO / MG"
                                },
                                {
                                    "0": "ARCOS / MG"
                                },
                                {
                                    "0": "ARCOVERDE / PE"
                                },
                                {
                                    "0": "AREADO / MG"
                                },
                                {
                                    "0": "AREAL / RJ"
                                },
                                {
                                    "0": "AREALVA / SP"
                                },
                                {
                                    "0": "AREIA / PB"
                                },
                                {
                                    "0": "AREIA BRANCA / RN"
                                },
                                {
                                    "0": "AREIA BRANCA DOS ASSIS / PR"
                                },
                                {
                                    "0": "AREIAL / PB"
                                },
                                {
                                    "0": "AREIAS / SP"
                                },
                                {
                                    "0": "AREIOPOLIS / SP"
                                },
                                {
                                    "0": "AREMBEPE / BA"
                                },
                                {
                                    "0": "ARENAPOLIS / MT"
                                },
                                {
                                    "0": "ARENOPOLIS / GO"
                                },
                                {
                                    "0": "ARIBICE / BA"
                                },
                                {
                                    "0": "ARINOS / MG"
                                },
                                {
                                    "0": "ARIPUANA / MT"
                                },
                                {
                                    "0": "ARIQUEMES / RO"
                                },
                                {
                                    "0": "ARIRANHA / SP"
                                },
                                {
                                    "0": "ARMACAO DOS BUZIOS / RJ"
                                },
                                {
                                    "0": "ARMAZEM / SC"
                                },
                                {
                                    "0": "ARNEIROZ / CE"
                                },
                                {
                                    "0": "AROEIRAS / PB"
                                },
                                {
                                    "0": "ARRAIAL D AJUDA / BA"
                                },
                                {
                                    "0": "ARRAIAL D'AJUDA / BA"
                                },
                                {
                                    "0": "ARRAIAL DO CABO / RJ"
                                },
                                {
                                    "0": "ARRAIAS / TO"
                                },
                                {
                                    "0": "ARROIO DO MEIO / RS"
                                },
                                {
                                    "0": "ARROIO DO SAL / RS"
                                },
                                {
                                    "0": "ARROIO DO TIGRE / RS"
                                },
                                {
                                    "0": "ARROIO DOS RATOS / RS"
                                },
                                {
                                    "0": "ARROIO GRANDE / RS"
                                },
                                {
                                    "0": "ARROIO TRINTA / SC"
                                },
                                {
                                    "0": "ARROZAL / RJ"
                                },
                                {
                                    "0": "ARTUR NOGUEIRA / SP"
                                },
                                {
                                    "0": "ARUANA / GO"
                                },
                                {
                                    "0": "ARUJA / SP"
                                },
                                {
                                    "0": "ARVOREDO / SC"
                                },
                                {
                                    "0": "ARVOREZINHA / RS"
                                },
                                {
                                    "0": "ASCURRA / SC"
                                },
                                {
                                    "0": "ASSAI / PR"
                                },
                                {
                                    "0": "ASSARE / CE"
                                },
                                {
                                    "0": "ASSIS / SP"
                                },
                                {
                                    "0": "ASSIS CHATEAUBRIAND / PR"
                                },
                                {
                                    "0": "ASSUNCAO / PB"
                                },
                                {
                                    "0": "ASTOLFO DUTRA / MG"
                                },
                                {
                                    "0": "ASTORGA / PR"
                                },
                                {
                                    "0": "ATALAIA / AL"
                                },
                                {
                                    "0": "ATALANTA / SC"
                                },
                                {
                                    "0": "ATALEIA / MG"
                                },
                                {
                                    "0": "ATIBAIA / SP"
                                },
                                {
                                    "0": "ATILIO VIVACQUA / ES"
                                },
                                {
                                    "0": "AUGUSTINOPOLIS / TO"
                                },
                                {
                                    "0": "AUGUSTO CORREA / PA"
                                },
                                {
                                    "0": "AUGUSTO PESTANA / RS"
                                },
                                {
                                    "0": "AUREA / RS"
                                },
                                {
                                    "0": "AURIFLAMA / SP"
                                },
                                {
                                    "0": "AURILANDIA / GO"
                                },
                                {
                                    "0": "AURORA / CE"
                                },
                                {
                                    "0": "AURORA / SC"
                                },
                                {
                                    "0": "AURORA DO PARA / PA"
                                },
                                {
                                    "0": "AVAI / SP"
                                },
                                {
                                    "0": "AVANHANDAVA / SP"
                                },
                                {
                                    "0": "AVARE / SP"
                                },
                                {
                                    "0": "AVELAR / RJ"
                                },
                                {
                                    "0": "AVELINO LOPES / PI"
                                },
                                {
                                    "0": "AZURITA / MG"
                                },
                                {
                                    "0": "BACABAL / MA"
                                },
                                {
                                    "0": "BACAXA / RJ"
                                },
                                {
                                    "0": "BACURI / MA"
                                },
                                {
                                    "0": "BADY BASSITT / SP"
                                },
                                {
                                    "0": "BAEPENDI / MG"
                                },
                                {
                                    "0": "BAGE / RS"
                                },
                                {
                                    "0": "BAGUARI / MG"
                                },
                                {
                                    "0": "BAIANOPOLIS / BA"
                                },
                                {
                                    "0": "BAIXA GRANDE / BA"
                                },
                                {
                                    "0": "BAIXA GRANDE DO RIBEIRO / PI"
                                },
                                {
                                    "0": "BAIXO GUANDU / ES"
                                },
                                {
                                    "0": "BALBINOS / SP"
                                },
                                {
                                    "0": "BALDIM / MG"
                                },
                                {
                                    "0": "BALNEARIO ARROIO DO SILVA / SC"
                                },
                                {
                                    "0": "BALNEARIO BARRA DO SUL / SC"
                                },
                                {
                                    "0": "BALNEARIO CAMBORIU / SC"
                                },
                                {
                                    "0": "BALNEARIO GAIVOTA / SC"
                                },
                                {
                                    "0": "BALNEARIO PICARRAS / SC"
                                },
                                {
                                    "0": "BALNEARIO PINHAL / RS"
                                },
                                {
                                    "0": "BALNEARIO RINCAO / SC"
                                },
                                {
                                    "0": "BALSA NOVA / PR"
                                },
                                {
                                    "0": "BALSAMO / SP"
                                },
                                {
                                    "0": "BALSAS / MA"
                                },
                                {
                                    "0": "BAMBUI / MG"
                                },
                                {
                                    "0": "BANABUIU / CE"
                                },
                                {
                                    "0": "BANANAL / SP"
                                },
                                {
                                    "0": "BANANEIRAS / PB"
                                },
                                {
                                    "0": "BANDEIRA / MG"
                                },
                                {
                                    "0": "BANDEIRA DO SUL / MG"
                                },
                                {
                                    "0": "BANDEIRANTES / MS"
                                },
                                {
                                    "0": "BANDEIRANTES / PR"
                                },
                                {
                                    "0": "BANDEIRANTES DO TOCANTINS / TO"
                                },
                                {
                                    "0": "BANDEIRANTES D'OESTE / SP"
                                },
                                {
                                    "0": "BANZAE / BA"
                                },
                                {
                                    "0": "BARAO / RS"
                                },
                                {
                                    "0": "BARAO ATALIBA NOGUEIRA / SP"
                                },
                                {
                                    "0": "BARAO DE COCAIS / MG"
                                },
                                {
                                    "0": "BARAO DE COTEGIPE / RS"
                                },
                                {
                                    "0": "BARAO DE JUPARANA / RJ"
                                },
                                {
                                    "0": "BARAO DO TRIUNFO / RS"
                                },
                                {
                                    "0": "BARAUNA / RN"
                                },
                                {
                                    "0": "BARBACENA / MG"
                                },
                                {
                                    "0": "BARBALHA / CE"
                                },
                                {
                                    "0": "BARBOSA FERRAZ / PR"
                                },
                                {
                                    "0": "BARCARENA / PA"
                                },
                                {
                                    "0": "BARIRI / SP"
                                },
                                {
                                    "0": "BARRA / BA"
                                },
                                {
                                    "0": "BARRA BONITA / SP"
                                },
                                {
                                    "0": "BARRA DA ESTIVA / BA"
                                },
                                {
                                    "0": "BARRA DE GUABIRABA / PE"
                                },
                                {
                                    "0": "BARRA DE SANTA ROSA / PB"
                                },
                                {
                                    "0": "BARRA DE SANTO ANTONIO / AL"
                                },
                                {
                                    "0": "BARRA DE SAO FRANCISCO / ES"
                                },
                                {
                                    "0": "BARRA DE SAO JOAO / RJ"
                                },
                                {
                                    "0": "BARRA DE SAO MIGUEL / AL"
                                },
                                {
                                    "0": "BARRA DO BUGRES / MT"
                                },
                                {
                                    "0": "BARRA DO CHOCA / BA"
                                },
                                {
                                    "0": "BARRA DO CORDA / MA"
                                },
                                {
                                    "0": "BARRA DO GARCAS / MT"
                                },
                                {
                                    "0": "BARRA DO JACARE / PR"
                                },
                                {
                                    "0": "BARRA DO MENDES / BA"
                                },
                                {
                                    "0": "BARRA DO PIRAI / RJ"
                                },
                                {
                                    "0": "BARRA DO RIBEIRO / RS"
                                },
                                {
                                    "0": "BARRA DO RIO AZUL / RS"
                                },
                                {
                                    "0": "BARRA DO TARRACHIL / BA"
                                },
                                {
                                    "0": "BARRA DO TURVO / SP"
                                },
                                {
                                    "0": "BARRA DOS COQUEIROS / SE"
                                },
                                {
                                    "0": "BARRA LONGA / MG"
                                },
                                {
                                    "0": "BARRA MANSA / RJ"
                                },
                                {
                                    "0": "BARRA VELHA / SC"
                                },
                                {
                                    "0": "BARRACAO / PR"
                                },
                                {
                                    "0": "BARRACAO / RS"
                                },
                                {
                                    "0": "BARRAS / PI"
                                },
                                {
                                    "0": "BARREIRA / CE"
                                },
                                {
                                    "0": "BARREIRAS / BA"
                                },
                                {
                                    "0": "BARREIRINHAS / MA"
                                },
                                {
                                    "0": "BARREIROS / PE"
                                },
                                {
                                    "0": "BARRETOS / SP"
                                },
                                {
                                    "0": "BARRINHA / SP"
                                },
                                {
                                    "0": "BARRO / CE"
                                },
                                {
                                    "0": "BARRO ALTO / BA"
                                },
                                {
                                    "0": "BARRO ALTO / GO"
                                },
                                {
                                    "0": "BARRO PRETO / BA"
                                },
                                {
                                    "0": "BARROCAS / BA"
                                },
                                {
                                    "0": "BARROLANDIA / TO"
                                },
                                {
                                    "0": "BARROS CASSAL / RS"
                                },
                                {
                                    "0": "BARROSO / MG"
                                },
                                {
                                    "0": "BARUERI / SP"
                                },
                                {
                                    "0": "BASTOS / SP"
                                },
                                {
                                    "0": "BATAGUASSU / MS"
                                },
                                {
                                    "0": "BATAIPORA / MS"
                                },
                                {
                                    "0": "BATALHA / AL"
                                },
                                {
                                    "0": "BATATAIS / SP"
                                },
                                {
                                    "0": "BATAYPORA / MS"
                                },
                                {
                                    "0": "BATURITE / CE"
                                },
                                {
                                    "0": "BAURU / SP"
                                },
                                {
                                    "0": "BAYEUX / PB"
                                },
                                {
                                    "0": "BEBEDOURO / SP"
                                },
                                {
                                    "0": "BEBERIBE / CE"
                                },
                                {
                                    "0": "BELA CRUZ / CE"
                                },
                                {
                                    "0": "BELA VISTA / MS"
                                },
                                {
                                    "0": "BELA VISTA DE GOIAS / GO"
                                },
                                {
                                    "0": "BELA VISTA DE MINAS / MG"
                                },
                                {
                                    "0": "BELA VISTA DO MARANHAO / MA"
                                },
                                {
                                    "0": "BELA VISTA DO PARAISO / PR"
                                },
                                {
                                    "0": "BELEM / AL"
                                },
                                {
                                    "0": "BELEM / PA"
                                },
                                {
                                    "0": "BELEM / PB"
                                },
                                {
                                    "0": "BELEM DO SAO FRANCISCO / PE"
                                },
                                {
                                    "0": "BELFORD ROXO / RJ"
                                },
                                {
                                    "0": "BELMONTE / BA"
                                },
                                {
                                    "0": "BELMONTE / SC"
                                },
                                {
                                    "0": "BELO CAMPO / BA"
                                },
                                {
                                    "0": "BELO HORIZONTE / MG"
                                },
                                {
                                    "0": "BELO JARDIM / PE"
                                },
                                {
                                    "0": "BELO ORIENTE / MG"
                                },
                                {
                                    "0": "BELO VALE / MG"
                                },
                                {
                                    "0": "BEMPOSTA / RJ"
                                },
                                {
                                    "0": "BENEDITO LEITE / MA"
                                },
                                {
                                    "0": "BENEDITO NOVO / SC"
                                },
                                {
                                    "0": "BENEVIDES / PA"
                                },
                                {
                                    "0": "BENTO DE ABREU / SP"
                                },
                                {
                                    "0": "BENTO GONCALVES / RS"
                                },
                                {
                                    "0": "BEQUIMAO / MA"
                                },
                                {
                                    "0": "BERILO / MG"
                                },
                                {
                                    "0": "BERIZAL / MG"
                                },
                                {
                                    "0": "BERNARDINO DE CAMPOS / SP"
                                },
                                {
                                    "0": "BERTIOGA / SP"
                                },
                                {
                                    "0": "BERTOLINIA / PI"
                                },
                                {
                                    "0": "BERTOPOLIS / MG"
                                },
                                {
                                    "0": "BETIM / MG"
                                },
                                {
                                    "0": "BEZERROS / PE"
                                },
                                {
                                    "0": "BIAS FORTES / MG"
                                },
                                {
                                    "0": "BICAS / MG"
                                },
                                {
                                    "0": "BIGUACU / SC"
                                },
                                {
                                    "0": "BILAC / SP"
                                },
                                {
                                    "0": "BIRIGUI / SP"
                                },
                                {
                                    "0": "BIRITIBA-MIRIM / SP"
                                },
                                {
                                    "0": "BIRITINGA / BA"
                                },
                                {
                                    "0": "BITURUNA / PR"
                                },
                                {
                                    "0": "BLUMENAU / SC"
                                },
                                {
                                    "0": "BOA ESPERANCA / ES"
                                },
                                {
                                    "0": "BOA ESPERANCA / MG"
                                },
                                {
                                    "0": "BOA ESPERANCA / PR"
                                },
                                {
                                    "0": "BOA ESPERANCA / RJ"
                                },
                                {
                                    "0": "BOA ESPERANCA DO IGUACU / PR"
                                },
                                {
                                    "0": "BOA ESPERANCA DO SUL / SP"
                                },
                                {
                                    "0": "BOA VENTURA / RJ"
                                },
                                {
                                    "0": "BOA VIAGEM / CE"
                                },
                                {
                                    "0": "BOA VISTA / RR"
                                },
                                {
                                    "0": "BOA VISTA DA APARECIDA / PR"
                                },
                                {
                                    "0": "BOA VISTA DAS MISSOES / RS"
                                },
                                {
                                    "0": "BOA VISTA DO BURICA / RS"
                                },
                                {
                                    "0": "BOA VISTA DO CADEADO / RS"
                                },
                                {
                                    "0": "BOA VISTA DO GURUPI / MA"
                                },
                                {
                                    "0": "BOA VISTA DO SUL / RS"
                                },
                                {
                                    "0": "BOCA DA MATA / AL"
                                },
                                {
                                    "0": "BOCAINA / PI"
                                },
                                {
                                    "0": "BOCAINA / SP"
                                },
                                {
                                    "0": "BOCAIUVA / MG"
                                },
                                {
                                    "0": "BOCAIUVA DO SUL / PR"
                                },
                                {
                                    "0": "BODO / RN"
                                },
                                {
                                    "0": "BODOCO / PE"
                                },
                                {
                                    "0": "BODOQUENA / MS"
                                },
                                {
                                    "0": "BOFETE / SP"
                                },
                                {
                                    "0": "BOITUVA / SP"
                                },
                                {
                                    "0": "BOM CONSELHO / PE"
                                },
                                {
                                    "0": "BOM DESPACHO / MG"
                                },
                                {
                                    "0": "BOM JARDIM / MA"
                                },
                                {
                                    "0": "BOM JARDIM / PE"
                                },
                                {
                                    "0": "BOM JARDIM / RJ"
                                },
                                {
                                    "0": "BOM JARDIM DE GOIAS / GO"
                                },
                                {
                                    "0": "BOM JARDIM DE MINAS / MG"
                                },
                                {
                                    "0": "BOM JESUS / GO"
                                },
                                {
                                    "0": "BOM JESUS / PI"
                                },
                                {
                                    "0": "BOM JESUS / SC"
                                },
                                {
                                    "0": "BOM JESUS DA LAPA / BA"
                                },
                                {
                                    "0": "BOM JESUS DA PENHA / MG"
                                },
                                {
                                    "0": "BOM JESUS DA SERRA / BA"
                                },
                                {
                                    "0": "BOM JESUS DAS SELVAS / MA"
                                },
                                {
                                    "0": "BOM JESUS DO AMPARO / MG"
                                },
                                {
                                    "0": "BOM JESUS DO ARAGUAIA / MT"
                                },
                                {
                                    "0": "BOM JESUS DO GALHO / MG"
                                },
                                {
                                    "0": "BOM JESUS DO ITABAPOANA / RJ"
                                },
                                {
                                    "0": "BOM JESUS DO NORTE / ES"
                                },
                                {
                                    "0": "BOM JESUS DO QUERENDO / RJ"
                                },
                                {
                                    "0": "BOM JESUS DO SUL / PR"
                                },
                                {
                                    "0": "BOM JESUS DO TOCANTINS / PA"
                                },
                                {
                                    "0": "BOM JESUS DOS PERDOES / SP"
                                },
                                {
                                    "0": "BOM PRINCIPIO / RS"
                                },
                                {
                                    "0": "BOM REPOUSO / MG"
                                },
                                {
                                    "0": "BOM RETIRO / SC"
                                },
                                {
                                    "0": "BOM RETIRO DO SUL / RS"
                                },
                                {
                                    "0": "BOM SUCESSO / MG"
                                },
                                {
                                    "0": "BOM SUCESSO / PR"
                                },
                                {
                                    "0": "BOMBINHAS / SC"
                                },
                                {
                                    "0": "BONFIM / MG"
                                },
                                {
                                    "0": "BONFIM / RR"
                                },
                                {
                                    "0": "BONFIM PAULISTA / SP"
                                },
                                {
                                    "0": "BONFINOPOLIS / GO"
                                },
                                {
                                    "0": "BONFINOPOLIS DE MINAS / MG"
                                },
                                {
                                    "0": "BONINAL / BA"
                                },
                                {
                                    "0": "BONITO / BA"
                                },
                                {
                                    "0": "BONITO / MS"
                                },
                                {
                                    "0": "BONITO / PA"
                                },
                                {
                                    "0": "BONITO / PE"
                                },
                                {
                                    "0": "BONITO DE MINAS / MG"
                                },
                                {
                                    "0": "BONITO DE SANTA FE / PB"
                                },
                                {
                                    "0": "BOQUEIRAO DO LEAO / RS"
                                },
                                {
                                    "0": "BOQUIM / SE"
                                },
                                {
                                    "0": "BOQUIRA / BA"
                                },
                                {
                                    "0": "BORA / SP"
                                },
                                {
                                    "0": "BORACEIA / SP"
                                },
                                {
                                    "0": "BORBOREMA / SP"
                                },
                                {
                                    "0": "BORDA DA MATA / MG"
                                },
                                {
                                    "0": "BORRAZOPOLIS / PR"
                                },
                                {
                                    "0": "BOSSOROCA / RS"
                                },
                                {
                                    "0": "BOTELHO / SP"
                                },
                                {
                                    "0": "BOTELHOS / MG"
                                },
                                {
                                    "0": "BOTUCATU / SP"
                                },
                                {
                                    "0": "BOTUPORA / BA"
                                },
                                {
                                    "0": "BOTUVERA / SC"
                                },
                                {
                                    "0": "BRACO DO NORTE / SC"
                                },
                                {
                                    "0": "BRACO DO RIO / ES"
                                },
                                {
                                    "0": "BRAGANCA / PA"
                                },
                                {
                                    "0": "BRAGANCA PAULISTA / SP"
                                },
                                {
                                    "0": "BRAS PIRES / MG"
                                },
                                {
                                    "0": "BRASIL NOVO / PA"
                                },
                                {
                                    "0": "BRASILANDIA / MS"
                                },
                                {
                                    "0": "BRASILANDIA DE MINAS / MG"
                                },
                                {
                                    "0": "BRASILEIA / AC"
                                },
                                {
                                    "0": "BRASILIA / DF"
                                },
                                {
                                    "0": "BRASILIA DE MINAS / MG"
                                },
                                {
                                    "0": "BRASOPOLIS / MG"
                                },
                                {
                                    "0": "BRAUNA / SP"
                                },
                                {
                                    "0": "BRAUNAS / MG"
                                },
                                {
                                    "0": "BRAZABRANTES / GO"
                                },
                                {
                                    "0": "BRAZOPOLIS / MG"
                                },
                                {
                                    "0": "BREJETUBA / ES"
                                },
                                {
                                    "0": "BREJO / MA"
                                },
                                {
                                    "0": "BREJO BONITO / MG"
                                },
                                {
                                    "0": "BREJO DA MADRE DE DEUS / PE"
                                },
                                {
                                    "0": "BREJO DO CRUZ / PB"
                                },
                                {
                                    "0": "BREJO DOS SANTOS / PB"
                                },
                                {
                                    "0": "BREJO GRANDE / SE"
                                },
                                {
                                    "0": "BREJO SANTO / CE"
                                },
                                {
                                    "0": "BREJOES / BA"
                                },
                                {
                                    "0": "BREJOLANDIA / BA"
                                },
                                {
                                    "0": "BREU BRANCO / PA"
                                },
                                {
                                    "0": "BREVES / PA"
                                },
                                {
                                    "0": "BRITANIA / GO"
                                },
                                {
                                    "0": "BRODOWSKI / SP"
                                },
                                {
                                    "0": "BROTAS / SP"
                                },
                                {
                                    "0": "BROTAS DE MACAUBAS / BA"
                                },
                                {
                                    "0": "BRUMADINHO / MG"
                                },
                                {
                                    "0": "BRUMADO / BA"
                                },
                                {
                                    "0": "BRUSQUE / SC"
                                },
                                {
                                    "0": "BUENO BRANDAO / MG"
                                },
                                {
                                    "0": "BUENOPOLIS / MG"
                                },
                                {
                                    "0": "BUENOS AIRES / PE"
                                },
                                {
                                    "0": "BUERAREMA / BA"
                                },
                                {
                                    "0": "BUGRE / MG"
                                },
                                {
                                    "0": "BUIQUE / PE"
                                },
                                {
                                    "0": "BURI / SP"
                                },
                                {
                                    "0": "BURITAMA / SP"
                                },
                                {
                                    "0": "BURITI / MA"
                                },
                                {
                                    "0": "BURITI ALEGRE / GO"
                                },
                                {
                                    "0": "BURITI DO TOCANTINS / TO"
                                },
                                {
                                    "0": "BURITI DOS LOPES / PI"
                                },
                                {
                                    "0": "BURITICUPU / MA"
                                },
                                {
                                    "0": "BURITIRAMA / BA"
                                },
                                {
                                    "0": "BURITIS / MG"
                                },
                                {
                                    "0": "BURITIS / RO"
                                },
                                {
                                    "0": "BURITIZAL / SP"
                                },
                                {
                                    "0": "BURITIZEIRO / MG"
                                },
                                {
                                    "0": "BUTIA / RS"
                                },
                                {
                                    "0": "CAARAPO / MS"
                                },
                                {
                                    "0": "CABACEIRAS DO PARAGUACU / BA"
                                },
                                {
                                    "0": "CABECEIRA GRANDE / MG"
                                },
                                {
                                    "0": "CABECEIRAS / GO"
                                },
                                {
                                    "0": "CABEDELO / PB"
                                },
                                {
                                    "0": "CABIXI / RO"
                                },
                                {
                                    "0": "CABO DE SANTO AGOSTINHO / PE"
                                },
                                {
                                    "0": "CABO FRIO / RJ"
                                },
                                {
                                    "0": "CABO VERDE / MG"
                                },
                                {
                                    "0": "CABRALIA PAULISTA / SP"
                                },
                                {
                                    "0": "CABREUVA / SP"
                                },
                                {
                                    "0": "CABROBO / PE"
                                },
                                {
                                    "0": "CACADOR / SC"
                                },
                                {
                                    "0": "CACAPAVA / SP"
                                },
                                {
                                    "0": "CACAPAVA DO SUL / RS"
                                },
                                {
                                    "0": "CACAULANDIA / RO"
                                },
                                {
                                    "0": "CACEQUI / RS"
                                },
                                {
                                    "0": "CACERES / MT"
                                },
                                {
                                    "0": "CACHOEIRA / BA"
                                },
                                {
                                    "0": "CACHOEIRA ALTA / GO"
                                },
                                {
                                    "0": "CACHOEIRA DA PRATA / MG"
                                },
                                {
                                    "0": "CACHOEIRA DE MINAS / MG"
                                },
                                {
                                    "0": "CACHOEIRA DE PAJEU / MG"
                                },
                                {
                                    "0": "CACHOEIRA DO BRUMADO / MG"
                                },
                                {
                                    "0": "CACHOEIRA DO CAMPO / MG"
                                },
                                {
                                    "0": "CACHOEIRA DO SUL / RS"
                                },
                                {
                                    "0": "CACHOEIRA DOURADA / GO"
                                },
                                {
                                    "0": "CACHOEIRA DOURADA / MG"
                                },
                                {
                                    "0": "CACHOEIRA PAULISTA / SP"
                                },
                                {
                                    "0": "CACHOEIRAS DE MACACU / RJ"
                                },
                                {
                                    "0": "CACHOEIRINHA / RS"
                                },
                                {
                                    "0": "CACHOEIRO DE ITAPEMIRIM / ES"
                                },
                                {
                                    "0": "CACIMBINHAS / AL"
                                },
                                {
                                    "0": "CACOAL / RO"
                                },
                                {
                                    "0": "CACONDE / SP"
                                },
                                {
                                    "0": "CACU / GO"
                                },
                                {
                                    "0": "CACULE / BA"
                                },
                                {
                                    "0": "CAEM / BA"
                                },
                                {
                                    "0": "CAETANOPOLIS / MG"
                                },
                                {
                                    "0": "CAETANOS / BA"
                                },
                                {
                                    "0": "CAETE / MG"
                                },
                                {
                                    "0": "CAETES / PE"
                                },
                                {
                                    "0": "CAETITE / BA"
                                },
                                {
                                    "0": "CAFEARA / PR"
                                },
                                {
                                    "0": "CAFELANDIA / PR"
                                },
                                {
                                    "0": "CAFELANDIA / SP"
                                },
                                {
                                    "0": "CAIANA / MG"
                                },
                                {
                                    "0": "CAIAPONIA / GO"
                                },
                                {
                                    "0": "CAIBATE / RS"
                                },
                                {
                                    "0": "CAIBI / SC"
                                },
                                {
                                    "0": "CAICARA DO NORTE / RN"
                                },
                                {
                                    "0": "CAICO / RN"
                                },
                                {
                                    "0": "CAIEIRAS / SP"
                                },
                                {
                                    "0": "CAIRU / BA"
                                },
                                {
                                    "0": "CAIUA / SP"
                                },
                                {
                                    "0": "CAJAMAR / SP"
                                },
                                {
                                    "0": "CAJAPIO / MA"
                                },
                                {
                                    "0": "CAJARI / MA"
                                },
                                {
                                    "0": "CAJATI / SP"
                                },
                                {
                                    "0": "CAJAZEIRAS / PB"
                                },
                                {
                                    "0": "CAJOBI / SP"
                                },
                                {
                                    "0": "CAJUEIRO / AL"
                                },
                                {
                                    "0": "CAJURI / MG"
                                },
                                {
                                    "0": "CAJURU / SP"
                                },
                                {
                                    "0": "CALCADO / PE"
                                },
                                {
                                    "0": "CALDAS / MG"
                                },
                                {
                                    "0": "CALDAS BRANDAO / PB"
                                },
                                {
                                    "0": "CALDAS DO JORRO / BA"
                                },
                                {
                                    "0": "CALDAS NOVAS / GO"
                                },
                                {
                                    "0": "CALDEIRAO GRANDE / BA"
                                },
                                {
                                    "0": "CALDEIRAO GRANDE DO PIAUI / PI"
                                },
                                {
                                    "0": "CALIFORNIA / PR"
                                },
                                {
                                    "0": "CALIFORNIA DA BARRA / RJ"
                                },
                                {
                                    "0": "CALMON / SC"
                                },
                                {
                                    "0": "CAMACAN / BA"
                                },
                                {
                                    "0": "CAMACARI / BA"
                                },
                                {
                                    "0": "CAMACHO / MG"
                                },
                                {
                                    "0": "CAMAMU / BA"
                                },
                                {
                                    "0": "CAMANDUCAIA / MG"
                                },
                                {
                                    "0": "CAMAPUA / MS"
                                },
                                {
                                    "0": "CAMAQUA / RS"
                                },
                                {
                                    "0": "CAMARAGIBE / PE"
                                },
                                {
                                    "0": "CAMBARA / PR"
                                },
                                {
                                    "0": "CAMBARA DO SUL / RS"
                                },
                                {
                                    "0": "CAMBE / PR"
                                },
                                {
                                    "0": "CAMBIASCA / RJ"
                                },
                                {
                                    "0": "CAMBIRA / PR"
                                },
                                {
                                    "0": "CAMBORIU / SC"
                                },
                                {
                                    "0": "CAMBUCI / RJ"
                                },
                                {
                                    "0": "CAMBUI / MG"
                                },
                                {
                                    "0": "CAMBUQUIRA / MG"
                                },
                                {
                                    "0": "CAMETA / PA"
                                },
                                {
                                    "0": "CAMOCIM / CE"
                                },
                                {
                                    "0": "CAMOCIM DE SAO FELIX / PE"
                                },
                                {
                                    "0": "CAMPANARIO / MG"
                                },
                                {
                                    "0": "CAMPANHA / MG"
                                },
                                {
                                    "0": "CAMPESTRE / MG"
                                },
                                {
                                    "0": "CAMPESTRE DA SERRA / RS"
                                },
                                {
                                    "0": "CAMPESTRE DO MARANHAO / MA"
                                },
                                {
                                    "0": "CAMPINA DA LAGOA / PR"
                                },
                                {
                                    "0": "CAMPINA DAS MISSOES / RS"
                                },
                                {
                                    "0": "CAMPINA DO MONTE ALEGRE / SP"
                                },
                                {
                                    "0": "CAMPINA GRANDE / PB"
                                },
                                {
                                    "0": "CAMPINA GRANDE DO SUL / PR"
                                },
                                {
                                    "0": "CAMPINA VERDE / MG"
                                },
                                {
                                    "0": "CAMPINACU / GO"
                                },
                                {
                                    "0": "CAMPINAPOLIS / MT"
                                },
                                {
                                    "0": "CAMPINAS / SP"
                                },
                                {
                                    "0": "CAMPINAS DO SUL / RS"
                                },
                                {
                                    "0": "CAMPINORTE / GO"
                                },
                                {
                                    "0": "CAMPO ALEGRE / AL"
                                },
                                {
                                    "0": "CAMPO ALEGRE / SC"
                                },
                                {
                                    "0": "CAMPO ALEGRE DE GOIAS / GO"
                                },
                                {
                                    "0": "CAMPO ALEGRE DE LOURDES / BA"
                                },
                                {
                                    "0": "CAMPO ALEGRE DE MINAS / MG"
                                },
                                {
                                    "0": "CAMPO ALEGRE DO FIDALGO / PI"
                                },
                                {
                                    "0": "CAMPO AZUL / MG"
                                },
                                {
                                    "0": "CAMPO BELO / MG"
                                },
                                {
                                    "0": "CAMPO BOM / RS"
                                },
                                {
                                    "0": "CAMPO BONITO / PR"
                                },
                                {
                                    "0": "CAMPO DO BRITO / SE"
                                },
                                {
                                    "0": "CAMPO DO MEIO / MG"
                                },
                                {
                                    "0": "CAMPO DO TENENTE / PR"
                                },
                                {
                                    "0": "CAMPO ERE / SC"
                                },
                                {
                                    "0": "CAMPO FLORIDO / MG"
                                },
                                {
                                    "0": "CAMPO FORMOSO / BA"
                                },
                                {
                                    "0": "CAMPO GRANDE / MS"
                                },
                                {
                                    "0": "CAMPO GRANDE DO PIAUI / PI"
                                },
                                {
                                    "0": "CAMPO LARGO / PR"
                                },
                                {
                                    "0": "CAMPO LIMPO PAULISTA / SP"
                                },
                                {
                                    "0": "CAMPO MAGRO / PR"
                                },
                                {
                                    "0": "CAMPO MAIOR / PI"
                                },
                                {
                                    "0": "CAMPO MOURAO / PR"
                                },
                                {
                                    "0": "CAMPO NOVO / RS"
                                },
                                {
                                    "0": "CAMPO NOVO DO PARECIS / MT"
                                },
                                {
                                    "0": "CAMPO VERDE / MT"
                                },
                                {
                                    "0": "CAMPOS ALTOS / MG"
                                },
                                {
                                    "0": "CAMPOS BELOS / GO"
                                },
                                {
                                    "0": "CAMPOS BORGES / RS"
                                },
                                {
                                    "0": "CAMPOS DE JULIO / MT"
                                },
                                {
                                    "0": "CAMPOS DO JORDAO / SP"
                                },
                                {
                                    "0": "CAMPOS DOS GOYTACAZES / RJ"
                                },
                                {
                                    "0": "CAMPOS GERAIS / MG"
                                },
                                {
                                    "0": "CAMPOS NOVOS / SC"
                                },
                                {
                                    "0": "CAMPOS SALES / CE"
                                },
                                {
                                    "0": "CAMPOS VERDES / GO"
                                },
                                {
                                    "0": "CAMUTANGA / PE"
                                },
                                {
                                    "0": "CANAA / MG"
                                },
                                {
                                    "0": "CANAA DOS CARAJAS / PA"
                                },
                                {
                                    "0": "CANANEIA / SP"
                                },
                                {
                                    "0": "CANAPI / AL"
                                },
                                {
                                    "0": "CANAPOLIS / BA"
                                },
                                {
                                    "0": "CANAPOLIS / MG"
                                },
                                {
                                    "0": "CANARANA / BA"
                                },
                                {
                                    "0": "CANARANA / MT"
                                },
                                {
                                    "0": "CANAVIEIRAS / BA"
                                },
                                {
                                    "0": "CANDEAL / BA"
                                },
                                {
                                    "0": "CANDEIAS / BA"
                                },
                                {
                                    "0": "CANDEIAS / MG"
                                },
                                {
                                    "0": "CANDEIAS DO JAMARI / RO"
                                },
                                {
                                    "0": "CANDELARIA / RS"
                                },
                                {
                                    "0": "CANDIDO DE ABREU / PR"
                                },
                                {
                                    "0": "CANDIDO GODOI / RS"
                                },
                                {
                                    "0": "CANDIDO MENDES / MA"
                                },
                                {
                                    "0": "CANDIDO MOTA / SP"
                                },
                                {
                                    "0": "CANDIDO RODRIGUES / SP"
                                },
                                {
                                    "0": "CANDIDO SALES / BA"
                                },
                                {
                                    "0": "CANDIOTA / RS"
                                },
                                {
                                    "0": "CANDOI / PR"
                                },
                                {
                                    "0": "CANELA / RS"
                                },
                                {
                                    "0": "CANELINHA / SC"
                                },
                                {
                                    "0": "CANGUCU / RS"
                                },
                                {
                                    "0": "CANHOTINHO / PE"
                                },
                                {
                                    "0": "CANINDE / CE"
                                },
                                {
                                    "0": "CANINDE DE SAO FRANCISCO / SE"
                                },
                                {
                                    "0": "CANITAR / SP"
                                },
                                {
                                    "0": "CANOAS / RS"
                                },
                                {
                                    "0": "CANOINHAS / SC"
                                },
                                {
                                    "0": "CANSANCAO / BA"
                                },
                                {
                                    "0": "CANTAGALO / MG"
                                },
                                {
                                    "0": "CANTAGALO / PR"
                                },
                                {
                                    "0": "CANTAGALO / RJ"
                                },
                                {
                                    "0": "CANTANHEDE / MA"
                                },
                                {
                                    "0": "CANTO DO BURITI / PI"
                                },
                                {
                                    "0": "CANUDOS / BA"
                                },
                                {
                                    "0": "CAPANEMA / PA"
                                },
                                {
                                    "0": "CAPANEMA / PR"
                                },
                                {
                                    "0": "CAPAO BONITO / SP"
                                },
                                {
                                    "0": "CAPAO DA CANOA / RS"
                                },
                                {
                                    "0": "CAPAO DA PORTEIRA / RS"
                                },
                                {
                                    "0": "CAPAO DO CIPO / RS"
                                },
                                {
                                    "0": "CAPAO DO LEAO / RS"
                                },
                                {
                                    "0": "CAPARAO / MG"
                                },
                                {
                                    "0": "CAPELA / SE"
                                },
                                {
                                    "0": "CAPELA DE SANTANA / RS"
                                },
                                {
                                    "0": "CAPELA DO ALTO / SP"
                                },
                                {
                                    "0": "CAPELA DO ALTO ALEGRE / BA"
                                },
                                {
                                    "0": "CAPELA NOVA / MG"
                                },
                                {
                                    "0": "CAPELINHA / MG"
                                },
                                {
                                    "0": "CAPETINGA / MG"
                                },
                                {
                                    "0": "CAPIM BRANCO / MG"
                                },
                                {
                                    "0": "CAPIM GROSSO / BA"
                                },
                                {
                                    "0": "CAPINOPOLIS / MG"
                                },
                                {
                                    "0": "CAPINZAL / SC"
                                },
                                {
                                    "0": "CAPINZAL DO NORTE / MA"
                                },
                                {
                                    "0": "CAPISTRANO / CE"
                                },
                                {
                                    "0": "CAPITAO / RS"
                                },
                                {
                                    "0": "CAPITAO ANDRADE / MG"
                                },
                                {
                                    "0": "CAPITAO ENEAS / MG"
                                },
                                {
                                    "0": "CAPITAO LEONIDAS MARQUES / PR"
                                },
                                {
                                    "0": "CAPITAO POCO / PA"
                                },
                                {
                                    "0": "CAPITOLIO / MG"
                                },
                                {
                                    "0": "CAPIVARI / SP"
                                },
                                {
                                    "0": "CAPIVARI DE BAIXO / SC"
                                },
                                {
                                    "0": "CAPIVARI DO SUL / RS"
                                },
                                {
                                    "0": "CAPOEIRAS / PE"
                                },
                                {
                                    "0": "CAPUTIRA / MG"
                                },
                                {
                                    "0": "CARACOL / MS"
                                },
                                {
                                    "0": "CARAGUATATUBA / SP"
                                },
                                {
                                    "0": "CARAI / MG"
                                },
                                {
                                    "0": "CARAIBA / PE"
                                },
                                {
                                    "0": "CARAIBAS / BA"
                                },
                                {
                                    "0": "CARAJAS / PA"
                                },
                                {
                                    "0": "CARAMBEI / PR"
                                },
                                {
                                    "0": "CARANDAI / MG"
                                },
                                {
                                    "0": "CARANGOLA / MG"
                                },
                                {
                                    "0": "CARAPEBUS / RJ"
                                },
                                {
                                    "0": "CARAPICUIBA / SP"
                                },
                                {
                                    "0": "CARATINGA / MG"
                                },
                                {
                                    "0": "CARAUBAS / RN"
                                },
                                {
                                    "0": "CARAVELAS / BA"
                                },
                                {
                                    "0": "CARAZINHO / RS"
                                },
                                {
                                    "0": "CARBONITA / MG"
                                },
                                {
                                    "0": "CARDOSO / SP"
                                },
                                {
                                    "0": "CARDOSO MOREIRA / RJ"
                                },
                                {
                                    "0": "CAREACU / MG"
                                },
                                {
                                    "0": "CARIACICA / ES"
                                },
                                {
                                    "0": "CARIDADE / CE"
                                },
                                {
                                    "0": "CARINHANHA / BA"
                                },
                                {
                                    "0": "CARIRE / CE"
                                },
                                {
                                    "0": "CARIRI DO TOCANTINS / TO"
                                },
                                {
                                    "0": "CARIRIACU / CE"
                                },
                                {
                                    "0": "CARIUS / CE"
                                },
                                {
                                    "0": "CARLINDA / MT"
                                },
                                {
                                    "0": "CARLOPOLIS / PR"
                                },
                                {
                                    "0": "CARLOS BARBOSA / RS"
                                },
                                {
                                    "0": "CARLOS CHAGAS / MG"
                                },
                                {
                                    "0": "CARMESIA / MG"
                                },
                                {
                                    "0": "CARMO / RJ"
                                },
                                {
                                    "0": "CARMO DA CACHOEIRA / MG"
                                },
                                {
                                    "0": "CARMO DA MATA / MG"
                                },
                                {
                                    "0": "CARMO DE MINAS / MG"
                                },
                                {
                                    "0": "CARMO DO CAJURU / MG"
                                },
                                {
                                    "0": "CARMO DO PARANAIBA / MG"
                                },
                                {
                                    "0": "CARMO DO RIO CLARO / MG"
                                },
                                {
                                    "0": "CARMO DO RIO VERDE / GO"
                                },
                                {
                                    "0": "CARMOLANDIA / TO"
                                },
                                {
                                    "0": "CARMOPOLIS / SE"
                                },
                                {
                                    "0": "CARMOPOLIS DE MINAS / MG"
                                },
                                {
                                    "0": "CARNAIBA DO SERTAO / BA"
                                },
                                {
                                    "0": "CARNAUBA DOS DANTAS / RN"
                                },
                                {
                                    "0": "CARNAUBAIS / RN"
                                },
                                {
                                    "0": "CARNAUBAL / CE"
                                },
                                {
                                    "0": "CARNEIRINHO / MG"
                                },
                                {
                                    "0": "CAROLINA / MA"
                                },
                                {
                                    "0": "CARPINA / PE"
                                },
                                {
                                    "0": "CARRANCAS / MG"
                                },
                                {
                                    "0": "CARUARU / PE"
                                },
                                {
                                    "0": "CARUTAPERA / MA"
                                },
                                {
                                    "0": "CARVALHOPOLIS / MG"
                                },
                                {
                                    "0": "CASA BRANCA / SP"
                                },
                                {
                                    "0": "CASA NOVA / BA"
                                },
                                {
                                    "0": "CASCA / RS"
                                },
                                {
                                    "0": "CASCALHO RICO / MG"
                                },
                                {
                                    "0": "CASCAVEL / CE"
                                },
                                {
                                    "0": "CASCAVEL / PR"
                                },
                                {
                                    "0": "CASEIROS / RS"
                                },
                                {
                                    "0": "CASIMIRO DE ABREU / RJ"
                                },
                                {
                                    "0": "CASSIA / MG"
                                },
                                {
                                    "0": "CASSIA DOS COQUEIROS / SP"
                                },
                                {
                                    "0": "CASSILANDIA / MS"
                                },
                                {
                                    "0": "CASTANHAL / PA"
                                },
                                {
                                    "0": "CASTANHEIRA / MT"
                                },
                                {
                                    "0": "CASTANHEIRAS / RO"
                                },
                                {
                                    "0": "CASTELANDIA / GO"
                                },
                                {
                                    "0": "CASTELO / ES"
                                },
                                {
                                    "0": "CASTELO DO PIAUI / PI"
                                },
                                {
                                    "0": "CASTILHO / SP"
                                },
                                {
                                    "0": "CASTRO / PR"
                                },
                                {
                                    "0": "CASTRO ALVES / BA"
                                },
                                {
                                    "0": "CATAGUASES / MG"
                                },
                                {
                                    "0": "CATALAO / GO"
                                },
                                {
                                    "0": "CATANDUVA / SP"
                                },
                                {
                                    "0": "CATANDUVAS / SC"
                                },
                                {
                                    "0": "CATARINA / CE"
                                },
                                {
                                    "0": "CATAS ALTAS / MG"
                                },
                                {
                                    "0": "CATENDE / PE"
                                },
                                {
                                    "0": "CATIGUA / SP"
                                },
                                {
                                    "0": "CATOLE DO ROCHA / PB"
                                },
                                {
                                    "0": "CATU / BA"
                                },
                                {
                                    "0": "CATU DE ABRANTES / BA"
                                },
                                {
                                    "0": "CATUIPE / RS"
                                },
                                {
                                    "0": "CATURAMA / BA"
                                },
                                {
                                    "0": "CAUCAIA / CE"
                                },
                                {
                                    "0": "CAVALCANTE / GO"
                                },
                                {
                                    "0": "CAXAMBU / MG"
                                },
                                {
                                    "0": "CAXAMBU DO SUL / SC"
                                },
                                {
                                    "0": "CAXIAS / MA"
                                },
                                {
                                    "0": "CAXIAS DO SUL / RS"
                                },
                                {
                                    "0": "CAXINGO / PI"
                                },
                                {
                                    "0": "CEARA-MIRIM / RN"
                                },
                                {
                                    "0": "CEDRAL / MA"
                                },
                                {
                                    "0": "CEDRAL / SP"
                                },
                                {
                                    "0": "CEDRO / CE"
                                },
                                {
                                    "0": "CEDRO DE SAO JOAO / SE"
                                },
                                {
                                    "0": "CEDRO DO ABAETE / MG"
                                },
                                {
                                    "0": "CEILANDIA / DF"
                                },
                                {
                                    "0": "CELINA / ES"
                                },
                                {
                                    "0": "CELSO RAMOS / SC"
                                },
                                {
                                    "0": "CENTENARIO / TO"
                                },
                                {
                                    "0": "CENTENARIO DO SUL / PR"
                                },
                                {
                                    "0": "CENTRAL / BA"
                                },
                                {
                                    "0": "CENTRAL DE SANTA HELENA / MG"
                                },
                                {
                                    "0": "CENTRALINA / MG"
                                },
                                {
                                    "0": "CENTRO NOVO DO MARANHAO / MA"
                                },
                                {
                                    "0": "CEREJEIRAS / RO"
                                },
                                {
                                    "0": "CERES / GO"
                                },
                                {
                                    "0": "CERQUEIRA CESAR / SP"
                                },
                                {
                                    "0": "CERQUILHO / SP"
                                },
                                {
                                    "0": "CERRITO / RS"
                                },
                                {
                                    "0": "CERRO AZUL / PR"
                                },
                                {
                                    "0": "CERRO GRANDE / RS"
                                },
                                {
                                    "0": "CERRO GRANDE DO SUL / RS"
                                },
                                {
                                    "0": "CERRO LARGO / RS"
                                },
                                {
                                    "0": "CERRO NEGRO / SC"
                                },
                                {
                                    "0": "CESARIO LANGE / SP"
                                },
                                {
                                    "0": "CEU AZUL / PR"
                                },
                                {
                                    "0": "CEZARINA / GO"
                                },
                                {
                                    "0": "CHA DE ALEGRIA / PE"
                                },
                                {
                                    "0": "CHA GRANDE / PE"
                                },
                                {
                                    "0": "CHACARA / MG"
                                },
                                {
                                    "0": "CHALE / MG"
                                },
                                {
                                    "0": "CHAPADA / RS"
                                },
                                {
                                    "0": "CHAPADA DO NORTE / MG"
                                },
                                {
                                    "0": "CHAPADA DOS GUIMARAES / MT"
                                },
                                {
                                    "0": "CHAPADA GAUCHA / MG"
                                },
                                {
                                    "0": "CHAPADAO DO CEU / GO"
                                },
                                {
                                    "0": "CHAPADAO DO LAGEADO / SC"
                                },
                                {
                                    "0": "CHAPADAO DO SUL / MS"
                                },
                                {
                                    "0": "CHAPADINHA / MA"
                                },
                                {
                                    "0": "CHAPECO / SC"
                                },
                                {
                                    "0": "CHARQUEADA / SP"
                                },
                                {
                                    "0": "CHARQUEADAS / RS"
                                },
                                {
                                    "0": "CHARRUA / RS"
                                },
                                {
                                    "0": "CHAVAL / CE"
                                },
                                {
                                    "0": "CHAVANTES / SP"
                                },
                                {
                                    "0": "CHAVESLANDIA / MG"
                                },
                                {
                                    "0": "CHIAPETTA / RS"
                                },
                                {
                                    "0": "CHOPINZINHO / PR"
                                },
                                {
                                    "0": "CHOROZINHO / CE"
                                },
                                {
                                    "0": "CHORROCHO / BA"
                                },
                                {
                                    "0": "CHUI / RS"
                                },
                                {
                                    "0": "CIANORTE / PR"
                                },
                                {
                                    "0": "CICERO DANTAS / BA"
                                },
                                {
                                    "0": "CIDADE GAUCHA / PR"
                                },
                                {
                                    "0": "CIDADE OCIDENTAL / GO"
                                },
                                {
                                    "0": "CIDELANDIA / MA"
                                },
                                {
                                    "0": "CIDREIRA / RS"
                                },
                                {
                                    "0": "CIPO / BA"
                                },
                                {
                                    "0": "CIPO-GUACU / SP"
                                },
                                {
                                    "0": "CIRIACO / RS"
                                },
                                {
                                    "0": "CLARAVAL / MG"
                                },
                                {
                                    "0": "CLARO DOS POCOES / MG"
                                },
                                {
                                    "0": "CLAUDIA / MT"
                                },
                                {
                                    "0": "CLAUDIO / MG"
                                },
                                {
                                    "0": "CLEMENTINA / SP"
                                },
                                {
                                    "0": "CLEVELANDIA / PR"
                                },
                                {
                                    "0": "COARACI / BA"
                                },
                                {
                                    "0": "COARI / AM"
                                },
                                {
                                    "0": "COCAIS / MG"
                                },
                                {
                                    "0": "COCAL / PI"
                                },
                                {
                                    "0": "COCAL DO SUL / SC"
                                },
                                {
                                    "0": "COCALINHO / MT"
                                },
                                {
                                    "0": "COCALZINHO DE GOIAS / GO"
                                },
                                {
                                    "0": "COCOS / BA"
                                },
                                {
                                    "0": "CODO / MA"
                                },
                                {
                                    "0": "COELHO NETO / MA"
                                },
                                {
                                    "0": "COIMBRA / MG"
                                },
                                {
                                    "0": "COITE DO NOIA / AL"
                                },
                                {
                                    "0": "COLATINA / ES"
                                },
                                {
                                    "0": "COLIDER / MT"
                                },
                                {
                                    "0": "COLINA / SP"
                                },
                                {
                                    "0": "COLINAS / MA"
                                },
                                {
                                    "0": "COLINAS / RS"
                                },
                                {
                                    "0": "COLINAS DO TOCANTINS / TO"
                                },
                                {
                                    "0": "COLMEIA / TO"
                                },
                                {
                                    "0": "COLNIZA / MT"
                                },
                                {
                                    "0": "COLOMBIA / SP"
                                },
                                {
                                    "0": "COLOMBO / PR"
                                },
                                {
                                    "0": "COLONIA CASTROLANDA / PR"
                                },
                                {
                                    "0": "COLONIA JORDAOZINHO / PR"
                                },
                                {
                                    "0": "COLONIA LEOPOLDINA / AL"
                                },
                                {
                                    "0": "COLONIA VITORIA / PR"
                                },
                                {
                                    "0": "COLORADO / PR"
                                },
                                {
                                    "0": "COLORADO / RS"
                                },
                                {
                                    "0": "COLORADO DO OESTE / RO"
                                },
                                {
                                    "0": "COLUNA / MG"
                                },
                                {
                                    "0": "COMBINADO / TO"
                                },
                                {
                                    "0": "COMENDADOR LEVY GASPARIAN / RJ"
                                },
                                {
                                    "0": "COMERCINHO / MG"
                                },
                                {
                                    "0": "COMODORO / MT"
                                },
                                {
                                    "0": "CONCEICAO / PB"
                                },
                                {
                                    "0": "CONCEICAO DA APARECIDA / MG"
                                },
                                {
                                    "0": "CONCEICAO DA BARRA / ES"
                                },
                                {
                                    "0": "CONCEICAO DA FEIRA / BA"
                                },
                                {
                                    "0": "CONCEICAO DA IBITIPOCA / MG"
                                },
                                {
                                    "0": "CONCEICAO DAS ALAGOAS / MG"
                                },
                                {
                                    "0": "CONCEICAO DAS PEDRAS / MG"
                                },
                                {
                                    "0": "CONCEICAO DE MACABU / RJ"
                                },
                                {
                                    "0": "CONCEICAO DO ALMEIDA / BA"
                                },
                                {
                                    "0": "CONCEICAO DO ARAGUAIA / PA"
                                },
                                {
                                    "0": "CONCEICAO DO CANINDE / PI"
                                },
                                {
                                    "0": "CONCEICAO DO CASTELO / ES"
                                },
                                {
                                    "0": "CONCEICAO DO COITE / BA"
                                },
                                {
                                    "0": "CONCEICAO DO FORMOSO / MG"
                                },
                                {
                                    "0": "CONCEICAO DO JACUIPE / BA"
                                },
                                {
                                    "0": "CONCEICAO DO MATO DENTRO / MG"
                                },
                                {
                                    "0": "CONCEICAO DO PARA / MG"
                                },
                                {
                                    "0": "CONCEICAO DO RIO VERDE / MG"
                                },
                                {
                                    "0": "CONCEICAO DO TOCANTINS / TO"
                                },
                                {
                                    "0": "CONCEICAO DOS OUROS / MG"
                                },
                                {
                                    "0": "CONCHAL / SP"
                                },
                                {
                                    "0": "CONCHAS / SP"
                                },
                                {
                                    "0": "CONCORDIA / SC"
                                },
                                {
                                    "0": "CONCORDIA DO PARA / PA"
                                },
                                {
                                    "0": "CONDADO / PE"
                                },
                                {
                                    "0": "CONDE / BA"
                                },
                                {
                                    "0": "CONDEUBA / BA"
                                },
                                {
                                    "0": "CONDOR / RS"
                                },
                                {
                                    "0": "CONFINS / MG"
                                },
                                {
                                    "0": "CONFRESA / MT"
                                },
                                {
                                    "0": "CONGONHAL / MG"
                                },
                                {
                                    "0": "CONGONHAS / MG"
                                },
                                {
                                    "0": "CONGONHINHAS / PR"
                                },
                                {
                                    "0": "CONQUISTA / MG"
                                },
                                {
                                    "0": "CONQUISTA D'OESTE / MT"
                                },
                                {
                                    "0": "CONRADO / RJ"
                                },
                                {
                                    "0": "CONSELHEIRO LAFAIETE / MG"
                                },
                                {
                                    "0": "CONSELHEIRO MAIRINCK / PR"
                                },
                                {
                                    "0": "CONSELHEIRO PENA / MG"
                                },
                                {
                                    "0": "CONSERVATORIA / RJ"
                                },
                                {
                                    "0": "CONSTANTINA / RS"
                                },
                                {
                                    "0": "CONTAGEM / MG"
                                },
                                {
                                    "0": "CONTENDA / PR"
                                },
                                {
                                    "0": "COQUEIRO BAIXO / RS"
                                },
                                {
                                    "0": "COQUEIROS DO SUL / RS"
                                },
                                {
                                    "0": "CORACAO DE JESUS / MG"
                                },
                                {
                                    "0": "CORACAO DE MARIA / BA"
                                },
                                {
                                    "0": "CORBELIA / PR"
                                },
                                {
                                    "0": "CORDEIRO / RJ"
                                },
                                {
                                    "0": "CORDEIROPOLIS / SP"
                                },
                                {
                                    "0": "CORDEIROS / BA"
                                },
                                {
                                    "0": "COREAU / CE"
                                },
                                {
                                    "0": "COREMAS / PB"
                                },
                                {
                                    "0": "CORGUINHO / MS"
                                },
                                {
                                    "0": "CORIBE / BA"
                                },
                                {
                                    "0": "CORINTO / MG"
                                },
                                {
                                    "0": "CORNELIO PROCOPIO / PR"
                                },
                                {
                                    "0": "COROACI / MG"
                                },
                                {
                                    "0": "COROADOS / SP"
                                },
                                {
                                    "0": "COROATA / MA"
                                },
                                {
                                    "0": "COROMANDEL / MG"
                                },
                                {
                                    "0": "CORONEL DOMINGOS SOARES / PR"
                                },
                                {
                                    "0": "CORONEL FABRICIANO / MG"
                                },
                                {
                                    "0": "CORONEL FREITAS / SC"
                                },
                                {
                                    "0": "CORONEL JOAO PESSOA / RN"
                                },
                                {
                                    "0": "CORONEL JOAO SA / BA"
                                },
                                {
                                    "0": "CORONEL MACEDO / SP"
                                },
                                {
                                    "0": "CORONEL MARTINS / SC"
                                },
                                {
                                    "0": "CORONEL MURTA / MG"
                                },
                                {
                                    "0": "CORONEL PACHECO / MG"
                                },
                                {
                                    "0": "CORONEL SAPUCAIA / MS"
                                },
                                {
                                    "0": "CORONEL VIVIDA / PR"
                                },
                                {
                                    "0": "CORREGO DANTA / MG"
                                },
                                {
                                    "0": "CORREGO DO OURO / RJ"
                                },
                                {
                                    "0": "CORREGO FUNDO / MG"
                                },
                                {
                                    "0": "CORREIA PINTO / SC"
                                },
                                {
                                    "0": "CORRENTE / PI"
                                },
                                {
                                    "0": "CORRENTES / PE"
                                },
                                {
                                    "0": "CORRENTINA / BA"
                                },
                                {
                                    "0": "CORTES / PE"
                                },
                                {
                                    "0": "CORUMBA / MS"
                                },
                                {
                                    "0": "CORUMBA DE GOIAS / GO"
                                },
                                {
                                    "0": "CORUMBAIBA / GO"
                                },
                                {
                                    "0": "CORUMBATAI / SP"
                                },
                                {
                                    "0": "CORUMBATAI DO SUL / PR"
                                },
                                {
                                    "0": "CORUPA / SC"
                                },
                                {
                                    "0": "CORURIPE / AL"
                                },
                                {
                                    "0": "COSMOPOLIS / SP"
                                },
                                {
                                    "0": "COSMORAMA / SP"
                                },
                                {
                                    "0": "COSTA MARQUES / RO"
                                },
                                {
                                    "0": "COSTA RICA / MS"
                                },
                                {
                                    "0": "COTEGIPE / BA"
                                },
                                {
                                    "0": "COTIA / SP"
                                },
                                {
                                    "0": "COTIPORA / RS"
                                },
                                {
                                    "0": "COTRIGUACU / MT"
                                },
                                {
                                    "0": "COUTO DE MAGALHAES / TO"
                                },
                                {
                                    "0": "COXILHA / RS"
                                },
                                {
                                    "0": "COXIM / MS"
                                },
                                {
                                    "0": "CRATEUS / CE"
                                },
                                {
                                    "0": "CRATO / CE"
                                },
                                {
                                    "0": "CRAVINHOS / SP"
                                },
                                {
                                    "0": "CRAVOLANDIA / BA"
                                },
                                {
                                    "0": "CRICIUMA / SC"
                                },
                                {
                                    "0": "CRISOLITA / MG"
                                },
                                {
                                    "0": "CRISOPOLIS / BA"
                                },
                                {
                                    "0": "CRISSIUMAL / RS"
                                },
                                {
                                    "0": "CRISTAIS / MG"
                                },
                                {
                                    "0": "CRISTAIS PAULISTA / SP"
                                },
                                {
                                    "0": "CRISTAL / RS"
                                },
                                {
                                    "0": "CRISTALANDIA / TO"
                                },
                                {
                                    "0": "CRISTALIA / MG"
                                },
                                {
                                    "0": "CRISTALINA / GO"
                                },
                                {
                                    "0": "CRISTIANO OTONI / MG"
                                },
                                {
                                    "0": "CRISTINA / MG"
                                },
                                {
                                    "0": "CRISTINAPOLIS / SE"
                                },
                                {
                                    "0": "CRISTOPOLIS / BA"
                                },
                                {
                                    "0": "CRIXAS / GO"
                                },
                                {
                                    "0": "CROATA / CE"
                                },
                                {
                                    "0": "CROMINIA / GO"
                                },
                                {
                                    "0": "CRUCILANDIA / MG"
                                },
                                {
                                    "0": "CRUZ / CE"
                                },
                                {
                                    "0": "CRUZ ALTA / RS"
                                },
                                {
                                    "0": "CRUZ DAS ALMAS / BA"
                                },
                                {
                                    "0": "CRUZ MACHADO / PR"
                                },
                                {
                                    "0": "CRUZALIA / SP"
                                },
                                {
                                    "0": "CRUZEIRO / SP"
                                },
                                {
                                    "0": "CRUZEIRO DA FORTALEZA / MG"
                                },
                                {
                                    "0": "CRUZEIRO DO IGUACU / PR"
                                },
                                {
                                    "0": "CRUZEIRO DO OESTE / PR"
                                },
                                {
                                    "0": "CRUZEIRO DO SUL / AC"
                                },
                                {
                                    "0": "CRUZEIRO DO SUL / RS"
                                },
                                {
                                    "0": "CRUZILIA / MG"
                                },
                                {
                                    "0": "CUBATAO / SP"
                                },
                                {
                                    "0": "CUBATI / PB"
                                },
                                {
                                    "0": "CUIABA / MT"
                                },
                                {
                                    "0": "CUITE / PB"
                                },
                                {
                                    "0": "CUITE VELHO / MG"
                                },
                                {
                                    "0": "CUJUBIM / RO"
                                },
                                {
                                    "0": "CUMARI / GO"
                                },
                                {
                                    "0": "CUMARU / PE"
                                },
                                {
                                    "0": "CUNHA / SP"
                                },
                                {
                                    "0": "CUNHA PORA / SC"
                                },
                                {
                                    "0": "CUPIRA / PE"
                                },
                                {
                                    "0": "CURACA / BA"
                                },
                                {
                                    "0": "CURITIBA / PR"
                                },
                                {
                                    "0": "CURITIBANOS / SC"
                                },
                                {
                                    "0": "CURIUVA / PR"
                                },
                                {
                                    "0": "CURRAIS NOVOS / RN"
                                },
                                {
                                    "0": "CURRAL DE CIMA / PB"
                                },
                                {
                                    "0": "CURRALINHO / PA"
                                },
                                {
                                    "0": "CURUCA / PA"
                                },
                                {
                                    "0": "CURURUPU / MA"
                                },
                                {
                                    "0": "CURVELANDIA / MT"
                                },
                                {
                                    "0": "CURVELO / MG"
                                },
                                {
                                    "0": "CUSTODIA / PE"
                                },
                                {
                                    "0": "DAMIANOPOLIS / GO"
                                },
                                {
                                    "0": "DARIO MEIRA / BA"
                                },
                                {
                                    "0": "DATAS / MG"
                                },
                                {
                                    "0": "DAVID CANABARRO / RS"
                                },
                                {
                                    "0": "DELFIM MOREIRA / MG"
                                },
                                {
                                    "0": "DELFINOPOLIS / MG"
                                },
                                {
                                    "0": "DELMIRO GOUVEIA / AL"
                                },
                                {
                                    "0": "DEMERVAL LOBAO / PI"
                                },
                                {
                                    "0": "DENISE / MT"
                                },
                                {
                                    "0": "DEODAPOLIS / MS"
                                },
                                {
                                    "0": "DEPUTADO IRAPUAN PINHEIRO / CE"
                                },
                                {
                                    "0": "DESCALVADO / SP"
                                },
                                {
                                    "0": "DESCOBERTO / MG"
                                },
                                {
                                    "0": "DESEMBARGADOR OTONI / MG"
                                },
                                {
                                    "0": "DESTERRO / PB"
                                },
                                {
                                    "0": "DESTERRO DE ENTRE RIOS / MG"
                                },
                                {
                                    "0": "DESTERRO DO MELO / MG"
                                },
                                {
                                    "0": "DEZESSEIS DE NOVEMBRO / RS"
                                },
                                {
                                    "0": "DIADEMA / SP"
                                },
                                {
                                    "0": "DIAMANTE DO NORTE / PR"
                                },
                                {
                                    "0": "DIAMANTE D'OESTE / PR"
                                },
                                {
                                    "0": "DIAMANTINA / MG"
                                },
                                {
                                    "0": "DIAMANTINO / MT"
                                },
                                {
                                    "0": "DIANOPOLIS / TO"
                                },
                                {
                                    "0": "DIAS D AVILA / BA"
                                },
                                {
                                    "0": "DIAS D'AVILA / BA"
                                },
                                {
                                    "0": "DIOGO DE VASCONCELOS / MG"
                                },
                                {
                                    "0": "DIONISIO / MG"
                                },
                                {
                                    "0": "DIONISIO CERQUEIRA / SC"
                                },
                                {
                                    "0": "DIORAMA / GO"
                                },
                                {
                                    "0": "DIVINESIA / MG"
                                },
                                {
                                    "0": "DIVINO / MG"
                                },
                                {
                                    "0": "DIVINO DAS LARANJEIRAS / MG"
                                },
                                {
                                    "0": "DIVINO DE SAO LOURENCO / ES"
                                },
                                {
                                    "0": "DIVINOLANDIA / SP"
                                },
                                {
                                    "0": "DIVINOLANDIA DE MINAS / MG"
                                },
                                {
                                    "0": "DIVINOPOLIS / MG"
                                },
                                {
                                    "0": "DIVINOPOLIS DE GOIAS / GO"
                                },
                                {
                                    "0": "DIVINOPOLIS DO TOCANTINS / TO"
                                },
                                {
                                    "0": "DIVISA ALEGRE / MG"
                                },
                                {
                                    "0": "DIVISA NOVA / MG"
                                },
                                {
                                    "0": "DOBRADA / SP"
                                },
                                {
                                    "0": "DOCE GRANDE / PR"
                                },
                                {
                                    "0": "DOIS CORREGOS / SP"
                                },
                                {
                                    "0": "DOIS IRMAOS / RS"
                                },
                                {
                                    "0": "DOIS IRMAOS DO BURITI / MS"
                                },
                                {
                                    "0": "DOIS RIACHOS / AL"
                                },
                                {
                                    "0": "DOIS VIZINHOS / PR"
                                },
                                {
                                    "0": "DOM AQUINO / MT"
                                },
                                {
                                    "0": "DOM BASILIO / BA"
                                },
                                {
                                    "0": "DOM CAVATI / MG"
                                },
                                {
                                    "0": "DOM ELISEU / PA"
                                },
                                {
                                    "0": "DOM FELICIANO / RS"
                                },
                                {
                                    "0": "DOM JOAQUIM / MG"
                                },
                                {
                                    "0": "DOM MACEDO COSTA / BA"
                                },
                                {
                                    "0": "DOM PEDRITO / RS"
                                },
                                {
                                    "0": "DOM PEDRO / MA"
                                },
                                {
                                    "0": "DOM SILVERIO / MG"
                                },
                                {
                                    "0": "DOM VICOSO / MG"
                                },
                                {
                                    "0": "DOMICIANO RIBEIRO / GO"
                                },
                                {
                                    "0": "DOMINGOS MARTINS / ES"
                                },
                                {
                                    "0": "DONA EMMA / SC"
                                },
                                {
                                    "0": "DONA EUZEBIA / MG"
                                },
                                {
                                    "0": "DONA FRANCISCA / RS"
                                },
                                {
                                    "0": "DORES DE CAMPOS / MG"
                                },
                                {
                                    "0": "DORES DE GUANHAES / MG"
                                },
                                {
                                    "0": "DORES DO INDAIA / MG"
                                },
                                {
                                    "0": "DORES DO RIO PRETO / ES"
                                },
                                {
                                    "0": "DORMENTES / PE"
                                },
                                {
                                    "0": "DOURADINA / PR"
                                },
                                {
                                    "0": "DOURADO / CE"
                                },
                                {
                                    "0": "DOURADO / SP"
                                },
                                {
                                    "0": "DOURADOS / MS"
                                },
                                {
                                    "0": "DOUTOR CAMARGO / PR"
                                },
                                {
                                    "0": "DOUTOR MAURICIO CARDOSO / RS"
                                },
                                {
                                    "0": "DOUTOR ULYSSES / PR"
                                },
                                {
                                    "0": "DOVERLANDIA / GO"
                                },
                                {
                                    "0": "DRACENA / SP"
                                },
                                {
                                    "0": "DUARTINA / SP"
                                },
                                {
                                    "0": "DUAS BARRAS / RJ"
                                },
                                {
                                    "0": "DUERE / TO"
                                },
                                {
                                    "0": "DUMONT / SP"
                                },
                                {
                                    "0": "DUQUE DE CAXIAS / RJ"
                                },
                                {
                                    "0": "DURANDE / MG"
                                },
                                {
                                    "0": "ECHAPORA / SP"
                                },
                                {
                                    "0": "ECOPORANGA / ES"
                                },
                                {
                                    "0": "EDEIA / GO"
                                },
                                {
                                    "0": "ELDORADO / MS"
                                },
                                {
                                    "0": "ELDORADO / SP"
                                },
                                {
                                    "0": "ELDORADO DO SUL / RS"
                                },
                                {
                                    "0": "ELIAS FAUSTO / SP"
                                },
                                {
                                    "0": "ELISEU MARTINS / PI"
                                },
                                {
                                    "0": "ELISIARIO / SP"
                                },
                                {
                                    "0": "ELISIO MEDRADO / BA"
                                },
                                {
                                    "0": "ELOI MENDES / MG"
                                },
                                {
                                    "0": "EMBAUBA / SP"
                                },
                                {
                                    "0": "EMBU / SP"
                                },
                                {
                                    "0": "EMBU DAS ARTES / SP"
                                },
                                {
                                    "0": "EMBU-GUACU / SP"
                                },
                                {
                                    "0": "EMILIANOPOLIS / SP"
                                },
                                {
                                    "0": "ENCANTADO / RS"
                                },
                                {
                                    "0": "ENCRUZILHADA DO SUL / RS"
                                },
                                {
                                    "0": "ENEAS MARQUES / PR"
                                },
                                {
                                    "0": "ENGENHEIRO BALDUINO / SP"
                                },
                                {
                                    "0": "ENGENHEIRO BELTRAO / PR"
                                },
                                {
                                    "0": "ENGENHEIRO COELHO / SP"
                                },
                                {
                                    "0": "ENGENHEIRO NAVARRO / MG"
                                },
                                {
                                    "0": "ENGENHEIRO PASSOS / RJ"
                                },
                                {
                                    "0": "ENGENHEIRO PAULO DE FRONTIN / RJ"
                                },
                                {
                                    "0": "ENTRE FOLHAS / MG"
                                },
                                {
                                    "0": "ENTRE RIOS / BA"
                                },
                                {
                                    "0": "ENTRE RIOS DE MINAS / MG"
                                },
                                {
                                    "0": "ENTRE RIOS DO OESTE / PR"
                                },
                                {
                                    "0": "ENTRE-IJUIS / RS"
                                },
                                {
                                    "0": "EPITACIOLANDIA / AC"
                                },
                                {
                                    "0": "EREBANGO / RS"
                                },
                                {
                                    "0": "ERECHIM / RS"
                                },
                                {
                                    "0": "ERERE / CE"
                                },
                                {
                                    "0": "ERICO CARDOSO / BA"
                                },
                                {
                                    "0": "ERVAL GRANDE / RS"
                                },
                                {
                                    "0": "ERVALIA / MG"
                                },
                                {
                                    "0": "ESCADA / PE"
                                },
                                {
                                    "0": "ESMERALDA / RS"
                                },
                                {
                                    "0": "ESMERALDAS / MG"
                                },
                                {
                                    "0": "ESPERA FELIZ / MG"
                                },
                                {
                                    "0": "ESPERANCA / PB"
                                },
                                {
                                    "0": "ESPERANTINA / PI"
                                },
                                {
                                    "0": "ESPERANTINA / TO"
                                },
                                {
                                    "0": "ESPERANTINOPOLIS / MA"
                                },
                                {
                                    "0": "ESPIGAO / SP"
                                },
                                {
                                    "0": "ESPIGAO ALTO DO IGUACU / PR"
                                },
                                {
                                    "0": "ESPIGAO DO OESTE / RO"
                                },
                                {
                                    "0": "ESPINOSA / MG"
                                },
                                {
                                    "0": "ESPIRITO SANTO DO PINHAL / SP"
                                },
                                {
                                    "0": "ESPIRITO SANTO DO TURVO / SP"
                                },
                                {
                                    "0": "ESPLANADA / BA"
                                },
                                {
                                    "0": "ESPUMOSO / RS"
                                },
                                {
                                    "0": "ESTACAO / RS"
                                },
                                {
                                    "0": "ESTANCIA / SE"
                                },
                                {
                                    "0": "ESTANCIA VELHA / RS"
                                },
                                {
                                    "0": "ESTEIO / RS"
                                },
                                {
                                    "0": "ESTEVAO DE ARAUJO / MG"
                                },
                                {
                                    "0": "ESTIVA / MG"
                                },
                                {
                                    "0": "ESTIVA GERBI / SP"
                                },
                                {
                                    "0": "ESTREITO / MA"
                                },
                                {
                                    "0": "ESTRELA / RS"
                                },
                                {
                                    "0": "ESTRELA D OESTE / SP"
                                },
                                {
                                    "0": "ESTRELA DO INDAIA / MG"
                                },
                                {
                                    "0": "ESTRELA DO NORTE / SP"
                                },
                                {
                                    "0": "ESTRELA DO SUL / MG"
                                },
                                {
                                    "0": "ESTRELA D'OESTE / SP"
                                },
                                {
                                    "0": "ESTRELA VELHA / RS"
                                },
                                {
                                    "0": "EUCLIDES DA CUNHA / BA"
                                },
                                {
                                    "0": "EUCLIDES DA CUNHA PAULISTA / SP"
                                },
                                {
                                    "0": "EUGENIO DE CASTRO / RS"
                                },
                                {
                                    "0": "EUGENOPOLIS / MG"
                                },
                                {
                                    "0": "EUNAPOLIS / BA"
                                },
                                {
                                    "0": "EUSEBIO / CE"
                                },
                                {
                                    "0": "EWBANK DA CAMARA / MG"
                                },
                                {
                                    "0": "EXTREMA / MG"
                                },
                                {
                                    "0": "EXTREMA / RO"
                                },
                                {
                                    "0": "EXTREMOZ / RN"
                                },
                                {
                                    "0": "FAGUNDES / PB"
                                },
                                {
                                    "0": "FAROL / PR"
                                },
                                {
                                    "0": "FARROUPILHA / RS"
                                },
                                {
                                    "0": "FARTURA / SP"
                                },
                                {
                                    "0": "FATIMA / BA"
                                },
                                {
                                    "0": "FATIMA / TO"
                                },
                                {
                                    "0": "FATIMA DO SUL / MS"
                                },
                                {
                                    "0": "FAXINAL / PR"
                                },
                                {
                                    "0": "FAXINAL DOS GUEDES / SC"
                                },
                                {
                                    "0": "FAXINALZINHO / RS"
                                },
                                {
                                    "0": "FAZENDA NOVA / GO"
                                },
                                {
                                    "0": "FAZENDA RIO GRANDE / PR"
                                },
                                {
                                    "0": "FAZENDA VILANOVA / RS"
                                },
                                {
                                    "0": "FEIRA DE SANTANA / BA"
                                },
                                {
                                    "0": "FEIRA NOVA / PE"
                                },
                                {
                                    "0": "FELICIO DOS SANTOS / MG"
                                },
                                {
                                    "0": "FELIPE GUERRA / RN"
                                },
                                {
                                    "0": "FELISBURGO / MG"
                                },
                                {
                                    "0": "FELIXLANDIA / MG"
                                },
                                {
                                    "0": "FELIZ / RS"
                                },
                                {
                                    "0": "FELIZ DESERTO / AL"
                                },
                                {
                                    "0": "FELIZ NATAL / MT"
                                },
                                {
                                    "0": "FENIX / PR"
                                },
                                {
                                    "0": "FERNANDO PRESTES / SP"
                                },
                                {
                                    "0": "FERNANDOPOLIS / SP"
                                },
                                {
                                    "0": "FERNAO / SP"
                                },
                                {
                                    "0": "FERRAZ DE VASCONCELOS / SP"
                                },
                                {
                                    "0": "FERREIROS / PE"
                                },
                                {
                                    "0": "FERROS / MG"
                                },
                                {
                                    "0": "FERVEDOURO / MG"
                                },
                                {
                                    "0": "FIGUEIRA / PR"
                                },
                                {
                                    "0": "FIGUEIROPOLIS D'OESTE / MT"
                                },
                                {
                                    "0": "FILADELFIA / BA"
                                },
                                {
                                    "0": "FIRMINOPOLIS / GO"
                                },
                                {
                                    "0": "FLOR DA SERRA DO SUL / PR"
                                },
                                {
                                    "0": "FLORA RICA / SP"
                                },
                                {
                                    "0": "FLORAI / PR"
                                },
                                {
                                    "0": "FLORANIA / RN"
                                },
                                {
                                    "0": "FLOREAL / SP"
                                },
                                {
                                    "0": "FLORES / CE"
                                },
                                {
                                    "0": "FLORES / PE"
                                },
                                {
                                    "0": "FLORES DA CUNHA / RS"
                                },
                                {
                                    "0": "FLORES DE GOIAS / GO"
                                },
                                {
                                    "0": "FLORESTA / PE"
                                },
                                {
                                    "0": "FLORESTA / PR"
                                },
                                {
                                    "0": "FLORESTA DO ARAGUAIA / PA"
                                },
                                {
                                    "0": "FLORESTAL / MG"
                                },
                                {
                                    "0": "FLORESTOPOLIS / PR"
                                },
                                {
                                    "0": "FLORIANO / PI"
                                },
                                {
                                    "0": "FLORIANOPOLIS / SC"
                                },
                                {
                                    "0": "FLORIDA / PR"
                                },
                                {
                                    "0": "FLORIDA PAULISTA / SP"
                                },
                                {
                                    "0": "FLORINIA / SP"
                                },
                                {
                                    "0": "FONSECA / MG"
                                },
                                {
                                    "0": "FONTOURA XAVIER / RS"
                                },
                                {
                                    "0": "FORMIGA / MG"
                                },
                                {
                                    "0": "FORMIGUEIRO / RS"
                                },
                                {
                                    "0": "FORMOSA / GO"
                                },
                                {
                                    "0": "FORMOSA DA SERRA NEGRA / MA"
                                },
                                {
                                    "0": "FORMOSA DO OESTE / PR"
                                },
                                {
                                    "0": "FORMOSA DO RIO PRETO / BA"
                                },
                                {
                                    "0": "FORMOSO / GO"
                                },
                                {
                                    "0": "FORMOSO / MG"
                                },
                                {
                                    "0": "FORMOSO DO ARAGUAIA / TO"
                                },
                                {
                                    "0": "FORQUILHA / CE"
                                },
                                {
                                    "0": "FORQUILHINHA / SC"
                                },
                                {
                                    "0": "FORTALEZA / CE"
                                },
                                {
                                    "0": "FORTALEZA DOS VALOS / RS"
                                },
                                {
                                    "0": "FORTIM / CE"
                                },
                                {
                                    "0": "FORTUNA / MA"
                                },
                                {
                                    "0": "FOZ DO IGUACU / PR"
                                },
                                {
                                    "0": "FOZ DO JORDAO / PR"
                                },
                                {
                                    "0": "FRAGOSOS / SC"
                                },
                                {
                                    "0": "FRAIBURGO / SC"
                                },
                                {
                                    "0": "FRANCA / SP"
                                },
                                {
                                    "0": "FRANCISCO BADARO / MG"
                                },
                                {
                                    "0": "FRANCISCO BELTRAO / PR"
                                },
                                {
                                    "0": "FRANCISCO DANTAS / RN"
                                },
                                {
                                    "0": "FRANCISCO DUMONT / MG"
                                },
                                {
                                    "0": "FRANCISCO MORATO / SP"
                                },
                                {
                                    "0": "FRANCISCO SA / MG"
                                },
                                {
                                    "0": "FRANCISCO SANTOS / PI"
                                },
                                {
                                    "0": "FRANCO DA ROCHA / SP"
                                },
                                {
                                    "0": "FRECHEIRINHA / CE"
                                },
                                {
                                    "0": "FREDERICO WESTPHALEN / RS"
                                },
                                {
                                    "0": "FREI GASPAR / MG"
                                },
                                {
                                    "0": "FREI INOCENCIO / MG"
                                },
                                {
                                    "0": "FREI LAGONEGRO / MG"
                                },
                                {
                                    "0": "FREI MARTINHO / PB"
                                },
                                {
                                    "0": "FREI ROGERIO / SC"
                                },
                                {
                                    "0": "FRONTEIRA / MG"
                                },
                                {
                                    "0": "FRONTEIRAS / PI"
                                },
                                {
                                    "0": "FRUTA DE LEITE / MG"
                                },
                                {
                                    "0": "FRUTAL / MG"
                                },
                                {
                                    "0": "FRUTUOSO GOMES / RN"
                                },
                                {
                                    "0": "FUNDAO / ES"
                                },
                                {
                                    "0": "GABRIEL MONTEIRO / SP"
                                },
                                {
                                    "0": "GALIA / SP"
                                },
                                {
                                    "0": "GALINHOS / RN"
                                },
                                {
                                    "0": "GALVAO / SC"
                                },
                                {
                                    "0": "GAMELEIRA / PE"
                                },
                                {
                                    "0": "GAMELEIRAS / MG"
                                },
                                {
                                    "0": "GANDU / BA"
                                },
                                {
                                    "0": "GARANHUNS / PE"
                                },
                                {
                                    "0": "GARCA / SP"
                                },
                                {
                                    "0": "GARIBALDI / RS"
                                },
                                {
                                    "0": "GAROPABA / SC"
                                },
                                {
                                    "0": "GARRAFAO DO NORTE / PA"
                                },
                                {
                                    "0": "GARRUCHOS / RS"
                                },
                                {
                                    "0": "GARUVA / SC"
                                },
                                {
                                    "0": "GASPAR / SC"
                                },
                                {
                                    "0": "GASTAO VIDIGAL / SP"
                                },
                                {
                                    "0": "GAUCHA DO NORTE / MT"
                                },
                                {
                                    "0": "GAURAMA / RS"
                                },
                                {
                                    "0": "GAVIAO PEIXOTO / SP"
                                },
                                {
                                    "0": "GENERAL CAMARA / RS"
                                },
                                {
                                    "0": "GENERAL CARNEIRO / PR"
                                },
                                {
                                    "0": "GENERAL MAYNARD / SE"
                                },
                                {
                                    "0": "GENERAL SALGADO / SP"
                                },
                                {
                                    "0": "GENTIO DO OURO / BA"
                                },
                                {
                                    "0": "GETULINA / SP"
                                },
                                {
                                    "0": "GETULIO VARGAS / RS"
                                },
                                {
                                    "0": "GILBUES / PI"
                                },
                                {
                                    "0": "GIRAU DO PONCIANO / AL"
                                },
                                {
                                    "0": "GIRUA / RS"
                                },
                                {
                                    "0": "GLAURA / MG"
                                },
                                {
                                    "0": "GLICERIO / RJ"
                                },
                                {
                                    "0": "GLICERIO / SP"
                                },
                                {
                                    "0": "GLORIA DE DOURADOS / MS"
                                },
                                {
                                    "0": "GLORIA DO GOITA / PE"
                                },
                                {
                                    "0": "GLORINHA / RS"
                                },
                                {
                                    "0": "GODOY MOREIRA / PR"
                                },
                                {
                                    "0": "GOIABEIRA / MG"
                                },
                                {
                                    "0": "GOIANA / MG"
                                },
                                {
                                    "0": "GOIANA / PE"
                                },
                                {
                                    "0": "GOIANAPOLIS / GO"
                                },
                                {
                                    "0": "GOIANDIRA / GO"
                                },
                                {
                                    "0": "GOIANESIA / GO"
                                },
                                {
                                    "0": "GOIANESIA DO PARA / PA"
                                },
                                {
                                    "0": "GOIANIA / GO"
                                },
                                {
                                    "0": "GOIANINHA / RN"
                                },
                                {
                                    "0": "GOIANIRA / GO"
                                },
                                {
                                    "0": "GOIANORTE / TO"
                                },
                                {
                                    "0": "GOIAS / GO"
                                },
                                {
                                    "0": "GOIATUBA / GO"
                                },
                                {
                                    "0": "GOIOERE / PR"
                                },
                                {
                                    "0": "GOITACAZES / RJ"
                                },
                                {
                                    "0": "GONCALVES / MG"
                                },
                                {
                                    "0": "GONCALVES DIAS / MA"
                                },
                                {
                                    "0": "GONGOGI / BA"
                                },
                                {
                                    "0": "GOUVEIA / MG"
                                },
                                {
                                    "0": "GOVERNADOR CELSO RAMOS / SC"
                                },
                                {
                                    "0": "GOVERNADOR DIX-SEPT ROSADO / RN"
                                },
                                {
                                    "0": "GOVERNADOR EUGENIO BARROS / MA"
                                },
                                {
                                    "0": "GOVERNADOR LINDENBERG / ES"
                                },
                                {
                                    "0": "GOVERNADOR MANGABEIRA / BA"
                                },
                                {
                                    "0": "GOVERNADOR PORTELA / RJ"
                                },
                                {
                                    "0": "GOVERNADOR VALADARES / MG"
                                },
                                {
                                    "0": "GRACCHO CARDOSO / SE"
                                },
                                {
                                    "0": "GRAJAU / MA"
                                },
                                {
                                    "0": "GRAMADO / RS"
                                },
                                {
                                    "0": "GRAMADO DOS LOUREIROS / RS"
                                },
                                {
                                    "0": "GRAMADO XAVIER / RS"
                                },
                                {
                                    "0": "GRANDES RIOS / PR"
                                },
                                {
                                    "0": "GRANJA / CE"
                                },
                                {
                                    "0": "GRAO MOGOL / MG"
                                },
                                {
                                    "0": "GRAO PARA / SC"
                                },
                                {
                                    "0": "GRAVATA / PE"
                                },
                                {
                                    "0": "GRAVATAI / RS"
                                },
                                {
                                    "0": "GRAVATAL / SC"
                                },
                                {
                                    "0": "GROAIRAS / CE"
                                },
                                {
                                    "0": "GRUPIARA / MG"
                                },
                                {
                                    "0": "GUABIJU / RS"
                                },
                                {
                                    "0": "GUABIRUBA / SC"
                                },
                                {
                                    "0": "GUACUI / ES"
                                },
                                {
                                    "0": "GUADALUPE / PI"
                                },
                                {
                                    "0": "GUAIBA / RS"
                                },
                                {
                                    "0": "GUAICARA / SP"
                                },
                                {
                                    "0": "GUAIRA / PR"
                                },
                                {
                                    "0": "GUAIRA / SP"
                                },
                                {
                                    "0": "GUAIRACA / PR"
                                },
                                {
                                    "0": "GUAIUBA / CE"
                                },
                                {
                                    "0": "GUAJARA-MIRIM / RO"
                                },
                                {
                                    "0": "GUAMARE / RN"
                                },
                                {
                                    "0": "GUAMIRANGA / PR"
                                },
                                {
                                    "0": "GUANAMBI / BA"
                                },
                                {
                                    "0": "GUANHAES / MG"
                                },
                                {
                                    "0": "GUAPE / MG"
                                },
                                {
                                    "0": "GUAPIACU / SP"
                                },
                                {
                                    "0": "GUAPIARA / SP"
                                },
                                {
                                    "0": "GUAPIMIRIM / RJ"
                                },
                                {
                                    "0": "GUAPIRAMA / PR"
                                },
                                {
                                    "0": "GUAPO / GO"
                                },
                                {
                                    "0": "GUAPORE / RS"
                                },
                                {
                                    "0": "GUARA / DF"
                                },
                                {
                                    "0": "GUARA / SP"
                                },
                                {
                                    "0": "GUARABIRA / PB"
                                },
                                {
                                    "0": "GUARACAI / SP"
                                },
                                {
                                    "0": "GUARACI / PR"
                                },
                                {
                                    "0": "GUARACI / SP"
                                },
                                {
                                    "0": "GUARACIABA / MG"
                                },
                                {
                                    "0": "GUARACIABA / SC"
                                },
                                {
                                    "0": "GUARACIABA DO NORTE / CE"
                                },
                                {
                                    "0": "GUARAI / TO"
                                },
                                {
                                    "0": "GUARAMIRIM / SC"
                                },
                                {
                                    "0": "GUARANESIA / MG"
                                },
                                {
                                    "0": "GUARANI / MG"
                                },
                                {
                                    "0": "GUARANI DAS MISSOES / RS"
                                },
                                {
                                    "0": "GUARANIACU / PR"
                                },
                                {
                                    "0": "GUARANTA / SP"
                                },
                                {
                                    "0": "GUARANTA DO NORTE / MT"
                                },
                                {
                                    "0": "GUARAPARI / ES"
                                },
                                {
                                    "0": "GUARAPUA / SP"
                                },
                                {
                                    "0": "GUARAPUAVA / PR"
                                },
                                {
                                    "0": "GUARAQUECABA / PR"
                                },
                                {
                                    "0": "GUARARA / MG"
                                },
                                {
                                    "0": "GUARARAPES / SP"
                                },
                                {
                                    "0": "GUARAREMA / SP"
                                },
                                {
                                    "0": "GUARATINGA / BA"
                                },
                                {
                                    "0": "GUARATINGUETA / SP"
                                },
                                {
                                    "0": "GUARATUBA / PR"
                                },
                                {
                                    "0": "GUARDA-MOR / MG"
                                },
                                {
                                    "0": "GUAREI / SP"
                                },
                                {
                                    "0": "GUARIBA / SP"
                                },
                                {
                                    "0": "GUARIROBA / SP"
                                },
                                {
                                    "0": "GUARUJA / SP"
                                },
                                {
                                    "0": "GUARUJA DO SUL / SC"
                                },
                                {
                                    "0": "GUARULHOS / SP"
                                },
                                {
                                    "0": "GUASSUSSE / CE"
                                },
                                {
                                    "0": "GUATAPARA / SP"
                                },
                                {
                                    "0": "GUAXUPE / MG"
                                },
                                {
                                    "0": "GUIA LOPES DA LAGUNA / MS"
                                },
                                {
                                    "0": "GUIDOVAL / MG"
                                },
                                {
                                    "0": "GUIMARAES / MA"
                                },
                                {
                                    "0": "GUIMARANIA / MG"
                                },
                                {
                                    "0": "GUINDA / MG"
                                },
                                {
                                    "0": "GUIRICEMA / MG"
                                },
                                {
                                    "0": "GURUPI / TO"
                                },
                                {
                                    "0": "GUZOLANDIA / SP"
                                },
                                {
                                    "0": "HELIOPOLIS / BA"
                                },
                                {
                                    "0": "HERCULANDIA / SP"
                                },
                                {
                                    "0": "HERVAL / RS"
                                },
                                {
                                    "0": "HERVAL D'OESTE / SC"
                                },
                                {
                                    "0": "HERVEIRAS / RS"
                                },
                                {
                                    "0": "HIDRELETRICA TUCURUI / PA"
                                },
                                {
                                    "0": "HIDROLANDIA / CE"
                                },
                                {
                                    "0": "HIDROLANDIA / GO"
                                },
                                {
                                    "0": "HIDROLINA / GO"
                                },
                                {
                                    "0": "HOLAMBRA / SP"
                                },
                                {
                                    "0": "HOLAMBRA II / SP"
                                },
                                {
                                    "0": "HORIZONTE / CE"
                                },
                                {
                                    "0": "HORIZONTINA / RS"
                                },
                                {
                                    "0": "HORTOLANDIA / SP"
                                },
                                {
                                    "0": "HULHA NEGRA / RS"
                                },
                                {
                                    "0": "HUMAITA / AM"
                                },
                                {
                                    "0": "HUMBERTO DE CAMPOS / MA"
                                },
                                {
                                    "0": "HUMILDES / BA"
                                },
                                {
                                    "0": "IACANGA / SP"
                                },
                                {
                                    "0": "IACIARA / GO"
                                },
                                {
                                    "0": "IACRI / SP"
                                },
                                {
                                    "0": "IACU / BA"
                                },
                                {
                                    "0": "IAPU / MG"
                                },
                                {
                                    "0": "IARAS / SP"
                                },
                                {
                                    "0": "IATI / PE"
                                },
                                {
                                    "0": "IBAITI / PR"
                                },
                                {
                                    "0": "IBARAMA / RS"
                                },
                                {
                                    "0": "IBATE / SP"
                                },
                                {
                                    "0": "IBATEGUARA / AL"
                                },
                                {
                                    "0": "IBATIBA / ES"
                                },
                                {
                                    "0": "IBEMA / PR"
                                },
                                {
                                    "0": "IBERTIOGA / MG"
                                },
                                {
                                    "0": "IBIA / MG"
                                },
                                {
                                    "0": "IBIACA / RS"
                                },
                                {
                                    "0": "IBIAI / MG"
                                },
                                {
                                    "0": "IBIAJARA / BA"
                                },
                                {
                                    "0": "IBIAM / SC"
                                },
                                {
                                    "0": "IBIAPINA / CE"
                                },
                                {
                                    "0": "IBIARA / PB"
                                },
                                {
                                    "0": "IBIASSUCE / BA"
                                },
                                {
                                    "0": "IBICARAI / BA"
                                },
                                {
                                    "0": "IBICARE / SC"
                                },
                                {
                                    "0": "IBICOARA / BA"
                                },
                                {
                                    "0": "IBICUITINGA / CE"
                                },
                                {
                                    "0": "IBIMIRIM / PE"
                                },
                                {
                                    "0": "IBIPEBA / BA"
                                },
                                {
                                    "0": "IBIPITANGA / BA"
                                },
                                {
                                    "0": "IBIPORA / PR"
                                },
                                {
                                    "0": "IBIRA / SP"
                                },
                                {
                                    "0": "IBIRACATU / MG"
                                },
                                {
                                    "0": "IBIRACI / MG"
                                },
                                {
                                    "0": "IBIRACU / ES"
                                },
                                {
                                    "0": "IBIRAIARAS / RS"
                                },
                                {
                                    "0": "IBIRAJA / BA"
                                },
                                {
                                    "0": "IBIRAMA / SC"
                                },
                                {
                                    "0": "IBIRAPUA / BA"
                                },
                                {
                                    "0": "IBIRAREMA / SP"
                                },
                                {
                                    "0": "IBIRATAIA / BA"
                                },
                                {
                                    "0": "IBIRITE / MG"
                                },
                                {
                                    "0": "IBIRUBA / RS"
                                },
                                {
                                    "0": "IBITIARA / BA"
                                },
                                {
                                    "0": "IBITINGA / SP"
                                },
                                {
                                    "0": "IBITIOCA / RJ"
                                },
                                {
                                    "0": "IBITIRA / BA"
                                },
                                {
                                    "0": "IBITITA / BA"
                                },
                                {
                                    "0": "IBITIUVA / SP"
                                },
                                {
                                    "0": "IBIUNA / SP"
                                },
                                {
                                    "0": "IBOTIRAMA / BA"
                                },
                                {
                                    "0": "ICAPUI / CE"
                                },
                                {
                                    "0": "ICARA / SC"
                                },
                                {
                                    "0": "ICARAI DE MINAS / MG"
                                },
                                {
                                    "0": "ICARAIMA / PR"
                                },
                                {
                                    "0": "ICATU / MA"
                                },
                                {
                                    "0": "ICEM / SP"
                                },
                                {
                                    "0": "ICHU / BA"
                                },
                                {
                                    "0": "ICO / CE"
                                },
                                {
                                    "0": "ICONHA / ES"
                                },
                                {
                                    "0": "IELMO MARINHO / RN"
                                },
                                {
                                    "0": "IEPE / SP"
                                },
                                {
                                    "0": "IGACI / AL"
                                },
                                {
                                    "0": "IGAPORA / BA"
                                },
                                {
                                    "0": "IGARACU DO TIETE / SP"
                                },
                                {
                                    "0": "IGARAPAVA / SP"
                                },
                                {
                                    "0": "IGARAPE / MG"
                                },
                                {
                                    "0": "IGARAPE-ACU / PA"
                                },
                                {
                                    "0": "IGARAPE-MIRI / PA"
                                },
                                {
                                    "0": "IGARASSU / PE"
                                },
                                {
                                    "0": "IGARATA / SP"
                                },
                                {
                                    "0": "IGARATINGA / MG"
                                },
                                {
                                    "0": "IGRAPIUNA / BA"
                                },
                                {
                                    "0": "IGREJA NOVA / AL"
                                },
                                {
                                    "0": "IGREJINHA / RS"
                                },
                                {
                                    "0": "IGUABA GRANDE / RJ"
                                },
                                {
                                    "0": "IGUAI / BA"
                                },
                                {
                                    "0": "IGUAPE / SP"
                                },
                                {
                                    "0": "IGUARACU / PR"
                                },
                                {
                                    "0": "IGUATAMA / MG"
                                },
                                {
                                    "0": "IGUATU / CE"
                                },
                                {
                                    "0": "IGUATU / PR"
                                },
                                {
                                    "0": "IJUI / RS"
                                },
                                {
                                    "0": "ILHA COMPRIDA / SP"
                                },
                                {
                                    "0": "ILHA DE ITAMARACA / PE"
                                },
                                {
                                    "0": "ILHA DOS VALADARES / PR"
                                },
                                {
                                    "0": "ILHA GRANDE / PI"
                                },
                                {
                                    "0": "ILHA SOLTEIRA / SP"
                                },
                                {
                                    "0": "ILHABELA / SP"
                                },
                                {
                                    "0": "ILHEUS / BA"
                                },
                                {
                                    "0": "ILHOTA / SC"
                                },
                                {
                                    "0": "ILICINEA / MG"
                                },
                                {
                                    "0": "ILOPOLIS / RS"
                                },
                                {
                                    "0": "IMACULADA / PB"
                                },
                                {
                                    "0": "IMBAU / PR"
                                },
                                {
                                    "0": "IMBE / RS"
                                },
                                {
                                    "0": "IMBE DE MINAS / MG"
                                },
                                {
                                    "0": "IMBITUBA / SC"
                                },
                                {
                                    "0": "IMBITUVA / PR"
                                },
                                {
                                    "0": "IMBUIA / SC"
                                },
                                {
                                    "0": "IMIGRANTE / RS"
                                },
                                {
                                    "0": "IMPERATRIZ / MA"
                                },
                                {
                                    "0": "INACIO MARTINS / PR"
                                },
                                {
                                    "0": "INACIOLANDIA / GO"
                                },
                                {
                                    "0": "INAJA / PE"
                                },
                                {
                                    "0": "INAJA / PR"
                                },
                                {
                                    "0": "INCONFIDENTES / MG"
                                },
                                {
                                    "0": "INDAIAL / SC"
                                },
                                {
                                    "0": "INDAIATUBA / SP"
                                },
                                {
                                    "0": "INDEPENDENCIA / CE"
                                },
                                {
                                    "0": "INDIANA / SP"
                                },
                                {
                                    "0": "INDIANOPOLIS / MG"
                                },
                                {
                                    "0": "INDIANOPOLIS / PR"
                                },
                                {
                                    "0": "INDIAPORA / SP"
                                },
                                {
                                    "0": "INDIARA / GO"
                                },
                                {
                                    "0": "INDIAROBA / SE"
                                },
                                {
                                    "0": "INGA / PB"
                                },
                                {
                                    "0": "INGAI / MG"
                                },
                                {
                                    "0": "INHAMBUPE / BA"
                                },
                                {
                                    "0": "INHAPI / AL"
                                },
                                {
                                    "0": "INHAPIM / MG"
                                },
                                {
                                    "0": "INHAUMA / MG"
                                },
                                {
                                    "0": "INHUMA / PI"
                                },
                                {
                                    "0": "INHUMAS / GO"
                                },
                                {
                                    "0": "INIMUTABA / MG"
                                },
                                {
                                    "0": "INOCENCIA / MS"
                                },
                                {
                                    "0": "INUBIA PAULISTA / SP"
                                },
                                {
                                    "0": "IOMERE / SC"
                                },
                                {
                                    "0": "IPABA / MG"
                                },
                                {
                                    "0": "IPAMERI / GO"
                                },
                                {
                                    "0": "IPANEMA / MG"
                                },
                                {
                                    "0": "IPAPORANGA / CE"
                                },
                                {
                                    "0": "IPATINGA / MG"
                                },
                                {
                                    "0": "IPAUMIRIM / CE"
                                },
                                {
                                    "0": "IPAUSSU / SP"
                                },
                                {
                                    "0": "IPE / RS"
                                },
                                {
                                    "0": "IPECAETA / BA"
                                },
                                {
                                    "0": "IPERO / SP"
                                },
                                {
                                    "0": "IPIABAS / RJ"
                                },
                                {
                                    "0": "IPIACU / MG"
                                },
                                {
                                    "0": "IPIAU / BA"
                                },
                                {
                                    "0": "IPIGUA / SP"
                                },
                                {
                                    "0": "IPIRA / BA"
                                },
                                {
                                    "0": "IPIRA / SC"
                                },
                                {
                                    "0": "IPIRANGA / PR"
                                },
                                {
                                    "0": "IPIRANGA / RS"
                                },
                                {
                                    "0": "IPIRANGA DE GOIAS / GO"
                                },
                                {
                                    "0": "IPIRANGA DO NORTE / MT"
                                },
                                {
                                    "0": "IPIRANGA DO SUL / RS"
                                },
                                {
                                    "0": "IPIXUNA DO PARA / PA"
                                },
                                {
                                    "0": "IPOJUCA / PE"
                                },
                                {
                                    "0": "IPORA / GO"
                                },
                                {
                                    "0": "IPORA / PR"
                                },
                                {
                                    "0": "IPORA DO OESTE / SC"
                                },
                                {
                                    "0": "IPU / CE"
                                },
                                {
                                    "0": "IPUA / SP"
                                },
                                {
                                    "0": "IPUBI / PE"
                                },
                                {
                                    "0": "IPUEIRA / RN"
                                },
                                {
                                    "0": "IPUEIRAS / CE"
                                },
                                {
                                    "0": "IPUIUNA / MG"
                                },
                                {
                                    "0": "IPUMIRIM / SC"
                                },
                                {
                                    "0": "IPUPIARA / BA"
                                },
                                {
                                    "0": "IRACEMA / CE"
                                },
                                {
                                    "0": "IRACEMAPOLIS / SP"
                                },
                                {
                                    "0": "IRAI / RS"
                                },
                                {
                                    "0": "IRAI DE MINAS / MG"
                                },
                                {
                                    "0": "IRAMAIA / BA"
                                },
                                {
                                    "0": "IRANI / SC"
                                },
                                {
                                    "0": "IRAPE / SP"
                                },
                                {
                                    "0": "IRAPUA / SP"
                                },
                                {
                                    "0": "IRAPURU / SP"
                                },
                                {
                                    "0": "IRAQUARA / BA"
                                },
                                {
                                    "0": "IRARA / BA"
                                },
                                {
                                    "0": "IRATI / PR"
                                },
                                {
                                    "0": "IRAUCUBA / CE"
                                },
                                {
                                    "0": "IRECE / BA"
                                },
                                {
                                    "0": "IRETAMA / PR"
                                },
                                {
                                    "0": "IRINEOPOLIS / SC"
                                },
                                {
                                    "0": "IRUPI / ES"
                                },
                                {
                                    "0": "ISAIAS COELHO / PI"
                                },
                                {
                                    "0": "ITA / SC"
                                },
                                {
                                    "0": "ITAARA / RS"
                                },
                                {
                                    "0": "ITABAIANA / SE"
                                },
                                {
                                    "0": "ITABAIANINHA / SE"
                                },
                                {
                                    "0": "ITABATAN / BA"
                                },
                                {
                                    "0": "ITABELA / BA"
                                },
                                {
                                    "0": "ITABERA / SP"
                                },
                                {
                                    "0": "ITABERABA / BA"
                                },
                                {
                                    "0": "ITABERAI / GO"
                                },
                                {
                                    "0": "ITABI / SE"
                                },
                                {
                                    "0": "ITABIRA / MG"
                                },
                                {
                                    "0": "ITABIRINHA / MG"
                                },
                                {
                                    "0": "ITABIRITO / MG"
                                },
                                {
                                    "0": "ITABORAI / RJ"
                                },
                                {
                                    "0": "ITABUNA / BA"
                                },
                                {
                                    "0": "ITACARAMBI / MG"
                                },
                                {
                                    "0": "ITACARE / BA"
                                },
                                {
                                    "0": "ITACOATIARA / AM"
                                },
                                {
                                    "0": "ITACURUSSA / RJ"
                                },
                                {
                                    "0": "ITAGI / BA"
                                },
                                {
                                    "0": "ITAGIBA / BA"
                                },
                                {
                                    "0": "ITAGIMIRIM / BA"
                                },
                                {
                                    "0": "ITAGUACU / ES"
                                },
                                {
                                    "0": "ITAGUACU / GO"
                                },
                                {
                                    "0": "ITAGUACU DA BAHIA / BA"
                                },
                                {
                                    "0": "ITAGUAI / RJ"
                                },
                                {
                                    "0": "ITAGUAJE / PR"
                                },
                                {
                                    "0": "ITAGUARA / MG"
                                },
                                {
                                    "0": "ITAGUARI / GO"
                                },
                                {
                                    "0": "ITAGUARU / GO"
                                },
                                {
                                    "0": "ITAI / SP"
                                },
                                {
                                    "0": "ITAICABA / CE"
                                },
                                {
                                    "0": "ITAIOPOLIS / SC"
                                },
                                {
                                    "0": "ITAIPAVA / ES"
                                },
                                {
                                    "0": "ITAIPULANDIA / PR"
                                },
                                {
                                    "0": "ITAITINGA / CE"
                                },
                                {
                                    "0": "ITAITUBA / PA"
                                },
                                {
                                    "0": "ITAJA / GO"
                                },
                                {
                                    "0": "ITAJAI / SC"
                                },
                                {
                                    "0": "ITAJOBI / SP"
                                },
                                {
                                    "0": "ITAJU / SP"
                                },
                                {
                                    "0": "ITAJU DO COLONIA / BA"
                                },
                                {
                                    "0": "ITAJUBA / MG"
                                },
                                {
                                    "0": "ITAJUIPE / BA"
                                },
                                {
                                    "0": "ITALVA / RJ"
                                },
                                {
                                    "0": "ITAMARAJU / BA"
                                },
                                {
                                    "0": "ITAMARANDIBA / MG"
                                },
                                {
                                    "0": "ITAMARI / BA"
                                },
                                {
                                    "0": "ITAMBACURI / MG"
                                },
                                {
                                    "0": "ITAMBARACA / PR"
                                },
                                {
                                    "0": "ITAMBE / BA"
                                },
                                {
                                    "0": "ITAMBE / PE"
                                },
                                {
                                    "0": "ITAMBE / PR"
                                },
                                {
                                    "0": "ITAMIRA / BA"
                                },
                                {
                                    "0": "ITAMOGI / MG"
                                },
                                {
                                    "0": "ITAMONTE / MG"
                                },
                                {
                                    "0": "ITANHAEM / SP"
                                },
                                {
                                    "0": "ITANHANDU / MG"
                                },
                                {
                                    "0": "ITANHANGA / MT"
                                },
                                {
                                    "0": "ITANHEM / BA"
                                },
                                {
                                    "0": "ITANHOMI / MG"
                                },
                                {
                                    "0": "ITAOBIM / MG"
                                },
                                {
                                    "0": "ITAOCA / ES"
                                },
                                {
                                    "0": "ITAOCA / SP"
                                },
                                {
                                    "0": "ITAOCARA / RJ"
                                },
                                {
                                    "0": "ITAPACI / GO"
                                },
                                {
                                    "0": "ITAPAGE / CE"
                                },
                                {
                                    "0": "ITAPAGIPE / MG"
                                },
                                {
                                    "0": "ITAPAJE / CE"
                                },
                                {
                                    "0": "ITAPARICA / BA"
                                },
                                {
                                    "0": "ITAPE / BA"
                                },
                                {
                                    "0": "ITAPECERICA / MG"
                                },
                                {
                                    "0": "ITAPECERICA DA SERRA / SP"
                                },
                                {
                                    "0": "ITAPECURU MIRIM / MA"
                                },
                                {
                                    "0": "ITAPEJARA D'OESTE / PR"
                                },
                                {
                                    "0": "ITAPEMA / SC"
                                },
                                {
                                    "0": "ITAPEMIRIM / ES"
                                },
                                {
                                    "0": "ITAPERUCU / PR"
                                },
                                {
                                    "0": "ITAPERUNA / RJ"
                                },
                                {
                                    "0": "ITAPETIM / PE"
                                },
                                {
                                    "0": "ITAPETINGA / BA"
                                },
                                {
                                    "0": "ITAPETININGA / SP"
                                },
                                {
                                    "0": "ITAPEVA / MG"
                                },
                                {
                                    "0": "ITAPEVA / SP"
                                },
                                {
                                    "0": "ITAPEVI / SP"
                                },
                                {
                                    "0": "ITAPICURU / BA"
                                },
                                {
                                    "0": "ITAPIPOCA / CE"
                                },
                                {
                                    "0": "ITAPIRA / SP"
                                },
                                {
                                    "0": "ITAPIRANGA / SC"
                                },
                                {
                                    "0": "ITAPIRAPUA / GO"
                                },
                                {
                                    "0": "ITAPIRAPUA PAULISTA / SP"
                                },
                                {
                                    "0": "ITAPISSUMA / PE"
                                },
                                {
                                    "0": "ITAPITANGA / BA"
                                },
                                {
                                    "0": "ITAPIUNA / CE"
                                },
                                {
                                    "0": "ITAPOA / SC"
                                },
                                {
                                    "0": "ITAPOLIS / SP"
                                },
                                {
                                    "0": "ITAPORA / MS"
                                },
                                {
                                    "0": "ITAPORANGA / PB"
                                },
                                {
                                    "0": "ITAPORANGA / SP"
                                },
                                {
                                    "0": "ITAPORANGA D'AJUDA / SE"
                                },
                                {
                                    "0": "ITAPUI / SP"
                                },
                                {
                                    "0": "ITAPURA / SP"
                                },
                                {
                                    "0": "ITAPURANGA / GO"
                                },
                                {
                                    "0": "ITAQUAQUECETUBA / SP"
                                },
                                {
                                    "0": "ITAQUI / RS"
                                },
                                {
                                    "0": "ITAQUIRAI / MS"
                                },
                                {
                                    "0": "ITAQUITINGA / PE"
                                },
                                {
                                    "0": "ITARANA / ES"
                                },
                                {
                                    "0": "ITARANTIM / BA"
                                },
                                {
                                    "0": "ITARARE / SP"
                                },
                                {
                                    "0": "ITAREMA / CE"
                                },
                                {
                                    "0": "ITARIRI / SP"
                                },
                                {
                                    "0": "ITATIAIA / RJ"
                                },
                                {
                                    "0": "ITATIAIUCU / MG"
                                },
                                {
                                    "0": "ITATIBA / SP"
                                },
                                {
                                    "0": "ITATIBA DO SUL / RS"
                                },
                                {
                                    "0": "ITATIM / BA"
                                },
                                {
                                    "0": "ITATINGA / SP"
                                },
                                {
                                    "0": "ITAU / RN"
                                },
                                {
                                    "0": "ITAU DE MINAS / MG"
                                },
                                {
                                    "0": "ITAUBA / MT"
                                },
                                {
                                    "0": "ITAUEIRA / PI"
                                },
                                {
                                    "0": "ITAUNA / MG"
                                },
                                {
                                    "0": "ITINGA / MG"
                                },
                                {
                                    "0": "ITIQUIRA / MT"
                                },
                                {
                                    "0": "ITIRAPINA / SP"
                                },
                                {
                                    "0": "ITIRUCU / BA"
                                },
                                {
                                    "0": "ITIUBA / BA"
                                },
                                {
                                    "0": "ITOBI / SP"
                                },
                                {
                                    "0": "ITORORO / BA"
                                },
                                {
                                    "0": "ITU / SP"
                                },
                                {
                                    "0": "ITUACU / BA"
                                },
                                {
                                    "0": "ITUBERA / BA"
                                },
                                {
                                    "0": "ITUETA / MG"
                                },
                                {
                                    "0": "ITUIUTABA / MG"
                                },
                                {
                                    "0": "ITUMBIARA / GO"
                                },
                                {
                                    "0": "ITUPEVA / SP"
                                },
                                {
                                    "0": "ITUPIRANGA / PA"
                                },
                                {
                                    "0": "ITUPORANGA / SC"
                                },
                                {
                                    "0": "ITURAMA / MG"
                                },
                                {
                                    "0": "ITUTINGA / MG"
                                },
                                {
                                    "0": "ITUVERAVA / SP"
                                },
                                {
                                    "0": "IUNA / ES"
                                },
                                {
                                    "0": "IVAI / PR"
                                },
                                {
                                    "0": "IVAIPORA / PR"
                                },
                                {
                                    "0": "IVATE / PR"
                                },
                                {
                                    "0": "IVINHEMA / MS"
                                },
                                {
                                    "0": "IVORA / RS"
                                },
                                {
                                    "0": "IVOTI / RS"
                                },
                                {
                                    "0": "JABOATAO DOS GUARARAPES / PE"
                                },
                                {
                                    "0": "JABORA / SC"
                                },
                                {
                                    "0": "JABORANDI / SP"
                                },
                                {
                                    "0": "JABOTI / PR"
                                },
                                {
                                    "0": "JABOTICABAL / SP"
                                },
                                {
                                    "0": "JABOTICATUBAS / MG"
                                },
                                {
                                    "0": "JACARACI / BA"
                                },
                                {
                                    "0": "JACARAU / PB"
                                },
                                {
                                    "0": "JACARE / SP"
                                },
                                {
                                    "0": "JACAREACANGA / PA"
                                },
                                {
                                    "0": "JACAREI / SP"
                                },
                                {
                                    "0": "JACAREZINHO / PR"
                                },
                                {
                                    "0": "JACI / SP"
                                },
                                {
                                    "0": "JACIARA / MT"
                                },
                                {
                                    "0": "JACIGUA / ES"
                                },
                                {
                                    "0": "JACINTO / MG"
                                },
                                {
                                    "0": "JACINTO MACHADO / SC"
                                },
                                {
                                    "0": "JACOBINA / BA"
                                },
                                {
                                    "0": "JACUI / MG"
                                },
                                {
                                    "0": "JACUIPE / BA"
                                },
                                {
                                    "0": "JACUIZINHO / RS"
                                },
                                {
                                    "0": "JACUNDA / PA"
                                },
                                {
                                    "0": "JACUPIRANGA / SP"
                                },
                                {
                                    "0": "JACUTINGA / MG"
                                },
                                {
                                    "0": "JACUTINGA / RS"
                                },
                                {
                                    "0": "JAGUAPITA / PR"
                                },
                                {
                                    "0": "JAGUAQUARA / BA"
                                },
                                {
                                    "0": "JAGUARACU / MG"
                                },
                                {
                                    "0": "JAGUARAO / RS"
                                },
                                {
                                    "0": "JAGUARE / ES"
                                },
                                {
                                    "0": "JAGUAREMBE / RJ"
                                },
                                {
                                    "0": "JAGUARI / RS"
                                },
                                {
                                    "0": "JAGUARIAIVA / PR"
                                },
                                {
                                    "0": "JAGUARIBARA / CE"
                                },
                                {
                                    "0": "JAGUARIBE / CE"
                                },
                                {
                                    "0": "JAGUARIUNA / SP"
                                },
                                {
                                    "0": "JAGUARUANA / CE"
                                },
                                {
                                    "0": "JAGUARUNA / SC"
                                },
                                {
                                    "0": "JAIBA / MG"
                                },
                                {
                                    "0": "JALES / SP"
                                },
                                {
                                    "0": "JAMAICA / SP"
                                },
                                {
                                    "0": "JAMAPARA / RJ"
                                },
                                {
                                    "0": "JAMBEIRO / SP"
                                },
                                {
                                    "0": "JAMPRUCA / MG"
                                },
                                {
                                    "0": "JANAUBA / MG"
                                },
                                {
                                    "0": "JANDAIA / GO"
                                },
                                {
                                    "0": "JANDAIA DO SUL / PR"
                                },
                                {
                                    "0": "JANDAIRA / BA"
                                },
                                {
                                    "0": "JANDAIRA / RN"
                                },
                                {
                                    "0": "JANDIRA / SP"
                                },
                                {
                                    "0": "JANDUIS / RN"
                                },
                                {
                                    "0": "JANIOPOLIS / PR"
                                },
                                {
                                    "0": "JANUARIA / MG"
                                },
                                {
                                    "0": "JAPARAIBA / MG"
                                },
                                {
                                    "0": "JAPARATUBA / SE"
                                },
                                {
                                    "0": "JAPERI / RJ"
                                },
                                {
                                    "0": "JAPI / RN"
                                },
                                {
                                    "0": "JAPIRA / PR"
                                },
                                {
                                    "0": "JAPOATA / SE"
                                },
                                {
                                    "0": "JAPUIBA / RJ"
                                },
                                {
                                    "0": "JAPURA / PR"
                                },
                                {
                                    "0": "JAQUEIRA / PE"
                                },
                                {
                                    "0": "JAQUIRANA / RS"
                                },
                                {
                                    "0": "JARAGUA / GO"
                                },
                                {
                                    "0": "JARAGUA DO SUL / SC"
                                },
                                {
                                    "0": "JARAGUARI / MS"
                                },
                                {
                                    "0": "JARDIM / CE"
                                },
                                {
                                    "0": "JARDIM / MS"
                                },
                                {
                                    "0": "JARDIM ABC DE GOIAS / GO"
                                },
                                {
                                    "0": "JARDIM ALEGRE / PR"
                                },
                                {
                                    "0": "JARDIM DE PIRANHAS / RN"
                                },
                                {
                                    "0": "JARDIM DO SERIDO / RN"
                                },
                                {
                                    "0": "JARDIM OLINDA / PR"
                                },
                                {
                                    "0": "JARDINOPOLIS / SP"
                                },
                                {
                                    "0": "JARI / RS"
                                },
                                {
                                    "0": "JARINU / SP"
                                },
                                {
                                    "0": "JARU / RO"
                                },
                                {
                                    "0": "JATAI / GO"
                                },
                                {
                                    "0": "JATAIZINHO / PR"
                                },
                                {
                                    "0": "JATAUBA / PE"
                                },
                                {
                                    "0": "JATOBA / MA"
                                },
                                {
                                    "0": "JATOBA / PE"
                                },
                                {
                                    "0": "JAU / SP"
                                },
                                {
                                    "0": "JAUA / BA"
                                },
                                {
                                    "0": "JAUPACI / GO"
                                },
                                {
                                    "0": "JAURU / MT"
                                },
                                {
                                    "0": "JECEABA / MG"
                                },
                                {
                                    "0": "JENIPAPO DE MINAS / MG"
                                },
                                {
                                    "0": "JEQUERI / MG"
                                },
                                {
                                    "0": "JEQUIA DA PRAIA / AL"
                                },
                                {
                                    "0": "JEQUIE / BA"
                                },
                                {
                                    "0": "JEQUITAI / MG"
                                },
                                {
                                    "0": "JEQUITIBA / MG"
                                },
                                {
                                    "0": "JEQUITINHONHA / MG"
                                },
                                {
                                    "0": "JEREMOABO / BA"
                                },
                                {
                                    "0": "JERICO / PB"
                                },
                                {
                                    "0": "JERIQUARA / SP"
                                },
                                {
                                    "0": "JERONIMO MONTEIRO / ES"
                                },
                                {
                                    "0": "JESUANIA / MG"
                                },
                                {
                                    "0": "JESUITAS / PR"
                                },
                                {
                                    "0": "JESUPOLIS / GO"
                                },
                                {
                                    "0": "JIJOCA DE JERICOACOARA / CE"
                                },
                                {
                                    "0": "JI-PARANA / RO"
                                },
                                {
                                    "0": "JIQUIRICA / BA"
                                },
                                {
                                    "0": "JOACABA / SC"
                                },
                                {
                                    "0": "JOAIMA / MG"
                                },
                                {
                                    "0": "JOANOPOLIS / SP"
                                },
                                {
                                    "0": "JOAO ALFREDO / PE"
                                },
                                {
                                    "0": "JOAO CAMARA / RN"
                                },
                                {
                                    "0": "JOAO DOURADO / BA"
                                },
                                {
                                    "0": "JOAO LISBOA / MA"
                                },
                                {
                                    "0": "JOAO MONLEVADE / MG"
                                },
                                {
                                    "0": "JOAO NEIVA / ES"
                                },
                                {
                                    "0": "JOAO PESSOA / PB"
                                },
                                {
                                    "0": "JOAO PINHEIRO / MG"
                                },
                                {
                                    "0": "JOAO RAMALHO / SP"
                                },
                                {
                                    "0": "JOAQUIM NABUCO / PE"
                                },
                                {
                                    "0": "JOAQUIM PIRES / PI"
                                },
                                {
                                    "0": "JOAQUIM TAVORA / PR"
                                },
                                {
                                    "0": "JOINVILLE / SC"
                                },
                                {
                                    "0": "JORDANIA / MG"
                                },
                                {
                                    "0": "JOSE BOITEUX / SC"
                                },
                                {
                                    "0": "JOSE BONIFACIO / SP"
                                },
                                {
                                    "0": "JOSE DA PENHA / RN"
                                },
                                {
                                    "0": "JOSE DE FREITAS / PI"
                                },
                                {
                                    "0": "JOSELANDIA / MA"
                                },
                                {
                                    "0": "JOVIANIA / GO"
                                },
                                {
                                    "0": "JUARA / MT"
                                },
                                {
                                    "0": "JUATUBA / MG"
                                },
                                {
                                    "0": "JUAZEIRO / BA"
                                },
                                {
                                    "0": "JUAZEIRO DO NORTE / CE"
                                },
                                {
                                    "0": "JUCAS / CE"
                                },
                                {
                                    "0": "JUCURUCU / BA"
                                },
                                {
                                    "0": "JUCURUTU / RN"
                                },
                                {
                                    "0": "JUINA / MT"
                                },
                                {
                                    "0": "JUIZ DE FORA / MG"
                                },
                                {
                                    "0": "JULIO DE CASTILHOS / RS"
                                },
                                {
                                    "0": "JULIO MESQUITA / SP"
                                },
                                {
                                    "0": "JUMIRIM / SP"
                                },
                                {
                                    "0": "JUNCO DO SERIDO / PB"
                                },
                                {
                                    "0": "JUNDIAI / SP"
                                },
                                {
                                    "0": "JUNDIAI DO SUL / PR"
                                },
                                {
                                    "0": "JUNQUEIRO / AL"
                                },
                                {
                                    "0": "JUNQUEIROPOLIS / SP"
                                },
                                {
                                    "0": "JUPI / PE"
                                },
                                {
                                    "0": "JUQUIA / SP"
                                },
                                {
                                    "0": "JUQUITIBA / SP"
                                },
                                {
                                    "0": "JURANDA / PR"
                                },
                                {
                                    "0": "JUREMA / PE"
                                },
                                {
                                    "0": "JURIPIRANGA / PB"
                                },
                                {
                                    "0": "JURU / PB"
                                },
                                {
                                    "0": "JURUAIA / MG"
                                },
                                {
                                    "0": "JURUENA / MT"
                                },
                                {
                                    "0": "JURUTI / PA"
                                },
                                {
                                    "0": "JUSCIMEIRA / MT"
                                },
                                {
                                    "0": "JUSSARA / GO"
                                },
                                {
                                    "0": "JUSSARA / PR"
                                },
                                {
                                    "0": "JUSSARI / BA"
                                },
                                {
                                    "0": "JUSSIAPE / BA"
                                },
                                {
                                    "0": "JUTI / MS"
                                },
                                {
                                    "0": "JUVENILIA / MG"
                                },
                                {
                                    "0": "KALORE / PR"
                                },
                                {
                                    "0": "LADAINHA / MG"
                                },
                                {
                                    "0": "LADARIO / MS"
                                },
                                {
                                    "0": "LAGARTO / SE"
                                },
                                {
                                    "0": "LAGES / CE"
                                },
                                {
                                    "0": "LAGES / SC"
                                },
                                {
                                    "0": "LAGO DA PEDRA / MA"
                                },
                                {
                                    "0": "LAGO VERDE / MA"
                                },
                                {
                                    "0": "LAGOA / PB"
                                },
                                {
                                    "0": "LAGOA DA CANOA / AL"
                                },
                                {
                                    "0": "LAGOA DA CONFUSAO / TO"
                                },
                                {
                                    "0": "LAGOA DA PRATA / MG"
                                },
                                {
                                    "0": "LAGOA D'ANTA / RN"
                                },
                                {
                                    "0": "LAGOA DE SAO FRANCISCO / PI"
                                },
                                {
                                    "0": "LAGOA DE VELHOS / RN"
                                },
                                {
                                    "0": "LAGOA DO CARRO / PE"
                                },
                                {
                                    "0": "LAGOA DO MATO / CE"
                                },
                                {
                                    "0": "LAGOA DO OURO / PE"
                                },
                                {
                                    "0": "LAGOA DO PIAUI / PI"
                                },
                                {
                                    "0": "LAGOA DOS GATOS / PE"
                                },
                                {
                                    "0": "LAGOA DOS PATOS / MG"
                                },
                                {
                                    "0": "LAGOA DOS TRES CANTOS / RS"
                                },
                                {
                                    "0": "LAGOA DOURADA / MG"
                                },
                                {
                                    "0": "LAGOA FORMOSA / MG"
                                },
                                {
                                    "0": "LAGOA GRANDE / MG"
                                },
                                {
                                    "0": "LAGOA GRANDE / PE"
                                },
                                {
                                    "0": "LAGOA NOVA / RN"
                                },
                                {
                                    "0": "LAGOA REAL / BA"
                                },
                                {
                                    "0": "LAGOA SALGADA / RN"
                                },
                                {
                                    "0": "LAGOA SANTA / GO"
                                },
                                {
                                    "0": "LAGOA SANTA / MG"
                                },
                                {
                                    "0": "LAGOA VERMELHA / RS"
                                },
                                {
                                    "0": "LAGOAO / RS"
                                },
                                {
                                    "0": "LAGOINHA / SP"
                                },
                                {
                                    "0": "LAGOINHA DO PIAUI / PI"
                                },
                                {
                                    "0": "LAGUNA / SC"
                                },
                                {
                                    "0": "LAJE DO MURIAE / RJ"
                                },
                                {
                                    "0": "LAJEADO / RS"
                                },
                                {
                                    "0": "LAJEADO / TO"
                                },
                                {
                                    "0": "LAJEADO GRANDE / SC"
                                },
                                {
                                    "0": "LAJEDO / PE"
                                },
                                {
                                    "0": "LAJINHA / MG"
                                },
                                {
                                    "0": "LAMARAO / BA"
                                },
                                {
                                    "0": "LAMBARI / MG"
                                },
                                {
                                    "0": "LAMIM / MG"
                                },
                                {
                                    "0": "LAPA / PR"
                                },
                                {
                                    "0": "LARANJA DA TERRA / ES"
                                },
                                {
                                    "0": "LARANJAL / MG"
                                },
                                {
                                    "0": "LARANJAL / PR"
                                },
                                {
                                    "0": "LARANJAL DO JARI / AP"
                                },
                                {
                                    "0": "LARANJAL PAULISTA / SP"
                                },
                                {
                                    "0": "LARANJEIRAS DO SUL / PR"
                                },
                                {
                                    "0": "LAURENTINO / SC"
                                },
                                {
                                    "0": "LAURO DE FREITAS / BA"
                                },
                                {
                                    "0": "LAURO MULLER / SC"
                                },
                                {
                                    "0": "LAVINIA / SP"
                                },
                                {
                                    "0": "LAVRAS / MG"
                                },
                                {
                                    "0": "LAVRAS DA MANGABEIRA / CE"
                                },
                                {
                                    "0": "LAVRAS DO SUL / RS"
                                },
                                {
                                    "0": "LAVRINHAS / SP"
                                },
                                {
                                    "0": "LEANDRO FERREIRA / MG"
                                },
                                {
                                    "0": "LEBON REGIS / SC"
                                },
                                {
                                    "0": "LEME / SP"
                                },
                                {
                                    "0": "LENCOIS / BA"
                                },
                                {
                                    "0": "LENCOIS PAULISTA / SP"
                                },
                                {
                                    "0": "LEOBERTO LEAL / SC"
                                },
                                {
                                    "0": "LEOPOLDINA / MG"
                                },
                                {
                                    "0": "LEOPOLDO DE BULHOES / GO"
                                },
                                {
                                    "0": "LEOPOLIS / PR"
                                },
                                {
                                    "0": "LIBERATO SALZANO / RS"
                                },
                                {
                                    "0": "LIBERDADE / MG"
                                },
                                {
                                    "0": "LIDICE / RJ"
                                },
                                {
                                    "0": "LIMA DUARTE / MG"
                                },
                                {
                                    "0": "LIMEIRA / SP"
                                },
                                {
                                    "0": "LIMEIRA DO OESTE / MG"
                                },
                                {
                                    "0": "LIMOEIRO / PE"
                                },
                                {
                                    "0": "LIMOEIRO DO NORTE / CE"
                                },
                                {
                                    "0": "LINDOESTE / PR"
                                },
                                {
                                    "0": "LINDOIA / SP"
                                },
                                {
                                    "0": "LINDOIA DO SUL / SC"
                                },
                                {
                                    "0": "LINDOLFO COLLOR / RS"
                                },
                                {
                                    "0": "LINHARES / ES"
                                },
                                {
                                    "0": "LINS / SP"
                                },
                                {
                                    "0": "LIVRAMENTO / PB"
                                },
                                {
                                    "0": "LIVRAMENTO DE NOSSA SENHORA / BA"
                                },
                                {
                                    "0": "LOANDA / PR"
                                },
                                {
                                    "0": "LOBATO / PR"
                                },
                                {
                                    "0": "LONDRINA / PR"
                                },
                                {
                                    "0": "LONTRAS / SC"
                                },
                                {
                                    "0": "LORENA / SP"
                                },
                                {
                                    "0": "LORETO / MA"
                                },
                                {
                                    "0": "LOURDES / SP"
                                },
                                {
                                    "0": "LOUVEIRA / SP"
                                },
                                {
                                    "0": "LUCAS DO RIO VERDE / MT"
                                },
                                {
                                    "0": "LUCELIA / SP"
                                },
                                {
                                    "0": "LUCENA / PB"
                                },
                                {
                                    "0": "LUCIANOPOLIS / SP"
                                },
                                {
                                    "0": "LUIS ANTONIO / SP"
                                },
                                {
                                    "0": "LUIS CORREIA / PI"
                                },
                                {
                                    "0": "LUIS EDUARDO MAGALHAES / BA"
                                },
                                {
                                    "0": "LUISBURGO / MG"
                                },
                                {
                                    "0": "LUIZ ALVES / SC"
                                },
                                {
                                    "0": "LUIZIANA / PR"
                                },
                                {
                                    "0": "LUIZIANIA / SP"
                                },
                                {
                                    "0": "LUIZLANDIA DO OESTE / MG"
                                },
                                {
                                    "0": "LUMINARIAS / MG"
                                },
                                {
                                    "0": "LUNARDELLI / PR"
                                },
                                {
                                    "0": "LUPERCIO / SP"
                                },
                                {
                                    "0": "LUPIONOPOLIS / PR"
                                },
                                {
                                    "0": "LUTECIA / SP"
                                },
                                {
                                    "0": "LUZ / MG"
                                },
                                {
                                    "0": "LUZIANIA / GO"
                                },
                                {
                                    "0": "LUZIAPOLIS / AL"
                                },
                                {
                                    "0": "LUZILANDIA / PI"
                                },
                                {
                                    "0": "MACAE / RJ"
                                },
                                {
                                    "0": "MACAIBA / RN"
                                },
                                {
                                    "0": "MACAMBARA / RS"
                                },
                                {
                                    "0": "MACAMBIRA / SE"
                                },
                                {
                                    "0": "MACAPA / AP"
                                },
                                {
                                    "0": "MACAPARANA / PE"
                                },
                                {
                                    "0": "MACATUBA / SP"
                                },
                                {
                                    "0": "MACAU / RN"
                                },
                                {
                                    "0": "MACAUBAL / SP"
                                },
                                {
                                    "0": "MACAUBAS / BA"
                                },
                                {
                                    "0": "MACEDONIA / SP"
                                },
                                {
                                    "0": "MACEIO / AL"
                                },
                                {
                                    "0": "MACHACALIS / MG"
                                },
                                {
                                    "0": "MACHADINHO / RS"
                                },
                                {
                                    "0": "MACHADINHO D'OESTE / RO"
                                },
                                {
                                    "0": "MACHADO / MG"
                                },
                                {
                                    "0": "MACHADOS / PE"
                                },
                                {
                                    "0": "MACIEIRA / SC"
                                },
                                {
                                    "0": "MACUCO / RJ"
                                },
                                {
                                    "0": "MACUCO DE MINAS / MG"
                                },
                                {
                                    "0": "MADALENA / CE"
                                },
                                {
                                    "0": "MADRE DE DEUS / BA"
                                },
                                {
                                    "0": "MADRE DE DEUS DE MINAS / MG"
                                },
                                {
                                    "0": "MAE D'AGUA / PB"
                                },
                                {
                                    "0": "MAE DO RIO / PA"
                                },
                                {
                                    "0": "MAFRA / SC"
                                },
                                {
                                    "0": "MAGALHAES DE ALMEIDA / MA"
                                },
                                {
                                    "0": "MAGDA / SP"
                                },
                                {
                                    "0": "MAGE / RJ"
                                },
                                {
                                    "0": "MAIOBA / MA"
                                },
                                {
                                    "0": "MAIQUINIQUE / BA"
                                },
                                {
                                    "0": "MAIRI / BA"
                                },
                                {
                                    "0": "MAIRINQUE / SP"
                                },
                                {
                                    "0": "MAIRIPORA / SP"
                                },
                                {
                                    "0": "MAIRIPOTABA / GO"
                                },
                                {
                                    "0": "MAJOR PORTO / MG"
                                },
                                {
                                    "0": "MAJOR VIEIRA / SC"
                                },
                                {
                                    "0": "MALACACHETA / MG"
                                },
                                {
                                    "0": "MALHADOR / SE"
                                },
                                {
                                    "0": "MALLET / PR"
                                },
                                {
                                    "0": "MAMANGUAPE / PB"
                                },
                                {
                                    "0": "MAMBAI / GO"
                                },
                                {
                                    "0": "MAMBORE / PR"
                                },
                                {
                                    "0": "MAMONAS / MG"
                                },
                                {
                                    "0": "MAMPITUBA / RS"
                                },
                                {
                                    "0": "MANAIRA / PB"
                                },
                                {
                                    "0": "MANAUS / AM"
                                },
                                {
                                    "0": "MANDAGUACU / PR"
                                },
                                {
                                    "0": "MANDAGUARI / PR"
                                },
                                {
                                    "0": "MANDIRITUBA / PR"
                                },
                                {
                                    "0": "MANDURI / SP"
                                },
                                {
                                    "0": "MANFRINOPOLIS / PR"
                                },
                                {
                                    "0": "MANGA / MG"
                                },
                                {
                                    "0": "MANGARATIBA / RJ"
                                },
                                {
                                    "0": "MANGUEIRINHA / PR"
                                },
                                {
                                    "0": "MANHUACU / MG"
                                },
                                {
                                    "0": "MANHUMIRIM / MG"
                                },
                                {
                                    "0": "MANOEL RIBAS / PR"
                                },
                                {
                                    "0": "MANOEL URBANO / AC"
                                },
                                {
                                    "0": "MANOEL VIANA / RS"
                                },
                                {
                                    "0": "MANSIDAO / BA"
                                },
                                {
                                    "0": "MANTENA / MG"
                                },
                                {
                                    "0": "MANTENOPOLIS / ES"
                                },
                                {
                                    "0": "MAQUINE / RS"
                                },
                                {
                                    "0": "MAR DE ESPANHA / MG"
                                },
                                {
                                    "0": "MAR VERMELHO / AL"
                                },
                                {
                                    "0": "MARA ROSA / GO"
                                },
                                {
                                    "0": "MARABA / PA"
                                },
                                {
                                    "0": "MARACACUME / MA"
                                },
                                {
                                    "0": "MARACAI / SP"
                                },
                                {
                                    "0": "MARACAJU / MS"
                                },
                                {
                                    "0": "MARACANA / SC"
                                },
                                {
                                    "0": "MARACANAU / CE"
                                },
                                {
                                    "0": "MARACAS / BA"
                                },
                                {
                                    "0": "MARAGOGI / AL"
                                },
                                {
                                    "0": "MARAGOGIPE / BA"
                                },
                                {
                                    "0": "MARANGUAPE / CE"
                                },
                                {
                                    "0": "MARANHAOZINHO / MA"
                                },
                                {
                                    "0": "MARATAIZES / ES"
                                },
                                {
                                    "0": "MARAU / RS"
                                },
                                {
                                    "0": "MARAVILHA / AL"
                                },
                                {
                                    "0": "MARAVILHA / SC"
                                },
                                {
                                    "0": "MARAVILHAS / MG"
                                },
                                {
                                    "0": "MARCELINO VIEIRA / RN"
                                },
                                {
                                    "0": "MARCO / CE"
                                },
                                {
                                    "0": "MARCOS PARENTE / PI"
                                },
                                {
                                    "0": "MARECHAL CANDIDO RONDON / PR"
                                },
                                {
                                    "0": "MARECHAL DEODORO / AL"
                                },
                                {
                                    "0": "MARECHAL FLORIANO / ES"
                                },
                                {
                                    "0": "MARI / PB"
                                },
                                {
                                    "0": "MARIA DA FE / MG"
                                },
                                {
                                    "0": "MARIALVA / PR"
                                },
                                {
                                    "0": "MARIANA / MG"
                                },
                                {
                                    "0": "MARIANO MORO / RS"
                                },
                                {
                                    "0": "MARIAPOLIS / SP"
                                },
                                {
                                    "0": "MARIBONDO / AL"
                                },
                                {
                                    "0": "MARICA / RJ"
                                },
                                {
                                    "0": "MARIENTAL / PR"
                                },
                                {
                                    "0": "MARILAC / MG"
                                },
                                {
                                    "0": "MARILANDIA / ES"
                                },
                                {
                                    "0": "MARILANDIA DO SUL / PR"
                                },
                                {
                                    "0": "MARILENA / PR"
                                },
                                {
                                    "0": "MARILIA / SP"
                                },
                                {
                                    "0": "MARILUZ / PR"
                                },
                                {
                                    "0": "MARINGA / PR"
                                },
                                {
                                    "0": "MARINOPOLIS / SP"
                                },
                                {
                                    "0": "MARIO CAMPOS / MG"
                                },
                                {
                                    "0": "MARIOPOLIS / PR"
                                },
                                {
                                    "0": "MARIPA / PR"
                                },
                                {
                                    "0": "MARISTELA / SP"
                                },
                                {
                                    "0": "MARITUBA / PA"
                                },
                                {
                                    "0": "MARMELEIRO / PR"
                                },
                                {
                                    "0": "MARQUES DE SOUZA / RS"
                                },
                                {
                                    "0": "MARTINESIA / MG"
                                },
                                {
                                    "0": "MARTINHO CAMPOS / MG"
                                },
                                {
                                    "0": "MARTINOPOLIS / SP"
                                },
                                {
                                    "0": "MARTINS / RN"
                                },
                                {
                                    "0": "MARTINS SOARES / MG"
                                },
                                {
                                    "0": "MASCOTE / BA"
                                },
                                {
                                    "0": "MASSAPE / CE"
                                },
                                {
                                    "0": "MASSARANDUBA / SC"
                                },
                                {
                                    "0": "MATA / RS"
                                },
                                {
                                    "0": "MATA DE SAO JOAO / BA"
                                },
                                {
                                    "0": "MATA GRANDE / AL"
                                },
                                {
                                    "0": "MATA ROMA / MA"
                                },
                                {
                                    "0": "MATA VERDE / MG"
                                },
                                {
                                    "0": "MATAO / SP"
                                },
                                {
                                    "0": "MATELANDIA / PR"
                                },
                                {
                                    "0": "MATERLANDIA / MG"
                                },
                                {
                                    "0": "MATEUS LEME / MG"
                                },
                                {
                                    "0": "MATIAS BARBOSA / MG"
                                },
                                {
                                    "0": "MATIAS OLIMPIO / PI"
                                },
                                {
                                    "0": "MATINHOS / PR"
                                },
                                {
                                    "0": "MATIPO / MG"
                                },
                                {
                                    "0": "MATO LEITAO / RS"
                                },
                                {
                                    "0": "MATO RICO / PR"
                                },
                                {
                                    "0": "MATO VERDE / MG"
                                },
                                {
                                    "0": "MATOES / MA"
                                },
                                {
                                    "0": "MATOES DO NORTE / MA"
                                },
                                {
                                    "0": "MATOZINHOS / MG"
                                },
                                {
                                    "0": "MATRINCHA / GO"
                                },
                                {
                                    "0": "MATRIZ DE CAMARAGIBE / AL"
                                },
                                {
                                    "0": "MATUPA / MT"
                                },
                                {
                                    "0": "MATUTINA / MG"
                                },
                                {
                                    "0": "MAUA / SP"
                                },
                                {
                                    "0": "MAUA DA SERRA / PR"
                                },
                                {
                                    "0": "MAURILANDIA / GO"
                                },
                                {
                                    "0": "MAURITI / CE"
                                },
                                {
                                    "0": "MAXIMILIANO DE ALMEIDA / RS"
                                },
                                {
                                    "0": "MEDEIROS / MG"
                                },
                                {
                                    "0": "MEDEIROS NETO / BA"
                                },
                                {
                                    "0": "MEDIANEIRA / PR"
                                },
                                {
                                    "0": "MEDICILANDIA / PA"
                                },
                                {
                                    "0": "MEDINA / MG"
                                },
                                {
                                    "0": "MELEIRO / SC"
                                },
                                {
                                    "0": "MENDES / RJ"
                                },
                                {
                                    "0": "MENDES PIMENTEL / MG"
                                },
                                {
                                    "0": "MENDONCA / MG"
                                },
                                {
                                    "0": "MENDONCA / SP"
                                },
                                {
                                    "0": "MERCEDES / PR"
                                },
                                {
                                    "0": "MERCES / MG"
                                },
                                {
                                    "0": "MERIDIANO / SP"
                                },
                                {
                                    "0": "MERUOCA / CE"
                                },
                                {
                                    "0": "MESQUITA / MG"
                                },
                                {
                                    "0": "MESQUITA / RJ"
                                },
                                {
                                    "0": "MESSIAS TARGINO / RN"
                                },
                                {
                                    "0": "MIGUEL CALMON / BA"
                                },
                                {
                                    "0": "MIGUEL PEREIRA / RJ"
                                },
                                {
                                    "0": "MIGUELOPOLIS / SP"
                                },
                                {
                                    "0": "MILAGRES / BA"
                                },
                                {
                                    "0": "MILAGRES / CE"
                                },
                                {
                                    "0": "MILHA / CE"
                                },
                                {
                                    "0": "MIMOSO DE GOIAS / GO"
                                },
                                {
                                    "0": "MIMOSO DO SUL / ES"
                                },
                                {
                                    "0": "MINACU / GO"
                                },
                                {
                                    "0": "MINAS DO LEAO / RS"
                                },
                                {
                                    "0": "MINAS NOVAS / MG"
                                },
                                {
                                    "0": "MINDURI / MG"
                                },
                                {
                                    "0": "MINEIROS / GO"
                                },
                                {
                                    "0": "MINEIROS DO TIETE / SP"
                                },
                                {
                                    "0": "MINISTRO ANDREAZZA / RO"
                                },
                                {
                                    "0": "MIRA ESTRELA / SP"
                                },
                                {
                                    "0": "MIRACATU / SP"
                                },
                                {
                                    "0": "MIRACEMA / RJ"
                                },
                                {
                                    "0": "MIRADOURO / MG"
                                },
                                {
                                    "0": "MIRAGUAI / RS"
                                },
                                {
                                    "0": "MIRAI / MG"
                                },
                                {
                                    "0": "MIRAIMA / CE"
                                },
                                {
                                    "0": "MIRANDA / MS"
                                },
                                {
                                    "0": "MIRANDA DO NORTE / MA"
                                },
                                {
                                    "0": "MIRANDIBA / PE"
                                },
                                {
                                    "0": "MIRANDOPOLIS / SP"
                                },
                                {
                                    "0": "MIRANORTE / TO"
                                },
                                {
                                    "0": "MIRANTE DA SERRA / RO"
                                },
                                {
                                    "0": "MIRANTE DO PARANAPANEMA / SP"
                                },
                                {
                                    "0": "MIRASSOL / SP"
                                },
                                {
                                    "0": "MIRASSOL D'OESTE / MT"
                                },
                                {
                                    "0": "MIRAVANIA / MG"
                                },
                                {
                                    "0": "MIRINZAL / MA"
                                },
                                {
                                    "0": "MISSAL / PR"
                                },
                                {
                                    "0": "MISSAO VELHA / CE"
                                },
                                {
                                    "0": "MISSI / CE"
                                },
                                {
                                    "0": "MOCAJUBA / PA"
                                },
                                {
                                    "0": "MOCOCA / SP"
                                },
                                {
                                    "0": "MOEDA / MG"
                                },
                                {
                                    "0": "MOEMA / MG"
                                },
                                {
                                    "0": "MOGI DAS CRUZES / SP"
                                },
                                {
                                    "0": "MOGI MIRIM / SP"
                                },
                                {
                                    "0": "MOGI-GUACU / SP"
                                },
                                {
                                    "0": "MOGI-MIRIM / SP"
                                },
                                {
                                    "0": "MOJU / PA"
                                },
                                {
                                    "0": "MOJUI DOS CAMPOS / PA"
                                },
                                {
                                    "0": "MOMBACA / CE"
                                },
                                {
                                    "0": "MOMBUCA / SP"
                                },
                                {
                                    "0": "MONCAO / MA"
                                },
                                {
                                    "0": "MONCOES / SP"
                                },
                                {
                                    "0": "MONDAI / SC"
                                },
                                {
                                    "0": "MONGAGUA / SP"
                                },
                                {
                                    "0": "MONNERAT / RJ"
                                },
                                {
                                    "0": "MONSENHOR PAULO / MG"
                                },
                                {
                                    "0": "MONSENHOR TABOSA / CE"
                                },
                                {
                                    "0": "MONTADAS / PB"
                                },
                                {
                                    "0": "MONTALVANIA / MG"
                                },
                                {
                                    "0": "MONTANHA / ES"
                                },
                                {
                                    "0": "MONTANHAS / RN"
                                },
                                {
                                    "0": "MONTAURI / RS"
                                },
                                {
                                    "0": "MONTE ALEGRE / PA"
                                },
                                {
                                    "0": "MONTE ALEGRE / RN"
                                },
                                {
                                    "0": "MONTE ALEGRE DE MINAS / MG"
                                },
                                {
                                    "0": "MONTE ALEGRE DE SERGIPE / SE"
                                },
                                {
                                    "0": "MONTE ALEGRE DO SUL / SP"
                                },
                                {
                                    "0": "MONTE ALTO / SP"
                                },
                                {
                                    "0": "MONTE ALVERNE / RS"
                                },
                                {
                                    "0": "MONTE APRAZIVEL / SP"
                                },
                                {
                                    "0": "MONTE AZUL / MG"
                                },
                                {
                                    "0": "MONTE AZUL PAULISTA / SP"
                                },
                                {
                                    "0": "MONTE BELO / MG"
                                },
                                {
                                    "0": "MONTE BELO DO SUL / RS"
                                },
                                {
                                    "0": "MONTE BONITO / RS"
                                },
                                {
                                    "0": "MONTE CARLO / SC"
                                },
                                {
                                    "0": "MONTE CARMELO / MG"
                                },
                                {
                                    "0": "MONTE CASTELO / SC"
                                },
                                {
                                    "0": "MONTE CASTELO / SP"
                                },
                                {
                                    "0": "MONTE FORMOSO / MG"
                                },
                                {
                                    "0": "MONTE GORDO / BA"
                                },
                                {
                                    "0": "MONTE MOR / SP"
                                },
                                {
                                    "0": "MONTE SANTO / BA"
                                },
                                {
                                    "0": "MONTE SANTO DE MINAS / MG"
                                },
                                {
                                    "0": "MONTE SIAO / MG"
                                },
                                {
                                    "0": "MONTE VERDE / MG"
                                },
                                {
                                    "0": "MONTEIRO LOBATO / SP"
                                },
                                {
                                    "0": "MONTEIROPOLIS / AL"
                                },
                                {
                                    "0": "MONTENEGRO / RS"
                                },
                                {
                                    "0": "MONTES CLAROS / MG"
                                },
                                {
                                    "0": "MONTEZUMA / MG"
                                },
                                {
                                    "0": "MONTIVIDIU DO NORTE / GO"
                                },
                                {
                                    "0": "MORADA NOVA / CE"
                                },
                                {
                                    "0": "MORADA NOVA / PA"
                                },
                                {
                                    "0": "MORADA NOVA DE MINAS / MG"
                                },
                                {
                                    "0": "MOREILANDIA / PE"
                                },
                                {
                                    "0": "MOREIRA SALES / PR"
                                },
                                {
                                    "0": "MORENO / PE"
                                },
                                {
                                    "0": "MORPARA / BA"
                                },
                                {
                                    "0": "MORRETES / PR"
                                },
                                {
                                    "0": "MORRINHOS / CE"
                                },
                                {
                                    "0": "MORRINHOS / GO"
                                },
                                {
                                    "0": "MORRO AGUDO / SP"
                                },
                                {
                                    "0": "MORRO AGUDO DE GOIAS / GO"
                                },
                                {
                                    "0": "MORRO DA FUMACA / SC"
                                },
                                {
                                    "0": "MORRO DA GARCA / MG"
                                },
                                {
                                    "0": "MORRO DE SAO PAULO / BA"
                                },
                                {
                                    "0": "MORRO DO CHAPEU / BA"
                                },
                                {
                                    "0": "MORRO DO FERRO / MG"
                                },
                                {
                                    "0": "MORRO DO PILAR / MG"
                                },
                                {
                                    "0": "MORRO GRANDE / SC"
                                },
                                {
                                    "0": "MORRO REDONDO / RS"
                                },
                                {
                                    "0": "MORRO REUTER / RS"
                                },
                                {
                                    "0": "MORRO VERMELHO / MG"
                                },
                                {
                                    "0": "MORUNGABA / SP"
                                },
                                {
                                    "0": "MOSSAMEDES / GO"
                                },
                                {
                                    "0": "MOSSORO / RN"
                                },
                                {
                                    "0": "MOSTARDAS / RS"
                                },
                                {
                                    "0": "MOTUCA / SP"
                                },
                                {
                                    "0": "MOZARLANDIA / GO"
                                },
                                {
                                    "0": "MUCAMBO / CE"
                                },
                                {
                                    "0": "MUCUGE / BA"
                                },
                                {
                                    "0": "MUCURI / BA"
                                },
                                {
                                    "0": "MUCURICI / ES"
                                },
                                {
                                    "0": "MULITERNO / RS"
                                },
                                {
                                    "0": "MUNDO NOVO / BA"
                                },
                                {
                                    "0": "MUNDO NOVO / GO"
                                },
                                {
                                    "0": "MUNDO NOVO / MS"
                                },
                                {
                                    "0": "MUNHOZ / MG"
                                },
                                {
                                    "0": "MUNHOZ DE MELO / PR"
                                },
                                {
                                    "0": "MUNIZ FREIRE / ES"
                                },
                                {
                                    "0": "MUQUEM DO SAO FRANCISCO / BA"
                                },
                                {
                                    "0": "MUQUI / ES"
                                },
                                {
                                    "0": "MURIAE / MG"
                                },
                                {
                                    "0": "MURICI / AL"
                                },
                                {
                                    "0": "MURITIBA / BA"
                                },
                                {
                                    "0": "MURUCUPI / PA"
                                },
                                {
                                    "0": "MURUTINGA DO SUL / SP"
                                },
                                {
                                    "0": "MUSSUREPE / RJ"
                                },
                                {
                                    "0": "MUTUIPE / BA"
                                },
                                {
                                    "0": "MUTUM / MG"
                                },
                                {
                                    "0": "MUTUM PARANA / RO"
                                },
                                {
                                    "0": "MUTUNOPOLIS / GO"
                                },
                                {
                                    "0": "MUZAMBINHO / MG"
                                },
                                {
                                    "0": "NACIP RAYDAN / MG"
                                },
                                {
                                    "0": "NANTES / SP"
                                },
                                {
                                    "0": "NANUQUE / MG"
                                },
                                {
                                    "0": "NAO-ME-TOQUE / RS"
                                },
                                {
                                    "0": "NARANDIBA / SP"
                                },
                                {
                                    "0": "NATAL / RN"
                                },
                                {
                                    "0": "NATERCIA / MG"
                                },
                                {
                                    "0": "NATIVIDADE / RJ"
                                },
                                {
                                    "0": "NATIVIDADE / TO"
                                },
                                {
                                    "0": "NATIVIDADE DA SERRA / SP"
                                },
                                {
                                    "0": "NAVEGANTES / SC"
                                },
                                {
                                    "0": "NAVIRAI / MS"
                                },
                                {
                                    "0": "NAZARE / BA"
                                },
                                {
                                    "0": "NAZARE DA MATA / PE"
                                },
                                {
                                    "0": "NAZARE PAULISTA / SP"
                                },
                                {
                                    "0": "NAZARENO / MG"
                                },
                                {
                                    "0": "NAZARIO / GO"
                                },
                                {
                                    "0": "NEOPOLIS / SE"
                                },
                                {
                                    "0": "NEPOMUCENO / MG"
                                },
                                {
                                    "0": "NEROPOLIS / GO"
                                },
                                {
                                    "0": "NEVES PAULISTA / SP"
                                },
                                {
                                    "0": "NHANDEARA / SP"
                                },
                                {
                                    "0": "NILOPOLIS / RJ"
                                },
                                {
                                    "0": "NIPOA / SP"
                                },
                                {
                                    "0": "NIQUELANDIA / GO"
                                },
                                {
                                    "0": "NITEROI / RJ"
                                },
                                {
                                    "0": "NOBRES / MT"
                                },
                                {
                                    "0": "NONOAI / RS"
                                },
                                {
                                    "0": "NORTELANDIA / MT"
                                },
                                {
                                    "0": "NOSSA SENHORA DA GLORIA / SE"
                                },
                                {
                                    "0": "NOSSA SENHORA DAS DORES / SE"
                                },
                                {
                                    "0": "NOSSA SENHORA DAS GRACAS / PR"
                                },
                                {
                                    "0": "NOSSA SENHORA DE CARAVAGGIO / SC"
                                },
                                {
                                    "0": "NOSSA SENHORA DE LOURDES / SE"
                                },
                                {
                                    "0": "NOSSA SENHORA DO O / PE"
                                },
                                {
                                    "0": "NOSSA SENHORA DO REMEDIO / SP"
                                },
                                {
                                    "0": "NOSSA SENHORA DO SOCORRO / SE"
                                },
                                {
                                    "0": "NOVA ALVORADA / RS"
                                },
                                {
                                    "0": "NOVA ALVORADA DO SUL / MS"
                                },
                                {
                                    "0": "NOVA AMERICA / GO"
                                },
                                {
                                    "0": "NOVA AMERICA DA COLINA / PR"
                                },
                                {
                                    "0": "NOVA ANDRADINA / MS"
                                },
                                {
                                    "0": "NOVA ARACA / RS"
                                },
                                {
                                    "0": "NOVA AURORA / GO"
                                },
                                {
                                    "0": "NOVA AURORA / PR"
                                },
                                {
                                    "0": "NOVA BANDEIRANTES / MT"
                                },
                                {
                                    "0": "NOVA BASSANO / RS"
                                },
                                {
                                    "0": "NOVA BOA VISTA / RS"
                                },
                                {
                                    "0": "NOVA BRASILANDIA D'OESTE / RO"
                                },
                                {
                                    "0": "NOVA BRESCIA / RS"
                                },
                                {
                                    "0": "NOVA CAMPINA / SP"
                                },
                                {
                                    "0": "NOVA CANAA / BA"
                                },
                                {
                                    "0": "NOVA CANAA DO NORTE / MT"
                                },
                                {
                                    "0": "NOVA CANAA PAULISTA / SP"
                                },
                                {
                                    "0": "NOVA CANTU / PR"
                                },
                                {
                                    "0": "NOVA CRIXAS / GO"
                                },
                                {
                                    "0": "NOVA CRUZ / RN"
                                },
                                {
                                    "0": "NOVA ERA / MG"
                                },
                                {
                                    "0": "NOVA ERECHIM / SC"
                                },
                                {
                                    "0": "NOVA ESPERANCA / PR"
                                },
                                {
                                    "0": "NOVA ESPERANCA DO PIRIA / PA"
                                },
                                {
                                    "0": "NOVA ESPERANCA DO SUDOESTE / PR"
                                },
                                {
                                    "0": "NOVA ESPERANCA DO SUL / RS"
                                },
                                {
                                    "0": "NOVA EUROPA / SP"
                                },
                                {
                                    "0": "NOVA FATIMA / BA"
                                },
                                {
                                    "0": "NOVA FATIMA / PR"
                                },
                                {
                                    "0": "NOVA FLORESTA / PB"
                                },
                                {
                                    "0": "NOVA FRIBURGO / RJ"
                                },
                                {
                                    "0": "NOVA GRANADA / SP"
                                },
                                {
                                    "0": "NOVA GUARITA / MT"
                                },
                                {
                                    "0": "NOVA GUATAPORANGA / SP"
                                },
                                {
                                    "0": "NOVA HARTZ / RS"
                                },
                                {
                                    "0": "NOVA IGUACU / RJ"
                                },
                                {
                                    "0": "NOVA INDEPENDENCIA / SP"
                                },
                                {
                                    "0": "NOVA IPIXUNA / PA"
                                },
                                {
                                    "0": "NOVA ITABERABA / SC"
                                },
                                {
                                    "0": "NOVA LACERDA / MT"
                                },
                                {
                                    "0": "NOVA LARANJEIRAS / PR"
                                },
                                {
                                    "0": "NOVA LIMA / MG"
                                },
                                {
                                    "0": "NOVA LONDRINA / PR"
                                },
                                {
                                    "0": "NOVA LUZITANIA / SP"
                                },
                                {
                                    "0": "NOVA MAMORE / RO"
                                },
                                {
                                    "0": "NOVA MONTE VERDE / MT"
                                },
                                {
                                    "0": "NOVA MUTUM / MT"
                                },
                                {
                                    "0": "NOVA ODESSA / SP"
                                },
                                {
                                    "0": "NOVA OLIMPIA / MT"
                                },
                                {
                                    "0": "NOVA OLINDA / CE"
                                },
                                {
                                    "0": "NOVA OLINDA / TO"
                                },
                                {
                                    "0": "NOVA OLINDA DO MARANHAO / MA"
                                },
                                {
                                    "0": "NOVA PADUA / RS"
                                },
                                {
                                    "0": "NOVA PALMA / RS"
                                },
                                {
                                    "0": "NOVA PETROPOLIS / RS"
                                },
                                {
                                    "0": "NOVA PONTE / MG"
                                },
                                {
                                    "0": "NOVA PRATA / RS"
                                },
                                {
                                    "0": "NOVA PRATA DO IGUACU / PR"
                                },
                                {
                                    "0": "NOVA REDENCAO / BA"
                                },
                                {
                                    "0": "NOVA RESENDE / MG"
                                },
                                {
                                    "0": "NOVA ROMA / GO"
                                },
                                {
                                    "0": "NOVA ROMA DO SUL / RS"
                                },
                                {
                                    "0": "NOVA RUSSAS / CE"
                                },
                                {
                                    "0": "NOVA SANTA BARBARA / PR"
                                },
                                {
                                    "0": "NOVA SANTA RITA / PI"
                                },
                                {
                                    "0": "NOVA SANTA RITA / RS"
                                },
                                {
                                    "0": "NOVA SANTA ROSA / PR"
                                },
                                {
                                    "0": "NOVA SERRANA / MG"
                                },
                                {
                                    "0": "NOVA SOURE / BA"
                                },
                                {
                                    "0": "NOVA TIMBOTEUA / PA"
                                },
                                {
                                    "0": "NOVA TRENTO / SC"
                                },
                                {
                                    "0": "NOVA UBIRATA / MT"
                                },
                                {
                                    "0": "NOVA VENECIA / ES"
                                },
                                {
                                    "0": "NOVA VENEZA / GO"
                                },
                                {
                                    "0": "NOVA VENEZA / SC"
                                },
                                {
                                    "0": "NOVA VICOSA / BA"
                                },
                                {
                                    "0": "NOVA XAVANTINA / MT"
                                },
                                {
                                    "0": "NOVAIS / SP"
                                },
                                {
                                    "0": "NOVO ALEGRE / TO"
                                },
                                {
                                    "0": "NOVO BARREIRO / RS"
                                },
                                {
                                    "0": "NOVO BRASIL / ES"
                                },
                                {
                                    "0": "NOVO CABRAIS / RS"
                                },
                                {
                                    "0": "NOVO CRUZEIRO / MG"
                                },
                                {
                                    "0": "NOVO GAMA / GO"
                                },
                                {
                                    "0": "NOVO HAMBURGO / RS"
                                },
                                {
                                    "0": "NOVO HORIZONTE / SC"
                                },
                                {
                                    "0": "NOVO HORIZONTE / SP"
                                },
                                {
                                    "0": "NOVO ITACOLOMI / PR"
                                },
                                {
                                    "0": "NOVO JARDIM / TO"
                                },
                                {
                                    "0": "NOVO LINO / AL"
                                },
                                {
                                    "0": "NOVO MACHADO / RS"
                                },
                                {
                                    "0": "NOVO MUNDO / MT"
                                },
                                {
                                    "0": "NOVO ORIENTE / CE"
                                },
                                {
                                    "0": "NOVO ORIENTE DE MINAS / MG"
                                },
                                {
                                    "0": "NOVO ORIENTE DO PIAUI / PI"
                                },
                                {
                                    "0": "NOVO PLANALTO / GO"
                                },
                                {
                                    "0": "NOVO PROGRESSO / PA"
                                },
                                {
                                    "0": "NOVO REPARTIMENTO / PA"
                                },
                                {
                                    "0": "NOVO SAO JOAQUIM / MT"
                                },
                                {
                                    "0": "NUCLEO RESIDENCIAL PILAR / BA"
                                },
                                {
                                    "0": "NUPORANGA / SP"
                                },
                                {
                                    "0": "OCARA / CE"
                                },
                                {
                                    "0": "OCAUCU / SP"
                                },
                                {
                                    "0": "OEIRAS / PI"
                                },
                                {
                                    "0": "OEIRAS DO PARA / PA"
                                },
                                {
                                    "0": "OIAPOQUE / AP"
                                },
                                {
                                    "0": "OLARIA / MG"
                                },
                                {
                                    "0": "OLEO / SP"
                                },
                                {
                                    "0": "OLHO D'AGUA DAS CUNHAS / MA"
                                },
                                {
                                    "0": "OLHO D'AGUA DAS FLORES / AL"
                                },
                                {
                                    "0": "OLHOS D'AGUA / MG"
                                },
                                {
                                    "0": "OLIMPIA / SP"
                                },
                                {
                                    "0": "OLINDA / PE"
                                },
                                {
                                    "0": "OLINDINA / BA"
                                },
                                {
                                    "0": "OLIVEIRA / MG"
                                },
                                {
                                    "0": "OLIVEIRA DOS BREJINHOS / BA"
                                },
                                {
                                    "0": "ONDA VERDE / SP"
                                },
                                {
                                    "0": "ORIENTE / SP"
                                },
                                {
                                    "0": "ORINDIUVA / SP"
                                },
                                {
                                    "0": "ORIZANIA / MG"
                                },
                                {
                                    "0": "ORIZONA / GO"
                                },
                                {
                                    "0": "ORLANDIA / SP"
                                },
                                {
                                    "0": "ORLEANS / SC"
                                },
                                {
                                    "0": "OROBO / PE"
                                },
                                {
                                    "0": "OROCO / PE"
                                },
                                {
                                    "0": "OROS / CE"
                                },
                                {
                                    "0": "ORTIGUEIRA / PR"
                                },
                                {
                                    "0": "OSASCO / SP"
                                },
                                {
                                    "0": "OSCAR BRESSANE / SP"
                                },
                                {
                                    "0": "OSORIO / RS"
                                },
                                {
                                    "0": "OSVALDO CRUZ / SP"
                                },
                                {
                                    "0": "OSVALDO KROEFF / RS"
                                },
                                {
                                    "0": "OTACILIO COSTA / SC"
                                },
                                {
                                    "0": "OUREM / PA"
                                },
                                {
                                    "0": "OURICURI / PE"
                                },
                                {
                                    "0": "OURILANDIA DO NORTE / PA"
                                },
                                {
                                    "0": "OURINHOS / SP"
                                },
                                {
                                    "0": "OURIZONA / PR"
                                },
                                {
                                    "0": "OURO / SC"
                                },
                                {
                                    "0": "OURO BRANCO / MG"
                                },
                                {
                                    "0": "OURO FINO / MG"
                                },
                                {
                                    "0": "OURO PRETO / MG"
                                },
                                {
                                    "0": "OURO PRETO DO OESTE / RO"
                                },
                                {
                                    "0": "OURO VERDE / SP"
                                },
                                {
                                    "0": "OURO VERDE DE GOIAS / GO"
                                },
                                {
                                    "0": "OURO VERDE DE MINAS / MG"
                                },
                                {
                                    "0": "OURO VERDE DO OESTE / PR"
                                },
                                {
                                    "0": "OUROESTE / SP"
                                },
                                {
                                    "0": "OUVIDOR / GO"
                                },
                                {
                                    "0": "PACAEMBU / SP"
                                },
                                {
                                    "0": "PACAJA / PA"
                                },
                                {
                                    "0": "PACAJUS / CE"
                                },
                                {
                                    "0": "PACATUBA / CE"
                                },
                                {
                                    "0": "PACO DO LUMIAR / MA"
                                },
                                {
                                    "0": "PACOTI / CE"
                                },
                                {
                                    "0": "PACOTUBA / ES"
                                },
                                {
                                    "0": "PACUJA / CE"
                                },
                                {
                                    "0": "PADRE BERNARDO / GO"
                                },
                                {
                                    "0": "PADRE CARVALHO / MG"
                                },
                                {
                                    "0": "PADRE GONZALES / RS"
                                },
                                {
                                    "0": "PADRE PARAISO / MG"
                                },
                                {
                                    "0": "PAIAL / SC"
                                },
                                {
                                    "0": "PAICANDU / PR"
                                },
                                {
                                    "0": "PAINEIRAS / MG"
                                },
                                {
                                    "0": "PAINS / MG"
                                },
                                {
                                    "0": "PAIVA / MG"
                                },
                                {
                                    "0": "PALESTINA / SP"
                                },
                                {
                                    "0": "PALHANO / CE"
                                },
                                {
                                    "0": "PALHOCA / SC"
                                },
                                {
                                    "0": "PALMA / MG"
                                },
                                {
                                    "0": "PALMA SOLA / SC"
                                },
                                {
                                    "0": "PALMARES / PE"
                                },
                                {
                                    "0": "PALMARES DO SUL / RS"
                                },
                                {
                                    "0": "PALMARES PAULISTA / SP"
                                },
                                {
                                    "0": "PALMAS / PR"
                                },
                                {
                                    "0": "PALMAS / TO"
                                },
                                {
                                    "0": "PALMEIRA / PR"
                                },
                                {
                                    "0": "PALMEIRA / SC"
                                },
                                {
                                    "0": "PALMEIRA D OESTE / SP"
                                },
                                {
                                    "0": "PALMEIRA DAS MISSOES / RS"
                                },
                                {
                                    "0": "PALMEIRA D'OESTE / SP"
                                },
                                {
                                    "0": "PALMEIRA DOS INDIOS / AL"
                                },
                                {
                                    "0": "PALMEIRAS / BA"
                                },
                                {
                                    "0": "PALMEIRAS DE GOIAS / GO"
                                },
                                {
                                    "0": "PALMEIRINHA / PR"
                                },
                                {
                                    "0": "PALMINOPOLIS / GO"
                                },
                                {
                                    "0": "PALMITAL / PR"
                                },
                                {
                                    "0": "PALMITAL / SP"
                                },
                                {
                                    "0": "PALMITAL DE MINAS / MG"
                                },
                                {
                                    "0": "PALMITINHO / RS"
                                },
                                {
                                    "0": "PALMITOS / SC"
                                },
                                {
                                    "0": "PALMOPOLIS / MG"
                                },
                                {
                                    "0": "PALOTINA / PR"
                                },
                                {
                                    "0": "PANAMBI / RS"
                                },
                                {
                                    "0": "PANCAS / ES"
                                },
                                {
                                    "0": "PANELAS / PE"
                                },
                                {
                                    "0": "PANORAMA / SP"
                                },
                                {
                                    "0": "PANTANO GRANDE / RS"
                                },
                                {
                                    "0": "PAPAGAIOS / MG"
                                },
                                {
                                    "0": "PAPANDUVA / SC"
                                },
                                {
                                    "0": "PAPUCAIA / RJ"
                                },
                                {
                                    "0": "PARA DE MINAS / MG"
                                },
                                {
                                    "0": "PARACAMBI / RJ"
                                },
                                {
                                    "0": "PARACATU / MG"
                                },
                                {
                                    "0": "PARACURU / CE"
                                },
                                {
                                    "0": "PARAGOMINAS / PA"
                                },
                                {
                                    "0": "PARAGUACU / MG"
                                },
                                {
                                    "0": "PARAGUACU PAULISTA / SP"
                                },
                                {
                                    "0": "PARAI / RS"
                                },
                                {
                                    "0": "PARAIBA DO SUL / RJ"
                                },
                                {
                                    "0": "PARAIBANO / MA"
                                },
                                {
                                    "0": "PARAIBUNA / SP"
                                },
                                {
                                    "0": "PARAIPABA / CE"
                                },
                                {
                                    "0": "PARAISO / SC"
                                },
                                {
                                    "0": "PARAISO / SP"
                                },
                                {
                                    "0": "PARAISO DAS AGUAS / MS"
                                },
                                {
                                    "0": "PARAISO DO NORTE / PR"
                                },
                                {
                                    "0": "PARAISO DO SUL / RS"
                                },
                                {
                                    "0": "PARAISO DO TOCANTINS / TO"
                                },
                                {
                                    "0": "PARAISOPOLIS / MG"
                                },
                                {
                                    "0": "PARAJU / ES"
                                },
                                {
                                    "0": "PARAMBU / CE"
                                },
                                {
                                    "0": "PARAMIRIM / BA"
                                },
                                {
                                    "0": "PARANA / TO"
                                },
                                {
                                    "0": "PARANACITY / PR"
                                },
                                {
                                    "0": "PARANAGUA / PR"
                                },
                                {
                                    "0": "PARANAIBA / MS"
                                },
                                {
                                    "0": "PARANAIGUARA / GO"
                                },
                                {
                                    "0": "PARANAITA / MT"
                                },
                                {
                                    "0": "PARANAPANEMA / SP"
                                },
                                {
                                    "0": "PARANAPOEMA / PR"
                                },
                                {
                                    "0": "PARANAPUA / SP"
                                },
                                {
                                    "0": "PARANATINGA / MT"
                                },
                                {
                                    "0": "PARANAVAI / PR"
                                },
                                {
                                    "0": "PARANHOS / MS"
                                },
                                {
                                    "0": "PARAOPEBA / MG"
                                },
                                {
                                    "0": "PARAPUA / SP"
                                },
                                {
                                    "0": "PARATI / RJ"
                                },
                                {
                                    "0": "PARATY / RJ"
                                },
                                {
                                    "0": "PARAUAPEBAS / PA"
                                },
                                {
                                    "0": "PARAUNA / GO"
                                },
                                {
                                    "0": "PARDINHO / SP"
                                },
                                {
                                    "0": "PARECI NOVO / RS"
                                },
                                {
                                    "0": "PARELHAS / RN"
                                },
                                {
                                    "0": "PARIPIRANGA / BA"
                                },
                                {
                                    "0": "PARIPUEIRA / AL"
                                },
                                {
                                    "0": "PARIQUERA-ACU / SP"
                                },
                                {
                                    "0": "PARISI / SP"
                                },
                                {
                                    "0": "PARNAIBA / PI"
                                },
                                {
                                    "0": "PARNAMIRIM / PE"
                                },
                                {
                                    "0": "PARNAMIRIM / RN"
                                },
                                {
                                    "0": "PARNARAMA / MA"
                                },
                                {
                                    "0": "PAROBE / RS"
                                },
                                {
                                    "0": "PASSA QUATRO / MG"
                                },
                                {
                                    "0": "PASSA TEMPO / MG"
                                },
                                {
                                    "0": "PASSA TRES / RJ"
                                },
                                {
                                    "0": "PASSAGEM / PB"
                                },
                                {
                                    "0": "PASSAGEM FRANCA / MA"
                                },
                                {
                                    "0": "PASSIRA / PE"
                                },
                                {
                                    "0": "PASSO DE CAMARAGIBE / AL"
                                },
                                {
                                    "0": "PASSO DE TORRES / SC"
                                },
                                {
                                    "0": "PASSO FUNDO / RS"
                                },
                                {
                                    "0": "PASSOS / MG"
                                },
                                {
                                    "0": "PASSOS MAIA / SC"
                                },
                                {
                                    "0": "PASTOS BONS / MA"
                                },
                                {
                                    "0": "PATIS / MG"
                                },
                                {
                                    "0": "PATO BRAGADO / PR"
                                },
                                {
                                    "0": "PATO BRANCO / PR"
                                },
                                {
                                    "0": "PATOS / PB"
                                },
                                {
                                    "0": "PATOS DE MINAS / MG"
                                },
                                {
                                    "0": "PATROCINIO / MG"
                                },
                                {
                                    "0": "PATROCINIO DO MURIAE / MG"
                                },
                                {
                                    "0": "PATROCINIO PAULISTA / SP"
                                },
                                {
                                    "0": "PATU / RN"
                                },
                                {
                                    "0": "PATY DO ALFERES / RJ"
                                },
                                {
                                    "0": "PAU BRASIL / BA"
                                },
                                {
                                    "0": "PAU D'ARCO / AL"
                                },
                                {
                                    "0": "PAU D'ARCO / PA"
                                },
                                {
                                    "0": "PAU DOS FERROS / RN"
                                },
                                {
                                    "0": "PAUDALHO / PE"
                                },
                                {
                                    "0": "PAULA CANDIDO / MG"
                                },
                                {
                                    "0": "PAULA FREITAS / PR"
                                },
                                {
                                    "0": "PAULICEIA / SP"
                                },
                                {
                                    "0": "PAULINIA / SP"
                                },
                                {
                                    "0": "PAULINO NEVES / MA"
                                },
                                {
                                    "0": "PAULISTA / PB"
                                },
                                {
                                    "0": "PAULISTA / PE"
                                },
                                {
                                    "0": "PAULISTANA / PI"
                                },
                                {
                                    "0": "PAULISTANIA / SP"
                                },
                                {
                                    "0": "PAULO AFONSO / BA"
                                },
                                {
                                    "0": "PAULO DE FARIA / SP"
                                },
                                {
                                    "0": "PAULO FRONTIN / PR"
                                },
                                {
                                    "0": "PAULO JACINTO / AL"
                                },
                                {
                                    "0": "PAULO LOPES / SC"
                                },
                                {
                                    "0": "PAVAO / MG"
                                },
                                {
                                    "0": "PEABIRU / PR"
                                },
                                {
                                    "0": "PECANHA / MG"
                                },
                                {
                                    "0": "PEDERNEIRAS / SP"
                                },
                                {
                                    "0": "PEDRA / PE"
                                },
                                {
                                    "0": "PEDRA AZUL / MG"
                                },
                                {
                                    "0": "PEDRA BELA / SP"
                                },
                                {
                                    "0": "PEDRA BRANCA / CE"
                                },
                                {
                                    "0": "PEDRA BRANCA / PB"
                                },
                                {
                                    "0": "PEDRA DO INDAIA / MG"
                                },
                                {
                                    "0": "PEDRA LAVRADA / PB"
                                },
                                {
                                    "0": "PEDRA MENINA / MG"
                                },
                                {
                                    "0": "PEDRA PRETA / MT"
                                },
                                {
                                    "0": "PEDRA PRETA / RN"
                                },
                                {
                                    "0": "PEDRALVA / MG"
                                },
                                {
                                    "0": "PEDRANOPOLIS / SP"
                                },
                                {
                                    "0": "PEDRAO / BA"
                                },
                                {
                                    "0": "PEDRAS ALTAS / RS"
                                },
                                {
                                    "0": "PEDRAS DE FOGO / PB"
                                },
                                {
                                    "0": "PEDREGULHO / SP"
                                },
                                {
                                    "0": "PEDREIRA / SP"
                                },
                                {
                                    "0": "PEDREIRAS / MA"
                                },
                                {
                                    "0": "PEDRINHAS PAULISTA / SP"
                                },
                                {
                                    "0": "PEDRINOPOLIS / MG"
                                },
                                {
                                    "0": "PEDRO AFONSO / TO"
                                },
                                {
                                    "0": "PEDRO CANARIO / ES"
                                },
                                {
                                    "0": "PEDRO DE TOLEDO / SP"
                                },
                                {
                                    "0": "PEDRO GOMES / MS"
                                },
                                {
                                    "0": "PEDRO II / PI"
                                },
                                {
                                    "0": "PEDRO LEOPOLDO / MG"
                                },
                                {
                                    "0": "PEDRO OSORIO / RS"
                                },
                                {
                                    "0": "PEDRO VELHO / RN"
                                },
                                {
                                    "0": "PEIXE / TO"
                                },
                                {
                                    "0": "PEIXOTO DE AZEVEDO / MT"
                                },
                                {
                                    "0": "PEJUCARA / RS"
                                },
                                {
                                    "0": "PELOTAS / RS"
                                },
                                {
                                    "0": "PENAFORTE / CE"
                                },
                                {
                                    "0": "PENAPOLIS / SP"
                                },
                                {
                                    "0": "PENDENCIAS / RN"
                                },
                                {
                                    "0": "PENEDO / AL"
                                },
                                {
                                    "0": "PENEDO / RJ"
                                },
                                {
                                    "0": "PENHA / SC"
                                },
                                {
                                    "0": "PENTECOSTE / CE"
                                },
                                {
                                    "0": "PEQUI / MG"
                                },
                                {
                                    "0": "PEQUIZEIRO / TO"
                                },
                                {
                                    "0": "PERDIGAO / MG"
                                },
                                {
                                    "0": "PERDIZES / MG"
                                },
                                {
                                    "0": "PERDOES / MG"
                                },
                                {
                                    "0": "PEREIRA BARRETO / SP"
                                },
                                {
                                    "0": "PEREIRAS / SP"
                                },
                                {
                                    "0": "PEREIRO / CE"
                                },
                                {
                                    "0": "PERI MIRIM / MA"
                                },
                                {
                                    "0": "PERIQUITO / MG"
                                },
                                {
                                    "0": "PERITIBA / SC"
                                },
                                {
                                    "0": "PEROBAL / PR"
                                },
                                {
                                    "0": "PEROLA / PR"
                                },
                                {
                                    "0": "PEROLA D'OESTE / PR"
                                },
                                {
                                    "0": "PEROLA INDEPENDENTE / PR"
                                },
                                {
                                    "0": "PERPETUO SOCORRO / MG"
                                },
                                {
                                    "0": "PERUIBE / SP"
                                },
                                {
                                    "0": "PESCADOR / MG"
                                },
                                {
                                    "0": "PESQUEIRA / PE"
                                },
                                {
                                    "0": "PETROLANDIA / PE"
                                },
                                {
                                    "0": "PETROLANDIA / SC"
                                },
                                {
                                    "0": "PETROLINA / PE"
                                },
                                {
                                    "0": "PETROPOLIS / RJ"
                                },
                                {
                                    "0": "PIACABUCU / AL"
                                },
                                {
                                    "0": "PIACATU / SP"
                                },
                                {
                                    "0": "PIACU / ES"
                                },
                                {
                                    "0": "PIANCO / PB"
                                },
                                {
                                    "0": "PIAO / RJ"
                                },
                                {
                                    "0": "PIATA / BA"
                                },
                                {
                                    "0": "PIAU / MG"
                                },
                                {
                                    "0": "PICADA CAFE / RS"
                                },
                                {
                                    "0": "PICARRA / PA"
                                },
                                {
                                    "0": "PICARRAS / SC"
                                },
                                {
                                    "0": "PICOS / PI"
                                },
                                {
                                    "0": "PICUI / PB"
                                },
                                {
                                    "0": "PIEDADE / SP"
                                },
                                {
                                    "0": "PIEDADE DE CARATINGA / MG"
                                },
                                {
                                    "0": "PIEDADE DO RIO GRANDE / MG"
                                },
                                {
                                    "0": "PIEDADE DOS GERAIS / MG"
                                },
                                {
                                    "0": "PIEN / PR"
                                },
                                {
                                    "0": "PILAO ARCADO / BA"
                                },
                                {
                                    "0": "PILAR / AL"
                                },
                                {
                                    "0": "PILAR / PB"
                                },
                                {
                                    "0": "PILAR DO SUL / SP"
                                },
                                {
                                    "0": "PIMENTA / MG"
                                },
                                {
                                    "0": "PIMENTA BUENO / RO"
                                },
                                {
                                    "0": "PIMENTEIRAS / PI"
                                },
                                {
                                    "0": "PINDAI / BA"
                                },
                                {
                                    "0": "PINDAMONHANGABA / SP"
                                },
                                {
                                    "0": "PINDARE MIRIM / MA"
                                },
                                {
                                    "0": "PINDOBA / AL"
                                },
                                {
                                    "0": "PINDOBACU / BA"
                                },
                                {
                                    "0": "PINDORAMA / SP"
                                },
                                {
                                    "0": "PINDORAMA DO TOCANTINS / TO"
                                },
                                {
                                    "0": "PINDORETAMA / CE"
                                },
                                {
                                    "0": "PINGO-D'AGUA / MG"
                                },
                                {
                                    "0": "PINHAIS / PR"
                                },
                                {
                                    "0": "PINHAL DA SERRA / RS"
                                },
                                {
                                    "0": "PINHALAO / PR"
                                },
                                {
                                    "0": "PINHALZINHO / SC"
                                },
                                {
                                    "0": "PINHALZINHO / SP"
                                },
                                {
                                    "0": "PINHAO / PR"
                                },
                                {
                                    "0": "PINHAO / SE"
                                },
                                {
                                    "0": "PINHEIRAL / RJ"
                                },
                                {
                                    "0": "PINHEIRO / MA"
                                },
                                {
                                    "0": "PINHEIRO MACHADO / RS"
                                },
                                {
                                    "0": "PINHEIROS / ES"
                                },
                                {
                                    "0": "PINHEIROS / SP"
                                },
                                {
                                    "0": "PINHOTIBA / MG"
                                },
                                {
                                    "0": "PINTADAS / BA"
                                },
                                {
                                    "0": "PINTO BANDEIRA / RS"
                                },
                                {
                                    "0": "PIO IX / PI"
                                },
                                {
                                    "0": "PIO XII / MA"
                                },
                                {
                                    "0": "PIQUEROBI / SP"
                                },
                                {
                                    "0": "PIQUETE / SP"
                                },
                                {
                                    "0": "PIRACAIA / SP"
                                },
                                {
                                    "0": "PIRACANJUBA / GO"
                                },
                                {
                                    "0": "PIRACEMA / MG"
                                },
                                {
                                    "0": "PIRACICABA / SP"
                                },
                                {
                                    "0": "PIRACURUCA / PI"
                                },
                                {
                                    "0": "PIRAI / RJ"
                                },
                                {
                                    "0": "PIRAI DO NORTE / BA"
                                },
                                {
                                    "0": "PIRAI DO SUL / PR"
                                },
                                {
                                    "0": "PIRAJU / SP"
                                },
                                {
                                    "0": "PIRAJUBA / MG"
                                },
                                {
                                    "0": "PIRAJUI / SP"
                                },
                                {
                                    "0": "PIRAMBU / SE"
                                },
                                {
                                    "0": "PIRANGA / MG"
                                },
                                {
                                    "0": "PIRANGI / SP"
                                },
                                {
                                    "0": "PIRANGUINHO / MG"
                                },
                                {
                                    "0": "PIRANHAS / GO"
                                },
                                {
                                    "0": "PIRAPEMAS / MA"
                                },
                                {
                                    "0": "PIRAPETINGA / MG"
                                },
                                {
                                    "0": "PIRAPO / PR"
                                },
                                {
                                    "0": "PIRAPORA / MG"
                                },
                                {
                                    "0": "PIRAPORA DO BOM JESUS / SP"
                                },
                                {
                                    "0": "PIRAPOZINHO / SP"
                                },
                                {
                                    "0": "PIRAQUARA / PR"
                                },
                                {
                                    "0": "PIRASSUNUNGA / SP"
                                },
                                {
                                    "0": "PIRATINI / RS"
                                },
                                {
                                    "0": "PIRATININGA / SP"
                                },
                                {
                                    "0": "PIRATUBA / SC"
                                },
                                {
                                    "0": "PIRAUBA / MG"
                                },
                                {
                                    "0": "PIRENOPOLIS / GO"
                                },
                                {
                                    "0": "PIRES DO RIO / GO"
                                },
                                {
                                    "0": "PIRES FERREIRA / CE"
                                },
                                {
                                    "0": "PIRIPA / BA"
                                },
                                {
                                    "0": "PIRIPIRI / PI"
                                },
                                {
                                    "0": "PIRITIBA / BA"
                                },
                                {
                                    "0": "PIRPIRITUBA / PB"
                                },
                                {
                                    "0": "PITANGA / PR"
                                },
                                {
                                    "0": "PITANGA DE ESTRADA / PB"
                                },
                                {
                                    "0": "PITANGUEIRAS / SP"
                                },
                                {
                                    "0": "PITANGUI / MG"
                                },
                                {
                                    "0": "PITIMBU / PB"
                                },
                                {
                                    "0": "PIUM / TO"
                                },
                                {
                                    "0": "PIUMA / ES"
                                },
                                {
                                    "0": "PIUMHI / MG"
                                },
                                {
                                    "0": "PIUMHII / MG"
                                },
                                {
                                    "0": "PLACAS / PA"
                                },
                                {
                                    "0": "PLANALTINA / GO"
                                },
                                {
                                    "0": "PLANALTINA DE GOIAS / GO"
                                },
                                {
                                    "0": "PLANALTINA DO PARANA / PR"
                                },
                                {
                                    "0": "PLANALTINO / BA"
                                },
                                {
                                    "0": "PLANALTO / BA"
                                },
                                {
                                    "0": "PLANALTO / PR"
                                },
                                {
                                    "0": "PLANALTO / RS"
                                },
                                {
                                    "0": "PLANALTO / SP"
                                },
                                {
                                    "0": "PLANURA / MG"
                                },
                                {
                                    "0": "POA / SP"
                                },
                                {
                                    "0": "POCAO / PE"
                                },
                                {
                                    "0": "POCAO DE PEDRAS / MA"
                                },
                                {
                                    "0": "POCINHOS / PB"
                                },
                                {
                                    "0": "POCO DE PEDRA / RN"
                                },
                                {
                                    "0": "POCO FUNDO / MG"
                                },
                                {
                                    "0": "POCO REDONDO / SE"
                                },
                                {
                                    "0": "POCO VERDE / SE"
                                },
                                {
                                    "0": "POCOES / BA"
                                },
                                {
                                    "0": "POCOES DE PAINEIRAS / MG"
                                },
                                {
                                    "0": "POCOS DE CALDAS / MG"
                                },
                                {
                                    "0": "POCRANE / MG"
                                },
                                {
                                    "0": "POJUCA / BA"
                                },
                                {
                                    "0": "POLO PETROQUIMICO DE TRIUNFO / RS"
                                },
                                {
                                    "0": "POLONI / SP"
                                },
                                {
                                    "0": "POMBAL / PB"
                                },
                                {
                                    "0": "POMBOS / PE"
                                },
                                {
                                    "0": "POMERODE / SC"
                                },
                                {
                                    "0": "POMPEIA / SP"
                                },
                                {
                                    "0": "POMPEU / MG"
                                },
                                {
                                    "0": "PONGAI / SP"
                                },
                                {
                                    "0": "PONTA GROSSA / PR"
                                },
                                {
                                    "0": "PONTA PORA / MS"
                                },
                                {
                                    "0": "PONTAL / SP"
                                },
                                {
                                    "0": "PONTAL DO PARANA / PR"
                                },
                                {
                                    "0": "PONTALINA / GO"
                                },
                                {
                                    "0": "PONTALINDA / SP"
                                },
                                {
                                    "0": "PONTAO / RS"
                                },
                                {
                                    "0": "PONTE ALTA DO NORTE / SC"
                                },
                                {
                                    "0": "PONTE NOVA / MG"
                                },
                                {
                                    "0": "PONTE SERRADA / SC"
                                },
                                {
                                    "0": "PONTES E LACERDA / MT"
                                },
                                {
                                    "0": "PONTES GESTAL / SP"
                                },
                                {
                                    "0": "PONTO BELO / ES"
                                },
                                {
                                    "0": "PONTO DO MARAMBAIA / MG"
                                },
                                {
                                    "0": "PONTO DOS VOLANTES / MG"
                                },
                                {
                                    "0": "PONTO NOVO / BA"
                                },
                                {
                                    "0": "POPULINA / SP"
                                },
                                {
                                    "0": "PORANGABA / SP"
                                },
                                {
                                    "0": "PORANGATU / GO"
                                },
                                {
                                    "0": "PORCIUNCULA / RJ"
                                },
                                {
                                    "0": "PORECATU / PR"
                                },
                                {
                                    "0": "PORTALEGRE / RN"
                                },
                                {
                                    "0": "PORTAO / RS"
                                },
                                {
                                    "0": "PORTEIRAS / CE"
                                },
                                {
                                    "0": "PORTEIRINHA / MG"
                                },
                                {
                                    "0": "PORTELA / RJ"
                                },
                                {
                                    "0": "PORTELANDIA / GO"
                                },
                                {
                                    "0": "PORTO ACRE / AC"
                                },
                                {
                                    "0": "PORTO ALEGRE / RS"
                                },
                                {
                                    "0": "PORTO ALEGRE DO NORTE / MT"
                                },
                                {
                                    "0": "PORTO AMAZONAS / PR"
                                },
                                {
                                    "0": "PORTO BELO / SC"
                                },
                                {
                                    "0": "PORTO CALVO / AL"
                                },
                                {
                                    "0": "PORTO DE PEDRAS / AL"
                                },
                                {
                                    "0": "PORTO DOS GAUCHOS / MT"
                                },
                                {
                                    "0": "PORTO ESPERIDIAO / MT"
                                },
                                {
                                    "0": "PORTO ESTRELA / MT"
                                },
                                {
                                    "0": "PORTO FELIZ / SP"
                                },
                                {
                                    "0": "PORTO FERREIRA / SP"
                                },
                                {
                                    "0": "PORTO FIRME / MG"
                                },
                                {
                                    "0": "PORTO FRANCO / MA"
                                },
                                {
                                    "0": "PORTO GRANDE / AP"
                                },
                                {
                                    "0": "PORTO LUCENA / RS"
                                },
                                {
                                    "0": "PORTO MURTINHO / MS"
                                },
                                {
                                    "0": "PORTO NACIONAL / TO"
                                },
                                {
                                    "0": "PORTO REAL / RJ"
                                },
                                {
                                    "0": "PORTO RICO / PR"
                                },
                                {
                                    "0": "PORTO SEGURO / BA"
                                },
                                {
                                    "0": "PORTO TROMBETAS / PA"
                                },
                                {
                                    "0": "PORTO UNIAO / SC"
                                },
                                {
                                    "0": "PORTO VELHO / RO"
                                },
                                {
                                    "0": "PORTO XAVIER / RS"
                                },
                                {
                                    "0": "POSSE / GO"
                                },
                                {
                                    "0": "POSTO DA MATA / BA"
                                },
                                {
                                    "0": "POTE / MG"
                                },
                                {
                                    "0": "POTENGI / CE"
                                },
                                {
                                    "0": "POTIM / SP"
                                },
                                {
                                    "0": "POTIRAGUA / BA"
                                },
                                {
                                    "0": "POTIRENDABA / SP"
                                },
                                {
                                    "0": "POUSO ALEGRE / MG"
                                },
                                {
                                    "0": "POUSO ALTO / MG"
                                },
                                {
                                    "0": "POUSO NOVO / RS"
                                },
                                {
                                    "0": "POUSO REDONDO / SC"
                                },
                                {
                                    "0": "POXOREU / MT"
                                },
                                {
                                    "0": "PRADO / BA"
                                },
                                {
                                    "0": "PRADOPOLIS / SP"
                                },
                                {
                                    "0": "PRADOS / MG"
                                },
                                {
                                    "0": "PRAIA GRANDE / ES"
                                },
                                {
                                    "0": "PRAIA GRANDE / SC"
                                },
                                {
                                    "0": "PRAIA GRANDE / SP"
                                },
                                {
                                    "0": "PRAIA NORTE / TO"
                                },
                                {
                                    "0": "PRANCHITA / PR"
                                },
                                {
                                    "0": "PRATA / MG"
                                },
                                {
                                    "0": "PRATA / PB"
                                },
                                {
                                    "0": "PRATAPOLIS / MG"
                                },
                                {
                                    "0": "PRESIDENTE ALVES / SP"
                                },
                                {
                                    "0": "PRESIDENTE BERNARDES / SP"
                                },
                                {
                                    "0": "PRESIDENTE CASTELLO BRANCO / SC"
                                },
                                {
                                    "0": "PRESIDENTE DUTRA / BA"
                                },
                                {
                                    "0": "PRESIDENTE DUTRA / MA"
                                },
                                {
                                    "0": "PRESIDENTE EPITACIO / SP"
                                },
                                {
                                    "0": "PRESIDENTE GETULIO / SC"
                                },
                                {
                                    "0": "PRESIDENTE JANIO QUADROS / BA"
                                },
                                {
                                    "0": "PRESIDENTE JUSCELINO / MA"
                                },
                                {
                                    "0": "PRESIDENTE KENNEDY / ES"
                                },
                                {
                                    "0": "PRESIDENTE KUBITSCHEK / MG"
                                },
                                {
                                    "0": "PRESIDENTE LUCENA / RS"
                                },
                                {
                                    "0": "PRESIDENTE MEDICI / MA"
                                },
                                {
                                    "0": "PRESIDENTE MEDICI / RO"
                                },
                                {
                                    "0": "PRESIDENTE NEREU / SC"
                                },
                                {
                                    "0": "PRESIDENTE OLEGARIO / MG"
                                },
                                {
                                    "0": "PRESIDENTE PRUDENTE / SP"
                                },
                                {
                                    "0": "PRESIDENTE TANCREDO NEVES / BA"
                                },
                                {
                                    "0": "PRESIDENTE VENCESLAU / SP"
                                },
                                {
                                    "0": "PRIMAVERA / SP"
                                },
                                {
                                    "0": "PRIMAVERA DO LESTE / MT"
                                },
                                {
                                    "0": "PRIMEIRO DE MAIO / PR"
                                },
                                {
                                    "0": "PRINCESA ISABEL / PB"
                                },
                                {
                                    "0": "PROGRESSO / RS"
                                },
                                {
                                    "0": "PROMISSAO / SP"
                                },
                                {
                                    "0": "PROPRIA / SE"
                                },
                                {
                                    "0": "PROTASIO ALVES / RS"
                                },
                                {
                                    "0": "PRUDENCIO THOMAZ / MS"
                                },
                                {
                                    "0": "PRUDENTE DE MORAIS / MG"
                                },
                                {
                                    "0": "PRUDENTOPOLIS / PR"
                                },
                                {
                                    "0": "PUGMIL / TO"
                                },
                                {
                                    "0": "PUREZA / RJ"
                                },
                                {
                                    "0": "PURILANDIA / RJ"
                                },
                                {
                                    "0": "PUTINGA / RS"
                                },
                                {
                                    "0": "PUXINANA / PB"
                                },
                                {
                                    "0": "QUADRA / SP"
                                },
                                {
                                    "0": "QUARAI / RS"
                                },
                                {
                                    "0": "QUATA / SP"
                                },
                                {
                                    "0": "QUATIGUA / PR"
                                },
                                {
                                    "0": "QUATIS / RJ"
                                },
                                {
                                    "0": "QUATITUBA / MG"
                                },
                                {
                                    "0": "QUATRO BARRAS / PR"
                                },
                                {
                                    "0": "QUATRO BOCAS / PA"
                                },
                                {
                                    "0": "QUATRO PONTES / PR"
                                },
                                {
                                    "0": "QUEDAS DO IGUACU / PR"
                                },
                                {
                                    "0": "QUEIMADAS / BA"
                                },
                                {
                                    "0": "QUEIMADAS / PB"
                                },
                                {
                                    "0": "QUEIMADOS / RJ"
                                },
                                {
                                    "0": "QUEIROZ / SP"
                                },
                                {
                                    "0": "QUEIXADA / MG"
                                },
                                {
                                    "0": "QUELUZ / SP"
                                },
                                {
                                    "0": "QUERENCIA / MT"
                                },
                                {
                                    "0": "QUERENCIA DO NORTE / PR"
                                },
                                {
                                    "0": "QUEVEDOS / RS"
                                },
                                {
                                    "0": "QUIJINGUE / BA"
                                },
                                {
                                    "0": "QUILOMBO / SC"
                                },
                                {
                                    "0": "QUILOMETRO 14 DO MUTUM / ES"
                                },
                                {
                                    "0": "QUINTA DO SOL / PR"
                                },
                                {
                                    "0": "QUINTANA / SP"
                                },
                                {
                                    "0": "QUIPAPA / PE"
                                },
                                {
                                    "0": "QUIRINOPOLIS / GO"
                                },
                                {
                                    "0": "QUISSAMA / RJ"
                                },
                                {
                                    "0": "QUITANDINHA / PR"
                                },
                                {
                                    "0": "QUIXABEIRA / BA"
                                },
                                {
                                    "0": "QUIXADA / CE"
                                },
                                {
                                    "0": "QUIXADA / PE"
                                },
                                {
                                    "0": "QUIXELO / CE"
                                },
                                {
                                    "0": "QUIXERAMOBIM / CE"
                                },
                                {
                                    "0": "QUIXERE / CE"
                                },
                                {
                                    "0": "RAFARD / SP"
                                },
                                {
                                    "0": "RAINHA DO MAR / RS"
                                },
                                {
                                    "0": "RANCHARIA / SP"
                                },
                                {
                                    "0": "RANCHO ALEGRE / PR"
                                },
                                {
                                    "0": "RANCHO ALEGRE D'OESTE / PR"
                                },
                                {
                                    "0": "RANCHO QUEIMADO / SC"
                                },
                                {
                                    "0": "RAPOSO / RJ"
                                },
                                {
                                    "0": "RAPOSOS / MG"
                                },
                                {
                                    "0": "RAUL SOARES / MG"
                                },
                                {
                                    "0": "RAVENA / MG"
                                },
                                {
                                    "0": "REALEZA / PR"
                                },
                                {
                                    "0": "REBOUCAS / PR"
                                },
                                {
                                    "0": "RECHAN / SP"
                                },
                                {
                                    "0": "RECIFE / PE"
                                },
                                {
                                    "0": "RECREIO / MG"
                                },
                                {
                                    "0": "REDENCAO / CE"
                                },
                                {
                                    "0": "REDENCAO / PA"
                                },
                                {
                                    "0": "REDENCAO DA SERRA / SP"
                                },
                                {
                                    "0": "REDENCAO DO GURGUEIA / PI"
                                },
                                {
                                    "0": "REDENTORA / RS"
                                },
                                {
                                    "0": "REGENERACAO / PI"
                                },
                                {
                                    "0": "REGENTE FEIJO / SP"
                                },
                                {
                                    "0": "REGINOPOLIS / SP"
                                },
                                {
                                    "0": "REGISTRO / SP"
                                },
                                {
                                    "0": "REMANSO / BA"
                                },
                                {
                                    "0": "REMIGIO / PB"
                                },
                                {
                                    "0": "RENASCENCA / PR"
                                },
                                {
                                    "0": "RERIUTABA / CE"
                                },
                                {
                                    "0": "RESENDE / RJ"
                                },
                                {
                                    "0": "RESENDE COSTA / MG"
                                },
                                {
                                    "0": "RESERVA / PR"
                                },
                                {
                                    "0": "RESERVA DO CABACAL / MT"
                                },
                                {
                                    "0": "RESERVA DO IGUACU / PR"
                                },
                                {
                                    "0": "RESPLENDOR / MG"
                                },
                                {
                                    "0": "RESSAQUINHA / MG"
                                },
                                {
                                    "0": "RESTINGA SECA / RS"
                                },
                                {
                                    "0": "RETIROLANDIA / BA"
                                },
                                {
                                    "0": "RIACHAO DAS NEVES / BA"
                                },
                                {
                                    "0": "RIACHAO DO JACUIPE / BA"
                                },
                                {
                                    "0": "RIACHINHO / MG"
                                },
                                {
                                    "0": "RIACHO DA CRUZ / RN"
                                },
                                {
                                    "0": "RIACHO DAS ALMAS / PE"
                                },
                                {
                                    "0": "RIACHO DE SANTANA / BA"
                                },
                                {
                                    "0": "RIACHO DE SANTO ANTONIO / PB"
                                },
                                {
                                    "0": "RIACHO DOS MACHADOS / MG"
                                },
                                {
                                    "0": "RIACHUELO / SE"
                                },
                                {
                                    "0": "RIANAPOLIS / GO"
                                },
                                {
                                    "0": "RIBAS DO RIO PARDO / MS"
                                },
                                {
                                    "0": "RIBEIRA / SP"
                                },
                                {
                                    "0": "RIBEIRA DO AMPARO / BA"
                                },
                                {
                                    "0": "RIBEIRA DO POMBAL / BA"
                                },
                                {
                                    "0": "RIBEIRAO / PE"
                                },
                                {
                                    "0": "RIBEIRAO BONITO / SP"
                                },
                                {
                                    "0": "RIBEIRAO BRANCO / SP"
                                },
                                {
                                    "0": "RIBEIRAO CASCALHEIRA / MT"
                                },
                                {
                                    "0": "RIBEIRAO CLARO / PR"
                                },
                                {
                                    "0": "RIBEIRAO DAS NEVES / MG"
                                },
                                {
                                    "0": "RIBEIRAO DO PINHAL / PR"
                                },
                                {
                                    "0": "RIBEIRAO DO SUL / SP"
                                },
                                {
                                    "0": "RIBEIRAO PIRES / SP"
                                },
                                {
                                    "0": "RIBEIRAO PRETO / SP"
                                },
                                {
                                    "0": "RIBEIRAO VERMELHO / MG"
                                },
                                {
                                    "0": "RIBEIRAOZINHO / MT"
                                },
                                {
                                    "0": "RIBEIRO JUNQUEIRA / MG"
                                },
                                {
                                    "0": "RIBEIROPOLIS / SE"
                                },
                                {
                                    "0": "RIFAINA / SP"
                                },
                                {
                                    "0": "RINCAO / SP"
                                },
                                {
                                    "0": "RINOPOLIS / SP"
                                },
                                {
                                    "0": "RIO ACIMA / MG"
                                },
                                {
                                    "0": "RIO AZUL / PR"
                                },
                                {
                                    "0": "RIO BANANAL / ES"
                                },
                                {
                                    "0": "RIO BONITO / RJ"
                                },
                                {
                                    "0": "RIO BONITO DO IGUACU / PR"
                                },
                                {
                                    "0": "RIO BRANCO / AC"
                                },
                                {
                                    "0": "RIO BRANCO / MT"
                                },
                                {
                                    "0": "RIO BRANCO DO SUL / PR"
                                },
                                {
                                    "0": "RIO BRILHANTE / MS"
                                },
                                {
                                    "0": "RIO CASCA / MG"
                                },
                                {
                                    "0": "RIO CLARO / RJ"
                                },
                                {
                                    "0": "RIO CLARO / SP"
                                },
                                {
                                    "0": "RIO DAS ANTAS / SC"
                                },
                                {
                                    "0": "RIO DAS FLORES / RJ"
                                },
                                {
                                    "0": "RIO DAS OSTRAS / RJ"
                                },
                                {
                                    "0": "RIO DAS PEDRAS / SP"
                                },
                                {
                                    "0": "RIO DE CONTAS / BA"
                                },
                                {
                                    "0": "RIO DE JANEIRO / RJ"
                                },
                                {
                                    "0": "RIO DO ANTONIO / BA"
                                },
                                {
                                    "0": "RIO DO CAMPO / SC"
                                },
                                {
                                    "0": "RIO DO OESTE / SC"
                                },
                                {
                                    "0": "RIO DO PIRES / BA"
                                },
                                {
                                    "0": "RIO DO SUL / SC"
                                },
                                {
                                    "0": "RIO DOCE / MG"
                                },
                                {
                                    "0": "RIO DOS CEDROS / SC"
                                },
                                {
                                    "0": "RIO DOS INDIOS / RS"
                                },
                                {
                                    "0": "RIO ESPERA / MG"
                                },
                                {
                                    "0": "RIO FORMOSO / PE"
                                },
                                {
                                    "0": "RIO FORTUNA / SC"
                                },
                                {
                                    "0": "RIO GRANDE / RS"
                                },
                                {
                                    "0": "RIO GRANDE DA SERRA / SP"
                                },
                                {
                                    "0": "RIO GRANDE DO PIAUI / PI"
                                },
                                {
                                    "0": "RIO LARGO / AL"
                                },
                                {
                                    "0": "RIO MANSO / MG"
                                },
                                {
                                    "0": "RIO MARIA / PA"
                                },
                                {
                                    "0": "RIO NEGRINHO / SC"
                                },
                                {
                                    "0": "RIO NEGRO / MS"
                                },
                                {
                                    "0": "RIO NEGRO / PR"
                                },
                                {
                                    "0": "RIO NOVO / MG"
                                },
                                {
                                    "0": "RIO NOVO DO SUL / ES"
                                },
                                {
                                    "0": "RIO PARANAIBA / MG"
                                },
                                {
                                    "0": "RIO PARDO / RS"
                                },
                                {
                                    "0": "RIO PARDO DE MINAS / MG"
                                },
                                {
                                    "0": "RIO PIRACICABA / MG"
                                },
                                {
                                    "0": "RIO POMBA / MG"
                                },
                                {
                                    "0": "RIO PRETO / MG"
                                },
                                {
                                    "0": "RIO REAL / BA"
                                },
                                {
                                    "0": "RIO RUFINO / SC"
                                },
                                {
                                    "0": "RIO TINTO / PB"
                                },
                                {
                                    "0": "RIO VERDE / GO"
                                },
                                {
                                    "0": "RIO VERDE / PR"
                                },
                                {
                                    "0": "RIOLANDIA / SP"
                                },
                                {
                                    "0": "RIQUEZA / SC"
                                },
                                {
                                    "0": "RITAPOLIS / MG"
                                },
                                {
                                    "0": "RIVERSUL / SP"
                                },
                                {
                                    "0": "ROCA SALES / RS"
                                },
                                {
                                    "0": "RODEIO / SC"
                                },
                                {
                                    "0": "RODEIO BONITO / RS"
                                },
                                {
                                    "0": "RODEIRO / MG"
                                },
                                {
                                    "0": "RODELAS / BA"
                                },
                                {
                                    "0": "RODOLFO FERNANDES / RN"
                                },
                                {
                                    "0": "ROLANDIA / PR"
                                },
                                {
                                    "0": "ROLANTE / RS"
                                },
                                {
                                    "0": "ROLIM DE MOURA / RO"
                                },
                                {
                                    "0": "ROMARIA / MG"
                                },
                                {
                                    "0": "ROMELANDIA / SC"
                                },
                                {
                                    "0": "RONCADOR / PR"
                                },
                                {
                                    "0": "RONDA ALTA / RS"
                                },
                                {
                                    "0": "RONDON / PR"
                                },
                                {
                                    "0": "RONDON DO PARA / PA"
                                },
                                {
                                    "0": "RONDONOPOLIS / MT"
                                },
                                {
                                    "0": "ROQUE GONZALES / RS"
                                },
                                {
                                    "0": "ROSANA / SP"
                                },
                                {
                                    "0": "ROSARIO / MA"
                                },
                                {
                                    "0": "ROSARIO DO IVAI / PR"
                                },
                                {
                                    "0": "ROSARIO DO SUL / RS"
                                },
                                {
                                    "0": "ROSEIRA / SP"
                                },
                                {
                                    "0": "RUBELITA / MG"
                                },
                                {
                                    "0": "RUBIACEA / SP"
                                },
                                {
                                    "0": "RUBIATABA / GO"
                                },
                                {
                                    "0": "RUBIM / MG"
                                },
                                {
                                    "0": "RUBINEIA / SP"
                                },
                                {
                                    "0": "RUSSAS / CE"
                                },
                                {
                                    "0": "RUY BARBOSA / BA"
                                },
                                {
                                    "0": "SABARA / MG"
                                },
                                {
                                    "0": "SABAUDIA / PR"
                                },
                                {
                                    "0": "SABINO / SP"
                                },
                                {
                                    "0": "SABINOPOLIS / MG"
                                },
                                {
                                    "0": "SABOEIRO / CE"
                                },
                                {
                                    "0": "SACRA FAMILIA DO TINGUA / RJ"
                                },
                                {
                                    "0": "SACRAMENTO / MG"
                                },
                                {
                                    "0": "SALES / SP"
                                },
                                {
                                    "0": "SALES OLIVEIRA / SP"
                                },
                                {
                                    "0": "SALESOPOLIS / SP"
                                },
                                {
                                    "0": "SALGADO FILHO / PR"
                                },
                                {
                                    "0": "SALGUEIRO / PE"
                                },
                                {
                                    "0": "SALINAS / MG"
                                },
                                {
                                    "0": "SALINAS DA MARGARIDA / BA"
                                },
                                {
                                    "0": "SALMOURAO / SP"
                                },
                                {
                                    "0": "SALOA / PE"
                                },
                                {
                                    "0": "SALOBRO / BA"
                                },
                                {
                                    "0": "SALTINHO / SP"
                                },
                                {
                                    "0": "SALTO / SP"
                                },
                                {
                                    "0": "SALTO DA DIVISA / MG"
                                },
                                {
                                    "0": "SALTO DE PIRAPORA / SP"
                                },
                                {
                                    "0": "SALTO DO CEU / MT"
                                },
                                {
                                    "0": "SALTO DO ITARARE / PR"
                                },
                                {
                                    "0": "SALTO DO JACUI / RS"
                                },
                                {
                                    "0": "SALTO DO LONTRA / PR"
                                },
                                {
                                    "0": "SALTO GRANDE / SP"
                                },
                                {
                                    "0": "SALTO VELOSO / SC"
                                },
                                {
                                    "0": "SALVADOR / BA"
                                },
                                {
                                    "0": "SALVADOR DO SUL / RS"
                                },
                                {
                                    "0": "SAMBAIBA / MA"
                                },
                                {
                                    "0": "SANANDUVA / RS"
                                },
                                {
                                    "0": "SANCLERLANDIA / GO"
                                },
                                {
                                    "0": "SANDOLANDIA / TO"
                                },
                                {
                                    "0": "SANGA PUITA / MS"
                                },
                                {
                                    "0": "SANGAO / SC"
                                },
                                {
                                    "0": "SANHARO / PE"
                                },
                                {
                                    "0": "SANTA ADELIA / SP"
                                },
                                {
                                    "0": "SANTA ALBERTINA / SP"
                                },
                                {
                                    "0": "SANTA AMELIA / PR"
                                },
                                {
                                    "0": "SANTA BARBARA / MG"
                                },
                                {
                                    "0": "SANTA BARBARA D OESTE / SP"
                                },
                                {
                                    "0": "SANTA BARBARA DO PARA / PA"
                                },
                                {
                                    "0": "SANTA BARBARA DO SUL / RS"
                                },
                                {
                                    "0": "SANTA BARBARA D'OESTE / SP"
                                },
                                {
                                    "0": "SANTA BRANCA / SP"
                                },
                                {
                                    "0": "SANTA BRIGIDA / BA"
                                },
                                {
                                    "0": "SANTA CECILIA / PB"
                                },
                                {
                                    "0": "SANTA CECILIA / SC"
                                },
                                {
                                    "0": "SANTA CECILIA DO PAVAO / PR"
                                },
                                {
                                    "0": "SANTA CLARA DO SUL / RS"
                                },
                                {
                                    "0": "SANTA CLARA D'OESTE / SP"
                                },
                                {
                                    "0": "SANTA CRUZ / PE"
                                },
                                {
                                    "0": "SANTA CRUZ / RN"
                                },
                                {
                                    "0": "SANTA CRUZ CABRALIA / BA"
                                },
                                {
                                    "0": "SANTA CRUZ DA CONCEICAO / SP"
                                },
                                {
                                    "0": "SANTA CRUZ DAS PALMEIRAS / SP"
                                },
                                {
                                    "0": "SANTA CRUZ DE GOIAS / GO"
                                },
                                {
                                    "0": "SANTA CRUZ DE MINAS / MG"
                                },
                                {
                                    "0": "SANTA CRUZ DE MONTE CASTELO / PR"
                                },
                                {
                                    "0": "SANTA CRUZ DE SALINAS / MG"
                                },
                                {
                                    "0": "SANTA CRUZ DO CAPIBARIBE / PE"
                                },
                                {
                                    "0": "SANTA CRUZ DO PIAUI / PI"
                                },
                                {
                                    "0": "SANTA CRUZ DO PRATA / MG"
                                },
                                {
                                    "0": "SANTA CRUZ DO RIO PARDO / SP"
                                },
                                {
                                    "0": "SANTA CRUZ DO SUL / RS"
                                },
                                {
                                    "0": "SANTA CRUZ DO TIMBO / SC"
                                },
                                {
                                    "0": "SANTA ERNESTINA / SP"
                                },
                                {
                                    "0": "SANTA FE / PR"
                                },
                                {
                                    "0": "SANTA FE DE GOIAS / GO"
                                },
                                {
                                    "0": "SANTA FE DE MINAS / MG"
                                },
                                {
                                    "0": "SANTA FE DO SUL / SP"
                                },
                                {
                                    "0": "SANTA FILOMENA / PE"
                                },
                                {
                                    "0": "SANTA GERTRUDES / SP"
                                },
                                {
                                    "0": "SANTA HELENA / MA"
                                },
                                {
                                    "0": "SANTA HELENA / PR"
                                },
                                {
                                    "0": "SANTA HELENA DE GOIAS / GO"
                                },
                                {
                                    "0": "SANTA HELENA DE MINAS / MG"
                                },
                                {
                                    "0": "SANTA INES / BA"
                                },
                                {
                                    "0": "SANTA INES / MA"
                                },
                                {
                                    "0": "SANTA ISABEL / SP"
                                },
                                {
                                    "0": "SANTA ISABEL DO IVAI / PR"
                                },
                                {
                                    "0": "SANTA ISABEL DO PARA / PA"
                                },
                                {
                                    "0": "SANTA ISABEL DO RIO PRETO / RJ"
                                },
                                {
                                    "0": "SANTA IZABEL DO OESTE / PR"
                                },
                                {
                                    "0": "SANTA JULIANA / MG"
                                },
                                {
                                    "0": "SANTA LEOPOLDINA / ES"
                                },
                                {
                                    "0": "SANTA LUCIA / PR"
                                },
                                {
                                    "0": "SANTA LUCIA / SP"
                                },
                                {
                                    "0": "SANTA LUZIA / MA"
                                },
                                {
                                    "0": "SANTA LUZIA / MG"
                                },
                                {
                                    "0": "SANTA LUZIA / PB"
                                },
                                {
                                    "0": "SANTA LUZIA DO NORTE / AL"
                                },
                                {
                                    "0": "SANTA LUZIA DO PARUA / MA"
                                },
                                {
                                    "0": "SANTA MARGARIDA / MG"
                                },
                                {
                                    "0": "SANTA MARGARIDA / PR"
                                },
                                {
                                    "0": "SANTA MARIA / DF"
                                },
                                {
                                    "0": "SANTA MARIA / RJ"
                                },
                                {
                                    "0": "SANTA MARIA / RN"
                                },
                                {
                                    "0": "SANTA MARIA / RS"
                                },
                                {
                                    "0": "SANTA MARIA DA BOA VISTA / PE"
                                },
                                {
                                    "0": "SANTA MARIA DA SERRA / SP"
                                },
                                {
                                    "0": "SANTA MARIA DA VITORIA / BA"
                                },
                                {
                                    "0": "SANTA MARIA DE ITABIRA / MG"
                                },
                                {
                                    "0": "SANTA MARIA DE JETIBA / ES"
                                },
                                {
                                    "0": "SANTA MARIA DO HERVAL / RS"
                                },
                                {
                                    "0": "SANTA MARIA DO PARA / PA"
                                },
                                {
                                    "0": "SANTA MARIA DO SALTO / MG"
                                },
                                {
                                    "0": "SANTA MARIA DO SUACUI / MG"
                                },
                                {
                                    "0": "SANTA MARIA MADALENA / RJ"
                                },
                                {
                                    "0": "SANTA MARIANA / PR"
                                },
                                {
                                    "0": "SANTA MERCEDES / SP"
                                },
                                {
                                    "0": "SANTA MONICA / PR"
                                },
                                {
                                    "0": "SANTA QUITERIA / CE"
                                },
                                {
                                    "0": "SANTA QUITERIA DO MARANHAO / MA"
                                },
                                {
                                    "0": "SANTA RITA / MA"
                                },
                                {
                                    "0": "SANTA RITA / PB"
                                },
                                {
                                    "0": "SANTA RITA DA FLORESTA / RJ"
                                },
                                {
                                    "0": "SANTA RITA DE CALDAS / MG"
                                },
                                {
                                    "0": "SANTA RITA DE JACUTINGA / MG"
                                },
                                {
                                    "0": "SANTA RITA DE MINAS / MG"
                                },
                                {
                                    "0": "SANTA RITA DO ARAGUAIA / GO"
                                },
                                {
                                    "0": "SANTA RITA DO IBITIPOCA / MG"
                                },
                                {
                                    "0": "SANTA RITA DO ITUETO / MG"
                                },
                                {
                                    "0": "SANTA RITA DO PASSA QUATRO / SP"
                                },
                                {
                                    "0": "SANTA RITA DO SAPUCAI / MG"
                                },
                                {
                                    "0": "SANTA RITA D'OESTE / SP"
                                },
                                {
                                    "0": "SANTA ROSA / RS"
                                },
                                {
                                    "0": "SANTA ROSA DE LIMA / SC"
                                },
                                {
                                    "0": "SANTA ROSA DE VITERBO / SP"
                                },
                                {
                                    "0": "SANTA ROSA DO SUL / SC"
                                },
                                {
                                    "0": "SANTA SALETE / SP"
                                },
                                {
                                    "0": "SANTA TERESA / ES"
                                },
                                {
                                    "0": "SANTA TERESINHA / BA"
                                },
                                {
                                    "0": "SANTA TEREZA DO OESTE / PR"
                                },
                                {
                                    "0": "SANTA TEREZINHA / PE"
                                },
                                {
                                    "0": "SANTA TEREZINHA / SC"
                                },
                                {
                                    "0": "SANTA TEREZINHA DE ITAIPU / PR"
                                },
                                {
                                    "0": "SANTA VITORIA / MG"
                                },
                                {
                                    "0": "SANTA VITORIA DO PALMAR / RS"
                                },
                                {
                                    "0": "SANTALUZ / BA"
                                },
                                {
                                    "0": "SANTANA / AP"
                                },
                                {
                                    "0": "SANTANA / BA"
                                },
                                {
                                    "0": "SANTANA / PR"
                                },
                                {
                                    "0": "SANTANA DA BOA VISTA / RS"
                                },
                                {
                                    "0": "SANTANA DA VARGEM / MG"
                                },
                                {
                                    "0": "SANTANA DE PARNAIBA / SP"
                                },
                                {
                                    "0": "SANTANA DE PIRAPAMA / MG"
                                },
                                {
                                    "0": "SANTANA DO ACARAU / CE"
                                },
                                {
                                    "0": "SANTANA DO ARAGUAIA / PA"
                                },
                                {
                                    "0": "SANTANA DO CAPIVARI / MG"
                                },
                                {
                                    "0": "SANTANA DO CARIRI / CE"
                                },
                                {
                                    "0": "SANTANA DO DESERTO / MG"
                                },
                                {
                                    "0": "SANTANA DO IPANEMA / AL"
                                },
                                {
                                    "0": "SANTANA DO ITARARE / PR"
                                },
                                {
                                    "0": "SANTANA DO JACARE / MG"
                                },
                                {
                                    "0": "SANTANA DO LIVRAMENTO / RS"
                                },
                                {
                                    "0": "SANTANA DO MANHUACU / MG"
                                },
                                {
                                    "0": "SANTANA DO MUNDAU / AL"
                                },
                                {
                                    "0": "SANTANA DO PARAISO / MG"
                                },
                                {
                                    "0": "SANTANA DO SERIDO / RN"
                                },
                                {
                                    "0": "SANTANA DO SOBRADO / BA"
                                },
                                {
                                    "0": "SANTANA DOS MONTES / MG"
                                },
                                {
                                    "0": "SANTANESIA / RJ"
                                },
                                {
                                    "0": "SANTAREM / PA"
                                },
                                {
                                    "0": "SANTIAGO / RS"
                                },
                                {
                                    "0": "SANTO AMARO / BA"
                                },
                                {
                                    "0": "SANTO AMARO DA IMPERATRIZ / SC"
                                },
                                {
                                    "0": "SANTO AMARO DAS BROTAS / SE"
                                },
                                {
                                    "0": "SANTO AMARO DE CAMPOS / RJ"
                                },
                                {
                                    "0": "SANTO ANASTACIO / SP"
                                },
                                {
                                    "0": "SANTO ANDRE / PB"
                                },
                                {
                                    "0": "SANTO ANDRE / SP"
                                },
                                {
                                    "0": "SANTO ANGELO / RS"
                                },
                                {
                                    "0": "SANTO ANTONIO / RN"
                                },
                                {
                                    "0": "SANTO ANTONIO DA ALEGRIA / SP"
                                },
                                {
                                    "0": "SANTO ANTONIO DA PATRULHA / RS"
                                },
                                {
                                    "0": "SANTO ANTONIO DA PLATINA / PR"
                                },
                                {
                                    "0": "SANTO ANTONIO DAS MISSOES / RS"
                                },
                                {
                                    "0": "SANTO ANTONIO DAS QUEIMADAS / PE"
                                },
                                {
                                    "0": "SANTO ANTONIO DE GOIAS / GO"
                                },
                                {
                                    "0": "SANTO ANTONIO DE JESUS / BA"
                                },
                                {
                                    "0": "SANTO ANTONIO DE PADUA / RJ"
                                },
                                {
                                    "0": "SANTO ANTONIO DE POSSE / SP"
                                },
                                {
                                    "0": "SANTO ANTONIO DO AMPARO / MG"
                                },
                                {
                                    "0": "SANTO ANTONIO DO ARACANGUA / SP"
                                },
                                {
                                    "0": "SANTO ANTONIO DO AVENTUREIRO / MG"
                                },
                                {
                                    "0": "SANTO ANTONIO DO CAIUA / PR"
                                },
                                {
                                    "0": "SANTO ANTONIO DO CANAA / ES"
                                },
                                {
                                    "0": "SANTO ANTONIO DO DESCOBERTO / GO"
                                },
                                {
                                    "0": "SANTO ANTONIO DO GRAMA / MG"
                                },
                                {
                                    "0": "SANTO ANTONIO DO ITAMBE / MG"
                                },
                                {
                                    "0": "SANTO ANTONIO DO JACINTO / MG"
                                },
                                {
                                    "0": "SANTO ANTONIO DO JARDIM / SP"
                                },
                                {
                                    "0": "SANTO ANTONIO DO LESTE / MT"
                                },
                                {
                                    "0": "SANTO ANTONIO DO LEVERGER / MT"
                                },
                                {
                                    "0": "SANTO ANTONIO DO MONTE / MG"
                                },
                                {
                                    "0": "SANTO ANTONIO DO PALMA / RS"
                                },
                                {
                                    "0": "SANTO ANTONIO DO PINHAL / SP"
                                },
                                {
                                    "0": "SANTO ANTONIO DO PLANALTO / RS"
                                },
                                {
                                    "0": "SANTO ANTONIO DO RIO ABAIXO / MG"
                                },
                                {
                                    "0": "SANTO ANTONIO DO SUDOESTE / PR"
                                },
                                {
                                    "0": "SANTO ANTONIO DO TAUA / PA"
                                },
                                {
                                    "0": "SANTO ANTONIO DOS CAMPOS / MG"
                                },
                                {
                                    "0": "SANTO AUGUSTO / RS"
                                },
                                {
                                    "0": "SANTO CRISTO / RS"
                                },
                                {
                                    "0": "SANTO EDUARDO / RJ"
                                },
                                {
                                    "0": "SANTO ESTEVAO / BA"
                                },
                                {
                                    "0": "SANTO EXPEDITO / SP"
                                },
                                {
                                    "0": "SANTO EXPEDITO DO SUL / RS"
                                },
                                {
                                    "0": "SANTO HIPOLITO / MG"
                                },
                                {
                                    "0": "SANTO INACIO / PR"
                                },
                                {
                                    "0": "SANTOS / SP"
                                },
                                {
                                    "0": "SANTOS DUMONT / MG"
                                },
                                {
                                    "0": "SAO BENEDITO / CE"
                                },
                                {
                                    "0": "SAO BENEDITO / MG"
                                },
                                {
                                    "0": "SAO BENEDITO DO RIO PRETO / MA"
                                },
                                {
                                    "0": "SAO BENEDITO DO SUL / PE"
                                },
                                {
                                    "0": "SAO BENTINHO / PB"
                                },
                                {
                                    "0": "SAO BENTO / MA"
                                },
                                {
                                    "0": "SAO BENTO / PB"
                                },
                                {
                                    "0": "SAO BENTO ABADE / MG"
                                },
                                {
                                    "0": "SAO BENTO DO SAPUCAI / SP"
                                },
                                {
                                    "0": "SAO BENTO DO SUL / SC"
                                },
                                {
                                    "0": "SAO BENTO DO UNA / PE"
                                },
                                {
                                    "0": "SAO BERNARDINO / SC"
                                },
                                {
                                    "0": "SAO BERNARDO / MA"
                                },
                                {
                                    "0": "SAO BERNARDO DO CAMPO / SP"
                                },
                                {
                                    "0": "SAO BONIFACIO / SC"
                                },
                                {
                                    "0": "SAO BORJA / RS"
                                },
                                {
                                    "0": "SAO BRAS / AL"
                                },
                                {
                                    "0": "SAO BRAS DO SUACUI / MG"
                                },
                                {
                                    "0": "SAO CAETANO DO SUL / SP"
                                },
                                {
                                    "0": "SAO CARLOS / SC"
                                },
                                {
                                    "0": "SAO CARLOS / SP"
                                },
                                {
                                    "0": "SAO CARLOS DO IVAI / PR"
                                },
                                {
                                    "0": "SAO CLEMENTE / PR"
                                },
                                {
                                    "0": "SAO CRISTOVAO / SE"
                                },
                                {
                                    "0": "SAO CRISTOVAO DO SUL / SC"
                                },
                                {
                                    "0": "SAO DESIDERIO / BA"
                                },
                                {
                                    "0": "SAO DOMINGOS / BA"
                                },
                                {
                                    "0": "SAO DOMINGOS / MG"
                                },
                                {
                                    "0": "SAO DOMINGOS / PE"
                                },
                                {
                                    "0": "SAO DOMINGOS / SC"
                                },
                                {
                                    "0": "SAO DOMINGOS DAS DORES / MG"
                                },
                                {
                                    "0": "SAO DOMINGOS DO ARAGUAIA / PA"
                                },
                                {
                                    "0": "SAO DOMINGOS DO MARANHAO / MA"
                                },
                                {
                                    "0": "SAO DOMINGOS DO NORTE / ES"
                                },
                                {
                                    "0": "SAO DOMINGOS DO PRATA / MG"
                                },
                                {
                                    "0": "SAO DOMINGOS DO SUL / RS"
                                },
                                {
                                    "0": "SAO FELIPE / BA"
                                },
                                {
                                    "0": "SAO FELIX / BA"
                                },
                                {
                                    "0": "SAO FELIX DE MINAS / MG"
                                },
                                {
                                    "0": "SAO FELIX DO ARAGUAIA / MT"
                                },
                                {
                                    "0": "SAO FELIX DO CORIBE / BA"
                                },
                                {
                                    "0": "SAO FELIX DO XINGU / PA"
                                },
                                {
                                    "0": "SAO FERNANDO / RN"
                                },
                                {
                                    "0": "SAO FIDELIS / RJ"
                                },
                                {
                                    "0": "SAO FRANCISCO / MG"
                                },
                                {
                                    "0": "SAO FRANCISCO / PB"
                                },
                                {
                                    "0": "SAO FRANCISCO / SE"
                                },
                                {
                                    "0": "SAO FRANCISCO / SP"
                                },
                                {
                                    "0": "SAO FRANCISCO DE ASSIS / RS"
                                },
                                {
                                    "0": "SAO FRANCISCO DE ITABAPOANA / RJ"
                                },
                                {
                                    "0": "SAO FRANCISCO DE PAULA / MG"
                                },
                                {
                                    "0": "SAO FRANCISCO DE PAULA / RS"
                                },
                                {
                                    "0": "SAO FRANCISCO DO BREJAO / MA"
                                },
                                {
                                    "0": "SAO FRANCISCO DO CONDE / BA"
                                },
                                {
                                    "0": "SAO FRANCISCO DO GLORIA / MG"
                                },
                                {
                                    "0": "SAO FRANCISCO DO GUAPORE / RO"
                                },
                                {
                                    "0": "SAO FRANCISCO DO HUMAITA / MG"
                                },
                                {
                                    "0": "SAO FRANCISCO DO SUL / SC"
                                },
                                {
                                    "0": "SAO GABRIEL / RS"
                                },
                                {
                                    "0": "SAO GABRIEL DA PALHA / ES"
                                },
                                {
                                    "0": "SAO GABRIEL DO OESTE / MS"
                                },
                                {
                                    "0": "SAO GERALDO / MG"
                                },
                                {
                                    "0": "SAO GERALDO DA PIEDADE / MG"
                                },
                                {
                                    "0": "SAO GERALDO DO BAGUARI / MG"
                                },
                                {
                                    "0": "SAO GONCALO / RJ"
                                },
                                {
                                    "0": "SAO GONCALO DO ABAETE / MG"
                                },
                                {
                                    "0": "SAO GONCALO DO AMARANTE / CE"
                                },
                                {
                                    "0": "SAO GONCALO DO AMARANTE / RN"
                                },
                                {
                                    "0": "SAO GONCALO DO PARA / MG"
                                },
                                {
                                    "0": "SAO GONCALO DO RIO ABAIXO / MG"
                                },
                                {
                                    "0": "SAO GONCALO DO RIO DAS PEDRAS / MG"
                                },
                                {
                                    "0": "SAO GONCALO DO RIO PRETO / MG"
                                },
                                {
                                    "0": "SAO GONCALO DO SAPUCAI / MG"
                                },
                                {
                                    "0": "SAO GOTARDO / MG"
                                },
                                {
                                    "0": "SAO JERONIMO / RS"
                                },
                                {
                                    "0": "SAO JOAO / PE"
                                },
                                {
                                    "0": "SAO JOAO / PR"
                                },
                                {
                                    "0": "SAO JOAO BATISTA / MA"
                                },
                                {
                                    "0": "SAO JOAO BATISTA / SC"
                                },
                                {
                                    "0": "SAO JOAO BATISTA DO GLORIA / MG"
                                },
                                {
                                    "0": "SAO JOAO DA BARRA / RJ"
                                },
                                {
                                    "0": "SAO JOAO DA BOA VISTA / SP"
                                },
                                {
                                    "0": "SAO JOAO DA MATA / MG"
                                },
                                {
                                    "0": "SAO JOAO DA PARAUNA / GO"
                                },
                                {
                                    "0": "SAO JOAO DA PONTE / MG"
                                },
                                {
                                    "0": "SAO JOAO DA URTIGA / RS"
                                },
                                {
                                    "0": "SAO JOAO D'ALIANCA / GO"
                                },
                                {
                                    "0": "SAO JOAO DAS MISSOES / MG"
                                },
                                {
                                    "0": "SAO JOAO DE IRACEMA / SP"
                                },
                                {
                                    "0": "SAO JOAO DE MERITI / RJ"
                                },
                                {
                                    "0": "SAO JOAO DE PETROPOLIS / ES"
                                },
                                {
                                    "0": "SAO JOAO DE PIRABAS / PA"
                                },
                                {
                                    "0": "SAO JOAO DEL REI / MG"
                                },
                                {
                                    "0": "SAO JOAO DO ITAPERIU / SC"
                                },
                                {
                                    "0": "SAO JOAO DO IVAI / PR"
                                },
                                {
                                    "0": "SAO JOAO DO MANHUACU / MG"
                                },
                                {
                                    "0": "SAO JOAO DO MANTENINHA / MG"
                                },
                                {
                                    "0": "SAO JOAO DO ORIENTE / MG"
                                },
                                {
                                    "0": "SAO JOAO DO PARAISO / MA"
                                },
                                {
                                    "0": "SAO JOAO DO PARAISO / MG"
                                },
                                {
                                    "0": "SAO JOAO DO PARAISO / RJ"
                                },
                                {
                                    "0": "SAO JOAO DO PIAUI / PI"
                                },
                                {
                                    "0": "SAO JOAO DO SABUGI / RN"
                                },
                                {
                                    "0": "SAO JOAO DO SOBRADO / ES"
                                },
                                {
                                    "0": "SAO JOAO DO SUL / SC"
                                },
                                {
                                    "0": "SAO JOAO DO TRIUNFO / PR"
                                },
                                {
                                    "0": "SAO JOAO DOS PATOS / MA"
                                },
                                {
                                    "0": "SAO JOAO EVANGELISTA / MG"
                                },
                                {
                                    "0": "SAO JOAO NEPOMUCENO / MG"
                                },
                                {
                                    "0": "SAO JOAQUIM / SC"
                                },
                                {
                                    "0": "SAO JOAQUIM DA BARRA / SP"
                                },
                                {
                                    "0": "SAO JOAQUIM DE BICAS / MG"
                                },
                                {
                                    "0": "SAO JOAQUIM DO MONTE / PE"
                                },
                                {
                                    "0": "SAO JORGE / RS"
                                },
                                {
                                    "0": "SAO JORGE DO IVAI / PR"
                                },
                                {
                                    "0": "SAO JORGE DO OESTE / PR"
                                },
                                {
                                    "0": "SAO JORGE DO PATROCINIO / PR"
                                },
                                {
                                    "0": "SAO JORGE D'OESTE / PR"
                                },
                                {
                                    "0": "SAO JOSE / SC"
                                },
                                {
                                    "0": "SAO JOSE DA BARRA / MG"
                                },
                                {
                                    "0": "SAO JOSE DA BELA VISTA / SP"
                                },
                                {
                                    "0": "SAO JOSE DA BOA VISTA / PR"
                                },
                                {
                                    "0": "SAO JOSE DA COROA GRANDE / PE"
                                },
                                {
                                    "0": "SAO JOSE DA LAJE / AL"
                                },
                                {
                                    "0": "SAO JOSE DA LAPA / MG"
                                },
                                {
                                    "0": "SAO JOSE DA TAPERA / AL"
                                },
                                {
                                    "0": "SAO JOSE DA VITORIA / BA"
                                },
                                {
                                    "0": "SAO JOSE DE MIPIBU / RN"
                                },
                                {
                                    "0": "SAO JOSE DE RIBAMAR / MA"
                                },
                                {
                                    "0": "SAO JOSE DE UBA / RJ"
                                },
                                {
                                    "0": "SAO JOSE DO BARREIRO / SP"
                                },
                                {
                                    "0": "SAO JOSE DO BELMONTE / PE"
                                },
                                {
                                    "0": "SAO JOSE DO CALCADO / ES"
                                },
                                {
                                    "0": "SAO JOSE DO CAMPESTRE / RN"
                                },
                                {
                                    "0": "SAO JOSE DO CEDRO / SC"
                                },
                                {
                                    "0": "SAO JOSE DO CERRITO / SC"
                                },
                                {
                                    "0": "SAO JOSE DO DIVINO / MG"
                                },
                                {
                                    "0": "SAO JOSE DO DIVINO / PI"
                                },
                                {
                                    "0": "SAO JOSE DO EGITO / PE"
                                },
                                {
                                    "0": "SAO JOSE DO GOIABAL / MG"
                                },
                                {
                                    "0": "SAO JOSE DO HORTENCIO / RS"
                                },
                                {
                                    "0": "SAO JOSE DO INHACORA / RS"
                                },
                                {
                                    "0": "SAO JOSE DO NORTE / RS"
                                },
                                {
                                    "0": "SAO JOSE DO OURO / RS"
                                },
                                {
                                    "0": "SAO JOSE DO PIAUI / PI"
                                },
                                {
                                    "0": "SAO JOSE DO RIBEIRAO / RJ"
                                },
                                {
                                    "0": "SAO JOSE DO RIO CLARO / MT"
                                },
                                {
                                    "0": "SAO JOSE DO RIO PARDO / SP"
                                },
                                {
                                    "0": "SAO JOSE DO RIO PRETO / SP"
                                },
                                {
                                    "0": "SAO JOSE DO SERIDO / RN"
                                },
                                {
                                    "0": "SAO JOSE DO TURVO / RJ"
                                },
                                {
                                    "0": "SAO JOSE DO VALE DO RIO PRETO / RJ"
                                },
                                {
                                    "0": "SAO JOSE DO XINGU / MT"
                                },
                                {
                                    "0": "SAO JOSE DOS CAMPOS / SP"
                                },
                                {
                                    "0": "SAO JOSE DOS CORDEIROS / PB"
                                },
                                {
                                    "0": "SAO JOSE DOS PINHAIS / PR"
                                },
                                {
                                    "0": "SAO JOSE DOS QUATRO MARCOS / MT"
                                },
                                {
                                    "0": "SAO LEOPOLDO / RS"
                                },
                                {
                                    "0": "SAO LOURENCO / MG"
                                },
                                {
                                    "0": "SAO LOURENCO DA MATA / PE"
                                },
                                {
                                    "0": "SAO LOURENCO DA SERRA / SP"
                                },
                                {
                                    "0": "SAO LOURENCO DO OESTE / SC"
                                },
                                {
                                    "0": "SAO LOURENCO DO PIAUI / PI"
                                },
                                {
                                    "0": "SAO LOURENCO DO SUL / RS"
                                },
                                {
                                    "0": "SAO LUDGERO / SC"
                                },
                                {
                                    "0": "SAO LUIS / MA"
                                },
                                {
                                    "0": "SAO LUIS DE MONTES BELOS / GO"
                                },
                                {
                                    "0": "SAO LUIS DO CURU / CE"
                                },
                                {
                                    "0": "SAO LUIS DO PARAITINGA / SP"
                                },
                                {
                                    "0": "SAO LUIS DO QUITUNDE / AL"
                                },
                                {
                                    "0": "SAO LUIZ DO NORTE / GO"
                                },
                                {
                                    "0": "SAO LUIZ GONZAGA / RS"
                                },
                                {
                                    "0": "SAO MAMEDE / PB"
                                },
                                {
                                    "0": "SAO MANUEL / SP"
                                },
                                {
                                    "0": "SAO MARCOS / RS"
                                },
                                {
                                    "0": "SAO MARTINHO / RS"
                                },
                                {
                                    "0": "SAO MARTINHO / SC"
                                },
                                {
                                    "0": "SAO MATEUS / ES"
                                },
                                {
                                    "0": "SAO MATEUS DE MINAS / MG"
                                },
                                {
                                    "0": "SAO MATEUS DO MARANHAO / MA"
                                },
                                {
                                    "0": "SAO MATEUS DO SUL / PR"
                                },
                                {
                                    "0": "SAO MIGUEL / RN"
                                },
                                {
                                    "0": "SAO MIGUEL ARCANJO / SP"
                                },
                                {
                                    "0": "SAO MIGUEL DAS MATAS / BA"
                                },
                                {
                                    "0": "SAO MIGUEL DO ALEIXO / SE"
                                },
                                {
                                    "0": "SAO MIGUEL DO ANTA / MG"
                                },
                                {
                                    "0": "SAO MIGUEL DO ARAGUAIA / GO"
                                },
                                {
                                    "0": "SAO MIGUEL DO CAMBUI / PR"
                                },
                                {
                                    "0": "SAO MIGUEL DO GOSTOSO / RN"
                                },
                                {
                                    "0": "SAO MIGUEL DO GUAMA / PA"
                                },
                                {
                                    "0": "SAO MIGUEL DO GUAPORE / RO"
                                },
                                {
                                    "0": "SAO MIGUEL DO IGUACU / PR"
                                },
                                {
                                    "0": "SAO MIGUEL DO OESTE / SC"
                                },
                                {
                                    "0": "SAO MIGUEL DO TAPUIO / PI"
                                },
                                {
                                    "0": "SAO MIGUEL DOS CAMPOS / AL"
                                },
                                {
                                    "0": "SAO NICOLAU / RS"
                                },
                                {
                                    "0": "SAO PATRICIO / GO"
                                },
                                {
                                    "0": "SAO PAULO / SP"
                                },
                                {
                                    "0": "SAO PAULO DAS MISSOES / RS"
                                },
                                {
                                    "0": "SAO PAULO DO POTENGI / RN"
                                },
                                {
                                    "0": "SAO PEDRO / SP"
                                },
                                {
                                    "0": "SAO PEDRO DA AGUA BRANCA / MA"
                                },
                                {
                                    "0": "SAO PEDRO DA ALDEIA / RJ"
                                },
                                {
                                    "0": "SAO PEDRO DA UNIAO / MG"
                                },
                                {
                                    "0": "SAO PEDRO DE ALCANTARA / SC"
                                },
                                {
                                    "0": "SAO PEDRO DO BUTIA / RS"
                                },
                                {
                                    "0": "SAO PEDRO DO IGUACU / PR"
                                },
                                {
                                    "0": "SAO PEDRO DO IVAI / PR"
                                },
                                {
                                    "0": "SAO PEDRO DO SUL / RS"
                                },
                                {
                                    "0": "SAO PEDRO DO TURVO / SP"
                                },
                                {
                                    "0": "SAO PEDRO DOS FERROS / MG"
                                },
                                {
                                    "0": "SAO RAFAEL / RN"
                                },
                                {
                                    "0": "SAO RAIMUNDO NONATO / PI"
                                },
                                {
                                    "0": "SAO ROMAO / MG"
                                },
                                {
                                    "0": "SAO ROQUE / SP"
                                },
                                {
                                    "0": "SAO ROQUE DE MINAS / MG"
                                },
                                {
                                    "0": "SAO ROQUE DO CANAA / ES"
                                },
                                {
                                    "0": "SAO SEBASTIAO / AL"
                                },
                                {
                                    "0": "SAO SEBASTIAO / SP"
                                },
                                {
                                    "0": "SAO SEBASTIAO DA AMOREIRA / PR"
                                },
                                {
                                    "0": "SAO SEBASTIAO DA BOA VISTA / PA"
                                },
                                {
                                    "0": "SAO SEBASTIAO DA GRAMA / SP"
                                },
                                {
                                    "0": "SAO SEBASTIAO DA SERRA / SP"
                                },
                                {
                                    "0": "SAO SEBASTIAO DE CAMPOS / RJ"
                                },
                                {
                                    "0": "SAO SEBASTIAO DO ALTO / RJ"
                                },
                                {
                                    "0": "SAO SEBASTIAO DO CAI / RS"
                                },
                                {
                                    "0": "SAO SEBASTIAO DO MARANHAO / MG"
                                },
                                {
                                    "0": "SAO SEBASTIAO DO PARAIBA / RJ"
                                },
                                {
                                    "0": "SAO SEBASTIAO DO PARAISO / MG"
                                },
                                {
                                    "0": "SAO SEBASTIAO DO PASSE / BA"
                                },
                                {
                                    "0": "SAO SEBASTIAO DO RIO VERDE / MG"
                                },
                                {
                                    "0": "SAO SEPE / RS"
                                },
                                {
                                    "0": "SAO SIMAO / GO"
                                },
                                {
                                    "0": "SAO SIMAO / SP"
                                },
                                {
                                    "0": "SAO THOME DAS LETRAS / MG"
                                },
                                {
                                    "0": "SAO TIAGO / MG"
                                },
                                {
                                    "0": "SAO TOMAS DE AQUINO / MG"
                                },
                                {
                                    "0": "SAO TOME / PR"
                                },
                                {
                                    "0": "SAO TOME / RN"
                                },
                                {
                                    "0": "SAO VALENTIM / RS"
                                },
                                {
                                    "0": "SAO VENDELINO / RS"
                                },
                                {
                                    "0": "SAO VICENTE / RN"
                                },
                                {
                                    "0": "SAO VICENTE / SP"
                                },
                                {
                                    "0": "SAO VICENTE FERRER / MA"
                                },
                                {
                                    "0": "SAO VICENTE FERRER / PE"
                                },
                                {
                                    "0": "SAO VITOR / MG"
                                },
                                {
                                    "0": "SAPE / PB"
                                },
                                {
                                    "0": "SAPEACU / BA"
                                },
                                {
                                    "0": "SAPEZAL / MT"
                                },
                                {
                                    "0": "SAPIRANGA / RS"
                                },
                                {
                                    "0": "SAPOPEMA / PR"
                                },
                                {
                                    "0": "SAPUCAIA / MG"
                                },
                                {
                                    "0": "SAPUCAIA / RJ"
                                },
                                {
                                    "0": "SAPUCAIA DO SUL / RS"
                                },
                                {
                                    "0": "SAPUCAI-MIRIM / MG"
                                },
                                {
                                    "0": "SAQUAREMA / RJ"
                                },
                                {
                                    "0": "SARANDI / PR"
                                },
                                {
                                    "0": "SARANDI / RS"
                                },
                                {
                                    "0": "SARAPUI / SP"
                                },
                                {
                                    "0": "SARDOA / MG"
                                },
                                {
                                    "0": "SARUTAIA / SP"
                                },
                                {
                                    "0": "SARZEDO / MG"
                                },
                                {
                                    "0": "SATIRO DIAS / BA"
                                },
                                {
                                    "0": "SATUBA / AL"
                                },
                                {
                                    "0": "SATUBINHA / MA"
                                },
                                {
                                    "0": "SAUBARA / BA"
                                },
                                {
                                    "0": "SAUDADE DO IGUACU / PR"
                                },
                                {
                                    "0": "SAUDADES / SC"
                                },
                                {
                                    "0": "SAUDE / BA"
                                },
                                {
                                    "0": "SCHROEDER / SC"
                                },
                                {
                                    "0": "SEABRA / BA"
                                },
                                {
                                    "0": "SEARA / SC"
                                },
                                {
                                    "0": "SEBASTIAO LEAL / PI"
                                },
                                {
                                    "0": "SEBERI / RS"
                                },
                                {
                                    "0": "SEDE ALVORADA / PR"
                                },
                                {
                                    "0": "SEGREDO / RS"
                                },
                                {
                                    "0": "SELBACH / RS"
                                },
                                {
                                    "0": "SENADOR AMARAL / MG"
                                },
                                {
                                    "0": "SENADOR CANEDO / GO"
                                },
                                {
                                    "0": "SENADOR CORTES / MG"
                                },
                                {
                                    "0": "SENADOR FIRMINO / MG"
                                },
                                {
                                    "0": "SENADOR GUIOMARD / AC"
                                },
                                {
                                    "0": "SENADOR JOSE PORFIRIO / PA"
                                },
                                {
                                    "0": "SENADOR LA ROCQUE / MA"
                                },
                                {
                                    "0": "SENADOR MODESTINO GONCALVES / MG"
                                },
                                {
                                    "0": "SENADOR POMPEU / CE"
                                },
                                {
                                    "0": "SENADOR SALGADO FILHO / RS"
                                },
                                {
                                    "0": "SENGES / PR"
                                },
                                {
                                    "0": "SENHOR DO BONFIM / BA"
                                },
                                {
                                    "0": "SENHORA DE OLIVEIRA / MG"
                                },
                                {
                                    "0": "SENHORA DOS REMEDIOS / MG"
                                },
                                {
                                    "0": "SENTO SE / BA"
                                },
                                {
                                    "0": "SERAFINA CORREA / RS"
                                },
                                {
                                    "0": "SERICITA / MG"
                                },
                                {
                                    "0": "SERINGUEIRAS / RO"
                                },
                                {
                                    "0": "SERIO / RS"
                                },
                                {
                                    "0": "SEROPEDICA / RJ"
                                },
                                {
                                    "0": "SERRA / ES"
                                },
                                {
                                    "0": "SERRA AZUL / SP"
                                },
                                {
                                    "0": "SERRA AZUL DE MINAS / MG"
                                },
                                {
                                    "0": "SERRA BONITA / MG"
                                },
                                {
                                    "0": "SERRA BRANCA / PB"
                                },
                                {
                                    "0": "SERRA DE SAO BENTO / RN"
                                },
                                {
                                    "0": "SERRA DO RAMALHO / BA"
                                },
                                {
                                    "0": "SERRA DO SALITRE / MG"
                                },
                                {
                                    "0": "SERRA DOS AIMORES / MG"
                                },
                                {
                                    "0": "SERRA DOS DOURADOS / PR"
                                },
                                {
                                    "0": "SERRA DOURADA / BA"
                                },
                                {
                                    "0": "SERRA NEGRA / SP"
                                },
                                {
                                    "0": "SERRA TALHADA / PE"
                                },
                                {
                                    "0": "SERRANA / SP"
                                },
                                {
                                    "0": "SERRANIA / MG"
                                },
                                {
                                    "0": "SERRANOPOLIS / GO"
                                },
                                {
                                    "0": "SERRANOPOLIS DE MINAS / MG"
                                },
                                {
                                    "0": "SERRANOPOLIS DO IGUACU / PR"
                                },
                                {
                                    "0": "SERRINHA / BA"
                                },
                                {
                                    "0": "SERRITA / PE"
                                },
                                {
                                    "0": "SERRO / MG"
                                },
                                {
                                    "0": "SERROLANDIA / BA"
                                },
                                {
                                    "0": "SERTANIA / PE"
                                },
                                {
                                    "0": "SERTANOPOLIS / PR"
                                },
                                {
                                    "0": "SERTAO / RS"
                                },
                                {
                                    "0": "SERTAO SANTANA / RS"
                                },
                                {
                                    "0": "SERTAOZINHO / SP"
                                },
                                {
                                    "0": "SETE BARRAS / SP"
                                },
                                {
                                    "0": "SETE DE SETEMBRO / RS"
                                },
                                {
                                    "0": "SETE LAGOAS / MG"
                                },
                                {
                                    "0": "SETUBINHA / MG"
                                },
                                {
                                    "0": "SEVERIANO MELO / RN"
                                },
                                {
                                    "0": "SEVERINIA / SP"
                                },
                                {
                                    "0": "SIDEROPOLIS / SC"
                                },
                                {
                                    "0": "SIDROLANDIA / MS"
                                },
                                {
                                    "0": "SILVA JARDIM / RJ"
                                },
                                {
                                    "0": "SILVANIA / GO"
                                },
                                {
                                    "0": "SILVANO / MG"
                                },
                                {
                                    "0": "SILVANOPOLIS / TO"
                                },
                                {
                                    "0": "SILVEIRA CARVALHO / MG"
                                },
                                {
                                    "0": "SILVEIRA MARTINS / RS"
                                },
                                {
                                    "0": "SILVEIRAS / SP"
                                },
                                {
                                    "0": "SILVIANOPOLIS / MG"
                                },
                                {
                                    "0": "SIMAO DIAS / SE"
                                },
                                {
                                    "0": "SIMAO PEREIRA / MG"
                                },
                                {
                                    "0": "SIMOES FILHO / BA"
                                },
                                {
                                    "0": "SIMOLANDIA / GO"
                                },
                                {
                                    "0": "SIMONESIA / MG"
                                },
                                {
                                    "0": "SIMPLICIO MENDES / PI"
                                },
                                {
                                    "0": "SINIMBU / RS"
                                },
                                {
                                    "0": "SINOP / MT"
                                },
                                {
                                    "0": "SIQUEIRA CAMPOS / PR"
                                },
                                {
                                    "0": "SIRIJI / PE"
                                },
                                {
                                    "0": "SIRINHAEM / PE"
                                },
                                {
                                    "0": "SITIO DO QUINTO / BA"
                                },
                                {
                                    "0": "SITIO NOVO / MA"
                                },
                                {
                                    "0": "SITIO NOVO / RN"
                                },
                                {
                                    "0": "SITIO NOVO DO TOCANTINS / TO"
                                },
                                {
                                    "0": "SOBRADINHO / BA"
                                },
                                {
                                    "0": "SOBRADINHO / DF"
                                },
                                {
                                    "0": "SOBRADINHO / RS"
                                },
                                {
                                    "0": "SOBRAL / CE"
                                },
                                {
                                    "0": "SOBRALIA / MG"
                                },
                                {
                                    "0": "SOCORRO / SP"
                                },
                                {
                                    "0": "SOLANEA / PB"
                                },
                                {
                                    "0": "SOLEDADE / PB"
                                },
                                {
                                    "0": "SOLEDADE / RS"
                                },
                                {
                                    "0": "SOLEDADE DE MINAS / MG"
                                },
                                {
                                    "0": "SOLONOPOLE / CE"
                                },
                                {
                                    "0": "SOMBRIO / SC"
                                },
                                {
                                    "0": "SONORA / MS"
                                },
                                {
                                    "0": "SOORETAMA / ES"
                                },
                                {
                                    "0": "SOROCABA / SP"
                                },
                                {
                                    "0": "SORRISO / MT"
                                },
                                {
                                    "0": "SOUSA / PB"
                                },
                                {
                                    "0": "SUCESSO / CE"
                                },
                                {
                                    "0": "SUCUPIRA DO NORTE / MA"
                                },
                                {
                                    "0": "SUD MENNUCCI / SP"
                                },
                                {
                                    "0": "SULINA / PR"
                                },
                                {
                                    "0": "SUMARE / SP"
                                },
                                {
                                    "0": "SUME / PB"
                                },
                                {
                                    "0": "SUMIDOURO / RJ"
                                },
                                {
                                    "0": "SURUBIM / PE"
                                },
                                {
                                    "0": "SUZANAPOLIS / SP"
                                },
                                {
                                    "0": "SUZANO / SP"
                                },
                                {
                                    "0": "TABAPORA / MT"
                                },
                                {
                                    "0": "TABAPUA / SP"
                                },
                                {
                                    "0": "TABATINGA / SP"
                                },
                                {
                                    "0": "TABIRA / PE"
                                },
                                {
                                    "0": "TABOAO DA SERRA / SP"
                                },
                                {
                                    "0": "TABOCAS DO BREJO VELHO / BA"
                                },
                                {
                                    "0": "TABOQUINHAS / BA"
                                },
                                {
                                    "0": "TABULEIRO / MG"
                                },
                                {
                                    "0": "TABULEIRO DO NORTE / CE"
                                },
                                {
                                    "0": "TACARATU / PE"
                                },
                                {
                                    "0": "TACIBA / SP"
                                },
                                {
                                    "0": "TACURU / MS"
                                },
                                {
                                    "0": "TAGUAI / SP"
                                },
                                {
                                    "0": "TAGUATINGA / DF"
                                },
                                {
                                    "0": "TAGUATINGA / TO"
                                },
                                {
                                    "0": "TAIACU / SP"
                                },
                                {
                                    "0": "TAILANDIA / PA"
                                },
                                {
                                    "0": "TAIO / SC"
                                },
                                {
                                    "0": "TAIOBEIRAS / MG"
                                },
                                {
                                    "0": "TAIUVA / SP"
                                },
                                {
                                    "0": "TAMANDARE / PE"
                                },
                                {
                                    "0": "TAMARANA / PR"
                                },
                                {
                                    "0": "TAMBAU / SP"
                                },
                                {
                                    "0": "TAMBOARA / PR"
                                },
                                {
                                    "0": "TANABI / SP"
                                },
                                {
                                    "0": "TANGARA / SC"
                                },
                                {
                                    "0": "TANGARA DA SERRA / MT"
                                },
                                {
                                    "0": "TANGUA / RJ"
                                },
                                {
                                    "0": "TANHACU / BA"
                                },
                                {
                                    "0": "TANQUE D'ARCA / AL"
                                },
                                {
                                    "0": "TANQUE NOVO / BA"
                                },
                                {
                                    "0": "TAPARUBA / MG"
                                },
                                {
                                    "0": "TAPEJARA / PR"
                                },
                                {
                                    "0": "TAPEJARA / RS"
                                },
                                {
                                    "0": "TAPERA / RS"
                                },
                                {
                                    "0": "TAPERUABA / CE"
                                },
                                {
                                    "0": "TAPES / RS"
                                },
                                {
                                    "0": "TAPINAS / SP"
                                },
                                {
                                    "0": "TAPIRAI / SP"
                                },
                                {
                                    "0": "TAPIRAMUTA / BA"
                                },
                                {
                                    "0": "TAPIRATIBA / SP"
                                },
                                {
                                    "0": "TAPURAH / MT"
                                },
                                {
                                    "0": "TAQUARA / RS"
                                },
                                {
                                    "0": "TAQUARACU DE MINAS / MG"
                                },
                                {
                                    "0": "TAQUARANA / AL"
                                },
                                {
                                    "0": "TAQUARI / RS"
                                },
                                {
                                    "0": "TAQUARITINGA / SP"
                                },
                                {
                                    "0": "TAQUARITINGA DO NORTE / PE"
                                },
                                {
                                    "0": "TAQUARITUBA / SP"
                                },
                                {
                                    "0": "TAQUARIVAI / SP"
                                },
                                {
                                    "0": "TAQUARUCU DO SUL / RS"
                                },
                                {
                                    "0": "TARABAI / SP"
                                },
                                {
                                    "0": "TARUMA / SP"
                                },
                                {
                                    "0": "TARUMIRIM / MG"
                                },
                                {
                                    "0": "TATUI / SP"
                                },
                                {
                                    "0": "TAUA / CE"
                                },
                                {
                                    "0": "TAUBATE / SP"
                                },
                                {
                                    "0": "TAVARES / RS"
                                },
                                {
                                    "0": "TECAINDA / SP"
                                },
                                {
                                    "0": "TEIXEIRA / PB"
                                },
                                {
                                    "0": "TEIXEIRA DE FREITAS / BA"
                                },
                                {
                                    "0": "TEIXEIRA SOARES / PR"
                                },
                                {
                                    "0": "TEIXEIRAS / MG"
                                },
                                {
                                    "0": "TEJUPA / SP"
                                },
                                {
                                    "0": "TELEMACO BORBA / PR"
                                },
                                {
                                    "0": "TELHA / SE"
                                },
                                {
                                    "0": "TENENTE ANANIAS / RN"
                                },
                                {
                                    "0": "TENENTE PORTELA / RS"
                                },
                                {
                                    "0": "TEODORO SAMPAIO / BA"
                                },
                                {
                                    "0": "TEODORO SAMPAIO / SP"
                                },
                                {
                                    "0": "TEOFILANDIA / BA"
                                },
                                {
                                    "0": "TEOFILO OTONI / MG"
                                },
                                {
                                    "0": "TEOLANDIA / BA"
                                },
                                {
                                    "0": "TEOTONIO VILELA / AL"
                                },
                                {
                                    "0": "TERENOS / MS"
                                },
                                {
                                    "0": "TERESINA / PI"
                                },
                                {
                                    "0": "TERESINA DE GOIAS / GO"
                                },
                                {
                                    "0": "TERESOPOLIS / RJ"
                                },
                                {
                                    "0": "TEREZINHA / PE"
                                },
                                {
                                    "0": "TERMAS DE IBIRA / SP"
                                },
                                {
                                    "0": "TERRA BOA / PR"
                                },
                                {
                                    "0": "TERRA DE AREIA / RS"
                                },
                                {
                                    "0": "TERRA NOVA / PE"
                                },
                                {
                                    "0": "TERRA NOVA DO NORTE / MT"
                                },
                                {
                                    "0": "TERRA RICA / PR"
                                },
                                {
                                    "0": "TERRA ROXA / PR"
                                },
                                {
                                    "0": "TERRA ROXA / SP"
                                },
                                {
                                    "0": "TEUTONIA / RS"
                                },
                                {
                                    "0": "TIANGUA / CE"
                                },
                                {
                                    "0": "TIBAGI / PR"
                                },
                                {
                                    "0": "TIBAU DO SUL / RN"
                                },
                                {
                                    "0": "TIETE / SP"
                                },
                                {
                                    "0": "TIJUCAS / SC"
                                },
                                {
                                    "0": "TIMBAUBA / PE"
                                },
                                {
                                    "0": "TIMBE DO SUL / SC"
                                },
                                {
                                    "0": "TIMBO / SC"
                                },
                                {
                                    "0": "TIMBURI / SP"
                                },
                                {
                                    "0": "TIMON / MA"
                                },
                                {
                                    "0": "TIMOTEO / MG"
                                },
                                {
                                    "0": "TIRADENTES / MG"
                                },
                                {
                                    "0": "TIRADENTES DO SUL / RS"
                                },
                                {
                                    "0": "TIROS / MG"
                                },
                                {
                                    "0": "TOBIAS BARRETO / SE"
                                },
                                {
                                    "0": "TOCANTINOPOLIS / TO"
                                },
                                {
                                    "0": "TOCANTINS / MG"
                                },
                                {
                                    "0": "TOCOS / RJ"
                                },
                                {
                                    "0": "TOCOS DO MOJI / MG"
                                },
                                {
                                    "0": "TOLEDO / PR"
                                },
                                {
                                    "0": "TOMAR DO GERU / SE"
                                },
                                {
                                    "0": "TOMAZINA / PR"
                                },
                                {
                                    "0": "TOMBOS / MG"
                                },
                                {
                                    "0": "TOME-ACU / PA"
                                },
                                {
                                    "0": "TORITAMA / PE"
                                },
                                {
                                    "0": "TOROPI / RS"
                                },
                                {
                                    "0": "TORRES / RS"
                                },
                                {
                                    "0": "TORRINHA / SP"
                                },
                                {
                                    "0": "TRABIJU / SP"
                                },
                                {
                                    "0": "TRACUATEUA / PA"
                                },
                                {
                                    "0": "TRACUNHAEM / PE"
                                },
                                {
                                    "0": "TRAIPU / AL"
                                },
                                {
                                    "0": "TRAIRI / CE"
                                },
                                {
                                    "0": "TRAJANO DE MORAES / RJ"
                                },
                                {
                                    "0": "TRAMANDAI / RS"
                                },
                                {
                                    "0": "TRANCOSO / BA"
                                },
                                {
                                    "0": "TRAVESSAO / RJ"
                                },
                                {
                                    "0": "TRAVESSEIRO / RS"
                                },
                                {
                                    "0": "TREMEMBE / SP"
                                },
                                {
                                    "0": "TRES ARROIOS / RS"
                                },
                                {
                                    "0": "TRES BARRAS / SC"
                                },
                                {
                                    "0": "TRES CACHOEIRAS / RS"
                                },
                                {
                                    "0": "TRES CORACOES / MG"
                                },
                                {
                                    "0": "TRES COROAS / RS"
                                },
                                {
                                    "0": "TRES DE MAIO / RS"
                                },
                                {
                                    "0": "TRES FORQUILHAS / RS"
                                },
                                {
                                    "0": "TRES FRONTEIRAS / SP"
                                },
                                {
                                    "0": "TRES IRMAOS / RJ"
                                },
                                {
                                    "0": "TRES LAGOAS / MS"
                                },
                                {
                                    "0": "TRES MARIAS / MG"
                                },
                                {
                                    "0": "TRES PASSOS / RS"
                                },
                                {
                                    "0": "TRES PONTAS / MG"
                                },
                                {
                                    "0": "TRES RIOS / RJ"
                                },
                                {
                                    "0": "TREVISO / SC"
                                },
                                {
                                    "0": "TREZE TILIAS / SC"
                                },
                                {
                                    "0": "TRINDADE / GO"
                                },
                                {
                                    "0": "TRINDADE / PE"
                                },
                                {
                                    "0": "TRINDADE DO SUL / RS"
                                },
                                {
                                    "0": "TRIUNFO / PB"
                                },
                                {
                                    "0": "TRIUNFO / PE"
                                },
                                {
                                    "0": "TRIUNFO / RS"
                                },
                                {
                                    "0": "TROMBAS / GO"
                                },
                                {
                                    "0": "TROMBUDO CENTRAL / SC"
                                },
                                {
                                    "0": "TUBARAO / SC"
                                },
                                {
                                    "0": "TUCANO / BA"
                                },
                                {
                                    "0": "TUCUMA / PA"
                                },
                                {
                                    "0": "TUCUNDUVA / RS"
                                },
                                {
                                    "0": "TUCURUI / PA"
                                },
                                {
                                    "0": "TUIUTI / SP"
                                },
                                {
                                    "0": "TUMIRITINGA / MG"
                                },
                                {
                                    "0": "TUNAPOLIS / SC"
                                },
                                {
                                    "0": "TUNAS DO PARANA / PR"
                                },
                                {
                                    "0": "TUPA / SP"
                                },
                                {
                                    "0": "TUPACIGUARA / MG"
                                },
                                {
                                    "0": "TUPANCIRETA / RS"
                                },
                                {
                                    "0": "TUPANDI / RS"
                                },
                                {
                                    "0": "TUPARECE / MG"
                                },
                                {
                                    "0": "TUPARENDI / RS"
                                },
                                {
                                    "0": "TUPARETAMA / PE"
                                },
                                {
                                    "0": "TUPASSI / PR"
                                },
                                {
                                    "0": "TUPI PAULISTA / SP"
                                },
                                {
                                    "0": "TURMALINA / MG"
                                },
                                {
                                    "0": "TURMALINA / SP"
                                },
                                {
                                    "0": "TURURU / CE"
                                },
                                {
                                    "0": "TURVANIA / GO"
                                },
                                {
                                    "0": "TURVELANDIA / GO"
                                },
                                {
                                    "0": "TURVO / PR"
                                },
                                {
                                    "0": "TURVO / SC"
                                },
                                {
                                    "0": "TURVOLANDIA / MG"
                                },
                                {
                                    "0": "TUTOIA / MA"
                                },
                                {
                                    "0": "UAUA / BA"
                                },
                                {
                                    "0": "UBA / MG"
                                },
                                {
                                    "0": "UBAI / MG"
                                },
                                {
                                    "0": "UBAIRA / BA"
                                },
                                {
                                    "0": "UBAITABA / BA"
                                },
                                {
                                    "0": "UBAJARA / CE"
                                },
                                {
                                    "0": "UBAPORANGA / MG"
                                },
                                {
                                    "0": "UBATA / BA"
                                },
                                {
                                    "0": "UBATUBA / SP"
                                },
                                {
                                    "0": "UBERABA / MG"
                                },
                                {
                                    "0": "UBERLANDIA / MG"
                                },
                                {
                                    "0": "UBIRAJARA / SP"
                                },
                                {
                                    "0": "UBIRATA / PR"
                                },
                                {
                                    "0": "UCHOA / SP"
                                },
                                {
                                    "0": "UIBAI / BA"
                                },
                                {
                                    "0": "UIRAUNA / PB"
                                },
                                {
                                    "0": "ULIANOPOLIS / PA"
                                },
                                {
                                    "0": "UMBAUBA / SE"
                                },
                                {
                                    "0": "UMBURANAS / BA"
                                },
                                {
                                    "0": "UMBURATIBA / MG"
                                },
                                {
                                    "0": "UMUARAMA / PR"
                                },
                                {
                                    "0": "UNA / BA"
                                },
                                {
                                    "0": "UNAI / MG"
                                },
                                {
                                    "0": "UNIAO / PI"
                                },
                                {
                                    "0": "UNIAO DA SERRA / RS"
                                },
                                {
                                    "0": "UNIAO DA VITORIA / PR"
                                },
                                {
                                    "0": "UNIAO DE MINAS / MG"
                                },
                                {
                                    "0": "UNIAO DO OESTE / SC"
                                },
                                {
                                    "0": "UNIAO DO SUL / MT"
                                },
                                {
                                    "0": "UNIAO DOS PALMARES / AL"
                                },
                                {
                                    "0": "UNISTALDA / RS"
                                },
                                {
                                    "0": "UPANEMA / RN"
                                },
                                {
                                    "0": "URAI / PR"
                                },
                                {
                                    "0": "URANDI / BA"
                                },
                                {
                                    "0": "URANIA / SP"
                                },
                                {
                                    "0": "URBANO SANTOS / MA"
                                },
                                {
                                    "0": "URUACU / GO"
                                },
                                {
                                    "0": "URUANA / GO"
                                },
                                {
                                    "0": "URUANA DE MINAS / MG"
                                },
                                {
                                    "0": "URUARA / PA"
                                },
                                {
                                    "0": "URUBICI / SC"
                                },
                                {
                                    "0": "URUBURETAMA / CE"
                                },
                                {
                                    "0": "URUCANIA / MG"
                                },
                                {
                                    "0": "URUCUCA / BA"
                                },
                                {
                                    "0": "URUCUI / PI"
                                },
                                {
                                    "0": "URUCUIA / MG"
                                },
                                {
                                    "0": "URUCURITUBA / AM"
                                },
                                {
                                    "0": "URUGUAIANA / RS"
                                },
                                {
                                    "0": "URUOCA / CE"
                                },
                                {
                                    "0": "URUPA / RO"
                                },
                                {
                                    "0": "URUPES / SP"
                                },
                                {
                                    "0": "URUSSANGA / SC"
                                },
                                {
                                    "0": "URUTAI / GO"
                                },
                                {
                                    "0": "UTINGA / BA"
                                },
                                {
                                    "0": "VACARIA / RS"
                                },
                                {
                                    "0": "VALAO DO BARRO / RJ"
                                },
                                {
                                    "0": "VALE DO SOL / RS"
                                },
                                {
                                    "0": "VALE REAL / RS"
                                },
                                {
                                    "0": "VALENCA / BA"
                                },
                                {
                                    "0": "VALENCA / RJ"
                                },
                                {
                                    "0": "VALENCA DO PIAUI / PI"
                                },
                                {
                                    "0": "VALENTE / BA"
                                },
                                {
                                    "0": "VALENTIM GENTIL / SP"
                                },
                                {
                                    "0": "VALINHOS / SP"
                                },
                                {
                                    "0": "VALPARAISO / SP"
                                },
                                {
                                    "0": "VALPARAISO DE GOIAS / GO"
                                },
                                {
                                    "0": "VANINI / RS"
                                },
                                {
                                    "0": "VARGEAO / SC"
                                },
                                {
                                    "0": "VARGEM / SP"
                                },
                                {
                                    "0": "VARGEM ALEGRE / MG"
                                },
                                {
                                    "0": "VARGEM ALEGRE / RJ"
                                },
                                {
                                    "0": "VARGEM ALTA / ES"
                                },
                                {
                                    "0": "VARGEM BONITA / SC"
                                },
                                {
                                    "0": "VARGEM GRANDE / MA"
                                },
                                {
                                    "0": "VARGEM GRANDE DO RIO PARDO / MG"
                                },
                                {
                                    "0": "VARGEM GRANDE DO SOTURNO / ES"
                                },
                                {
                                    "0": "VARGEM GRANDE DO SUL / SP"
                                },
                                {
                                    "0": "VARGEM GRANDE PAULISTA / SP"
                                },
                                {
                                    "0": "VARGINHA / MG"
                                },
                                {
                                    "0": "VARJAO DE MINAS / MG"
                                },
                                {
                                    "0": "VARJOTA / CE"
                                },
                                {
                                    "0": "VARRE-SAI / RJ"
                                },
                                {
                                    "0": "VARZEA / PB"
                                },
                                {
                                    "0": "VARZEA ALEGRE / CE"
                                },
                                {
                                    "0": "VARZEA DA PALMA / MG"
                                },
                                {
                                    "0": "VARZEA DO POCO / BA"
                                },
                                {
                                    "0": "VARZEA GRANDE / MT"
                                },
                                {
                                    "0": "VARZEA GRANDE / PI"
                                },
                                {
                                    "0": "VARZEA NOVA / BA"
                                },
                                {
                                    "0": "VARZEA PAULISTA / SP"
                                },
                                {
                                    "0": "VARZEDO / BA"
                                },
                                {
                                    "0": "VARZELANDIA / MG"
                                },
                                {
                                    "0": "VASSOURAS / RJ"
                                },
                                {
                                    "0": "VAZANTE / MG"
                                },
                                {
                                    "0": "VENANCIO AIRES / RS"
                                },
                                {
                                    "0": "VENDA BRANCA / SP"
                                },
                                {
                                    "0": "VENDA NOVA DO IMIGRANTE / ES"
                                },
                                {
                                    "0": "VENTANIA / PR"
                                },
                                {
                                    "0": "VENTUROSA / PE"
                                },
                                {
                                    "0": "VERA / MT"
                                },
                                {
                                    "0": "VERA CRUZ / BA"
                                },
                                {
                                    "0": "VERA CRUZ / RN"
                                },
                                {
                                    "0": "VERA CRUZ / RS"
                                },
                                {
                                    "0": "VERA CRUZ / SP"
                                },
                                {
                                    "0": "VERA CRUZ DO OESTE / PR"
                                },
                                {
                                    "0": "VERANOPOLIS / RS"
                                },
                                {
                                    "0": "VERE / PR"
                                },
                                {
                                    "0": "VEREDA / BA"
                                },
                                {
                                    "0": "VERISSIMO / MG"
                                },
                                {
                                    "0": "VERMELHO / MG"
                                },
                                {
                                    "0": "VERMELHO NOVO / MG"
                                },
                                {
                                    "0": "VERTENTES / PE"
                                },
                                {
                                    "0": "VESPASIANO / MG"
                                },
                                {
                                    "0": "VESPASIANO CORREA / RS"
                                },
                                {
                                    "0": "VIAMAO / RS"
                                },
                                {
                                    "0": "VIANA / ES"
                                },
                                {
                                    "0": "VIANA / MA"
                                },
                                {
                                    "0": "VIANOPOLIS / GO"
                                },
                                {
                                    "0": "VICENCIA / PE"
                                },
                                {
                                    "0": "VICENTE DUTRA / RS"
                                },
                                {
                                    "0": "VICENTINA / MS"
                                },
                                {
                                    "0": "VICENTINOPOLIS / GO"
                                },
                                {
                                    "0": "VICOSA / AL"
                                },
                                {
                                    "0": "VICOSA / MG"
                                },
                                {
                                    "0": "VICOSA / RN"
                                },
                                {
                                    "0": "VICOSA DO CEARA / CE"
                                },
                                {
                                    "0": "VICTOR GRAEFF / RS"
                                },
                                {
                                    "0": "VIDEIRA / SC"
                                },
                                {
                                    "0": "VIEIRAS / MG"
                                },
                                {
                                    "0": "VIGIA / PA"
                                },
                                {
                                    "0": "VILA BELA DA SANTISSIMA TRINDADE / MT"
                                },
                                {
                                    "0": "VILA DOS CABANOS / PA"
                                },
                                {
                                    "0": "VILA FLOR / RN"
                                },
                                {
                                    "0": "VILA FLORES / RS"
                                },
                                {
                                    "0": "VILA LANGARO / RS"
                                },
                                {
                                    "0": "VILA MURIQUI / RJ"
                                },
                                {
                                    "0": "VILA NELITA / ES"
                                },
                                {
                                    "0": "VILA NOVA / PR"
                                },
                                {
                                    "0": "VILA NOVA DO SUL / RS"
                                },
                                {
                                    "0": "VILA PEREIRA / MG"
                                },
                                {
                                    "0": "VILA REIS / PR"
                                },
                                {
                                    "0": "VILA RICA / MT"
                                },
                                {
                                    "0": "VILA VALERIO / ES"
                                },
                                {
                                    "0": "VILA VELHA / ES"
                                },
                                {
                                    "0": "VILHENA / RO"
                                },
                                {
                                    "0": "VINHEDO / SP"
                                },
                                {
                                    "0": "VIRADOURO / SP"
                                },
                                {
                                    "0": "VIRGEM DA LAPA / MG"
                                },
                                {
                                    "0": "VIRGINIA / MG"
                                },
                                {
                                    "0": "VIRGINOPOLIS / MG"
                                },
                                {
                                    "0": "VIRGOLANDIA / MG"
                                },
                                {
                                    "0": "VISCONDE DE MAUA / RJ"
                                },
                                {
                                    "0": "VISCONDE DO RIO BRANCO / MG"
                                },
                                {
                                    "0": "VISEU / PA"
                                },
                                {
                                    "0": "VISTA ALEGRE / RS"
                                },
                                {
                                    "0": "VISTA ALEGRE DO ALTO / SP"
                                },
                                {
                                    "0": "VITORIA / ES"
                                },
                                {
                                    "0": "VITORIA / PR"
                                },
                                {
                                    "0": "VITORIA DA CONQUISTA / BA"
                                },
                                {
                                    "0": "VITORIA DAS MISSOES / RS"
                                },
                                {
                                    "0": "VITORIA DE SANTO ANTAO / PE"
                                },
                                {
                                    "0": "VITORIA DO JARI / AP"
                                },
                                {
                                    "0": "VITORIA DO MEARIM / MA"
                                },
                                {
                                    "0": "VITORINO / PR"
                                },
                                {
                                    "0": "VITORINO FREIRE / MA"
                                },
                                {
                                    "0": "VITORINOS / MG"
                                },
                                {
                                    "0": "VOLTA GRANDE / MG"
                                },
                                {
                                    "0": "VOLTA REDONDA / RJ"
                                },
                                {
                                    "0": "VOTORANTIM / SP"
                                },
                                {
                                    "0": "VOTUPORANGA / SP"
                                },
                                {
                                    "0": "WAGNER / BA"
                                },
                                {
                                    "0": "WANDERLEY / BA"
                                },
                                {
                                    "0": "WENCESLAU BRAZ / PR"
                                },
                                {
                                    "0": "WENCESLAU GUIMARAES / BA"
                                },
                                {
                                    "0": "WERNECK / RJ"
                                },
                                {
                                    "0": "WITMARSUM / SC"
                                },
                                {
                                    "0": "XAMBIOA / TO"
                                },
                                {
                                    "0": "XAMBRE / PR"
                                },
                                {
                                    "0": "XANGRI-LA / RS"
                                },
                                {
                                    "0": "XANXERE / SC"
                                },
                                {
                                    "0": "XAPURI / AC"
                                },
                                {
                                    "0": "XAVANTINA / SC"
                                },
                                {
                                    "0": "XAXIM / SC"
                                },
                                {
                                    "0": "XEXEU / PE"
                                },
                                {
                                    "0": "XINGUARA / PA"
                                },
                                {
                                    "0": "XIQUE-XIQUE / BA"
                                },
                                {
                                    "0": "ZACARIAS / SP"
                                },
                                {
                                    "0": "ZE DOCA / MA"
                                },
                                {
                                    "0": "ZORTEA / SC"
                                }
                            ]
                        },
                        "text/html": [
                            "<table>",
                            "<tr><th>cidade_estado</th></tr>",
                            "<tr><td>ABADIA DOS DOURADOS / MG</td></tr>",
                            "<tr><td>ABADIANIA / GO</td></tr>",
                            "<tr><td>ABAETE / MG</td></tr>",
                            "<tr><td>ABAETETUBA / PA</td></tr>",
                            "<tr><td>ABAIARA / CE</td></tr>",
                            "<tr><td>ABAIRA / BA</td></tr>",
                            "<tr><td>ABARE / BA</td></tr>",
                            "<tr><td>ABATIA / PR</td></tr>",
                            "<tr><td>ABDON BATISTA / SC</td></tr>",
                            "<tr><td>ABELARDO LUZ / SC</td></tr>",
                            "<tr><td>ABRANTES / BA</td></tr>",
                            "<tr><td>ABRE CAMPO / MG</td></tr>",
                            "<tr><td>ABREU E LIMA / PE</td></tr>",
                            "<tr><td>ACAIACA / MG</td></tr>",
                            "<tr><td>ACAILANDIA / MA</td></tr>",
                            "<tr><td>ACAJUTIBA / BA</td></tr>",
                            "<tr><td>ACARAU / CE</td></tr>",
                            "<tr><td>ACARI / RN</td></tr>",
                            "<tr><td>ACEGUA / RS</td></tr>",
                            "<tr><td>ACOPIARA / CE</td></tr>",
                            "<tr><td>ACREUNA / GO</td></tr>",
                            "<tr><td>ACU / RN</td></tr>",
                            "<tr><td>ACUCENA / MG</td></tr>",
                            "<tr><td>ADAMANTINA / SP</td></tr>",
                            "<tr><td>ADHEMAR DE BARROS / PR</td></tr>",
                            "<tr><td>ADOLFO / SP</td></tr>",
                            "<tr><td>ADRIANOPOLIS / PR</td></tr>",
                            "<tr><td>ADUSTINA / BA</td></tr>",
                            "<tr><td>AFOGADOS DA INGAZEIRA / PE</td></tr>",
                            "<tr><td>AFONSO CLAUDIO / ES</td></tr>",
                            "<tr><td>AFRANIO / PE</td></tr>",
                            "<tr><td>AGISSE / SP</td></tr>",
                            "<tr><td>AGRESTINA / PE</td></tr>",
                            "<tr><td>AGROLANDIA / SC</td></tr>",
                            "<tr><td>AGRONOMICA / SC</td></tr>",
                            "<tr><td>AGUA BOA / MT</td></tr>",
                            "<tr><td>AGUA BRANCA / AL</td></tr>",
                            "<tr><td>AGUA BRANCA / PB</td></tr>",
                            "<tr><td>AGUA BRANCA / PI</td></tr>",
                            "<tr><td>AGUA CLARA / MS</td></tr>",
                            "<tr><td>AGUA COMPRIDA / MG</td></tr>",
                            "<tr><td>AGUA DOCE / SC</td></tr>",
                            "<tr><td>AGUA DOCE DO NORTE / ES</td></tr>",
                            "<tr><td>AGUA FRIA DE GOIAS / GO</td></tr>",
                            "<tr><td>AGUA LIMPA / GO</td></tr>",
                            "<tr><td>AGUA NOVA / RN</td></tr>",
                            "<tr><td>AGUA PRETA / PE</td></tr>",
                            "<tr><td>AGUA SANTA / RS</td></tr>",
                            "<tr><td>AGUAI / SP</td></tr>",
                            "<tr><td>AGUAS BELAS / PE</td></tr>",
                            "<tr><td>AGUAS CLARAS / RS</td></tr>",
                            "<tr><td>AGUAS DA PRATA / SP</td></tr>",
                            "<tr><td>AGUAS DE LINDOIA / SP</td></tr>",
                            "<tr><td>AGUAS DE SANTA BARBARA / SP</td></tr>",
                            "<tr><td>AGUAS DE SAO PEDRO / SP</td></tr>",
                            "<tr><td>AGUAS FORMOSAS / MG</td></tr>",
                            "<tr><td>AGUAS FRIAS / SC</td></tr>",
                            "<tr><td>AGUAS LINDAS DE GOIAS / GO</td></tr>",
                            "<tr><td>AGUAS MORNAS / SC</td></tr>",
                            "<tr><td>AGUAS VERMELHAS / MG</td></tr>",
                            "<tr><td>AGUDO / RS</td></tr>",
                            "<tr><td>AGUDOS / SP</td></tr>",
                            "<tr><td>AGUIA BRANCA / ES</td></tr>",
                            "<tr><td>AIMORES / MG</td></tr>",
                            "<tr><td>AIUABA / CE</td></tr>",
                            "<tr><td>AIURUOCA / MG</td></tr>",
                            "<tr><td>AJAPI / SP</td></tr>",
                            "<tr><td>AJURICABA / RS</td></tr>",
                            "<tr><td>ALAGOA / MG</td></tr>",
                            "<tr><td>ALAGOA GRANDE / PB</td></tr>",
                            "<tr><td>ALAGOA NOVA / PB</td></tr>",
                            "<tr><td>ALAGOINHA / PB</td></tr>",
                            "<tr><td>ALAGOINHAS / BA</td></tr>",
                            "<tr><td>ALAMBARI / SP</td></tr>",
                            "<tr><td>ALCANTARA / MA</td></tr>",
                            "<tr><td>ALCINOPOLIS / MS</td></tr>",
                            "<tr><td>ALCOBACA / BA</td></tr>",
                            "<tr><td>ALEGRE / ES</td></tr>",
                            "<tr><td>ALEGRETE / RS</td></tr>",
                            "<tr><td>ALEGRETE DO PIAUI / PI</td></tr>",
                            "<tr><td>ALEGRIA / RS</td></tr>",
                            "<tr><td>ALEM PARAIBA / MG</td></tr>",
                            "<tr><td>ALEXANDRA / PR</td></tr>",
                            "<tr><td>ALEXANDRIA / RN</td></tr>",
                            "<tr><td>ALEXANDRITA / MG</td></tr>",
                            "<tr><td>ALEXANIA / GO</td></tr>",
                            "<tr><td>ALFENAS / MG</td></tr>",
                            "<tr><td>ALFREDO CHAVES / ES</td></tr>",
                            "<tr><td>ALFREDO MARCONDES / SP</td></tr>",
                            "<tr><td>ALFREDO VASCONCELOS / MG</td></tr>",
                            "<tr><td>ALFREDO WAGNER / SC</td></tr>",
                            "<tr><td>ALHANDRA / PB</td></tr>",
                            "<tr><td>ALIANCA / PE</td></tr>",
                            "<tr><td>ALIANCA DO TOCANTINS / TO</td></tr>",
                            "<tr><td>ALMAS / TO</td></tr>",
                            "<tr><td>ALMENARA / MG</td></tr>",
                            "<tr><td>ALMINO AFONSO / RN</td></tr>",
                            "<tr><td>ALMIRANTE TAMANDARE / PR</td></tr>",
                            "<tr><td>ALMIRANTE TAMANDARE DO SUL / RS</td></tr>",
                            "<tr><td>ALPERCATA / MG</td></tr>",
                            "<tr><td>ALPESTRE / RS</td></tr>",
                            "<tr><td>ALPINOPOLIS / MG</td></tr>",
                            "<tr><td>ALTA FLORESTA / MT</td></tr>",
                            "<tr><td>ALTA FLORESTA D'OESTE / RO</td></tr>",
                            "<tr><td>ALTAMIRA / PA</td></tr>",
                            "<tr><td>ALTAMIRA DO PARANA / PR</td></tr>",
                            "<tr><td>ALTANEIRA / CE</td></tr>",
                            "<tr><td>ALTEROSA / MG</td></tr>",
                            "<tr><td>ALTINHO / PE</td></tr>",
                            "<tr><td>ALTINOPOLIS / SP</td></tr>",
                            "<tr><td>ALTO ALEGRE / PR</td></tr>",
                            "<tr><td>ALTO ALEGRE / RS</td></tr>",
                            "<tr><td>ALTO ALEGRE DO IGUACU / PR</td></tr>",
                            "<tr><td>ALTO ALEGRE DO MARANHAO / MA</td></tr>",
                            "<tr><td>ALTO ALEGRE DO PINDARE / MA</td></tr>",
                            "<tr><td>ALTO ARAGUAIA / MT</td></tr>",
                            "<tr><td>ALTO BELA VISTA / SC</td></tr>",
                            "<tr><td>ALTO BOA VISTA / MT</td></tr>",
                            "<tr><td>ALTO CAPARAO / MG</td></tr>",
                            "<tr><td>ALTO DO RODRIGUES / RN</td></tr>",
                            "<tr><td>ALTO GARCAS / MT</td></tr>",
                            "<tr><td>ALTO HORIZONTE / GO</td></tr>",
                            "<tr><td>ALTO JEQUITIBA / MG</td></tr>",
                            "<tr><td>ALTO PARAISO / PR</td></tr>",
                            "<tr><td>ALTO PARAISO / RO</td></tr>",
                            "<tr><td>ALTO PARAISO DE GOIAS / GO</td></tr>",
                            "<tr><td>ALTO PARANA / PR</td></tr>",
                            "<tr><td>ALTO PARNAIBA / MA</td></tr>",
                            "<tr><td>ALTO PIQUIRI / PR</td></tr>",
                            "<tr><td>ALTO RIO DOCE / MG</td></tr>",
                            "<tr><td>ALTO RIO NOVO / ES</td></tr>",
                            "<tr><td>ALTO SANTO / CE</td></tr>",
                            "<tr><td>ALTO SAO JOAO / PR</td></tr>",
                            "<tr><td>ALTO TAQUARI / MT</td></tr>",
                            "<tr><td>ALTONIA / PR</td></tr>",
                            "<tr><td>ALTOS / PI</td></tr>",
                            "<tr><td>ALUMINIO / SP</td></tr>",
                            "<tr><td>ALVARENGA / MG</td></tr>",
                            "<tr><td>ALVARES FLORENCE / SP</td></tr>",
                            "<tr><td>ALVARES MACHADO / SP</td></tr>",
                            "<tr><td>ALVARO DE CARVALHO / SP</td></tr>",
                            "<tr><td>ALVINOPOLIS / MG</td></tr>",
                            "<tr><td>ALVORADA / RS</td></tr>",
                            "<tr><td>ALVORADA / TO</td></tr>",
                            "<tr><td>ALVORADA DO GURGUEIA / PI</td></tr>",
                            "<tr><td>ALVORADA DO NORTE / GO</td></tr>",
                            "<tr><td>ALVORADA D'OESTE / RO</td></tr>",
                            "<tr><td>AMAMBAI / MS</td></tr>",
                            "<tr><td>AMANARI / CE</td></tr>",
                            "<tr><td>AMAPA DO MARANHAO / MA</td></tr>",
                            "<tr><td>AMAPORA / PR</td></tr>",
                            "<tr><td>AMARAJI / PE</td></tr>",
                            "<tr><td>AMARANTE / PI</td></tr>",
                            "<tr><td>AMARGOSA / BA</td></tr>",
                            "<tr><td>AMELIA RODRIGUES / BA</td></tr>",
                            "<tr><td>AMERICA DOURADA / BA</td></tr>",
                            "<tr><td>AMERICANA / SP</td></tr>",
                            "<tr><td>AMERICANO DO BRASIL / GO</td></tr>",
                            "<tr><td>AMERICO BRASILIENSE / SP</td></tr>",
                            "<tr><td>AMERICO DE CAMPOS / SP</td></tr>",
                            "<tr><td>AMETISTA DO SUL / RS</td></tr>",
                            "<tr><td>AMONTADA / CE</td></tr>",
                            "<tr><td>AMPARO / SP</td></tr>",
                            "<tr><td>AMPARO DA SERRA / MG</td></tr>",
                            "<tr><td>AMPERE / PR</td></tr>",
                            "<tr><td>ANADIA / AL</td></tr>",
                            "<tr><td>ANAGE / BA</td></tr>",
                            "<tr><td>ANALANDIA / SP</td></tr>",
                            "<tr><td>ANANAS / TO</td></tr>",
                            "<tr><td>ANANINDEUA / PA</td></tr>",
                            "<tr><td>ANAPOLIS / GO</td></tr>",
                            "<tr><td>ANASTACIO / MS</td></tr>",
                            "<tr><td>ANAURILANDIA / MS</td></tr>",
                            "<tr><td>ANCHIETA / ES</td></tr>",
                            "<tr><td>ANCHIETA / SC</td></tr>",
                            "<tr><td>ANDARAI / BA</td></tr>",
                            "<tr><td>ANDIRA / PR</td></tr>",
                            "<tr><td>ANDORINHA / BA</td></tr>",
                            "<tr><td>ANDRADAS / MG</td></tr>",
                            "<tr><td>ANDRADINA / SP</td></tr>",
                            "<tr><td>ANDRE DA ROCHA / RS</td></tr>",
                            "<tr><td>ANDRELANDIA / MG</td></tr>",
                            "<tr><td>ANDREQUICE / MG</td></tr>",
                            "<tr><td>ANGATUBA / SP</td></tr>",
                            "<tr><td>ANGELICA / MS</td></tr>",
                            "<tr><td>ANGELINA / SC</td></tr>",
                            "<tr><td>ANGELO FRECHIANI / ES</td></tr>",
                            "<tr><td>ANGICAL / BA</td></tr>",
                            "<tr><td>ANGICAL DO PIAUI / PI</td></tr>",
                            "<tr><td>ANGICOS / RN</td></tr>",
                            "<tr><td>ANGRA DOS REIS / RJ</td></tr>",
                            "<tr><td>ANGUERA / BA</td></tr>",
                            "<tr><td>ANGULO / PR</td></tr>",
                            "<tr><td>ANGUSTURA / MG</td></tr>",
                            "<tr><td>ANHANDUI / MS</td></tr>",
                            "<tr><td>ANHEMBI / SP</td></tr>",
                            "<tr><td>ANHUMAS / SP</td></tr>",
                            "<tr><td>ANICUNS / GO</td></tr>",
                            "<tr><td>ANITA GARIBALDI / SC</td></tr>",
                            "<tr><td>ANITAPOLIS / SC</td></tr>",
                            "<tr><td>ANTA / RJ</td></tr>",
                            "<tr><td>ANTA GORDA / RS</td></tr>",
                            "<tr><td>ANTONINA / PR</td></tr>",
                            "<tr><td>ANTONINA DO NORTE / CE</td></tr>",
                            "<tr><td>ANTONIO CARDOSO / BA</td></tr>",
                            "<tr><td>ANTONIO CARLOS / MG</td></tr>",
                            "<tr><td>ANTONIO CARLOS / SC</td></tr>",
                            "<tr><td>ANTONIO GONCALVES / BA</td></tr>",
                            "<tr><td>ANTONIO MARTINS / RN</td></tr>",
                            "<tr><td>ANTONIO PEREIRA / MG</td></tr>",
                            "<tr><td>ANTONIO PRADO / RS</td></tr>",
                            "<tr><td>ANTONIO PRADO DE MINAS / MG</td></tr>",
                            "<tr><td>ANTUNES / MG</td></tr>",
                            "<tr><td>APARECIDA / SP</td></tr>",
                            "<tr><td>APARECIDA DE GOIANIA / GO</td></tr>",
                            "<tr><td>APARECIDA DE MONTE ALTO / SP</td></tr>",
                            "<tr><td>APARECIDA DE SAO MANUEL / SP</td></tr>",
                            "<tr><td>APARECIDA DO RIO NEGRO / TO</td></tr>",
                            "<tr><td>APARECIDA DO TABOADO / MS</td></tr>",
                            "<tr><td>APARECIDA D'OESTE / SP</td></tr>",
                            "<tr><td>APERIBE / RJ</td></tr>",
                            "<tr><td>APIACA / ES</td></tr>",
                            "<tr><td>APIACAS / MT</td></tr>",
                            "<tr><td>APIAI / SP</td></tr>",
                            "<tr><td>APIUNA / SC</td></tr>",
                            "<tr><td>APODI / RN</td></tr>",
                            "<tr><td>APORA / BA</td></tr>",
                            "<tr><td>APORE / GO</td></tr>",
                            "<tr><td>APUAREMA / BA</td></tr>",
                            "<tr><td>APUCARANA / PR</td></tr>",
                            "<tr><td>APUIARES / CE</td></tr>",
                            "<tr><td>AQUIDABA / SE</td></tr>",
                            "<tr><td>AQUIDAUANA / MS</td></tr>",
                            "<tr><td>AQUIRAZ / CE</td></tr>",
                            "<tr><td>ARACAJU / SE</td></tr>",
                            "<tr><td>ARACARIGUAMA / SP</td></tr>",
                            "<tr><td>ARACATI / CE</td></tr>",
                            "<tr><td>ARACATU / BA</td></tr>",
                            "<tr><td>ARACATUBA / SP</td></tr>",
                            "<tr><td>ARACE / ES</td></tr>",
                            "<tr><td>ARACI / BA</td></tr>",
                            "<tr><td>ARACITABA / MG</td></tr>",
                            "<tr><td>ARACOIABA / CE</td></tr>",
                            "<tr><td>ARACOIABA / PE</td></tr>",
                            "<tr><td>ARACOIABA DA SERRA / SP</td></tr>",
                            "<tr><td>ARACRUZ / ES</td></tr>",
                            "<tr><td>ARACUAI / MG</td></tr>",
                            "<tr><td>ARAGARCAS / GO</td></tr>",
                            "<tr><td>ARAGOIANIA / GO</td></tr>",
                            "<tr><td>ARAGUACU / TO</td></tr>",
                            "<tr><td>ARAGUAIA / ES</td></tr>",
                            "<tr><td>ARAGUAINA / TO</td></tr>",
                            "<tr><td>ARAGUANA / MA</td></tr>",
                            "<tr><td>ARAGUAPAZ / GO</td></tr>",
                            "<tr><td>ARAGUARI / MG</td></tr>",
                            "<tr><td>ARAGUATINS / TO</td></tr>",
                            "<tr><td>ARAMARI / BA</td></tr>",
                            "<tr><td>ARAME / MA</td></tr>",
                            "<tr><td>ARAMINA / SP</td></tr>",
                            "<tr><td>ARANDU / SP</td></tr>",
                            "<tr><td>ARANTINA / MG</td></tr>",
                            "<tr><td>ARAPEI / SP</td></tr>",
                            "<tr><td>ARAPIRACA / AL</td></tr>",
                            "<tr><td>ARAPOEMA / TO</td></tr>",
                            "<tr><td>ARAPONGA / MG</td></tr>",
                            "<tr><td>ARAPONGAS / PR</td></tr>",
                            "<tr><td>ARAPORA / MG</td></tr>",
                            "<tr><td>ARAPOTI / PR</td></tr>",
                            "<tr><td>ARAPUA / MG</td></tr>",
                            "<tr><td>ARAPUTANGA / MT</td></tr>",
                            "<tr><td>ARAQUARI / SC</td></tr>",
                            "<tr><td>ARARA / PB</td></tr>",
                            "<tr><td>ARARANGUA / SC</td></tr>",
                            "<tr><td>ARARAQUARA / SP</td></tr>",
                            "<tr><td>ARARAS / SP</td></tr>",
                            "<tr><td>ARARI / MA</td></tr>",
                            "<tr><td>ARARICA / RS</td></tr>",
                            "<tr><td>ARARIPE / CE</td></tr>",
                            "<tr><td>ARARIPINA / PE</td></tr>",
                            "<tr><td>ARARUAMA / RJ</td></tr>",
                            "<tr><td>ARARUNA / PB</td></tr>",
                            "<tr><td>ARARUNA / PR</td></tr>",
                            "<tr><td>ARATACA / BA</td></tr>",
                            "<tr><td>ARATIBA / RS</td></tr>",
                            "<tr><td>ARATUBA / CE</td></tr>",
                            "<tr><td>ARAUCARIA / PR</td></tr>",
                            "<tr><td>ARAUJOS / MG</td></tr>",
                            "<tr><td>ARAXA / MG</td></tr>",
                            "<tr><td>ARCEBURGO / MG</td></tr>",
                            "<tr><td>ARCOS / MG</td></tr>",
                            "<tr><td>ARCOVERDE / PE</td></tr>",
                            "<tr><td>AREADO / MG</td></tr>",
                            "<tr><td>AREAL / RJ</td></tr>",
                            "<tr><td>AREALVA / SP</td></tr>",
                            "<tr><td>AREIA / PB</td></tr>",
                            "<tr><td>AREIA BRANCA / RN</td></tr>",
                            "<tr><td>AREIA BRANCA DOS ASSIS / PR</td></tr>",
                            "<tr><td>AREIAL / PB</td></tr>",
                            "<tr><td>AREIAS / SP</td></tr>",
                            "<tr><td>AREIOPOLIS / SP</td></tr>",
                            "<tr><td>AREMBEPE / BA</td></tr>",
                            "<tr><td>ARENAPOLIS / MT</td></tr>",
                            "<tr><td>ARENOPOLIS / GO</td></tr>",
                            "<tr><td>ARIBICE / BA</td></tr>",
                            "<tr><td>ARINOS / MG</td></tr>",
                            "<tr><td>ARIPUANA / MT</td></tr>",
                            "<tr><td>ARIQUEMES / RO</td></tr>",
                            "<tr><td>ARIRANHA / SP</td></tr>",
                            "<tr><td>ARMACAO DOS BUZIOS / RJ</td></tr>",
                            "<tr><td>ARMAZEM / SC</td></tr>",
                            "<tr><td>ARNEIROZ / CE</td></tr>",
                            "<tr><td>AROEIRAS / PB</td></tr>",
                            "<tr><td>ARRAIAL D AJUDA / BA</td></tr>",
                            "<tr><td>ARRAIAL D'AJUDA / BA</td></tr>",
                            "<tr><td>ARRAIAL DO CABO / RJ</td></tr>",
                            "<tr><td>ARRAIAS / TO</td></tr>",
                            "<tr><td>ARROIO DO MEIO / RS</td></tr>",
                            "<tr><td>ARROIO DO SAL / RS</td></tr>",
                            "<tr><td>ARROIO DO TIGRE / RS</td></tr>",
                            "<tr><td>ARROIO DOS RATOS / RS</td></tr>",
                            "<tr><td>ARROIO GRANDE / RS</td></tr>",
                            "<tr><td>ARROIO TRINTA / SC</td></tr>",
                            "<tr><td>ARROZAL / RJ</td></tr>",
                            "<tr><td>ARTUR NOGUEIRA / SP</td></tr>",
                            "<tr><td>ARUANA / GO</td></tr>",
                            "<tr><td>ARUJA / SP</td></tr>",
                            "<tr><td>ARVOREDO / SC</td></tr>",
                            "<tr><td>ARVOREZINHA / RS</td></tr>",
                            "<tr><td>ASCURRA / SC</td></tr>",
                            "<tr><td>ASSAI / PR</td></tr>",
                            "<tr><td>ASSARE / CE</td></tr>",
                            "<tr><td>ASSIS / SP</td></tr>",
                            "<tr><td>ASSIS CHATEAUBRIAND / PR</td></tr>",
                            "<tr><td>ASSUNCAO / PB</td></tr>",
                            "<tr><td>ASTOLFO DUTRA / MG</td></tr>",
                            "<tr><td>ASTORGA / PR</td></tr>",
                            "<tr><td>ATALAIA / AL</td></tr>",
                            "<tr><td>ATALANTA / SC</td></tr>",
                            "<tr><td>ATALEIA / MG</td></tr>",
                            "<tr><td>ATIBAIA / SP</td></tr>",
                            "<tr><td>ATILIO VIVACQUA / ES</td></tr>",
                            "<tr><td>AUGUSTINOPOLIS / TO</td></tr>",
                            "<tr><td>AUGUSTO CORREA / PA</td></tr>",
                            "<tr><td>AUGUSTO PESTANA / RS</td></tr>",
                            "<tr><td>AUREA / RS</td></tr>",
                            "<tr><td>AURIFLAMA / SP</td></tr>",
                            "<tr><td>AURILANDIA / GO</td></tr>",
                            "<tr><td>AURORA / CE</td></tr>",
                            "<tr><td>AURORA / SC</td></tr>",
                            "<tr><td>AURORA DO PARA / PA</td></tr>",
                            "<tr><td>AVAI / SP</td></tr>",
                            "<tr><td>AVANHANDAVA / SP</td></tr>",
                            "<tr><td>AVARE / SP</td></tr>",
                            "<tr><td>AVELAR / RJ</td></tr>",
                            "<tr><td>AVELINO LOPES / PI</td></tr>",
                            "<tr><td>AZURITA / MG</td></tr>",
                            "<tr><td>BACABAL / MA</td></tr>",
                            "<tr><td>BACAXA / RJ</td></tr>",
                            "<tr><td>BACURI / MA</td></tr>",
                            "<tr><td>BADY BASSITT / SP</td></tr>",
                            "<tr><td>BAEPENDI / MG</td></tr>",
                            "<tr><td>BAGE / RS</td></tr>",
                            "<tr><td>BAGUARI / MG</td></tr>",
                            "<tr><td>BAIANOPOLIS / BA</td></tr>",
                            "<tr><td>BAIXA GRANDE / BA</td></tr>",
                            "<tr><td>BAIXA GRANDE DO RIBEIRO / PI</td></tr>",
                            "<tr><td>BAIXO GUANDU / ES</td></tr>",
                            "<tr><td>BALBINOS / SP</td></tr>",
                            "<tr><td>BALDIM / MG</td></tr>",
                            "<tr><td>BALNEARIO ARROIO DO SILVA / SC</td></tr>",
                            "<tr><td>BALNEARIO BARRA DO SUL / SC</td></tr>",
                            "<tr><td>BALNEARIO CAMBORIU / SC</td></tr>",
                            "<tr><td>BALNEARIO GAIVOTA / SC</td></tr>",
                            "<tr><td>BALNEARIO PICARRAS / SC</td></tr>",
                            "<tr><td>BALNEARIO PINHAL / RS</td></tr>",
                            "<tr><td>BALNEARIO RINCAO / SC</td></tr>",
                            "<tr><td>BALSA NOVA / PR</td></tr>",
                            "<tr><td>BALSAMO / SP</td></tr>",
                            "<tr><td>BALSAS / MA</td></tr>",
                            "<tr><td>BAMBUI / MG</td></tr>",
                            "<tr><td>BANABUIU / CE</td></tr>",
                            "<tr><td>BANANAL / SP</td></tr>",
                            "<tr><td>BANANEIRAS / PB</td></tr>",
                            "<tr><td>BANDEIRA / MG</td></tr>",
                            "<tr><td>BANDEIRA DO SUL / MG</td></tr>",
                            "<tr><td>BANDEIRANTES / MS</td></tr>",
                            "<tr><td>BANDEIRANTES / PR</td></tr>",
                            "<tr><td>BANDEIRANTES DO TOCANTINS / TO</td></tr>",
                            "<tr><td>BANDEIRANTES D'OESTE / SP</td></tr>",
                            "<tr><td>BANZAE / BA</td></tr>",
                            "<tr><td>BARAO / RS</td></tr>",
                            "<tr><td>BARAO ATALIBA NOGUEIRA / SP</td></tr>",
                            "<tr><td>BARAO DE COCAIS / MG</td></tr>",
                            "<tr><td>BARAO DE COTEGIPE / RS</td></tr>",
                            "<tr><td>BARAO DE JUPARANA / RJ</td></tr>",
                            "<tr><td>BARAO DO TRIUNFO / RS</td></tr>",
                            "<tr><td>BARAUNA / RN</td></tr>",
                            "<tr><td>BARBACENA / MG</td></tr>",
                            "<tr><td>BARBALHA / CE</td></tr>",
                            "<tr><td>BARBOSA FERRAZ / PR</td></tr>",
                            "<tr><td>BARCARENA / PA</td></tr>",
                            "<tr><td>BARIRI / SP</td></tr>",
                            "<tr><td>BARRA / BA</td></tr>",
                            "<tr><td>BARRA BONITA / SP</td></tr>",
                            "<tr><td>BARRA DA ESTIVA / BA</td></tr>",
                            "<tr><td>BARRA DE GUABIRABA / PE</td></tr>",
                            "<tr><td>BARRA DE SANTA ROSA / PB</td></tr>",
                            "<tr><td>BARRA DE SANTO ANTONIO / AL</td></tr>",
                            "<tr><td>BARRA DE SAO FRANCISCO / ES</td></tr>",
                            "<tr><td>BARRA DE SAO JOAO / RJ</td></tr>",
                            "<tr><td>BARRA DE SAO MIGUEL / AL</td></tr>",
                            "<tr><td>BARRA DO BUGRES / MT</td></tr>",
                            "<tr><td>BARRA DO CHOCA / BA</td></tr>",
                            "<tr><td>BARRA DO CORDA / MA</td></tr>",
                            "<tr><td>BARRA DO GARCAS / MT</td></tr>",
                            "<tr><td>BARRA DO JACARE / PR</td></tr>",
                            "<tr><td>BARRA DO MENDES / BA</td></tr>",
                            "<tr><td>BARRA DO PIRAI / RJ</td></tr>",
                            "<tr><td>BARRA DO RIBEIRO / RS</td></tr>",
                            "<tr><td>BARRA DO RIO AZUL / RS</td></tr>",
                            "<tr><td>BARRA DO TARRACHIL / BA</td></tr>",
                            "<tr><td>BARRA DO TURVO / SP</td></tr>",
                            "<tr><td>BARRA DOS COQUEIROS / SE</td></tr>",
                            "<tr><td>BARRA LONGA / MG</td></tr>",
                            "<tr><td>BARRA MANSA / RJ</td></tr>",
                            "<tr><td>BARRA VELHA / SC</td></tr>",
                            "<tr><td>BARRACAO / PR</td></tr>",
                            "<tr><td>BARRACAO / RS</td></tr>",
                            "<tr><td>BARRAS / PI</td></tr>",
                            "<tr><td>BARREIRA / CE</td></tr>",
                            "<tr><td>BARREIRAS / BA</td></tr>",
                            "<tr><td>BARREIRINHAS / MA</td></tr>",
                            "<tr><td>BARREIROS / PE</td></tr>",
                            "<tr><td>BARRETOS / SP</td></tr>",
                            "<tr><td>BARRINHA / SP</td></tr>",
                            "<tr><td>BARRO / CE</td></tr>",
                            "<tr><td>BARRO ALTO / BA</td></tr>",
                            "<tr><td>BARRO ALTO / GO</td></tr>",
                            "<tr><td>BARRO PRETO / BA</td></tr>",
                            "<tr><td>BARROCAS / BA</td></tr>",
                            "<tr><td>BARROLANDIA / TO</td></tr>",
                            "<tr><td>BARROS CASSAL / RS</td></tr>",
                            "<tr><td>BARROSO / MG</td></tr>",
                            "<tr><td>BARUERI / SP</td></tr>",
                            "<tr><td>BASTOS / SP</td></tr>",
                            "<tr><td>BATAGUASSU / MS</td></tr>",
                            "<tr><td>BATAIPORA / MS</td></tr>",
                            "<tr><td>BATALHA / AL</td></tr>",
                            "<tr><td>BATATAIS / SP</td></tr>",
                            "<tr><td>BATAYPORA / MS</td></tr>",
                            "<tr><td>BATURITE / CE</td></tr>",
                            "<tr><td>BAURU / SP</td></tr>",
                            "<tr><td>BAYEUX / PB</td></tr>",
                            "<tr><td>BEBEDOURO / SP</td></tr>",
                            "<tr><td>BEBERIBE / CE</td></tr>",
                            "<tr><td>BELA CRUZ / CE</td></tr>",
                            "<tr><td>BELA VISTA / MS</td></tr>",
                            "<tr><td>BELA VISTA DE GOIAS / GO</td></tr>",
                            "<tr><td>BELA VISTA DE MINAS / MG</td></tr>",
                            "<tr><td>BELA VISTA DO MARANHAO / MA</td></tr>",
                            "<tr><td>BELA VISTA DO PARAISO / PR</td></tr>",
                            "<tr><td>BELEM / AL</td></tr>",
                            "<tr><td>BELEM / PA</td></tr>",
                            "<tr><td>BELEM / PB</td></tr>",
                            "<tr><td>BELEM DO SAO FRANCISCO / PE</td></tr>",
                            "<tr><td>BELFORD ROXO / RJ</td></tr>",
                            "<tr><td>BELMONTE / BA</td></tr>",
                            "<tr><td>BELMONTE / SC</td></tr>",
                            "<tr><td>BELO CAMPO / BA</td></tr>",
                            "<tr><td>BELO HORIZONTE / MG</td></tr>",
                            "<tr><td>BELO JARDIM / PE</td></tr>",
                            "<tr><td>BELO ORIENTE / MG</td></tr>",
                            "<tr><td>BELO VALE / MG</td></tr>",
                            "<tr><td>BEMPOSTA / RJ</td></tr>",
                            "<tr><td>BENEDITO LEITE / MA</td></tr>",
                            "<tr><td>BENEDITO NOVO / SC</td></tr>",
                            "<tr><td>BENEVIDES / PA</td></tr>",
                            "<tr><td>BENTO DE ABREU / SP</td></tr>",
                            "<tr><td>BENTO GONCALVES / RS</td></tr>",
                            "<tr><td>BEQUIMAO / MA</td></tr>",
                            "<tr><td>BERILO / MG</td></tr>",
                            "<tr><td>BERIZAL / MG</td></tr>",
                            "<tr><td>BERNARDINO DE CAMPOS / SP</td></tr>",
                            "<tr><td>BERTIOGA / SP</td></tr>",
                            "<tr><td>BERTOLINIA / PI</td></tr>",
                            "<tr><td>BERTOPOLIS / MG</td></tr>",
                            "<tr><td>BETIM / MG</td></tr>",
                            "<tr><td>BEZERROS / PE</td></tr>",
                            "<tr><td>BIAS FORTES / MG</td></tr>",
                            "<tr><td>BICAS / MG</td></tr>",
                            "<tr><td>BIGUACU / SC</td></tr>",
                            "<tr><td>BILAC / SP</td></tr>",
                            "<tr><td>BIRIGUI / SP</td></tr>",
                            "<tr><td>BIRITIBA-MIRIM / SP</td></tr>",
                            "<tr><td>BIRITINGA / BA</td></tr>",
                            "<tr><td>BITURUNA / PR</td></tr>",
                            "<tr><td>BLUMENAU / SC</td></tr>",
                            "<tr><td>BOA ESPERANCA / ES</td></tr>",
                            "<tr><td>BOA ESPERANCA / MG</td></tr>",
                            "<tr><td>BOA ESPERANCA / PR</td></tr>",
                            "<tr><td>BOA ESPERANCA / RJ</td></tr>",
                            "<tr><td>BOA ESPERANCA DO IGUACU / PR</td></tr>",
                            "<tr><td>BOA ESPERANCA DO SUL / SP</td></tr>",
                            "<tr><td>BOA VENTURA / RJ</td></tr>",
                            "<tr><td>BOA VIAGEM / CE</td></tr>",
                            "<tr><td>BOA VISTA / RR</td></tr>",
                            "<tr><td>BOA VISTA DA APARECIDA / PR</td></tr>",
                            "<tr><td>BOA VISTA DAS MISSOES / RS</td></tr>",
                            "<tr><td>BOA VISTA DO BURICA / RS</td></tr>",
                            "<tr><td>BOA VISTA DO CADEADO / RS</td></tr>",
                            "<tr><td>BOA VISTA DO GURUPI / MA</td></tr>",
                            "<tr><td>BOA VISTA DO SUL / RS</td></tr>",
                            "<tr><td>BOCA DA MATA / AL</td></tr>",
                            "<tr><td>BOCAINA / PI</td></tr>",
                            "<tr><td>BOCAINA / SP</td></tr>",
                            "<tr><td>BOCAIUVA / MG</td></tr>",
                            "<tr><td>BOCAIUVA DO SUL / PR</td></tr>",
                            "<tr><td>BODO / RN</td></tr>",
                            "<tr><td>BODOCO / PE</td></tr>",
                            "<tr><td>BODOQUENA / MS</td></tr>",
                            "<tr><td>BOFETE / SP</td></tr>",
                            "<tr><td>BOITUVA / SP</td></tr>",
                            "<tr><td>BOM CONSELHO / PE</td></tr>",
                            "<tr><td>BOM DESPACHO / MG</td></tr>",
                            "<tr><td>BOM JARDIM / MA</td></tr>",
                            "<tr><td>BOM JARDIM / PE</td></tr>",
                            "<tr><td>BOM JARDIM / RJ</td></tr>",
                            "<tr><td>BOM JARDIM DE GOIAS / GO</td></tr>",
                            "<tr><td>BOM JARDIM DE MINAS / MG</td></tr>",
                            "<tr><td>BOM JESUS / GO</td></tr>",
                            "<tr><td>BOM JESUS / PI</td></tr>",
                            "<tr><td>BOM JESUS / SC</td></tr>",
                            "<tr><td>BOM JESUS DA LAPA / BA</td></tr>",
                            "<tr><td>BOM JESUS DA PENHA / MG</td></tr>",
                            "<tr><td>BOM JESUS DA SERRA / BA</td></tr>",
                            "<tr><td>BOM JESUS DAS SELVAS / MA</td></tr>",
                            "<tr><td>BOM JESUS DO AMPARO / MG</td></tr>",
                            "<tr><td>BOM JESUS DO ARAGUAIA / MT</td></tr>",
                            "<tr><td>BOM JESUS DO GALHO / MG</td></tr>",
                            "<tr><td>BOM JESUS DO ITABAPOANA / RJ</td></tr>",
                            "<tr><td>BOM JESUS DO NORTE / ES</td></tr>",
                            "<tr><td>BOM JESUS DO QUERENDO / RJ</td></tr>",
                            "<tr><td>BOM JESUS DO SUL / PR</td></tr>",
                            "<tr><td>BOM JESUS DO TOCANTINS / PA</td></tr>",
                            "<tr><td>BOM JESUS DOS PERDOES / SP</td></tr>",
                            "<tr><td>BOM PRINCIPIO / RS</td></tr>",
                            "<tr><td>BOM REPOUSO / MG</td></tr>",
                            "<tr><td>BOM RETIRO / SC</td></tr>",
                            "<tr><td>BOM RETIRO DO SUL / RS</td></tr>",
                            "<tr><td>BOM SUCESSO / MG</td></tr>",
                            "<tr><td>BOM SUCESSO / PR</td></tr>",
                            "<tr><td>BOMBINHAS / SC</td></tr>",
                            "<tr><td>BONFIM / MG</td></tr>",
                            "<tr><td>BONFIM / RR</td></tr>",
                            "<tr><td>BONFIM PAULISTA / SP</td></tr>",
                            "<tr><td>BONFINOPOLIS / GO</td></tr>",
                            "<tr><td>BONFINOPOLIS DE MINAS / MG</td></tr>",
                            "<tr><td>BONINAL / BA</td></tr>",
                            "<tr><td>BONITO / BA</td></tr>",
                            "<tr><td>BONITO / MS</td></tr>",
                            "<tr><td>BONITO / PA</td></tr>",
                            "<tr><td>BONITO / PE</td></tr>",
                            "<tr><td>BONITO DE MINAS / MG</td></tr>",
                            "<tr><td>BONITO DE SANTA FE / PB</td></tr>",
                            "<tr><td>BOQUEIRAO DO LEAO / RS</td></tr>",
                            "<tr><td>BOQUIM / SE</td></tr>",
                            "<tr><td>BOQUIRA / BA</td></tr>",
                            "<tr><td>BORA / SP</td></tr>",
                            "<tr><td>BORACEIA / SP</td></tr>",
                            "<tr><td>BORBOREMA / SP</td></tr>",
                            "<tr><td>BORDA DA MATA / MG</td></tr>",
                            "<tr><td>BORRAZOPOLIS / PR</td></tr>",
                            "<tr><td>BOSSOROCA / RS</td></tr>",
                            "<tr><td>BOTELHO / SP</td></tr>",
                            "<tr><td>BOTELHOS / MG</td></tr>",
                            "<tr><td>BOTUCATU / SP</td></tr>",
                            "<tr><td>BOTUPORA / BA</td></tr>",
                            "<tr><td>BOTUVERA / SC</td></tr>",
                            "<tr><td>BRACO DO NORTE / SC</td></tr>",
                            "<tr><td>BRACO DO RIO / ES</td></tr>",
                            "<tr><td>BRAGANCA / PA</td></tr>",
                            "<tr><td>BRAGANCA PAULISTA / SP</td></tr>",
                            "<tr><td>BRAS PIRES / MG</td></tr>",
                            "<tr><td>BRASIL NOVO / PA</td></tr>",
                            "<tr><td>BRASILANDIA / MS</td></tr>",
                            "<tr><td>BRASILANDIA DE MINAS / MG</td></tr>",
                            "<tr><td>BRASILEIA / AC</td></tr>",
                            "<tr><td>BRASILIA / DF</td></tr>",
                            "<tr><td>BRASILIA DE MINAS / MG</td></tr>",
                            "<tr><td>BRASOPOLIS / MG</td></tr>",
                            "<tr><td>BRAUNA / SP</td></tr>",
                            "<tr><td>BRAUNAS / MG</td></tr>",
                            "<tr><td>BRAZABRANTES / GO</td></tr>",
                            "<tr><td>BRAZOPOLIS / MG</td></tr>",
                            "<tr><td>BREJETUBA / ES</td></tr>",
                            "<tr><td>BREJO / MA</td></tr>",
                            "<tr><td>BREJO BONITO / MG</td></tr>",
                            "<tr><td>BREJO DA MADRE DE DEUS / PE</td></tr>",
                            "<tr><td>BREJO DO CRUZ / PB</td></tr>",
                            "<tr><td>BREJO DOS SANTOS / PB</td></tr>",
                            "<tr><td>BREJO GRANDE / SE</td></tr>",
                            "<tr><td>BREJO SANTO / CE</td></tr>",
                            "<tr><td>BREJOES / BA</td></tr>",
                            "<tr><td>BREJOLANDIA / BA</td></tr>",
                            "<tr><td>BREU BRANCO / PA</td></tr>",
                            "<tr><td>BREVES / PA</td></tr>",
                            "<tr><td>BRITANIA / GO</td></tr>",
                            "<tr><td>BRODOWSKI / SP</td></tr>",
                            "<tr><td>BROTAS / SP</td></tr>",
                            "<tr><td>BROTAS DE MACAUBAS / BA</td></tr>",
                            "<tr><td>BRUMADINHO / MG</td></tr>",
                            "<tr><td>BRUMADO / BA</td></tr>",
                            "<tr><td>BRUSQUE / SC</td></tr>",
                            "<tr><td>BUENO BRANDAO / MG</td></tr>",
                            "<tr><td>BUENOPOLIS / MG</td></tr>",
                            "<tr><td>BUENOS AIRES / PE</td></tr>",
                            "<tr><td>BUERAREMA / BA</td></tr>",
                            "<tr><td>BUGRE / MG</td></tr>",
                            "<tr><td>BUIQUE / PE</td></tr>",
                            "<tr><td>BURI / SP</td></tr>",
                            "<tr><td>BURITAMA / SP</td></tr>",
                            "<tr><td>BURITI / MA</td></tr>",
                            "<tr><td>BURITI ALEGRE / GO</td></tr>",
                            "<tr><td>BURITI DO TOCANTINS / TO</td></tr>",
                            "<tr><td>BURITI DOS LOPES / PI</td></tr>",
                            "<tr><td>BURITICUPU / MA</td></tr>",
                            "<tr><td>BURITIRAMA / BA</td></tr>",
                            "<tr><td>BURITIS / MG</td></tr>",
                            "<tr><td>BURITIS / RO</td></tr>",
                            "<tr><td>BURITIZAL / SP</td></tr>",
                            "<tr><td>BURITIZEIRO / MG</td></tr>",
                            "<tr><td>BUTIA / RS</td></tr>",
                            "<tr><td>CAARAPO / MS</td></tr>",
                            "<tr><td>CABACEIRAS DO PARAGUACU / BA</td></tr>",
                            "<tr><td>CABECEIRA GRANDE / MG</td></tr>",
                            "<tr><td>CABECEIRAS / GO</td></tr>",
                            "<tr><td>CABEDELO / PB</td></tr>",
                            "<tr><td>CABIXI / RO</td></tr>",
                            "<tr><td>CABO DE SANTO AGOSTINHO / PE</td></tr>",
                            "<tr><td>CABO FRIO / RJ</td></tr>",
                            "<tr><td>CABO VERDE / MG</td></tr>",
                            "<tr><td>CABRALIA PAULISTA / SP</td></tr>",
                            "<tr><td>CABREUVA / SP</td></tr>",
                            "<tr><td>CABROBO / PE</td></tr>",
                            "<tr><td>CACADOR / SC</td></tr>",
                            "<tr><td>CACAPAVA / SP</td></tr>",
                            "<tr><td>CACAPAVA DO SUL / RS</td></tr>",
                            "<tr><td>CACAULANDIA / RO</td></tr>",
                            "<tr><td>CACEQUI / RS</td></tr>",
                            "<tr><td>CACERES / MT</td></tr>",
                            "<tr><td>CACHOEIRA / BA</td></tr>",
                            "<tr><td>CACHOEIRA ALTA / GO</td></tr>",
                            "<tr><td>CACHOEIRA DA PRATA / MG</td></tr>",
                            "<tr><td>CACHOEIRA DE MINAS / MG</td></tr>",
                            "<tr><td>CACHOEIRA DE PAJEU / MG</td></tr>",
                            "<tr><td>CACHOEIRA DO BRUMADO / MG</td></tr>",
                            "<tr><td>CACHOEIRA DO CAMPO / MG</td></tr>",
                            "<tr><td>CACHOEIRA DO SUL / RS</td></tr>",
                            "<tr><td>CACHOEIRA DOURADA / GO</td></tr>",
                            "<tr><td>CACHOEIRA DOURADA / MG</td></tr>",
                            "<tr><td>CACHOEIRA PAULISTA / SP</td></tr>",
                            "<tr><td>CACHOEIRAS DE MACACU / RJ</td></tr>",
                            "<tr><td>CACHOEIRINHA / RS</td></tr>",
                            "<tr><td>CACHOEIRO DE ITAPEMIRIM / ES</td></tr>",
                            "<tr><td>CACIMBINHAS / AL</td></tr>",
                            "<tr><td>CACOAL / RO</td></tr>",
                            "<tr><td>CACONDE / SP</td></tr>",
                            "<tr><td>CACU / GO</td></tr>",
                            "<tr><td>CACULE / BA</td></tr>",
                            "<tr><td>CAEM / BA</td></tr>",
                            "<tr><td>CAETANOPOLIS / MG</td></tr>",
                            "<tr><td>CAETANOS / BA</td></tr>",
                            "<tr><td>CAETE / MG</td></tr>",
                            "<tr><td>CAETES / PE</td></tr>",
                            "<tr><td>CAETITE / BA</td></tr>",
                            "<tr><td>CAFEARA / PR</td></tr>",
                            "<tr><td>CAFELANDIA / PR</td></tr>",
                            "<tr><td>CAFELANDIA / SP</td></tr>",
                            "<tr><td>CAIANA / MG</td></tr>",
                            "<tr><td>CAIAPONIA / GO</td></tr>",
                            "<tr><td>CAIBATE / RS</td></tr>",
                            "<tr><td>CAIBI / SC</td></tr>",
                            "<tr><td>CAICARA DO NORTE / RN</td></tr>",
                            "<tr><td>CAICO / RN</td></tr>",
                            "<tr><td>CAIEIRAS / SP</td></tr>",
                            "<tr><td>CAIRU / BA</td></tr>",
                            "<tr><td>CAIUA / SP</td></tr>",
                            "<tr><td>CAJAMAR / SP</td></tr>",
                            "<tr><td>CAJAPIO / MA</td></tr>",
                            "<tr><td>CAJARI / MA</td></tr>",
                            "<tr><td>CAJATI / SP</td></tr>",
                            "<tr><td>CAJAZEIRAS / PB</td></tr>",
                            "<tr><td>CAJOBI / SP</td></tr>",
                            "<tr><td>CAJUEIRO / AL</td></tr>",
                            "<tr><td>CAJURI / MG</td></tr>",
                            "<tr><td>CAJURU / SP</td></tr>",
                            "<tr><td>CALCADO / PE</td></tr>",
                            "<tr><td>CALDAS / MG</td></tr>",
                            "<tr><td>CALDAS BRANDAO / PB</td></tr>",
                            "<tr><td>CALDAS DO JORRO / BA</td></tr>",
                            "<tr><td>CALDAS NOVAS / GO</td></tr>",
                            "<tr><td>CALDEIRAO GRANDE / BA</td></tr>",
                            "<tr><td>CALDEIRAO GRANDE DO PIAUI / PI</td></tr>",
                            "<tr><td>CALIFORNIA / PR</td></tr>",
                            "<tr><td>CALIFORNIA DA BARRA / RJ</td></tr>",
                            "<tr><td>CALMON / SC</td></tr>",
                            "<tr><td>CAMACAN / BA</td></tr>",
                            "<tr><td>CAMACARI / BA</td></tr>",
                            "<tr><td>CAMACHO / MG</td></tr>",
                            "<tr><td>CAMAMU / BA</td></tr>",
                            "<tr><td>CAMANDUCAIA / MG</td></tr>",
                            "<tr><td>CAMAPUA / MS</td></tr>",
                            "<tr><td>CAMAQUA / RS</td></tr>",
                            "<tr><td>CAMARAGIBE / PE</td></tr>",
                            "<tr><td>CAMBARA / PR</td></tr>",
                            "<tr><td>CAMBARA DO SUL / RS</td></tr>",
                            "<tr><td>CAMBE / PR</td></tr>",
                            "<tr><td>CAMBIASCA / RJ</td></tr>",
                            "<tr><td>CAMBIRA / PR</td></tr>",
                            "<tr><td>CAMBORIU / SC</td></tr>",
                            "<tr><td>CAMBUCI / RJ</td></tr>",
                            "<tr><td>CAMBUI / MG</td></tr>",
                            "<tr><td>CAMBUQUIRA / MG</td></tr>",
                            "<tr><td>CAMETA / PA</td></tr>",
                            "<tr><td>CAMOCIM / CE</td></tr>",
                            "<tr><td>CAMOCIM DE SAO FELIX / PE</td></tr>",
                            "<tr><td>CAMPANARIO / MG</td></tr>",
                            "<tr><td>CAMPANHA / MG</td></tr>",
                            "<tr><td>CAMPESTRE / MG</td></tr>",
                            "<tr><td>CAMPESTRE DA SERRA / RS</td></tr>",
                            "<tr><td>CAMPESTRE DO MARANHAO / MA</td></tr>",
                            "<tr><td>CAMPINA DA LAGOA / PR</td></tr>",
                            "<tr><td>CAMPINA DAS MISSOES / RS</td></tr>",
                            "<tr><td>CAMPINA DO MONTE ALEGRE / SP</td></tr>",
                            "<tr><td>CAMPINA GRANDE / PB</td></tr>",
                            "<tr><td>CAMPINA GRANDE DO SUL / PR</td></tr>",
                            "<tr><td>CAMPINA VERDE / MG</td></tr>",
                            "<tr><td>CAMPINACU / GO</td></tr>",
                            "<tr><td>CAMPINAPOLIS / MT</td></tr>",
                            "<tr><td>CAMPINAS / SP</td></tr>",
                            "<tr><td>CAMPINAS DO SUL / RS</td></tr>",
                            "<tr><td>CAMPINORTE / GO</td></tr>",
                            "<tr><td>CAMPO ALEGRE / AL</td></tr>",
                            "<tr><td>CAMPO ALEGRE / SC</td></tr>",
                            "<tr><td>CAMPO ALEGRE DE GOIAS / GO</td></tr>",
                            "<tr><td>CAMPO ALEGRE DE LOURDES / BA</td></tr>",
                            "<tr><td>CAMPO ALEGRE DE MINAS / MG</td></tr>",
                            "<tr><td>CAMPO ALEGRE DO FIDALGO / PI</td></tr>",
                            "<tr><td>CAMPO AZUL / MG</td></tr>",
                            "<tr><td>CAMPO BELO / MG</td></tr>",
                            "<tr><td>CAMPO BOM / RS</td></tr>",
                            "<tr><td>CAMPO BONITO / PR</td></tr>",
                            "<tr><td>CAMPO DO BRITO / SE</td></tr>",
                            "<tr><td>CAMPO DO MEIO / MG</td></tr>",
                            "<tr><td>CAMPO DO TENENTE / PR</td></tr>",
                            "<tr><td>CAMPO ERE / SC</td></tr>",
                            "<tr><td>CAMPO FLORIDO / MG</td></tr>",
                            "<tr><td>CAMPO FORMOSO / BA</td></tr>",
                            "<tr><td>CAMPO GRANDE / MS</td></tr>",
                            "<tr><td>CAMPO GRANDE DO PIAUI / PI</td></tr>",
                            "<tr><td>CAMPO LARGO / PR</td></tr>",
                            "<tr><td>CAMPO LIMPO PAULISTA / SP</td></tr>",
                            "<tr><td>CAMPO MAGRO / PR</td></tr>",
                            "<tr><td>CAMPO MAIOR / PI</td></tr>",
                            "<tr><td>CAMPO MOURAO / PR</td></tr>",
                            "<tr><td>CAMPO NOVO / RS</td></tr>",
                            "<tr><td>CAMPO NOVO DO PARECIS / MT</td></tr>",
                            "<tr><td>CAMPO VERDE / MT</td></tr>",
                            "<tr><td>CAMPOS ALTOS / MG</td></tr>",
                            "<tr><td>CAMPOS BELOS / GO</td></tr>",
                            "<tr><td>CAMPOS BORGES / RS</td></tr>",
                            "<tr><td>CAMPOS DE JULIO / MT</td></tr>",
                            "<tr><td>CAMPOS DO JORDAO / SP</td></tr>",
                            "<tr><td>CAMPOS DOS GOYTACAZES / RJ</td></tr>",
                            "<tr><td>CAMPOS GERAIS / MG</td></tr>",
                            "<tr><td>CAMPOS NOVOS / SC</td></tr>",
                            "<tr><td>CAMPOS SALES / CE</td></tr>",
                            "<tr><td>CAMPOS VERDES / GO</td></tr>",
                            "<tr><td>CAMUTANGA / PE</td></tr>",
                            "<tr><td>CANAA / MG</td></tr>",
                            "<tr><td>CANAA DOS CARAJAS / PA</td></tr>",
                            "<tr><td>CANANEIA / SP</td></tr>",
                            "<tr><td>CANAPI / AL</td></tr>",
                            "<tr><td>CANAPOLIS / BA</td></tr>",
                            "<tr><td>CANAPOLIS / MG</td></tr>",
                            "<tr><td>CANARANA / BA</td></tr>",
                            "<tr><td>CANARANA / MT</td></tr>",
                            "<tr><td>CANAVIEIRAS / BA</td></tr>",
                            "<tr><td>CANDEAL / BA</td></tr>",
                            "<tr><td>CANDEIAS / BA</td></tr>",
                            "<tr><td>CANDEIAS / MG</td></tr>",
                            "<tr><td>CANDEIAS DO JAMARI / RO</td></tr>",
                            "<tr><td>CANDELARIA / RS</td></tr>",
                            "<tr><td>CANDIDO DE ABREU / PR</td></tr>",
                            "<tr><td>CANDIDO GODOI / RS</td></tr>",
                            "<tr><td>CANDIDO MENDES / MA</td></tr>",
                            "<tr><td>CANDIDO MOTA / SP</td></tr>",
                            "<tr><td>CANDIDO RODRIGUES / SP</td></tr>",
                            "<tr><td>CANDIDO SALES / BA</td></tr>",
                            "<tr><td>CANDIOTA / RS</td></tr>",
                            "<tr><td>CANDOI / PR</td></tr>",
                            "<tr><td>CANELA / RS</td></tr>",
                            "<tr><td>CANELINHA / SC</td></tr>",
                            "<tr><td>CANGUCU / RS</td></tr>",
                            "<tr><td>CANHOTINHO / PE</td></tr>",
                            "<tr><td>CANINDE / CE</td></tr>",
                            "<tr><td>CANINDE DE SAO FRANCISCO / SE</td></tr>",
                            "<tr><td>CANITAR / SP</td></tr>",
                            "<tr><td>CANOAS / RS</td></tr>",
                            "<tr><td>CANOINHAS / SC</td></tr>",
                            "<tr><td>CANSANCAO / BA</td></tr>",
                            "<tr><td>CANTAGALO / MG</td></tr>",
                            "<tr><td>CANTAGALO / PR</td></tr>",
                            "<tr><td>CANTAGALO / RJ</td></tr>",
                            "<tr><td>CANTANHEDE / MA</td></tr>",
                            "<tr><td>CANTO DO BURITI / PI</td></tr>",
                            "<tr><td>CANUDOS / BA</td></tr>",
                            "<tr><td>CAPANEMA / PA</td></tr>",
                            "<tr><td>CAPANEMA / PR</td></tr>",
                            "<tr><td>CAPAO BONITO / SP</td></tr>",
                            "<tr><td>CAPAO DA CANOA / RS</td></tr>",
                            "<tr><td>CAPAO DA PORTEIRA / RS</td></tr>",
                            "<tr><td>CAPAO DO CIPO / RS</td></tr>",
                            "<tr><td>CAPAO DO LEAO / RS</td></tr>",
                            "<tr><td>CAPARAO / MG</td></tr>",
                            "<tr><td>CAPELA / SE</td></tr>",
                            "<tr><td>CAPELA DE SANTANA / RS</td></tr>",
                            "<tr><td>CAPELA DO ALTO / SP</td></tr>",
                            "<tr><td>CAPELA DO ALTO ALEGRE / BA</td></tr>",
                            "<tr><td>CAPELA NOVA / MG</td></tr>",
                            "<tr><td>CAPELINHA / MG</td></tr>",
                            "<tr><td>CAPETINGA / MG</td></tr>",
                            "<tr><td>CAPIM BRANCO / MG</td></tr>",
                            "<tr><td>CAPIM GROSSO / BA</td></tr>",
                            "<tr><td>CAPINOPOLIS / MG</td></tr>",
                            "<tr><td>CAPINZAL / SC</td></tr>",
                            "<tr><td>CAPINZAL DO NORTE / MA</td></tr>",
                            "<tr><td>CAPISTRANO / CE</td></tr>",
                            "<tr><td>CAPITAO / RS</td></tr>",
                            "<tr><td>CAPITAO ANDRADE / MG</td></tr>",
                            "<tr><td>CAPITAO ENEAS / MG</td></tr>",
                            "<tr><td>CAPITAO LEONIDAS MARQUES / PR</td></tr>",
                            "<tr><td>CAPITAO POCO / PA</td></tr>",
                            "<tr><td>CAPITOLIO / MG</td></tr>",
                            "<tr><td>CAPIVARI / SP</td></tr>",
                            "<tr><td>CAPIVARI DE BAIXO / SC</td></tr>",
                            "<tr><td>CAPIVARI DO SUL / RS</td></tr>",
                            "<tr><td>CAPOEIRAS / PE</td></tr>",
                            "<tr><td>CAPUTIRA / MG</td></tr>",
                            "<tr><td>CARACOL / MS</td></tr>",
                            "<tr><td>CARAGUATATUBA / SP</td></tr>",
                            "<tr><td>CARAI / MG</td></tr>",
                            "<tr><td>CARAIBA / PE</td></tr>",
                            "<tr><td>CARAIBAS / BA</td></tr>",
                            "<tr><td>CARAJAS / PA</td></tr>",
                            "<tr><td>CARAMBEI / PR</td></tr>",
                            "<tr><td>CARANDAI / MG</td></tr>",
                            "<tr><td>CARANGOLA / MG</td></tr>",
                            "<tr><td>CARAPEBUS / RJ</td></tr>",
                            "<tr><td>CARAPICUIBA / SP</td></tr>",
                            "<tr><td>CARATINGA / MG</td></tr>",
                            "<tr><td>CARAUBAS / RN</td></tr>",
                            "<tr><td>CARAVELAS / BA</td></tr>",
                            "<tr><td>CARAZINHO / RS</td></tr>",
                            "<tr><td>CARBONITA / MG</td></tr>",
                            "<tr><td>CARDOSO / SP</td></tr>",
                            "<tr><td>CARDOSO MOREIRA / RJ</td></tr>",
                            "<tr><td>CAREACU / MG</td></tr>",
                            "<tr><td>CARIACICA / ES</td></tr>",
                            "<tr><td>CARIDADE / CE</td></tr>",
                            "<tr><td>CARINHANHA / BA</td></tr>",
                            "<tr><td>CARIRE / CE</td></tr>",
                            "<tr><td>CARIRI DO TOCANTINS / TO</td></tr>",
                            "<tr><td>CARIRIACU / CE</td></tr>",
                            "<tr><td>CARIUS / CE</td></tr>",
                            "<tr><td>CARLINDA / MT</td></tr>",
                            "<tr><td>CARLOPOLIS / PR</td></tr>",
                            "<tr><td>CARLOS BARBOSA / RS</td></tr>",
                            "<tr><td>CARLOS CHAGAS / MG</td></tr>",
                            "<tr><td>CARMESIA / MG</td></tr>",
                            "<tr><td>CARMO / RJ</td></tr>",
                            "<tr><td>CARMO DA CACHOEIRA / MG</td></tr>",
                            "<tr><td>CARMO DA MATA / MG</td></tr>",
                            "<tr><td>CARMO DE MINAS / MG</td></tr>",
                            "<tr><td>CARMO DO CAJURU / MG</td></tr>",
                            "<tr><td>CARMO DO PARANAIBA / MG</td></tr>",
                            "<tr><td>CARMO DO RIO CLARO / MG</td></tr>",
                            "<tr><td>CARMO DO RIO VERDE / GO</td></tr>",
                            "<tr><td>CARMOLANDIA / TO</td></tr>",
                            "<tr><td>CARMOPOLIS / SE</td></tr>",
                            "<tr><td>CARMOPOLIS DE MINAS / MG</td></tr>",
                            "<tr><td>CARNAIBA DO SERTAO / BA</td></tr>",
                            "<tr><td>CARNAUBA DOS DANTAS / RN</td></tr>",
                            "<tr><td>CARNAUBAIS / RN</td></tr>",
                            "<tr><td>CARNAUBAL / CE</td></tr>",
                            "<tr><td>CARNEIRINHO / MG</td></tr>",
                            "<tr><td>CAROLINA / MA</td></tr>",
                            "<tr><td>CARPINA / PE</td></tr>",
                            "<tr><td>CARRANCAS / MG</td></tr>",
                            "<tr><td>CARUARU / PE</td></tr>",
                            "<tr><td>CARUTAPERA / MA</td></tr>",
                            "<tr><td>CARVALHOPOLIS / MG</td></tr>",
                            "<tr><td>CASA BRANCA / SP</td></tr>",
                            "<tr><td>CASA NOVA / BA</td></tr>",
                            "<tr><td>CASCA / RS</td></tr>",
                            "<tr><td>CASCALHO RICO / MG</td></tr>",
                            "<tr><td>CASCAVEL / CE</td></tr>",
                            "<tr><td>CASCAVEL / PR</td></tr>",
                            "<tr><td>CASEIROS / RS</td></tr>",
                            "<tr><td>CASIMIRO DE ABREU / RJ</td></tr>",
                            "<tr><td>CASSIA / MG</td></tr>",
                            "<tr><td>CASSIA DOS COQUEIROS / SP</td></tr>",
                            "<tr><td>CASSILANDIA / MS</td></tr>",
                            "<tr><td>CASTANHAL / PA</td></tr>",
                            "<tr><td>CASTANHEIRA / MT</td></tr>",
                            "<tr><td>CASTANHEIRAS / RO</td></tr>",
                            "<tr><td>CASTELANDIA / GO</td></tr>",
                            "<tr><td>CASTELO / ES</td></tr>",
                            "<tr><td>CASTELO DO PIAUI / PI</td></tr>",
                            "<tr><td>CASTILHO / SP</td></tr>",
                            "<tr><td>CASTRO / PR</td></tr>",
                            "<tr><td>CASTRO ALVES / BA</td></tr>",
                            "<tr><td>CATAGUASES / MG</td></tr>",
                            "<tr><td>CATALAO / GO</td></tr>",
                            "<tr><td>CATANDUVA / SP</td></tr>",
                            "<tr><td>CATANDUVAS / SC</td></tr>",
                            "<tr><td>CATARINA / CE</td></tr>",
                            "<tr><td>CATAS ALTAS / MG</td></tr>",
                            "<tr><td>CATENDE / PE</td></tr>",
                            "<tr><td>CATIGUA / SP</td></tr>",
                            "<tr><td>CATOLE DO ROCHA / PB</td></tr>",
                            "<tr><td>CATU / BA</td></tr>",
                            "<tr><td>CATU DE ABRANTES / BA</td></tr>",
                            "<tr><td>CATUIPE / RS</td></tr>",
                            "<tr><td>CATURAMA / BA</td></tr>",
                            "<tr><td>CAUCAIA / CE</td></tr>",
                            "<tr><td>CAVALCANTE / GO</td></tr>",
                            "<tr><td>CAXAMBU / MG</td></tr>",
                            "<tr><td>CAXAMBU DO SUL / SC</td></tr>",
                            "<tr><td>CAXIAS / MA</td></tr>",
                            "<tr><td>CAXIAS DO SUL / RS</td></tr>",
                            "<tr><td>CAXINGO / PI</td></tr>",
                            "<tr><td>CEARA-MIRIM / RN</td></tr>",
                            "<tr><td>CEDRAL / MA</td></tr>",
                            "<tr><td>CEDRAL / SP</td></tr>",
                            "<tr><td>CEDRO / CE</td></tr>",
                            "<tr><td>CEDRO DE SAO JOAO / SE</td></tr>",
                            "<tr><td>CEDRO DO ABAETE / MG</td></tr>",
                            "<tr><td>CEILANDIA / DF</td></tr>",
                            "<tr><td>CELINA / ES</td></tr>",
                            "<tr><td>CELSO RAMOS / SC</td></tr>",
                            "<tr><td>CENTENARIO / TO</td></tr>",
                            "<tr><td>CENTENARIO DO SUL / PR</td></tr>",
                            "<tr><td>CENTRAL / BA</td></tr>",
                            "<tr><td>CENTRAL DE SANTA HELENA / MG</td></tr>",
                            "<tr><td>CENTRALINA / MG</td></tr>",
                            "<tr><td>CENTRO NOVO DO MARANHAO / MA</td></tr>",
                            "<tr><td>CEREJEIRAS / RO</td></tr>",
                            "<tr><td>CERES / GO</td></tr>",
                            "<tr><td>CERQUEIRA CESAR / SP</td></tr>",
                            "<tr><td>CERQUILHO / SP</td></tr>",
                            "<tr><td>CERRITO / RS</td></tr>",
                            "<tr><td>CERRO AZUL / PR</td></tr>",
                            "<tr><td>CERRO GRANDE / RS</td></tr>",
                            "<tr><td>CERRO GRANDE DO SUL / RS</td></tr>",
                            "<tr><td>CERRO LARGO / RS</td></tr>",
                            "<tr><td>CERRO NEGRO / SC</td></tr>",
                            "<tr><td>CESARIO LANGE / SP</td></tr>",
                            "<tr><td>CEU AZUL / PR</td></tr>",
                            "<tr><td>CEZARINA / GO</td></tr>",
                            "<tr><td>CHA DE ALEGRIA / PE</td></tr>",
                            "<tr><td>CHA GRANDE / PE</td></tr>",
                            "<tr><td>CHACARA / MG</td></tr>",
                            "<tr><td>CHALE / MG</td></tr>",
                            "<tr><td>CHAPADA / RS</td></tr>",
                            "<tr><td>CHAPADA DO NORTE / MG</td></tr>",
                            "<tr><td>CHAPADA DOS GUIMARAES / MT</td></tr>",
                            "<tr><td>CHAPADA GAUCHA / MG</td></tr>",
                            "<tr><td>CHAPADAO DO CEU / GO</td></tr>",
                            "<tr><td>CHAPADAO DO LAGEADO / SC</td></tr>",
                            "<tr><td>CHAPADAO DO SUL / MS</td></tr>",
                            "<tr><td>CHAPADINHA / MA</td></tr>",
                            "<tr><td>CHAPECO / SC</td></tr>",
                            "<tr><td>CHARQUEADA / SP</td></tr>",
                            "<tr><td>CHARQUEADAS / RS</td></tr>",
                            "<tr><td>CHARRUA / RS</td></tr>",
                            "<tr><td>CHAVAL / CE</td></tr>",
                            "<tr><td>CHAVANTES / SP</td></tr>",
                            "<tr><td>CHAVESLANDIA / MG</td></tr>",
                            "<tr><td>CHIAPETTA / RS</td></tr>",
                            "<tr><td>CHOPINZINHO / PR</td></tr>",
                            "<tr><td>CHOROZINHO / CE</td></tr>",
                            "<tr><td>CHORROCHO / BA</td></tr>",
                            "<tr><td>CHUI / RS</td></tr>",
                            "<tr><td>CIANORTE / PR</td></tr>",
                            "<tr><td>CICERO DANTAS / BA</td></tr>",
                            "<tr><td>CIDADE GAUCHA / PR</td></tr>",
                            "<tr><td>CIDADE OCIDENTAL / GO</td></tr>",
                            "<tr><td>CIDELANDIA / MA</td></tr>",
                            "<tr><td>CIDREIRA / RS</td></tr>",
                            "<tr><td>CIPO / BA</td></tr>",
                            "<tr><td>CIPO-GUACU / SP</td></tr>",
                            "<tr><td>CIRIACO / RS</td></tr>",
                            "<tr><td>CLARAVAL / MG</td></tr>",
                            "<tr><td>CLARO DOS POCOES / MG</td></tr>",
                            "<tr><td>CLAUDIA / MT</td></tr>",
                            "<tr><td>CLAUDIO / MG</td></tr>",
                            "<tr><td>CLEMENTINA / SP</td></tr>",
                            "<tr><td>CLEVELANDIA / PR</td></tr>",
                            "<tr><td>COARACI / BA</td></tr>",
                            "<tr><td>COARI / AM</td></tr>",
                            "<tr><td>COCAIS / MG</td></tr>",
                            "<tr><td>COCAL / PI</td></tr>",
                            "<tr><td>COCAL DO SUL / SC</td></tr>",
                            "<tr><td>COCALINHO / MT</td></tr>",
                            "<tr><td>COCALZINHO DE GOIAS / GO</td></tr>",
                            "<tr><td>COCOS / BA</td></tr>",
                            "<tr><td>CODO / MA</td></tr>",
                            "<tr><td>COELHO NETO / MA</td></tr>",
                            "<tr><td>COIMBRA / MG</td></tr>",
                            "<tr><td>COITE DO NOIA / AL</td></tr>",
                            "<tr><td>COLATINA / ES</td></tr>",
                            "<tr><td>COLIDER / MT</td></tr>",
                            "<tr><td>COLINA / SP</td></tr>",
                            "<tr><td>COLINAS / MA</td></tr>",
                            "<tr><td>COLINAS / RS</td></tr>",
                            "<tr><td>COLINAS DO TOCANTINS / TO</td></tr>",
                            "<tr><td>COLMEIA / TO</td></tr>",
                            "<tr><td>COLNIZA / MT</td></tr>",
                            "<tr><td>COLOMBIA / SP</td></tr>",
                            "<tr><td>COLOMBO / PR</td></tr>",
                            "<tr><td>COLONIA CASTROLANDA / PR</td></tr>",
                            "<tr><td>COLONIA JORDAOZINHO / PR</td></tr>",
                            "<tr><td>COLONIA LEOPOLDINA / AL</td></tr>",
                            "<tr><td>COLONIA VITORIA / PR</td></tr>",
                            "<tr><td>COLORADO / PR</td></tr>",
                            "<tr><td>COLORADO / RS</td></tr>",
                            "<tr><td>COLORADO DO OESTE / RO</td></tr>",
                            "<tr><td>COLUNA / MG</td></tr>",
                            "<tr><td>COMBINADO / TO</td></tr>",
                            "<tr><td>COMENDADOR LEVY GASPARIAN / RJ</td></tr>",
                            "<tr><td>COMERCINHO / MG</td></tr>",
                            "<tr><td>COMODORO / MT</td></tr>",
                            "<tr><td>CONCEICAO / PB</td></tr>",
                            "<tr><td>CONCEICAO DA APARECIDA / MG</td></tr>",
                            "<tr><td>CONCEICAO DA BARRA / ES</td></tr>",
                            "<tr><td>CONCEICAO DA FEIRA / BA</td></tr>",
                            "<tr><td>CONCEICAO DA IBITIPOCA / MG</td></tr>",
                            "<tr><td>CONCEICAO DAS ALAGOAS / MG</td></tr>",
                            "<tr><td>CONCEICAO DAS PEDRAS / MG</td></tr>",
                            "<tr><td>CONCEICAO DE MACABU / RJ</td></tr>",
                            "<tr><td>CONCEICAO DO ALMEIDA / BA</td></tr>",
                            "<tr><td>CONCEICAO DO ARAGUAIA / PA</td></tr>",
                            "<tr><td>CONCEICAO DO CANINDE / PI</td></tr>",
                            "<tr><td>CONCEICAO DO CASTELO / ES</td></tr>",
                            "<tr><td>CONCEICAO DO COITE / BA</td></tr>",
                            "<tr><td>CONCEICAO DO FORMOSO / MG</td></tr>",
                            "<tr><td>CONCEICAO DO JACUIPE / BA</td></tr>",
                            "<tr><td>CONCEICAO DO MATO DENTRO / MG</td></tr>",
                            "<tr><td>CONCEICAO DO PARA / MG</td></tr>",
                            "<tr><td>CONCEICAO DO RIO VERDE / MG</td></tr>",
                            "<tr><td>CONCEICAO DO TOCANTINS / TO</td></tr>",
                            "<tr><td>CONCEICAO DOS OUROS / MG</td></tr>",
                            "<tr><td>CONCHAL / SP</td></tr>",
                            "<tr><td>CONCHAS / SP</td></tr>",
                            "<tr><td>CONCORDIA / SC</td></tr>",
                            "<tr><td>CONCORDIA DO PARA / PA</td></tr>",
                            "<tr><td>CONDADO / PE</td></tr>",
                            "<tr><td>CONDE / BA</td></tr>",
                            "<tr><td>CONDEUBA / BA</td></tr>",
                            "<tr><td>CONDOR / RS</td></tr>",
                            "<tr><td>CONFINS / MG</td></tr>",
                            "<tr><td>CONFRESA / MT</td></tr>",
                            "<tr><td>CONGONHAL / MG</td></tr>",
                            "<tr><td>CONGONHAS / MG</td></tr>",
                            "<tr><td>CONGONHINHAS / PR</td></tr>",
                            "<tr><td>CONQUISTA / MG</td></tr>",
                            "<tr><td>CONQUISTA D'OESTE / MT</td></tr>",
                            "<tr><td>CONRADO / RJ</td></tr>",
                            "<tr><td>CONSELHEIRO LAFAIETE / MG</td></tr>",
                            "<tr><td>CONSELHEIRO MAIRINCK / PR</td></tr>",
                            "<tr><td>CONSELHEIRO PENA / MG</td></tr>",
                            "<tr><td>CONSERVATORIA / RJ</td></tr>",
                            "<tr><td>CONSTANTINA / RS</td></tr>",
                            "<tr><td>CONTAGEM / MG</td></tr>",
                            "<tr><td>CONTENDA / PR</td></tr>",
                            "<tr><td>COQUEIRO BAIXO / RS</td></tr>",
                            "<tr><td>COQUEIROS DO SUL / RS</td></tr>",
                            "<tr><td>CORACAO DE JESUS / MG</td></tr>",
                            "<tr><td>CORACAO DE MARIA / BA</td></tr>",
                            "<tr><td>CORBELIA / PR</td></tr>",
                            "<tr><td>CORDEIRO / RJ</td></tr>",
                            "<tr><td>CORDEIROPOLIS / SP</td></tr>",
                            "<tr><td>CORDEIROS / BA</td></tr>",
                            "<tr><td>COREAU / CE</td></tr>",
                            "<tr><td>COREMAS / PB</td></tr>",
                            "<tr><td>CORGUINHO / MS</td></tr>",
                            "<tr><td>CORIBE / BA</td></tr>",
                            "<tr><td>CORINTO / MG</td></tr>",
                            "<tr><td>CORNELIO PROCOPIO / PR</td></tr>",
                            "<tr><td>COROACI / MG</td></tr>",
                            "<tr><td>COROADOS / SP</td></tr>",
                            "<tr><td>COROATA / MA</td></tr>",
                            "<tr><td>COROMANDEL / MG</td></tr>",
                            "<tr><td>CORONEL DOMINGOS SOARES / PR</td></tr>",
                            "<tr><td>CORONEL FABRICIANO / MG</td></tr>",
                            "<tr><td>CORONEL FREITAS / SC</td></tr>",
                            "<tr><td>CORONEL JOAO PESSOA / RN</td></tr>",
                            "<tr><td>CORONEL JOAO SA / BA</td></tr>",
                            "<tr><td>CORONEL MACEDO / SP</td></tr>",
                            "<tr><td>CORONEL MARTINS / SC</td></tr>",
                            "<tr><td>CORONEL MURTA / MG</td></tr>",
                            "<tr><td>CORONEL PACHECO / MG</td></tr>",
                            "<tr><td>CORONEL SAPUCAIA / MS</td></tr>",
                            "<tr><td>CORONEL VIVIDA / PR</td></tr>",
                            "<tr><td>CORREGO DANTA / MG</td></tr>",
                            "<tr><td>CORREGO DO OURO / RJ</td></tr>",
                            "<tr><td>CORREGO FUNDO / MG</td></tr>",
                            "<tr><td>CORREIA PINTO / SC</td></tr>",
                            "<tr><td>CORRENTE / PI</td></tr>",
                            "<tr><td>CORRENTES / PE</td></tr>",
                            "<tr><td>CORRENTINA / BA</td></tr>",
                            "<tr><td>CORTES / PE</td></tr>",
                            "<tr><td>CORUMBA / MS</td></tr>",
                            "<tr><td>CORUMBA DE GOIAS / GO</td></tr>",
                            "<tr><td>CORUMBAIBA / GO</td></tr>",
                            "<tr><td>CORUMBATAI / SP</td></tr>",
                            "<tr><td>CORUMBATAI DO SUL / PR</td></tr>",
                            "<tr><td>CORUPA / SC</td></tr>",
                            "<tr><td>CORURIPE / AL</td></tr>",
                            "<tr><td>COSMOPOLIS / SP</td></tr>",
                            "<tr><td>COSMORAMA / SP</td></tr>",
                            "<tr><td>COSTA MARQUES / RO</td></tr>",
                            "<tr><td>COSTA RICA / MS</td></tr>",
                            "<tr><td>COTEGIPE / BA</td></tr>",
                            "<tr><td>COTIA / SP</td></tr>",
                            "<tr><td>COTIPORA / RS</td></tr>",
                            "<tr><td>COTRIGUACU / MT</td></tr>",
                            "<tr><td>COUTO DE MAGALHAES / TO</td></tr>",
                            "<tr><td>COXILHA / RS</td></tr>",
                            "<tr><td>COXIM / MS</td></tr>",
                            "<tr><td>CRATEUS / CE</td></tr>",
                            "<tr><td>CRATO / CE</td></tr>",
                            "<tr><td>CRAVINHOS / SP</td></tr>",
                            "<tr><td>CRAVOLANDIA / BA</td></tr>",
                            "<tr><td>CRICIUMA / SC</td></tr>",
                            "<tr><td>CRISOLITA / MG</td></tr>",
                            "<tr><td>CRISOPOLIS / BA</td></tr>",
                            "<tr><td>CRISSIUMAL / RS</td></tr>",
                            "<tr><td>CRISTAIS / MG</td></tr>",
                            "<tr><td>CRISTAIS PAULISTA / SP</td></tr>",
                            "<tr><td>CRISTAL / RS</td></tr>",
                            "<tr><td>CRISTALANDIA / TO</td></tr>",
                            "<tr><td>CRISTALIA / MG</td></tr>",
                            "<tr><td>CRISTALINA / GO</td></tr>",
                            "<tr><td>CRISTIANO OTONI / MG</td></tr>",
                            "<tr><td>CRISTINA / MG</td></tr>",
                            "<tr><td>CRISTINAPOLIS / SE</td></tr>",
                            "<tr><td>CRISTOPOLIS / BA</td></tr>",
                            "<tr><td>CRIXAS / GO</td></tr>",
                            "<tr><td>CROATA / CE</td></tr>",
                            "<tr><td>CROMINIA / GO</td></tr>",
                            "<tr><td>CRUCILANDIA / MG</td></tr>",
                            "<tr><td>CRUZ / CE</td></tr>",
                            "<tr><td>CRUZ ALTA / RS</td></tr>",
                            "<tr><td>CRUZ DAS ALMAS / BA</td></tr>",
                            "<tr><td>CRUZ MACHADO / PR</td></tr>",
                            "<tr><td>CRUZALIA / SP</td></tr>",
                            "<tr><td>CRUZEIRO / SP</td></tr>",
                            "<tr><td>CRUZEIRO DA FORTALEZA / MG</td></tr>",
                            "<tr><td>CRUZEIRO DO IGUACU / PR</td></tr>",
                            "<tr><td>CRUZEIRO DO OESTE / PR</td></tr>",
                            "<tr><td>CRUZEIRO DO SUL / AC</td></tr>",
                            "<tr><td>CRUZEIRO DO SUL / RS</td></tr>",
                            "<tr><td>CRUZILIA / MG</td></tr>",
                            "<tr><td>CUBATAO / SP</td></tr>",
                            "<tr><td>CUBATI / PB</td></tr>",
                            "<tr><td>CUIABA / MT</td></tr>",
                            "<tr><td>CUITE / PB</td></tr>",
                            "<tr><td>CUITE VELHO / MG</td></tr>",
                            "<tr><td>CUJUBIM / RO</td></tr>",
                            "<tr><td>CUMARI / GO</td></tr>",
                            "<tr><td>CUMARU / PE</td></tr>",
                            "<tr><td>CUNHA / SP</td></tr>",
                            "<tr><td>CUNHA PORA / SC</td></tr>",
                            "<tr><td>CUPIRA / PE</td></tr>",
                            "<tr><td>CURACA / BA</td></tr>",
                            "<tr><td>CURITIBA / PR</td></tr>",
                            "<tr><td>CURITIBANOS / SC</td></tr>",
                            "<tr><td>CURIUVA / PR</td></tr>",
                            "<tr><td>CURRAIS NOVOS / RN</td></tr>",
                            "<tr><td>CURRAL DE CIMA / PB</td></tr>",
                            "<tr><td>CURRALINHO / PA</td></tr>",
                            "<tr><td>CURUCA / PA</td></tr>",
                            "<tr><td>CURURUPU / MA</td></tr>",
                            "<tr><td>CURVELANDIA / MT</td></tr>",
                            "<tr><td>CURVELO / MG</td></tr>",
                            "<tr><td>CUSTODIA / PE</td></tr>",
                            "<tr><td>DAMIANOPOLIS / GO</td></tr>",
                            "<tr><td>DARIO MEIRA / BA</td></tr>",
                            "<tr><td>DATAS / MG</td></tr>",
                            "<tr><td>DAVID CANABARRO / RS</td></tr>",
                            "<tr><td>DELFIM MOREIRA / MG</td></tr>",
                            "<tr><td>DELFINOPOLIS / MG</td></tr>",
                            "<tr><td>DELMIRO GOUVEIA / AL</td></tr>",
                            "<tr><td>DEMERVAL LOBAO / PI</td></tr>",
                            "<tr><td>DENISE / MT</td></tr>",
                            "<tr><td>DEODAPOLIS / MS</td></tr>",
                            "<tr><td>DEPUTADO IRAPUAN PINHEIRO / CE</td></tr>",
                            "<tr><td>DESCALVADO / SP</td></tr>",
                            "<tr><td>DESCOBERTO / MG</td></tr>",
                            "<tr><td>DESEMBARGADOR OTONI / MG</td></tr>",
                            "<tr><td>DESTERRO / PB</td></tr>",
                            "<tr><td>DESTERRO DE ENTRE RIOS / MG</td></tr>",
                            "<tr><td>DESTERRO DO MELO / MG</td></tr>",
                            "<tr><td>DEZESSEIS DE NOVEMBRO / RS</td></tr>",
                            "<tr><td>DIADEMA / SP</td></tr>",
                            "<tr><td>DIAMANTE DO NORTE / PR</td></tr>",
                            "<tr><td>DIAMANTE D'OESTE / PR</td></tr>",
                            "<tr><td>DIAMANTINA / MG</td></tr>",
                            "<tr><td>DIAMANTINO / MT</td></tr>",
                            "<tr><td>DIANOPOLIS / TO</td></tr>",
                            "<tr><td>DIAS D AVILA / BA</td></tr>",
                            "<tr><td>DIAS D'AVILA / BA</td></tr>",
                            "<tr><td>DIOGO DE VASCONCELOS / MG</td></tr>",
                            "<tr><td>DIONISIO / MG</td></tr>",
                            "<tr><td>DIONISIO CERQUEIRA / SC</td></tr>",
                            "<tr><td>DIORAMA / GO</td></tr>",
                            "<tr><td>DIVINESIA / MG</td></tr>",
                            "<tr><td>DIVINO / MG</td></tr>",
                            "<tr><td>DIVINO DAS LARANJEIRAS / MG</td></tr>",
                            "<tr><td>DIVINO DE SAO LOURENCO / ES</td></tr>",
                            "<tr><td>DIVINOLANDIA / SP</td></tr>",
                            "<tr><td>DIVINOLANDIA DE MINAS / MG</td></tr>",
                            "<tr><td>DIVINOPOLIS / MG</td></tr>",
                            "<tr><td>DIVINOPOLIS DE GOIAS / GO</td></tr>",
                            "<tr><td>DIVINOPOLIS DO TOCANTINS / TO</td></tr>",
                            "<tr><td>DIVISA ALEGRE / MG</td></tr>",
                            "<tr><td>DIVISA NOVA / MG</td></tr>",
                            "<tr><td>DOBRADA / SP</td></tr>",
                            "<tr><td>DOCE GRANDE / PR</td></tr>",
                            "<tr><td>DOIS CORREGOS / SP</td></tr>",
                            "<tr><td>DOIS IRMAOS / RS</td></tr>",
                            "<tr><td>DOIS IRMAOS DO BURITI / MS</td></tr>",
                            "<tr><td>DOIS RIACHOS / AL</td></tr>",
                            "<tr><td>DOIS VIZINHOS / PR</td></tr>",
                            "<tr><td>DOM AQUINO / MT</td></tr>",
                            "<tr><td>DOM BASILIO / BA</td></tr>",
                            "<tr><td>DOM CAVATI / MG</td></tr>",
                            "<tr><td>DOM ELISEU / PA</td></tr>",
                            "<tr><td>DOM FELICIANO / RS</td></tr>",
                            "<tr><td>DOM JOAQUIM / MG</td></tr>",
                            "<tr><td>DOM MACEDO COSTA / BA</td></tr>",
                            "<tr><td>DOM PEDRITO / RS</td></tr>",
                            "<tr><td>DOM PEDRO / MA</td></tr>",
                            "<tr><td>DOM SILVERIO / MG</td></tr>",
                            "<tr><td>DOM VICOSO / MG</td></tr>",
                            "<tr><td>DOMICIANO RIBEIRO / GO</td></tr>",
                            "<tr><td>DOMINGOS MARTINS / ES</td></tr>",
                            "<tr><td>DONA EMMA / SC</td></tr>",
                            "<tr><td>DONA EUZEBIA / MG</td></tr>",
                            "<tr><td>DONA FRANCISCA / RS</td></tr>",
                            "<tr><td>DORES DE CAMPOS / MG</td></tr>",
                            "<tr><td>DORES DE GUANHAES / MG</td></tr>",
                            "<tr><td>DORES DO INDAIA / MG</td></tr>",
                            "<tr><td>DORES DO RIO PRETO / ES</td></tr>",
                            "<tr><td>DORMENTES / PE</td></tr>",
                            "<tr><td>DOURADINA / PR</td></tr>",
                            "<tr><td>DOURADO / CE</td></tr>",
                            "<tr><td>DOURADO / SP</td></tr>",
                            "<tr><td>DOURADOS / MS</td></tr>",
                            "<tr><td>DOUTOR CAMARGO / PR</td></tr>",
                            "<tr><td>DOUTOR MAURICIO CARDOSO / RS</td></tr>",
                            "<tr><td>DOUTOR ULYSSES / PR</td></tr>",
                            "<tr><td>DOVERLANDIA / GO</td></tr>",
                            "<tr><td>DRACENA / SP</td></tr>",
                            "<tr><td>DUARTINA / SP</td></tr>",
                            "<tr><td>DUAS BARRAS / RJ</td></tr>",
                            "<tr><td>DUERE / TO</td></tr>",
                            "<tr><td>DUMONT / SP</td></tr>",
                            "<tr><td>DUQUE DE CAXIAS / RJ</td></tr>",
                            "<tr><td>DURANDE / MG</td></tr>",
                            "<tr><td>ECHAPORA / SP</td></tr>",
                            "<tr><td>ECOPORANGA / ES</td></tr>",
                            "<tr><td>EDEIA / GO</td></tr>",
                            "<tr><td>ELDORADO / MS</td></tr>",
                            "<tr><td>ELDORADO / SP</td></tr>",
                            "<tr><td>ELDORADO DO SUL / RS</td></tr>",
                            "<tr><td>ELIAS FAUSTO / SP</td></tr>",
                            "<tr><td>ELISEU MARTINS / PI</td></tr>",
                            "<tr><td>ELISIARIO / SP</td></tr>",
                            "<tr><td>ELISIO MEDRADO / BA</td></tr>",
                            "<tr><td>ELOI MENDES / MG</td></tr>",
                            "<tr><td>EMBAUBA / SP</td></tr>",
                            "<tr><td>EMBU / SP</td></tr>",
                            "<tr><td>EMBU DAS ARTES / SP</td></tr>",
                            "<tr><td>EMBU-GUACU / SP</td></tr>",
                            "<tr><td>EMILIANOPOLIS / SP</td></tr>",
                            "<tr><td>ENCANTADO / RS</td></tr>",
                            "<tr><td>ENCRUZILHADA DO SUL / RS</td></tr>",
                            "<tr><td>ENEAS MARQUES / PR</td></tr>",
                            "<tr><td>ENGENHEIRO BALDUINO / SP</td></tr>",
                            "<tr><td>ENGENHEIRO BELTRAO / PR</td></tr>",
                            "<tr><td>ENGENHEIRO COELHO / SP</td></tr>",
                            "<tr><td>ENGENHEIRO NAVARRO / MG</td></tr>",
                            "<tr><td>ENGENHEIRO PASSOS / RJ</td></tr>",
                            "<tr><td>ENGENHEIRO PAULO DE FRONTIN / RJ</td></tr>",
                            "<tr><td>ENTRE FOLHAS / MG</td></tr>",
                            "<tr><td>ENTRE RIOS / BA</td></tr>",
                            "<tr><td>ENTRE RIOS DE MINAS / MG</td></tr>",
                            "<tr><td>ENTRE RIOS DO OESTE / PR</td></tr>",
                            "<tr><td>ENTRE-IJUIS / RS</td></tr>",
                            "<tr><td>EPITACIOLANDIA / AC</td></tr>",
                            "<tr><td>EREBANGO / RS</td></tr>",
                            "<tr><td>ERECHIM / RS</td></tr>",
                            "<tr><td>ERERE / CE</td></tr>",
                            "<tr><td>ERICO CARDOSO / BA</td></tr>",
                            "<tr><td>ERVAL GRANDE / RS</td></tr>",
                            "<tr><td>ERVALIA / MG</td></tr>",
                            "<tr><td>ESCADA / PE</td></tr>",
                            "<tr><td>ESMERALDA / RS</td></tr>",
                            "<tr><td>ESMERALDAS / MG</td></tr>",
                            "<tr><td>ESPERA FELIZ / MG</td></tr>",
                            "<tr><td>ESPERANCA / PB</td></tr>",
                            "<tr><td>ESPERANTINA / PI</td></tr>",
                            "<tr><td>ESPERANTINA / TO</td></tr>",
                            "<tr><td>ESPERANTINOPOLIS / MA</td></tr>",
                            "<tr><td>ESPIGAO / SP</td></tr>",
                            "<tr><td>ESPIGAO ALTO DO IGUACU / PR</td></tr>",
                            "<tr><td>ESPIGAO DO OESTE / RO</td></tr>",
                            "<tr><td>ESPINOSA / MG</td></tr>",
                            "<tr><td>ESPIRITO SANTO DO PINHAL / SP</td></tr>",
                            "<tr><td>ESPIRITO SANTO DO TURVO / SP</td></tr>",
                            "<tr><td>ESPLANADA / BA</td></tr>",
                            "<tr><td>ESPUMOSO / RS</td></tr>",
                            "<tr><td>ESTACAO / RS</td></tr>",
                            "<tr><td>ESTANCIA / SE</td></tr>",
                            "<tr><td>ESTANCIA VELHA / RS</td></tr>",
                            "<tr><td>ESTEIO / RS</td></tr>",
                            "<tr><td>ESTEVAO DE ARAUJO / MG</td></tr>",
                            "<tr><td>ESTIVA / MG</td></tr>",
                            "<tr><td>ESTIVA GERBI / SP</td></tr>",
                            "<tr><td>ESTREITO / MA</td></tr>",
                            "<tr><td>ESTRELA / RS</td></tr>",
                            "<tr><td>ESTRELA D OESTE / SP</td></tr>",
                            "<tr><td>ESTRELA DO INDAIA / MG</td></tr>",
                            "<tr><td>ESTRELA DO NORTE / SP</td></tr>",
                            "<tr><td>ESTRELA DO SUL / MG</td></tr>",
                            "<tr><td>ESTRELA D'OESTE / SP</td></tr>",
                            "<tr><td>ESTRELA VELHA / RS</td></tr>",
                            "<tr><td>EUCLIDES DA CUNHA / BA</td></tr>",
                            "<tr><td>EUCLIDES DA CUNHA PAULISTA / SP</td></tr>",
                            "<tr><td>EUGENIO DE CASTRO / RS</td></tr>",
                            "<tr><td>EUGENOPOLIS / MG</td></tr>",
                            "<tr><td>EUNAPOLIS / BA</td></tr>",
                            "<tr><td>EUSEBIO / CE</td></tr>",
                            "<tr><td>EWBANK DA CAMARA / MG</td></tr>",
                            "<tr><td>EXTREMA / MG</td></tr>",
                            "<tr><td>EXTREMA / RO</td></tr>",
                            "<tr><td>EXTREMOZ / RN</td></tr>",
                            "<tr><td>FAGUNDES / PB</td></tr>",
                            "<tr><td>FAROL / PR</td></tr>",
                            "<tr><td>FARROUPILHA / RS</td></tr>",
                            "<tr><td>FARTURA / SP</td></tr>",
                            "<tr><td>FATIMA / BA</td></tr>",
                            "<tr><td>FATIMA / TO</td></tr>",
                            "<tr><td>FATIMA DO SUL / MS</td></tr>",
                            "<tr><td>FAXINAL / PR</td></tr>",
                            "<tr><td>FAXINAL DOS GUEDES / SC</td></tr>",
                            "<tr><td>FAXINALZINHO / RS</td></tr>",
                            "<tr><td>FAZENDA NOVA / GO</td></tr>",
                            "<tr><td>FAZENDA RIO GRANDE / PR</td></tr>",
                            "<tr><td>FAZENDA VILANOVA / RS</td></tr>",
                            "<tr><td>FEIRA DE SANTANA / BA</td></tr>",
                            "<tr><td>FEIRA NOVA / PE</td></tr>",
                            "<tr><td>FELICIO DOS SANTOS / MG</td></tr>",
                            "<tr><td>FELIPE GUERRA / RN</td></tr>",
                            "<tr><td>FELISBURGO / MG</td></tr>",
                            "<tr><td>FELIXLANDIA / MG</td></tr>",
                            "<tr><td>FELIZ / RS</td></tr>",
                            "<tr><td>FELIZ DESERTO / AL</td></tr>",
                            "<tr><td>FELIZ NATAL / MT</td></tr>",
                            "<tr><td>FENIX / PR</td></tr>",
                            "<tr><td>FERNANDO PRESTES / SP</td></tr>",
                            "<tr><td>FERNANDOPOLIS / SP</td></tr>",
                            "<tr><td>FERNAO / SP</td></tr>",
                            "<tr><td>FERRAZ DE VASCONCELOS / SP</td></tr>",
                            "<tr><td>FERREIROS / PE</td></tr>",
                            "<tr><td>FERROS / MG</td></tr>",
                            "<tr><td>FERVEDOURO / MG</td></tr>",
                            "<tr><td>FIGUEIRA / PR</td></tr>",
                            "<tr><td>FIGUEIROPOLIS D'OESTE / MT</td></tr>",
                            "<tr><td>FILADELFIA / BA</td></tr>",
                            "<tr><td>FIRMINOPOLIS / GO</td></tr>",
                            "<tr><td>FLOR DA SERRA DO SUL / PR</td></tr>",
                            "<tr><td>FLORA RICA / SP</td></tr>",
                            "<tr><td>FLORAI / PR</td></tr>",
                            "<tr><td>FLORANIA / RN</td></tr>",
                            "<tr><td>FLOREAL / SP</td></tr>",
                            "<tr><td>FLORES / CE</td></tr>",
                            "<tr><td>FLORES / PE</td></tr>",
                            "<tr><td>FLORES DA CUNHA / RS</td></tr>",
                            "<tr><td>FLORES DE GOIAS / GO</td></tr>",
                            "<tr><td>FLORESTA / PE</td></tr>",
                            "<tr><td>FLORESTA / PR</td></tr>",
                            "<tr><td>FLORESTA DO ARAGUAIA / PA</td></tr>",
                            "<tr><td>FLORESTAL / MG</td></tr>",
                            "<tr><td>FLORESTOPOLIS / PR</td></tr>",
                            "<tr><td>FLORIANO / PI</td></tr>",
                            "<tr><td>FLORIANOPOLIS / SC</td></tr>",
                            "<tr><td>FLORIDA / PR</td></tr>",
                            "<tr><td>FLORIDA PAULISTA / SP</td></tr>",
                            "<tr><td>FLORINIA / SP</td></tr>",
                            "<tr><td>FONSECA / MG</td></tr>",
                            "<tr><td>FONTOURA XAVIER / RS</td></tr>",
                            "<tr><td>FORMIGA / MG</td></tr>",
                            "<tr><td>FORMIGUEIRO / RS</td></tr>",
                            "<tr><td>FORMOSA / GO</td></tr>",
                            "<tr><td>FORMOSA DA SERRA NEGRA / MA</td></tr>",
                            "<tr><td>FORMOSA DO OESTE / PR</td></tr>",
                            "<tr><td>FORMOSA DO RIO PRETO / BA</td></tr>",
                            "<tr><td>FORMOSO / GO</td></tr>",
                            "<tr><td>FORMOSO / MG</td></tr>",
                            "<tr><td>FORMOSO DO ARAGUAIA / TO</td></tr>",
                            "<tr><td>FORQUILHA / CE</td></tr>",
                            "<tr><td>FORQUILHINHA / SC</td></tr>",
                            "<tr><td>FORTALEZA / CE</td></tr>",
                            "<tr><td>FORTALEZA DOS VALOS / RS</td></tr>",
                            "<tr><td>FORTIM / CE</td></tr>",
                            "<tr><td>FORTUNA / MA</td></tr>",
                            "<tr><td>FOZ DO IGUACU / PR</td></tr>",
                            "<tr><td>FOZ DO JORDAO / PR</td></tr>",
                            "<tr><td>FRAGOSOS / SC</td></tr>",
                            "<tr><td>FRAIBURGO / SC</td></tr>",
                            "<tr><td>FRANCA / SP</td></tr>",
                            "<tr><td>FRANCISCO BADARO / MG</td></tr>",
                            "<tr><td>FRANCISCO BELTRAO / PR</td></tr>",
                            "<tr><td>FRANCISCO DANTAS / RN</td></tr>",
                            "<tr><td>FRANCISCO DUMONT / MG</td></tr>",
                            "<tr><td>FRANCISCO MORATO / SP</td></tr>",
                            "<tr><td>FRANCISCO SA / MG</td></tr>",
                            "<tr><td>FRANCISCO SANTOS / PI</td></tr>",
                            "<tr><td>FRANCO DA ROCHA / SP</td></tr>",
                            "<tr><td>FRECHEIRINHA / CE</td></tr>",
                            "<tr><td>FREDERICO WESTPHALEN / RS</td></tr>",
                            "<tr><td>FREI GASPAR / MG</td></tr>",
                            "<tr><td>FREI INOCENCIO / MG</td></tr>",
                            "<tr><td>FREI LAGONEGRO / MG</td></tr>",
                            "<tr><td>FREI MARTINHO / PB</td></tr>",
                            "<tr><td>FREI ROGERIO / SC</td></tr>",
                            "<tr><td>FRONTEIRA / MG</td></tr>",
                            "<tr><td>FRONTEIRAS / PI</td></tr>",
                            "<tr><td>FRUTA DE LEITE / MG</td></tr>",
                            "<tr><td>FRUTAL / MG</td></tr>",
                            "<tr><td>FRUTUOSO GOMES / RN</td></tr>",
                            "<tr><td>FUNDAO / ES</td></tr>",
                            "<tr><td>GABRIEL MONTEIRO / SP</td></tr>",
                            "<tr><td>GALIA / SP</td></tr>",
                            "<tr><td>GALINHOS / RN</td></tr>",
                            "<tr><td>GALVAO / SC</td></tr>",
                            "<tr><td>GAMELEIRA / PE</td></tr>",
                            "<tr><td>GAMELEIRAS / MG</td></tr>",
                            "<tr><td>GANDU / BA</td></tr>",
                            "<tr><td>GARANHUNS / PE</td></tr>",
                            "<tr><td>GARCA / SP</td></tr>",
                            "<tr><td>GARIBALDI / RS</td></tr>",
                            "<tr><td>GAROPABA / SC</td></tr>",
                            "<tr><td>GARRAFAO DO NORTE / PA</td></tr>",
                            "<tr><td>GARRUCHOS / RS</td></tr>",
                            "<tr><td>GARUVA / SC</td></tr>",
                            "<tr><td>GASPAR / SC</td></tr>",
                            "<tr><td>GASTAO VIDIGAL / SP</td></tr>",
                            "<tr><td>GAUCHA DO NORTE / MT</td></tr>",
                            "<tr><td>GAURAMA / RS</td></tr>",
                            "<tr><td>GAVIAO PEIXOTO / SP</td></tr>",
                            "<tr><td>GENERAL CAMARA / RS</td></tr>",
                            "<tr><td>GENERAL CARNEIRO / PR</td></tr>",
                            "<tr><td>GENERAL MAYNARD / SE</td></tr>",
                            "<tr><td>GENERAL SALGADO / SP</td></tr>",
                            "<tr><td>GENTIO DO OURO / BA</td></tr>",
                            "<tr><td>GETULINA / SP</td></tr>",
                            "<tr><td>GETULIO VARGAS / RS</td></tr>",
                            "<tr><td>GILBUES / PI</td></tr>",
                            "<tr><td>GIRAU DO PONCIANO / AL</td></tr>",
                            "<tr><td>GIRUA / RS</td></tr>",
                            "<tr><td>GLAURA / MG</td></tr>",
                            "<tr><td>GLICERIO / RJ</td></tr>",
                            "<tr><td>GLICERIO / SP</td></tr>",
                            "<tr><td>GLORIA DE DOURADOS / MS</td></tr>",
                            "<tr><td>GLORIA DO GOITA / PE</td></tr>",
                            "<tr><td>GLORINHA / RS</td></tr>",
                            "<tr><td>GODOY MOREIRA / PR</td></tr>",
                            "<tr><td>GOIABEIRA / MG</td></tr>",
                            "<tr><td>GOIANA / MG</td></tr>",
                            "<tr><td>GOIANA / PE</td></tr>",
                            "<tr><td>GOIANAPOLIS / GO</td></tr>",
                            "<tr><td>GOIANDIRA / GO</td></tr>",
                            "<tr><td>GOIANESIA / GO</td></tr>",
                            "<tr><td>GOIANESIA DO PARA / PA</td></tr>",
                            "<tr><td>GOIANIA / GO</td></tr>",
                            "<tr><td>GOIANINHA / RN</td></tr>",
                            "<tr><td>GOIANIRA / GO</td></tr>",
                            "<tr><td>GOIANORTE / TO</td></tr>",
                            "<tr><td>GOIAS / GO</td></tr>",
                            "<tr><td>GOIATUBA / GO</td></tr>",
                            "<tr><td>GOIOERE / PR</td></tr>",
                            "<tr><td>GOITACAZES / RJ</td></tr>",
                            "<tr><td>GONCALVES / MG</td></tr>",
                            "<tr><td>GONCALVES DIAS / MA</td></tr>",
                            "<tr><td>GONGOGI / BA</td></tr>",
                            "<tr><td>GOUVEIA / MG</td></tr>",
                            "<tr><td>GOVERNADOR CELSO RAMOS / SC</td></tr>",
                            "<tr><td>GOVERNADOR DIX-SEPT ROSADO / RN</td></tr>",
                            "<tr><td>GOVERNADOR EUGENIO BARROS / MA</td></tr>",
                            "<tr><td>GOVERNADOR LINDENBERG / ES</td></tr>",
                            "<tr><td>GOVERNADOR MANGABEIRA / BA</td></tr>",
                            "<tr><td>GOVERNADOR PORTELA / RJ</td></tr>",
                            "<tr><td>GOVERNADOR VALADARES / MG</td></tr>",
                            "<tr><td>GRACCHO CARDOSO / SE</td></tr>",
                            "<tr><td>GRAJAU / MA</td></tr>",
                            "<tr><td>GRAMADO / RS</td></tr>",
                            "<tr><td>GRAMADO DOS LOUREIROS / RS</td></tr>",
                            "<tr><td>GRAMADO XAVIER / RS</td></tr>",
                            "<tr><td>GRANDES RIOS / PR</td></tr>",
                            "<tr><td>GRANJA / CE</td></tr>",
                            "<tr><td>GRAO MOGOL / MG</td></tr>",
                            "<tr><td>GRAO PARA / SC</td></tr>",
                            "<tr><td>GRAVATA / PE</td></tr>",
                            "<tr><td>GRAVATAI / RS</td></tr>",
                            "<tr><td>GRAVATAL / SC</td></tr>",
                            "<tr><td>GROAIRAS / CE</td></tr>",
                            "<tr><td>GRUPIARA / MG</td></tr>",
                            "<tr><td>GUABIJU / RS</td></tr>",
                            "<tr><td>GUABIRUBA / SC</td></tr>",
                            "<tr><td>GUACUI / ES</td></tr>",
                            "<tr><td>GUADALUPE / PI</td></tr>",
                            "<tr><td>GUAIBA / RS</td></tr>",
                            "<tr><td>GUAICARA / SP</td></tr>",
                            "<tr><td>GUAIRA / PR</td></tr>",
                            "<tr><td>GUAIRA / SP</td></tr>",
                            "<tr><td>GUAIRACA / PR</td></tr>",
                            "<tr><td>GUAIUBA / CE</td></tr>",
                            "<tr><td>GUAJARA-MIRIM / RO</td></tr>",
                            "<tr><td>GUAMARE / RN</td></tr>",
                            "<tr><td>GUAMIRANGA / PR</td></tr>",
                            "<tr><td>GUANAMBI / BA</td></tr>",
                            "<tr><td>GUANHAES / MG</td></tr>",
                            "<tr><td>GUAPE / MG</td></tr>",
                            "<tr><td>GUAPIACU / SP</td></tr>",
                            "<tr><td>GUAPIARA / SP</td></tr>",
                            "<tr><td>GUAPIMIRIM / RJ</td></tr>",
                            "<tr><td>GUAPIRAMA / PR</td></tr>",
                            "<tr><td>GUAPO / GO</td></tr>",
                            "<tr><td>GUAPORE / RS</td></tr>",
                            "<tr><td>GUARA / DF</td></tr>",
                            "<tr><td>GUARA / SP</td></tr>",
                            "<tr><td>GUARABIRA / PB</td></tr>",
                            "<tr><td>GUARACAI / SP</td></tr>",
                            "<tr><td>GUARACI / PR</td></tr>",
                            "<tr><td>GUARACI / SP</td></tr>",
                            "<tr><td>GUARACIABA / MG</td></tr>",
                            "<tr><td>GUARACIABA / SC</td></tr>",
                            "<tr><td>GUARACIABA DO NORTE / CE</td></tr>",
                            "<tr><td>GUARAI / TO</td></tr>",
                            "<tr><td>GUARAMIRIM / SC</td></tr>",
                            "<tr><td>GUARANESIA / MG</td></tr>",
                            "<tr><td>GUARANI / MG</td></tr>",
                            "<tr><td>GUARANI DAS MISSOES / RS</td></tr>",
                            "<tr><td>GUARANIACU / PR</td></tr>",
                            "<tr><td>GUARANTA / SP</td></tr>",
                            "<tr><td>GUARANTA DO NORTE / MT</td></tr>",
                            "<tr><td>GUARAPARI / ES</td></tr>",
                            "<tr><td>GUARAPUA / SP</td></tr>",
                            "<tr><td>GUARAPUAVA / PR</td></tr>",
                            "<tr><td>GUARAQUECABA / PR</td></tr>",
                            "<tr><td>GUARARA / MG</td></tr>",
                            "<tr><td>GUARARAPES / SP</td></tr>",
                            "<tr><td>GUARAREMA / SP</td></tr>",
                            "<tr><td>GUARATINGA / BA</td></tr>",
                            "<tr><td>GUARATINGUETA / SP</td></tr>",
                            "<tr><td>GUARATUBA / PR</td></tr>",
                            "<tr><td>GUARDA-MOR / MG</td></tr>",
                            "<tr><td>GUAREI / SP</td></tr>",
                            "<tr><td>GUARIBA / SP</td></tr>",
                            "<tr><td>GUARIROBA / SP</td></tr>",
                            "<tr><td>GUARUJA / SP</td></tr>",
                            "<tr><td>GUARUJA DO SUL / SC</td></tr>",
                            "<tr><td>GUARULHOS / SP</td></tr>",
                            "<tr><td>GUASSUSSE / CE</td></tr>",
                            "<tr><td>GUATAPARA / SP</td></tr>",
                            "<tr><td>GUAXUPE / MG</td></tr>",
                            "<tr><td>GUIA LOPES DA LAGUNA / MS</td></tr>",
                            "<tr><td>GUIDOVAL / MG</td></tr>",
                            "<tr><td>GUIMARAES / MA</td></tr>",
                            "<tr><td>GUIMARANIA / MG</td></tr>",
                            "<tr><td>GUINDA / MG</td></tr>",
                            "<tr><td>GUIRICEMA / MG</td></tr>",
                            "<tr><td>GURUPI / TO</td></tr>",
                            "<tr><td>GUZOLANDIA / SP</td></tr>",
                            "<tr><td>HELIOPOLIS / BA</td></tr>",
                            "<tr><td>HERCULANDIA / SP</td></tr>",
                            "<tr><td>HERVAL / RS</td></tr>",
                            "<tr><td>HERVAL D'OESTE / SC</td></tr>",
                            "<tr><td>HERVEIRAS / RS</td></tr>",
                            "<tr><td>HIDRELETRICA TUCURUI / PA</td></tr>",
                            "<tr><td>HIDROLANDIA / CE</td></tr>",
                            "<tr><td>HIDROLANDIA / GO</td></tr>",
                            "<tr><td>HIDROLINA / GO</td></tr>",
                            "<tr><td>HOLAMBRA / SP</td></tr>",
                            "<tr><td>HOLAMBRA II / SP</td></tr>",
                            "<tr><td>HORIZONTE / CE</td></tr>",
                            "<tr><td>HORIZONTINA / RS</td></tr>",
                            "<tr><td>HORTOLANDIA / SP</td></tr>",
                            "<tr><td>HULHA NEGRA / RS</td></tr>",
                            "<tr><td>HUMAITA / AM</td></tr>",
                            "<tr><td>HUMBERTO DE CAMPOS / MA</td></tr>",
                            "<tr><td>HUMILDES / BA</td></tr>",
                            "<tr><td>IACANGA / SP</td></tr>",
                            "<tr><td>IACIARA / GO</td></tr>",
                            "<tr><td>IACRI / SP</td></tr>",
                            "<tr><td>IACU / BA</td></tr>",
                            "<tr><td>IAPU / MG</td></tr>",
                            "<tr><td>IARAS / SP</td></tr>",
                            "<tr><td>IATI / PE</td></tr>",
                            "<tr><td>IBAITI / PR</td></tr>",
                            "<tr><td>IBARAMA / RS</td></tr>",
                            "<tr><td>IBATE / SP</td></tr>",
                            "<tr><td>IBATEGUARA / AL</td></tr>",
                            "<tr><td>IBATIBA / ES</td></tr>",
                            "<tr><td>IBEMA / PR</td></tr>",
                            "<tr><td>IBERTIOGA / MG</td></tr>",
                            "<tr><td>IBIA / MG</td></tr>",
                            "<tr><td>IBIACA / RS</td></tr>",
                            "<tr><td>IBIAI / MG</td></tr>",
                            "<tr><td>IBIAJARA / BA</td></tr>",
                            "<tr><td>IBIAM / SC</td></tr>",
                            "<tr><td>IBIAPINA / CE</td></tr>",
                            "<tr><td>IBIARA / PB</td></tr>",
                            "<tr><td>IBIASSUCE / BA</td></tr>",
                            "<tr><td>IBICARAI / BA</td></tr>",
                            "<tr><td>IBICARE / SC</td></tr>",
                            "<tr><td>IBICOARA / BA</td></tr>",
                            "<tr><td>IBICUITINGA / CE</td></tr>",
                            "<tr><td>IBIMIRIM / PE</td></tr>",
                            "<tr><td>IBIPEBA / BA</td></tr>",
                            "<tr><td>IBIPITANGA / BA</td></tr>",
                            "<tr><td>IBIPORA / PR</td></tr>",
                            "<tr><td>IBIRA / SP</td></tr>",
                            "<tr><td>IBIRACATU / MG</td></tr>",
                            "<tr><td>IBIRACI / MG</td></tr>",
                            "<tr><td>IBIRACU / ES</td></tr>",
                            "<tr><td>IBIRAIARAS / RS</td></tr>",
                            "<tr><td>IBIRAJA / BA</td></tr>",
                            "<tr><td>IBIRAMA / SC</td></tr>",
                            "<tr><td>IBIRAPUA / BA</td></tr>",
                            "<tr><td>IBIRAREMA / SP</td></tr>",
                            "<tr><td>IBIRATAIA / BA</td></tr>",
                            "<tr><td>IBIRITE / MG</td></tr>",
                            "<tr><td>IBIRUBA / RS</td></tr>",
                            "<tr><td>IBITIARA / BA</td></tr>",
                            "<tr><td>IBITINGA / SP</td></tr>",
                            "<tr><td>IBITIOCA / RJ</td></tr>",
                            "<tr><td>IBITIRA / BA</td></tr>",
                            "<tr><td>IBITITA / BA</td></tr>",
                            "<tr><td>IBITIUVA / SP</td></tr>",
                            "<tr><td>IBIUNA / SP</td></tr>",
                            "<tr><td>IBOTIRAMA / BA</td></tr>",
                            "<tr><td>ICAPUI / CE</td></tr>",
                            "<tr><td>ICARA / SC</td></tr>",
                            "<tr><td>ICARAI DE MINAS / MG</td></tr>",
                            "<tr><td>ICARAIMA / PR</td></tr>",
                            "<tr><td>ICATU / MA</td></tr>",
                            "<tr><td>ICEM / SP</td></tr>",
                            "<tr><td>ICHU / BA</td></tr>",
                            "<tr><td>ICO / CE</td></tr>",
                            "<tr><td>ICONHA / ES</td></tr>",
                            "<tr><td>IELMO MARINHO / RN</td></tr>",
                            "<tr><td>IEPE / SP</td></tr>",
                            "<tr><td>IGACI / AL</td></tr>",
                            "<tr><td>IGAPORA / BA</td></tr>",
                            "<tr><td>IGARACU DO TIETE / SP</td></tr>",
                            "<tr><td>IGARAPAVA / SP</td></tr>",
                            "<tr><td>IGARAPE / MG</td></tr>",
                            "<tr><td>IGARAPE-ACU / PA</td></tr>",
                            "<tr><td>IGARAPE-MIRI / PA</td></tr>",
                            "<tr><td>IGARASSU / PE</td></tr>",
                            "<tr><td>IGARATA / SP</td></tr>",
                            "<tr><td>IGARATINGA / MG</td></tr>",
                            "<tr><td>IGRAPIUNA / BA</td></tr>",
                            "<tr><td>IGREJA NOVA / AL</td></tr>",
                            "<tr><td>IGREJINHA / RS</td></tr>",
                            "<tr><td>IGUABA GRANDE / RJ</td></tr>",
                            "<tr><td>IGUAI / BA</td></tr>",
                            "<tr><td>IGUAPE / SP</td></tr>",
                            "<tr><td>IGUARACU / PR</td></tr>",
                            "<tr><td>IGUATAMA / MG</td></tr>",
                            "<tr><td>IGUATU / CE</td></tr>",
                            "<tr><td>IGUATU / PR</td></tr>",
                            "<tr><td>IJUI / RS</td></tr>",
                            "<tr><td>ILHA COMPRIDA / SP</td></tr>",
                            "<tr><td>ILHA DE ITAMARACA / PE</td></tr>",
                            "<tr><td>ILHA DOS VALADARES / PR</td></tr>",
                            "<tr><td>ILHA GRANDE / PI</td></tr>",
                            "<tr><td>ILHA SOLTEIRA / SP</td></tr>",
                            "<tr><td>ILHABELA / SP</td></tr>",
                            "<tr><td>ILHEUS / BA</td></tr>",
                            "<tr><td>ILHOTA / SC</td></tr>",
                            "<tr><td>ILICINEA / MG</td></tr>",
                            "<tr><td>ILOPOLIS / RS</td></tr>",
                            "<tr><td>IMACULADA / PB</td></tr>",
                            "<tr><td>IMBAU / PR</td></tr>",
                            "<tr><td>IMBE / RS</td></tr>",
                            "<tr><td>IMBE DE MINAS / MG</td></tr>",
                            "<tr><td>IMBITUBA / SC</td></tr>",
                            "<tr><td>IMBITUVA / PR</td></tr>",
                            "<tr><td>IMBUIA / SC</td></tr>",
                            "<tr><td>IMIGRANTE / RS</td></tr>",
                            "<tr><td>IMPERATRIZ / MA</td></tr>",
                            "<tr><td>INACIO MARTINS / PR</td></tr>",
                            "<tr><td>INACIOLANDIA / GO</td></tr>",
                            "<tr><td>INAJA / PE</td></tr>",
                            "<tr><td>INAJA / PR</td></tr>",
                            "<tr><td>INCONFIDENTES / MG</td></tr>",
                            "<tr><td>INDAIAL / SC</td></tr>",
                            "<tr><td>INDAIATUBA / SP</td></tr>",
                            "<tr><td>INDEPENDENCIA / CE</td></tr>",
                            "<tr><td>INDIANA / SP</td></tr>",
                            "<tr><td>INDIANOPOLIS / MG</td></tr>",
                            "<tr><td>INDIANOPOLIS / PR</td></tr>",
                            "<tr><td>INDIAPORA / SP</td></tr>",
                            "<tr><td>INDIARA / GO</td></tr>",
                            "<tr><td>INDIAROBA / SE</td></tr>",
                            "<tr><td>INGA / PB</td></tr>",
                            "<tr><td>INGAI / MG</td></tr>",
                            "<tr><td>INHAMBUPE / BA</td></tr>",
                            "<tr><td>INHAPI / AL</td></tr>",
                            "<tr><td>INHAPIM / MG</td></tr>",
                            "<tr><td>INHAUMA / MG</td></tr>",
                            "<tr><td>INHUMA / PI</td></tr>",
                            "<tr><td>INHUMAS / GO</td></tr>",
                            "<tr><td>INIMUTABA / MG</td></tr>",
                            "<tr><td>INOCENCIA / MS</td></tr>",
                            "<tr><td>INUBIA PAULISTA / SP</td></tr>",
                            "<tr><td>IOMERE / SC</td></tr>",
                            "<tr><td>IPABA / MG</td></tr>",
                            "<tr><td>IPAMERI / GO</td></tr>",
                            "<tr><td>IPANEMA / MG</td></tr>",
                            "<tr><td>IPAPORANGA / CE</td></tr>",
                            "<tr><td>IPATINGA / MG</td></tr>",
                            "<tr><td>IPAUMIRIM / CE</td></tr>",
                            "<tr><td>IPAUSSU / SP</td></tr>",
                            "<tr><td>IPE / RS</td></tr>",
                            "<tr><td>IPECAETA / BA</td></tr>",
                            "<tr><td>IPERO / SP</td></tr>",
                            "<tr><td>IPIABAS / RJ</td></tr>",
                            "<tr><td>IPIACU / MG</td></tr>",
                            "<tr><td>IPIAU / BA</td></tr>",
                            "<tr><td>IPIGUA / SP</td></tr>",
                            "<tr><td>IPIRA / BA</td></tr>",
                            "<tr><td>IPIRA / SC</td></tr>",
                            "<tr><td>IPIRANGA / PR</td></tr>",
                            "<tr><td>IPIRANGA / RS</td></tr>",
                            "<tr><td>IPIRANGA DE GOIAS / GO</td></tr>",
                            "<tr><td>IPIRANGA DO NORTE / MT</td></tr>",
                            "<tr><td>IPIRANGA DO SUL / RS</td></tr>",
                            "<tr><td>IPIXUNA DO PARA / PA</td></tr>",
                            "<tr><td>IPOJUCA / PE</td></tr>",
                            "<tr><td>IPORA / GO</td></tr>",
                            "<tr><td>IPORA / PR</td></tr>",
                            "<tr><td>IPORA DO OESTE / SC</td></tr>",
                            "<tr><td>IPU / CE</td></tr>",
                            "<tr><td>IPUA / SP</td></tr>",
                            "<tr><td>IPUBI / PE</td></tr>",
                            "<tr><td>IPUEIRA / RN</td></tr>",
                            "<tr><td>IPUEIRAS / CE</td></tr>",
                            "<tr><td>IPUIUNA / MG</td></tr>",
                            "<tr><td>IPUMIRIM / SC</td></tr>",
                            "<tr><td>IPUPIARA / BA</td></tr>",
                            "<tr><td>IRACEMA / CE</td></tr>",
                            "<tr><td>IRACEMAPOLIS / SP</td></tr>",
                            "<tr><td>IRAI / RS</td></tr>",
                            "<tr><td>IRAI DE MINAS / MG</td></tr>",
                            "<tr><td>IRAMAIA / BA</td></tr>",
                            "<tr><td>IRANI / SC</td></tr>",
                            "<tr><td>IRAPE / SP</td></tr>",
                            "<tr><td>IRAPUA / SP</td></tr>",
                            "<tr><td>IRAPURU / SP</td></tr>",
                            "<tr><td>IRAQUARA / BA</td></tr>",
                            "<tr><td>IRARA / BA</td></tr>",
                            "<tr><td>IRATI / PR</td></tr>",
                            "<tr><td>IRAUCUBA / CE</td></tr>",
                            "<tr><td>IRECE / BA</td></tr>",
                            "<tr><td>IRETAMA / PR</td></tr>",
                            "<tr><td>IRINEOPOLIS / SC</td></tr>",
                            "<tr><td>IRUPI / ES</td></tr>",
                            "<tr><td>ISAIAS COELHO / PI</td></tr>",
                            "<tr><td>ITA / SC</td></tr>",
                            "<tr><td>ITAARA / RS</td></tr>",
                            "<tr><td>ITABAIANA / SE</td></tr>",
                            "<tr><td>ITABAIANINHA / SE</td></tr>",
                            "<tr><td>ITABATAN / BA</td></tr>",
                            "<tr><td>ITABELA / BA</td></tr>",
                            "<tr><td>ITABERA / SP</td></tr>",
                            "<tr><td>ITABERABA / BA</td></tr>",
                            "<tr><td>ITABERAI / GO</td></tr>",
                            "<tr><td>ITABI / SE</td></tr>",
                            "<tr><td>ITABIRA / MG</td></tr>",
                            "<tr><td>ITABIRINHA / MG</td></tr>",
                            "<tr><td>ITABIRITO / MG</td></tr>",
                            "<tr><td>ITABORAI / RJ</td></tr>",
                            "<tr><td>ITABUNA / BA</td></tr>",
                            "<tr><td>ITACARAMBI / MG</td></tr>",
                            "<tr><td>ITACARE / BA</td></tr>",
                            "<tr><td>ITACOATIARA / AM</td></tr>",
                            "<tr><td>ITACURUSSA / RJ</td></tr>",
                            "<tr><td>ITAGI / BA</td></tr>",
                            "<tr><td>ITAGIBA / BA</td></tr>",
                            "<tr><td>ITAGIMIRIM / BA</td></tr>",
                            "<tr><td>ITAGUACU / ES</td></tr>",
                            "<tr><td>ITAGUACU / GO</td></tr>",
                            "<tr><td>ITAGUACU DA BAHIA / BA</td></tr>",
                            "<tr><td>ITAGUAI / RJ</td></tr>",
                            "<tr><td>ITAGUAJE / PR</td></tr>",
                            "<tr><td>ITAGUARA / MG</td></tr>",
                            "<tr><td>ITAGUARI / GO</td></tr>",
                            "<tr><td>ITAGUARU / GO</td></tr>",
                            "<tr><td>ITAI / SP</td></tr>",
                            "<tr><td>ITAICABA / CE</td></tr>",
                            "<tr><td>ITAIOPOLIS / SC</td></tr>",
                            "<tr><td>ITAIPAVA / ES</td></tr>",
                            "<tr><td>ITAIPULANDIA / PR</td></tr>",
                            "<tr><td>ITAITINGA / CE</td></tr>",
                            "<tr><td>ITAITUBA / PA</td></tr>",
                            "<tr><td>ITAJA / GO</td></tr>",
                            "<tr><td>ITAJAI / SC</td></tr>",
                            "<tr><td>ITAJOBI / SP</td></tr>",
                            "<tr><td>ITAJU / SP</td></tr>",
                            "<tr><td>ITAJU DO COLONIA / BA</td></tr>",
                            "<tr><td>ITAJUBA / MG</td></tr>",
                            "<tr><td>ITAJUIPE / BA</td></tr>",
                            "<tr><td>ITALVA / RJ</td></tr>",
                            "<tr><td>ITAMARAJU / BA</td></tr>",
                            "<tr><td>ITAMARANDIBA / MG</td></tr>",
                            "<tr><td>ITAMARI / BA</td></tr>",
                            "<tr><td>ITAMBACURI / MG</td></tr>",
                            "<tr><td>ITAMBARACA / PR</td></tr>",
                            "<tr><td>ITAMBE / BA</td></tr>",
                            "<tr><td>ITAMBE / PE</td></tr>",
                            "<tr><td>ITAMBE / PR</td></tr>",
                            "<tr><td>ITAMIRA / BA</td></tr>",
                            "<tr><td>ITAMOGI / MG</td></tr>",
                            "<tr><td>ITAMONTE / MG</td></tr>",
                            "<tr><td>ITANHAEM / SP</td></tr>",
                            "<tr><td>ITANHANDU / MG</td></tr>",
                            "<tr><td>ITANHANGA / MT</td></tr>",
                            "<tr><td>ITANHEM / BA</td></tr>",
                            "<tr><td>ITANHOMI / MG</td></tr>",
                            "<tr><td>ITAOBIM / MG</td></tr>",
                            "<tr><td>ITAOCA / ES</td></tr>",
                            "<tr><td>ITAOCA / SP</td></tr>",
                            "<tr><td>ITAOCARA / RJ</td></tr>",
                            "<tr><td>ITAPACI / GO</td></tr>",
                            "<tr><td>ITAPAGE / CE</td></tr>",
                            "<tr><td>ITAPAGIPE / MG</td></tr>",
                            "<tr><td>ITAPAJE / CE</td></tr>",
                            "<tr><td>ITAPARICA / BA</td></tr>",
                            "<tr><td>ITAPE / BA</td></tr>",
                            "<tr><td>ITAPECERICA / MG</td></tr>",
                            "<tr><td>ITAPECERICA DA SERRA / SP</td></tr>",
                            "<tr><td>ITAPECURU MIRIM / MA</td></tr>",
                            "<tr><td>ITAPEJARA D'OESTE / PR</td></tr>",
                            "<tr><td>ITAPEMA / SC</td></tr>",
                            "<tr><td>ITAPEMIRIM / ES</td></tr>",
                            "<tr><td>ITAPERUCU / PR</td></tr>",
                            "<tr><td>ITAPERUNA / RJ</td></tr>",
                            "<tr><td>ITAPETIM / PE</td></tr>",
                            "<tr><td>ITAPETINGA / BA</td></tr>",
                            "<tr><td>ITAPETININGA / SP</td></tr>",
                            "<tr><td>ITAPEVA / MG</td></tr>",
                            "<tr><td>ITAPEVA / SP</td></tr>",
                            "<tr><td>ITAPEVI / SP</td></tr>",
                            "<tr><td>ITAPICURU / BA</td></tr>",
                            "<tr><td>ITAPIPOCA / CE</td></tr>",
                            "<tr><td>ITAPIRA / SP</td></tr>",
                            "<tr><td>ITAPIRANGA / SC</td></tr>",
                            "<tr><td>ITAPIRAPUA / GO</td></tr>",
                            "<tr><td>ITAPIRAPUA PAULISTA / SP</td></tr>",
                            "<tr><td>ITAPISSUMA / PE</td></tr>",
                            "<tr><td>ITAPITANGA / BA</td></tr>",
                            "<tr><td>ITAPIUNA / CE</td></tr>",
                            "<tr><td>ITAPOA / SC</td></tr>",
                            "<tr><td>ITAPOLIS / SP</td></tr>",
                            "<tr><td>ITAPORA / MS</td></tr>",
                            "<tr><td>ITAPORANGA / PB</td></tr>",
                            "<tr><td>ITAPORANGA / SP</td></tr>",
                            "<tr><td>ITAPORANGA D'AJUDA / SE</td></tr>",
                            "<tr><td>ITAPUI / SP</td></tr>",
                            "<tr><td>ITAPURA / SP</td></tr>",
                            "<tr><td>ITAPURANGA / GO</td></tr>",
                            "<tr><td>ITAQUAQUECETUBA / SP</td></tr>",
                            "<tr><td>ITAQUI / RS</td></tr>",
                            "<tr><td>ITAQUIRAI / MS</td></tr>",
                            "<tr><td>ITAQUITINGA / PE</td></tr>",
                            "<tr><td>ITARANA / ES</td></tr>",
                            "<tr><td>ITARANTIM / BA</td></tr>",
                            "<tr><td>ITARARE / SP</td></tr>",
                            "<tr><td>ITAREMA / CE</td></tr>",
                            "<tr><td>ITARIRI / SP</td></tr>",
                            "<tr><td>ITATIAIA / RJ</td></tr>",
                            "<tr><td>ITATIAIUCU / MG</td></tr>",
                            "<tr><td>ITATIBA / SP</td></tr>",
                            "<tr><td>ITATIBA DO SUL / RS</td></tr>",
                            "<tr><td>ITATIM / BA</td></tr>",
                            "<tr><td>ITATINGA / SP</td></tr>",
                            "<tr><td>ITAU / RN</td></tr>",
                            "<tr><td>ITAU DE MINAS / MG</td></tr>",
                            "<tr><td>ITAUBA / MT</td></tr>",
                            "<tr><td>ITAUEIRA / PI</td></tr>",
                            "<tr><td>ITAUNA / MG</td></tr>",
                            "<tr><td>ITINGA / MG</td></tr>",
                            "<tr><td>ITIQUIRA / MT</td></tr>",
                            "<tr><td>ITIRAPINA / SP</td></tr>",
                            "<tr><td>ITIRUCU / BA</td></tr>",
                            "<tr><td>ITIUBA / BA</td></tr>",
                            "<tr><td>ITOBI / SP</td></tr>",
                            "<tr><td>ITORORO / BA</td></tr>",
                            "<tr><td>ITU / SP</td></tr>",
                            "<tr><td>ITUACU / BA</td></tr>",
                            "<tr><td>ITUBERA / BA</td></tr>",
                            "<tr><td>ITUETA / MG</td></tr>",
                            "<tr><td>ITUIUTABA / MG</td></tr>",
                            "<tr><td>ITUMBIARA / GO</td></tr>",
                            "<tr><td>ITUPEVA / SP</td></tr>",
                            "<tr><td>ITUPIRANGA / PA</td></tr>",
                            "<tr><td>ITUPORANGA / SC</td></tr>",
                            "<tr><td>ITURAMA / MG</td></tr>",
                            "<tr><td>ITUTINGA / MG</td></tr>",
                            "<tr><td>ITUVERAVA / SP</td></tr>",
                            "<tr><td>IUNA / ES</td></tr>",
                            "<tr><td>IVAI / PR</td></tr>",
                            "<tr><td>IVAIPORA / PR</td></tr>",
                            "<tr><td>IVATE / PR</td></tr>",
                            "<tr><td>IVINHEMA / MS</td></tr>",
                            "<tr><td>IVORA / RS</td></tr>",
                            "<tr><td>IVOTI / RS</td></tr>",
                            "<tr><td>JABOATAO DOS GUARARAPES / PE</td></tr>",
                            "<tr><td>JABORA / SC</td></tr>",
                            "<tr><td>JABORANDI / SP</td></tr>",
                            "<tr><td>JABOTI / PR</td></tr>",
                            "<tr><td>JABOTICABAL / SP</td></tr>",
                            "<tr><td>JABOTICATUBAS / MG</td></tr>",
                            "<tr><td>JACARACI / BA</td></tr>",
                            "<tr><td>JACARAU / PB</td></tr>",
                            "<tr><td>JACARE / SP</td></tr>",
                            "<tr><td>JACAREACANGA / PA</td></tr>",
                            "<tr><td>JACAREI / SP</td></tr>",
                            "<tr><td>JACAREZINHO / PR</td></tr>",
                            "<tr><td>JACI / SP</td></tr>",
                            "<tr><td>JACIARA / MT</td></tr>",
                            "<tr><td>JACIGUA / ES</td></tr>",
                            "<tr><td>JACINTO / MG</td></tr>",
                            "<tr><td>JACINTO MACHADO / SC</td></tr>",
                            "<tr><td>JACOBINA / BA</td></tr>",
                            "<tr><td>JACUI / MG</td></tr>",
                            "<tr><td>JACUIPE / BA</td></tr>",
                            "<tr><td>JACUIZINHO / RS</td></tr>",
                            "<tr><td>JACUNDA / PA</td></tr>",
                            "<tr><td>JACUPIRANGA / SP</td></tr>",
                            "<tr><td>JACUTINGA / MG</td></tr>",
                            "<tr><td>JACUTINGA / RS</td></tr>",
                            "<tr><td>JAGUAPITA / PR</td></tr>",
                            "<tr><td>JAGUAQUARA / BA</td></tr>",
                            "<tr><td>JAGUARACU / MG</td></tr>",
                            "<tr><td>JAGUARAO / RS</td></tr>",
                            "<tr><td>JAGUARE / ES</td></tr>",
                            "<tr><td>JAGUAREMBE / RJ</td></tr>",
                            "<tr><td>JAGUARI / RS</td></tr>",
                            "<tr><td>JAGUARIAIVA / PR</td></tr>",
                            "<tr><td>JAGUARIBARA / CE</td></tr>",
                            "<tr><td>JAGUARIBE / CE</td></tr>",
                            "<tr><td>JAGUARIUNA / SP</td></tr>",
                            "<tr><td>JAGUARUANA / CE</td></tr>",
                            "<tr><td>JAGUARUNA / SC</td></tr>",
                            "<tr><td>JAIBA / MG</td></tr>",
                            "<tr><td>JALES / SP</td></tr>",
                            "<tr><td>JAMAICA / SP</td></tr>",
                            "<tr><td>JAMAPARA / RJ</td></tr>",
                            "<tr><td>JAMBEIRO / SP</td></tr>",
                            "<tr><td>JAMPRUCA / MG</td></tr>",
                            "<tr><td>JANAUBA / MG</td></tr>",
                            "<tr><td>JANDAIA / GO</td></tr>",
                            "<tr><td>JANDAIA DO SUL / PR</td></tr>",
                            "<tr><td>JANDAIRA / BA</td></tr>",
                            "<tr><td>JANDAIRA / RN</td></tr>",
                            "<tr><td>JANDIRA / SP</td></tr>",
                            "<tr><td>JANDUIS / RN</td></tr>",
                            "<tr><td>JANIOPOLIS / PR</td></tr>",
                            "<tr><td>JANUARIA / MG</td></tr>",
                            "<tr><td>JAPARAIBA / MG</td></tr>",
                            "<tr><td>JAPARATUBA / SE</td></tr>",
                            "<tr><td>JAPERI / RJ</td></tr>",
                            "<tr><td>JAPI / RN</td></tr>",
                            "<tr><td>JAPIRA / PR</td></tr>",
                            "<tr><td>JAPOATA / SE</td></tr>",
                            "<tr><td>JAPUIBA / RJ</td></tr>",
                            "<tr><td>JAPURA / PR</td></tr>",
                            "<tr><td>JAQUEIRA / PE</td></tr>",
                            "<tr><td>JAQUIRANA / RS</td></tr>",
                            "<tr><td>JARAGUA / GO</td></tr>",
                            "<tr><td>JARAGUA DO SUL / SC</td></tr>",
                            "<tr><td>JARAGUARI / MS</td></tr>",
                            "<tr><td>JARDIM / CE</td></tr>",
                            "<tr><td>JARDIM / MS</td></tr>",
                            "<tr><td>JARDIM ABC DE GOIAS / GO</td></tr>",
                            "<tr><td>JARDIM ALEGRE / PR</td></tr>",
                            "<tr><td>JARDIM DE PIRANHAS / RN</td></tr>",
                            "<tr><td>JARDIM DO SERIDO / RN</td></tr>",
                            "<tr><td>JARDIM OLINDA / PR</td></tr>",
                            "<tr><td>JARDINOPOLIS / SP</td></tr>",
                            "<tr><td>JARI / RS</td></tr>",
                            "<tr><td>JARINU / SP</td></tr>",
                            "<tr><td>JARU / RO</td></tr>",
                            "<tr><td>JATAI / GO</td></tr>",
                            "<tr><td>JATAIZINHO / PR</td></tr>",
                            "<tr><td>JATAUBA / PE</td></tr>",
                            "<tr><td>JATOBA / MA</td></tr>",
                            "<tr><td>JATOBA / PE</td></tr>",
                            "<tr><td>JAU / SP</td></tr>",
                            "<tr><td>JAUA / BA</td></tr>",
                            "<tr><td>JAUPACI / GO</td></tr>",
                            "<tr><td>JAURU / MT</td></tr>",
                            "<tr><td>JECEABA / MG</td></tr>",
                            "<tr><td>JENIPAPO DE MINAS / MG</td></tr>",
                            "<tr><td>JEQUERI / MG</td></tr>",
                            "<tr><td>JEQUIA DA PRAIA / AL</td></tr>",
                            "<tr><td>JEQUIE / BA</td></tr>",
                            "<tr><td>JEQUITAI / MG</td></tr>",
                            "<tr><td>JEQUITIBA / MG</td></tr>",
                            "<tr><td>JEQUITINHONHA / MG</td></tr>",
                            "<tr><td>JEREMOABO / BA</td></tr>",
                            "<tr><td>JERICO / PB</td></tr>",
                            "<tr><td>JERIQUARA / SP</td></tr>",
                            "<tr><td>JERONIMO MONTEIRO / ES</td></tr>",
                            "<tr><td>JESUANIA / MG</td></tr>",
                            "<tr><td>JESUITAS / PR</td></tr>",
                            "<tr><td>JESUPOLIS / GO</td></tr>",
                            "<tr><td>JIJOCA DE JERICOACOARA / CE</td></tr>",
                            "<tr><td>JI-PARANA / RO</td></tr>",
                            "<tr><td>JIQUIRICA / BA</td></tr>",
                            "<tr><td>JOACABA / SC</td></tr>",
                            "<tr><td>JOAIMA / MG</td></tr>",
                            "<tr><td>JOANOPOLIS / SP</td></tr>",
                            "<tr><td>JOAO ALFREDO / PE</td></tr>",
                            "<tr><td>JOAO CAMARA / RN</td></tr>",
                            "<tr><td>JOAO DOURADO / BA</td></tr>",
                            "<tr><td>JOAO LISBOA / MA</td></tr>",
                            "<tr><td>JOAO MONLEVADE / MG</td></tr>",
                            "<tr><td>JOAO NEIVA / ES</td></tr>",
                            "<tr><td>JOAO PESSOA / PB</td></tr>",
                            "<tr><td>JOAO PINHEIRO / MG</td></tr>",
                            "<tr><td>JOAO RAMALHO / SP</td></tr>",
                            "<tr><td>JOAQUIM NABUCO / PE</td></tr>",
                            "<tr><td>JOAQUIM PIRES / PI</td></tr>",
                            "<tr><td>JOAQUIM TAVORA / PR</td></tr>",
                            "<tr><td>JOINVILLE / SC</td></tr>",
                            "<tr><td>JORDANIA / MG</td></tr>",
                            "<tr><td>JOSE BOITEUX / SC</td></tr>",
                            "<tr><td>JOSE BONIFACIO / SP</td></tr>",
                            "<tr><td>JOSE DA PENHA / RN</td></tr>",
                            "<tr><td>JOSE DE FREITAS / PI</td></tr>",
                            "<tr><td>JOSELANDIA / MA</td></tr>",
                            "<tr><td>JOVIANIA / GO</td></tr>",
                            "<tr><td>JUARA / MT</td></tr>",
                            "<tr><td>JUATUBA / MG</td></tr>",
                            "<tr><td>JUAZEIRO / BA</td></tr>",
                            "<tr><td>JUAZEIRO DO NORTE / CE</td></tr>",
                            "<tr><td>JUCAS / CE</td></tr>",
                            "<tr><td>JUCURUCU / BA</td></tr>",
                            "<tr><td>JUCURUTU / RN</td></tr>",
                            "<tr><td>JUINA / MT</td></tr>",
                            "<tr><td>JUIZ DE FORA / MG</td></tr>",
                            "<tr><td>JULIO DE CASTILHOS / RS</td></tr>",
                            "<tr><td>JULIO MESQUITA / SP</td></tr>",
                            "<tr><td>JUMIRIM / SP</td></tr>",
                            "<tr><td>JUNCO DO SERIDO / PB</td></tr>",
                            "<tr><td>JUNDIAI / SP</td></tr>",
                            "<tr><td>JUNDIAI DO SUL / PR</td></tr>",
                            "<tr><td>JUNQUEIRO / AL</td></tr>",
                            "<tr><td>JUNQUEIROPOLIS / SP</td></tr>",
                            "<tr><td>JUPI / PE</td></tr>",
                            "<tr><td>JUQUIA / SP</td></tr>",
                            "<tr><td>JUQUITIBA / SP</td></tr>",
                            "<tr><td>JURANDA / PR</td></tr>",
                            "<tr><td>JUREMA / PE</td></tr>",
                            "<tr><td>JURIPIRANGA / PB</td></tr>",
                            "<tr><td>JURU / PB</td></tr>",
                            "<tr><td>JURUAIA / MG</td></tr>",
                            "<tr><td>JURUENA / MT</td></tr>",
                            "<tr><td>JURUTI / PA</td></tr>",
                            "<tr><td>JUSCIMEIRA / MT</td></tr>",
                            "<tr><td>JUSSARA / GO</td></tr>",
                            "<tr><td>JUSSARA / PR</td></tr>",
                            "<tr><td>JUSSARI / BA</td></tr>",
                            "<tr><td>JUSSIAPE / BA</td></tr>",
                            "<tr><td>JUTI / MS</td></tr>",
                            "<tr><td>JUVENILIA / MG</td></tr>",
                            "<tr><td>KALORE / PR</td></tr>",
                            "<tr><td>LADAINHA / MG</td></tr>",
                            "<tr><td>LADARIO / MS</td></tr>",
                            "<tr><td>LAGARTO / SE</td></tr>",
                            "<tr><td>LAGES / CE</td></tr>",
                            "<tr><td>LAGES / SC</td></tr>",
                            "<tr><td>LAGO DA PEDRA / MA</td></tr>",
                            "<tr><td>LAGO VERDE / MA</td></tr>",
                            "<tr><td>LAGOA / PB</td></tr>",
                            "<tr><td>LAGOA DA CANOA / AL</td></tr>",
                            "<tr><td>LAGOA DA CONFUSAO / TO</td></tr>",
                            "<tr><td>LAGOA DA PRATA / MG</td></tr>",
                            "<tr><td>LAGOA D'ANTA / RN</td></tr>",
                            "<tr><td>LAGOA DE SAO FRANCISCO / PI</td></tr>",
                            "<tr><td>LAGOA DE VELHOS / RN</td></tr>",
                            "<tr><td>LAGOA DO CARRO / PE</td></tr>",
                            "<tr><td>LAGOA DO MATO / CE</td></tr>",
                            "<tr><td>LAGOA DO OURO / PE</td></tr>",
                            "<tr><td>LAGOA DO PIAUI / PI</td></tr>",
                            "<tr><td>LAGOA DOS GATOS / PE</td></tr>",
                            "<tr><td>LAGOA DOS PATOS / MG</td></tr>",
                            "<tr><td>LAGOA DOS TRES CANTOS / RS</td></tr>",
                            "<tr><td>LAGOA DOURADA / MG</td></tr>",
                            "<tr><td>LAGOA FORMOSA / MG</td></tr>",
                            "<tr><td>LAGOA GRANDE / MG</td></tr>",
                            "<tr><td>LAGOA GRANDE / PE</td></tr>",
                            "<tr><td>LAGOA NOVA / RN</td></tr>",
                            "<tr><td>LAGOA REAL / BA</td></tr>",
                            "<tr><td>LAGOA SALGADA / RN</td></tr>",
                            "<tr><td>LAGOA SANTA / GO</td></tr>",
                            "<tr><td>LAGOA SANTA / MG</td></tr>",
                            "<tr><td>LAGOA VERMELHA / RS</td></tr>",
                            "<tr><td>LAGOAO / RS</td></tr>",
                            "<tr><td>LAGOINHA / SP</td></tr>",
                            "<tr><td>LAGOINHA DO PIAUI / PI</td></tr>",
                            "<tr><td>LAGUNA / SC</td></tr>",
                            "<tr><td>LAJE DO MURIAE / RJ</td></tr>",
                            "<tr><td>LAJEADO / RS</td></tr>",
                            "<tr><td>LAJEADO / TO</td></tr>",
                            "<tr><td>LAJEADO GRANDE / SC</td></tr>",
                            "<tr><td>LAJEDO / PE</td></tr>",
                            "<tr><td>LAJINHA / MG</td></tr>",
                            "<tr><td>LAMARAO / BA</td></tr>",
                            "<tr><td>LAMBARI / MG</td></tr>",
                            "<tr><td>LAMIM / MG</td></tr>",
                            "<tr><td>LAPA / PR</td></tr>",
                            "<tr><td>LARANJA DA TERRA / ES</td></tr>",
                            "<tr><td>LARANJAL / MG</td></tr>",
                            "<tr><td>LARANJAL / PR</td></tr>",
                            "<tr><td>LARANJAL DO JARI / AP</td></tr>",
                            "<tr><td>LARANJAL PAULISTA / SP</td></tr>",
                            "<tr><td>LARANJEIRAS DO SUL / PR</td></tr>",
                            "<tr><td>LAURENTINO / SC</td></tr>",
                            "<tr><td>LAURO DE FREITAS / BA</td></tr>",
                            "<tr><td>LAURO MULLER / SC</td></tr>",
                            "<tr><td>LAVINIA / SP</td></tr>",
                            "<tr><td>LAVRAS / MG</td></tr>",
                            "<tr><td>LAVRAS DA MANGABEIRA / CE</td></tr>",
                            "<tr><td>LAVRAS DO SUL / RS</td></tr>",
                            "<tr><td>LAVRINHAS / SP</td></tr>",
                            "<tr><td>LEANDRO FERREIRA / MG</td></tr>",
                            "<tr><td>LEBON REGIS / SC</td></tr>",
                            "<tr><td>LEME / SP</td></tr>",
                            "<tr><td>LENCOIS / BA</td></tr>",
                            "<tr><td>LENCOIS PAULISTA / SP</td></tr>",
                            "<tr><td>LEOBERTO LEAL / SC</td></tr>",
                            "<tr><td>LEOPOLDINA / MG</td></tr>",
                            "<tr><td>LEOPOLDO DE BULHOES / GO</td></tr>",
                            "<tr><td>LEOPOLIS / PR</td></tr>",
                            "<tr><td>LIBERATO SALZANO / RS</td></tr>",
                            "<tr><td>LIBERDADE / MG</td></tr>",
                            "<tr><td>LIDICE / RJ</td></tr>",
                            "<tr><td>LIMA DUARTE / MG</td></tr>",
                            "<tr><td>LIMEIRA / SP</td></tr>",
                            "<tr><td>LIMEIRA DO OESTE / MG</td></tr>",
                            "<tr><td>LIMOEIRO / PE</td></tr>",
                            "<tr><td>LIMOEIRO DO NORTE / CE</td></tr>",
                            "<tr><td>LINDOESTE / PR</td></tr>",
                            "<tr><td>LINDOIA / SP</td></tr>",
                            "<tr><td>LINDOIA DO SUL / SC</td></tr>",
                            "<tr><td>LINDOLFO COLLOR / RS</td></tr>",
                            "<tr><td>LINHARES / ES</td></tr>",
                            "<tr><td>LINS / SP</td></tr>",
                            "<tr><td>LIVRAMENTO / PB</td></tr>",
                            "<tr><td>LIVRAMENTO DE NOSSA SENHORA / BA</td></tr>",
                            "<tr><td>LOANDA / PR</td></tr>",
                            "<tr><td>LOBATO / PR</td></tr>",
                            "<tr><td>LONDRINA / PR</td></tr>",
                            "<tr><td>LONTRAS / SC</td></tr>",
                            "<tr><td>LORENA / SP</td></tr>",
                            "<tr><td>LORETO / MA</td></tr>",
                            "<tr><td>LOURDES / SP</td></tr>",
                            "<tr><td>LOUVEIRA / SP</td></tr>",
                            "<tr><td>LUCAS DO RIO VERDE / MT</td></tr>",
                            "<tr><td>LUCELIA / SP</td></tr>",
                            "<tr><td>LUCENA / PB</td></tr>",
                            "<tr><td>LUCIANOPOLIS / SP</td></tr>",
                            "<tr><td>LUIS ANTONIO / SP</td></tr>",
                            "<tr><td>LUIS CORREIA / PI</td></tr>",
                            "<tr><td>LUIS EDUARDO MAGALHAES / BA</td></tr>",
                            "<tr><td>LUISBURGO / MG</td></tr>",
                            "<tr><td>LUIZ ALVES / SC</td></tr>",
                            "<tr><td>LUIZIANA / PR</td></tr>",
                            "<tr><td>LUIZIANIA / SP</td></tr>",
                            "<tr><td>LUIZLANDIA DO OESTE / MG</td></tr>",
                            "<tr><td>LUMINARIAS / MG</td></tr>",
                            "<tr><td>LUNARDELLI / PR</td></tr>",
                            "<tr><td>LUPERCIO / SP</td></tr>",
                            "<tr><td>LUPIONOPOLIS / PR</td></tr>",
                            "<tr><td>LUTECIA / SP</td></tr>",
                            "<tr><td>LUZ / MG</td></tr>",
                            "<tr><td>LUZIANIA / GO</td></tr>",
                            "<tr><td>LUZIAPOLIS / AL</td></tr>",
                            "<tr><td>LUZILANDIA / PI</td></tr>",
                            "<tr><td>MACAE / RJ</td></tr>",
                            "<tr><td>MACAIBA / RN</td></tr>",
                            "<tr><td>MACAMBARA / RS</td></tr>",
                            "<tr><td>MACAMBIRA / SE</td></tr>",
                            "<tr><td>MACAPA / AP</td></tr>",
                            "<tr><td>MACAPARANA / PE</td></tr>",
                            "<tr><td>MACATUBA / SP</td></tr>",
                            "<tr><td>MACAU / RN</td></tr>",
                            "<tr><td>MACAUBAL / SP</td></tr>",
                            "<tr><td>MACAUBAS / BA</td></tr>",
                            "<tr><td>MACEDONIA / SP</td></tr>",
                            "<tr><td>MACEIO / AL</td></tr>",
                            "<tr><td>MACHACALIS / MG</td></tr>",
                            "<tr><td>MACHADINHO / RS</td></tr>",
                            "<tr><td>MACHADINHO D'OESTE / RO</td></tr>",
                            "<tr><td>MACHADO / MG</td></tr>",
                            "<tr><td>MACHADOS / PE</td></tr>",
                            "<tr><td>MACIEIRA / SC</td></tr>",
                            "<tr><td>MACUCO / RJ</td></tr>",
                            "<tr><td>MACUCO DE MINAS / MG</td></tr>",
                            "<tr><td>MADALENA / CE</td></tr>",
                            "<tr><td>MADRE DE DEUS / BA</td></tr>",
                            "<tr><td>MADRE DE DEUS DE MINAS / MG</td></tr>",
                            "<tr><td>MAE D'AGUA / PB</td></tr>",
                            "<tr><td>MAE DO RIO / PA</td></tr>",
                            "<tr><td>MAFRA / SC</td></tr>",
                            "<tr><td>MAGALHAES DE ALMEIDA / MA</td></tr>",
                            "<tr><td>MAGDA / SP</td></tr>",
                            "<tr><td>MAGE / RJ</td></tr>",
                            "<tr><td>MAIOBA / MA</td></tr>",
                            "<tr><td>MAIQUINIQUE / BA</td></tr>",
                            "<tr><td>MAIRI / BA</td></tr>",
                            "<tr><td>MAIRINQUE / SP</td></tr>",
                            "<tr><td>MAIRIPORA / SP</td></tr>",
                            "<tr><td>MAIRIPOTABA / GO</td></tr>",
                            "<tr><td>MAJOR PORTO / MG</td></tr>",
                            "<tr><td>MAJOR VIEIRA / SC</td></tr>",
                            "<tr><td>MALACACHETA / MG</td></tr>",
                            "<tr><td>MALHADOR / SE</td></tr>",
                            "<tr><td>MALLET / PR</td></tr>",
                            "<tr><td>MAMANGUAPE / PB</td></tr>",
                            "<tr><td>MAMBAI / GO</td></tr>",
                            "<tr><td>MAMBORE / PR</td></tr>",
                            "<tr><td>MAMONAS / MG</td></tr>",
                            "<tr><td>MAMPITUBA / RS</td></tr>",
                            "<tr><td>MANAIRA / PB</td></tr>",
                            "<tr><td>MANAUS / AM</td></tr>",
                            "<tr><td>MANDAGUACU / PR</td></tr>",
                            "<tr><td>MANDAGUARI / PR</td></tr>",
                            "<tr><td>MANDIRITUBA / PR</td></tr>",
                            "<tr><td>MANDURI / SP</td></tr>",
                            "<tr><td>MANFRINOPOLIS / PR</td></tr>",
                            "<tr><td>MANGA / MG</td></tr>",
                            "<tr><td>MANGARATIBA / RJ</td></tr>",
                            "<tr><td>MANGUEIRINHA / PR</td></tr>",
                            "<tr><td>MANHUACU / MG</td></tr>",
                            "<tr><td>MANHUMIRIM / MG</td></tr>",
                            "<tr><td>MANOEL RIBAS / PR</td></tr>",
                            "<tr><td>MANOEL URBANO / AC</td></tr>",
                            "<tr><td>MANOEL VIANA / RS</td></tr>",
                            "<tr><td>MANSIDAO / BA</td></tr>",
                            "<tr><td>MANTENA / MG</td></tr>",
                            "<tr><td>MANTENOPOLIS / ES</td></tr>",
                            "<tr><td>MAQUINE / RS</td></tr>",
                            "<tr><td>MAR DE ESPANHA / MG</td></tr>",
                            "<tr><td>MAR VERMELHO / AL</td></tr>",
                            "<tr><td>MARA ROSA / GO</td></tr>",
                            "<tr><td>MARABA / PA</td></tr>",
                            "<tr><td>MARACACUME / MA</td></tr>",
                            "<tr><td>MARACAI / SP</td></tr>",
                            "<tr><td>MARACAJU / MS</td></tr>",
                            "<tr><td>MARACANA / SC</td></tr>",
                            "<tr><td>MARACANAU / CE</td></tr>",
                            "<tr><td>MARACAS / BA</td></tr>",
                            "<tr><td>MARAGOGI / AL</td></tr>",
                            "<tr><td>MARAGOGIPE / BA</td></tr>",
                            "<tr><td>MARANGUAPE / CE</td></tr>",
                            "<tr><td>MARANHAOZINHO / MA</td></tr>",
                            "<tr><td>MARATAIZES / ES</td></tr>",
                            "<tr><td>MARAU / RS</td></tr>",
                            "<tr><td>MARAVILHA / AL</td></tr>",
                            "<tr><td>MARAVILHA / SC</td></tr>",
                            "<tr><td>MARAVILHAS / MG</td></tr>",
                            "<tr><td>MARCELINO VIEIRA / RN</td></tr>",
                            "<tr><td>MARCO / CE</td></tr>",
                            "<tr><td>MARCOS PARENTE / PI</td></tr>",
                            "<tr><td>MARECHAL CANDIDO RONDON / PR</td></tr>",
                            "<tr><td>MARECHAL DEODORO / AL</td></tr>",
                            "<tr><td>MARECHAL FLORIANO / ES</td></tr>",
                            "<tr><td>MARI / PB</td></tr>",
                            "<tr><td>MARIA DA FE / MG</td></tr>",
                            "<tr><td>MARIALVA / PR</td></tr>",
                            "<tr><td>MARIANA / MG</td></tr>",
                            "<tr><td>MARIANO MORO / RS</td></tr>",
                            "<tr><td>MARIAPOLIS / SP</td></tr>",
                            "<tr><td>MARIBONDO / AL</td></tr>",
                            "<tr><td>MARICA / RJ</td></tr>",
                            "<tr><td>MARIENTAL / PR</td></tr>",
                            "<tr><td>MARILAC / MG</td></tr>",
                            "<tr><td>MARILANDIA / ES</td></tr>",
                            "<tr><td>MARILANDIA DO SUL / PR</td></tr>",
                            "<tr><td>MARILENA / PR</td></tr>",
                            "<tr><td>MARILIA / SP</td></tr>",
                            "<tr><td>MARILUZ / PR</td></tr>",
                            "<tr><td>MARINGA / PR</td></tr>",
                            "<tr><td>MARINOPOLIS / SP</td></tr>",
                            "<tr><td>MARIO CAMPOS / MG</td></tr>",
                            "<tr><td>MARIOPOLIS / PR</td></tr>",
                            "<tr><td>MARIPA / PR</td></tr>",
                            "<tr><td>MARISTELA / SP</td></tr>",
                            "<tr><td>MARITUBA / PA</td></tr>",
                            "<tr><td>MARMELEIRO / PR</td></tr>",
                            "<tr><td>MARQUES DE SOUZA / RS</td></tr>",
                            "<tr><td>MARTINESIA / MG</td></tr>",
                            "<tr><td>MARTINHO CAMPOS / MG</td></tr>",
                            "<tr><td>MARTINOPOLIS / SP</td></tr>",
                            "<tr><td>MARTINS / RN</td></tr>",
                            "<tr><td>MARTINS SOARES / MG</td></tr>",
                            "<tr><td>MASCOTE / BA</td></tr>",
                            "<tr><td>MASSAPE / CE</td></tr>",
                            "<tr><td>MASSARANDUBA / SC</td></tr>",
                            "<tr><td>MATA / RS</td></tr>",
                            "<tr><td>MATA DE SAO JOAO / BA</td></tr>",
                            "<tr><td>MATA GRANDE / AL</td></tr>",
                            "<tr><td>MATA ROMA / MA</td></tr>",
                            "<tr><td>MATA VERDE / MG</td></tr>",
                            "<tr><td>MATAO / SP</td></tr>",
                            "<tr><td>MATELANDIA / PR</td></tr>",
                            "<tr><td>MATERLANDIA / MG</td></tr>",
                            "<tr><td>MATEUS LEME / MG</td></tr>",
                            "<tr><td>MATIAS BARBOSA / MG</td></tr>",
                            "<tr><td>MATIAS OLIMPIO / PI</td></tr>",
                            "<tr><td>MATINHOS / PR</td></tr>",
                            "<tr><td>MATIPO / MG</td></tr>",
                            "<tr><td>MATO LEITAO / RS</td></tr>",
                            "<tr><td>MATO RICO / PR</td></tr>",
                            "<tr><td>MATO VERDE / MG</td></tr>",
                            "<tr><td>MATOES / MA</td></tr>",
                            "<tr><td>MATOES DO NORTE / MA</td></tr>",
                            "<tr><td>MATOZINHOS / MG</td></tr>",
                            "<tr><td>MATRINCHA / GO</td></tr>",
                            "<tr><td>MATRIZ DE CAMARAGIBE / AL</td></tr>",
                            "<tr><td>MATUPA / MT</td></tr>",
                            "<tr><td>MATUTINA / MG</td></tr>",
                            "<tr><td>MAUA / SP</td></tr>",
                            "<tr><td>MAUA DA SERRA / PR</td></tr>",
                            "<tr><td>MAURILANDIA / GO</td></tr>",
                            "<tr><td>MAURITI / CE</td></tr>",
                            "<tr><td>MAXIMILIANO DE ALMEIDA / RS</td></tr>",
                            "<tr><td>MEDEIROS / MG</td></tr>",
                            "<tr><td>MEDEIROS NETO / BA</td></tr>",
                            "<tr><td>MEDIANEIRA / PR</td></tr>",
                            "<tr><td>MEDICILANDIA / PA</td></tr>",
                            "<tr><td>MEDINA / MG</td></tr>",
                            "<tr><td>MELEIRO / SC</td></tr>",
                            "<tr><td>MENDES / RJ</td></tr>",
                            "<tr><td>MENDES PIMENTEL / MG</td></tr>",
                            "<tr><td>MENDONCA / MG</td></tr>",
                            "<tr><td>MENDONCA / SP</td></tr>",
                            "<tr><td>MERCEDES / PR</td></tr>",
                            "<tr><td>MERCES / MG</td></tr>",
                            "<tr><td>MERIDIANO / SP</td></tr>",
                            "<tr><td>MERUOCA / CE</td></tr>",
                            "<tr><td>MESQUITA / MG</td></tr>",
                            "<tr><td>MESQUITA / RJ</td></tr>",
                            "<tr><td>MESSIAS TARGINO / RN</td></tr>",
                            "<tr><td>MIGUEL CALMON / BA</td></tr>",
                            "<tr><td>MIGUEL PEREIRA / RJ</td></tr>",
                            "<tr><td>MIGUELOPOLIS / SP</td></tr>",
                            "<tr><td>MILAGRES / BA</td></tr>",
                            "<tr><td>MILAGRES / CE</td></tr>",
                            "<tr><td>MILHA / CE</td></tr>",
                            "<tr><td>MIMOSO DE GOIAS / GO</td></tr>",
                            "<tr><td>MIMOSO DO SUL / ES</td></tr>",
                            "<tr><td>MINACU / GO</td></tr>",
                            "<tr><td>MINAS DO LEAO / RS</td></tr>",
                            "<tr><td>MINAS NOVAS / MG</td></tr>",
                            "<tr><td>MINDURI / MG</td></tr>",
                            "<tr><td>MINEIROS / GO</td></tr>",
                            "<tr><td>MINEIROS DO TIETE / SP</td></tr>",
                            "<tr><td>MINISTRO ANDREAZZA / RO</td></tr>",
                            "<tr><td>MIRA ESTRELA / SP</td></tr>",
                            "<tr><td>MIRACATU / SP</td></tr>",
                            "<tr><td>MIRACEMA / RJ</td></tr>",
                            "<tr><td>MIRADOURO / MG</td></tr>",
                            "<tr><td>MIRAGUAI / RS</td></tr>",
                            "<tr><td>MIRAI / MG</td></tr>",
                            "<tr><td>MIRAIMA / CE</td></tr>",
                            "<tr><td>MIRANDA / MS</td></tr>",
                            "<tr><td>MIRANDA DO NORTE / MA</td></tr>",
                            "<tr><td>MIRANDIBA / PE</td></tr>",
                            "<tr><td>MIRANDOPOLIS / SP</td></tr>",
                            "<tr><td>MIRANORTE / TO</td></tr>",
                            "<tr><td>MIRANTE DA SERRA / RO</td></tr>",
                            "<tr><td>MIRANTE DO PARANAPANEMA / SP</td></tr>",
                            "<tr><td>MIRASSOL / SP</td></tr>",
                            "<tr><td>MIRASSOL D'OESTE / MT</td></tr>",
                            "<tr><td>MIRAVANIA / MG</td></tr>",
                            "<tr><td>MIRINZAL / MA</td></tr>",
                            "<tr><td>MISSAL / PR</td></tr>",
                            "<tr><td>MISSAO VELHA / CE</td></tr>",
                            "<tr><td>MISSI / CE</td></tr>",
                            "<tr><td>MOCAJUBA / PA</td></tr>",
                            "<tr><td>MOCOCA / SP</td></tr>",
                            "<tr><td>MOEDA / MG</td></tr>",
                            "<tr><td>MOEMA / MG</td></tr>",
                            "<tr><td>MOGI DAS CRUZES / SP</td></tr>",
                            "<tr><td>MOGI MIRIM / SP</td></tr>",
                            "<tr><td>MOGI-GUACU / SP</td></tr>",
                            "<tr><td>MOGI-MIRIM / SP</td></tr>",
                            "<tr><td>MOJU / PA</td></tr>",
                            "<tr><td>MOJUI DOS CAMPOS / PA</td></tr>",
                            "<tr><td>MOMBACA / CE</td></tr>",
                            "<tr><td>MOMBUCA / SP</td></tr>",
                            "<tr><td>MONCAO / MA</td></tr>",
                            "<tr><td>MONCOES / SP</td></tr>",
                            "<tr><td>MONDAI / SC</td></tr>",
                            "<tr><td>MONGAGUA / SP</td></tr>",
                            "<tr><td>MONNERAT / RJ</td></tr>",
                            "<tr><td>MONSENHOR PAULO / MG</td></tr>",
                            "<tr><td>MONSENHOR TABOSA / CE</td></tr>",
                            "<tr><td>MONTADAS / PB</td></tr>",
                            "<tr><td>MONTALVANIA / MG</td></tr>",
                            "<tr><td>MONTANHA / ES</td></tr>",
                            "<tr><td>MONTANHAS / RN</td></tr>",
                            "<tr><td>MONTAURI / RS</td></tr>",
                            "<tr><td>MONTE ALEGRE / PA</td></tr>",
                            "<tr><td>MONTE ALEGRE / RN</td></tr>",
                            "<tr><td>MONTE ALEGRE DE MINAS / MG</td></tr>",
                            "<tr><td>MONTE ALEGRE DE SERGIPE / SE</td></tr>",
                            "<tr><td>MONTE ALEGRE DO SUL / SP</td></tr>",
                            "<tr><td>MONTE ALTO / SP</td></tr>",
                            "<tr><td>MONTE ALVERNE / RS</td></tr>",
                            "<tr><td>MONTE APRAZIVEL / SP</td></tr>",
                            "<tr><td>MONTE AZUL / MG</td></tr>",
                            "<tr><td>MONTE AZUL PAULISTA / SP</td></tr>",
                            "<tr><td>MONTE BELO / MG</td></tr>",
                            "<tr><td>MONTE BELO DO SUL / RS</td></tr>",
                            "<tr><td>MONTE BONITO / RS</td></tr>",
                            "<tr><td>MONTE CARLO / SC</td></tr>",
                            "<tr><td>MONTE CARMELO / MG</td></tr>",
                            "<tr><td>MONTE CASTELO / SC</td></tr>",
                            "<tr><td>MONTE CASTELO / SP</td></tr>",
                            "<tr><td>MONTE FORMOSO / MG</td></tr>",
                            "<tr><td>MONTE GORDO / BA</td></tr>",
                            "<tr><td>MONTE MOR / SP</td></tr>",
                            "<tr><td>MONTE SANTO / BA</td></tr>",
                            "<tr><td>MONTE SANTO DE MINAS / MG</td></tr>",
                            "<tr><td>MONTE SIAO / MG</td></tr>",
                            "<tr><td>MONTE VERDE / MG</td></tr>",
                            "<tr><td>MONTEIRO LOBATO / SP</td></tr>",
                            "<tr><td>MONTEIROPOLIS / AL</td></tr>",
                            "<tr><td>MONTENEGRO / RS</td></tr>",
                            "<tr><td>MONTES CLAROS / MG</td></tr>",
                            "<tr><td>MONTEZUMA / MG</td></tr>",
                            "<tr><td>MONTIVIDIU DO NORTE / GO</td></tr>",
                            "<tr><td>MORADA NOVA / CE</td></tr>",
                            "<tr><td>MORADA NOVA / PA</td></tr>",
                            "<tr><td>MORADA NOVA DE MINAS / MG</td></tr>",
                            "<tr><td>MOREILANDIA / PE</td></tr>",
                            "<tr><td>MOREIRA SALES / PR</td></tr>",
                            "<tr><td>MORENO / PE</td></tr>",
                            "<tr><td>MORPARA / BA</td></tr>",
                            "<tr><td>MORRETES / PR</td></tr>",
                            "<tr><td>MORRINHOS / CE</td></tr>",
                            "<tr><td>MORRINHOS / GO</td></tr>",
                            "<tr><td>MORRO AGUDO / SP</td></tr>",
                            "<tr><td>MORRO AGUDO DE GOIAS / GO</td></tr>",
                            "<tr><td>MORRO DA FUMACA / SC</td></tr>",
                            "<tr><td>MORRO DA GARCA / MG</td></tr>",
                            "<tr><td>MORRO DE SAO PAULO / BA</td></tr>",
                            "<tr><td>MORRO DO CHAPEU / BA</td></tr>",
                            "<tr><td>MORRO DO FERRO / MG</td></tr>",
                            "<tr><td>MORRO DO PILAR / MG</td></tr>",
                            "<tr><td>MORRO GRANDE / SC</td></tr>",
                            "<tr><td>MORRO REDONDO / RS</td></tr>",
                            "<tr><td>MORRO REUTER / RS</td></tr>",
                            "<tr><td>MORRO VERMELHO / MG</td></tr>",
                            "<tr><td>MORUNGABA / SP</td></tr>",
                            "<tr><td>MOSSAMEDES / GO</td></tr>",
                            "<tr><td>MOSSORO / RN</td></tr>",
                            "<tr><td>MOSTARDAS / RS</td></tr>",
                            "<tr><td>MOTUCA / SP</td></tr>",
                            "<tr><td>MOZARLANDIA / GO</td></tr>",
                            "<tr><td>MUCAMBO / CE</td></tr>",
                            "<tr><td>MUCUGE / BA</td></tr>",
                            "<tr><td>MUCURI / BA</td></tr>",
                            "<tr><td>MUCURICI / ES</td></tr>",
                            "<tr><td>MULITERNO / RS</td></tr>",
                            "<tr><td>MUNDO NOVO / BA</td></tr>",
                            "<tr><td>MUNDO NOVO / GO</td></tr>",
                            "<tr><td>MUNDO NOVO / MS</td></tr>",
                            "<tr><td>MUNHOZ / MG</td></tr>",
                            "<tr><td>MUNHOZ DE MELO / PR</td></tr>",
                            "<tr><td>MUNIZ FREIRE / ES</td></tr>",
                            "<tr><td>MUQUEM DO SAO FRANCISCO / BA</td></tr>",
                            "<tr><td>MUQUI / ES</td></tr>",
                            "<tr><td>MURIAE / MG</td></tr>",
                            "<tr><td>MURICI / AL</td></tr>",
                            "<tr><td>MURITIBA / BA</td></tr>",
                            "<tr><td>MURUCUPI / PA</td></tr>",
                            "<tr><td>MURUTINGA DO SUL / SP</td></tr>",
                            "<tr><td>MUSSUREPE / RJ</td></tr>",
                            "<tr><td>MUTUIPE / BA</td></tr>",
                            "<tr><td>MUTUM / MG</td></tr>",
                            "<tr><td>MUTUM PARANA / RO</td></tr>",
                            "<tr><td>MUTUNOPOLIS / GO</td></tr>",
                            "<tr><td>MUZAMBINHO / MG</td></tr>",
                            "<tr><td>NACIP RAYDAN / MG</td></tr>",
                            "<tr><td>NANTES / SP</td></tr>",
                            "<tr><td>NANUQUE / MG</td></tr>",
                            "<tr><td>NAO-ME-TOQUE / RS</td></tr>",
                            "<tr><td>NARANDIBA / SP</td></tr>",
                            "<tr><td>NATAL / RN</td></tr>",
                            "<tr><td>NATERCIA / MG</td></tr>",
                            "<tr><td>NATIVIDADE / RJ</td></tr>",
                            "<tr><td>NATIVIDADE / TO</td></tr>",
                            "<tr><td>NATIVIDADE DA SERRA / SP</td></tr>",
                            "<tr><td>NAVEGANTES / SC</td></tr>",
                            "<tr><td>NAVIRAI / MS</td></tr>",
                            "<tr><td>NAZARE / BA</td></tr>",
                            "<tr><td>NAZARE DA MATA / PE</td></tr>",
                            "<tr><td>NAZARE PAULISTA / SP</td></tr>",
                            "<tr><td>NAZARENO / MG</td></tr>",
                            "<tr><td>NAZARIO / GO</td></tr>",
                            "<tr><td>NEOPOLIS / SE</td></tr>",
                            "<tr><td>NEPOMUCENO / MG</td></tr>",
                            "<tr><td>NEROPOLIS / GO</td></tr>",
                            "<tr><td>NEVES PAULISTA / SP</td></tr>",
                            "<tr><td>NHANDEARA / SP</td></tr>",
                            "<tr><td>NILOPOLIS / RJ</td></tr>",
                            "<tr><td>NIPOA / SP</td></tr>",
                            "<tr><td>NIQUELANDIA / GO</td></tr>",
                            "<tr><td>NITEROI / RJ</td></tr>",
                            "<tr><td>NOBRES / MT</td></tr>",
                            "<tr><td>NONOAI / RS</td></tr>",
                            "<tr><td>NORTELANDIA / MT</td></tr>",
                            "<tr><td>NOSSA SENHORA DA GLORIA / SE</td></tr>",
                            "<tr><td>NOSSA SENHORA DAS DORES / SE</td></tr>",
                            "<tr><td>NOSSA SENHORA DAS GRACAS / PR</td></tr>",
                            "<tr><td>NOSSA SENHORA DE CARAVAGGIO / SC</td></tr>",
                            "<tr><td>NOSSA SENHORA DE LOURDES / SE</td></tr>",
                            "<tr><td>NOSSA SENHORA DO O / PE</td></tr>",
                            "<tr><td>NOSSA SENHORA DO REMEDIO / SP</td></tr>",
                            "<tr><td>NOSSA SENHORA DO SOCORRO / SE</td></tr>",
                            "<tr><td>NOVA ALVORADA / RS</td></tr>",
                            "<tr><td>NOVA ALVORADA DO SUL / MS</td></tr>",
                            "<tr><td>NOVA AMERICA / GO</td></tr>",
                            "<tr><td>NOVA AMERICA DA COLINA / PR</td></tr>",
                            "<tr><td>NOVA ANDRADINA / MS</td></tr>",
                            "<tr><td>NOVA ARACA / RS</td></tr>",
                            "<tr><td>NOVA AURORA / GO</td></tr>",
                            "<tr><td>NOVA AURORA / PR</td></tr>",
                            "<tr><td>NOVA BANDEIRANTES / MT</td></tr>",
                            "<tr><td>NOVA BASSANO / RS</td></tr>",
                            "<tr><td>NOVA BOA VISTA / RS</td></tr>",
                            "<tr><td>NOVA BRASILANDIA D'OESTE / RO</td></tr>",
                            "<tr><td>NOVA BRESCIA / RS</td></tr>",
                            "<tr><td>NOVA CAMPINA / SP</td></tr>",
                            "<tr><td>NOVA CANAA / BA</td></tr>",
                            "<tr><td>NOVA CANAA DO NORTE / MT</td></tr>",
                            "<tr><td>NOVA CANAA PAULISTA / SP</td></tr>",
                            "<tr><td>NOVA CANTU / PR</td></tr>",
                            "<tr><td>NOVA CRIXAS / GO</td></tr>",
                            "<tr><td>NOVA CRUZ / RN</td></tr>",
                            "<tr><td>NOVA ERA / MG</td></tr>",
                            "<tr><td>NOVA ERECHIM / SC</td></tr>",
                            "<tr><td>NOVA ESPERANCA / PR</td></tr>",
                            "<tr><td>NOVA ESPERANCA DO PIRIA / PA</td></tr>",
                            "<tr><td>NOVA ESPERANCA DO SUDOESTE / PR</td></tr>",
                            "<tr><td>NOVA ESPERANCA DO SUL / RS</td></tr>",
                            "<tr><td>NOVA EUROPA / SP</td></tr>",
                            "<tr><td>NOVA FATIMA / BA</td></tr>",
                            "<tr><td>NOVA FATIMA / PR</td></tr>",
                            "<tr><td>NOVA FLORESTA / PB</td></tr>",
                            "<tr><td>NOVA FRIBURGO / RJ</td></tr>",
                            "<tr><td>NOVA GRANADA / SP</td></tr>",
                            "<tr><td>NOVA GUARITA / MT</td></tr>",
                            "<tr><td>NOVA GUATAPORANGA / SP</td></tr>",
                            "<tr><td>NOVA HARTZ / RS</td></tr>",
                            "<tr><td>NOVA IGUACU / RJ</td></tr>",
                            "<tr><td>NOVA INDEPENDENCIA / SP</td></tr>",
                            "<tr><td>NOVA IPIXUNA / PA</td></tr>",
                            "<tr><td>NOVA ITABERABA / SC</td></tr>",
                            "<tr><td>NOVA LACERDA / MT</td></tr>",
                            "<tr><td>NOVA LARANJEIRAS / PR</td></tr>",
                            "<tr><td>NOVA LIMA / MG</td></tr>",
                            "<tr><td>NOVA LONDRINA / PR</td></tr>",
                            "<tr><td>NOVA LUZITANIA / SP</td></tr>",
                            "<tr><td>NOVA MAMORE / RO</td></tr>",
                            "<tr><td>NOVA MONTE VERDE / MT</td></tr>",
                            "<tr><td>NOVA MUTUM / MT</td></tr>",
                            "<tr><td>NOVA ODESSA / SP</td></tr>",
                            "<tr><td>NOVA OLIMPIA / MT</td></tr>",
                            "<tr><td>NOVA OLINDA / CE</td></tr>",
                            "<tr><td>NOVA OLINDA / TO</td></tr>",
                            "<tr><td>NOVA OLINDA DO MARANHAO / MA</td></tr>",
                            "<tr><td>NOVA PADUA / RS</td></tr>",
                            "<tr><td>NOVA PALMA / RS</td></tr>",
                            "<tr><td>NOVA PETROPOLIS / RS</td></tr>",
                            "<tr><td>NOVA PONTE / MG</td></tr>",
                            "<tr><td>NOVA PRATA / RS</td></tr>",
                            "<tr><td>NOVA PRATA DO IGUACU / PR</td></tr>",
                            "<tr><td>NOVA REDENCAO / BA</td></tr>",
                            "<tr><td>NOVA RESENDE / MG</td></tr>",
                            "<tr><td>NOVA ROMA / GO</td></tr>",
                            "<tr><td>NOVA ROMA DO SUL / RS</td></tr>",
                            "<tr><td>NOVA RUSSAS / CE</td></tr>",
                            "<tr><td>NOVA SANTA BARBARA / PR</td></tr>",
                            "<tr><td>NOVA SANTA RITA / PI</td></tr>",
                            "<tr><td>NOVA SANTA RITA / RS</td></tr>",
                            "<tr><td>NOVA SANTA ROSA / PR</td></tr>",
                            "<tr><td>NOVA SERRANA / MG</td></tr>",
                            "<tr><td>NOVA SOURE / BA</td></tr>",
                            "<tr><td>NOVA TIMBOTEUA / PA</td></tr>",
                            "<tr><td>NOVA TRENTO / SC</td></tr>",
                            "<tr><td>NOVA UBIRATA / MT</td></tr>",
                            "<tr><td>NOVA VENECIA / ES</td></tr>",
                            "<tr><td>NOVA VENEZA / GO</td></tr>",
                            "<tr><td>NOVA VENEZA / SC</td></tr>",
                            "<tr><td>NOVA VICOSA / BA</td></tr>",
                            "<tr><td>NOVA XAVANTINA / MT</td></tr>",
                            "<tr><td>NOVAIS / SP</td></tr>",
                            "<tr><td>NOVO ALEGRE / TO</td></tr>",
                            "<tr><td>NOVO BARREIRO / RS</td></tr>",
                            "<tr><td>NOVO BRASIL / ES</td></tr>",
                            "<tr><td>NOVO CABRAIS / RS</td></tr>",
                            "<tr><td>NOVO CRUZEIRO / MG</td></tr>",
                            "<tr><td>NOVO GAMA / GO</td></tr>",
                            "<tr><td>NOVO HAMBURGO / RS</td></tr>",
                            "<tr><td>NOVO HORIZONTE / SC</td></tr>",
                            "<tr><td>NOVO HORIZONTE / SP</td></tr>",
                            "<tr><td>NOVO ITACOLOMI / PR</td></tr>",
                            "<tr><td>NOVO JARDIM / TO</td></tr>",
                            "<tr><td>NOVO LINO / AL</td></tr>",
                            "<tr><td>NOVO MACHADO / RS</td></tr>",
                            "<tr><td>NOVO MUNDO / MT</td></tr>",
                            "<tr><td>NOVO ORIENTE / CE</td></tr>",
                            "<tr><td>NOVO ORIENTE DE MINAS / MG</td></tr>",
                            "<tr><td>NOVO ORIENTE DO PIAUI / PI</td></tr>",
                            "<tr><td>NOVO PLANALTO / GO</td></tr>",
                            "<tr><td>NOVO PROGRESSO / PA</td></tr>",
                            "<tr><td>NOVO REPARTIMENTO / PA</td></tr>",
                            "<tr><td>NOVO SAO JOAQUIM / MT</td></tr>",
                            "<tr><td>NUCLEO RESIDENCIAL PILAR / BA</td></tr>",
                            "<tr><td>NUPORANGA / SP</td></tr>",
                            "<tr><td>OCARA / CE</td></tr>",
                            "<tr><td>OCAUCU / SP</td></tr>",
                            "<tr><td>OEIRAS / PI</td></tr>",
                            "<tr><td>OEIRAS DO PARA / PA</td></tr>",
                            "<tr><td>OIAPOQUE / AP</td></tr>",
                            "<tr><td>OLARIA / MG</td></tr>",
                            "<tr><td>OLEO / SP</td></tr>",
                            "<tr><td>OLHO D'AGUA DAS CUNHAS / MA</td></tr>",
                            "<tr><td>OLHO D'AGUA DAS FLORES / AL</td></tr>",
                            "<tr><td>OLHOS D'AGUA / MG</td></tr>",
                            "<tr><td>OLIMPIA / SP</td></tr>",
                            "<tr><td>OLINDA / PE</td></tr>",
                            "<tr><td>OLINDINA / BA</td></tr>",
                            "<tr><td>OLIVEIRA / MG</td></tr>",
                            "<tr><td>OLIVEIRA DOS BREJINHOS / BA</td></tr>",
                            "<tr><td>ONDA VERDE / SP</td></tr>",
                            "<tr><td>ORIENTE / SP</td></tr>",
                            "<tr><td>ORINDIUVA / SP</td></tr>",
                            "<tr><td>ORIZANIA / MG</td></tr>",
                            "<tr><td>ORIZONA / GO</td></tr>",
                            "<tr><td>ORLANDIA / SP</td></tr>",
                            "<tr><td>ORLEANS / SC</td></tr>",
                            "<tr><td>OROBO / PE</td></tr>",
                            "<tr><td>OROCO / PE</td></tr>",
                            "<tr><td>OROS / CE</td></tr>",
                            "<tr><td>ORTIGUEIRA / PR</td></tr>",
                            "<tr><td>OSASCO / SP</td></tr>",
                            "<tr><td>OSCAR BRESSANE / SP</td></tr>",
                            "<tr><td>OSORIO / RS</td></tr>",
                            "<tr><td>OSVALDO CRUZ / SP</td></tr>",
                            "<tr><td>OSVALDO KROEFF / RS</td></tr>",
                            "<tr><td>OTACILIO COSTA / SC</td></tr>",
                            "<tr><td>OUREM / PA</td></tr>",
                            "<tr><td>OURICURI / PE</td></tr>",
                            "<tr><td>OURILANDIA DO NORTE / PA</td></tr>",
                            "<tr><td>OURINHOS / SP</td></tr>",
                            "<tr><td>OURIZONA / PR</td></tr>",
                            "<tr><td>OURO / SC</td></tr>",
                            "<tr><td>OURO BRANCO / MG</td></tr>",
                            "<tr><td>OURO FINO / MG</td></tr>",
                            "<tr><td>OURO PRETO / MG</td></tr>",
                            "<tr><td>OURO PRETO DO OESTE / RO</td></tr>",
                            "<tr><td>OURO VERDE / SP</td></tr>",
                            "<tr><td>OURO VERDE DE GOIAS / GO</td></tr>",
                            "<tr><td>OURO VERDE DE MINAS / MG</td></tr>",
                            "<tr><td>OURO VERDE DO OESTE / PR</td></tr>",
                            "<tr><td>OUROESTE / SP</td></tr>",
                            "<tr><td>OUVIDOR / GO</td></tr>",
                            "<tr><td>PACAEMBU / SP</td></tr>",
                            "<tr><td>PACAJA / PA</td></tr>",
                            "<tr><td>PACAJUS / CE</td></tr>",
                            "<tr><td>PACATUBA / CE</td></tr>",
                            "<tr><td>PACO DO LUMIAR / MA</td></tr>",
                            "<tr><td>PACOTI / CE</td></tr>",
                            "<tr><td>PACOTUBA / ES</td></tr>",
                            "<tr><td>PACUJA / CE</td></tr>",
                            "<tr><td>PADRE BERNARDO / GO</td></tr>",
                            "<tr><td>PADRE CARVALHO / MG</td></tr>",
                            "<tr><td>PADRE GONZALES / RS</td></tr>",
                            "<tr><td>PADRE PARAISO / MG</td></tr>",
                            "<tr><td>PAIAL / SC</td></tr>",
                            "<tr><td>PAICANDU / PR</td></tr>",
                            "<tr><td>PAINEIRAS / MG</td></tr>",
                            "<tr><td>PAINS / MG</td></tr>",
                            "<tr><td>PAIVA / MG</td></tr>",
                            "<tr><td>PALESTINA / SP</td></tr>",
                            "<tr><td>PALHANO / CE</td></tr>",
                            "<tr><td>PALHOCA / SC</td></tr>",
                            "<tr><td>PALMA / MG</td></tr>",
                            "<tr><td>PALMA SOLA / SC</td></tr>",
                            "<tr><td>PALMARES / PE</td></tr>",
                            "<tr><td>PALMARES DO SUL / RS</td></tr>",
                            "<tr><td>PALMARES PAULISTA / SP</td></tr>",
                            "<tr><td>PALMAS / PR</td></tr>",
                            "<tr><td>PALMAS / TO</td></tr>",
                            "<tr><td>PALMEIRA / PR</td></tr>",
                            "<tr><td>PALMEIRA / SC</td></tr>",
                            "<tr><td>PALMEIRA D OESTE / SP</td></tr>",
                            "<tr><td>PALMEIRA DAS MISSOES / RS</td></tr>",
                            "<tr><td>PALMEIRA D'OESTE / SP</td></tr>",
                            "<tr><td>PALMEIRA DOS INDIOS / AL</td></tr>",
                            "<tr><td>PALMEIRAS / BA</td></tr>",
                            "<tr><td>PALMEIRAS DE GOIAS / GO</td></tr>",
                            "<tr><td>PALMEIRINHA / PR</td></tr>",
                            "<tr><td>PALMINOPOLIS / GO</td></tr>",
                            "<tr><td>PALMITAL / PR</td></tr>",
                            "<tr><td>PALMITAL / SP</td></tr>",
                            "<tr><td>PALMITAL DE MINAS / MG</td></tr>",
                            "<tr><td>PALMITINHO / RS</td></tr>",
                            "<tr><td>PALMITOS / SC</td></tr>",
                            "<tr><td>PALMOPOLIS / MG</td></tr>",
                            "<tr><td>PALOTINA / PR</td></tr>",
                            "<tr><td>PANAMBI / RS</td></tr>",
                            "<tr><td>PANCAS / ES</td></tr>",
                            "<tr><td>PANELAS / PE</td></tr>",
                            "<tr><td>PANORAMA / SP</td></tr>",
                            "<tr><td>PANTANO GRANDE / RS</td></tr>",
                            "<tr><td>PAPAGAIOS / MG</td></tr>",
                            "<tr><td>PAPANDUVA / SC</td></tr>",
                            "<tr><td>PAPUCAIA / RJ</td></tr>",
                            "<tr><td>PARA DE MINAS / MG</td></tr>",
                            "<tr><td>PARACAMBI / RJ</td></tr>",
                            "<tr><td>PARACATU / MG</td></tr>",
                            "<tr><td>PARACURU / CE</td></tr>",
                            "<tr><td>PARAGOMINAS / PA</td></tr>",
                            "<tr><td>PARAGUACU / MG</td></tr>",
                            "<tr><td>PARAGUACU PAULISTA / SP</td></tr>",
                            "<tr><td>PARAI / RS</td></tr>",
                            "<tr><td>PARAIBA DO SUL / RJ</td></tr>",
                            "<tr><td>PARAIBANO / MA</td></tr>",
                            "<tr><td>PARAIBUNA / SP</td></tr>",
                            "<tr><td>PARAIPABA / CE</td></tr>",
                            "<tr><td>PARAISO / SC</td></tr>",
                            "<tr><td>PARAISO / SP</td></tr>",
                            "<tr><td>PARAISO DAS AGUAS / MS</td></tr>",
                            "<tr><td>PARAISO DO NORTE / PR</td></tr>",
                            "<tr><td>PARAISO DO SUL / RS</td></tr>",
                            "<tr><td>PARAISO DO TOCANTINS / TO</td></tr>",
                            "<tr><td>PARAISOPOLIS / MG</td></tr>",
                            "<tr><td>PARAJU / ES</td></tr>",
                            "<tr><td>PARAMBU / CE</td></tr>",
                            "<tr><td>PARAMIRIM / BA</td></tr>",
                            "<tr><td>PARANA / TO</td></tr>",
                            "<tr><td>PARANACITY / PR</td></tr>",
                            "<tr><td>PARANAGUA / PR</td></tr>",
                            "<tr><td>PARANAIBA / MS</td></tr>",
                            "<tr><td>PARANAIGUARA / GO</td></tr>",
                            "<tr><td>PARANAITA / MT</td></tr>",
                            "<tr><td>PARANAPANEMA / SP</td></tr>",
                            "<tr><td>PARANAPOEMA / PR</td></tr>",
                            "<tr><td>PARANAPUA / SP</td></tr>",
                            "<tr><td>PARANATINGA / MT</td></tr>",
                            "<tr><td>PARANAVAI / PR</td></tr>",
                            "<tr><td>PARANHOS / MS</td></tr>",
                            "<tr><td>PARAOPEBA / MG</td></tr>",
                            "<tr><td>PARAPUA / SP</td></tr>",
                            "<tr><td>PARATI / RJ</td></tr>",
                            "<tr><td>PARATY / RJ</td></tr>",
                            "<tr><td>PARAUAPEBAS / PA</td></tr>",
                            "<tr><td>PARAUNA / GO</td></tr>",
                            "<tr><td>PARDINHO / SP</td></tr>",
                            "<tr><td>PARECI NOVO / RS</td></tr>",
                            "<tr><td>PARELHAS / RN</td></tr>",
                            "<tr><td>PARIPIRANGA / BA</td></tr>",
                            "<tr><td>PARIPUEIRA / AL</td></tr>",
                            "<tr><td>PARIQUERA-ACU / SP</td></tr>",
                            "<tr><td>PARISI / SP</td></tr>",
                            "<tr><td>PARNAIBA / PI</td></tr>",
                            "<tr><td>PARNAMIRIM / PE</td></tr>",
                            "<tr><td>PARNAMIRIM / RN</td></tr>",
                            "<tr><td>PARNARAMA / MA</td></tr>",
                            "<tr><td>PAROBE / RS</td></tr>",
                            "<tr><td>PASSA QUATRO / MG</td></tr>",
                            "<tr><td>PASSA TEMPO / MG</td></tr>",
                            "<tr><td>PASSA TRES / RJ</td></tr>",
                            "<tr><td>PASSAGEM / PB</td></tr>",
                            "<tr><td>PASSAGEM FRANCA / MA</td></tr>",
                            "<tr><td>PASSIRA / PE</td></tr>",
                            "<tr><td>PASSO DE CAMARAGIBE / AL</td></tr>",
                            "<tr><td>PASSO DE TORRES / SC</td></tr>",
                            "<tr><td>PASSO FUNDO / RS</td></tr>",
                            "<tr><td>PASSOS / MG</td></tr>",
                            "<tr><td>PASSOS MAIA / SC</td></tr>",
                            "<tr><td>PASTOS BONS / MA</td></tr>",
                            "<tr><td>PATIS / MG</td></tr>",
                            "<tr><td>PATO BRAGADO / PR</td></tr>",
                            "<tr><td>PATO BRANCO / PR</td></tr>",
                            "<tr><td>PATOS / PB</td></tr>",
                            "<tr><td>PATOS DE MINAS / MG</td></tr>",
                            "<tr><td>PATROCINIO / MG</td></tr>",
                            "<tr><td>PATROCINIO DO MURIAE / MG</td></tr>",
                            "<tr><td>PATROCINIO PAULISTA / SP</td></tr>",
                            "<tr><td>PATU / RN</td></tr>",
                            "<tr><td>PATY DO ALFERES / RJ</td></tr>",
                            "<tr><td>PAU BRASIL / BA</td></tr>",
                            "<tr><td>PAU D'ARCO / AL</td></tr>",
                            "<tr><td>PAU D'ARCO / PA</td></tr>",
                            "<tr><td>PAU DOS FERROS / RN</td></tr>",
                            "<tr><td>PAUDALHO / PE</td></tr>",
                            "<tr><td>PAULA CANDIDO / MG</td></tr>",
                            "<tr><td>PAULA FREITAS / PR</td></tr>",
                            "<tr><td>PAULICEIA / SP</td></tr>",
                            "<tr><td>PAULINIA / SP</td></tr>",
                            "<tr><td>PAULINO NEVES / MA</td></tr>",
                            "<tr><td>PAULISTA / PB</td></tr>",
                            "<tr><td>PAULISTA / PE</td></tr>",
                            "<tr><td>PAULISTANA / PI</td></tr>",
                            "<tr><td>PAULISTANIA / SP</td></tr>",
                            "<tr><td>PAULO AFONSO / BA</td></tr>",
                            "<tr><td>PAULO DE FARIA / SP</td></tr>",
                            "<tr><td>PAULO FRONTIN / PR</td></tr>",
                            "<tr><td>PAULO JACINTO / AL</td></tr>",
                            "<tr><td>PAULO LOPES / SC</td></tr>",
                            "<tr><td>PAVAO / MG</td></tr>",
                            "<tr><td>PEABIRU / PR</td></tr>",
                            "<tr><td>PECANHA / MG</td></tr>",
                            "<tr><td>PEDERNEIRAS / SP</td></tr>",
                            "<tr><td>PEDRA / PE</td></tr>",
                            "<tr><td>PEDRA AZUL / MG</td></tr>",
                            "<tr><td>PEDRA BELA / SP</td></tr>",
                            "<tr><td>PEDRA BRANCA / CE</td></tr>",
                            "<tr><td>PEDRA BRANCA / PB</td></tr>",
                            "<tr><td>PEDRA DO INDAIA / MG</td></tr>",
                            "<tr><td>PEDRA LAVRADA / PB</td></tr>",
                            "<tr><td>PEDRA MENINA / MG</td></tr>",
                            "<tr><td>PEDRA PRETA / MT</td></tr>",
                            "<tr><td>PEDRA PRETA / RN</td></tr>",
                            "<tr><td>PEDRALVA / MG</td></tr>",
                            "<tr><td>PEDRANOPOLIS / SP</td></tr>",
                            "<tr><td>PEDRAO / BA</td></tr>",
                            "<tr><td>PEDRAS ALTAS / RS</td></tr>",
                            "<tr><td>PEDRAS DE FOGO / PB</td></tr>",
                            "<tr><td>PEDREGULHO / SP</td></tr>",
                            "<tr><td>PEDREIRA / SP</td></tr>",
                            "<tr><td>PEDREIRAS / MA</td></tr>",
                            "<tr><td>PEDRINHAS PAULISTA / SP</td></tr>",
                            "<tr><td>PEDRINOPOLIS / MG</td></tr>",
                            "<tr><td>PEDRO AFONSO / TO</td></tr>",
                            "<tr><td>PEDRO CANARIO / ES</td></tr>",
                            "<tr><td>PEDRO DE TOLEDO / SP</td></tr>",
                            "<tr><td>PEDRO GOMES / MS</td></tr>",
                            "<tr><td>PEDRO II / PI</td></tr>",
                            "<tr><td>PEDRO LEOPOLDO / MG</td></tr>",
                            "<tr><td>PEDRO OSORIO / RS</td></tr>",
                            "<tr><td>PEDRO VELHO / RN</td></tr>",
                            "<tr><td>PEIXE / TO</td></tr>",
                            "<tr><td>PEIXOTO DE AZEVEDO / MT</td></tr>",
                            "<tr><td>PEJUCARA / RS</td></tr>",
                            "<tr><td>PELOTAS / RS</td></tr>",
                            "<tr><td>PENAFORTE / CE</td></tr>",
                            "<tr><td>PENAPOLIS / SP</td></tr>",
                            "<tr><td>PENDENCIAS / RN</td></tr>",
                            "<tr><td>PENEDO / AL</td></tr>",
                            "<tr><td>PENEDO / RJ</td></tr>",
                            "<tr><td>PENHA / SC</td></tr>",
                            "<tr><td>PENTECOSTE / CE</td></tr>",
                            "<tr><td>PEQUI / MG</td></tr>",
                            "<tr><td>PEQUIZEIRO / TO</td></tr>",
                            "<tr><td>PERDIGAO / MG</td></tr>",
                            "<tr><td>PERDIZES / MG</td></tr>",
                            "<tr><td>PERDOES / MG</td></tr>",
                            "<tr><td>PEREIRA BARRETO / SP</td></tr>",
                            "<tr><td>PEREIRAS / SP</td></tr>",
                            "<tr><td>PEREIRO / CE</td></tr>",
                            "<tr><td>PERI MIRIM / MA</td></tr>",
                            "<tr><td>PERIQUITO / MG</td></tr>",
                            "<tr><td>PERITIBA / SC</td></tr>",
                            "<tr><td>PEROBAL / PR</td></tr>",
                            "<tr><td>PEROLA / PR</td></tr>",
                            "<tr><td>PEROLA D'OESTE / PR</td></tr>",
                            "<tr><td>PEROLA INDEPENDENTE / PR</td></tr>",
                            "<tr><td>PERPETUO SOCORRO / MG</td></tr>",
                            "<tr><td>PERUIBE / SP</td></tr>",
                            "<tr><td>PESCADOR / MG</td></tr>",
                            "<tr><td>PESQUEIRA / PE</td></tr>",
                            "<tr><td>PETROLANDIA / PE</td></tr>",
                            "<tr><td>PETROLANDIA / SC</td></tr>",
                            "<tr><td>PETROLINA / PE</td></tr>",
                            "<tr><td>PETROPOLIS / RJ</td></tr>",
                            "<tr><td>PIACABUCU / AL</td></tr>",
                            "<tr><td>PIACATU / SP</td></tr>",
                            "<tr><td>PIACU / ES</td></tr>",
                            "<tr><td>PIANCO / PB</td></tr>",
                            "<tr><td>PIAO / RJ</td></tr>",
                            "<tr><td>PIATA / BA</td></tr>",
                            "<tr><td>PIAU / MG</td></tr>",
                            "<tr><td>PICADA CAFE / RS</td></tr>",
                            "<tr><td>PICARRA / PA</td></tr>",
                            "<tr><td>PICARRAS / SC</td></tr>",
                            "<tr><td>PICOS / PI</td></tr>",
                            "<tr><td>PICUI / PB</td></tr>",
                            "<tr><td>PIEDADE / SP</td></tr>",
                            "<tr><td>PIEDADE DE CARATINGA / MG</td></tr>",
                            "<tr><td>PIEDADE DO RIO GRANDE / MG</td></tr>",
                            "<tr><td>PIEDADE DOS GERAIS / MG</td></tr>",
                            "<tr><td>PIEN / PR</td></tr>",
                            "<tr><td>PILAO ARCADO / BA</td></tr>",
                            "<tr><td>PILAR / AL</td></tr>",
                            "<tr><td>PILAR / PB</td></tr>",
                            "<tr><td>PILAR DO SUL / SP</td></tr>",
                            "<tr><td>PIMENTA / MG</td></tr>",
                            "<tr><td>PIMENTA BUENO / RO</td></tr>",
                            "<tr><td>PIMENTEIRAS / PI</td></tr>",
                            "<tr><td>PINDAI / BA</td></tr>",
                            "<tr><td>PINDAMONHANGABA / SP</td></tr>",
                            "<tr><td>PINDARE MIRIM / MA</td></tr>",
                            "<tr><td>PINDOBA / AL</td></tr>",
                            "<tr><td>PINDOBACU / BA</td></tr>",
                            "<tr><td>PINDORAMA / SP</td></tr>",
                            "<tr><td>PINDORAMA DO TOCANTINS / TO</td></tr>",
                            "<tr><td>PINDORETAMA / CE</td></tr>",
                            "<tr><td>PINGO-D'AGUA / MG</td></tr>",
                            "<tr><td>PINHAIS / PR</td></tr>",
                            "<tr><td>PINHAL DA SERRA / RS</td></tr>",
                            "<tr><td>PINHALAO / PR</td></tr>",
                            "<tr><td>PINHALZINHO / SC</td></tr>",
                            "<tr><td>PINHALZINHO / SP</td></tr>",
                            "<tr><td>PINHAO / PR</td></tr>",
                            "<tr><td>PINHAO / SE</td></tr>",
                            "<tr><td>PINHEIRAL / RJ</td></tr>",
                            "<tr><td>PINHEIRO / MA</td></tr>",
                            "<tr><td>PINHEIRO MACHADO / RS</td></tr>",
                            "<tr><td>PINHEIROS / ES</td></tr>",
                            "<tr><td>PINHEIROS / SP</td></tr>",
                            "<tr><td>PINHOTIBA / MG</td></tr>",
                            "<tr><td>PINTADAS / BA</td></tr>",
                            "<tr><td>PINTO BANDEIRA / RS</td></tr>",
                            "<tr><td>PIO IX / PI</td></tr>",
                            "<tr><td>PIO XII / MA</td></tr>",
                            "<tr><td>PIQUEROBI / SP</td></tr>",
                            "<tr><td>PIQUETE / SP</td></tr>",
                            "<tr><td>PIRACAIA / SP</td></tr>",
                            "<tr><td>PIRACANJUBA / GO</td></tr>",
                            "<tr><td>PIRACEMA / MG</td></tr>",
                            "<tr><td>PIRACICABA / SP</td></tr>",
                            "<tr><td>PIRACURUCA / PI</td></tr>",
                            "<tr><td>PIRAI / RJ</td></tr>",
                            "<tr><td>PIRAI DO NORTE / BA</td></tr>",
                            "<tr><td>PIRAI DO SUL / PR</td></tr>",
                            "<tr><td>PIRAJU / SP</td></tr>",
                            "<tr><td>PIRAJUBA / MG</td></tr>",
                            "<tr><td>PIRAJUI / SP</td></tr>",
                            "<tr><td>PIRAMBU / SE</td></tr>",
                            "<tr><td>PIRANGA / MG</td></tr>",
                            "<tr><td>PIRANGI / SP</td></tr>",
                            "<tr><td>PIRANGUINHO / MG</td></tr>",
                            "<tr><td>PIRANHAS / GO</td></tr>",
                            "<tr><td>PIRAPEMAS / MA</td></tr>",
                            "<tr><td>PIRAPETINGA / MG</td></tr>",
                            "<tr><td>PIRAPO / PR</td></tr>",
                            "<tr><td>PIRAPORA / MG</td></tr>",
                            "<tr><td>PIRAPORA DO BOM JESUS / SP</td></tr>",
                            "<tr><td>PIRAPOZINHO / SP</td></tr>",
                            "<tr><td>PIRAQUARA / PR</td></tr>",
                            "<tr><td>PIRASSUNUNGA / SP</td></tr>",
                            "<tr><td>PIRATINI / RS</td></tr>",
                            "<tr><td>PIRATININGA / SP</td></tr>",
                            "<tr><td>PIRATUBA / SC</td></tr>",
                            "<tr><td>PIRAUBA / MG</td></tr>",
                            "<tr><td>PIRENOPOLIS / GO</td></tr>",
                            "<tr><td>PIRES DO RIO / GO</td></tr>",
                            "<tr><td>PIRES FERREIRA / CE</td></tr>",
                            "<tr><td>PIRIPA / BA</td></tr>",
                            "<tr><td>PIRIPIRI / PI</td></tr>",
                            "<tr><td>PIRITIBA / BA</td></tr>",
                            "<tr><td>PIRPIRITUBA / PB</td></tr>",
                            "<tr><td>PITANGA / PR</td></tr>",
                            "<tr><td>PITANGA DE ESTRADA / PB</td></tr>",
                            "<tr><td>PITANGUEIRAS / SP</td></tr>",
                            "<tr><td>PITANGUI / MG</td></tr>",
                            "<tr><td>PITIMBU / PB</td></tr>",
                            "<tr><td>PIUM / TO</td></tr>",
                            "<tr><td>PIUMA / ES</td></tr>",
                            "<tr><td>PIUMHI / MG</td></tr>",
                            "<tr><td>PIUMHII / MG</td></tr>",
                            "<tr><td>PLACAS / PA</td></tr>",
                            "<tr><td>PLANALTINA / GO</td></tr>",
                            "<tr><td>PLANALTINA DE GOIAS / GO</td></tr>",
                            "<tr><td>PLANALTINA DO PARANA / PR</td></tr>",
                            "<tr><td>PLANALTINO / BA</td></tr>",
                            "<tr><td>PLANALTO / BA</td></tr>",
                            "<tr><td>PLANALTO / PR</td></tr>",
                            "<tr><td>PLANALTO / RS</td></tr>",
                            "<tr><td>PLANALTO / SP</td></tr>",
                            "<tr><td>PLANURA / MG</td></tr>",
                            "<tr><td>POA / SP</td></tr>",
                            "<tr><td>POCAO / PE</td></tr>",
                            "<tr><td>POCAO DE PEDRAS / MA</td></tr>",
                            "<tr><td>POCINHOS / PB</td></tr>",
                            "<tr><td>POCO DE PEDRA / RN</td></tr>",
                            "<tr><td>POCO FUNDO / MG</td></tr>",
                            "<tr><td>POCO REDONDO / SE</td></tr>",
                            "<tr><td>POCO VERDE / SE</td></tr>",
                            "<tr><td>POCOES / BA</td></tr>",
                            "<tr><td>POCOES DE PAINEIRAS / MG</td></tr>",
                            "<tr><td>POCOS DE CALDAS / MG</td></tr>",
                            "<tr><td>POCRANE / MG</td></tr>",
                            "<tr><td>POJUCA / BA</td></tr>",
                            "<tr><td>POLO PETROQUIMICO DE TRIUNFO / RS</td></tr>",
                            "<tr><td>POLONI / SP</td></tr>",
                            "<tr><td>POMBAL / PB</td></tr>",
                            "<tr><td>POMBOS / PE</td></tr>",
                            "<tr><td>POMERODE / SC</td></tr>",
                            "<tr><td>POMPEIA / SP</td></tr>",
                            "<tr><td>POMPEU / MG</td></tr>",
                            "<tr><td>PONGAI / SP</td></tr>",
                            "<tr><td>PONTA GROSSA / PR</td></tr>",
                            "<tr><td>PONTA PORA / MS</td></tr>",
                            "<tr><td>PONTAL / SP</td></tr>",
                            "<tr><td>PONTAL DO PARANA / PR</td></tr>",
                            "<tr><td>PONTALINA / GO</td></tr>",
                            "<tr><td>PONTALINDA / SP</td></tr>",
                            "<tr><td>PONTAO / RS</td></tr>",
                            "<tr><td>PONTE ALTA DO NORTE / SC</td></tr>",
                            "<tr><td>PONTE NOVA / MG</td></tr>",
                            "<tr><td>PONTE SERRADA / SC</td></tr>",
                            "<tr><td>PONTES E LACERDA / MT</td></tr>",
                            "<tr><td>PONTES GESTAL / SP</td></tr>",
                            "<tr><td>PONTO BELO / ES</td></tr>",
                            "<tr><td>PONTO DO MARAMBAIA / MG</td></tr>",
                            "<tr><td>PONTO DOS VOLANTES / MG</td></tr>",
                            "<tr><td>PONTO NOVO / BA</td></tr>",
                            "<tr><td>POPULINA / SP</td></tr>",
                            "<tr><td>PORANGABA / SP</td></tr>",
                            "<tr><td>PORANGATU / GO</td></tr>",
                            "<tr><td>PORCIUNCULA / RJ</td></tr>",
                            "<tr><td>PORECATU / PR</td></tr>",
                            "<tr><td>PORTALEGRE / RN</td></tr>",
                            "<tr><td>PORTAO / RS</td></tr>",
                            "<tr><td>PORTEIRAS / CE</td></tr>",
                            "<tr><td>PORTEIRINHA / MG</td></tr>",
                            "<tr><td>PORTELA / RJ</td></tr>",
                            "<tr><td>PORTELANDIA / GO</td></tr>",
                            "<tr><td>PORTO ACRE / AC</td></tr>",
                            "<tr><td>PORTO ALEGRE / RS</td></tr>",
                            "<tr><td>PORTO ALEGRE DO NORTE / MT</td></tr>",
                            "<tr><td>PORTO AMAZONAS / PR</td></tr>",
                            "<tr><td>PORTO BELO / SC</td></tr>",
                            "<tr><td>PORTO CALVO / AL</td></tr>",
                            "<tr><td>PORTO DE PEDRAS / AL</td></tr>",
                            "<tr><td>PORTO DOS GAUCHOS / MT</td></tr>",
                            "<tr><td>PORTO ESPERIDIAO / MT</td></tr>",
                            "<tr><td>PORTO ESTRELA / MT</td></tr>",
                            "<tr><td>PORTO FELIZ / SP</td></tr>",
                            "<tr><td>PORTO FERREIRA / SP</td></tr>",
                            "<tr><td>PORTO FIRME / MG</td></tr>",
                            "<tr><td>PORTO FRANCO / MA</td></tr>",
                            "<tr><td>PORTO GRANDE / AP</td></tr>",
                            "<tr><td>PORTO LUCENA / RS</td></tr>",
                            "<tr><td>PORTO MURTINHO / MS</td></tr>",
                            "<tr><td>PORTO NACIONAL / TO</td></tr>",
                            "<tr><td>PORTO REAL / RJ</td></tr>",
                            "<tr><td>PORTO RICO / PR</td></tr>",
                            "<tr><td>PORTO SEGURO / BA</td></tr>",
                            "<tr><td>PORTO TROMBETAS / PA</td></tr>",
                            "<tr><td>PORTO UNIAO / SC</td></tr>",
                            "<tr><td>PORTO VELHO / RO</td></tr>",
                            "<tr><td>PORTO XAVIER / RS</td></tr>",
                            "<tr><td>POSSE / GO</td></tr>",
                            "<tr><td>POSTO DA MATA / BA</td></tr>",
                            "<tr><td>POTE / MG</td></tr>",
                            "<tr><td>POTENGI / CE</td></tr>",
                            "<tr><td>POTIM / SP</td></tr>",
                            "<tr><td>POTIRAGUA / BA</td></tr>",
                            "<tr><td>POTIRENDABA / SP</td></tr>",
                            "<tr><td>POUSO ALEGRE / MG</td></tr>",
                            "<tr><td>POUSO ALTO / MG</td></tr>",
                            "<tr><td>POUSO NOVO / RS</td></tr>",
                            "<tr><td>POUSO REDONDO / SC</td></tr>",
                            "<tr><td>POXOREU / MT</td></tr>",
                            "<tr><td>PRADO / BA</td></tr>",
                            "<tr><td>PRADOPOLIS / SP</td></tr>",
                            "<tr><td>PRADOS / MG</td></tr>",
                            "<tr><td>PRAIA GRANDE / ES</td></tr>",
                            "<tr><td>PRAIA GRANDE / SC</td></tr>",
                            "<tr><td>PRAIA GRANDE / SP</td></tr>",
                            "<tr><td>PRAIA NORTE / TO</td></tr>",
                            "<tr><td>PRANCHITA / PR</td></tr>",
                            "<tr><td>PRATA / MG</td></tr>",
                            "<tr><td>PRATA / PB</td></tr>",
                            "<tr><td>PRATAPOLIS / MG</td></tr>",
                            "<tr><td>PRESIDENTE ALVES / SP</td></tr>",
                            "<tr><td>PRESIDENTE BERNARDES / SP</td></tr>",
                            "<tr><td>PRESIDENTE CASTELLO BRANCO / SC</td></tr>",
                            "<tr><td>PRESIDENTE DUTRA / BA</td></tr>",
                            "<tr><td>PRESIDENTE DUTRA / MA</td></tr>",
                            "<tr><td>PRESIDENTE EPITACIO / SP</td></tr>",
                            "<tr><td>PRESIDENTE GETULIO / SC</td></tr>",
                            "<tr><td>PRESIDENTE JANIO QUADROS / BA</td></tr>",
                            "<tr><td>PRESIDENTE JUSCELINO / MA</td></tr>",
                            "<tr><td>PRESIDENTE KENNEDY / ES</td></tr>",
                            "<tr><td>PRESIDENTE KUBITSCHEK / MG</td></tr>",
                            "<tr><td>PRESIDENTE LUCENA / RS</td></tr>",
                            "<tr><td>PRESIDENTE MEDICI / MA</td></tr>",
                            "<tr><td>PRESIDENTE MEDICI / RO</td></tr>",
                            "<tr><td>PRESIDENTE NEREU / SC</td></tr>",
                            "<tr><td>PRESIDENTE OLEGARIO / MG</td></tr>",
                            "<tr><td>PRESIDENTE PRUDENTE / SP</td></tr>",
                            "<tr><td>PRESIDENTE TANCREDO NEVES / BA</td></tr>",
                            "<tr><td>PRESIDENTE VENCESLAU / SP</td></tr>",
                            "<tr><td>PRIMAVERA / SP</td></tr>",
                            "<tr><td>PRIMAVERA DO LESTE / MT</td></tr>",
                            "<tr><td>PRIMEIRO DE MAIO / PR</td></tr>",
                            "<tr><td>PRINCESA ISABEL / PB</td></tr>",
                            "<tr><td>PROGRESSO / RS</td></tr>",
                            "<tr><td>PROMISSAO / SP</td></tr>",
                            "<tr><td>PROPRIA / SE</td></tr>",
                            "<tr><td>PROTASIO ALVES / RS</td></tr>",
                            "<tr><td>PRUDENCIO THOMAZ / MS</td></tr>",
                            "<tr><td>PRUDENTE DE MORAIS / MG</td></tr>",
                            "<tr><td>PRUDENTOPOLIS / PR</td></tr>",
                            "<tr><td>PUGMIL / TO</td></tr>",
                            "<tr><td>PUREZA / RJ</td></tr>",
                            "<tr><td>PURILANDIA / RJ</td></tr>",
                            "<tr><td>PUTINGA / RS</td></tr>",
                            "<tr><td>PUXINANA / PB</td></tr>",
                            "<tr><td>QUADRA / SP</td></tr>",
                            "<tr><td>QUARAI / RS</td></tr>",
                            "<tr><td>QUATA / SP</td></tr>",
                            "<tr><td>QUATIGUA / PR</td></tr>",
                            "<tr><td>QUATIS / RJ</td></tr>",
                            "<tr><td>QUATITUBA / MG</td></tr>",
                            "<tr><td>QUATRO BARRAS / PR</td></tr>",
                            "<tr><td>QUATRO BOCAS / PA</td></tr>",
                            "<tr><td>QUATRO PONTES / PR</td></tr>",
                            "<tr><td>QUEDAS DO IGUACU / PR</td></tr>",
                            "<tr><td>QUEIMADAS / BA</td></tr>",
                            "<tr><td>QUEIMADAS / PB</td></tr>",
                            "<tr><td>QUEIMADOS / RJ</td></tr>",
                            "<tr><td>QUEIROZ / SP</td></tr>",
                            "<tr><td>QUEIXADA / MG</td></tr>",
                            "<tr><td>QUELUZ / SP</td></tr>",
                            "<tr><td>QUERENCIA / MT</td></tr>",
                            "<tr><td>QUERENCIA DO NORTE / PR</td></tr>",
                            "<tr><td>QUEVEDOS / RS</td></tr>",
                            "<tr><td>QUIJINGUE / BA</td></tr>",
                            "<tr><td>QUILOMBO / SC</td></tr>",
                            "<tr><td>QUILOMETRO 14 DO MUTUM / ES</td></tr>",
                            "<tr><td>QUINTA DO SOL / PR</td></tr>",
                            "<tr><td>QUINTANA / SP</td></tr>",
                            "<tr><td>QUIPAPA / PE</td></tr>",
                            "<tr><td>QUIRINOPOLIS / GO</td></tr>",
                            "<tr><td>QUISSAMA / RJ</td></tr>",
                            "<tr><td>QUITANDINHA / PR</td></tr>",
                            "<tr><td>QUIXABEIRA / BA</td></tr>",
                            "<tr><td>QUIXADA / CE</td></tr>",
                            "<tr><td>QUIXADA / PE</td></tr>",
                            "<tr><td>QUIXELO / CE</td></tr>",
                            "<tr><td>QUIXERAMOBIM / CE</td></tr>",
                            "<tr><td>QUIXERE / CE</td></tr>",
                            "<tr><td>RAFARD / SP</td></tr>",
                            "<tr><td>RAINHA DO MAR / RS</td></tr>",
                            "<tr><td>RANCHARIA / SP</td></tr>",
                            "<tr><td>RANCHO ALEGRE / PR</td></tr>",
                            "<tr><td>RANCHO ALEGRE D'OESTE / PR</td></tr>",
                            "<tr><td>RANCHO QUEIMADO / SC</td></tr>",
                            "<tr><td>RAPOSO / RJ</td></tr>",
                            "<tr><td>RAPOSOS / MG</td></tr>",
                            "<tr><td>RAUL SOARES / MG</td></tr>",
                            "<tr><td>RAVENA / MG</td></tr>",
                            "<tr><td>REALEZA / PR</td></tr>",
                            "<tr><td>REBOUCAS / PR</td></tr>",
                            "<tr><td>RECHAN / SP</td></tr>",
                            "<tr><td>RECIFE / PE</td></tr>",
                            "<tr><td>RECREIO / MG</td></tr>",
                            "<tr><td>REDENCAO / CE</td></tr>",
                            "<tr><td>REDENCAO / PA</td></tr>",
                            "<tr><td>REDENCAO DA SERRA / SP</td></tr>",
                            "<tr><td>REDENCAO DO GURGUEIA / PI</td></tr>",
                            "<tr><td>REDENTORA / RS</td></tr>",
                            "<tr><td>REGENERACAO / PI</td></tr>",
                            "<tr><td>REGENTE FEIJO / SP</td></tr>",
                            "<tr><td>REGINOPOLIS / SP</td></tr>",
                            "<tr><td>REGISTRO / SP</td></tr>",
                            "<tr><td>REMANSO / BA</td></tr>",
                            "<tr><td>REMIGIO / PB</td></tr>",
                            "<tr><td>RENASCENCA / PR</td></tr>",
                            "<tr><td>RERIUTABA / CE</td></tr>",
                            "<tr><td>RESENDE / RJ</td></tr>",
                            "<tr><td>RESENDE COSTA / MG</td></tr>",
                            "<tr><td>RESERVA / PR</td></tr>",
                            "<tr><td>RESERVA DO CABACAL / MT</td></tr>",
                            "<tr><td>RESERVA DO IGUACU / PR</td></tr>",
                            "<tr><td>RESPLENDOR / MG</td></tr>",
                            "<tr><td>RESSAQUINHA / MG</td></tr>",
                            "<tr><td>RESTINGA SECA / RS</td></tr>",
                            "<tr><td>RETIROLANDIA / BA</td></tr>",
                            "<tr><td>RIACHAO DAS NEVES / BA</td></tr>",
                            "<tr><td>RIACHAO DO JACUIPE / BA</td></tr>",
                            "<tr><td>RIACHINHO / MG</td></tr>",
                            "<tr><td>RIACHO DA CRUZ / RN</td></tr>",
                            "<tr><td>RIACHO DAS ALMAS / PE</td></tr>",
                            "<tr><td>RIACHO DE SANTANA / BA</td></tr>",
                            "<tr><td>RIACHO DE SANTO ANTONIO / PB</td></tr>",
                            "<tr><td>RIACHO DOS MACHADOS / MG</td></tr>",
                            "<tr><td>RIACHUELO / SE</td></tr>",
                            "<tr><td>RIANAPOLIS / GO</td></tr>",
                            "<tr><td>RIBAS DO RIO PARDO / MS</td></tr>",
                            "<tr><td>RIBEIRA / SP</td></tr>",
                            "<tr><td>RIBEIRA DO AMPARO / BA</td></tr>",
                            "<tr><td>RIBEIRA DO POMBAL / BA</td></tr>",
                            "<tr><td>RIBEIRAO / PE</td></tr>",
                            "<tr><td>RIBEIRAO BONITO / SP</td></tr>",
                            "<tr><td>RIBEIRAO BRANCO / SP</td></tr>",
                            "<tr><td>RIBEIRAO CASCALHEIRA / MT</td></tr>",
                            "<tr><td>RIBEIRAO CLARO / PR</td></tr>",
                            "<tr><td>RIBEIRAO DAS NEVES / MG</td></tr>",
                            "<tr><td>RIBEIRAO DO PINHAL / PR</td></tr>",
                            "<tr><td>RIBEIRAO DO SUL / SP</td></tr>",
                            "<tr><td>RIBEIRAO PIRES / SP</td></tr>",
                            "<tr><td>RIBEIRAO PRETO / SP</td></tr>",
                            "<tr><td>RIBEIRAO VERMELHO / MG</td></tr>",
                            "<tr><td>RIBEIRAOZINHO / MT</td></tr>",
                            "<tr><td>RIBEIRO JUNQUEIRA / MG</td></tr>",
                            "<tr><td>RIBEIROPOLIS / SE</td></tr>",
                            "<tr><td>RIFAINA / SP</td></tr>",
                            "<tr><td>RINCAO / SP</td></tr>",
                            "<tr><td>RINOPOLIS / SP</td></tr>",
                            "<tr><td>RIO ACIMA / MG</td></tr>",
                            "<tr><td>RIO AZUL / PR</td></tr>",
                            "<tr><td>RIO BANANAL / ES</td></tr>",
                            "<tr><td>RIO BONITO / RJ</td></tr>",
                            "<tr><td>RIO BONITO DO IGUACU / PR</td></tr>",
                            "<tr><td>RIO BRANCO / AC</td></tr>",
                            "<tr><td>RIO BRANCO / MT</td></tr>",
                            "<tr><td>RIO BRANCO DO SUL / PR</td></tr>",
                            "<tr><td>RIO BRILHANTE / MS</td></tr>",
                            "<tr><td>RIO CASCA / MG</td></tr>",
                            "<tr><td>RIO CLARO / RJ</td></tr>",
                            "<tr><td>RIO CLARO / SP</td></tr>",
                            "<tr><td>RIO DAS ANTAS / SC</td></tr>",
                            "<tr><td>RIO DAS FLORES / RJ</td></tr>",
                            "<tr><td>RIO DAS OSTRAS / RJ</td></tr>",
                            "<tr><td>RIO DAS PEDRAS / SP</td></tr>",
                            "<tr><td>RIO DE CONTAS / BA</td></tr>",
                            "<tr><td>RIO DE JANEIRO / RJ</td></tr>",
                            "<tr><td>RIO DO ANTONIO / BA</td></tr>",
                            "<tr><td>RIO DO CAMPO / SC</td></tr>",
                            "<tr><td>RIO DO OESTE / SC</td></tr>",
                            "<tr><td>RIO DO PIRES / BA</td></tr>",
                            "<tr><td>RIO DO SUL / SC</td></tr>",
                            "<tr><td>RIO DOCE / MG</td></tr>",
                            "<tr><td>RIO DOS CEDROS / SC</td></tr>",
                            "<tr><td>RIO DOS INDIOS / RS</td></tr>",
                            "<tr><td>RIO ESPERA / MG</td></tr>",
                            "<tr><td>RIO FORMOSO / PE</td></tr>",
                            "<tr><td>RIO FORTUNA / SC</td></tr>",
                            "<tr><td>RIO GRANDE / RS</td></tr>",
                            "<tr><td>RIO GRANDE DA SERRA / SP</td></tr>",
                            "<tr><td>RIO GRANDE DO PIAUI / PI</td></tr>",
                            "<tr><td>RIO LARGO / AL</td></tr>",
                            "<tr><td>RIO MANSO / MG</td></tr>",
                            "<tr><td>RIO MARIA / PA</td></tr>",
                            "<tr><td>RIO NEGRINHO / SC</td></tr>",
                            "<tr><td>RIO NEGRO / MS</td></tr>",
                            "<tr><td>RIO NEGRO / PR</td></tr>",
                            "<tr><td>RIO NOVO / MG</td></tr>",
                            "<tr><td>RIO NOVO DO SUL / ES</td></tr>",
                            "<tr><td>RIO PARANAIBA / MG</td></tr>",
                            "<tr><td>RIO PARDO / RS</td></tr>",
                            "<tr><td>RIO PARDO DE MINAS / MG</td></tr>",
                            "<tr><td>RIO PIRACICABA / MG</td></tr>",
                            "<tr><td>RIO POMBA / MG</td></tr>",
                            "<tr><td>RIO PRETO / MG</td></tr>",
                            "<tr><td>RIO REAL / BA</td></tr>",
                            "<tr><td>RIO RUFINO / SC</td></tr>",
                            "<tr><td>RIO TINTO / PB</td></tr>",
                            "<tr><td>RIO VERDE / GO</td></tr>",
                            "<tr><td>RIO VERDE / PR</td></tr>",
                            "<tr><td>RIOLANDIA / SP</td></tr>",
                            "<tr><td>RIQUEZA / SC</td></tr>",
                            "<tr><td>RITAPOLIS / MG</td></tr>",
                            "<tr><td>RIVERSUL / SP</td></tr>",
                            "<tr><td>ROCA SALES / RS</td></tr>",
                            "<tr><td>RODEIO / SC</td></tr>",
                            "<tr><td>RODEIO BONITO / RS</td></tr>",
                            "<tr><td>RODEIRO / MG</td></tr>",
                            "<tr><td>RODELAS / BA</td></tr>",
                            "<tr><td>RODOLFO FERNANDES / RN</td></tr>",
                            "<tr><td>ROLANDIA / PR</td></tr>",
                            "<tr><td>ROLANTE / RS</td></tr>",
                            "<tr><td>ROLIM DE MOURA / RO</td></tr>",
                            "<tr><td>ROMARIA / MG</td></tr>",
                            "<tr><td>ROMELANDIA / SC</td></tr>",
                            "<tr><td>RONCADOR / PR</td></tr>",
                            "<tr><td>RONDA ALTA / RS</td></tr>",
                            "<tr><td>RONDON / PR</td></tr>",
                            "<tr><td>RONDON DO PARA / PA</td></tr>",
                            "<tr><td>RONDONOPOLIS / MT</td></tr>",
                            "<tr><td>ROQUE GONZALES / RS</td></tr>",
                            "<tr><td>ROSANA / SP</td></tr>",
                            "<tr><td>ROSARIO / MA</td></tr>",
                            "<tr><td>ROSARIO DO IVAI / PR</td></tr>",
                            "<tr><td>ROSARIO DO SUL / RS</td></tr>",
                            "<tr><td>ROSEIRA / SP</td></tr>",
                            "<tr><td>RUBELITA / MG</td></tr>",
                            "<tr><td>RUBIACEA / SP</td></tr>",
                            "<tr><td>RUBIATABA / GO</td></tr>",
                            "<tr><td>RUBIM / MG</td></tr>",
                            "<tr><td>RUBINEIA / SP</td></tr>",
                            "<tr><td>RUSSAS / CE</td></tr>",
                            "<tr><td>RUY BARBOSA / BA</td></tr>",
                            "<tr><td>SABARA / MG</td></tr>",
                            "<tr><td>SABAUDIA / PR</td></tr>",
                            "<tr><td>SABINO / SP</td></tr>",
                            "<tr><td>SABINOPOLIS / MG</td></tr>",
                            "<tr><td>SABOEIRO / CE</td></tr>",
                            "<tr><td>SACRA FAMILIA DO TINGUA / RJ</td></tr>",
                            "<tr><td>SACRAMENTO / MG</td></tr>",
                            "<tr><td>SALES / SP</td></tr>",
                            "<tr><td>SALES OLIVEIRA / SP</td></tr>",
                            "<tr><td>SALESOPOLIS / SP</td></tr>",
                            "<tr><td>SALGADO FILHO / PR</td></tr>",
                            "<tr><td>SALGUEIRO / PE</td></tr>",
                            "<tr><td>SALINAS / MG</td></tr>",
                            "<tr><td>SALINAS DA MARGARIDA / BA</td></tr>",
                            "<tr><td>SALMOURAO / SP</td></tr>",
                            "<tr><td>SALOA / PE</td></tr>",
                            "<tr><td>SALOBRO / BA</td></tr>",
                            "<tr><td>SALTINHO / SP</td></tr>",
                            "<tr><td>SALTO / SP</td></tr>",
                            "<tr><td>SALTO DA DIVISA / MG</td></tr>",
                            "<tr><td>SALTO DE PIRAPORA / SP</td></tr>",
                            "<tr><td>SALTO DO CEU / MT</td></tr>",
                            "<tr><td>SALTO DO ITARARE / PR</td></tr>",
                            "<tr><td>SALTO DO JACUI / RS</td></tr>",
                            "<tr><td>SALTO DO LONTRA / PR</td></tr>",
                            "<tr><td>SALTO GRANDE / SP</td></tr>",
                            "<tr><td>SALTO VELOSO / SC</td></tr>",
                            "<tr><td>SALVADOR / BA</td></tr>",
                            "<tr><td>SALVADOR DO SUL / RS</td></tr>",
                            "<tr><td>SAMBAIBA / MA</td></tr>",
                            "<tr><td>SANANDUVA / RS</td></tr>",
                            "<tr><td>SANCLERLANDIA / GO</td></tr>",
                            "<tr><td>SANDOLANDIA / TO</td></tr>",
                            "<tr><td>SANGA PUITA / MS</td></tr>",
                            "<tr><td>SANGAO / SC</td></tr>",
                            "<tr><td>SANHARO / PE</td></tr>",
                            "<tr><td>SANTA ADELIA / SP</td></tr>",
                            "<tr><td>SANTA ALBERTINA / SP</td></tr>",
                            "<tr><td>SANTA AMELIA / PR</td></tr>",
                            "<tr><td>SANTA BARBARA / MG</td></tr>",
                            "<tr><td>SANTA BARBARA D OESTE / SP</td></tr>",
                            "<tr><td>SANTA BARBARA DO PARA / PA</td></tr>",
                            "<tr><td>SANTA BARBARA DO SUL / RS</td></tr>",
                            "<tr><td>SANTA BARBARA D'OESTE / SP</td></tr>",
                            "<tr><td>SANTA BRANCA / SP</td></tr>",
                            "<tr><td>SANTA BRIGIDA / BA</td></tr>",
                            "<tr><td>SANTA CECILIA / PB</td></tr>",
                            "<tr><td>SANTA CECILIA / SC</td></tr>",
                            "<tr><td>SANTA CECILIA DO PAVAO / PR</td></tr>",
                            "<tr><td>SANTA CLARA DO SUL / RS</td></tr>",
                            "<tr><td>SANTA CLARA D'OESTE / SP</td></tr>",
                            "<tr><td>SANTA CRUZ / PE</td></tr>",
                            "<tr><td>SANTA CRUZ / RN</td></tr>",
                            "<tr><td>SANTA CRUZ CABRALIA / BA</td></tr>",
                            "<tr><td>SANTA CRUZ DA CONCEICAO / SP</td></tr>",
                            "<tr><td>SANTA CRUZ DAS PALMEIRAS / SP</td></tr>",
                            "<tr><td>SANTA CRUZ DE GOIAS / GO</td></tr>",
                            "<tr><td>SANTA CRUZ DE MINAS / MG</td></tr>",
                            "<tr><td>SANTA CRUZ DE MONTE CASTELO / PR</td></tr>",
                            "<tr><td>SANTA CRUZ DE SALINAS / MG</td></tr>",
                            "<tr><td>SANTA CRUZ DO CAPIBARIBE / PE</td></tr>",
                            "<tr><td>SANTA CRUZ DO PIAUI / PI</td></tr>",
                            "<tr><td>SANTA CRUZ DO PRATA / MG</td></tr>",
                            "<tr><td>SANTA CRUZ DO RIO PARDO / SP</td></tr>",
                            "<tr><td>SANTA CRUZ DO SUL / RS</td></tr>",
                            "<tr><td>SANTA CRUZ DO TIMBO / SC</td></tr>",
                            "<tr><td>SANTA ERNESTINA / SP</td></tr>",
                            "<tr><td>SANTA FE / PR</td></tr>",
                            "<tr><td>SANTA FE DE GOIAS / GO</td></tr>",
                            "<tr><td>SANTA FE DE MINAS / MG</td></tr>",
                            "<tr><td>SANTA FE DO SUL / SP</td></tr>",
                            "<tr><td>SANTA FILOMENA / PE</td></tr>",
                            "<tr><td>SANTA GERTRUDES / SP</td></tr>",
                            "<tr><td>SANTA HELENA / MA</td></tr>",
                            "<tr><td>SANTA HELENA / PR</td></tr>",
                            "<tr><td>SANTA HELENA DE GOIAS / GO</td></tr>",
                            "<tr><td>SANTA HELENA DE MINAS / MG</td></tr>",
                            "<tr><td>SANTA INES / BA</td></tr>",
                            "<tr><td>SANTA INES / MA</td></tr>",
                            "<tr><td>SANTA ISABEL / SP</td></tr>",
                            "<tr><td>SANTA ISABEL DO IVAI / PR</td></tr>",
                            "<tr><td>SANTA ISABEL DO PARA / PA</td></tr>",
                            "<tr><td>SANTA ISABEL DO RIO PRETO / RJ</td></tr>",
                            "<tr><td>SANTA IZABEL DO OESTE / PR</td></tr>",
                            "<tr><td>SANTA JULIANA / MG</td></tr>",
                            "<tr><td>SANTA LEOPOLDINA / ES</td></tr>",
                            "<tr><td>SANTA LUCIA / PR</td></tr>",
                            "<tr><td>SANTA LUCIA / SP</td></tr>",
                            "<tr><td>SANTA LUZIA / MA</td></tr>",
                            "<tr><td>SANTA LUZIA / MG</td></tr>",
                            "<tr><td>SANTA LUZIA / PB</td></tr>",
                            "<tr><td>SANTA LUZIA DO NORTE / AL</td></tr>",
                            "<tr><td>SANTA LUZIA DO PARUA / MA</td></tr>",
                            "<tr><td>SANTA MARGARIDA / MG</td></tr>",
                            "<tr><td>SANTA MARGARIDA / PR</td></tr>",
                            "<tr><td>SANTA MARIA / DF</td></tr>",
                            "<tr><td>SANTA MARIA / RJ</td></tr>",
                            "<tr><td>SANTA MARIA / RN</td></tr>",
                            "<tr><td>SANTA MARIA / RS</td></tr>",
                            "<tr><td>SANTA MARIA DA BOA VISTA / PE</td></tr>",
                            "<tr><td>SANTA MARIA DA SERRA / SP</td></tr>",
                            "<tr><td>SANTA MARIA DA VITORIA / BA</td></tr>",
                            "<tr><td>SANTA MARIA DE ITABIRA / MG</td></tr>",
                            "<tr><td>SANTA MARIA DE JETIBA / ES</td></tr>",
                            "<tr><td>SANTA MARIA DO HERVAL / RS</td></tr>",
                            "<tr><td>SANTA MARIA DO PARA / PA</td></tr>",
                            "<tr><td>SANTA MARIA DO SALTO / MG</td></tr>",
                            "<tr><td>SANTA MARIA DO SUACUI / MG</td></tr>",
                            "<tr><td>SANTA MARIA MADALENA / RJ</td></tr>",
                            "<tr><td>SANTA MARIANA / PR</td></tr>",
                            "<tr><td>SANTA MERCEDES / SP</td></tr>",
                            "<tr><td>SANTA MONICA / PR</td></tr>",
                            "<tr><td>SANTA QUITERIA / CE</td></tr>",
                            "<tr><td>SANTA QUITERIA DO MARANHAO / MA</td></tr>",
                            "<tr><td>SANTA RITA / MA</td></tr>",
                            "<tr><td>SANTA RITA / PB</td></tr>",
                            "<tr><td>SANTA RITA DA FLORESTA / RJ</td></tr>",
                            "<tr><td>SANTA RITA DE CALDAS / MG</td></tr>",
                            "<tr><td>SANTA RITA DE JACUTINGA / MG</td></tr>",
                            "<tr><td>SANTA RITA DE MINAS / MG</td></tr>",
                            "<tr><td>SANTA RITA DO ARAGUAIA / GO</td></tr>",
                            "<tr><td>SANTA RITA DO IBITIPOCA / MG</td></tr>",
                            "<tr><td>SANTA RITA DO ITUETO / MG</td></tr>",
                            "<tr><td>SANTA RITA DO PASSA QUATRO / SP</td></tr>",
                            "<tr><td>SANTA RITA DO SAPUCAI / MG</td></tr>",
                            "<tr><td>SANTA RITA D'OESTE / SP</td></tr>",
                            "<tr><td>SANTA ROSA / RS</td></tr>",
                            "<tr><td>SANTA ROSA DE LIMA / SC</td></tr>",
                            "<tr><td>SANTA ROSA DE VITERBO / SP</td></tr>",
                            "<tr><td>SANTA ROSA DO SUL / SC</td></tr>",
                            "<tr><td>SANTA SALETE / SP</td></tr>",
                            "<tr><td>SANTA TERESA / ES</td></tr>",
                            "<tr><td>SANTA TERESINHA / BA</td></tr>",
                            "<tr><td>SANTA TEREZA DO OESTE / PR</td></tr>",
                            "<tr><td>SANTA TEREZINHA / PE</td></tr>",
                            "<tr><td>SANTA TEREZINHA / SC</td></tr>",
                            "<tr><td>SANTA TEREZINHA DE ITAIPU / PR</td></tr>",
                            "<tr><td>SANTA VITORIA / MG</td></tr>",
                            "<tr><td>SANTA VITORIA DO PALMAR / RS</td></tr>",
                            "<tr><td>SANTALUZ / BA</td></tr>",
                            "<tr><td>SANTANA / AP</td></tr>",
                            "<tr><td>SANTANA / BA</td></tr>",
                            "<tr><td>SANTANA / PR</td></tr>",
                            "<tr><td>SANTANA DA BOA VISTA / RS</td></tr>",
                            "<tr><td>SANTANA DA VARGEM / MG</td></tr>",
                            "<tr><td>SANTANA DE PARNAIBA / SP</td></tr>",
                            "<tr><td>SANTANA DE PIRAPAMA / MG</td></tr>",
                            "<tr><td>SANTANA DO ACARAU / CE</td></tr>",
                            "<tr><td>SANTANA DO ARAGUAIA / PA</td></tr>",
                            "<tr><td>SANTANA DO CAPIVARI / MG</td></tr>",
                            "<tr><td>SANTANA DO CARIRI / CE</td></tr>",
                            "<tr><td>SANTANA DO DESERTO / MG</td></tr>",
                            "<tr><td>SANTANA DO IPANEMA / AL</td></tr>",
                            "<tr><td>SANTANA DO ITARARE / PR</td></tr>",
                            "<tr><td>SANTANA DO JACARE / MG</td></tr>",
                            "<tr><td>SANTANA DO LIVRAMENTO / RS</td></tr>",
                            "<tr><td>SANTANA DO MANHUACU / MG</td></tr>",
                            "<tr><td>SANTANA DO MUNDAU / AL</td></tr>",
                            "<tr><td>SANTANA DO PARAISO / MG</td></tr>",
                            "<tr><td>SANTANA DO SERIDO / RN</td></tr>",
                            "<tr><td>SANTANA DO SOBRADO / BA</td></tr>",
                            "<tr><td>SANTANA DOS MONTES / MG</td></tr>",
                            "<tr><td>SANTANESIA / RJ</td></tr>",
                            "<tr><td>SANTAREM / PA</td></tr>",
                            "<tr><td>SANTIAGO / RS</td></tr>",
                            "<tr><td>SANTO AMARO / BA</td></tr>",
                            "<tr><td>SANTO AMARO DA IMPERATRIZ / SC</td></tr>",
                            "<tr><td>SANTO AMARO DAS BROTAS / SE</td></tr>",
                            "<tr><td>SANTO AMARO DE CAMPOS / RJ</td></tr>",
                            "<tr><td>SANTO ANASTACIO / SP</td></tr>",
                            "<tr><td>SANTO ANDRE / PB</td></tr>",
                            "<tr><td>SANTO ANDRE / SP</td></tr>",
                            "<tr><td>SANTO ANGELO / RS</td></tr>",
                            "<tr><td>SANTO ANTONIO / RN</td></tr>",
                            "<tr><td>SANTO ANTONIO DA ALEGRIA / SP</td></tr>",
                            "<tr><td>SANTO ANTONIO DA PATRULHA / RS</td></tr>",
                            "<tr><td>SANTO ANTONIO DA PLATINA / PR</td></tr>",
                            "<tr><td>SANTO ANTONIO DAS MISSOES / RS</td></tr>",
                            "<tr><td>SANTO ANTONIO DAS QUEIMADAS / PE</td></tr>",
                            "<tr><td>SANTO ANTONIO DE GOIAS / GO</td></tr>",
                            "<tr><td>SANTO ANTONIO DE JESUS / BA</td></tr>",
                            "<tr><td>SANTO ANTONIO DE PADUA / RJ</td></tr>",
                            "<tr><td>SANTO ANTONIO DE POSSE / SP</td></tr>",
                            "<tr><td>SANTO ANTONIO DO AMPARO / MG</td></tr>",
                            "<tr><td>SANTO ANTONIO DO ARACANGUA / SP</td></tr>",
                            "<tr><td>SANTO ANTONIO DO AVENTUREIRO / MG</td></tr>",
                            "<tr><td>SANTO ANTONIO DO CAIUA / PR</td></tr>",
                            "<tr><td>SANTO ANTONIO DO CANAA / ES</td></tr>",
                            "<tr><td>SANTO ANTONIO DO DESCOBERTO / GO</td></tr>",
                            "<tr><td>SANTO ANTONIO DO GRAMA / MG</td></tr>",
                            "<tr><td>SANTO ANTONIO DO ITAMBE / MG</td></tr>",
                            "<tr><td>SANTO ANTONIO DO JACINTO / MG</td></tr>",
                            "<tr><td>SANTO ANTONIO DO JARDIM / SP</td></tr>",
                            "<tr><td>SANTO ANTONIO DO LESTE / MT</td></tr>",
                            "<tr><td>SANTO ANTONIO DO LEVERGER / MT</td></tr>",
                            "<tr><td>SANTO ANTONIO DO MONTE / MG</td></tr>",
                            "<tr><td>SANTO ANTONIO DO PALMA / RS</td></tr>",
                            "<tr><td>SANTO ANTONIO DO PINHAL / SP</td></tr>",
                            "<tr><td>SANTO ANTONIO DO PLANALTO / RS</td></tr>",
                            "<tr><td>SANTO ANTONIO DO RIO ABAIXO / MG</td></tr>",
                            "<tr><td>SANTO ANTONIO DO SUDOESTE / PR</td></tr>",
                            "<tr><td>SANTO ANTONIO DO TAUA / PA</td></tr>",
                            "<tr><td>SANTO ANTONIO DOS CAMPOS / MG</td></tr>",
                            "<tr><td>SANTO AUGUSTO / RS</td></tr>",
                            "<tr><td>SANTO CRISTO / RS</td></tr>",
                            "<tr><td>SANTO EDUARDO / RJ</td></tr>",
                            "<tr><td>SANTO ESTEVAO / BA</td></tr>",
                            "<tr><td>SANTO EXPEDITO / SP</td></tr>",
                            "<tr><td>SANTO EXPEDITO DO SUL / RS</td></tr>",
                            "<tr><td>SANTO HIPOLITO / MG</td></tr>",
                            "<tr><td>SANTO INACIO / PR</td></tr>",
                            "<tr><td>SANTOS / SP</td></tr>",
                            "<tr><td>SANTOS DUMONT / MG</td></tr>",
                            "<tr><td>SAO BENEDITO / CE</td></tr>",
                            "<tr><td>SAO BENEDITO / MG</td></tr>",
                            "<tr><td>SAO BENEDITO DO RIO PRETO / MA</td></tr>",
                            "<tr><td>SAO BENEDITO DO SUL / PE</td></tr>",
                            "<tr><td>SAO BENTINHO / PB</td></tr>",
                            "<tr><td>SAO BENTO / MA</td></tr>",
                            "<tr><td>SAO BENTO / PB</td></tr>",
                            "<tr><td>SAO BENTO ABADE / MG</td></tr>",
                            "<tr><td>SAO BENTO DO SAPUCAI / SP</td></tr>",
                            "<tr><td>SAO BENTO DO SUL / SC</td></tr>",
                            "<tr><td>SAO BENTO DO UNA / PE</td></tr>",
                            "<tr><td>SAO BERNARDINO / SC</td></tr>",
                            "<tr><td>SAO BERNARDO / MA</td></tr>",
                            "<tr><td>SAO BERNARDO DO CAMPO / SP</td></tr>",
                            "<tr><td>SAO BONIFACIO / SC</td></tr>",
                            "<tr><td>SAO BORJA / RS</td></tr>",
                            "<tr><td>SAO BRAS / AL</td></tr>",
                            "<tr><td>SAO BRAS DO SUACUI / MG</td></tr>",
                            "<tr><td>SAO CAETANO DO SUL / SP</td></tr>",
                            "<tr><td>SAO CARLOS / SC</td></tr>",
                            "<tr><td>SAO CARLOS / SP</td></tr>",
                            "<tr><td>SAO CARLOS DO IVAI / PR</td></tr>",
                            "<tr><td>SAO CLEMENTE / PR</td></tr>",
                            "<tr><td>SAO CRISTOVAO / SE</td></tr>",
                            "<tr><td>SAO CRISTOVAO DO SUL / SC</td></tr>",
                            "<tr><td>SAO DESIDERIO / BA</td></tr>",
                            "<tr><td>SAO DOMINGOS / BA</td></tr>",
                            "<tr><td>SAO DOMINGOS / MG</td></tr>",
                            "<tr><td>SAO DOMINGOS / PE</td></tr>",
                            "<tr><td>SAO DOMINGOS / SC</td></tr>",
                            "<tr><td>SAO DOMINGOS DAS DORES / MG</td></tr>",
                            "<tr><td>SAO DOMINGOS DO ARAGUAIA / PA</td></tr>",
                            "<tr><td>SAO DOMINGOS DO MARANHAO / MA</td></tr>",
                            "<tr><td>SAO DOMINGOS DO NORTE / ES</td></tr>",
                            "<tr><td>SAO DOMINGOS DO PRATA / MG</td></tr>",
                            "<tr><td>SAO DOMINGOS DO SUL / RS</td></tr>",
                            "<tr><td>SAO FELIPE / BA</td></tr>",
                            "<tr><td>SAO FELIX / BA</td></tr>",
                            "<tr><td>SAO FELIX DE MINAS / MG</td></tr>",
                            "<tr><td>SAO FELIX DO ARAGUAIA / MT</td></tr>",
                            "<tr><td>SAO FELIX DO CORIBE / BA</td></tr>",
                            "<tr><td>SAO FELIX DO XINGU / PA</td></tr>",
                            "<tr><td>SAO FERNANDO / RN</td></tr>",
                            "<tr><td>SAO FIDELIS / RJ</td></tr>",
                            "<tr><td>SAO FRANCISCO / MG</td></tr>",
                            "<tr><td>SAO FRANCISCO / PB</td></tr>",
                            "<tr><td>SAO FRANCISCO / SE</td></tr>",
                            "<tr><td>SAO FRANCISCO / SP</td></tr>",
                            "<tr><td>SAO FRANCISCO DE ASSIS / RS</td></tr>",
                            "<tr><td>SAO FRANCISCO DE ITABAPOANA / RJ</td></tr>",
                            "<tr><td>SAO FRANCISCO DE PAULA / MG</td></tr>",
                            "<tr><td>SAO FRANCISCO DE PAULA / RS</td></tr>",
                            "<tr><td>SAO FRANCISCO DO BREJAO / MA</td></tr>",
                            "<tr><td>SAO FRANCISCO DO CONDE / BA</td></tr>",
                            "<tr><td>SAO FRANCISCO DO GLORIA / MG</td></tr>",
                            "<tr><td>SAO FRANCISCO DO GUAPORE / RO</td></tr>",
                            "<tr><td>SAO FRANCISCO DO HUMAITA / MG</td></tr>",
                            "<tr><td>SAO FRANCISCO DO SUL / SC</td></tr>",
                            "<tr><td>SAO GABRIEL / RS</td></tr>",
                            "<tr><td>SAO GABRIEL DA PALHA / ES</td></tr>",
                            "<tr><td>SAO GABRIEL DO OESTE / MS</td></tr>",
                            "<tr><td>SAO GERALDO / MG</td></tr>",
                            "<tr><td>SAO GERALDO DA PIEDADE / MG</td></tr>",
                            "<tr><td>SAO GERALDO DO BAGUARI / MG</td></tr>",
                            "<tr><td>SAO GONCALO / RJ</td></tr>",
                            "<tr><td>SAO GONCALO DO ABAETE / MG</td></tr>",
                            "<tr><td>SAO GONCALO DO AMARANTE / CE</td></tr>",
                            "<tr><td>SAO GONCALO DO AMARANTE / RN</td></tr>",
                            "<tr><td>SAO GONCALO DO PARA / MG</td></tr>",
                            "<tr><td>SAO GONCALO DO RIO ABAIXO / MG</td></tr>",
                            "<tr><td>SAO GONCALO DO RIO DAS PEDRAS / MG</td></tr>",
                            "<tr><td>SAO GONCALO DO RIO PRETO / MG</td></tr>",
                            "<tr><td>SAO GONCALO DO SAPUCAI / MG</td></tr>",
                            "<tr><td>SAO GOTARDO / MG</td></tr>",
                            "<tr><td>SAO JERONIMO / RS</td></tr>",
                            "<tr><td>SAO JOAO / PE</td></tr>",
                            "<tr><td>SAO JOAO / PR</td></tr>",
                            "<tr><td>SAO JOAO BATISTA / MA</td></tr>",
                            "<tr><td>SAO JOAO BATISTA / SC</td></tr>",
                            "<tr><td>SAO JOAO BATISTA DO GLORIA / MG</td></tr>",
                            "<tr><td>SAO JOAO DA BARRA / RJ</td></tr>",
                            "<tr><td>SAO JOAO DA BOA VISTA / SP</td></tr>",
                            "<tr><td>SAO JOAO DA MATA / MG</td></tr>",
                            "<tr><td>SAO JOAO DA PARAUNA / GO</td></tr>",
                            "<tr><td>SAO JOAO DA PONTE / MG</td></tr>",
                            "<tr><td>SAO JOAO DA URTIGA / RS</td></tr>",
                            "<tr><td>SAO JOAO D'ALIANCA / GO</td></tr>",
                            "<tr><td>SAO JOAO DAS MISSOES / MG</td></tr>",
                            "<tr><td>SAO JOAO DE IRACEMA / SP</td></tr>",
                            "<tr><td>SAO JOAO DE MERITI / RJ</td></tr>",
                            "<tr><td>SAO JOAO DE PETROPOLIS / ES</td></tr>",
                            "<tr><td>SAO JOAO DE PIRABAS / PA</td></tr>",
                            "<tr><td>SAO JOAO DEL REI / MG</td></tr>",
                            "<tr><td>SAO JOAO DO ITAPERIU / SC</td></tr>",
                            "<tr><td>SAO JOAO DO IVAI / PR</td></tr>",
                            "<tr><td>SAO JOAO DO MANHUACU / MG</td></tr>",
                            "<tr><td>SAO JOAO DO MANTENINHA / MG</td></tr>",
                            "<tr><td>SAO JOAO DO ORIENTE / MG</td></tr>",
                            "<tr><td>SAO JOAO DO PARAISO / MA</td></tr>",
                            "<tr><td>SAO JOAO DO PARAISO / MG</td></tr>",
                            "<tr><td>SAO JOAO DO PARAISO / RJ</td></tr>",
                            "<tr><td>SAO JOAO DO PIAUI / PI</td></tr>",
                            "<tr><td>SAO JOAO DO SABUGI / RN</td></tr>",
                            "<tr><td>SAO JOAO DO SOBRADO / ES</td></tr>",
                            "<tr><td>SAO JOAO DO SUL / SC</td></tr>",
                            "<tr><td>SAO JOAO DO TRIUNFO / PR</td></tr>",
                            "<tr><td>SAO JOAO DOS PATOS / MA</td></tr>",
                            "<tr><td>SAO JOAO EVANGELISTA / MG</td></tr>",
                            "<tr><td>SAO JOAO NEPOMUCENO / MG</td></tr>",
                            "<tr><td>SAO JOAQUIM / SC</td></tr>",
                            "<tr><td>SAO JOAQUIM DA BARRA / SP</td></tr>",
                            "<tr><td>SAO JOAQUIM DE BICAS / MG</td></tr>",
                            "<tr><td>SAO JOAQUIM DO MONTE / PE</td></tr>",
                            "<tr><td>SAO JORGE / RS</td></tr>",
                            "<tr><td>SAO JORGE DO IVAI / PR</td></tr>",
                            "<tr><td>SAO JORGE DO OESTE / PR</td></tr>",
                            "<tr><td>SAO JORGE DO PATROCINIO / PR</td></tr>",
                            "<tr><td>SAO JORGE D'OESTE / PR</td></tr>",
                            "<tr><td>SAO JOSE / SC</td></tr>",
                            "<tr><td>SAO JOSE DA BARRA / MG</td></tr>",
                            "<tr><td>SAO JOSE DA BELA VISTA / SP</td></tr>",
                            "<tr><td>SAO JOSE DA BOA VISTA / PR</td></tr>",
                            "<tr><td>SAO JOSE DA COROA GRANDE / PE</td></tr>",
                            "<tr><td>SAO JOSE DA LAJE / AL</td></tr>",
                            "<tr><td>SAO JOSE DA LAPA / MG</td></tr>",
                            "<tr><td>SAO JOSE DA TAPERA / AL</td></tr>",
                            "<tr><td>SAO JOSE DA VITORIA / BA</td></tr>",
                            "<tr><td>SAO JOSE DE MIPIBU / RN</td></tr>",
                            "<tr><td>SAO JOSE DE RIBAMAR / MA</td></tr>",
                            "<tr><td>SAO JOSE DE UBA / RJ</td></tr>",
                            "<tr><td>SAO JOSE DO BARREIRO / SP</td></tr>",
                            "<tr><td>SAO JOSE DO BELMONTE / PE</td></tr>",
                            "<tr><td>SAO JOSE DO CALCADO / ES</td></tr>",
                            "<tr><td>SAO JOSE DO CAMPESTRE / RN</td></tr>",
                            "<tr><td>SAO JOSE DO CEDRO / SC</td></tr>",
                            "<tr><td>SAO JOSE DO CERRITO / SC</td></tr>",
                            "<tr><td>SAO JOSE DO DIVINO / MG</td></tr>",
                            "<tr><td>SAO JOSE DO DIVINO / PI</td></tr>",
                            "<tr><td>SAO JOSE DO EGITO / PE</td></tr>",
                            "<tr><td>SAO JOSE DO GOIABAL / MG</td></tr>",
                            "<tr><td>SAO JOSE DO HORTENCIO / RS</td></tr>",
                            "<tr><td>SAO JOSE DO INHACORA / RS</td></tr>",
                            "<tr><td>SAO JOSE DO NORTE / RS</td></tr>",
                            "<tr><td>SAO JOSE DO OURO / RS</td></tr>",
                            "<tr><td>SAO JOSE DO PIAUI / PI</td></tr>",
                            "<tr><td>SAO JOSE DO RIBEIRAO / RJ</td></tr>",
                            "<tr><td>SAO JOSE DO RIO CLARO / MT</td></tr>",
                            "<tr><td>SAO JOSE DO RIO PARDO / SP</td></tr>",
                            "<tr><td>SAO JOSE DO RIO PRETO / SP</td></tr>",
                            "<tr><td>SAO JOSE DO SERIDO / RN</td></tr>",
                            "<tr><td>SAO JOSE DO TURVO / RJ</td></tr>",
                            "<tr><td>SAO JOSE DO VALE DO RIO PRETO / RJ</td></tr>",
                            "<tr><td>SAO JOSE DO XINGU / MT</td></tr>",
                            "<tr><td>SAO JOSE DOS CAMPOS / SP</td></tr>",
                            "<tr><td>SAO JOSE DOS CORDEIROS / PB</td></tr>",
                            "<tr><td>SAO JOSE DOS PINHAIS / PR</td></tr>",
                            "<tr><td>SAO JOSE DOS QUATRO MARCOS / MT</td></tr>",
                            "<tr><td>SAO LEOPOLDO / RS</td></tr>",
                            "<tr><td>SAO LOURENCO / MG</td></tr>",
                            "<tr><td>SAO LOURENCO DA MATA / PE</td></tr>",
                            "<tr><td>SAO LOURENCO DA SERRA / SP</td></tr>",
                            "<tr><td>SAO LOURENCO DO OESTE / SC</td></tr>",
                            "<tr><td>SAO LOURENCO DO PIAUI / PI</td></tr>",
                            "<tr><td>SAO LOURENCO DO SUL / RS</td></tr>",
                            "<tr><td>SAO LUDGERO / SC</td></tr>",
                            "<tr><td>SAO LUIS / MA</td></tr>",
                            "<tr><td>SAO LUIS DE MONTES BELOS / GO</td></tr>",
                            "<tr><td>SAO LUIS DO CURU / CE</td></tr>",
                            "<tr><td>SAO LUIS DO PARAITINGA / SP</td></tr>",
                            "<tr><td>SAO LUIS DO QUITUNDE / AL</td></tr>",
                            "<tr><td>SAO LUIZ DO NORTE / GO</td></tr>",
                            "<tr><td>SAO LUIZ GONZAGA / RS</td></tr>",
                            "<tr><td>SAO MAMEDE / PB</td></tr>",
                            "<tr><td>SAO MANUEL / SP</td></tr>",
                            "<tr><td>SAO MARCOS / RS</td></tr>",
                            "<tr><td>SAO MARTINHO / RS</td></tr>",
                            "<tr><td>SAO MARTINHO / SC</td></tr>",
                            "<tr><td>SAO MATEUS / ES</td></tr>",
                            "<tr><td>SAO MATEUS DE MINAS / MG</td></tr>",
                            "<tr><td>SAO MATEUS DO MARANHAO / MA</td></tr>",
                            "<tr><td>SAO MATEUS DO SUL / PR</td></tr>",
                            "<tr><td>SAO MIGUEL / RN</td></tr>",
                            "<tr><td>SAO MIGUEL ARCANJO / SP</td></tr>",
                            "<tr><td>SAO MIGUEL DAS MATAS / BA</td></tr>",
                            "<tr><td>SAO MIGUEL DO ALEIXO / SE</td></tr>",
                            "<tr><td>SAO MIGUEL DO ANTA / MG</td></tr>",
                            "<tr><td>SAO MIGUEL DO ARAGUAIA / GO</td></tr>",
                            "<tr><td>SAO MIGUEL DO CAMBUI / PR</td></tr>",
                            "<tr><td>SAO MIGUEL DO GOSTOSO / RN</td></tr>",
                            "<tr><td>SAO MIGUEL DO GUAMA / PA</td></tr>",
                            "<tr><td>SAO MIGUEL DO GUAPORE / RO</td></tr>",
                            "<tr><td>SAO MIGUEL DO IGUACU / PR</td></tr>",
                            "<tr><td>SAO MIGUEL DO OESTE / SC</td></tr>",
                            "<tr><td>SAO MIGUEL DO TAPUIO / PI</td></tr>",
                            "<tr><td>SAO MIGUEL DOS CAMPOS / AL</td></tr>",
                            "<tr><td>SAO NICOLAU / RS</td></tr>",
                            "<tr><td>SAO PATRICIO / GO</td></tr>",
                            "<tr><td>SAO PAULO / SP</td></tr>",
                            "<tr><td>SAO PAULO DAS MISSOES / RS</td></tr>",
                            "<tr><td>SAO PAULO DO POTENGI / RN</td></tr>",
                            "<tr><td>SAO PEDRO / SP</td></tr>",
                            "<tr><td>SAO PEDRO DA AGUA BRANCA / MA</td></tr>",
                            "<tr><td>SAO PEDRO DA ALDEIA / RJ</td></tr>",
                            "<tr><td>SAO PEDRO DA UNIAO / MG</td></tr>",
                            "<tr><td>SAO PEDRO DE ALCANTARA / SC</td></tr>",
                            "<tr><td>SAO PEDRO DO BUTIA / RS</td></tr>",
                            "<tr><td>SAO PEDRO DO IGUACU / PR</td></tr>",
                            "<tr><td>SAO PEDRO DO IVAI / PR</td></tr>",
                            "<tr><td>SAO PEDRO DO SUL / RS</td></tr>",
                            "<tr><td>SAO PEDRO DO TURVO / SP</td></tr>",
                            "<tr><td>SAO PEDRO DOS FERROS / MG</td></tr>",
                            "<tr><td>SAO RAFAEL / RN</td></tr>",
                            "<tr><td>SAO RAIMUNDO NONATO / PI</td></tr>",
                            "<tr><td>SAO ROMAO / MG</td></tr>",
                            "<tr><td>SAO ROQUE / SP</td></tr>",
                            "<tr><td>SAO ROQUE DE MINAS / MG</td></tr>",
                            "<tr><td>SAO ROQUE DO CANAA / ES</td></tr>",
                            "<tr><td>SAO SEBASTIAO / AL</td></tr>",
                            "<tr><td>SAO SEBASTIAO / SP</td></tr>",
                            "<tr><td>SAO SEBASTIAO DA AMOREIRA / PR</td></tr>",
                            "<tr><td>SAO SEBASTIAO DA BOA VISTA / PA</td></tr>",
                            "<tr><td>SAO SEBASTIAO DA GRAMA / SP</td></tr>",
                            "<tr><td>SAO SEBASTIAO DA SERRA / SP</td></tr>",
                            "<tr><td>SAO SEBASTIAO DE CAMPOS / RJ</td></tr>",
                            "<tr><td>SAO SEBASTIAO DO ALTO / RJ</td></tr>",
                            "<tr><td>SAO SEBASTIAO DO CAI / RS</td></tr>",
                            "<tr><td>SAO SEBASTIAO DO MARANHAO / MG</td></tr>",
                            "<tr><td>SAO SEBASTIAO DO PARAIBA / RJ</td></tr>",
                            "<tr><td>SAO SEBASTIAO DO PARAISO / MG</td></tr>",
                            "<tr><td>SAO SEBASTIAO DO PASSE / BA</td></tr>",
                            "<tr><td>SAO SEBASTIAO DO RIO VERDE / MG</td></tr>",
                            "<tr><td>SAO SEPE / RS</td></tr>",
                            "<tr><td>SAO SIMAO / GO</td></tr>",
                            "<tr><td>SAO SIMAO / SP</td></tr>",
                            "<tr><td>SAO THOME DAS LETRAS / MG</td></tr>",
                            "<tr><td>SAO TIAGO / MG</td></tr>",
                            "<tr><td>SAO TOMAS DE AQUINO / MG</td></tr>",
                            "<tr><td>SAO TOME / PR</td></tr>",
                            "<tr><td>SAO TOME / RN</td></tr>",
                            "<tr><td>SAO VALENTIM / RS</td></tr>",
                            "<tr><td>SAO VENDELINO / RS</td></tr>",
                            "<tr><td>SAO VICENTE / RN</td></tr>",
                            "<tr><td>SAO VICENTE / SP</td></tr>",
                            "<tr><td>SAO VICENTE FERRER / MA</td></tr>",
                            "<tr><td>SAO VICENTE FERRER / PE</td></tr>",
                            "<tr><td>SAO VITOR / MG</td></tr>",
                            "<tr><td>SAPE / PB</td></tr>",
                            "<tr><td>SAPEACU / BA</td></tr>",
                            "<tr><td>SAPEZAL / MT</td></tr>",
                            "<tr><td>SAPIRANGA / RS</td></tr>",
                            "<tr><td>SAPOPEMA / PR</td></tr>",
                            "<tr><td>SAPUCAIA / MG</td></tr>",
                            "<tr><td>SAPUCAIA / RJ</td></tr>",
                            "<tr><td>SAPUCAIA DO SUL / RS</td></tr>",
                            "<tr><td>SAPUCAI-MIRIM / MG</td></tr>",
                            "<tr><td>SAQUAREMA / RJ</td></tr>",
                            "<tr><td>SARANDI / PR</td></tr>",
                            "<tr><td>SARANDI / RS</td></tr>",
                            "<tr><td>SARAPUI / SP</td></tr>",
                            "<tr><td>SARDOA / MG</td></tr>",
                            "<tr><td>SARUTAIA / SP</td></tr>",
                            "<tr><td>SARZEDO / MG</td></tr>",
                            "<tr><td>SATIRO DIAS / BA</td></tr>",
                            "<tr><td>SATUBA / AL</td></tr>",
                            "<tr><td>SATUBINHA / MA</td></tr>",
                            "<tr><td>SAUBARA / BA</td></tr>",
                            "<tr><td>SAUDADE DO IGUACU / PR</td></tr>",
                            "<tr><td>SAUDADES / SC</td></tr>",
                            "<tr><td>SAUDE / BA</td></tr>",
                            "<tr><td>SCHROEDER / SC</td></tr>",
                            "<tr><td>SEABRA / BA</td></tr>",
                            "<tr><td>SEARA / SC</td></tr>",
                            "<tr><td>SEBASTIAO LEAL / PI</td></tr>",
                            "<tr><td>SEBERI / RS</td></tr>",
                            "<tr><td>SEDE ALVORADA / PR</td></tr>",
                            "<tr><td>SEGREDO / RS</td></tr>",
                            "<tr><td>SELBACH / RS</td></tr>",
                            "<tr><td>SENADOR AMARAL / MG</td></tr>",
                            "<tr><td>SENADOR CANEDO / GO</td></tr>",
                            "<tr><td>SENADOR CORTES / MG</td></tr>",
                            "<tr><td>SENADOR FIRMINO / MG</td></tr>",
                            "<tr><td>SENADOR GUIOMARD / AC</td></tr>",
                            "<tr><td>SENADOR JOSE PORFIRIO / PA</td></tr>",
                            "<tr><td>SENADOR LA ROCQUE / MA</td></tr>",
                            "<tr><td>SENADOR MODESTINO GONCALVES / MG</td></tr>",
                            "<tr><td>SENADOR POMPEU / CE</td></tr>",
                            "<tr><td>SENADOR SALGADO FILHO / RS</td></tr>",
                            "<tr><td>SENGES / PR</td></tr>",
                            "<tr><td>SENHOR DO BONFIM / BA</td></tr>",
                            "<tr><td>SENHORA DE OLIVEIRA / MG</td></tr>",
                            "<tr><td>SENHORA DOS REMEDIOS / MG</td></tr>",
                            "<tr><td>SENTO SE / BA</td></tr>",
                            "<tr><td>SERAFINA CORREA / RS</td></tr>",
                            "<tr><td>SERICITA / MG</td></tr>",
                            "<tr><td>SERINGUEIRAS / RO</td></tr>",
                            "<tr><td>SERIO / RS</td></tr>",
                            "<tr><td>SEROPEDICA / RJ</td></tr>",
                            "<tr><td>SERRA / ES</td></tr>",
                            "<tr><td>SERRA AZUL / SP</td></tr>",
                            "<tr><td>SERRA AZUL DE MINAS / MG</td></tr>",
                            "<tr><td>SERRA BONITA / MG</td></tr>",
                            "<tr><td>SERRA BRANCA / PB</td></tr>",
                            "<tr><td>SERRA DE SAO BENTO / RN</td></tr>",
                            "<tr><td>SERRA DO RAMALHO / BA</td></tr>",
                            "<tr><td>SERRA DO SALITRE / MG</td></tr>",
                            "<tr><td>SERRA DOS AIMORES / MG</td></tr>",
                            "<tr><td>SERRA DOS DOURADOS / PR</td></tr>",
                            "<tr><td>SERRA DOURADA / BA</td></tr>",
                            "<tr><td>SERRA NEGRA / SP</td></tr>",
                            "<tr><td>SERRA TALHADA / PE</td></tr>",
                            "<tr><td>SERRANA / SP</td></tr>",
                            "<tr><td>SERRANIA / MG</td></tr>",
                            "<tr><td>SERRANOPOLIS / GO</td></tr>",
                            "<tr><td>SERRANOPOLIS DE MINAS / MG</td></tr>",
                            "<tr><td>SERRANOPOLIS DO IGUACU / PR</td></tr>",
                            "<tr><td>SERRINHA / BA</td></tr>",
                            "<tr><td>SERRITA / PE</td></tr>",
                            "<tr><td>SERRO / MG</td></tr>",
                            "<tr><td>SERROLANDIA / BA</td></tr>",
                            "<tr><td>SERTANIA / PE</td></tr>",
                            "<tr><td>SERTANOPOLIS / PR</td></tr>",
                            "<tr><td>SERTAO / RS</td></tr>",
                            "<tr><td>SERTAO SANTANA / RS</td></tr>",
                            "<tr><td>SERTAOZINHO / SP</td></tr>",
                            "<tr><td>SETE BARRAS / SP</td></tr>",
                            "<tr><td>SETE DE SETEMBRO / RS</td></tr>",
                            "<tr><td>SETE LAGOAS / MG</td></tr>",
                            "<tr><td>SETUBINHA / MG</td></tr>",
                            "<tr><td>SEVERIANO MELO / RN</td></tr>",
                            "<tr><td>SEVERINIA / SP</td></tr>",
                            "<tr><td>SIDEROPOLIS / SC</td></tr>",
                            "<tr><td>SIDROLANDIA / MS</td></tr>",
                            "<tr><td>SILVA JARDIM / RJ</td></tr>",
                            "<tr><td>SILVANIA / GO</td></tr>",
                            "<tr><td>SILVANO / MG</td></tr>",
                            "<tr><td>SILVANOPOLIS / TO</td></tr>",
                            "<tr><td>SILVEIRA CARVALHO / MG</td></tr>",
                            "<tr><td>SILVEIRA MARTINS / RS</td></tr>",
                            "<tr><td>SILVEIRAS / SP</td></tr>",
                            "<tr><td>SILVIANOPOLIS / MG</td></tr>",
                            "<tr><td>SIMAO DIAS / SE</td></tr>",
                            "<tr><td>SIMAO PEREIRA / MG</td></tr>",
                            "<tr><td>SIMOES FILHO / BA</td></tr>",
                            "<tr><td>SIMOLANDIA / GO</td></tr>",
                            "<tr><td>SIMONESIA / MG</td></tr>",
                            "<tr><td>SIMPLICIO MENDES / PI</td></tr>",
                            "<tr><td>SINIMBU / RS</td></tr>",
                            "<tr><td>SINOP / MT</td></tr>",
                            "<tr><td>SIQUEIRA CAMPOS / PR</td></tr>",
                            "<tr><td>SIRIJI / PE</td></tr>",
                            "<tr><td>SIRINHAEM / PE</td></tr>",
                            "<tr><td>SITIO DO QUINTO / BA</td></tr>",
                            "<tr><td>SITIO NOVO / MA</td></tr>",
                            "<tr><td>SITIO NOVO / RN</td></tr>",
                            "<tr><td>SITIO NOVO DO TOCANTINS / TO</td></tr>",
                            "<tr><td>SOBRADINHO / BA</td></tr>",
                            "<tr><td>SOBRADINHO / DF</td></tr>",
                            "<tr><td>SOBRADINHO / RS</td></tr>",
                            "<tr><td>SOBRAL / CE</td></tr>",
                            "<tr><td>SOBRALIA / MG</td></tr>",
                            "<tr><td>SOCORRO / SP</td></tr>",
                            "<tr><td>SOLANEA / PB</td></tr>",
                            "<tr><td>SOLEDADE / PB</td></tr>",
                            "<tr><td>SOLEDADE / RS</td></tr>",
                            "<tr><td>SOLEDADE DE MINAS / MG</td></tr>",
                            "<tr><td>SOLONOPOLE / CE</td></tr>",
                            "<tr><td>SOMBRIO / SC</td></tr>",
                            "<tr><td>SONORA / MS</td></tr>",
                            "<tr><td>SOORETAMA / ES</td></tr>",
                            "<tr><td>SOROCABA / SP</td></tr>",
                            "<tr><td>SORRISO / MT</td></tr>",
                            "<tr><td>SOUSA / PB</td></tr>",
                            "<tr><td>SUCESSO / CE</td></tr>",
                            "<tr><td>SUCUPIRA DO NORTE / MA</td></tr>",
                            "<tr><td>SUD MENNUCCI / SP</td></tr>",
                            "<tr><td>SULINA / PR</td></tr>",
                            "<tr><td>SUMARE / SP</td></tr>",
                            "<tr><td>SUME / PB</td></tr>",
                            "<tr><td>SUMIDOURO / RJ</td></tr>",
                            "<tr><td>SURUBIM / PE</td></tr>",
                            "<tr><td>SUZANAPOLIS / SP</td></tr>",
                            "<tr><td>SUZANO / SP</td></tr>",
                            "<tr><td>TABAPORA / MT</td></tr>",
                            "<tr><td>TABAPUA / SP</td></tr>",
                            "<tr><td>TABATINGA / SP</td></tr>",
                            "<tr><td>TABIRA / PE</td></tr>",
                            "<tr><td>TABOAO DA SERRA / SP</td></tr>",
                            "<tr><td>TABOCAS DO BREJO VELHO / BA</td></tr>",
                            "<tr><td>TABOQUINHAS / BA</td></tr>",
                            "<tr><td>TABULEIRO / MG</td></tr>",
                            "<tr><td>TABULEIRO DO NORTE / CE</td></tr>",
                            "<tr><td>TACARATU / PE</td></tr>",
                            "<tr><td>TACIBA / SP</td></tr>",
                            "<tr><td>TACURU / MS</td></tr>",
                            "<tr><td>TAGUAI / SP</td></tr>",
                            "<tr><td>TAGUATINGA / DF</td></tr>",
                            "<tr><td>TAGUATINGA / TO</td></tr>",
                            "<tr><td>TAIACU / SP</td></tr>",
                            "<tr><td>TAILANDIA / PA</td></tr>",
                            "<tr><td>TAIO / SC</td></tr>",
                            "<tr><td>TAIOBEIRAS / MG</td></tr>",
                            "<tr><td>TAIUVA / SP</td></tr>",
                            "<tr><td>TAMANDARE / PE</td></tr>",
                            "<tr><td>TAMARANA / PR</td></tr>",
                            "<tr><td>TAMBAU / SP</td></tr>",
                            "<tr><td>TAMBOARA / PR</td></tr>",
                            "<tr><td>TANABI / SP</td></tr>",
                            "<tr><td>TANGARA / SC</td></tr>",
                            "<tr><td>TANGARA DA SERRA / MT</td></tr>",
                            "<tr><td>TANGUA / RJ</td></tr>",
                            "<tr><td>TANHACU / BA</td></tr>",
                            "<tr><td>TANQUE D'ARCA / AL</td></tr>",
                            "<tr><td>TANQUE NOVO / BA</td></tr>",
                            "<tr><td>TAPARUBA / MG</td></tr>",
                            "<tr><td>TAPEJARA / PR</td></tr>",
                            "<tr><td>TAPEJARA / RS</td></tr>",
                            "<tr><td>TAPERA / RS</td></tr>",
                            "<tr><td>TAPERUABA / CE</td></tr>",
                            "<tr><td>TAPES / RS</td></tr>",
                            "<tr><td>TAPINAS / SP</td></tr>",
                            "<tr><td>TAPIRAI / SP</td></tr>",
                            "<tr><td>TAPIRAMUTA / BA</td></tr>",
                            "<tr><td>TAPIRATIBA / SP</td></tr>",
                            "<tr><td>TAPURAH / MT</td></tr>",
                            "<tr><td>TAQUARA / RS</td></tr>",
                            "<tr><td>TAQUARACU DE MINAS / MG</td></tr>",
                            "<tr><td>TAQUARANA / AL</td></tr>",
                            "<tr><td>TAQUARI / RS</td></tr>",
                            "<tr><td>TAQUARITINGA / SP</td></tr>",
                            "<tr><td>TAQUARITINGA DO NORTE / PE</td></tr>",
                            "<tr><td>TAQUARITUBA / SP</td></tr>",
                            "<tr><td>TAQUARIVAI / SP</td></tr>",
                            "<tr><td>TAQUARUCU DO SUL / RS</td></tr>",
                            "<tr><td>TARABAI / SP</td></tr>",
                            "<tr><td>TARUMA / SP</td></tr>",
                            "<tr><td>TARUMIRIM / MG</td></tr>",
                            "<tr><td>TATUI / SP</td></tr>",
                            "<tr><td>TAUA / CE</td></tr>",
                            "<tr><td>TAUBATE / SP</td></tr>",
                            "<tr><td>TAVARES / RS</td></tr>",
                            "<tr><td>TECAINDA / SP</td></tr>",
                            "<tr><td>TEIXEIRA / PB</td></tr>",
                            "<tr><td>TEIXEIRA DE FREITAS / BA</td></tr>",
                            "<tr><td>TEIXEIRA SOARES / PR</td></tr>",
                            "<tr><td>TEIXEIRAS / MG</td></tr>",
                            "<tr><td>TEJUPA / SP</td></tr>",
                            "<tr><td>TELEMACO BORBA / PR</td></tr>",
                            "<tr><td>TELHA / SE</td></tr>",
                            "<tr><td>TENENTE ANANIAS / RN</td></tr>",
                            "<tr><td>TENENTE PORTELA / RS</td></tr>",
                            "<tr><td>TEODORO SAMPAIO / BA</td></tr>",
                            "<tr><td>TEODORO SAMPAIO / SP</td></tr>",
                            "<tr><td>TEOFILANDIA / BA</td></tr>",
                            "<tr><td>TEOFILO OTONI / MG</td></tr>",
                            "<tr><td>TEOLANDIA / BA</td></tr>",
                            "<tr><td>TEOTONIO VILELA / AL</td></tr>",
                            "<tr><td>TERENOS / MS</td></tr>",
                            "<tr><td>TERESINA / PI</td></tr>",
                            "<tr><td>TERESINA DE GOIAS / GO</td></tr>",
                            "<tr><td>TERESOPOLIS / RJ</td></tr>",
                            "<tr><td>TEREZINHA / PE</td></tr>",
                            "<tr><td>TERMAS DE IBIRA / SP</td></tr>",
                            "<tr><td>TERRA BOA / PR</td></tr>",
                            "<tr><td>TERRA DE AREIA / RS</td></tr>",
                            "<tr><td>TERRA NOVA / PE</td></tr>",
                            "<tr><td>TERRA NOVA DO NORTE / MT</td></tr>",
                            "<tr><td>TERRA RICA / PR</td></tr>",
                            "<tr><td>TERRA ROXA / PR</td></tr>",
                            "<tr><td>TERRA ROXA / SP</td></tr>",
                            "<tr><td>TEUTONIA / RS</td></tr>",
                            "<tr><td>TIANGUA / CE</td></tr>",
                            "<tr><td>TIBAGI / PR</td></tr>",
                            "<tr><td>TIBAU DO SUL / RN</td></tr>",
                            "<tr><td>TIETE / SP</td></tr>",
                            "<tr><td>TIJUCAS / SC</td></tr>",
                            "<tr><td>TIMBAUBA / PE</td></tr>",
                            "<tr><td>TIMBE DO SUL / SC</td></tr>",
                            "<tr><td>TIMBO / SC</td></tr>",
                            "<tr><td>TIMBURI / SP</td></tr>",
                            "<tr><td>TIMON / MA</td></tr>",
                            "<tr><td>TIMOTEO / MG</td></tr>",
                            "<tr><td>TIRADENTES / MG</td></tr>",
                            "<tr><td>TIRADENTES DO SUL / RS</td></tr>",
                            "<tr><td>TIROS / MG</td></tr>",
                            "<tr><td>TOBIAS BARRETO / SE</td></tr>",
                            "<tr><td>TOCANTINOPOLIS / TO</td></tr>",
                            "<tr><td>TOCANTINS / MG</td></tr>",
                            "<tr><td>TOCOS / RJ</td></tr>",
                            "<tr><td>TOCOS DO MOJI / MG</td></tr>",
                            "<tr><td>TOLEDO / PR</td></tr>",
                            "<tr><td>TOMAR DO GERU / SE</td></tr>",
                            "<tr><td>TOMAZINA / PR</td></tr>",
                            "<tr><td>TOMBOS / MG</td></tr>",
                            "<tr><td>TOME-ACU / PA</td></tr>",
                            "<tr><td>TORITAMA / PE</td></tr>",
                            "<tr><td>TOROPI / RS</td></tr>",
                            "<tr><td>TORRES / RS</td></tr>",
                            "<tr><td>TORRINHA / SP</td></tr>",
                            "<tr><td>TRABIJU / SP</td></tr>",
                            "<tr><td>TRACUATEUA / PA</td></tr>",
                            "<tr><td>TRACUNHAEM / PE</td></tr>",
                            "<tr><td>TRAIPU / AL</td></tr>",
                            "<tr><td>TRAIRI / CE</td></tr>",
                            "<tr><td>TRAJANO DE MORAES / RJ</td></tr>",
                            "<tr><td>TRAMANDAI / RS</td></tr>",
                            "<tr><td>TRANCOSO / BA</td></tr>",
                            "<tr><td>TRAVESSAO / RJ</td></tr>",
                            "<tr><td>TRAVESSEIRO / RS</td></tr>",
                            "<tr><td>TREMEMBE / SP</td></tr>",
                            "<tr><td>TRES ARROIOS / RS</td></tr>",
                            "<tr><td>TRES BARRAS / SC</td></tr>",
                            "<tr><td>TRES CACHOEIRAS / RS</td></tr>",
                            "<tr><td>TRES CORACOES / MG</td></tr>",
                            "<tr><td>TRES COROAS / RS</td></tr>",
                            "<tr><td>TRES DE MAIO / RS</td></tr>",
                            "<tr><td>TRES FORQUILHAS / RS</td></tr>",
                            "<tr><td>TRES FRONTEIRAS / SP</td></tr>",
                            "<tr><td>TRES IRMAOS / RJ</td></tr>",
                            "<tr><td>TRES LAGOAS / MS</td></tr>",
                            "<tr><td>TRES MARIAS / MG</td></tr>",
                            "<tr><td>TRES PASSOS / RS</td></tr>",
                            "<tr><td>TRES PONTAS / MG</td></tr>",
                            "<tr><td>TRES RIOS / RJ</td></tr>",
                            "<tr><td>TREVISO / SC</td></tr>",
                            "<tr><td>TREZE TILIAS / SC</td></tr>",
                            "<tr><td>TRINDADE / GO</td></tr>",
                            "<tr><td>TRINDADE / PE</td></tr>",
                            "<tr><td>TRINDADE DO SUL / RS</td></tr>",
                            "<tr><td>TRIUNFO / PB</td></tr>",
                            "<tr><td>TRIUNFO / PE</td></tr>",
                            "<tr><td>TRIUNFO / RS</td></tr>",
                            "<tr><td>TROMBAS / GO</td></tr>",
                            "<tr><td>TROMBUDO CENTRAL / SC</td></tr>",
                            "<tr><td>TUBARAO / SC</td></tr>",
                            "<tr><td>TUCANO / BA</td></tr>",
                            "<tr><td>TUCUMA / PA</td></tr>",
                            "<tr><td>TUCUNDUVA / RS</td></tr>",
                            "<tr><td>TUCURUI / PA</td></tr>",
                            "<tr><td>TUIUTI / SP</td></tr>",
                            "<tr><td>TUMIRITINGA / MG</td></tr>",
                            "<tr><td>TUNAPOLIS / SC</td></tr>",
                            "<tr><td>TUNAS DO PARANA / PR</td></tr>",
                            "<tr><td>TUPA / SP</td></tr>",
                            "<tr><td>TUPACIGUARA / MG</td></tr>",
                            "<tr><td>TUPANCIRETA / RS</td></tr>",
                            "<tr><td>TUPANDI / RS</td></tr>",
                            "<tr><td>TUPARECE / MG</td></tr>",
                            "<tr><td>TUPARENDI / RS</td></tr>",
                            "<tr><td>TUPARETAMA / PE</td></tr>",
                            "<tr><td>TUPASSI / PR</td></tr>",
                            "<tr><td>TUPI PAULISTA / SP</td></tr>",
                            "<tr><td>TURMALINA / MG</td></tr>",
                            "<tr><td>TURMALINA / SP</td></tr>",
                            "<tr><td>TURURU / CE</td></tr>",
                            "<tr><td>TURVANIA / GO</td></tr>",
                            "<tr><td>TURVELANDIA / GO</td></tr>",
                            "<tr><td>TURVO / PR</td></tr>",
                            "<tr><td>TURVO / SC</td></tr>",
                            "<tr><td>TURVOLANDIA / MG</td></tr>",
                            "<tr><td>TUTOIA / MA</td></tr>",
                            "<tr><td>UAUA / BA</td></tr>",
                            "<tr><td>UBA / MG</td></tr>",
                            "<tr><td>UBAI / MG</td></tr>",
                            "<tr><td>UBAIRA / BA</td></tr>",
                            "<tr><td>UBAITABA / BA</td></tr>",
                            "<tr><td>UBAJARA / CE</td></tr>",
                            "<tr><td>UBAPORANGA / MG</td></tr>",
                            "<tr><td>UBATA / BA</td></tr>",
                            "<tr><td>UBATUBA / SP</td></tr>",
                            "<tr><td>UBERABA / MG</td></tr>",
                            "<tr><td>UBERLANDIA / MG</td></tr>",
                            "<tr><td>UBIRAJARA / SP</td></tr>",
                            "<tr><td>UBIRATA / PR</td></tr>",
                            "<tr><td>UCHOA / SP</td></tr>",
                            "<tr><td>UIBAI / BA</td></tr>",
                            "<tr><td>UIRAUNA / PB</td></tr>",
                            "<tr><td>ULIANOPOLIS / PA</td></tr>",
                            "<tr><td>UMBAUBA / SE</td></tr>",
                            "<tr><td>UMBURANAS / BA</td></tr>",
                            "<tr><td>UMBURATIBA / MG</td></tr>",
                            "<tr><td>UMUARAMA / PR</td></tr>",
                            "<tr><td>UNA / BA</td></tr>",
                            "<tr><td>UNAI / MG</td></tr>",
                            "<tr><td>UNIAO / PI</td></tr>",
                            "<tr><td>UNIAO DA SERRA / RS</td></tr>",
                            "<tr><td>UNIAO DA VITORIA / PR</td></tr>",
                            "<tr><td>UNIAO DE MINAS / MG</td></tr>",
                            "<tr><td>UNIAO DO OESTE / SC</td></tr>",
                            "<tr><td>UNIAO DO SUL / MT</td></tr>",
                            "<tr><td>UNIAO DOS PALMARES / AL</td></tr>",
                            "<tr><td>UNISTALDA / RS</td></tr>",
                            "<tr><td>UPANEMA / RN</td></tr>",
                            "<tr><td>URAI / PR</td></tr>",
                            "<tr><td>URANDI / BA</td></tr>",
                            "<tr><td>URANIA / SP</td></tr>",
                            "<tr><td>URBANO SANTOS / MA</td></tr>",
                            "<tr><td>URUACU / GO</td></tr>",
                            "<tr><td>URUANA / GO</td></tr>",
                            "<tr><td>URUANA DE MINAS / MG</td></tr>",
                            "<tr><td>URUARA / PA</td></tr>",
                            "<tr><td>URUBICI / SC</td></tr>",
                            "<tr><td>URUBURETAMA / CE</td></tr>",
                            "<tr><td>URUCANIA / MG</td></tr>",
                            "<tr><td>URUCUCA / BA</td></tr>",
                            "<tr><td>URUCUI / PI</td></tr>",
                            "<tr><td>URUCUIA / MG</td></tr>",
                            "<tr><td>URUCURITUBA / AM</td></tr>",
                            "<tr><td>URUGUAIANA / RS</td></tr>",
                            "<tr><td>URUOCA / CE</td></tr>",
                            "<tr><td>URUPA / RO</td></tr>",
                            "<tr><td>URUPES / SP</td></tr>",
                            "<tr><td>URUSSANGA / SC</td></tr>",
                            "<tr><td>URUTAI / GO</td></tr>",
                            "<tr><td>UTINGA / BA</td></tr>",
                            "<tr><td>VACARIA / RS</td></tr>",
                            "<tr><td>VALAO DO BARRO / RJ</td></tr>",
                            "<tr><td>VALE DO SOL / RS</td></tr>",
                            "<tr><td>VALE REAL / RS</td></tr>",
                            "<tr><td>VALENCA / BA</td></tr>",
                            "<tr><td>VALENCA / RJ</td></tr>",
                            "<tr><td>VALENCA DO PIAUI / PI</td></tr>",
                            "<tr><td>VALENTE / BA</td></tr>",
                            "<tr><td>VALENTIM GENTIL / SP</td></tr>",
                            "<tr><td>VALINHOS / SP</td></tr>",
                            "<tr><td>VALPARAISO / SP</td></tr>",
                            "<tr><td>VALPARAISO DE GOIAS / GO</td></tr>",
                            "<tr><td>VANINI / RS</td></tr>",
                            "<tr><td>VARGEAO / SC</td></tr>",
                            "<tr><td>VARGEM / SP</td></tr>",
                            "<tr><td>VARGEM ALEGRE / MG</td></tr>",
                            "<tr><td>VARGEM ALEGRE / RJ</td></tr>",
                            "<tr><td>VARGEM ALTA / ES</td></tr>",
                            "<tr><td>VARGEM BONITA / SC</td></tr>",
                            "<tr><td>VARGEM GRANDE / MA</td></tr>",
                            "<tr><td>VARGEM GRANDE DO RIO PARDO / MG</td></tr>",
                            "<tr><td>VARGEM GRANDE DO SOTURNO / ES</td></tr>",
                            "<tr><td>VARGEM GRANDE DO SUL / SP</td></tr>",
                            "<tr><td>VARGEM GRANDE PAULISTA / SP</td></tr>",
                            "<tr><td>VARGINHA / MG</td></tr>",
                            "<tr><td>VARJAO DE MINAS / MG</td></tr>",
                            "<tr><td>VARJOTA / CE</td></tr>",
                            "<tr><td>VARRE-SAI / RJ</td></tr>",
                            "<tr><td>VARZEA / PB</td></tr>",
                            "<tr><td>VARZEA ALEGRE / CE</td></tr>",
                            "<tr><td>VARZEA DA PALMA / MG</td></tr>",
                            "<tr><td>VARZEA DO POCO / BA</td></tr>",
                            "<tr><td>VARZEA GRANDE / MT</td></tr>",
                            "<tr><td>VARZEA GRANDE / PI</td></tr>",
                            "<tr><td>VARZEA NOVA / BA</td></tr>",
                            "<tr><td>VARZEA PAULISTA / SP</td></tr>",
                            "<tr><td>VARZEDO / BA</td></tr>",
                            "<tr><td>VARZELANDIA / MG</td></tr>",
                            "<tr><td>VASSOURAS / RJ</td></tr>",
                            "<tr><td>VAZANTE / MG</td></tr>",
                            "<tr><td>VENANCIO AIRES / RS</td></tr>",
                            "<tr><td>VENDA BRANCA / SP</td></tr>",
                            "<tr><td>VENDA NOVA DO IMIGRANTE / ES</td></tr>",
                            "<tr><td>VENTANIA / PR</td></tr>",
                            "<tr><td>VENTUROSA / PE</td></tr>",
                            "<tr><td>VERA / MT</td></tr>",
                            "<tr><td>VERA CRUZ / BA</td></tr>",
                            "<tr><td>VERA CRUZ / RN</td></tr>",
                            "<tr><td>VERA CRUZ / RS</td></tr>",
                            "<tr><td>VERA CRUZ / SP</td></tr>",
                            "<tr><td>VERA CRUZ DO OESTE / PR</td></tr>",
                            "<tr><td>VERANOPOLIS / RS</td></tr>",
                            "<tr><td>VERE / PR</td></tr>",
                            "<tr><td>VEREDA / BA</td></tr>",
                            "<tr><td>VERISSIMO / MG</td></tr>",
                            "<tr><td>VERMELHO / MG</td></tr>",
                            "<tr><td>VERMELHO NOVO / MG</td></tr>",
                            "<tr><td>VERTENTES / PE</td></tr>",
                            "<tr><td>VESPASIANO / MG</td></tr>",
                            "<tr><td>VESPASIANO CORREA / RS</td></tr>",
                            "<tr><td>VIAMAO / RS</td></tr>",
                            "<tr><td>VIANA / ES</td></tr>",
                            "<tr><td>VIANA / MA</td></tr>",
                            "<tr><td>VIANOPOLIS / GO</td></tr>",
                            "<tr><td>VICENCIA / PE</td></tr>",
                            "<tr><td>VICENTE DUTRA / RS</td></tr>",
                            "<tr><td>VICENTINA / MS</td></tr>",
                            "<tr><td>VICENTINOPOLIS / GO</td></tr>",
                            "<tr><td>VICOSA / AL</td></tr>",
                            "<tr><td>VICOSA / MG</td></tr>",
                            "<tr><td>VICOSA / RN</td></tr>",
                            "<tr><td>VICOSA DO CEARA / CE</td></tr>",
                            "<tr><td>VICTOR GRAEFF / RS</td></tr>",
                            "<tr><td>VIDEIRA / SC</td></tr>",
                            "<tr><td>VIEIRAS / MG</td></tr>",
                            "<tr><td>VIGIA / PA</td></tr>",
                            "<tr><td>VILA BELA DA SANTISSIMA TRINDADE / MT</td></tr>",
                            "<tr><td>VILA DOS CABANOS / PA</td></tr>",
                            "<tr><td>VILA FLOR / RN</td></tr>",
                            "<tr><td>VILA FLORES / RS</td></tr>",
                            "<tr><td>VILA LANGARO / RS</td></tr>",
                            "<tr><td>VILA MURIQUI / RJ</td></tr>",
                            "<tr><td>VILA NELITA / ES</td></tr>",
                            "<tr><td>VILA NOVA / PR</td></tr>",
                            "<tr><td>VILA NOVA DO SUL / RS</td></tr>",
                            "<tr><td>VILA PEREIRA / MG</td></tr>",
                            "<tr><td>VILA REIS / PR</td></tr>",
                            "<tr><td>VILA RICA / MT</td></tr>",
                            "<tr><td>VILA VALERIO / ES</td></tr>",
                            "<tr><td>VILA VELHA / ES</td></tr>",
                            "<tr><td>VILHENA / RO</td></tr>",
                            "<tr><td>VINHEDO / SP</td></tr>",
                            "<tr><td>VIRADOURO / SP</td></tr>",
                            "<tr><td>VIRGEM DA LAPA / MG</td></tr>",
                            "<tr><td>VIRGINIA / MG</td></tr>",
                            "<tr><td>VIRGINOPOLIS / MG</td></tr>",
                            "<tr><td>VIRGOLANDIA / MG</td></tr>",
                            "<tr><td>VISCONDE DE MAUA / RJ</td></tr>",
                            "<tr><td>VISCONDE DO RIO BRANCO / MG</td></tr>",
                            "<tr><td>VISEU / PA</td></tr>",
                            "<tr><td>VISTA ALEGRE / RS</td></tr>",
                            "<tr><td>VISTA ALEGRE DO ALTO / SP</td></tr>",
                            "<tr><td>VITORIA / ES</td></tr>",
                            "<tr><td>VITORIA / PR</td></tr>",
                            "<tr><td>VITORIA DA CONQUISTA / BA</td></tr>",
                            "<tr><td>VITORIA DAS MISSOES / RS</td></tr>",
                            "<tr><td>VITORIA DE SANTO ANTAO / PE</td></tr>",
                            "<tr><td>VITORIA DO JARI / AP</td></tr>",
                            "<tr><td>VITORIA DO MEARIM / MA</td></tr>",
                            "<tr><td>VITORINO / PR</td></tr>",
                            "<tr><td>VITORINO FREIRE / MA</td></tr>",
                            "<tr><td>VITORINOS / MG</td></tr>",
                            "<tr><td>VOLTA GRANDE / MG</td></tr>",
                            "<tr><td>VOLTA REDONDA / RJ</td></tr>",
                            "<tr><td>VOTORANTIM / SP</td></tr>",
                            "<tr><td>VOTUPORANGA / SP</td></tr>",
                            "<tr><td>WAGNER / BA</td></tr>",
                            "<tr><td>WANDERLEY / BA</td></tr>",
                            "<tr><td>WENCESLAU BRAZ / PR</td></tr>",
                            "<tr><td>WENCESLAU GUIMARAES / BA</td></tr>",
                            "<tr><td>WERNECK / RJ</td></tr>",
                            "<tr><td>WITMARSUM / SC</td></tr>",
                            "<tr><td>XAMBIOA / TO</td></tr>",
                            "<tr><td>XAMBRE / PR</td></tr>",
                            "<tr><td>XANGRI-LA / RS</td></tr>",
                            "<tr><td>XANXERE / SC</td></tr>",
                            "<tr><td>XAPURI / AC</td></tr>",
                            "<tr><td>XAVANTINA / SC</td></tr>",
                            "<tr><td>XAXIM / SC</td></tr>",
                            "<tr><td>XEXEU / PE</td></tr>",
                            "<tr><td>XINGUARA / PA</td></tr>",
                            "<tr><td>XIQUE-XIQUE / BA</td></tr>",
                            "<tr><td>ZACARIAS / SP</td></tr>",
                            "<tr><td>ZE DOCA / MA</td></tr>",
                            "<tr><td>ZORTEA / SC</td></tr>",
                            "</table>"
                        ]
                    }
                }
            ],
            "execution_count": 6
        }
    ]
}